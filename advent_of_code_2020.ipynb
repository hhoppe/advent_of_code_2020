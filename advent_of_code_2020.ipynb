{
  "nbformat": 4,
  "nbformat_minor": 0,
  "metadata": {
    "colab": {
      "name": "advent_of_code_2020.ipynb",
      "provenance": [],
      "collapsed_sections": [],
      "toc_visible": true,
      "include_colab_link": true
    },
    "kernelspec": {
      "name": "python3",
      "display_name": "Python 3"
    }
  },
  "cells": [
    {
      "cell_type": "markdown",
      "metadata": {
        "id": "view-in-github",
        "colab_type": "text"
      },
      "source": [
        "<a href=\"https://colab.research.google.com/github/hhoppe/advent_of_code_2020/blob/main/advent_of_code_2020.ipynb\" target=\"_parent\"><img src=\"https://colab.research.google.com/assets/colab-badge.svg\" alt=\"Open In Colab\"/></a>"
      ]
    },
    {
      "cell_type": "markdown",
      "metadata": {
        "id": "WXIjO0fEzNYw"
      },
      "source": [
        "<a name=\"top\"></a>\n",
        "# Advent of code 2020\n",
        "\n",
        "[[**Open the notebook in Colab**]](https://colab.research.google.com/github/hhoppe/advent_of_code_2020/blob/main/advent_of_code_2020.ipynb)\n",
        "\n",
        "IPython/Jupyter [notebook](https://github.com/hhoppe/advent_of_code_2020/blob/main/advent_of_code_2020.ipynb) by [Hugues Hoppe](http://hhoppe.com/); December 2020.\n",
        "\n",
        "I participated in the 25-day [Advent of Code](https://adventofcode.com/) for the first time this year, thanks to encouragement from colleagues, especially [Sascha Häberling](https://github.com/shaeberling).  It was great fun and provided a nice opportunity to learn more advanced Python.\n",
        "\n",
        "In the event, many people compete to solve the puzzles as quickly as possible --- see the impressive times on the [leaderboard](https://adventofcode.com/2020/leaderboard).\n",
        "My approach was much more casual, although I did aim to finish the puzzle each evening.\n",
        "\n",
        "Later, I went back to explore more **polished and efficient solutions**.\n",
        "Can the code be expressed more succinctly?\n",
        "What is the fastest algorithm given the constraints of interpreted Python?\n",
        "Along the way, I discovered the [`numba`](https://numba.pydata.org/) package which can JIT-compile bottleneck functions to native code;\n",
        "is it practical for these problems?  Yes, it can help greatly!\n",
        "\n",
        "This notebook is organized such that each day is self-contained and can be run on its own after the preamble.\n",
        "\n",
        "- The [**preamble**](#preamble) readies the inputs and answers for the puzzles.  No custom shortcut functions are introduced (other than `check_eq`) so the puzzle code solutions are easily recognizable.\n",
        "\n",
        "- For **each day**, the first notebook cell defines a `puzzle` object:\n",
        "\n",
        "  ```\n",
        "    puzzle = advent.puzzle(day=1)\n",
        "  ```\n",
        "  The puzzle input string is automatically read into the attribute `puzzle.input`.\n",
        "  This input string is unique to each Advent participant.\n",
        "  By default, the notebook uses [my input data](https://github.com/hhoppe/advent_of_code_2020/tree/main/data) stored on GitHub,\n",
        "  but the variable `INPUT_PATH_OR_URL_FORMAT` can refer to any URL or\n",
        "  local file.\n",
        "  Simlarly, the reference answer to each puzzle part is read using `ANSWER_PATH_OR_URL_FORMAT`.\n",
        "\n",
        "  Alternatively, we read each puzzle input and answers directly from adventofcode.com using a session cookie and the `advent-of-code-data` PyPI package.\n",
        "\n",
        "  For each of the two puzzle parts, a function (e.g. `process1`) takes an input string and returns a string or integer answer.\n",
        "  Using calls like the following, we time the execution of each function and verify the answers:\n",
        "  ```\n",
        "    puzzle.verify(part=1, func=process1)\n",
        "    puzzle.verify(part=2, func=process2)\n",
        "  ```\n",
        "\n",
        "- At the end of the notebook, a table summarizes [**timing**](#timings) results.\n",
        "\n",
        "Some **conclusions**:\n",
        "\n",
        "- A Jupyter/IPython notebook is a great environment for exploration.\n",
        "- The notebook conveniently bundles descriptions, notes, code, small test inputs, and results.\n",
        "- Initially I stored puzzle inputs within the notebook itself, but this introduces clutter and runs inefficiently.\n",
        "- The cloud-based CPU kernel/runtime provided by Colab works nicely.\n",
        "- With the [`numba`](https://numba.pydata.org/) library (for days [11](#day11), [15](#day15), and [23](#day23)), all of this year's puzzles can be solved in 1 second or less.\n",
        "- Remarkably, the total execution time across all 25 puzzles is under 4 s."
      ]
    },
    {
      "cell_type": "markdown",
      "metadata": {
        "id": "BDeORtzZKKfw"
      },
      "source": [
        "<a name=\"preamble\"></a>\n",
        "## Preamble"
      ]
    },
    {
      "cell_type": "code",
      "metadata": {
        "id": "5AZqiPj7nsDm"
      },
      "source": [
        "!pip install -q advent-of-code-hhoppe mediapy"
      ],
      "execution_count": 1,
      "outputs": []
    },
    {
      "cell_type": "code",
      "metadata": {
        "id": "0ICHbv69nsDn"
      },
      "source": [
        "import bisect\n",
        "import collections\n",
        "import dataclasses\n",
        "import functools\n",
        "import itertools\n",
        "import math\n",
        "import operator\n",
        "import pprint\n",
        "import re\n",
        "import textwrap\n",
        "from typing import Any, Callable, Dict, List\n",
        "from typing import Optional, Set, Tuple, Union\n",
        "\n",
        "import advent_of_code_hhoppe\n",
        "import mediapy as media\n",
        "import numpy as np"
      ],
      "execution_count": 2,
      "outputs": []
    },
    {
      "cell_type": "code",
      "metadata": {
        "id": "TlRF9vEFPOK8"
      },
      "source": [
        "YEAR = 2020"
      ],
      "execution_count": 3,
      "outputs": []
    },
    {
      "cell_type": "code",
      "metadata": {
        "id": "ipZkTdpHnsDn"
      },
      "source": [
        "# (1) To obtain puzzle inputs and answers, we first try these paths/URLs:\n",
        "PROFILE = 'google.Hugues_Hoppe.965276'\n",
        "# PROFILE = 'github.hhoppe.1452460'\n",
        "ZIP_URL = f'https://github.com/hhoppe/advent_of_code_{YEAR}/raw/main/data/{PROFILE}.zip'\n",
        "!if [[ ! -d {PROFILE} ]]; then wget -q {ZIP_URL} && unzip -q {PROFILE}; fi\n",
        "INPUT_URL = f'{PROFILE}/{{year}}_{{day:02d}}_input.txt'\n",
        "ANSWER_URL = f'{PROFILE}/{{year}}_{{day:02d}}{{part_letter}}_answer.txt'"
      ],
      "execution_count": 4,
      "outputs": []
    },
    {
      "cell_type": "code",
      "metadata": {
        "id": "PaaZaNmtnsDn"
      },
      "source": [
        "# (2) If URL not found, we may try adventofcode.com using a session cookie:\n",
        "if 0:\n",
        "  # See https://github.com/wimglenn/advent-of-code-data.\n",
        "  !rm -f ~/.config/aocd/token*\n",
        "  # Fill-in the session cookie in the following:\n",
        "  !if [ '{PROFILE}' == 'google.Hugues_Hoppe.965276' ]; then mkdir -p ~/.config/aocd && echo 53616... >~/.config/aocd/token; fi\n",
        "  !if [ '{PROFILE}' == 'github.hhoppe.1452460' ]; then mkdir -p ~/.config/aocd; echo 53616... >~/.config/aocd/token; fi\n",
        "  !pip install -q advent-of-code-data\n",
        "  import aocd"
      ],
      "execution_count": 5,
      "outputs": []
    },
    {
      "cell_type": "code",
      "metadata": {
        "id": "JZvZB7aCnsDo"
      },
      "source": [
        "try:\n",
        "  import numba\n",
        "  using_numba = True\n",
        "  numba_njit = numba.njit\n",
        "except ModuleNotFoundError:\n",
        "  print('numba unavailable')\n",
        "  using_numba = False\n",
        "  def noop_decorator(*args: Any, **kwargs: Any) -> Any:\n",
        "    \"\"\"Function decorator that ignores any arguments and does nothing.\"\"\"\n",
        "    return (args[0] if len(args) == 1 and callable(args[0]) and not kwargs\n",
        "            else noop_decorator)\n",
        "  numba_njit = noop_decorator"
      ],
      "execution_count": 6,
      "outputs": []
    },
    {
      "cell_type": "code",
      "source": [
        "advent = advent_of_code_hhoppe.Advent(\n",
        "    year=YEAR, input_url=INPUT_URL, answer_url=ANSWER_URL)"
      ],
      "metadata": {
        "id": "pqmybFU47WOK"
      },
      "execution_count": 7,
      "outputs": []
    },
    {
      "cell_type": "markdown",
      "source": [
        "### Helper functions"
      ],
      "metadata": {
        "id": "ajhE2hfz6ovp"
      }
    },
    {
      "cell_type": "code",
      "metadata": {
        "id": "6M3KdXtHK9Tn"
      },
      "source": [
        "def check_eq(a: Any, b: Any) -> None:\n",
        "  if np.any(a != b):\n",
        "    raise AssertionError(f'{a!r} == {b!r}')"
      ],
      "execution_count": 8,
      "outputs": []
    },
    {
      "cell_type": "code",
      "source": [
        "def grid_from_string(s, int_from_ch=None, dtype=int):\n",
        "  grid = np.array([list(line) for line in s.strip('\\n').split('\\n')])\n",
        "  if int_from_ch:\n",
        "    lookup = np.zeros(256, dtype=dtype)\n",
        "    for ch, value in int_from_ch.items():\n",
        "      lookup[ord(ch)] = value\n",
        "    grid = lookup[grid.view(np.int32)]\n",
        "  return grid"
      ],
      "metadata": {
        "id": "2_53X8wA76U5"
      },
      "execution_count": 9,
      "outputs": []
    },
    {
      "cell_type": "code",
      "metadata": {
        "id": "z9mhwR3aVJdf"
      },
      "source": [
        "def grid_from_indices(indices, background=0, foreground=1, indices_min=None,\n",
        "                      indices_max=None, pad=0, dtype=None) -> np.ndarray:\n",
        "  indices = np.asarray(indices)\n",
        "  assert indices.ndim == 2 and np.issubdtype(indices.dtype, np.integer)\n",
        "\n",
        "  def get_min_or_max_bound(f, x) -> np.ndarray:\n",
        "    return f(indices, axis=0) if x is None else np.full(indices.shape[1], x)\n",
        "\n",
        "  i_min = get_min_or_max_bound(np.min, indices_min)\n",
        "  i_max = get_min_or_max_bound(np.max, indices_max)\n",
        "  a_pad = np.asarray(pad)\n",
        "  shape = i_max - i_min + 2 * a_pad + 1\n",
        "  offset = -i_min + a_pad\n",
        "  grid = np.full(shape, background, dtype=dtype)\n",
        "  indices += offset\n",
        "  grid[tuple(np.moveaxis(indices, -1, 0))] = foreground\n",
        "  return grid"
      ],
      "execution_count": 10,
      "outputs": []
    },
    {
      "cell_type": "markdown",
      "metadata": {
        "id": "BjAmIcq7zm2O"
      },
      "source": [
        "<a name=\"day1\"></a>\n",
        "## Day 1: Find summing numbers"
      ]
    },
    {
      "cell_type": "markdown",
      "metadata": {
        "id": "rqUsuqjsVE4g"
      },
      "source": [
        "- Part 1: Given a list of numbers, find two entries that sum to 2020 and multiply those entries together.\n",
        "\n",
        "- Part 2: Find three entries that sum to 2020 and multiply those entries together."
      ]
    },
    {
      "cell_type": "code",
      "metadata": {
        "id": "o-Ye0TCN-bUe",
        "colab": {
          "base_uri": "https://localhost:8080/",
          "height": 302
        },
        "outputId": "307b1db6-6560-4044-a231-e970a61861a6"
      },
      "source": [
        "puzzle = advent.puzzle(day=1)"
      ],
      "execution_count": 11,
      "outputs": [
        {
          "output_type": "display_data",
          "data": {
            "text/markdown": "For [day 1](https://adventofcode.com/2020/day/1), `puzzle.input` has 200 lines:",
            "text/plain": [
              "<IPython.core.display.Markdown object>"
            ]
          },
          "metadata": {}
        },
        {
          "output_type": "stream",
          "name": "stdout",
          "text": [
            "1686\n",
            "1983\n",
            "1801\n",
            "1890\n",
            "1910\n",
            "1722\n",
            "1571\n",
            "1952\n",
            " ...\n",
            "1261\n",
            "1154\n",
            "1769\n",
            "1529\n"
          ]
        },
        {
          "output_type": "display_data",
          "data": {
            "text/markdown": "The stored answers are: `{1: '651651', 2: '214486272'}`",
            "text/plain": [
              "<IPython.core.display.Markdown object>"
            ]
          },
          "metadata": {}
        }
      ]
    },
    {
      "cell_type": "code",
      "metadata": {
        "id": "S1D3RERUA72h"
      },
      "source": [
        "# A test input provided in the puzzle description:\n",
        "s1 = \"\"\"\n",
        "1721\n",
        "979\n",
        "366\n",
        "299\n",
        "675\n",
        "1456\n",
        "\"\"\""
      ],
      "execution_count": 12,
      "outputs": []
    },
    {
      "cell_type": "code",
      "metadata": {
        "colab": {
          "base_uri": "https://localhost:8080/"
        },
        "id": "eeU02C1oVPjW",
        "outputId": "b2f8ad03-20fb-4234-fde8-554cc35f8a92"
      },
      "source": [
        "def process1(s, total=2020):\n",
        "  entries = set(map(int, s.split()))\n",
        "  for a in entries:\n",
        "    b = total - a\n",
        "    if b in entries:\n",
        "      return a * b\n",
        "  return None\n",
        "\n",
        "\n",
        "check_eq(process1(s1), 514579)  # Reference answer provided in the description.\n",
        "puzzle.verify(1, process1)"
      ],
      "execution_count": 13,
      "outputs": [
        {
          "output_type": "stream",
          "name": "stdout",
          "text": [
            "(Part 1: 0.000 s)\n"
          ]
        }
      ]
    },
    {
      "cell_type": "code",
      "metadata": {
        "id": "2CNF3uj6_P7c",
        "colab": {
          "base_uri": "https://localhost:8080/"
        },
        "outputId": "c6757e1f-de0e-41d3-aca8-f677a2863358"
      },
      "source": [
        "def process2(s, total=2020):\n",
        "  entries = set(map(int, s.split()))\n",
        "  for a in entries:\n",
        "    for b in entries:\n",
        "      c = total - a - b\n",
        "      if c in entries:\n",
        "        return a * b * c\n",
        "  return None\n",
        "\n",
        "\n",
        "check_eq(process2(s1), 241861950)\n",
        "puzzle.verify(2, process2)"
      ],
      "execution_count": 14,
      "outputs": [
        {
          "output_type": "stream",
          "name": "stdout",
          "text": [
            "(Part 2: 0.002 s)\n"
          ]
        }
      ]
    },
    {
      "cell_type": "markdown",
      "metadata": {
        "id": "RoUuAFCFAOXZ"
      },
      "source": [
        "<a name=\"day2\"></a>\n",
        "## Day 2: Valid passwords"
      ]
    },
    {
      "cell_type": "markdown",
      "metadata": {
        "id": "4g5RVk2fVn19"
      },
      "source": [
        "Given input lines each containing a password rule (`i-j c`) and a password, count the number of \"valid\" passwords such that:\n",
        "\n",
        "- Part 1: The number of instances of character `c` in the password is in the range `[i, j]`.\n",
        "\n",
        "- Part 2: The password characters at positions `i` and `j` contain exactly one instance of character `c`."
      ]
    },
    {
      "cell_type": "code",
      "metadata": {
        "id": "AXoT9cob5y51",
        "colab": {
          "base_uri": "https://localhost:8080/",
          "height": 302
        },
        "outputId": "0167f19c-8dcf-4e63-b698-1c343d2e7e4f"
      },
      "source": [
        "puzzle = advent.puzzle(day=2)"
      ],
      "execution_count": 15,
      "outputs": [
        {
          "output_type": "display_data",
          "data": {
            "text/markdown": "For [day 2](https://adventofcode.com/2020/day/2), `puzzle.input` has 1000 lines:",
            "text/plain": [
              "<IPython.core.display.Markdown object>"
            ]
          },
          "metadata": {}
        },
        {
          "output_type": "stream",
          "name": "stdout",
          "text": [
            "4-7 z: zzzfzlzzz\n",
            "3-4 l: blllk\n",
            "8-11 j: jjjjjjjgjjjj\n",
            "6-7 l: lllhlbl\n",
            "10-13 x: xmhfsbjxptxxv\n",
            "2-3 s: ssvxszrvj\n",
            "4-6 r: rtrrrqv\n",
            "5-6 c: cbccxc\n",
            " ...\n",
            "9-10 w: wwwwwwbwwhww\n",
            "5-6 g: kgggjg\n",
            "4-8 s: ssssssscs\n",
            "12-20 t: ttttttltttvttttttttt\n"
          ]
        },
        {
          "output_type": "display_data",
          "data": {
            "text/markdown": "The stored answers are: `{1: '396', 2: '428'}`",
            "text/plain": [
              "<IPython.core.display.Markdown object>"
            ]
          },
          "metadata": {}
        }
      ]
    },
    {
      "cell_type": "code",
      "metadata": {
        "id": "PLqF8llY5ueK"
      },
      "source": [
        "s1 = \"\"\"\n",
        "1-3 a: abcde\n",
        "1-3 b: cdefg\n",
        "2-9 c: ccccccccc\n",
        "\"\"\""
      ],
      "execution_count": 16,
      "outputs": []
    },
    {
      "cell_type": "code",
      "metadata": {
        "colab": {
          "base_uri": "https://localhost:8080/"
        },
        "id": "WljooTaDXewx",
        "outputId": "a95a2114-56b0-4001-c76a-fdf1be70e176"
      },
      "source": [
        "def process1(s, part2=False):\n",
        "  lines = s.strip('\\n').splitlines()\n",
        "  num_valid = 0\n",
        "  pattern = re.compile(r'(\\d+)-(\\d+) (\\w): (\\w+)')\n",
        "  for line in lines:\n",
        "    vmin, vmax, ch, password = pattern.fullmatch(line).groups()\n",
        "    vmin, vmax = int(vmin), int(vmax)\n",
        "    if part2:\n",
        "      num_valid += (password[vmin - 1] == ch) ^ (password[vmax - 1] == ch)\n",
        "    else:\n",
        "      num_valid += vmin <= sum([c == ch for c in password]) <= vmax\n",
        "  return num_valid\n",
        "\n",
        "\n",
        "check_eq(process1(s1), 2)\n",
        "puzzle.verify(1, process1)\n",
        "\n",
        "process2 = functools.partial(process1, part2=True)\n",
        "check_eq(process2(s1), 1)\n",
        "puzzle.verify(2, process2)"
      ],
      "execution_count": 17,
      "outputs": [
        {
          "output_type": "stream",
          "name": "stdout",
          "text": [
            "(Part 1: 0.006 s)\n",
            "(Part 2: 0.002 s)\n"
          ]
        }
      ]
    },
    {
      "cell_type": "markdown",
      "metadata": {
        "id": "vVXln2ontIH-"
      },
      "source": [
        "<a name=\"day3\"></a>\n",
        "## Day 3: Count intersections in grid"
      ]
    },
    {
      "cell_type": "markdown",
      "metadata": {
        "id": "-2-CRHJyXrMG"
      },
      "source": [
        "Given a 2D grid containing sparse \"trees\", determine the number of trees encountered when moving from the top-left to the bottom row with a slope `(dy, dx)` and using wraparound addressing on the horizontal axis.\n",
        "\n",
        "- Part 1: Count the trees for the slope `(dy, dx) = (1, 3)` \n",
        "\n",
        "- Part 2: Compute the product of the tree counts for slopes `(1, 1)`, `(1, 3)`, `(1, 5)`, `(1, 7)`, and `(2, 1)`."
      ]
    },
    {
      "cell_type": "code",
      "metadata": {
        "id": "fMDTiYgctJjI",
        "colab": {
          "base_uri": "https://localhost:8080/",
          "height": 302
        },
        "outputId": "46cefdc4-23cf-4adc-9246-c32d21d11415"
      },
      "source": [
        "puzzle = advent.puzzle(day=3)"
      ],
      "execution_count": 18,
      "outputs": [
        {
          "output_type": "display_data",
          "data": {
            "text/markdown": "For [day 3](https://adventofcode.com/2020/day/3), `puzzle.input` has 323 lines:",
            "text/plain": [
              "<IPython.core.display.Markdown object>"
            ]
          },
          "metadata": {}
        },
        {
          "output_type": "stream",
          "name": "stdout",
          "text": [
            "........#.............#........\n",
            "...#....#...#....#.............\n",
            ".#..#...#............#.....#..#\n",
            "..#......#..##............###..\n",
            "..........#......#..#..#.......\n",
            ".#..#.......#.........#.#......\n",
            ".........#..#....##..#.##....#.\n",
            "..#....##...#..................\n",
            " ...\n",
            "..................#...#....#.##\n",
            "......#.#....#.................\n",
            "......#.#.....#.....#..##......\n",
            "#..##...........#..#.....#.##..\n"
          ]
        },
        {
          "output_type": "display_data",
          "data": {
            "text/markdown": "The stored answers are: `{1: '148', 2: '727923200'}`",
            "text/plain": [
              "<IPython.core.display.Markdown object>"
            ]
          },
          "metadata": {}
        }
      ]
    },
    {
      "cell_type": "code",
      "metadata": {
        "id": "k8OD2FMiKrKI"
      },
      "source": [
        "s1 = \"\"\"\n",
        "..##.......\n",
        "#...#...#..\n",
        ".#....#..#.\n",
        "..#.#...#.#\n",
        ".#...##..#.\n",
        "..#.##.....\n",
        ".#.#.#....#\n",
        ".#........#\n",
        "#.##...#...\n",
        "#...##....#\n",
        ".#..#...#.#\n",
        "\"\"\""
      ],
      "execution_count": 19,
      "outputs": []
    },
    {
      "cell_type": "code",
      "metadata": {
        "colab": {
          "base_uri": "https://localhost:8080/"
        },
        "id": "MWBlwlbqlWde",
        "outputId": "c632534e-f0d2-4d38-86ad-877d8de46658"
      },
      "source": [
        "def process1(s, part2=False):  # Slower.\n",
        "  dyxs=((1, 1), (1, 3), (1, 5), (1, 7), (2, 1)) if part2 else ((1, 3),)\n",
        "  grid = np.array(list(map(list, s.strip('\\n').splitlines())))\n",
        "\n",
        "  def get_count(dy, dx):\n",
        "    y, x = (0, 0)\n",
        "    count = 0\n",
        "    while y < grid.shape[0]:\n",
        "      count += grid[y, x] == '#'\n",
        "      y, x = y + dy, (x + dx) % grid.shape[1]\n",
        "    return count\n",
        "\n",
        "  return np.prod([get_count(dy, dx) for dy, dx in dyxs])\n",
        "\n",
        "\n",
        "check_eq(process1(s1), 7)\n",
        "puzzle.verify(1, process1)\n",
        "process2 = functools.partial(process1, part2=True)\n",
        "check_eq(process2(s1), 336)\n",
        "puzzle.verify(2, process2)"
      ],
      "execution_count": 20,
      "outputs": [
        {
          "output_type": "stream",
          "name": "stdout",
          "text": [
            "(Part 1: 0.002 s)\n",
            "(Part 2: 0.003 s)\n"
          ]
        }
      ]
    },
    {
      "cell_type": "code",
      "metadata": {
        "colab": {
          "base_uri": "https://localhost:8080/"
        },
        "id": "nWBVeWoklZ3a",
        "outputId": "0eda4dbe-0cc7-4911-dca5-368f8f8bda0f"
      },
      "source": [
        "def process1(s, part2=False):  # Faster.\n",
        "  dyxs=((1, 1), (1, 3), (1, 5), (1, 7), (2, 1)) if part2 else ((1, 3),)\n",
        "  grid = grid_from_string(s)\n",
        "\n",
        "  def get_count(dy, dx):\n",
        "    y = np.arange(0, grid.shape[0], dy)\n",
        "    x = (np.arange(len(y)) * dx) % grid.shape[1]\n",
        "    return np.count_nonzero(grid[y, x] == '#')\n",
        "\n",
        "  return np.prod([get_count(dy, dx) for dy, dx in dyxs])\n",
        "\n",
        "\n",
        "check_eq(process1(s1), 7)\n",
        "puzzle.verify(1, process1)\n",
        "\n",
        "process2 = functools.partial(process1, part2=True)\n",
        "check_eq(process2(s1), 336)\n",
        "puzzle.verify(2, process2)"
      ],
      "execution_count": 21,
      "outputs": [
        {
          "output_type": "stream",
          "name": "stdout",
          "text": [
            "(Part 1: 0.001 s)\n",
            "(Part 2: 0.002 s)\n"
          ]
        }
      ]
    },
    {
      "cell_type": "markdown",
      "metadata": {
        "id": "QUstwnV9OQ73"
      },
      "source": [
        "<a name=\"day4\"></a>\n",
        "## Day 4: Valid text fields"
      ]
    },
    {
      "cell_type": "markdown",
      "metadata": {
        "id": "2rusVWFOZiyd"
      },
      "source": [
        "Given records containing various fields, count the number of valid records.\n",
        "\n",
        "- Part 1: Each record is valid if it contains at least some required fields.\n",
        "\n",
        "- Part 2: The fields also satisfy a set of requirements."
      ]
    },
    {
      "cell_type": "code",
      "metadata": {
        "id": "mNvquM2xYBxI",
        "colab": {
          "base_uri": "https://localhost:8080/",
          "height": 302
        },
        "outputId": "1c508084-d286-4623-cc10-688326b5c976"
      },
      "source": [
        "puzzle = advent.puzzle(day=4)"
      ],
      "execution_count": 22,
      "outputs": [
        {
          "output_type": "display_data",
          "data": {
            "text/markdown": "For [day 4](https://adventofcode.com/2020/day/4), `puzzle.input` has 1102 lines:",
            "text/plain": [
              "<IPython.core.display.Markdown object>"
            ]
          },
          "metadata": {}
        },
        {
          "output_type": "stream",
          "name": "stdout",
          "text": [
            "hcl:5d90f0 cid:270 ecl:#66dc9c hgt:62cm byr:1945 pid:63201172 eyr:2026\n",
            "\n",
            "ecl:amb byr:1943 iyr:2014 eyr:2028\n",
            "pid:333051831\n",
            "\n",
            "byr:1971\n",
            "eyr:2021 iyr:2015 pid:158388040 hcl:#18171d ecl:brn hgt:179cm\n",
            "\n",
            " ...\n",
            "hcl:#7d3b0c pid:431742871\n",
            "ecl:hzl hgt:169cm cid:340\n",
            "eyr:2023\n",
            "iyr:2017 byr:1994\n"
          ]
        },
        {
          "output_type": "display_data",
          "data": {
            "text/markdown": "The stored answers are: `{1: '216', 2: '150'}`",
            "text/plain": [
              "<IPython.core.display.Markdown object>"
            ]
          },
          "metadata": {}
        }
      ]
    },
    {
      "cell_type": "code",
      "metadata": {
        "id": "Zg5BJ9IbOSyY",
        "colab": {
          "base_uri": "https://localhost:8080/"
        },
        "cellView": "form",
        "outputId": "bcc46526-b909-4d4f-865d-306f9d615464"
      },
      "source": [
        "#@title\n",
        "print('Let s1, s2, s3 be test inputs.')\n",
        "\n",
        "s1 = \"\"\"\n",
        "ecl:gry pid:860033327 eyr:2020 hcl:#fffffd\n",
        "byr:1937 iyr:2017 cid:147 hgt:183cm\n",
        "\n",
        "iyr:2013 ecl:amb cid:350 eyr:2023 pid:028048884\n",
        "hcl:#cfa07d byr:1929\n",
        "\n",
        "hcl:#ae17e1 iyr:2013\n",
        "eyr:2024\n",
        "ecl:brn pid:760753108 byr:1931\n",
        "hgt:179cm\n",
        "\n",
        "hcl:#cfa07d eyr:2025 pid:166559648\n",
        "iyr:2011 ecl:brn hgt:59in\n",
        "\"\"\"\n",
        "\n",
        "# all invalid\n",
        "s2 = \"\"\"\n",
        "eyr:1972 cid:100\n",
        "hcl:#18171d ecl:amb hgt:170 pid:186cm iyr:2018 byr:1926\n",
        "\n",
        "iyr:2019\n",
        "hcl:#602927 eyr:1967 hgt:170cm\n",
        "ecl:grn pid:012533040 byr:1946\n",
        "\n",
        "hcl:dab227 iyr:2012\n",
        "ecl:brn hgt:182cm pid:021572410 eyr:2020 byr:1992 cid:277\n",
        "\n",
        "hgt:59cm ecl:zzz\n",
        "eyr:2038 hcl:74454a iyr:2023\n",
        "pid:3556412378 byr:2007\n",
        "\"\"\"\n",
        "\n",
        "# all valid\n",
        "s3 = \"\"\"\n",
        "pid:087499704 hgt:74in ecl:grn iyr:2012 eyr:2030 byr:1980\n",
        "hcl:#623a2f\n",
        "\n",
        "eyr:2029 ecl:blu cid:129 byr:1989\n",
        "iyr:2014 pid:896056539 hcl:#a97842 hgt:165cm\n",
        "\n",
        "hcl:#888785\n",
        "hgt:164cm byr:2001 iyr:2015 cid:88\n",
        "pid:545766238 ecl:hzl\n",
        "eyr:2022\n",
        "\n",
        "iyr:2010 hgt:158cm hcl:#b6652a ecl:blu byr:1944 eyr:2021 pid:093154719\n",
        "\"\"\""
      ],
      "execution_count": 23,
      "outputs": [
        {
          "output_type": "stream",
          "name": "stdout",
          "text": [
            "Let s1, s2, s3 be test inputs.\n"
          ]
        }
      ]
    },
    {
      "cell_type": "code",
      "metadata": {
        "id": "uZcmS_BxZa-Q"
      },
      "source": [
        "# Field requirements:\n",
        "# byr (Birth Year) - four digits; at least 1920 and at most 2002.\n",
        "# iyr (Issue Year) - four digits; at least 2010 and at most 2020.\n",
        "# eyr (Expiration Year) - four digits; at least 2020 and at most 2030.\n",
        "# hgt (Height) - a number followed by either cm or in:\n",
        "# If cm, the number must be at least 150 and at most 193.\n",
        "# If in, the number must be at least 59 and at most 76.\n",
        "# hcl (Hair Color) - a # followed by exactly six characters 0-9 or a-f.\n",
        "# ecl (Eye Color) - exactly one of: amb blu brn gry grn hzl oth.\n",
        "# pid (Passport ID) - a nine-digit number, including leading zeroes.\n",
        "# cid (Country ID) - ignored, missing or not."
      ],
      "execution_count": 24,
      "outputs": []
    },
    {
      "cell_type": "code",
      "metadata": {
        "id": "HtWW5K9kZdng",
        "colab": {
          "base_uri": "https://localhost:8080/"
        },
        "outputId": "5a928dc0-6475-4b4d-9e8f-86b4717b6937"
      },
      "source": [
        "def process1(s, part2=False):\n",
        "  passports = s.strip('\\n').split('\\n\\n')\n",
        "\n",
        "  def part1_valid(fields):\n",
        "    required_fields = set('byr iyr eyr hgt hcl ecl pid'.split())\n",
        "    return all(field in fields for field in required_fields)\n",
        "\n",
        "  def part2_valid(fields):\n",
        "    try:\n",
        "      value, unit = re.fullmatch(r'(\\d+)(cm|in)', fields['hgt']).groups()\n",
        "      year = lambda field: int(re.fullmatch(r'(\\d{4})', fields[field]).group())\n",
        "      return bool(\n",
        "          1920 <= year('byr') <= 2002 and\n",
        "          2010 <= year('iyr') <= 2020 and\n",
        "          2020 <= year('eyr') <= 2030 and\n",
        "          (unit != 'cm' or 150 <= int(value) <= 193) and\n",
        "          (unit != 'in' or 59 <= int(value) <= 76) and\n",
        "          re.fullmatch(r'#[0-9a-f]{6}', fields['hcl']) and\n",
        "          fields['ecl'] in 'amb blu brn gry grn hzl oth'.split() and\n",
        "          re.fullmatch(r'[0-9]{9}', fields['pid']))\n",
        "    except (AttributeError, KeyError):\n",
        "      return False\n",
        "\n",
        "  num_valid = 0\n",
        "  for passport in passports:\n",
        "    fields = dict(re.fullmatch(r'(\\w\\w\\w):(\\S+)', s_field).groups()\n",
        "                  for s_field in passport.split())\n",
        "    num_valid += part2_valid(fields) if part2 else part1_valid(fields)\n",
        "\n",
        "  return num_valid\n",
        "\n",
        "\n",
        "check_eq(process1(s1), 2)\n",
        "puzzle.verify(1, process1)\n",
        "\n",
        "process2 = functools.partial(process1, part2=True)\n",
        "check_eq(process2(s2), 0)  # all records are invalid\n",
        "check_eq(process2(s3), 4)  # all records are valid\n",
        "puzzle.verify(2, process2)"
      ],
      "execution_count": 25,
      "outputs": [
        {
          "output_type": "stream",
          "name": "stdout",
          "text": [
            "(Part 1: 0.004 s)\n",
            "(Part 2: 0.011 s)\n"
          ]
        }
      ]
    },
    {
      "cell_type": "markdown",
      "metadata": {
        "id": "hNJ1-j5mpY7H"
      },
      "source": [
        "<a name=\"day5\"></a>\n",
        "## Day 5: Free seat in grid"
      ]
    },
    {
      "cell_type": "markdown",
      "metadata": {
        "id": "vhGV1fP_cVGd"
      },
      "source": [
        "Given input lines, each specifiying a seat identified using a binary encoding with symbols **B**ack, **F**ront, **L**eft, **R**ight.\n",
        "\n",
        "- Part 1: Determine the maximum seat id.\n",
        "\n",
        "- Part 2: Determine the missing seat id in the middle of the bunch."
      ]
    },
    {
      "cell_type": "code",
      "metadata": {
        "id": "Biwl1Rvhpaxs",
        "colab": {
          "base_uri": "https://localhost:8080/",
          "height": 302
        },
        "outputId": "7ed7ea25-a886-4e9e-8971-8d36817ad4eb"
      },
      "source": [
        "puzzle = advent.puzzle(day=5)"
      ],
      "execution_count": 26,
      "outputs": [
        {
          "output_type": "display_data",
          "data": {
            "text/markdown": "For [day 5](https://adventofcode.com/2020/day/5), `puzzle.input` has 897 lines:",
            "text/plain": [
              "<IPython.core.display.Markdown object>"
            ]
          },
          "metadata": {}
        },
        {
          "output_type": "stream",
          "name": "stdout",
          "text": [
            "BFBBFFBRRL\n",
            "BFBFFFFRLL\n",
            "FBFBFFBRRR\n",
            "FFBBBFBRLL\n",
            "BBBFBFBRLR\n",
            "BFBBFBFLRR\n",
            "FBBBFFFRRL\n",
            "BBFFBFFLLL\n",
            " ...\n",
            "BBFBFBFRRL\n",
            "BFFBBBBLLL\n",
            "FBFFBFBRRR\n",
            "FBFFFFBRLR\n"
          ]
        },
        {
          "output_type": "display_data",
          "data": {
            "text/markdown": "The stored answers are: `{1: '965', 2: '524'}`",
            "text/plain": [
              "<IPython.core.display.Markdown object>"
            ]
          },
          "metadata": {}
        }
      ]
    },
    {
      "cell_type": "code",
      "metadata": {
        "id": "gYaLc3PrhrO8",
        "colab": {
          "base_uri": "https://localhost:8080/"
        },
        "outputId": "8656c41b-8f0e-42bf-a7a3-de803ca8ba7b"
      },
      "source": [
        "def get_seat_id(line):\n",
        "  return int(line.translate(str.maketrans('FBLR', '0101')), base=2)\n",
        "\n",
        "check_eq(get_seat_id('FBFBBFFRLR'), 357)\n",
        "check_eq(get_seat_id('BFFFBBFRRR'), 567)\n",
        "check_eq(get_seat_id('FFFBBBFRRR'), 119)\n",
        "check_eq(get_seat_id('BBFFBBFRLL'), 820)\n",
        "\n",
        "\n",
        "def process1(s):\n",
        "  return max(get_seat_id(line) for line in s.split())\n",
        "\n",
        "puzzle.verify(1, process1)"
      ],
      "execution_count": 27,
      "outputs": [
        {
          "output_type": "stream",
          "name": "stdout",
          "text": [
            "(Part 1: 0.002 s)\n"
          ]
        }
      ]
    },
    {
      "cell_type": "markdown",
      "metadata": {
        "id": "a-V6_zdZq7T6"
      },
      "source": [
        "Part 2"
      ]
    },
    {
      "cell_type": "code",
      "metadata": {
        "id": "GH12Oy6CphmX",
        "colab": {
          "base_uri": "https://localhost:8080/",
          "height": 202
        },
        "outputId": "30c84649-d434-4a07-b2e7-00a2d3e09238"
      },
      "source": [
        "def visualize_transposed_seat_grid(s):\n",
        "  grid = np.full((128, 8), 0)\n",
        "  yx = np.array([divmod(get_seat_id(line), 8) for line in s.split()])\n",
        "  grid[tuple(yx.T)] = 1\n",
        "  print('\\n'.join(''.join('.#'[e] for e in row) for row in grid.T))\n",
        "  media.show_image(grid.T == 1, border=True, width=600)\n",
        "\n",
        "visualize_transposed_seat_grid(puzzle.input)"
      ],
      "execution_count": 28,
      "outputs": [
        {
          "output_type": "stream",
          "name": "stdout",
          "text": [
            ".........################################################################################################################.......\n",
            ".........################################################################################################################.......\n",
            ".........################################################################################################################.......\n",
            ".........################################################################################################################.......\n",
            "........#########################################################.#######################################################.......\n",
            "........#################################################################################################################.......\n",
            "........################################################################################################################........\n",
            "........################################################################################################################........\n"
          ]
        },
        {
          "output_type": "display_data",
          "data": {
            "text/html": [
              "<table class=\"show_images\" style=\"border-spacing:0px;\"><tr><td style=\"padding:1px;\"><img width=\"600\" height=\"38\" style=\"border:1px solid black; image-rendering:pixelated; object-fit:cover;\" src=\"data:image/png;base64,iVBORw0KGgoAAAANSUhEUgAAAIAAAAAICAIAAAC+v2ApAAAASUlEQVR4nO3VMQoAIAxDUeP97xxXoVZwsaTkjboI3ypGjuRl114BiIvz/zls5wDFHKBYGkDoAzi+rSo6TIDQXYk6BJCQjakDFFsctAkQyvXN5QAAAABJRU5ErkJggg==\"/></td></tr></table>"
            ],
            "text/plain": [
              "<IPython.core.display.HTML object>"
            ]
          },
          "metadata": {}
        }
      ]
    },
    {
      "cell_type": "code",
      "metadata": {
        "colab": {
          "base_uri": "https://localhost:8080/"
        },
        "id": "Zr8ROXu8dlUy",
        "outputId": "ce3661c5-cd7c-4dc5-b0d1-424ecd07d060"
      },
      "source": [
        "def process2(s):  # Using string indexing.\n",
        "\n",
        "  def find_all(string, substring, overlapping=False):\n",
        "    i = string.find(substring)\n",
        "    while i != -1:\n",
        "      yield i\n",
        "      i = string.find(substring, i + (1 if overlapping else len(substring)))\n",
        "\n",
        "  seat_ids = [get_seat_id(line) for line in s.split()]\n",
        "  occupied = ''.join('01'[seat_id in seat_ids] for seat_id in range(128 * 8))\n",
        "  i, = list(find_all(occupied, '101'))\n",
        "  seat_id = i + 1\n",
        "  return seat_id\n",
        "\n",
        "puzzle.verify(2, process2)"
      ],
      "execution_count": 29,
      "outputs": [
        {
          "output_type": "stream",
          "name": "stdout",
          "text": [
            "(Part 2: 0.009 s)\n"
          ]
        }
      ]
    },
    {
      "cell_type": "code",
      "metadata": {
        "colab": {
          "base_uri": "https://localhost:8080/"
        },
        "id": "gfpJsSaAdmtZ",
        "outputId": "e4988bfd-2292-4440-a6e8-cbc797a08073"
      },
      "source": [
        "def process2(s):  # Using regular expression search.\n",
        "  seat_ids = [get_seat_id(line) for line in s.split()]\n",
        "  occupied = ''.join('01'[seat_id in seat_ids] for seat_id in range(128 * 8))\n",
        "  seat_id, = [match.start() for match in re.finditer('(?<=1)0(?=1)', occupied)]\n",
        "  return seat_id\n",
        "\n",
        "puzzle.verify(2, process2)"
      ],
      "execution_count": 30,
      "outputs": [
        {
          "output_type": "stream",
          "name": "stdout",
          "text": [
            "(Part 2: 0.016 s)\n"
          ]
        }
      ]
    },
    {
      "cell_type": "code",
      "metadata": {
        "colab": {
          "base_uri": "https://localhost:8080/"
        },
        "id": "DMoWj_yTdoB4",
        "outputId": "f02898ab-236c-42f3-ddbb-be6d7ca26766"
      },
      "source": [
        "def process2(s):  # Fast, using numpy successive differences of sorted indices.\n",
        "  seat_ids = np.sort([get_seat_id(line) for line in s.split()])\n",
        "  diff = np.diff(seat_ids)\n",
        "  i, = np.nonzero(diff == 2)[0]\n",
        "  seat_id = seat_ids[i] + 1\n",
        "  return seat_id\n",
        "\n",
        "puzzle.verify(2, process2)"
      ],
      "execution_count": 31,
      "outputs": [
        {
          "output_type": "stream",
          "name": "stdout",
          "text": [
            "(Part 2: 0.002 s)\n"
          ]
        }
      ]
    },
    {
      "cell_type": "code",
      "metadata": {
        "colab": {
          "base_uri": "https://localhost:8080/"
        },
        "id": "r-MtYsaGdpTn",
        "outputId": "48249aa6-eb37-46f9-db0a-33a22e024818"
      },
      "source": [
        "def process2(s):  # Also fast, using numpy subsequence search.\n",
        "\n",
        "  def matching_subsequences(array, sequence):\n",
        "    array, sequence = np.asarray(array), np.asarray(sequence)\n",
        "    return (array[np.arange(len(array) - len(sequence) + 1)[:, None] +\n",
        "            np.arange(len(sequence))] == sequence).all(axis=1)\n",
        "\n",
        "  seat_ids = [get_seat_id(line) for line in s.split()]\n",
        "  occupied = np.full(128 * 8, False)\n",
        "  occupied[seat_ids] = True\n",
        "  seat_id, = matching_subsequences(occupied, (1, 0, 1)).nonzero()[0] + 1\n",
        "  return seat_id\n",
        "\n",
        "puzzle.verify(2, process2)"
      ],
      "execution_count": 32,
      "outputs": [
        {
          "output_type": "stream",
          "name": "stdout",
          "text": [
            "(Part 2: 0.001 s)\n"
          ]
        }
      ]
    },
    {
      "cell_type": "markdown",
      "metadata": {
        "id": "RP8FssM4sDuZ"
      },
      "source": [
        "<a name=\"day6\"></a>\n",
        "## Day 6: Counts across groups"
      ]
    },
    {
      "cell_type": "markdown",
      "metadata": {
        "id": "74mhb17yem9h"
      },
      "source": [
        "Given a set of records of words:\n",
        "\n",
        "- Part 1: Compute the number of unique letters in each record, and sum these.\n",
        "\n",
        "- Part 2: Compute the number of letters appearing in all words of each record, and sum these."
      ]
    },
    {
      "cell_type": "code",
      "metadata": {
        "id": "YskNwkMDsGCB",
        "colab": {
          "base_uri": "https://localhost:8080/",
          "height": 302
        },
        "outputId": "ba3742c8-042c-4da1-9293-c7b7a64686d4"
      },
      "source": [
        "puzzle = advent.puzzle(day=6)"
      ],
      "execution_count": 33,
      "outputs": [
        {
          "output_type": "display_data",
          "data": {
            "text/markdown": "For [day 6](https://adventofcode.com/2020/day/6), `puzzle.input` has 2172 lines:",
            "text/plain": [
              "<IPython.core.display.Markdown object>"
            ]
          },
          "metadata": {}
        },
        {
          "output_type": "stream",
          "name": "stdout",
          "text": [
            "su\n",
            "egu\n",
            "\n",
            "h\n",
            "h\n",
            "h\n",
            "h\n",
            "\n",
            " ...\n",
            "\n",
            "lfhtzrxcj\n",
            "fbtzlhrcj\n",
            "lzdaftrjphco\n"
          ]
        },
        {
          "output_type": "display_data",
          "data": {
            "text/markdown": "The stored answers are: `{1: '6590', 2: '3288'}`",
            "text/plain": [
              "<IPython.core.display.Markdown object>"
            ]
          },
          "metadata": {}
        }
      ]
    },
    {
      "cell_type": "code",
      "metadata": {
        "id": "6mCkU9KpmGU1",
        "colab": {
          "base_uri": "https://localhost:8080/"
        },
        "cellView": "form",
        "outputId": "72cd5b1e-31b0-46b4-837a-fd44206faf00"
      },
      "source": [
        "#@title\n",
        "print('Let s1 be a test input.')\n",
        "\n",
        "s1 = \"\"\"\n",
        "abc\n",
        "\n",
        "a\n",
        "b\n",
        "c\n",
        "\n",
        "ab\n",
        "ac\n",
        "\n",
        "a\n",
        "a\n",
        "a\n",
        "a\n",
        "\n",
        "b\n",
        "\"\"\""
      ],
      "execution_count": 34,
      "outputs": [
        {
          "output_type": "stream",
          "name": "stdout",
          "text": [
            "Let s1 be a test input.\n"
          ]
        }
      ]
    },
    {
      "cell_type": "markdown",
      "metadata": {
        "id": "xgVfWlaahYQl"
      },
      "source": [
        "Part 1"
      ]
    },
    {
      "cell_type": "code",
      "metadata": {
        "colab": {
          "base_uri": "https://localhost:8080/"
        },
        "id": "shCaGdNVgCZ7",
        "outputId": "009848a6-3883-4085-90c5-7d060f0481bb"
      },
      "source": [
        "def process1(s):  # Long code.\n",
        "  total = 0\n",
        "  for group in s.strip('\\n').split('\\n\\n'):\n",
        "    union = set()\n",
        "    for line in group.splitlines():\n",
        "      union |= set(line)\n",
        "    total += len(union)\n",
        "  return total\n",
        "\n",
        "check_eq(process1(s1), 11)\n",
        "puzzle.verify(1, process1)"
      ],
      "execution_count": 35,
      "outputs": [
        {
          "output_type": "stream",
          "name": "stdout",
          "text": [
            "(Part 1: 0.004 s)\n"
          ]
        }
      ]
    },
    {
      "cell_type": "code",
      "metadata": {
        "colab": {
          "base_uri": "https://localhost:8080/"
        },
        "id": "wdmoLpGegHRo",
        "outputId": "101c8402-e881-4200-adb9-90d707915957"
      },
      "source": [
        "def process1(s):  # Using reduction.\n",
        "  return sum(\n",
        "      len(functools.reduce(operator.or_, map(set, group.splitlines())))\n",
        "      for group in s.strip('\\n').split('\\n\\n'))\n",
        "\n",
        "check_eq(process1(s1), 11)\n",
        "puzzle.verify(1, process1)"
      ],
      "execution_count": 36,
      "outputs": [
        {
          "output_type": "stream",
          "name": "stdout",
          "text": [
            "(Part 1: 0.006 s)\n"
          ]
        }
      ]
    },
    {
      "cell_type": "code",
      "metadata": {
        "colab": {
          "base_uri": "https://localhost:8080/"
        },
        "id": "hP_Q22YbgIcP",
        "outputId": "6363eee9-f985-40f3-a604-33f89791277e"
      },
      "source": [
        "def process1(s):  # Compact, and also fastest.\n",
        "  return sum(\n",
        "      len(set(group.replace('\\n', '')))\n",
        "      for group in s.strip('\\n').split('\\n\\n'))\n",
        "\n",
        "check_eq(process1(s1), 11)\n",
        "puzzle.verify(1, process1)"
      ],
      "execution_count": 37,
      "outputs": [
        {
          "output_type": "stream",
          "name": "stdout",
          "text": [
            "(Part 1: 0.001 s)\n"
          ]
        }
      ]
    },
    {
      "cell_type": "markdown",
      "metadata": {
        "id": "D-mMCiwqgrmk"
      },
      "source": [
        "Part 2"
      ]
    },
    {
      "cell_type": "code",
      "metadata": {
        "colab": {
          "base_uri": "https://localhost:8080/"
        },
        "id": "r9RGOmtdg9aM",
        "outputId": "69a663aa-f9f7-4f3c-ba72-cad5854fa029"
      },
      "source": [
        "def process2(s):  # Using reduction.\n",
        "  return sum(\n",
        "      len(functools.reduce(operator.and_, map(set, group.splitlines())))\n",
        "      for group in s.strip('\\n').split('\\n\\n'))\n",
        "\n",
        "check_eq(process2(s1), 6)\n",
        "puzzle.verify(2, process2)"
      ],
      "execution_count": 38,
      "outputs": [
        {
          "output_type": "stream",
          "name": "stdout",
          "text": [
            "(Part 2: 0.003 s)\n"
          ]
        }
      ]
    },
    {
      "cell_type": "code",
      "metadata": {
        "colab": {
          "base_uri": "https://localhost:8080/"
        },
        "id": "ezOQ4kGzg-YF",
        "outputId": "f8527f18-420f-4b5c-b1f9-adf9fc056f57"
      },
      "source": [
        "def process2(s):  # Compact and faster.\n",
        "  return sum(\n",
        "      len(set.intersection(*map(set, group.splitlines())))\n",
        "      for group in s.strip('\\n').split('\\n\\n'))\n",
        "\n",
        "check_eq(process2(s1), 6)\n",
        "puzzle.verify(2, process2)"
      ],
      "execution_count": 39,
      "outputs": [
        {
          "output_type": "stream",
          "name": "stdout",
          "text": [
            "(Part 2: 0.004 s)\n"
          ]
        }
      ]
    },
    {
      "cell_type": "markdown",
      "metadata": {
        "id": "RWStaG-bqzmz"
      },
      "source": [
        "<a name=\"day7\"></a>\n",
        "## Day 7: Nested bags"
      ]
    },
    {
      "cell_type": "markdown",
      "metadata": {
        "id": "vz-zlIZjjkTs"
      },
      "source": [
        "Given a description of bag colors, where each colored bag contains a collection of other colored bags:\n",
        "\n",
        "- Part 1: Determine the number of bag colors that can eventually contain a specified bag color.\n",
        "\n",
        "- Part 2: Determine the total number of bags required inside a specified bag color."
      ]
    },
    {
      "cell_type": "code",
      "metadata": {
        "id": "-anp0Vouq24h",
        "colab": {
          "base_uri": "https://localhost:8080/",
          "height": 302
        },
        "outputId": "49dbbd2b-ecc9-41d8-b90e-da0e29195dd7"
      },
      "source": [
        "puzzle = advent.puzzle(day=7)"
      ],
      "execution_count": 40,
      "outputs": [
        {
          "output_type": "display_data",
          "data": {
            "text/markdown": "For [day 7](https://adventofcode.com/2020/day/7), `puzzle.input` has 594 lines:",
            "text/plain": [
              "<IPython.core.display.Markdown object>"
            ]
          },
          "metadata": {}
        },
        {
          "output_type": "stream",
          "name": "stdout",
          "text": [
            "dim red bags contain 2 bright gold bags, 5 striped fuchsia bags.\n",
            "dotted purple bags contain 5 bright olive bags, 3 faded maroon bags.\n",
            "plaid chartreuse bags contain 1 vibrant olive bag, 5 bright black bags, 1 clear tomato bag.\n",
            "wavy orange bags contain 4 dark lavender bags, 4 posh white bags.\n",
            "light lavender bags contain 4 drab olive bags, 5 dark magenta bags.\n",
            "pale black bags contain 5 dotted beige bags, 5 clear chartreuse bags, 4 pale lime bags.\n",
            "wavy crimson bags contain 5 dull tomato bags.\n",
            "muted aqua bags contain 1 dotted aqua bag, 5 posh plum bags, 1 bright blue bag.\n",
            " ...\n",
            "vibrant lime bags contain 5 light green bags.\n",
            "dark maroon bags contain 5 drab bronze bags, 4 bright red bags, 1 posh cyan bag.\n",
            "wavy red bags contain 2 mirrored beige bags, 5 muted crimson bags, 5 vibrant orange bags, 3 posh turquoise bags.\n",
            "drab brown bags contain 1 faded tan bag, 3 vibrant maroon bags.\n"
          ]
        },
        {
          "output_type": "display_data",
          "data": {
            "text/markdown": "The stored answers are: `{1: '115', 2: '1250'}`",
            "text/plain": [
              "<IPython.core.display.Markdown object>"
            ]
          },
          "metadata": {}
        }
      ]
    },
    {
      "cell_type": "code",
      "metadata": {
        "id": "UYevJT7hurXB",
        "colab": {
          "base_uri": "https://localhost:8080/"
        },
        "cellView": "form",
        "outputId": "f1cf27be-b00f-427e-fe28-f23fe776795d"
      },
      "source": [
        "#@title\n",
        "print('Let s1, s2 be test inputs.')\n",
        "\n",
        "s1 = \"\"\"\n",
        "light red bags contain 1 bright white bag, 2 muted yellow bags.\n",
        "dark orange bags contain 3 bright white bags, 4 muted yellow bags.\n",
        "bright white bags contain 1 shiny gold bag.\n",
        "muted yellow bags contain 2 shiny gold bags, 9 faded blue bags.\n",
        "shiny gold bags contain 1 dark olive bag, 2 vibrant plum bags.\n",
        "dark olive bags contain 3 faded blue bags, 4 dotted black bags.\n",
        "vibrant plum bags contain 5 faded blue bags, 6 dotted black bags.\n",
        "faded blue bags contain no other bags.\n",
        "dotted black bags contain no other bags.\n",
        "\"\"\"\n",
        "\n",
        "s2 = \"\"\"\n",
        "shiny gold bags contain 2 dark red bags.\n",
        "dark red bags contain 2 dark orange bags.\n",
        "dark orange bags contain 2 dark yellow bags.\n",
        "dark yellow bags contain 2 dark green bags.\n",
        "dark green bags contain 2 dark blue bags.\n",
        "dark blue bags contain 2 dark violet bags.\n",
        "dark violet bags contain no other bags.\n",
        "\"\"\""
      ],
      "execution_count": 41,
      "outputs": [
        {
          "output_type": "stream",
          "name": "stdout",
          "text": [
            "Let s1, s2 be test inputs.\n"
          ]
        }
      ]
    },
    {
      "cell_type": "code",
      "metadata": {
        "id": "DwuIhiIxjftU"
      },
      "source": [
        "def get_bag_contents(s):\n",
        "  contents = {}\n",
        "  pattern = re.compile(r'(\\d+) (.*?) bags?[,.]')\n",
        "  for line in s.strip('\\n').splitlines():\n",
        "    outer, inners = line.split(' bags contain ')\n",
        "    contents[outer] = {}\n",
        "    for match in pattern.finditer(inners):\n",
        "      n, inner = match.groups()\n",
        "      contents[outer][inner] = int(n)\n",
        "  return contents"
      ],
      "execution_count": 42,
      "outputs": []
    },
    {
      "cell_type": "code",
      "metadata": {
        "colab": {
          "base_uri": "https://localhost:8080/"
        },
        "id": "QzumeUvqknLs",
        "outputId": "8d75ad1d-0d14-4a2a-f748-bd810869915c"
      },
      "source": [
        "def process1(s, query='shiny gold'):  # Compact.\n",
        "  \"\"\"Returns number of bag colors that can eventually contain >=1 query bag.\"\"\"\n",
        "  contents = get_bag_contents(s)\n",
        "\n",
        "  def valid(bag):\n",
        "    return any(inner == query or valid(inner) for inner in contents[bag])\n",
        "\n",
        "  return sum(valid(bag) for bag in contents)\n",
        "\n",
        "check_eq(process1(s1), 4)\n",
        "puzzle.verify(1, process1)"
      ],
      "execution_count": 43,
      "outputs": [
        {
          "output_type": "stream",
          "name": "stdout",
          "text": [
            "(Part 1: 0.301 s)\n"
          ]
        }
      ]
    },
    {
      "cell_type": "code",
      "metadata": {
        "colab": {
          "base_uri": "https://localhost:8080/"
        },
        "id": "Fmz1hNcxkYCN",
        "outputId": "19633664-69a0-4fd7-b158-95e9ab032b58"
      },
      "source": [
        "def process1(s, query='shiny gold'):  # Faster.\n",
        "  contents = get_bag_contents(s)  # computational bottleneck\n",
        "  parents = collections.defaultdict(list)\n",
        "  for bag in contents:\n",
        "    for child in contents[bag]:\n",
        "      parents[child].append(bag)\n",
        "\n",
        "  valid = set()\n",
        "  to_visit = collections.deque([query])\n",
        "  while to_visit:\n",
        "    bag = to_visit.popleft()\n",
        "    for parent in parents[bag]:\n",
        "      if parent not in valid:\n",
        "        valid.add(parent)\n",
        "        to_visit.append(parent)\n",
        "\n",
        "  return len(valid)\n",
        "\n",
        "check_eq(process1(s1), 4)\n",
        "puzzle.verify(1, process1)"
      ],
      "execution_count": 44,
      "outputs": [
        {
          "output_type": "stream",
          "name": "stdout",
          "text": [
            "(Part 1: 0.004 s)\n"
          ]
        }
      ]
    },
    {
      "cell_type": "markdown",
      "metadata": {
        "id": "DGP7T8BZlKDj"
      },
      "source": [
        "Part 2"
      ]
    },
    {
      "cell_type": "code",
      "metadata": {
        "id": "4ArbIfdzq3Jg",
        "colab": {
          "base_uri": "https://localhost:8080/"
        },
        "outputId": "d2843c0e-6ae9-434b-b6e1-47c4fe4930df"
      },
      "source": [
        "def process2(s, query='shiny gold'):\n",
        "  \"\"\"Returns total number of individual bags required inside a query bag.\"\"\"\n",
        "  contents = get_bag_contents(s)  # computational bottleneck\n",
        "\n",
        "  def count_inside(bag):\n",
        "    return sum(n * (count_inside(b) + 1) for b, n in contents[bag].items())\n",
        "\n",
        "  return count_inside(query)\n",
        "\n",
        "check_eq(process2(s1), 32)\n",
        "check_eq(process2(s2), 126)\n",
        "puzzle.verify(2, process2)"
      ],
      "execution_count": 45,
      "outputs": [
        {
          "output_type": "stream",
          "name": "stdout",
          "text": [
            "(Part 2: 0.003 s)\n"
          ]
        }
      ]
    },
    {
      "cell_type": "markdown",
      "metadata": {
        "id": "Q4Meyx1ABj8r"
      },
      "source": [
        "<a name=\"day8\"></a>\n",
        "## Day 8: Program with acc, nop, jmp"
      ]
    },
    {
      "cell_type": "markdown",
      "metadata": {
        "id": "57IX_n5ilo97"
      },
      "source": [
        "Given a program with instructions `nop`, `acc`, and `jmp`:\n",
        "\n",
        "- Part 1: Determine the sum of the `acc` operands when running the program until the program counter becomes invalid.\n",
        "\n",
        "- Part 2: Modify the program by swapping one of its opcodes between `nop` and `jmp` such that it terminates (with the program counter at the end), and report the sum of the `acc` operands."
      ]
    },
    {
      "cell_type": "code",
      "metadata": {
        "id": "PEIzMPu6BlZ-",
        "colab": {
          "base_uri": "https://localhost:8080/",
          "height": 302
        },
        "outputId": "b363b599-af65-4aa4-afd9-5746060f971f"
      },
      "source": [
        "puzzle = advent.puzzle(day=8)"
      ],
      "execution_count": 46,
      "outputs": [
        {
          "output_type": "display_data",
          "data": {
            "text/markdown": "For [day 8](https://adventofcode.com/2020/day/8), `puzzle.input` has 638 lines:",
            "text/plain": [
              "<IPython.core.display.Markdown object>"
            ]
          },
          "metadata": {}
        },
        {
          "output_type": "stream",
          "name": "stdout",
          "text": [
            "acc +8\n",
            "acc +37\n",
            "jmp +328\n",
            "jmp +574\n",
            "nop +321\n",
            "acc +17\n",
            "jmp +450\n",
            "acc +46\n",
            " ...\n",
            "acc +6\n",
            "acc +21\n",
            "acc +16\n",
            "jmp +1\n"
          ]
        },
        {
          "output_type": "display_data",
          "data": {
            "text/markdown": "The stored answers are: `{1: '1521', 2: '1016'}`",
            "text/plain": [
              "<IPython.core.display.Markdown object>"
            ]
          },
          "metadata": {}
        }
      ]
    },
    {
      "cell_type": "code",
      "metadata": {
        "id": "f8aZ49hRuC05"
      },
      "source": [
        "s1 = \"\"\"\n",
        "nop +0\n",
        "acc +1\n",
        "jmp +4\n",
        "acc +3\n",
        "jmp -3\n",
        "acc -99\n",
        "acc +1\n",
        "jmp -4\n",
        "acc +6\n",
        "\"\"\""
      ],
      "execution_count": 47,
      "outputs": []
    },
    {
      "cell_type": "code",
      "metadata": {
        "colab": {
          "base_uri": "https://localhost:8080/"
        },
        "id": "q365Aq_iLMwx",
        "outputId": "8ac02410-f669-4bfe-e587-7f973d1dcec4"
      },
      "source": [
        "def process1(s, part2=False):\n",
        "\n",
        "  def run_program(ops):\n",
        "    pc = 0\n",
        "    acc = 0\n",
        "    visited = set()\n",
        "    while 0 <= pc < len(ops) and pc not in visited:\n",
        "      visited.add(pc)\n",
        "      operation, operand = ops[pc]\n",
        "      if operation == 'nop':\n",
        "        pc += 1\n",
        "      elif operation == 'acc':\n",
        "        acc += operand\n",
        "        pc += 1\n",
        "      elif operation == 'jmp':\n",
        "        pc += operand\n",
        "      else:\n",
        "        raise AssertionError\n",
        "    return pc, acc\n",
        "\n",
        "  ops = [(line[:3], int(line[4:])) for line in s.strip('\\n').splitlines()]\n",
        "  if not part2:\n",
        "    pc, acc = run_program(ops)\n",
        "    assert 0 <= pc < len(ops)\n",
        "    return acc\n",
        "\n",
        "  for i in range(len(ops)):\n",
        "    if ops[i][0] in ('nop', 'jmp'):\n",
        "      original_op = ops[i]\n",
        "      ops[i] = (('jmp' if ops[i][0] == 'nop' else 'nop'), ops[i][1])\n",
        "      pc, acc = run_program(ops)\n",
        "      ops[i] = original_op\n",
        "      if pc == len(ops):\n",
        "        return acc\n",
        "  return None\n",
        "\n",
        "check_eq(process1(s1), 5)\n",
        "puzzle.verify(1, process1)\n",
        "\n",
        "process2 = functools.partial(process1, part2=True)\n",
        "check_eq(process2(s1), 8)\n",
        "puzzle.verify(2, process2)"
      ],
      "execution_count": 48,
      "outputs": [
        {
          "output_type": "stream",
          "name": "stdout",
          "text": [
            "(Part 1: 0.001 s)\n",
            "(Part 2: 0.016 s)\n"
          ]
        }
      ]
    },
    {
      "cell_type": "markdown",
      "metadata": {
        "id": "X1Sh_yQ27qLM"
      },
      "source": [
        "<a name=\"day9\"></a>\n",
        "## Day 9: Sums in subsequences"
      ]
    },
    {
      "cell_type": "markdown",
      "metadata": {
        "id": "XpUaSYj4nRab"
      },
      "source": [
        "Given a list of numbers:\n",
        "\n",
        "- Part 1: Find the first number that is not a sum of a pair of numbers in the prior `n` numbers.\n",
        "\n",
        "- Part 2: Find a subsequence of at least 2 numbers that sums to the value obtained in part 1, compute the min and max of the subsequence, and report their product."
      ]
    },
    {
      "cell_type": "code",
      "metadata": {
        "id": "PjOeqVhc7rpR",
        "colab": {
          "base_uri": "https://localhost:8080/",
          "height": 302
        },
        "outputId": "72546424-143c-45c5-8227-cc3c00e59e49"
      },
      "source": [
        "puzzle = advent.puzzle(day=9)"
      ],
      "execution_count": 49,
      "outputs": [
        {
          "output_type": "display_data",
          "data": {
            "text/markdown": "For [day 9](https://adventofcode.com/2020/day/9), `puzzle.input` has 1000 lines:",
            "text/plain": [
              "<IPython.core.display.Markdown object>"
            ]
          },
          "metadata": {}
        },
        {
          "output_type": "stream",
          "name": "stdout",
          "text": [
            "19\n",
            "30\n",
            "13\n",
            "31\n",
            "42\n",
            "41\n",
            "44\n",
            "34\n",
            " ...\n",
            "30187342902183\n",
            "39869127705106\n",
            "31005328029673\n",
            "49124948203304\n"
          ]
        },
        {
          "output_type": "display_data",
          "data": {
            "text/markdown": "The stored answers are: `{1: '393911906', 2: '59341885'}`",
            "text/plain": [
              "<IPython.core.display.Markdown object>"
            ]
          },
          "metadata": {}
        }
      ]
    },
    {
      "cell_type": "code",
      "metadata": {
        "id": "rLT07Jvq7twr",
        "colab": {
          "base_uri": "https://localhost:8080/"
        },
        "cellView": "form",
        "outputId": "d533f3fa-d92d-4723-e5a7-1f2c0033deb0"
      },
      "source": [
        "#@title\n",
        "print('Let s1 be a test input.')\n",
        "\n",
        "s1 = \"\"\"\n",
        "35\n",
        "20\n",
        "15\n",
        "25\n",
        "47\n",
        "40\n",
        "62\n",
        "55\n",
        "65\n",
        "95\n",
        "102\n",
        "117\n",
        "150\n",
        "182\n",
        "127\n",
        "219\n",
        "299\n",
        "277\n",
        "309\n",
        "576\n",
        "\"\"\""
      ],
      "execution_count": 50,
      "outputs": [
        {
          "output_type": "stream",
          "name": "stdout",
          "text": [
            "Let s1 be a test input.\n"
          ]
        }
      ]
    },
    {
      "cell_type": "code",
      "metadata": {
        "id": "-jgheoftAPOd",
        "colab": {
          "base_uri": "https://localhost:8080/"
        },
        "outputId": "6ab108b0-1b03-4c22-8129-8494d7aabe2d"
      },
      "source": [
        "def process1(s, last_n=25, part2=False):\n",
        "  l = list(map(int, s.split()))\n",
        "\n",
        "  def has_pair(l, total):\n",
        "    # return any(a + b == total for a, b in itertools.combinations(l, 2))\n",
        "    return any(total - l[i] in l[i + 1:] for i in range(len(l)))\n",
        "\n",
        "  def first_number_not_sum_of_pair_in_last_n(n):\n",
        "    return next(l[i] for i in range(n, len(l))\n",
        "                if not has_pair(l[i - n:i], l[i]))\n",
        "\n",
        "  invalid_number = first_number_not_sum_of_pair_in_last_n(last_n)\n",
        "  if not part2:\n",
        "    return invalid_number\n",
        "\n",
        "  # Find a contiguous set of at least two numbers in your list which sum to the\n",
        "  # invalid number.  Approach: compute cumulative sum accum[i], then for each i\n",
        "  # do (binary) bisection search to try to locate l[i] + invalid_number.\n",
        "\n",
        "  def find_subsequence_summing_to(total):\n",
        "    accum = list(itertools.accumulate(l, operator.add))  # accum[i] = sum(l[:i])\n",
        "    for i in range(len(accum)):\n",
        "      end_value = accum[i] + total\n",
        "      j = bisect.bisect_left(accum, end_value)\n",
        "      if j != len(accum) and accum[j] == end_value:\n",
        "        return l[i + 1:j + 1]\n",
        "    return None\n",
        "\n",
        "  sequence = find_subsequence_summing_to(invalid_number)\n",
        "  assert sum(sequence) == invalid_number\n",
        "  return min(sequence) + max(sequence)\n",
        "\n",
        "\n",
        "check_eq(process1(s1, last_n=5), 127)\n",
        "puzzle.verify(1, process1)\n",
        "\n",
        "process2 = functools.partial(process1, part2=True)\n",
        "check_eq(process2(s1, last_n=5), 62)\n",
        "puzzle.verify(2, process2)"
      ],
      "execution_count": 51,
      "outputs": [
        {
          "output_type": "stream",
          "name": "stdout",
          "text": [
            "(Part 1: 0.002 s)\n",
            "(Part 2: 0.007 s)\n"
          ]
        }
      ]
    },
    {
      "cell_type": "markdown",
      "metadata": {
        "id": "NPNtev-y-bVo"
      },
      "source": [
        "<a name=\"day10\"></a>\n",
        "## Day 10: Combinations of sequences"
      ]
    },
    {
      "cell_type": "markdown",
      "metadata": {
        "id": "yBGbSZH3o5GU"
      },
      "source": [
        "Given a set of numbers,\n",
        "\n",
        "- Part 1: Augment the numbers with the values `0` and `max + 3`, tally the successive differences of the sorted numbers, and report the product of the 1-differences and the 3-differences.\n",
        "\n",
        "- Part 2: Count the number of ways to monotonically traverse the numbers such that successive differences are at most 3."
      ]
    },
    {
      "cell_type": "code",
      "metadata": {
        "id": "YzM1ko8L-bVo",
        "colab": {
          "base_uri": "https://localhost:8080/",
          "height": 302
        },
        "outputId": "39f98f1a-32a3-441f-9da2-3338751330a5"
      },
      "source": [
        "puzzle = advent.puzzle(day=10)"
      ],
      "execution_count": 52,
      "outputs": [
        {
          "output_type": "display_data",
          "data": {
            "text/markdown": "For [day 10](https://adventofcode.com/2020/day/10), `puzzle.input` has 97 lines:",
            "text/plain": [
              "<IPython.core.display.Markdown object>"
            ]
          },
          "metadata": {}
        },
        {
          "output_type": "stream",
          "name": "stdout",
          "text": [
            "8\n",
            "131\n",
            "91\n",
            "35\n",
            "47\n",
            "116\n",
            "105\n",
            "121\n",
            " ...\n",
            "95\n",
            "3\n",
            "52\n",
            "49\n"
          ]
        },
        {
          "output_type": "display_data",
          "data": {
            "text/markdown": "The stored answers are: `{1: '2112', 2: '3022415986688'}`",
            "text/plain": [
              "<IPython.core.display.Markdown object>"
            ]
          },
          "metadata": {}
        }
      ]
    },
    {
      "cell_type": "code",
      "metadata": {
        "id": "DFo_tRzl-bVo",
        "colab": {
          "base_uri": "https://localhost:8080/"
        },
        "cellView": "form",
        "outputId": "ca2f62f9-6768-4e4d-d222-298286c88dae"
      },
      "source": [
        "#@title\n",
        "print('Let s1, s2 be test inputs.')\n",
        "\n",
        "s1 = \"\"\"\n",
        "16\n",
        "10\n",
        "15\n",
        "5\n",
        "1\n",
        "11\n",
        "7\n",
        "19\n",
        "6\n",
        "12\n",
        "4\n",
        "\"\"\"\n",
        "\n",
        "s2 = \"\"\"\n",
        "28\n",
        "33\n",
        "18\n",
        "42\n",
        "31\n",
        "14\n",
        "46\n",
        "20\n",
        "48\n",
        "47\n",
        "24\n",
        "23\n",
        "49\n",
        "45\n",
        "19\n",
        "38\n",
        "39\n",
        "11\n",
        "1\n",
        "32\n",
        "25\n",
        "35\n",
        "8\n",
        "17\n",
        "7\n",
        "9\n",
        "4\n",
        "2\n",
        "34\n",
        "10\n",
        "3\n",
        "\"\"\""
      ],
      "execution_count": 53,
      "outputs": [
        {
          "output_type": "stream",
          "name": "stdout",
          "text": [
            "Let s1, s2 be test inputs.\n"
          ]
        }
      ]
    },
    {
      "cell_type": "code",
      "metadata": {
        "colab": {
          "base_uri": "https://localhost:8080/"
        },
        "id": "MmP9fQv3pmY8",
        "outputId": "4e21945a-2a8e-4295-dce1-23bc39b55380"
      },
      "source": [
        "def process1(s):\n",
        "  l = sorted(map(int, s.split()))\n",
        "  counter = collections.Counter(np.diff([0] + l + [l[-1] + 3]))\n",
        "  return counter[1] * counter[3]\n",
        "\n",
        "check_eq(process1(s1), 7 * 5)\n",
        "check_eq(process1(s2), 22 * 10)\n",
        "puzzle.verify(1, process1)  # 66 * 32"
      ],
      "execution_count": 54,
      "outputs": [
        {
          "output_type": "stream",
          "name": "stdout",
          "text": [
            "(Part 1: 0.000 s)\n"
          ]
        }
      ]
    },
    {
      "cell_type": "markdown",
      "metadata": {
        "id": "I1shyQIlp2Xt"
      },
      "source": [
        "Part 2"
      ]
    },
    {
      "cell_type": "code",
      "metadata": {
        "id": "sM7QhkBb-bVo",
        "colab": {
          "base_uri": "https://localhost:8080/"
        },
        "outputId": "bf5dfb2f-584f-435f-d3bf-d317b0585e2e"
      },
      "source": [
        "# Observation: when there is a separation of 3 units, the problem decouples\n",
        "# into a product of the solutions of subproblems.\n",
        "\n",
        "# Because the voltages differences are just 1 or 3, we can simply count the\n",
        "# length of the sequences of value 1, and derive a closed-form number for each\n",
        "# sequence.\n",
        "\n",
        "def process2(s):\n",
        "  diff = np.diff([0] + sorted(map(int, s.split())))\n",
        "  lengths_of_ones = map(len, re.findall('1+', ''.join(map(str, diff))))\n",
        "\n",
        "  def f(n):\n",
        "    \"\"\"Number of combinations from a sequence of n consecutive one-diffs.\"\"\"\n",
        "    return 0 if n < 0 else 1 if n < 2 else f(n - 1) + f(n - 2) + f(n - 3)\n",
        "\n",
        "  return np.prod(list(map(f, lengths_of_ones)))\n",
        "\n",
        "check_eq(process2(s1), 8)\n",
        "check_eq(process2(s2), 19208)\n",
        "puzzle.verify(2, process2)"
      ],
      "execution_count": 55,
      "outputs": [
        {
          "output_type": "stream",
          "name": "stdout",
          "text": [
            "(Part 2: 0.000 s)\n"
          ]
        }
      ]
    },
    {
      "cell_type": "code",
      "metadata": {
        "id": "tJQIUkGFuig8",
        "colab": {
          "base_uri": "https://localhost:8080/"
        },
        "outputId": "139a734b-276b-46c8-dd8d-f4286ffdfc11"
      },
      "source": [
        "# More general solution based on dynamic programming with scatter.\n",
        "def process2(s):\n",
        "  l = [0] + sorted(map(int, s.split()))\n",
        "  npaths = [1] + [0] * (len(l) - 1)\n",
        "  for i in range(len(l)):\n",
        "    for j in range(i + 1, min(i + 4, len(l))):\n",
        "      if l[j] - l[i] <= 3:\n",
        "        npaths[j] += npaths[i]\n",
        "  return npaths[-1]\n",
        "\n",
        "check_eq(process2(s1), 8)\n",
        "check_eq(process2(s2), 19208)\n",
        "puzzle.verify(2, process2)"
      ],
      "execution_count": 56,
      "outputs": [
        {
          "output_type": "stream",
          "name": "stdout",
          "text": [
            "(Part 2: 0.000 s)\n"
          ]
        }
      ]
    },
    {
      "cell_type": "code",
      "metadata": {
        "id": "iurqdxeFukTM",
        "colab": {
          "base_uri": "https://localhost:8080/"
        },
        "outputId": "74634e45-eae9-4975-bb61-998285159f41"
      },
      "source": [
        "# Simplest solution based on dynamic programming with gather.\n",
        "def process2(s):\n",
        "  l = [0] + sorted(map(int, s.split()))\n",
        "  npaths = [1]\n",
        "  for i in range(1, len(l)):\n",
        "    npaths.append(sum(npaths[j] for j in range(-4, 0)\n",
        "                      if i + j >= 0 and l[i] - l[i + j] < 4))\n",
        "  return npaths[-1]\n",
        "\n",
        "check_eq(process2(s1), 8)\n",
        "check_eq(process2(s2), 19208)\n",
        "puzzle.verify(2, process2)"
      ],
      "execution_count": 57,
      "outputs": [
        {
          "output_type": "stream",
          "name": "stdout",
          "text": [
            "(Part 2: 0.000 s)\n"
          ]
        }
      ]
    },
    {
      "cell_type": "markdown",
      "metadata": {
        "id": "RQzQ7A9H-bzv"
      },
      "source": [
        "<a name=\"day11\"></a>\n",
        "## Day 11: Seats cellular automaton"
      ]
    },
    {
      "cell_type": "markdown",
      "metadata": {
        "id": "COrOzLteqsLY"
      },
      "source": [
        "Given a *sparse* 2D grid of nodes, run successive generations of a cellular automaton until convergence.\n",
        "\n",
        "- Part 1: Each node's neighbors are the immediately adjacent nodes (up to 8, with Manhattan distance 1).\n",
        "  \n",
        "  For each generation:\n",
        "  - a free node becomes occupied if it has zero occupied neighbors, and\n",
        "  - an occupied node becomes free if it has 4 or more occupied neighbors.\n",
        "\n",
        "- Part 2: The evolution rule is modified in two ways:\n",
        "  - For each of the 8 neighbor directions, the neighbor is defined as the first node along that direction.\n",
        "  - An occupied node becomes free if it has 5 or more occupied neighbors."
      ]
    },
    {
      "cell_type": "code",
      "metadata": {
        "id": "Bg_kB1f1-bzv",
        "colab": {
          "base_uri": "https://localhost:8080/",
          "height": 302
        },
        "outputId": "04c86d8b-0971-425a-9ea4-80a59cea3a6d"
      },
      "source": [
        "puzzle = advent.puzzle(day=11)"
      ],
      "execution_count": 58,
      "outputs": [
        {
          "output_type": "display_data",
          "data": {
            "text/markdown": "For [day 11](https://adventofcode.com/2020/day/11), `puzzle.input` has 99 lines:",
            "text/plain": [
              "<IPython.core.display.Markdown object>"
            ]
          },
          "metadata": {}
        },
        {
          "output_type": "stream",
          "name": "stdout",
          "text": [
            "LLLLLLLLLL.LLLLLL.LLLLLLLLLLLL.LL.LLLL.LLLLL.LLLLLLL.LLLLLL.LLLLLL.LLLLLL.LLLLLLLLLLLLLLLLLL\n",
            "LLLLLLLLLLLLLLLLLLLLLLLLLLLLLL.LLLLLLL.LLLLL.LLLLLLL.LLLLLLLLLLLLL.LLLL.L.LLLLLLLLLL.LLLLLLL\n",
            "LLLLLLLLLL.LLLLLL.LLLLLL.LLLLL.LLLLLLLLLLLLLLLLLLLLL.LLLLLL..LLLLL.LLLLLL.LLLLLL.LLLLLLLLLLL\n",
            "LLLLLLLLLL.LLLLLLLLLLLLL.LL.LL.LLLLL.L.LLLLL.LLLLLLL.LLLLLL.LLLLLLLLLLLLL.LLLLLLLLLLLLLLLLLL\n",
            "LLLLLLLLLLLLLLLLL.LLLLLL.LLLLLLLLLLLLLLLLLLL.LLLLLLL.LLL.LL.LLLLLL.LLLLLL.LLLLLLLLLLLLLLLLLL\n",
            "LLLLLLLLLLLLLLLLL.LLLLLL.LLLLL.LLLLLLL.LLL.L.LLLLLLLLLLLLLLLLLLLLLLLLLLLL.LLLLLL.LLLLLLLL.LL\n",
            "LLLLLLLLLLLLLLLLL.LLLLLLLLLL.LLLLLLLLL.LLLLL.LLLLLLL.LLLL.L.LLLLLLLLLLLLL.LLLLLLLLLLLLLLLLLL\n",
            ".L.LL...LLLL.......L....L.LLLLLL.......LL....LL...L..L.LLL...LLL..L.L.L.L..L...............L\n",
            " ...\n",
            "LLLLLLLLLL.LLLLLL.LLLLLL.LLLLL.LLLLL.L.LLLLLLLLLLLLL.LL.LLLLL.LLLL.LLLLLL.LLLLLLLLLL.LLLLLLL\n",
            "LLLLLLLLLLLLLLLLL.LLLLLL.LLLLL.LLLLLLL.LLLLL..LLLLLL.LLLLLL.LLLLLL.LLLLLL.LLLLLL.LLLLLLLLLLL\n",
            "LLLLLLLLLL.LLL.LLLLLLLLL.LLLLL.LLLLLLLLLLLL..LLLLLLL.LLLLL..LLLLLL.LLLLLL.LLLLLLLLLLLLLLLLLL\n",
            "LLLLLLLLLLLLLLLLL.LLLLLL.LLLLL.LLLLLLL.LLLLLLLLLLLLL.LLLLLL.LLLLLL.LL.LLLLLLLLLL.LLLLLLLLLLL\n"
          ]
        },
        {
          "output_type": "display_data",
          "data": {
            "text/markdown": "The stored answers are: `{1: '2359', 2: '2131'}`",
            "text/plain": [
              "<IPython.core.display.Markdown object>"
            ]
          },
          "metadata": {}
        }
      ]
    },
    {
      "cell_type": "code",
      "metadata": {
        "colab": {
          "base_uri": "https://localhost:8080/",
          "height": 294
        },
        "id": "Gf0NHrYxc083",
        "outputId": "09acf443-ec49-4acc-8f78-a26e0a959545"
      },
      "source": [
        "media.show_image(grid_from_string(puzzle.input) == 'L', border=True, width=250)"
      ],
      "execution_count": 59,
      "outputs": [
        {
          "output_type": "display_data",
          "data": {
            "text/html": [
              "<table class=\"show_images\" style=\"border-spacing:0px;\"><tr><td style=\"padding:1px;\"><img width=\"250\" height=\"269\" style=\"border:1px solid black; image-rendering:pixelated; object-fit:cover;\" src=\"data:image/png;base64,iVBORw0KGgoAAAANSUhEUgAAAFwAAABjCAIAAACZofB3AAAGG0lEQVR4nM1c27LbMAi0zvT/f9l96NRH4bIsFyXhoZPKCDBCsEJu133fl09rLc1gDoK5gl9P9wTy2jt2avrBj02hWU01yzrS1lqMKI8tcIo5jR80Sb9VymtrrVAXELjP9dgCp2RVXtA7/x5pBt6hngG8WxnOyvbB7/BM8Uyv7SasNOtWTJVIIckzdB8n/XtBX3uDKav2R2NOEfXl4gxN7URv96UIaHx59ES1WJmHGOm7EGaung7iQksTI/vGFJu0UCuDSm5iDRIU8OijDCgwlcELu31CQfd9i8Auv2chp84mWjZSvod4PH1VF8aOlOZq4IzI45TUOBmn9Zjy0ptmM6GHl7lNLZqTmWLaCdSZKdl7qbHt00mf/QNhSmxIbqJlQM5O4aoykstEmkRqd53ybfkVUCoiGM7K2YekZ03KoUFq12gA6G1FCkmMDi/njQjn9Wa120cvj5PM+aI2mbhb1wIB3pmCYqrbB8MCKksESIf/wpLM/98M3sMziqCvTrRTdSr7Lgf7KTx5Kbm5MKbYgerD0whO0RswnMKYlHZuaiaPsoEWTwiY6PF4Sj3O3WAt/PlRyYXj6Dt7kXTazg/0aMsS7v/tLlJXOSV9INGO17VUh8FLWzsddMqhot7JLJdf4Pbxg9Un2zoi6cSl5fVqf+Xa1PRu8/rWpGasdUM1rGGazYtYPpIFv1kmTZPMom7+VTCbL6UffaDz1jwTHfo+Yx8fu0vm35PnNFvcojDz+Ji3qpVTeDVYZuozDnF3ofdCv7k1/9VByGbmL0YgSRiJmBtK8EinMP1qvvoCIQx1NponRHPqzC2dAuzAj8i35TkLZkz1XyrgbTzRTsG8qW2YdkoqKTYlTE3vRpCJbTBeMrEQ4AlBGtC7TxE/9im8SSZDBbw1G9dNmPeGu9SDl2EF0tVRE1jhUDjJOf/JKElmM1nvhSkVj7SBG8L+kdwjE4NmFWHwWvPpWusD26d5ShIhlv06glFaiZSOSnNip3jX0KZHvxrNzgKQbhY8L/+BuujJARXaGxQyw7l7OdePDl5xfLyfwk8XVN8+gjBSqlEzfZ5qHZgU5j9vZITOnScfmqk+7z/OHNfFYEScz8LsuDMwZxN8JgIvAtI/WT2CROvh4maqI7WkJL8v0aZKo6meYcuuSrPLZy6nGPnAXTIP3k7gaUb7WOetwznCxvuaIp0+9zzn/akl4KwGJAC92GAh3OQMU6+uAGMfMPKINiXzsnIKiaf1XNKqnwuG5bnWAUlZoLzfwzBQw6Qfki+kE+gbQGfmpq28ot/1ySgzXsN1YjqmMZjfv/oQAguPCopMmjkQgvxfI770APK2T+jW2Cnk8bcDE0YcygPoR503JXYKk/+9MmkKnG0y7OWGkWPeIgiaaTKlljpbZbFJADGaEyld9ytpffv4ziasKb9qdu9o+Cvsx+VJ41ft1plr08QivPHatAypZ/77ITNSZoEvfzHGsGHmscb1aRK7BjCAEebRNYhoT3RJAMxvcrYixaSRNrUujWSp5t8fkJkTKe4woZgJXDDjUpUqW7s0zzavoJg/nt+i+B78aIen1Nx+SboKOWXqEqf8gQXmJAuiNwjGHzKcUl5wcnpT/lRtBvTrlF2W93uEmh3mOzrjYGmhrrV/tGOg3bW8lDZLKb/zh8/aJcGNP9oJ10QwhyN4vKzoSpoaCqyDt+zeDhNwUy+zL8SfHtU7bzn8UwLdfE1hHB1CsIc+gGj5o2PzgqW1TwVS3ANBBIVQAzAiY5+pwlMqLBSwGL+F+ZrAjIM3hFlOUsJgk8XTePCftjQPaQUJWfLWYKyfMtJ8/sh0TX+mBJ3AeGR6ygLikOclUjq9+xNFgaw+ZeTi0YtT+EzJPO3HDh8pfPFO7DVd8C6/npkm6hoJ3gTIB7aZikjXh7r2kbNNpk7n6ZAihvPspxjN7MPLBFRQx977ZK9pwRQejzR9anYeX7bJWmbaZnGKEM03Ck2ZtU7HCIlbBDO5FLdPs7J0QsArSYPfArz18y68TYC5ITapZXTPnrf+G0JPWrihRCLoGKYv4TQlzj5TqMxMTyO4saDdpESkpCoRIN0o5r0ccoaBwBj/FwTRL7nttzC+AAAAAElFTkSuQmCC\"/></td></tr></table>"
            ],
            "text/plain": [
              "<IPython.core.display.HTML object>"
            ]
          },
          "metadata": {}
        }
      ]
    },
    {
      "cell_type": "code",
      "metadata": {
        "id": "g45k4woQ-bzv"
      },
      "source": [
        "s1 = \"\"\"\n",
        "L.LL.LL.LL\n",
        "LLLLLLL.LL\n",
        "L.L.L..L..\n",
        "LLLL.LL.LL\n",
        "L.LL.LL.LL\n",
        "L.LLLLL.LL\n",
        "..L.L.....\n",
        "LLLLLLLLLL\n",
        "L.LLLLLL.L\n",
        "L.LLLLL.LL\n",
        "\"\"\""
      ],
      "execution_count": 60,
      "outputs": []
    },
    {
      "cell_type": "code",
      "metadata": {
        "id": "SGQVf-0Gzqsh"
      },
      "source": [
        "# Relatively fast non-numba solution, which maintains neighbor counts.\n",
        "# It becomes faster with numba enabled, but not as fast as the next solution.\n",
        "\n",
        "def process1(s, part2=False):\n",
        "  # -1 is EMPTY, 0..8 is FREE+neighbor_count, 10..18 is OCCUPIED+neighbor_count\n",
        "  int_from_ch = {'.': -1, 'L': 0, '#': 10}\n",
        "  grid = grid_from_string(s, int_from_ch)\n",
        "  # Surprisingly, the default array dtype (here, np.int64) is the fastest.\n",
        "  shape = grid.shape\n",
        "  NEIGHBORS = tuple(set(itertools.product((-1, 0, 1), repeat=2)) - {(0, 0)})\n",
        "\n",
        "  def evolve(grid):\n",
        "\n",
        "    def impact_neighbor_counts(y0, x0, delta):\n",
        "      for dy, dx in NEIGHBORS:\n",
        "        y, x = y0 + dy, x0 + dx\n",
        "        while 0 <= y < shape[0] and 0 <= x < shape[1]:\n",
        "          if not part2 or grid[y, x] >= 0:\n",
        "            if grid[y, x] >= 0:\n",
        "              grid[y, x] += delta\n",
        "            break\n",
        "          y, x = y + dy, x + dx\n",
        "\n",
        "    # print('num_occupied', np.count_nonzero(grid >= 10))\n",
        "    prev = grid.copy()\n",
        "    for y in range(shape[0]):\n",
        "      for x in range(shape[1]):\n",
        "        if prev[y, x] == 0:  # FREE with zero occupied neighbors\n",
        "          grid[y, x] += 10\n",
        "          impact_neighbor_counts(y, x, +1)\n",
        "        elif prev[y, x] >= (15 if part2 else 14):  # OCCUPIED, >= 5 or 4 neighb\n",
        "          grid[y, x] -= 10\n",
        "          impact_neighbor_counts(y, x, -1)\n",
        "    return np.any(grid != prev)\n",
        "\n",
        "  while evolve(grid):\n",
        "    pass\n",
        "\n",
        "  return np.count_nonzero(grid >= 10)\n",
        "\n",
        "\n",
        "check_eq(process1(s1), 37)\n",
        "process2 = functools.partial(process1, part2=True)\n",
        "check_eq(process2(s1), 26)"
      ],
      "execution_count": 61,
      "outputs": []
    },
    {
      "cell_type": "code",
      "source": [
        "if using_numba:\n",
        "\n",
        "  # More naive solution, but faster when using numba.\n",
        "  def process1(s, part2=False, return_video=False):\n",
        "    int_from_ch = {'.': 0, 'L': 1, '#': 2}\n",
        "    grid = grid_from_string(s, int_from_ch)\n",
        "    neighbors = tuple(set(itertools.product((-1, 0, 1), repeat=2)) - {(0, 0)})\n",
        "    EMPTY, FREE, OCCUPIED = 0, 1, 2\n",
        "\n",
        "    @numba_njit(cache=True, parallel=True)\n",
        "    def evolve(grid, neighbors, part2):\n",
        "      shape = grid.shape\n",
        "\n",
        "      def count_occupied_neighbors(grid, y0, x0, only_adjacent):\n",
        "        count = 0\n",
        "        for dy, dx in neighbors:\n",
        "          y, x = y0 + dy, x0 + dx\n",
        "          while 0 <= y < shape[0] and 0 <= x < shape[1]:\n",
        "            if grid[y, x] != EMPTY or only_adjacent:\n",
        "              count += grid[y, x] == OCCUPIED\n",
        "              break\n",
        "            y, x = y + dy, x + dx\n",
        "        return count\n",
        "\n",
        "      prev = grid.copy()\n",
        "      for y in range(shape[0]):\n",
        "        for x in range(shape[1]):\n",
        "          num_occupied = count_occupied_neighbors(prev, y, x, not part2)\n",
        "          if prev[y, x] == FREE and num_occupied == 0:\n",
        "            grid[y, x] = OCCUPIED\n",
        "          elif prev[y, x] == OCCUPIED and num_occupied >= (5 if part2 else 4):\n",
        "            grid[y, x] = FREE\n",
        "      return not np.all(grid == prev)\n",
        "\n",
        "    images = []\n",
        "    while evolve(grid, neighbors, part2):\n",
        "      if return_video:\n",
        "        images.append(grid == OCCUPIED)\n",
        "\n",
        "    return images if return_video else np.count_nonzero(grid == OCCUPIED)\n",
        "\n",
        "\n",
        "check_eq(process1(s1), 37)\n",
        "# ~2 s for non-numba solution; ~0.05 s for numba solution\n",
        "puzzle.verify(1, process1)\n",
        "\n",
        "process2 = functools.partial(process1, part2=True)\n",
        "check_eq(process2(s1), 26)\n",
        "# ~5 s for non-numba solution; ~0.05 s for numba solution\n",
        "puzzle.verify(2, process2)\n",
        "\n",
        "if media.video_is_available():\n",
        "  videos = {\n",
        "      'Part 1': process1(puzzle.input, return_video=True),\n",
        "      'Part 2': process2(puzzle.input, return_video=True),\n",
        "  }\n",
        "  media.show_videos(videos, codec='gif', fps=10, border=True, height=250)\n",
        "  del videos"
      ],
      "metadata": {
        "colab": {
          "base_uri": "https://localhost:8080/",
          "height": 362
        },
        "id": "gaxSHhV8a0i3",
        "outputId": "8253d829-db09-4b81-aa08-acb5a340510a"
      },
      "execution_count": 62,
      "outputs": [
        {
          "output_type": "stream",
          "name": "stdout",
          "text": [
            "(Part 1: 0.034 s)\n",
            "(Part 2: 0.060 s)\n"
          ]
        },
        {
          "output_type": "stream",
          "name": "stderr",
          "text": [
            "/usr/local/lib/python3.7/dist-packages/numba/np/ufunc/parallel.py:363: NumbaWarning: The TBB threading layer requires TBB version 2019.5 or later i.e., TBB_INTERFACE_VERSION >= 11005. Found TBB_INTERFACE_VERSION = 9107. The TBB threading layer is disabled.\n",
            "  warnings.warn(problem)\n"
          ]
        },
        {
          "output_type": "display_data",
          "data": {
            "text/html": [
              "<table class=\"show_videos\" style=\"border-spacing:0px;\"><tr><td style=\"padding:1px;\"><div style=\"display:flex; align-items:left;\">\n",
              "      <div style=\"display:flex; flex-direction:column; align-items:center;\">\n",
              "      <div>Part 1</div><div><img width=\"232\" height=\"250\" style=\"border:1px solid black; image-rendering:pixelated; object-fit:cover;\" src=\"data:image/gif;base64,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\"/></div></div></div></td><td style=\"padding:1px;\"><div style=\"display:flex; align-items:left;\">\n",
              "      <div style=\"display:flex; flex-direction:column; align-items:center;\">\n",
              "      <div>Part 2</div><div><img width=\"232\" height=\"250\" style=\"border:1px solid black; image-rendering:pixelated; object-fit:cover;\" src=\"data:image/gif;base64,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\"/></div></div></div></td></tr></table>"
            ],
            "text/plain": [
              "<IPython.core.display.HTML object>"
            ]
          },
          "metadata": {}
        }
      ]
    },
    {
      "cell_type": "markdown",
      "metadata": {
        "id": "c8pMKkP_-cCX"
      },
      "source": [
        "<a name=\"day12\"></a>\n",
        "## Day 12: Ship and waypoint navigation"
      ]
    },
    {
      "cell_type": "markdown",
      "metadata": {
        "id": "dSWqYoVvv1yv"
      },
      "source": [
        "Given a list of instructions (a translation direction `N|S|E|W` and magnitude, a rotation `L|R` and angle (positive multiple of 90 degrees), or a forward directive `F` and value), update a ship's position and orientation in a 2D domain.\n",
        "\n",
        "- Part 1: The translation, rotation, and forward instructions directly modify the ship's state.  After applying all instructions, report the Manhattan distance of the ship's position from its start.\n",
        "\n",
        "- Part 2: The translation and rotation instructions modify a vector waypoint (initially 10 units east and 1 unit north of ship) relative to the ship position.  The forward instruction translates the ship position by the vector waypoint times the forward value.  Again report the final Manhattan distance of the ship from its start."
      ]
    },
    {
      "cell_type": "code",
      "metadata": {
        "id": "H_APDCbQ-cCX",
        "colab": {
          "base_uri": "https://localhost:8080/",
          "height": 302
        },
        "outputId": "af1d225a-11fd-4d8b-89e1-e3ba1e503576"
      },
      "source": [
        "puzzle = advent.puzzle(day=12)"
      ],
      "execution_count": 63,
      "outputs": [
        {
          "output_type": "display_data",
          "data": {
            "text/markdown": "For [day 12](https://adventofcode.com/2020/day/12), `puzzle.input` has 773 lines:",
            "text/plain": [
              "<IPython.core.display.Markdown object>"
            ]
          },
          "metadata": {}
        },
        {
          "output_type": "stream",
          "name": "stdout",
          "text": [
            "W5\n",
            "F63\n",
            "S1\n",
            "L90\n",
            "F89\n",
            "W4\n",
            "F45\n",
            "W4\n",
            " ...\n",
            "L90\n",
            "F94\n",
            "L90\n",
            "F13\n"
          ]
        },
        {
          "output_type": "display_data",
          "data": {
            "text/markdown": "The stored answers are: `{1: '1221', 2: '59435'}`",
            "text/plain": [
              "<IPython.core.display.Markdown object>"
            ]
          },
          "metadata": {}
        }
      ]
    },
    {
      "cell_type": "code",
      "metadata": {
        "id": "O56VlIAv-cCX"
      },
      "source": [
        "s1 = \"\"\"\n",
        "F10\n",
        "N3\n",
        "F7\n",
        "R90\n",
        "F11\n",
        "\"\"\""
      ],
      "execution_count": 64,
      "outputs": []
    },
    {
      "cell_type": "code",
      "metadata": {
        "id": "IDRi_D9_dck3",
        "colab": {
          "base_uri": "https://localhost:8080/"
        },
        "outputId": "f59583b8-c127-4190-a994-456d6cce81a1"
      },
      "source": [
        "def process1(s):\n",
        "  y, x = 0, 0\n",
        "  dy, dx = 0, 1  # east\n",
        "\n",
        "  for instruction in s.split():\n",
        "    action, value = instruction[:1], int(instruction[1:])\n",
        "    if action == 'N':\n",
        "      y -= value\n",
        "    elif action == 'S':\n",
        "      y += value\n",
        "    elif action == 'E':\n",
        "      x += value\n",
        "    elif action == 'W':\n",
        "      x -= value\n",
        "    elif action == 'L':\n",
        "      while value:\n",
        "        dy, dx = -dx, +dy\n",
        "        value -= 90\n",
        "    elif action == 'R':\n",
        "      while value:\n",
        "        dy, dx = +dx, -dy\n",
        "        value -= 90\n",
        "    elif action == 'F':\n",
        "      y, x = y + dy * value, x + dx * value\n",
        "  return abs(y) + abs(x)\n",
        "\n",
        "\n",
        "check_eq(process1(s1), 25)\n",
        "puzzle.verify(1, process1)"
      ],
      "execution_count": 65,
      "outputs": [
        {
          "output_type": "stream",
          "name": "stdout",
          "text": [
            "(Part 1: 0.001 s)\n"
          ]
        }
      ]
    },
    {
      "cell_type": "code",
      "metadata": {
        "id": "Yb-NG3la-cCX",
        "colab": {
          "base_uri": "https://localhost:8080/"
        },
        "outputId": "beb4270a-18a2-498a-8e93-96c1addc460f"
      },
      "source": [
        "def process2(s):\n",
        "  ship_y, ship_x = 0, 0\n",
        "  # waypoint is relative to the ship\n",
        "  waypoint_y, waypoint_x = -1, 10  # 10 units east and 1 unit north of ship\n",
        "\n",
        "  for instruction in s.split():\n",
        "    action, value = instruction[:1], int(instruction[1:])\n",
        "    if action == 'N':\n",
        "      waypoint_y -= value\n",
        "    elif action == 'S':\n",
        "      waypoint_y += value\n",
        "    elif action == 'E':\n",
        "      waypoint_x += value\n",
        "    elif action == 'W':\n",
        "      waypoint_x -= value\n",
        "    elif action == 'L':\n",
        "      while value:\n",
        "        waypoint_y, waypoint_x = -waypoint_x, +waypoint_y\n",
        "        value -= 90\n",
        "    elif action == 'R':\n",
        "      while value:\n",
        "        waypoint_y, waypoint_x = +waypoint_x, -waypoint_y\n",
        "        value -= 90\n",
        "    elif action == 'F':\n",
        "      ship_y += waypoint_y * value\n",
        "      ship_x += waypoint_x * value\n",
        "  return abs(ship_y) + abs(ship_x)\n",
        "\n",
        "\n",
        "check_eq(process2(s1), 286)\n",
        "puzzle.verify(2, process2)"
      ],
      "execution_count": 66,
      "outputs": [
        {
          "output_type": "stream",
          "name": "stdout",
          "text": [
            "(Part 2: 0.001 s)\n"
          ]
        }
      ]
    },
    {
      "cell_type": "markdown",
      "metadata": {
        "id": "-HvKXDFB-cQn"
      },
      "source": [
        "<a name=\"day13\"></a>\n",
        "## Day 13: Buses modulo schedule"
      ]
    },
    {
      "cell_type": "markdown",
      "metadata": {
        "id": "09sjifmfzSNN"
      },
      "source": [
        "Given a sequence of buses with different departure periods, all starting at time 0, with some buses out-of-service, find some earliest time satisfying a condition.\n",
        "\n",
        "- Part 1: Given also an earliest time, find the first bus that departs on or after that time.  Report the wait time multiplied by the bus period.\n",
        "\n",
        "- Part 2: Find the earliest time such that the first bus in the sequence departs at that time and each subsequent listed bus departs at the subsequent time if the bus is in service."
      ]
    },
    {
      "cell_type": "code",
      "metadata": {
        "id": "FBdUu1Hp-cQn",
        "colab": {
          "base_uri": "https://localhost:8080/",
          "height": 110
        },
        "outputId": "4d7dc330-f5a8-4837-9d15-87740cb574cf"
      },
      "source": [
        "puzzle = advent.puzzle(day=13)"
      ],
      "execution_count": 67,
      "outputs": [
        {
          "output_type": "display_data",
          "data": {
            "text/markdown": "For [day 13](https://adventofcode.com/2020/day/13), `puzzle.input` has 2 lines:",
            "text/plain": [
              "<IPython.core.display.Markdown object>"
            ]
          },
          "metadata": {}
        },
        {
          "output_type": "stream",
          "name": "stdout",
          "text": [
            "1000299\n",
            "41,x,x,x,x,x,x,x,x,x,x,x,x,x,x,x,x,x,x,x,x,x,x,x,x,x,x,x,x,x,x,x,x,x,x,37,x,x,x, ... ,x,x,x,x,x,x,x,x,x,x,x,x,x,x,x,x,19\n"
          ]
        },
        {
          "output_type": "display_data",
          "data": {
            "text/markdown": "The stored answers are: `{1: '156', 2: '404517869995362'}`",
            "text/plain": [
              "<IPython.core.display.Markdown object>"
            ]
          },
          "metadata": {}
        }
      ]
    },
    {
      "cell_type": "code",
      "metadata": {
        "id": "WRqYtN1B-cQn"
      },
      "source": [
        "s1 = \"\"\"\n",
        "939\n",
        "7,13,x,x,59,x,31,19\n",
        "\"\"\""
      ],
      "execution_count": 68,
      "outputs": []
    },
    {
      "cell_type": "code",
      "metadata": {
        "id": "c71ttBaQmrQa",
        "colab": {
          "base_uri": "https://localhost:8080/"
        },
        "outputId": "25b074a3-dff7-4c6b-88b1-f07b62bc8e32"
      },
      "source": [
        "def process1(s):\n",
        "  lines = s.strip('\\n').splitlines()\n",
        "  earliest_time = int(lines[0])\n",
        "  buses = [int(e) for e in lines[1].split(',') if e != 'x']\n",
        "  next_times = [math.ceil(earliest_time / bus) * bus for bus in buses]\n",
        "  min_time, min_bus = min(zip(next_times, buses))\n",
        "  return (min_time - earliest_time) * min_bus\n",
        "\n",
        "\n",
        "check_eq(process1(s1), 295)\n",
        "puzzle.verify(1, process1)"
      ],
      "execution_count": 69,
      "outputs": [
        {
          "output_type": "stream",
          "name": "stdout",
          "text": [
            "(Part 1: 0.000 s)\n"
          ]
        }
      ]
    },
    {
      "cell_type": "markdown",
      "metadata": {
        "id": "jhovcZWiHzy1"
      },
      "source": [
        "Part 2"
      ]
    },
    {
      "cell_type": "code",
      "metadata": {
        "id": "TlX1RY4QH2fF"
      },
      "source": [
        "def extended_gcd(a: int, b: int) -> Tuple[int, int, int]:\n",
        "  \"\"\"Finds the greatest common divisor using the extended Euclidean algorithm.\n",
        "\n",
        "  Returns:\n",
        "    (gcd(a, b), x, y) with the property that a * x + b * y = gcd(a, b).\n",
        "\n",
        "  >>> extended_gcd(29, 71)\n",
        "  (1, -22, 9)\n",
        "  >>> (29 * -22) % 71\n",
        "  1\n",
        "  \"\"\"\n",
        "  prev_x, x = 1, 0\n",
        "  prev_y, y = 0, 1\n",
        "  while b:\n",
        "    q = a // b\n",
        "    x, prev_x = prev_x - q * x, x\n",
        "    y, prev_y = prev_y - q * y, y\n",
        "    a, b = b, a % b\n",
        "  x, y = prev_x, prev_y\n",
        "  return a, x, y"
      ],
      "execution_count": 70,
      "outputs": []
    },
    {
      "cell_type": "code",
      "metadata": {
        "id": "Pld6pnB36hUI"
      },
      "source": [
        "# Let each bus be represented by its period b_i and desired remainder r_i.\n",
        "\n",
        "# Given [(b_i, r_i)], where b_i are coprime, we seek x such that\n",
        "#  x % b_i = r_i  for all i,  where r_i = -i % b_i\n",
        "# We can work by reduction, merging pairs of buses.\n",
        "\n",
        "# Given a pair of buses (b1, r1) and (b2, r2),\n",
        "# we want to find a new equivalent bus (b1 * b2, r) such that\n",
        "#  0 <= r < b1 * b2\n",
        "#  r % b1 = r1\n",
        "#  r % b2 = r2\n",
        "# We can apply the Chinese remainder theorem using the extended GCD algorithm."
      ],
      "execution_count": 71,
      "outputs": []
    },
    {
      "cell_type": "code",
      "metadata": {
        "id": "DRfWcZ7--cQn",
        "colab": {
          "base_uri": "https://localhost:8080/"
        },
        "outputId": "b6a2d4f5-a485-4392-eb71-84968a5327b4"
      },
      "source": [
        "def process2(s):\n",
        "  s = s.strip('\\n').splitlines()[-1]\n",
        "  buses = [int(e) for e in s.replace('x', '1').split(',')]\n",
        "  check_eq(np.lcm.reduce(buses), np.prod(buses))  # verify all coprime\n",
        "  bus_remainders = [(bus, -i % bus) for i, bus in enumerate(buses) if bus > 1]\n",
        "\n",
        "  def merge_buses(bus1, bus2):\n",
        "    (b1, r1), (b2, r2) = bus1, bus2\n",
        "    # https://en.wikipedia.org/wiki/Chinese_remainder_theorem\n",
        "    _, x, y = extended_gcd(b1, b2)\n",
        "    return b1 * b2, (r1 * y * b2 + r2 * x * b1) % (b1 * b2)\n",
        "\n",
        "  _, r = functools.reduce(merge_buses, bus_remainders)\n",
        "  return r\n",
        "\n",
        "\n",
        "check_eq(process2(s1.strip('\\n').splitlines()[1]), 1068781)\n",
        "check_eq(process2('17,x,13,19'), 3417)\n",
        "check_eq(process2('67,7,59,61'), 754018)\n",
        "check_eq(process2('67,x,7,59,61'), 779210)\n",
        "check_eq(process2('67,7,x,59,61'), 1261476)\n",
        "check_eq(process2('1789,37,47,1889'), 1202161486)\n",
        "puzzle.verify(2, process2)"
      ],
      "execution_count": 72,
      "outputs": [
        {
          "output_type": "stream",
          "name": "stdout",
          "text": [
            "(Part 2: 0.000 s)\n"
          ]
        }
      ]
    },
    {
      "cell_type": "markdown",
      "metadata": {
        "id": "lUkb6kzu-cfU"
      },
      "source": [
        "<a name=\"day14\"></a>\n",
        "## Day 14: Write masked values to mem"
      ]
    },
    {
      "cell_type": "markdown",
      "metadata": {
        "id": "0Tqy8_ThJoFM"
      },
      "source": [
        "Process a sequence of instructions, each specifying either a bitmask (where each location contains `0`, `1`, or `X`) or the writing of a value to a memory address, and report the sum of the resulting memory contents.\n",
        "\n",
        "- Part 1: The bitmask is applied to the value written to memory, such that `0` and `1` replace the corresponding bit in the value and `X` leaves it unchanged.\n",
        "\n",
        "- Part 2: The bitmask is applied to the address used to write the value to memory, such that `1` replaces the corresponding bit in the address and `X` indicates a wildcard.  The value is written to all memory addresses satisfying the wildcard."
      ]
    },
    {
      "cell_type": "code",
      "metadata": {
        "id": "iyX9MORD-cfU",
        "colab": {
          "base_uri": "https://localhost:8080/",
          "height": 302
        },
        "outputId": "7f333efc-99c0-49b9-8227-f9d2bd0bd546"
      },
      "source": [
        "puzzle = advent.puzzle(day=14)"
      ],
      "execution_count": 73,
      "outputs": [
        {
          "output_type": "display_data",
          "data": {
            "text/markdown": "For [day 14](https://adventofcode.com/2020/day/14), `puzzle.input` has 570 lines:",
            "text/plain": [
              "<IPython.core.display.Markdown object>"
            ]
          },
          "metadata": {}
        },
        {
          "output_type": "stream",
          "name": "stdout",
          "text": [
            "mask = 0111X10100100X1111X10010X000X1000001\n",
            "mem[50907] = 468673978\n",
            "mem[22295] = 3337449\n",
            "mem[58474] = 56418393\n",
            "mem[15362] = 243184\n",
            "mem[65089] = 110688658\n",
            "mask = 010X010XX110X01X01X10X001001011X110X\n",
            "mem[21952] = 950257\n",
            " ...\n",
            "mem[13666] = 52961\n",
            "mem[7377] = 134144120\n",
            "mem[58224] = 211536\n",
            "mem[36878] = 173058887\n"
          ]
        },
        {
          "output_type": "display_data",
          "data": {
            "text/markdown": "The stored answers are: `{1: '9628746976360', 2: '4574598714592'}`",
            "text/plain": [
              "<IPython.core.display.Markdown object>"
            ]
          },
          "metadata": {}
        }
      ]
    },
    {
      "cell_type": "code",
      "metadata": {
        "id": "AGItl2WT-cfU"
      },
      "source": [
        "s1 = \"\"\"\n",
        "mask = XXXXXXXXXXXXXXXXXXXXXXXXXXXXX1XXXX0X\n",
        "mem[8] = 11\n",
        "mem[7] = 101\n",
        "mem[8] = 0\n",
        "\"\"\""
      ],
      "execution_count": 74,
      "outputs": []
    },
    {
      "cell_type": "code",
      "metadata": {
        "id": "qX8Tq_mX9T0S"
      },
      "source": [
        "s2 = \"\"\"\n",
        "mask = 000000000000000000000000000000X1001X\n",
        "mem[42] = 100\n",
        "mask = 00000000000000000000000000000000X0XX\n",
        "mem[26] = 1\n",
        "\"\"\""
      ],
      "execution_count": 75,
      "outputs": []
    },
    {
      "cell_type": "code",
      "source": [
        "def process1(s, part2=False):\n",
        "  mem = {}\n",
        "  extract_0 = str.maketrans('01X', '100')\n",
        "  extract_1 = str.maketrans('01X', '010')\n",
        "  extract_x = str.maketrans('01X', '001')\n",
        "  for line in s.strip('\\n').splitlines():\n",
        "    if line.startswith('mask'):\n",
        "      mask = line.split(' = ')[1]\n",
        "      if not part2:\n",
        "        mask_force_0 = int(mask.translate(extract_0), base=2)\n",
        "        mask_force_1 = int(mask.translate(extract_1), base=2)\n",
        "      else:\n",
        "        mask_force_1 = int(mask.translate(extract_1), base=2)\n",
        "        mask_not_x = ~int(mask.translate(extract_x), base=2)\n",
        "        offsets = [0]\n",
        "        for wildcard in (1 << i for i in range(36) if mask[35 - i] == 'X'):\n",
        "          offsets += [offset + wildcard for offset in offsets]\n",
        "    else:\n",
        "      address, value = map(\n",
        "          int, re.fullmatch(r'mem\\[(\\d+)\\] = (\\d+)', line).groups())\n",
        "      if not part2:\n",
        "        mem[address] = (value | mask_force_1) & ~mask_force_0\n",
        "      else:\n",
        "        address = (address & mask_not_x) | mask_force_1\n",
        "        for offset in offsets:\n",
        "          mem[address + offset] = value\n",
        "  return sum(mem.values())\n",
        "\n",
        "\n",
        "check_eq(process1(s1), 165)\n",
        "puzzle.verify(1, process1)\n",
        "\n",
        "process2 = functools.partial(process1, part2=True)\n",
        "check_eq(process2(s2), 208)\n",
        "puzzle.verify(2, process2)"
      ],
      "metadata": {
        "colab": {
          "base_uri": "https://localhost:8080/"
        },
        "id": "tOdJIVsnHvoJ",
        "outputId": "6738454d-5124-4790-8fe6-8aa69a0d2e6c"
      },
      "execution_count": 76,
      "outputs": [
        {
          "output_type": "stream",
          "name": "stdout",
          "text": [
            "(Part 1: 0.003 s)\n",
            "(Part 2: 0.028 s)\n"
          ]
        }
      ]
    },
    {
      "cell_type": "markdown",
      "metadata": {
        "id": "0gjk1fsn-cvQ"
      },
      "source": [
        "<a name=\"day15\"></a>\n",
        "## Day 15: Rounds of spoken numbers"
      ]
    },
    {
      "cell_type": "markdown",
      "metadata": {
        "id": "QIsZ5G3POltD"
      },
      "source": [
        "Given an initial sequence of numbers indexed starting at `1`, continue the sequence as follows.\n",
        "\n",
        "The number at index `i` is either\n",
        "  * `0` if the numer at index `i - 1` was not previously seen, or\n",
        "  * `i - 1 - j` if the number at index `i - 1` was previously seen at index `j`.\n",
        "\n",
        "- Part 1: Report the number at index `2020`.\n",
        "\n",
        "- Part 2: Report the number at index `30_000_000`."
      ]
    },
    {
      "cell_type": "code",
      "metadata": {
        "id": "anebyn3p-cvQ",
        "colab": {
          "base_uri": "https://localhost:8080/",
          "height": 93
        },
        "outputId": "6ae91adf-74c3-4948-f174-5257c8a89a9a"
      },
      "source": [
        "puzzle = advent.puzzle(day=15)"
      ],
      "execution_count": 77,
      "outputs": [
        {
          "output_type": "display_data",
          "data": {
            "text/markdown": "For [day 15](https://adventofcode.com/2020/day/15), `puzzle.input` has 1 lines:",
            "text/plain": [
              "<IPython.core.display.Markdown object>"
            ]
          },
          "metadata": {}
        },
        {
          "output_type": "stream",
          "name": "stdout",
          "text": [
            "9,12,1,4,17,0,18\n"
          ]
        },
        {
          "output_type": "display_data",
          "data": {
            "text/markdown": "The stored answers are: `{1: '610', 2: '1407'}`",
            "text/plain": [
              "<IPython.core.display.Markdown object>"
            ]
          },
          "metadata": {}
        }
      ]
    },
    {
      "cell_type": "code",
      "metadata": {
        "id": "iDVIoKKZ-cvQ"
      },
      "source": [
        "s1 = '0,3,6'"
      ],
      "execution_count": 78,
      "outputs": []
    },
    {
      "cell_type": "code",
      "metadata": {
        "colab": {
          "base_uri": "https://localhost:8080/"
        },
        "id": "3N4q_xR-6_VC",
        "outputId": "b03fa824-d46c-42ba-dccd-023a2ceaefae"
      },
      "source": [
        "# Code that does not use numba:\n",
        "\n",
        "def generate_sequence(initial_sequence):\n",
        "  last_turn = {}\n",
        "  for turn, number in enumerate(initial_sequence):\n",
        "    prev_turn = last_turn.get(number, -1)\n",
        "    last_turn[number] = turn\n",
        "    yield number\n",
        "\n",
        "  for turn in itertools.count(len(initial_sequence)):\n",
        "    number = 0 if prev_turn < 0 else turn - 1 - prev_turn\n",
        "    prev_turn = last_turn.get(number, -1)\n",
        "    last_turn[number] = turn\n",
        "    yield number\n",
        "\n",
        "\n",
        "def process1(s, num_turns=2020):\n",
        "  initial_sequence = tuple(map(int, s.split(',')))\n",
        "  return next(itertools.islice(generate_sequence(\n",
        "      initial_sequence), num_turns - 1, None))\n",
        "\n",
        "\n",
        "check_eq(process1(s1, num_turns=10), 0)\n",
        "check_eq(process1(s1), 436)\n",
        "check_eq(process1('1,3,2'), 1)\n",
        "check_eq(process1('2,1,3'), 10)\n",
        "check_eq(process1('1,2,3'), 27)\n",
        "check_eq(process1('2,3,1'), 78)\n",
        "check_eq(process1('3,2,1'), 438)\n",
        "check_eq(process1('3,1,2'), 1836)\n",
        "puzzle.verify(1, process1)"
      ],
      "execution_count": 79,
      "outputs": [
        {
          "output_type": "stream",
          "name": "stdout",
          "text": [
            "(Part 1: 0.001 s)\n"
          ]
        }
      ]
    },
    {
      "cell_type": "code",
      "metadata": {
        "id": "h7CITw5KAG-f"
      },
      "source": [
        "if 0:  # The output looks chaotic, without any obvious pattern.\n",
        "  pprint.pprint(list(itertools.islice(generate_sequence(s1.split(',')), 1000)),\n",
        "                width=150, compact=True)"
      ],
      "execution_count": 80,
      "outputs": []
    },
    {
      "cell_type": "markdown",
      "metadata": {
        "id": "sHM5k0wftD-F"
      },
      "source": [
        "Part 2"
      ]
    },
    {
      "cell_type": "code",
      "metadata": {
        "colab": {
          "base_uri": "https://localhost:8080/"
        },
        "id": "bMc2h-CKR5Ix",
        "outputId": "5ea738d2-51c0-4518-8cbd-d606e70f1b78"
      },
      "source": [
        "# Code which is faster but only if numba is enabled:\n",
        "if using_numba:\n",
        "  def process1(s, num_turns=2020):\n",
        "\n",
        "    @numba_njit(cache=True)\n",
        "    def func(initial_sequence, num_turns):\n",
        "      last_turn = np.full(num_turns, -1, dtype=np.int32)\n",
        "      for turn in range(min(num_turns, len(initial_sequence))):\n",
        "        number = initial_sequence[turn]\n",
        "        prev_turn = last_turn[number]\n",
        "        last_turn[number] = turn\n",
        "\n",
        "      for turn in range(len(initial_sequence), num_turns):\n",
        "        number = 0 if prev_turn < 0 else turn - 1 - prev_turn\n",
        "        prev_turn = last_turn[number]\n",
        "        last_turn[number] = turn\n",
        "\n",
        "      return number\n",
        "\n",
        "    initial_sequence = np.array(tuple(map(int, s.split(','))), dtype=np.int32)\n",
        "    return func(initial_sequence, num_turns)\n",
        "\n",
        "\n",
        "check_eq(process1(s1), 436)\n",
        "puzzle.verify(1, process1)\n",
        "\n",
        "process2 = functools.partial(process1, num_turns=30_000_000)\n",
        "if using_numba:\n",
        "  check_eq(process2(s1), 175594)  # Run at least once for numba compilation.\n",
        "  if 0:\n",
        "    check_eq(process2('1,3,2'), 2578)\n",
        "    check_eq(process2('2,1,3'), 3544142)\n",
        "    check_eq(process2('1,2,3'), 261214)\n",
        "    check_eq(process2('2,3,1'), 6895259)\n",
        "    check_eq(process2('3,2,1'), 18)\n",
        "    check_eq(process2('3,1,2'), 362)\n",
        "# ~1 s with numba, ~20 s for non-numba version\n",
        "puzzle.verify(2, process2)"
      ],
      "execution_count": 81,
      "outputs": [
        {
          "output_type": "stream",
          "name": "stdout",
          "text": [
            "(Part 1: 0.005 s)\n",
            "(Part 2: 1.057 s)\n"
          ]
        }
      ]
    },
    {
      "cell_type": "markdown",
      "metadata": {
        "id": "_eebxbTj-c67"
      },
      "source": [
        "<a name=\"day16\"></a>\n",
        "## Day 16: Match ticket fields and rules"
      ]
    },
    {
      "cell_type": "markdown",
      "metadata": {
        "id": "wFnxm7dzXOie"
      },
      "source": [
        "Given (1) a set of fields with names and rules on possible value ranges, (2) my ticket with unlabled fields, and (3) a set of other tickets with unlabeled fields:\n",
        "\n",
        "- Part 1: Report the number of invalid other tickets, which are those containing a field value that does not satisfy any field rule.\n",
        "\n",
        "- Part 2: Considering the valid other tickets, determine a labeling of the ticket fields that is compatible with the rules.  Report the product of the 6 field values on my ticket whose names start with `departure`."
      ]
    },
    {
      "cell_type": "code",
      "metadata": {
        "id": "LkGzSL1N-c67",
        "colab": {
          "base_uri": "https://localhost:8080/",
          "height": 302
        },
        "outputId": "40b3e2ae-a9c4-42d3-f3d3-63119712dc26"
      },
      "source": [
        "puzzle = advent.puzzle(day=16)"
      ],
      "execution_count": 82,
      "outputs": [
        {
          "output_type": "display_data",
          "data": {
            "text/markdown": "For [day 16](https://adventofcode.com/2020/day/16), `puzzle.input` has 268 lines:",
            "text/plain": [
              "<IPython.core.display.Markdown object>"
            ]
          },
          "metadata": {}
        },
        {
          "output_type": "stream",
          "name": "stdout",
          "text": [
            "departure location: 33-679 or 691-971\n",
            "departure station: 48-646 or 671-966\n",
            "departure platform: 37-601 or 619-950\n",
            "departure track: 41-863 or 875-973\n",
            "departure date: 37-145 or 168-965\n",
            "departure time: 26-246 or 257-972\n",
            "arrival location: 30-542 or 556-960\n",
            "arrival station: 30-75 or 89-954\n",
            " ...\n",
            "845,453,939,349,884,940,0,621,933,188,73,204,440,918,207,671,629,735,487,627\n",
            "879,694,125,501,580,274,451,885,834,397,146,104,185,173,528,717,590,412,350,936\n",
            "944,91,450,631,262,501,196,401,199,946,105,236,634,765,66,385,582,437,262,581\n",
            "924,594,156,702,128,858,133,695,140,486,399,534,115,627,748,560,518,700,883,206\n"
          ]
        },
        {
          "output_type": "display_data",
          "data": {
            "text/markdown": "The stored answers are: `{1: '29878', 2: '855438643439'}`",
            "text/plain": [
              "<IPython.core.display.Markdown object>"
            ]
          },
          "metadata": {}
        }
      ]
    },
    {
      "cell_type": "code",
      "metadata": {
        "id": "YNVRZNVO-c67",
        "colab": {
          "base_uri": "https://localhost:8080/"
        },
        "cellView": "form",
        "outputId": "5928a3f6-586b-40d7-8951-c5ebd69c6e3c"
      },
      "source": [
        "#@title\n",
        "print('Let s1, s2 be test inputs.')\n",
        "\n",
        "s1 = \"\"\"\n",
        "class: 1-3 or 5-7\n",
        "row: 6-11 or 33-44\n",
        "seat: 13-40 or 45-50\n",
        "\n",
        "your ticket:\n",
        "7,1,14\n",
        "\n",
        "nearby tickets:\n",
        "7,3,47\n",
        "40,4,50\n",
        "55,2,20\n",
        "38,6,12\n",
        "\"\"\"\n",
        "\n",
        "s2 = \"\"\"\n",
        "class: 0-1 or 4-19\n",
        "row: 0-5 or 8-19\n",
        "seat: 0-13 or 16-19\n",
        "\n",
        "your ticket:\n",
        "11,12,13\n",
        "\n",
        "nearby tickets:\n",
        "3,9,18\n",
        "15,1,5\n",
        "5,14,9\n",
        "\"\"\""
      ],
      "execution_count": 83,
      "outputs": [
        {
          "output_type": "stream",
          "name": "stdout",
          "text": [
            "Let s1, s2 be test inputs.\n"
          ]
        }
      ]
    },
    {
      "cell_type": "code",
      "metadata": {
        "id": "6KwUNK8O6WN-",
        "colab": {
          "base_uri": "https://localhost:8080/"
        },
        "outputId": "c95b2704-bd49-498e-9e5d-feb5fb9c4677"
      },
      "source": [
        "def process1(s, part2=False):\n",
        "\n",
        "  def read_rules_and_tickets(s):\n",
        "    s_rules, s_my_ticket, s_nearby = s.strip('\\n').split('\\n\\n')\n",
        "\n",
        "    def read_rules():\n",
        "      for line in s_rules.splitlines():\n",
        "        name, ranges = line.split(': ')\n",
        "        ranges = ranges.split(' or ')\n",
        "        yield (name, [tuple(map(int, range.split('-'))) for range in ranges])\n",
        "\n",
        "    line, = s_my_ticket.splitlines()[1:]\n",
        "    my_ticket = list(map(int, line.split(',')))\n",
        "\n",
        "    def read_tickets():\n",
        "      for line in s_nearby.splitlines()[1:]:\n",
        "        fields = list(map(int, line.split(',')))\n",
        "        yield fields\n",
        "\n",
        "    return read_rules, my_ticket, read_tickets\n",
        "\n",
        "  def value_ok_for_some_rule(value, rules):\n",
        "    return any(range[0] <= value <= range[1]\n",
        "              for ranges in rules.values() for range in ranges)\n",
        "\n",
        "  read_rules, my_ticket, read_tickets = read_rules_and_tickets(s)\n",
        "  rules = dict(read_rules())\n",
        "\n",
        "  if not part2:\n",
        "    return sum(value for fields in read_tickets() for value in fields\n",
        "               if not value_ok_for_some_rule(value, rules))\n",
        "\n",
        "  valid_tickets = [\n",
        "      fields for fields in read_tickets()\n",
        "      if all(value_ok_for_some_rule(value, rules) for value in fields)\n",
        "  ]\n",
        "  num_rules, num_fields = len(rules), len(valid_tickets[0])\n",
        "  check_eq(num_rules, num_fields)\n",
        "\n",
        "  def is_compatible(rule, field_index):\n",
        "    ranges = rules[rule]\n",
        "    return all(\n",
        "        any(range[0] <= ticket[field_index] <= range[1] for range in ranges)\n",
        "        for ticket in valid_tickets\n",
        "    )\n",
        "\n",
        "  grid = np.empty((num_rules, num_fields), dtype=np.bool)\n",
        "  # Computational bottleneck; could let rules.values() be array and use numba.\n",
        "  for rule_index, rule in enumerate(rules):\n",
        "    for field_index in range(num_fields):\n",
        "      grid[rule_index, field_index] = is_compatible(rule, field_index)\n",
        "\n",
        "  column_of_rule = {}\n",
        "  row_sums = grid.sum(axis=1)\n",
        "  while row_sums.any():\n",
        "    row = np.nonzero(row_sums == 1)[0][0]\n",
        "    col = np.nonzero(grid[row] == 1)[0][0]\n",
        "    rule = list(rules)[row]\n",
        "    column_of_rule[rule] = col\n",
        "    row_sums -= grid[:, col]\n",
        "    grid[:, col] = 0\n",
        "  values = [my_ticket[column_of_rule[rule]] for rule in rules\n",
        "            if rule.startswith('departure')]\n",
        "  check_eq(len(values), 6)\n",
        "  return np.prod(values)\n",
        "\n",
        "\n",
        "check_eq(process1(s1), 71)\n",
        "puzzle.verify(1, process1)\n",
        "\n",
        "process2 = functools.partial(process1, part2=True)\n",
        "puzzle.verify(2, process2)"
      ],
      "execution_count": 84,
      "outputs": [
        {
          "output_type": "stream",
          "name": "stdout",
          "text": [
            "(Part 1: 0.006 s)\n",
            "(Part 2: 0.050 s)\n"
          ]
        }
      ]
    },
    {
      "cell_type": "markdown",
      "metadata": {
        "id": "gtbnA6Tu-dGn"
      },
      "source": [
        "<a name=\"day17\"></a>\n",
        "## Day 17: Game of life in 3D and 4D"
      ]
    },
    {
      "cell_type": "markdown",
      "metadata": {
        "id": "mGN11x0HZx_6"
      },
      "source": [
        "Given an initial 2D grid of cell states, simulate a cellular automaton on a higher-dimensional grid.  An inactive grid cell becomes active if exactly 3 of its neighbors is active, and an active grid cell becomes inactive unless 2 or 3 of its neighbors is active.  (Each cell has 26 neighbors in 3D and 80 neighbors in 4D.)\n",
        "\n",
        "- Part 1: Run the cellular automaton in 3D for 6 generations and report the number of active cells.\n",
        "\n",
        "- Part 2: Do the same in 4D."
      ]
    },
    {
      "cell_type": "code",
      "metadata": {
        "id": "pbYNL9pU-dGn",
        "colab": {
          "base_uri": "https://localhost:8080/",
          "height": 214
        },
        "outputId": "d957c605-ff5e-48cf-ac63-76bfaa177e0a"
      },
      "source": [
        "puzzle = advent.puzzle(day=17)"
      ],
      "execution_count": 85,
      "outputs": [
        {
          "output_type": "display_data",
          "data": {
            "text/markdown": "For [day 17](https://adventofcode.com/2020/day/17), `puzzle.input` has 8 lines:",
            "text/plain": [
              "<IPython.core.display.Markdown object>"
            ]
          },
          "metadata": {}
        },
        {
          "output_type": "stream",
          "name": "stdout",
          "text": [
            ".......#\n",
            "....#...\n",
            "...###.#\n",
            "#...###.\n",
            "....##..\n",
            "##.#..#.\n",
            "###.#.#.\n",
            "....#...\n"
          ]
        },
        {
          "output_type": "display_data",
          "data": {
            "text/markdown": "The stored answers are: `{1: '232', 2: '1620'}`",
            "text/plain": [
              "<IPython.core.display.Markdown object>"
            ]
          },
          "metadata": {}
        }
      ]
    },
    {
      "cell_type": "code",
      "metadata": {
        "id": "iyH3cz1t6d_9"
      },
      "source": [
        "s1 = \"\"\"\n",
        ".#.\n",
        "..#\n",
        "###\n",
        "\"\"\""
      ],
      "execution_count": 86,
      "outputs": []
    },
    {
      "cell_type": "code",
      "metadata": {
        "id": "N2rufCY8ukMM"
      },
      "source": [
        "# Both of the solutions below work in arbitrary dimension!"
      ],
      "execution_count": 87,
      "outputs": []
    },
    {
      "cell_type": "code",
      "metadata": {
        "id": "l0P-Z-ekupYj",
        "colab": {
          "base_uri": "https://localhost:8080/"
        },
        "outputId": "3b7d27f8-ad79-4009-ba5b-3cb9c58908c0"
      },
      "source": [
        "def process1(s, num_cycles=6, dim=3):  # Slower.\n",
        "  lines = s.strip('\\n').splitlines()\n",
        "  indices = {\n",
        "      (0,) * (dim - 2) + (y, x)\n",
        "      for y, line in enumerate(lines) for x, ch in enumerate(line)\n",
        "      if ch == '#'\n",
        "  }\n",
        "  offsets = set(itertools.product((-1, 0, 1), repeat=dim)) - {(0,) * dim}\n",
        "\n",
        "  def neighbors(index):\n",
        "    for offset in offsets:\n",
        "      yield tuple(map(sum, zip(index, offset)))\n",
        "\n",
        "  def count_neighbors(index):\n",
        "    return sum(neighbor in indices for neighbor in neighbors(index))\n",
        "\n",
        "  for _ in range(num_cycles):\n",
        "    survivors = {index for index in indices if 2 <= count_neighbors(index) <= 3}\n",
        "    adjacents = {neighbor for index in indices for neighbor in neighbors(index)}\n",
        "    births = {index for index in adjacents if count_neighbors(index) == 3}\n",
        "    indices = survivors | births\n",
        "\n",
        "  return len(indices)\n",
        "\n",
        "\n",
        "check_eq(process1(s1), 112)\n",
        "puzzle.verify(1, process1)"
      ],
      "execution_count": 88,
      "outputs": [
        {
          "output_type": "stream",
          "name": "stdout",
          "text": [
            "(Part 1: 0.157 s)\n"
          ]
        }
      ]
    },
    {
      "cell_type": "code",
      "metadata": {
        "colab": {
          "base_uri": "https://localhost:8080/"
        },
        "id": "wfDzi7fCbT0Y",
        "outputId": "aea712cf-0d8b-46fa-adf8-77cc2a3f0392"
      },
      "source": [
        "def process1(s, num_cycles=6, dim=3):  # Faster.\n",
        "  lines = s.strip('\\n').splitlines()\n",
        "  indices = {\n",
        "      (0,) * (dim - 2) + (y, x)\n",
        "      for y, line in enumerate(lines) for x, ch in enumerate(line)\n",
        "      if ch == '#'\n",
        "  }\n",
        "  offsets = set(itertools.product((-1, 0, 1), repeat=dim)) - {(0,) * dim}\n",
        "\n",
        "  def neighbors(index):\n",
        "    i = index\n",
        "    if dim == 3:  # faster\n",
        "      for o in offsets:\n",
        "        yield i[0] + o[0], i[1] + o[1], i[2] + o[2]\n",
        "    elif dim == 4:  # faster\n",
        "      for o in offsets:\n",
        "        yield i[0] + o[0], i[1] + o[1], i[2] + o[2], i[3] + o[3]\n",
        "    else:\n",
        "      for o in offsets:\n",
        "        yield tuple(map(sum, zip(i, o)))\n",
        "\n",
        "  for _ in range(num_cycles):\n",
        "    # Adapted from collections.Counter() algorithm in\n",
        "    # https://github.com/norvig/pytudes/blob/master/ipynb/Advent-2020.ipynb\n",
        "    neighbor_counts = collections.Counter(\n",
        "        itertools.chain.from_iterable(neighbors(index) for index in indices))\n",
        "    indices = {index for index, count in neighbor_counts.items()\n",
        "               if count == 3 or (count == 2 and index in indices)}\n",
        "\n",
        "  return len(indices)\n",
        "\n",
        "\n",
        "check_eq(process1(s1), 112)\n",
        "puzzle.verify(1, process1)\n",
        "\n",
        "process2 = functools.partial(process1, dim=4)\n",
        "check_eq(process2(s1), 848)\n",
        "puzzle.verify(2, process2)"
      ],
      "execution_count": 89,
      "outputs": [
        {
          "output_type": "stream",
          "name": "stdout",
          "text": [
            "(Part 1: 0.008 s)\n",
            "(Part 2: 0.208 s)\n"
          ]
        }
      ]
    },
    {
      "cell_type": "code",
      "metadata": {
        "colab": {
          "base_uri": "https://localhost:8080/"
        },
        "id": "JaReGZZ7weLS",
        "outputId": "764a1afb-4bfc-43c5-d9d5-84017067de0c"
      },
      "source": [
        "def show_num_active_in_each_generation_for_2d_3d_4d():\n",
        "  for dim in range(2, 5):\n",
        "    print(dim, [process1(puzzle.input, n, dim) for n in range(6)])\n",
        "\n",
        "show_num_active_in_each_generation_for_2d_3d_4d()"
      ],
      "execution_count": 90,
      "outputs": [
        {
          "output_type": "stream",
          "name": "stdout",
          "text": [
            "2 [22, 17, 23, 24, 28, 27]\n",
            "3 [22, 39, 50, 84, 140, 173]\n",
            "4 [22, 105, 144, 652, 372, 1796]\n"
          ]
        }
      ]
    },
    {
      "cell_type": "markdown",
      "metadata": {
        "id": "HNOZW8Ax-dQy"
      },
      "source": [
        "<a name=\"day18\"></a>\n",
        "## Day 18: Parsing math expression"
      ]
    },
    {
      "cell_type": "markdown",
      "metadata": {
        "id": "6-QdRn_Rb7kR"
      },
      "source": [
        "Given a list of mathematical expressions with additions, multiplications, and parantheses, evaluate each expression and report the sum of resulting values.\n",
        "\n",
        "- Part 1: Operators `+` and `*` have equal precedence and are applied left-to-right.\n",
        "\n",
        "- Part 2: Operator `+` has higher precedence than `*` (which is unusual)."
      ]
    },
    {
      "cell_type": "code",
      "metadata": {
        "id": "YvZH2Qku-dQy",
        "colab": {
          "base_uri": "https://localhost:8080/",
          "height": 302
        },
        "outputId": "f818902b-578a-462c-ea8c-ab525a7bf4e4"
      },
      "source": [
        "puzzle = advent.puzzle(day=18)"
      ],
      "execution_count": 91,
      "outputs": [
        {
          "output_type": "display_data",
          "data": {
            "text/markdown": "For [day 18](https://adventofcode.com/2020/day/18), `puzzle.input` has 380 lines:",
            "text/plain": [
              "<IPython.core.display.Markdown object>"
            ]
          },
          "metadata": {}
        },
        {
          "output_type": "stream",
          "name": "stdout",
          "text": [
            "7 + (9 * 8 + 5 + 5 * (3 * 4 * 7 + 6 * 4)) * ((3 * 6 + 3 * 4 * 7 * 4) + 4 * 3 * 5 + 5 * (5 * 6 + 7)) * 2 + 6 * 4\n",
            "9 * 4 * ((9 * 8 + 9 + 2 + 9) + 2 * 9 + 2 + 2) * 5 * 6\n",
            "3 * ((9 * 3 * 8 * 6 * 6 * 7) + 8) * 2 * 9 + 4 * 8\n",
            "(3 + 4 + 4 * 4 + 9) + (7 + 6 + 2 * 8) * 9 + 7 * 8\n",
            "9 + 6 + 6 + 9 * 9 * 5\n",
            "(3 * 5 + (4 + 3 * 7 * 8) + 7 + 8 + 2) * 8 * (3 * 4 * 8) * ((4 + 5 * 2) * 7)\n",
            "6 + (5 + 8 * (6 * 8 * 9 + 9 + 8 * 9) * 4 + (5 * 9)) * 2 + 2\n",
            "(6 + 8 + (6 * 6 + 2) * 6 * (7 + 7 + 8 + 9)) * 3 + 8 + (6 * (8 + 8 + 9)) + 2\n",
            " ...\n",
            "5 * 8 + (7 + 2 + 6) * (8 + 2 + 8 + 4 + 9) + (5 * 6 * 6 * 3) + 8\n",
            "6 + (7 * 4 + 4 * 7 + 3 * 7) + 9 + 5 * 7 * 5\n",
            "3 + 2 + 8 + (4 + 9 * 4 * 2 + (9 * 9 + 9 + 5) * 5) + 6\n",
            "3 * 9 * 4 * (5 * 4 * (8 + 3))\n"
          ]
        },
        {
          "output_type": "display_data",
          "data": {
            "text/markdown": "The stored answers are: `{1: '4940631886147', 2: '283582817678281'}`",
            "text/plain": [
              "<IPython.core.display.Markdown object>"
            ]
          },
          "metadata": {}
        }
      ]
    },
    {
      "cell_type": "code",
      "metadata": {
        "id": "EHeqe3fA-dQy",
        "colab": {
          "base_uri": "https://localhost:8080/"
        },
        "outputId": "6f1aae3d-ceb5-49cf-dce6-4c3bfc8a51a0"
      },
      "source": [
        "def process1(strings, part2=False):  # Slower, more readable.\n",
        "\n",
        "  def evaluate_line(s):\n",
        "\n",
        "    def parse_term(i):\n",
        "      if s[i] == '(':\n",
        "        value, i = parse_sequence(i + 1)\n",
        "        check_eq(s[i], ')')\n",
        "        return value, i + 1\n",
        "      if s[i].isdigit():\n",
        "        value = int(s[i])\n",
        "        return value, i + 1\n",
        "      raise AssertionError\n",
        "\n",
        "    def parse_sequence(i):\n",
        "      value, i = parse_term(i)\n",
        "      while i < len(s) and s[i] != ')':\n",
        "        check_eq(s[i], ' ')\n",
        "        check_eq(s[i + 2], ' ')\n",
        "        if s[i + 1] == '+':\n",
        "          value2, i = parse_term(i + 3)\n",
        "          value += value2\n",
        "        elif s[i + 1] == '*':\n",
        "          value2, i = (parse_sequence if part2 else parse_term)(i + 3)\n",
        "          value *= value2\n",
        "        else:\n",
        "          raise AssertionError\n",
        "      return value, i\n",
        "\n",
        "    value, i = parse_sequence(0)\n",
        "    check_eq(i, len(s))\n",
        "    return value\n",
        "\n",
        "  return sum(evaluate_line(s) for s in strings.splitlines())\n",
        "\n",
        "puzzle.verify(1, process1)\n",
        "\n",
        "process2 = functools.partial(process1, part2=True)\n",
        "puzzle.verify(2, process2)"
      ],
      "execution_count": 92,
      "outputs": [
        {
          "output_type": "stream",
          "name": "stdout",
          "text": [
            "(Part 1: 0.066 s)\n",
            "(Part 2: 0.061 s)\n"
          ]
        }
      ]
    },
    {
      "cell_type": "code",
      "metadata": {
        "id": "yWEVQRq560AZ",
        "colab": {
          "base_uri": "https://localhost:8080/"
        },
        "outputId": "24016f3d-49c6-4c5c-9d25-90b68ada38cd"
      },
      "source": [
        "def process1(strings, part2=False):  # Compact and faster.\n",
        "\n",
        "  def evaluate_line(s):\n",
        "\n",
        "    def eval_term(i):\n",
        "      return eval_seq(i + 1, eat=1) if s[i] == '(' else (int(s[i]), i + 1)\n",
        "\n",
        "    def eval_seq(i, eat=0):\n",
        "      value, i = eval_term(i)\n",
        "      while i < len(s) and s[i] != ')':\n",
        "        is_mul = s[i + 1] == '*'\n",
        "        value2, i = (eval_seq if part2 and is_mul else eval_term)(i + 3)\n",
        "        value = value * value2 if is_mul else value + value2\n",
        "      return value, i + eat\n",
        "\n",
        "    return eval_seq(0)[0]\n",
        "\n",
        "  return sum(evaluate_line(s) for s in strings.strip('\\n').splitlines())\n",
        "\n",
        "\n",
        "check_eq(process1('1 + 2 * 3 + 4 * 5 + 6'), 71)\n",
        "check_eq(process1('1 + (2 * 3) + (4 * (5 + 6))'), 51)\n",
        "check_eq(process1('2 * 3 + (4 * 5)'), 26)\n",
        "check_eq(process1('5 + (8 * 3 + 9 + 3 * 4 * 3)'), 437)\n",
        "check_eq(process1('5 * 9 * (7 * 3 * 3 + 9 * 3 + (8 + 6 * 4))'), 12240)\n",
        "check_eq(process1('((2 + 4 * 9) * (6 + 9 * 8 + 6) + 6) + 2 + 4 * 2'), 13632)\n",
        "puzzle.verify(1, process1)\n",
        "\n",
        "process2 = functools.partial(process1, part2=True)\n",
        "check_eq(process2('1 + 2 * 3 + 4 * 5 + 6'), 231)\n",
        "check_eq(process2('1 + (2 * 3) + (4 * (5 + 6))'), 51)\n",
        "check_eq(process2('2 * 3 + (4 * 5)'), 46)\n",
        "check_eq(process2('5 + (8 * 3 + 9 + 3 * 4 * 3)'), 1445)\n",
        "check_eq(process2('5 * 9 * (7 * 3 * 3 + 9 * 3 + (8 + 6 * 4))'), 669060)\n",
        "check_eq(process2('((2 + 4 * 9) * (6 + 9 * 8 + 6) + 6) + 2 + 4 * 2'), 23340)\n",
        "puzzle.verify(2, process2)"
      ],
      "execution_count": 93,
      "outputs": [
        {
          "output_type": "stream",
          "name": "stdout",
          "text": [
            "(Part 1: 0.005 s)\n",
            "(Part 2: 0.007 s)\n"
          ]
        }
      ]
    },
    {
      "cell_type": "markdown",
      "metadata": {
        "id": "c56vcfk3-dcD"
      },
      "source": [
        "<a name=\"day19\"></a>\n",
        "## Day 19: Message grammar"
      ]
    },
    {
      "cell_type": "markdown",
      "metadata": {
        "id": "RAvwjbvGdP65"
      },
      "source": [
        "Given a set of context-free grammar rules and a set of words, report the number of words that are expressible in the grammar.\n",
        "\n",
        "- Part 1: Use the initial grammar rules, which do not have cycles.\n",
        "\n",
        "- Part 2: Replace two of the grammar rules, thereby introducing cycles."
      ]
    },
    {
      "cell_type": "code",
      "metadata": {
        "id": "OS8_aWxv-dcD",
        "colab": {
          "base_uri": "https://localhost:8080/",
          "height": 302
        },
        "outputId": "0da66b5e-2b2f-4da2-cdbd-8e35135f86c1"
      },
      "source": [
        "puzzle = advent.puzzle(day=19)"
      ],
      "execution_count": 94,
      "outputs": [
        {
          "output_type": "display_data",
          "data": {
            "text/markdown": "For [day 19](https://adventofcode.com/2020/day/19), `puzzle.input` has 583 lines:",
            "text/plain": [
              "<IPython.core.display.Markdown object>"
            ]
          },
          "metadata": {}
        },
        {
          "output_type": "stream",
          "name": "stdout",
          "text": [
            "26: 97 126 | 123 57\n",
            "122: 84 97 | 92 123\n",
            "82: 97 138 | 123 130\n",
            "80: 131 97\n",
            "3: 123 107 | 97 66\n",
            "101: 1 123 | 95 97\n",
            "10: 97 138 | 123 107\n",
            "83: 123 27 | 97 12\n",
            " ...\n",
            "abaabababbbbbabababbabbaaaabbbba\n",
            "baaaababbbabbbbaaababbab\n",
            "bbbabbabaabbaabbabbaaabb\n",
            "abaaaababaabbbbabbbbbbbbaaaaaaaababaaaabbbaaaaaabbbbaaabbbbababb\n"
          ]
        },
        {
          "output_type": "display_data",
          "data": {
            "text/markdown": "The stored answers are: `{1: '198', 2: '372'}`",
            "text/plain": [
              "<IPython.core.display.Markdown object>"
            ]
          },
          "metadata": {}
        }
      ]
    },
    {
      "cell_type": "code",
      "metadata": {
        "id": "dDfUDTg6-dcD",
        "colab": {
          "base_uri": "https://localhost:8080/"
        },
        "cellView": "form",
        "outputId": "b3f72439-a3c4-4226-a8b5-d65cd1f78a7e"
      },
      "source": [
        "#@title\n",
        "print('Let s1, s2 be test inputs.')\n",
        "\n",
        "s1 = \"\"\"\n",
        "0: 4 1 5\n",
        "1: 2 3 | 3 2\n",
        "2: 4 4 | 5 5\n",
        "3: 4 5 | 5 4\n",
        "4: \"a\"\n",
        "5: \"b\"\n",
        "\n",
        "ababbb\n",
        "bababa\n",
        "abbbab\n",
        "aaabbb\n",
        "aaaabbb\n",
        "\"\"\"\n",
        "\n",
        "s2 = \"\"\"\n",
        "42: 9 14 | 10 1\n",
        "9: 14 27 | 1 26\n",
        "10: 23 14 | 28 1\n",
        "1: \"a\"\n",
        "11: 42 31\n",
        "5: 1 14 | 15 1\n",
        "19: 14 1 | 14 14\n",
        "12: 24 14 | 19 1\n",
        "16: 15 1 | 14 14\n",
        "31: 14 17 | 1 13\n",
        "6: 14 14 | 1 14\n",
        "2: 1 24 | 14 4\n",
        "0: 8 11\n",
        "13: 14 3 | 1 12\n",
        "15: 1 | 14\n",
        "17: 14 2 | 1 7\n",
        "23: 25 1 | 22 14\n",
        "28: 16 1\n",
        "4: 1 1\n",
        "20: 14 14 | 1 15\n",
        "3: 5 14 | 16 1\n",
        "27: 1 6 | 14 18\n",
        "14: \"b\"\n",
        "21: 14 1 | 1 14\n",
        "25: 1 1 | 1 14\n",
        "22: 14 14\n",
        "8: 42\n",
        "26: 14 22 | 1 20\n",
        "18: 15 15\n",
        "7: 14 5 | 1 21\n",
        "24: 14 1\n",
        "\n",
        "abbbbbabbbaaaababbaabbbbabababbbabbbbbbabaaaa\n",
        "bbabbbbaabaabba\n",
        "babbbbaabbbbbabbbbbbaabaaabaaa\n",
        "aaabbbbbbaaaabaababaabababbabaaabbababababaaa\n",
        "bbbbbbbaaaabbbbaaabbabaaa\n",
        "bbbababbbbaaaaaaaabbababaaababaabab\n",
        "ababaaaaaabaaab\n",
        "ababaaaaabbbaba\n",
        "baabbaaaabbaaaababbaababb\n",
        "abbbbabbbbaaaababbbbbbaaaababb\n",
        "aaaaabbaabaaaaababaa\n",
        "aaaabbaaaabbaaa\n",
        "aaaabbaabbaaaaaaabbbabbbaaabbaabaaa\n",
        "babaaabbbaaabaababbaabababaaab\n",
        "aabbbbbaabbbaaaaaabbbbbababaaaaabbaaabba\n",
        "\"\"\""
      ],
      "execution_count": 95,
      "outputs": [
        {
          "output_type": "stream",
          "name": "stdout",
          "text": [
            "Let s1, s2 be test inputs.\n"
          ]
        }
      ]
    },
    {
      "cell_type": "code",
      "metadata": {
        "id": "9goN2Yg2Ylew",
        "colab": {
          "base_uri": "https://localhost:8080/"
        },
        "outputId": "d3b624eb-3339-4247-a2f9-6d0baf1d15c9"
      },
      "source": [
        "def process1(s, part2=False):  # Compact.\n",
        "  section1, section2 = s.strip('\\n').split('\\n\\n')\n",
        "  rules = dict(line.split(': ') for line in section1.splitlines())\n",
        "  if part2:\n",
        "    rules.update({'8': '42 | 42 8', '11': '42 31 | 42 11 31'})\n",
        "\n",
        "  def valid_expansion(symbols, text):\n",
        "    if not symbols or not text:\n",
        "      return not symbols and not text\n",
        "    expansions = rules[symbols[0]]\n",
        "    if expansions[0] == '\"':\n",
        "      return expansions[1] == text[0] and valid_expansion(symbols[1:], text[1:])\n",
        "    return any(valid_expansion(expansion.split() + symbols[1:], text)\n",
        "               for expansion in expansions.split(' | '))\n",
        "\n",
        "  return sum(valid_expansion(['0'], text) for text in section2.splitlines())\n",
        "\n",
        "\n",
        "check_eq(process1(s1), 2)\n",
        "puzzle.verify(1, process1)\n",
        "\n",
        "process2 = functools.partial(process1, part2=True)\n",
        "check_eq(process2(s2), 12)\n",
        "puzzle.verify(2, process2)"
      ],
      "execution_count": 96,
      "outputs": [
        {
          "output_type": "stream",
          "name": "stdout",
          "text": [
            "(Part 1: 0.118 s)\n",
            "(Part 2: 0.542 s)\n"
          ]
        }
      ]
    },
    {
      "cell_type": "code",
      "metadata": {
        "colab": {
          "base_uri": "https://localhost:8080/"
        },
        "id": "MY1l556e0GY2",
        "outputId": "6f19c9fd-2ca2-4dc0-fafd-20ba8dd3a375"
      },
      "source": [
        "def process1(s, part2=False):  # Faster.\n",
        "  section1, section2 = s.strip('\\n').split('\\n\\n')\n",
        "  rules = {\n",
        "      int(symbol): (rhs[1] if rhs[0] == '\"' else\n",
        "                    tuple(tuple(map(int, s.split())) for s in rhs.split(' | ')))\n",
        "      for line in section1.splitlines()\n",
        "      for symbol, rhs in (line.split(': '),)\n",
        "  }\n",
        "  if part2:\n",
        "    # We are fortunate that in both modified rules, there is a symbol to the\n",
        "    # left of the recursion, which forces the consumption of a character.\n",
        "    rules.update({8: ((42,), (42, 8)), 11: ((42, 31), (42, 11, 31))})\n",
        "\n",
        "  def valid_expansion(symbols, text):\n",
        "    while True:\n",
        "      if not symbols:\n",
        "        return not text\n",
        "      if not text:\n",
        "        return False\n",
        "      expansions = rules[symbols[0]]\n",
        "      if isinstance(expansions, str):\n",
        "        if expansions != text[0]:\n",
        "          return False\n",
        "        symbols, text = symbols[1:], text[1:]\n",
        "        continue\n",
        "      return any(valid_expansion(expansion + symbols[1:], text)\n",
        "                for expansion in expansions)\n",
        "\n",
        "  return sum(valid_expansion((0,), text) for text in section2.splitlines())\n",
        "\n",
        "\n",
        "check_eq(process1(s1), 2)\n",
        "puzzle.verify(1, process1)\n",
        "\n",
        "process2 = functools.partial(process1, part2=True)\n",
        "check_eq(process2(s2), 12)\n",
        "puzzle.verify(2, process2)"
      ],
      "execution_count": 97,
      "outputs": [
        {
          "output_type": "stream",
          "name": "stdout",
          "text": [
            "(Part 1: 0.082 s)\n",
            "(Part 2: 0.384 s)\n"
          ]
        }
      ]
    },
    {
      "cell_type": "markdown",
      "metadata": {
        "id": "59zy45w3-dmm"
      },
      "source": [
        "<a name=\"day20\"></a>\n",
        "## Day 20: Dragons in grid of tiles"
      ]
    },
    {
      "cell_type": "markdown",
      "metadata": {
        "id": "1cpjHakteKin"
      },
      "source": [
        "Given a set of numbered 2D image tiles with binary values, assemble these tiles using rotations and flips into a 2D grid such that adjacent tiles have matching boundary values.\n",
        "\n",
        "- Part 1: Return the product of the tile numbers for the 4 tiles that lie at the corners of the assembled 2D grid.\n",
        "\n",
        "- Part 2: Given a 2D mask (\"dragon\"), find all possible locations for this mask (including rotations and flips) such that all active values in the mask are also active in the assembled grid.  Report the number of active grid nodes which are not covered by any found mask instance."
      ]
    },
    {
      "cell_type": "code",
      "metadata": {
        "id": "5rf3fPOk-dmm",
        "colab": {
          "base_uri": "https://localhost:8080/",
          "height": 302
        },
        "outputId": "4bfb7da7-1c51-4029-e06a-1fa46fd06484"
      },
      "source": [
        "puzzle = advent.puzzle(day=20)"
      ],
      "execution_count": 98,
      "outputs": [
        {
          "output_type": "display_data",
          "data": {
            "text/markdown": "For [day 20](https://adventofcode.com/2020/day/20), `puzzle.input` has 1727 lines:",
            "text/plain": [
              "<IPython.core.display.Markdown object>"
            ]
          },
          "metadata": {}
        },
        {
          "output_type": "stream",
          "name": "stdout",
          "text": [
            "Tile 2789:\n",
            ".#..#...##\n",
            "##...#....\n",
            "#.#.##..#.\n",
            ".#.##.##.#\n",
            "....#....#\n",
            "#.#......#\n",
            ".....#....\n",
            " ...\n",
            "..#......#\n",
            "#......#.#\n",
            "..#.....#.\n",
            ".#.#.##.##\n"
          ]
        },
        {
          "output_type": "display_data",
          "data": {
            "text/markdown": "The stored answers are: `{1: '18449208814679', 2: '1559'}`",
            "text/plain": [
              "<IPython.core.display.Markdown object>"
            ]
          },
          "metadata": {}
        }
      ]
    },
    {
      "cell_type": "code",
      "metadata": {
        "id": "4BGOjHl3-dmm",
        "colab": {
          "base_uri": "https://localhost:8080/"
        },
        "cellView": "form",
        "outputId": "bd3c616e-edff-435c-a222-c819c784462f"
      },
      "source": [
        "#@title\n",
        "\n",
        "print('Let s1 be a test input.')\n",
        "\n",
        "s1 = \"\"\"\n",
        "Tile 2311:\n",
        "..##.#..#.\n",
        "##..#.....\n",
        "#...##..#.\n",
        "####.#...#\n",
        "##.##.###.\n",
        "##...#.###\n",
        ".#.#.#..##\n",
        "..#....#..\n",
        "###...#.#.\n",
        "..###..###\n",
        "\n",
        "Tile 1951:\n",
        "#.##...##.\n",
        "#.####...#\n",
        ".....#..##\n",
        "#...######\n",
        ".##.#....#\n",
        ".###.#####\n",
        "###.##.##.\n",
        ".###....#.\n",
        "..#.#..#.#\n",
        "#...##.#..\n",
        "\n",
        "Tile 1171:\n",
        "####...##.\n",
        "#..##.#..#\n",
        "##.#..#.#.\n",
        ".###.####.\n",
        "..###.####\n",
        ".##....##.\n",
        ".#...####.\n",
        "#.##.####.\n",
        "####..#...\n",
        ".....##...\n",
        "\n",
        "Tile 1427:\n",
        "###.##.#..\n",
        ".#..#.##..\n",
        ".#.##.#..#\n",
        "#.#.#.##.#\n",
        "....#...##\n",
        "...##..##.\n",
        "...#.#####\n",
        ".#.####.#.\n",
        "..#..###.#\n",
        "..##.#..#.\n",
        "\n",
        "Tile 1489:\n",
        "##.#.#....\n",
        "..##...#..\n",
        ".##..##...\n",
        "..#...#...\n",
        "#####...#.\n",
        "#..#.#.#.#\n",
        "...#.#.#..\n",
        "##.#...##.\n",
        "..##.##.##\n",
        "###.##.#..\n",
        "\n",
        "Tile 2473:\n",
        "#....####.\n",
        "#..#.##...\n",
        "#.##..#...\n",
        "######.#.#\n",
        ".#...#.#.#\n",
        ".#########\n",
        ".###.#..#.\n",
        "########.#\n",
        "##...##.#.\n",
        "..###.#.#.\n",
        "\n",
        "Tile 2971:\n",
        "..#.#....#\n",
        "#...###...\n",
        "#.#.###...\n",
        "##.##..#..\n",
        ".#####..##\n",
        ".#..####.#\n",
        "#..#.#..#.\n",
        "..####.###\n",
        "..#.#.###.\n",
        "...#.#.#.#\n",
        "\n",
        "Tile 2729:\n",
        "...#.#.#.#\n",
        "####.#....\n",
        "..#.#.....\n",
        "....#..#.#\n",
        ".##..##.#.\n",
        ".#.####...\n",
        "####.#.#..\n",
        "##.####...\n",
        "##..#.##..\n",
        "#.##...##.\n",
        "\n",
        "Tile 3079:\n",
        "#.#.#####.\n",
        ".#..######\n",
        "..#.......\n",
        "######....\n",
        "####.#..#.\n",
        ".#...#.##.\n",
        "#.#####.##\n",
        "..#.###...\n",
        "..#.......\n",
        "..#.###...\n",
        "\"\"\""
      ],
      "execution_count": 99,
      "outputs": [
        {
          "output_type": "stream",
          "name": "stdout",
          "text": [
            "Let s1 be a test input.\n"
          ]
        }
      ]
    },
    {
      "cell_type": "code",
      "metadata": {
        "id": "TE5os-0wp1Bv",
        "colab": {
          "base_uri": "https://localhost:8080/",
          "height": 823
        },
        "outputId": "5ad63ecf-c803-4837-c6e3-34a24e102641"
      },
      "source": [
        "def process1(s, part2=False, visualize=False):\n",
        "  tiles = {int(t[5:9]): grid_from_string(t[11:])\n",
        "           for t in s.strip('\\n').split('\\n\\n')}\n",
        "  n = int(len(tiles)**0.5)  # math.isqrt() in version 3.8\n",
        "\n",
        "  if visualize:\n",
        "    tiles_bool = [tile != '#' for tile in tiles.values()]\n",
        "    media.show_images(tiles_bool, columns=n, border=True, height=30)\n",
        "\n",
        "  rotations = tuple(range(8))  # 4 proper rotations * 2 flips\n",
        "\n",
        "  def rotate(tile, rotation):\n",
        "    return np.rot90(tile if rotation < 4 else tile[::-1], rotation % 4)\n",
        "\n",
        "  def top_row(tile, rotation):\n",
        "    # return rotate(tile, rotation)[0]  # equivalent but slower\n",
        "    tile = tile if rotation < 4 else tile[::-1]\n",
        "    rotation = rotation % 4\n",
        "    return (tile[0] if rotation == 0 else tile[:, -1] if rotation == 1 else\n",
        "            tile[-1, ::-1] if rotation == 2 else tile[::-1, 0])\n",
        "\n",
        "  # List of (index, rotation) for up to 2 tiles whose top row matches the key.\n",
        "  edge_list = collections.defaultdict(list)\n",
        "  for index, tile in tiles.items():\n",
        "    for rotation in rotations:\n",
        "      edge_list[tuple(top_row(tile, rotation))].append((index, rotation))\n",
        "\n",
        "  def is_corner(tile):  # A corner tile has 2 unique edges.\n",
        "    return sum(len(edge_list[tuple(top_row(tile, rotation))]) == 1\n",
        "               for rotation in rotations[:4]) == 2\n",
        "\n",
        "  corners = [index for index, tile in tiles.items() if is_corner(tile)]\n",
        "  assert len(corners) == 4  # Exactly four tiles must be at the corners.\n",
        "  if not part2:\n",
        "    return np.prod(corners)\n",
        "\n",
        "  # Place a first corner in the grid upper-left and determine its rotation.\n",
        "  index = corners[0]\n",
        "  tile = tiles[index]\n",
        "  rotation, _ = (rotation for rotation in rotations  # 2 solutions due to flip\n",
        "                 if (len(edge_list[tuple(rotate(tile, rotation)[0])]) == 1 and\n",
        "                     len(edge_list[tuple(rotate(tile, rotation)[:, 0])]) == 1))\n",
        "  layout = np.empty((n, n), dtype=object)\n",
        "  layout[0, 0] = (index, rotation)\n",
        "\n",
        "  def find(not_index, rot, desired):\n",
        "    \"Returns (index, rotation) of tile with top row matching desired after rot.\"\n",
        "    l = edge_list[tuple(desired)]\n",
        "    index, rotation = next(((index, rotation) for index, rotation in l\n",
        "                            if index != not_index))\n",
        "    return index, (rotation + rot) % 4 + rotation // 4 * 4\n",
        "\n",
        "  for y, x in np.ndindex(n, n):\n",
        "    if x > 0:\n",
        "      left_index, left_rotation = layout[y, x - 1]\n",
        "      desired_left = rotate(tiles[left_index], left_rotation)[::-1, -1]\n",
        "      layout[y, x] = find(left_index, 1, desired_left)\n",
        "    elif y > 0:\n",
        "      top_index, top_rotation = layout[y - 1, x]\n",
        "      desired_top = rotate(tiles[top_index], top_rotation)[-1, :]\n",
        "      layout[y, x] = find(top_index, 0, desired_top)\n",
        "\n",
        "  def block(y, x):\n",
        "    index, rotation = layout[y, x]\n",
        "    return rotate(tiles[index], rotation)[1:-1, 1:-1]\n",
        "\n",
        "  grid = np.block([[block(y, x) for x in range(n)] for y in range(n)])\n",
        "\n",
        "  pattern = '                  # #    ##    ##    ### #  #  #  #  #  #   '\n",
        "  pattern = np.array(list(pattern)).reshape(3, 20) == '#'\n",
        "\n",
        "  if 0:  # slower\n",
        "    pattern_indices = pattern.nonzero()\n",
        "    for rotation in rotations:\n",
        "      grid_view = rotate(grid, rotation)\n",
        "      for y, x in np.ndindex(*(np.array(grid_view.shape) - pattern.shape)):\n",
        "        subgrid_view = grid_view[y:, x:]\n",
        "        if np.all(subgrid_view[pattern_indices] != '.'):\n",
        "          subgrid_view[pattern_indices] = 'O'\n",
        "\n",
        "  elif 0:  # faster, using 1-d matching\n",
        "    grid_view_1d = grid.reshape(-1)\n",
        "    for rotation in rotations:\n",
        "      pattern_view = rotate(pattern, rotation)\n",
        "      pattern_indices = pattern_view.nonzero()\n",
        "      pattern_indices_1d = np.ravel_multi_index(pattern_indices, grid.shape)\n",
        "      for y, x in np.ndindex(*(np.array(grid.shape) - pattern_view.shape)):\n",
        "        subgrid_view_1d = grid_view_1d[y * grid.shape[1] + x:]\n",
        "        if np.all(subgrid_view_1d[pattern_indices_1d] != '.'):\n",
        "          subgrid_view_1d[pattern_indices_1d] = 'O'\n",
        "\n",
        "  else:  # fastest, using 2d correlation\n",
        "    import scipy.signal\n",
        "    pattern_uint8 = pattern.astype(np.uint8)\n",
        "    grid_uint8 = (grid == '#').astype(np.uint8)\n",
        "    for rotation in rotations:\n",
        "      pattern_view = rotate(pattern_uint8, rotation)\n",
        "      pattern_indices = pattern_view.nonzero()\n",
        "      corr = scipy.signal.correlate2d(grid_uint8, pattern_view, mode='valid')\n",
        "      locations = np.moveaxis(np.nonzero(corr == pattern_view.sum()), 0, -1)\n",
        "      for y, x in locations:\n",
        "        grid[y:, x:][pattern_indices] = 'O'\n",
        "\n",
        "  if visualize:\n",
        "    value_from_ch = {'.': 0.0, '#': -1.0, 'O': 1.0}\n",
        "    lookup = np.zeros(256, dtype=np.float32)\n",
        "    for ch, value in value_from_ch.items():\n",
        "      lookup[ord(ch)] = value\n",
        "    grid2 = lookup[grid.view(np.uint32).astype(np.uint8)]\n",
        "    media.show_image(grid2, border=True, height=300)\n",
        "\n",
        "  return np.count_nonzero(grid == '#')\n",
        "\n",
        "\n",
        "check_eq(process1(s1), 20899048083289)\n",
        "puzzle.verify(1, process1)\n",
        "\n",
        "process2 = functools.partial(process1, part2=True)\n",
        "check_eq(process2(s1), 273)\n",
        "puzzle.verify(2, process2)\n",
        "_ = process2(puzzle.input, visualize=True)"
      ],
      "execution_count": 100,
      "outputs": [
        {
          "output_type": "stream",
          "name": "stdout",
          "text": [
            "(Part 1: 0.012 s)\n",
            "(Part 2: 0.034 s)\n"
          ]
        },
        {
          "output_type": "display_data",
          "data": {
            "text/html": [
              "<table class=\"show_images\" style=\"border-spacing:0px;\"><tr><td style=\"padding:1px;\"><img width=\"30\" height=\"30\" style=\"border:1px solid black; image-rendering:pixelated; object-fit:cover;\" src=\"data:image/png;base64,iVBORw0KGgoAAAANSUhEUgAAAAoAAAAKCAIAAAACUFjqAAAASUlEQVR4nG2PQRIAIAgCwf//mQ40xjCdWqVWgyQAkhLMAOjj1eQygHFG0tkGl9dZGsN8byxPanPqHVGtWu3/6G2eX2pzdsrh8gC2gkffDLCotwAAAABJRU5ErkJggg==\"/></td><td style=\"padding:1px;\"><img width=\"30\" height=\"30\" style=\"border:1px solid black; image-rendering:pixelated; object-fit:cover;\" src=\"data:image/png;base64,iVBORw0KGgoAAAANSUhEUgAAAAoAAAAKCAIAAAACUFjqAAAARklEQVR4nHVOMRLAMAgC/v9nMqShRlsGT4QTiAPbJG2jgFvAD/SpkdxTjSfome8G+OBKnI5Q1cKzh3JNcPVpnlKzP2sRthfsr1DXN67m/AAAAABJRU5ErkJggg==\"/></td><td style=\"padding:1px;\"><img width=\"30\" height=\"30\" style=\"border:1px solid black; image-rendering:pixelated; object-fit:cover;\" src=\"data:image/png;base64,iVBORw0KGgoAAAANSUhEUgAAAAoAAAAKCAIAAAACUFjqAAAARElEQVR4nH1PQQoAMAjS/v9nd3CERJuXLCmNACQBIJn8EpcXyktG8itnky5T9rRdzWtkGVFqPdtf/JIzf90xNEkdQtIB96g1/d0FRoUAAAAASUVORK5CYII=\"/></td><td style=\"padding:1px;\"><img width=\"30\" height=\"30\" style=\"border:1px solid black; image-rendering:pixelated; object-fit:cover;\" src=\"data:image/png;base64,iVBORw0KGgoAAAANSUhEUgAAAAoAAAAKCAIAAAACUFjqAAAAQklEQVR4nHWOQQoAMAjDmrH/f7k7yEScy62tAZFkWxcgIiAJ21m90Ow+hx2h3QHrZ4ezRy/LNUpJn6s6zPXTL/nKAeFhJwIkNEZsAAAAAElFTkSuQmCC\"/></td><td style=\"padding:1px;\"><img width=\"30\" height=\"30\" style=\"border:1px solid black; image-rendering:pixelated; object-fit:cover;\" src=\"data:image/png;base64,iVBORw0KGgoAAAANSUhEUgAAAAoAAAAKCAIAAAACUFjqAAAASUlEQVR4nG2PSxYAIAgCw/vfeVrQI/u0CnFQBYzfkwQo+ttXNgBJhkIvO1Gds6wrOTFm6p3XY8oiRP4et8PTcdCdu4+O9a7tygREcjYFDi3w+wAAAABJRU5ErkJggg==\"/></td><td style=\"padding:1px;\"><img width=\"30\" height=\"30\" style=\"border:1px solid black; image-rendering:pixelated; object-fit:cover;\" src=\"data:image/png;base64,iVBORw0KGgoAAAANSUhEUgAAAAoAAAAKCAIAAAACUFjqAAAAR0lEQVR4nGWPORIAQQgCgf//mQ2opRwlEm0v2MaQf8UqqRYmB0Aka67UKNxapPbZJhmoKOemK97CvEYduG4O93Qv+7D3adsfeU1B6v1BtnUAAAAASUVORK5CYII=\"/></td><td style=\"padding:1px;\"><img width=\"30\" height=\"30\" style=\"border:1px solid black; image-rendering:pixelated; object-fit:cover;\" src=\"data:image/png;base64,iVBORw0KGgoAAAANSUhEUgAAAAoAAAAKCAIAAAACUFjqAAAASklEQVR4nG2PQQoAMQgDJ+L/v2wPLlmpzUFC0FGpIQBo01V2W5LimRoTO7V/T39bJSDdXlUT2ybnXdeNP9yjswIx4RuT3bhf7/wA9CkzEoVIYEwAAAAASUVORK5CYII=\"/></td><td style=\"padding:1px;\"><img width=\"30\" height=\"30\" style=\"border:1px solid black; image-rendering:pixelated; object-fit:cover;\" src=\"data:image/png;base64,iVBORw0KGgoAAAANSUhEUgAAAAoAAAAKCAIAAAACUFjqAAAAR0lEQVR4nGWQQQ4AMAjCyv7/Z3cgY855MBiKJgJUFWBhffucD2St5ABJU2SzS1KnF1/1wGNnZ7jHjucTM/1za+BDX7w/J30DSqBK2lPK1yEAAAAASUVORK5CYII=\"/></td><td style=\"padding:1px;\"><img width=\"30\" height=\"30\" style=\"border:1px solid black; image-rendering:pixelated; object-fit:cover;\" src=\"data:image/png;base64,iVBORw0KGgoAAAANSUhEUgAAAAoAAAAKCAIAAAACUFjqAAAASElEQVR4nG1OQQ4AIAgC1/+/TAc2MouDExQRACQBcGNEZAYASGbV9OJRJbkWyaj9klHDN+jqg/gSWv3t1/15rWNm+8BpvpGhG0vYNhGu3VT2AAAAAElFTkSuQmCC\"/></td><td style=\"padding:1px;\"><img width=\"30\" height=\"30\" style=\"border:1px solid black; image-rendering:pixelated; object-fit:cover;\" src=\"data:image/png;base64,iVBORw0KGgoAAAANSUhEUgAAAAoAAAAKCAIAAAACUFjqAAAASElEQVR4nG2PyREAQQgCbfPPuffhjuUc/IASBDUigFgopUQmb1Uti6fXNGfsjZxNRxFH1OP6f2GvaJo95t4G5C1tYS7M8KLqBzKGMwnwpZPqAAAAAElFTkSuQmCC\"/></td><td style=\"padding:1px;\"><img width=\"30\" height=\"30\" style=\"border:1px solid black; image-rendering:pixelated; object-fit:cover;\" src=\"data:image/png;base64,iVBORw0KGgoAAAANSUhEUgAAAAoAAAAKCAIAAAACUFjqAAAASElEQVR4nG2QQQ4AIQwCnY3//zJ7qKKiHGyB0Ma2NqGJ6uvtJk98tycJGHaV4ladwQRYaqStxgD23TFA0pEOj3vf45Mh7cf5AQNCRO/Sip3gAAAAAElFTkSuQmCC\"/></td><td style=\"padding:1px;\"><img width=\"30\" height=\"30\" style=\"border:1px solid black; image-rendering:pixelated; object-fit:cover;\" src=\"data:image/png;base64,iVBORw0KGgoAAAANSUhEUgAAAAoAAAAKCAIAAAACUFjqAAAASElEQVR4nG2PQQ4AUQRDX93/zmYhv+mILqSUgu4G+sEcAGpyHhYvSZOYZF+d2lG0bd5RqeXiGdVUJTmmf2X70n7mo5037o+NDyGbROQQDpZFAAAAAElFTkSuQmCC\"/></td></tr></table><table class=\"show_images\" style=\"border-spacing:0px;\"><tr><td style=\"padding:1px;\"><img width=\"30\" height=\"30\" style=\"border:1px solid black; image-rendering:pixelated; object-fit:cover;\" src=\"data:image/png;base64,iVBORw0KGgoAAAANSUhEUgAAAAoAAAAKCAIAAAACUFjqAAAAS0lEQVR4nHWOQRKAIAwDd/n/n+OhWlAhh8520gRMoiYBGkrqUIuAOmXRPve1N4YCo+mvJL6W5wezo71t/zi9emeSdLSg56zsZQXgAjYRROu57mcnAAAAAElFTkSuQmCC\"/></td><td style=\"padding:1px;\"><img width=\"30\" height=\"30\" style=\"border:1px solid black; image-rendering:pixelated; object-fit:cover;\" src=\"data:image/png;base64,iVBORw0KGgoAAAANSUhEUgAAAAoAAAAKCAIAAAACUFjqAAAASklEQVR4nH2PQQ7AMAjDMP//s3dgowxNywG5hIBKPFILgMPT2B5kvFUe3LHswQlnqKjrBHXfngJS7c29vE/wE42IXO/5he9kd9UL1shB8rEBQoUAAAAASUVORK5CYII=\"/></td><td style=\"padding:1px;\"><img width=\"30\" height=\"30\" style=\"border:1px solid black; image-rendering:pixelated; object-fit:cover;\" src=\"data:image/png;base64,iVBORw0KGgoAAAANSUhEUgAAAAoAAAAKCAIAAAACUFjqAAAASUlEQVR4nH2PSQoAQQgDK9L//3LmYCMSmvHkkoqKbdvATqYsQFK3JAGjeEQ4na1teqMV6Phf4G9T0HvFHQcaX9RzNndU3DJcSz+tbD739rKt7QAAAABJRU5ErkJggg==\"/></td><td style=\"padding:1px;\"><img width=\"30\" height=\"30\" style=\"border:1px solid black; image-rendering:pixelated; object-fit:cover;\" src=\"data:image/png;base64,iVBORw0KGgoAAAANSUhEUgAAAAoAAAAKCAIAAAACUFjqAAAASElEQVR4nHWOQQ4AIQwCof//Mx66YiUuhyZSO0BJAEhiq51W2Wp37s46AH5SEsk4ur6aPOFfp7gLVUQGv56uZ3U1M2bWb67LLvwTMv9Pc8ghAAAAAElFTkSuQmCC\"/></td><td style=\"padding:1px;\"><img width=\"30\" height=\"30\" style=\"border:1px solid black; image-rendering:pixelated; object-fit:cover;\" src=\"data:image/png;base64,iVBORw0KGgoAAAANSUhEUgAAAAoAAAAKCAIAAAACUFjqAAAASElEQVR4nH2PSQ4AQQgCC///Z/pggr1kxouigCrbgCTAdgoAUKeQMmh4cN+oOO+iqWfN6dydCne/Mexb8al+F9uuS5HXB//4L0SFLQ5IDBuVAAAAAElFTkSuQmCC\"/></td><td style=\"padding:1px;\"><img width=\"30\" height=\"30\" style=\"border:1px solid black; image-rendering:pixelated; object-fit:cover;\" src=\"data:image/png;base64,iVBORw0KGgoAAAANSUhEUgAAAAoAAAAKCAIAAAACUFjqAAAASElEQVR4nG2OMQLAMAgCOf//ZzqkodbECRQQSbJtOyBYUukYIIpaCBi3hUlOF2Wj8PH1TZ3Clg9cqnVDfS32496jrqYfTalzHgZCR+P7lp8OAAAAAElFTkSuQmCC\"/></td><td style=\"padding:1px;\"><img width=\"30\" height=\"30\" style=\"border:1px solid black; image-rendering:pixelated; object-fit:cover;\" src=\"data:image/png;base64,iVBORw0KGgoAAAANSUhEUgAAAAoAAAAKCAIAAAACUFjqAAAASElEQVR4nH2QwQ4AIAhCe63//2U6UFa28uBQBKdFUplhHB1J7PUdNTggusZATc4JLzp5AGP3Zz0mLEpDhNVL3V4n7Yccr3A26GQAMvR9dvqwAAAAAElFTkSuQmCC\"/></td><td style=\"padding:1px;\"><img width=\"30\" height=\"30\" style=\"border:1px solid black; image-rendering:pixelated; object-fit:cover;\" src=\"data:image/png;base64,iVBORw0KGgoAAAANSUhEUgAAAAoAAAAKCAIAAAACUFjqAAAARUlEQVR4nIWOyREAIAgDs/bfMz5QUHQ0r0AOwMw0AayjJCSV1Yr20IBf+h6CQSJ6NmV58QUf5e4oGpC3o8N9vtleKw6gA6aaMxBqwuNsAAAAAElFTkSuQmCC\"/></td><td style=\"padding:1px;\"><img width=\"30\" height=\"30\" style=\"border:1px solid black; image-rendering:pixelated; object-fit:cover;\" src=\"data:image/png;base64,iVBORw0KGgoAAAANSUhEUgAAAAoAAAAKCAIAAAACUFjqAAAAS0lEQVR4nH2OSw4AMQhCeb3/nemCxqiTDCsiP5FkWxIQEgCSxulrOpqwndyWX1vTgJGO1gtOt9dqiG3Ku358fUv4+zxazT3SJ4MKXKslNgaIXQ2YAAAAAElFTkSuQmCC\"/></td><td style=\"padding:1px;\"><img width=\"30\" height=\"30\" style=\"border:1px solid black; image-rendering:pixelated; object-fit:cover;\" src=\"data:image/png;base64,iVBORw0KGgoAAAANSUhEUgAAAAoAAAAKCAIAAAACUFjqAAAARUlEQVR4nG2OUQ4AUQQDTe9/5+6HpE8sHwTTUlVlO3kFXbIDJqeF9w7orNM2E03bP6T43K8t9YJuUQRaV4G0tt/n0zzQBwnvMAoOQjS8AAAAAElFTkSuQmCC\"/></td><td style=\"padding:1px;\"><img width=\"30\" height=\"30\" style=\"border:1px solid black; image-rendering:pixelated; object-fit:cover;\" src=\"data:image/png;base64,iVBORw0KGgoAAAANSUhEUgAAAAoAAAAKCAIAAAACUFjqAAAARElEQVR4nIWOQQoAMQwCx/z/z+5BSEs3tB7CoJgEwHbmAYCa/pKkbo+qMUsNqKZdtuM/2uftDmLePgdq3LliSfvCcDsfZjQqBvtA9qoAAAAASUVORK5CYII=\"/></td><td style=\"padding:1px;\"><img width=\"30\" height=\"30\" style=\"border:1px solid black; image-rendering:pixelated; object-fit:cover;\" src=\"data:image/png;base64,iVBORw0KGgoAAAANSUhEUgAAAAoAAAAKCAIAAAACUFjqAAAAR0lEQVR4nG2OQQ4AMQgCB9P/f5k9bGtIKyfFMCLbACAJyNV2Eepbzyujqd+pN9fOhr/RQT5K2BrJbdZ4kLQ/XsALrrF5l/0AaCo+7LNG9fgAAAAASUVORK5CYII=\"/></td></tr></table><table class=\"show_images\" style=\"border-spacing:0px;\"><tr><td style=\"padding:1px;\"><img width=\"30\" height=\"30\" style=\"border:1px solid black; image-rendering:pixelated; object-fit:cover;\" src=\"data:image/png;base64,iVBORw0KGgoAAAANSUhEUgAAAAoAAAAKCAIAAAACUFjqAAAASklEQVR4nH2QQRLAIAwC2fz/z/RAJ1q1ciJAMkzQF7YB2xkHW5BQAT0vHpGOB+a0bHcoJMrvdlCXapLqUvu1EwS6TjygtL1irv0A1WMzCaPB/ogAAAAASUVORK5CYII=\"/></td><td style=\"padding:1px;\"><img width=\"30\" height=\"30\" style=\"border:1px solid black; image-rendering:pixelated; object-fit:cover;\" src=\"data:image/png;base64,iVBORw0KGgoAAAANSUhEUgAAAAoAAAAKCAIAAAACUFjqAAAAR0lEQVR4nHWNQQ4AIQgDp8b/f5k9kGBtXA9mAp1CVQH9NwwDO3aApDMcezwv0CE9WH4pEoD8aqpOnrjsvwSwYtfSFKxoi/cBO2xN6vRpPgAAAAAASUVORK5CYII=\"/></td><td style=\"padding:1px;\"><img width=\"30\" height=\"30\" style=\"border:1px solid black; image-rendering:pixelated; object-fit:cover;\" src=\"data:image/png;base64,iVBORw0KGgoAAAANSUhEUgAAAAoAAAAKCAIAAAACUFjqAAAARUlEQVR4nHWPMQ4AMQjDcHX//7JvSMXQ0gyAFGFC1Vvql3Z7QFWtcQ9Qgdlu3mmHmaryuj1vH6SVCKHNUpvfc+p+4M4c/VRoKgIydwGjAAAAAElFTkSuQmCC\"/></td><td style=\"padding:1px;\"><img width=\"30\" height=\"30\" style=\"border:1px solid black; image-rendering:pixelated; object-fit:cover;\" src=\"data:image/png;base64,iVBORw0KGgoAAAANSUhEUgAAAAoAAAAKCAIAAAACUFjqAAAATElEQVR4nGWPQRIAIAgCwfH/X6YDDTnmyVraFJIkAQAwe1cBIGmWUJpeV/NIv/txfD1B0qme7HfUiltA3n9rMQuy4cPL/Paeo2Y6mw5nBjkGWZlwqwAAAABJRU5ErkJggg==\"/></td><td style=\"padding:1px;\"><img width=\"30\" height=\"30\" style=\"border:1px solid black; image-rendering:pixelated; object-fit:cover;\" src=\"data:image/png;base64,iVBORw0KGgoAAAANSUhEUgAAAAoAAAAKCAIAAAACUFjqAAAASklEQVR4nGWPSQLAIAgDHf//5+mBlkbJQTAsIawPaiXAuqB2uVvVyOLtbt4Ac796sykB7CmZ1x3Tidq0UzstFb//K4bdg0lX/X0AOuhQ3iASISQAAAAASUVORK5CYII=\"/></td><td style=\"padding:1px;\"><img width=\"30\" height=\"30\" style=\"border:1px solid black; image-rendering:pixelated; object-fit:cover;\" src=\"data:image/png;base64,iVBORw0KGgoAAAANSUhEUgAAAAoAAAAKCAIAAAACUFjqAAAARklEQVR4nH2OQQrAQAwCHf//Z3tYCJJt6yHEGEVJSjLzYC60APQT4OYLSbx4U8CL95KEn3BJbtONT/fx+FWbmu5koNsleQD3CyoHqMDz5gAAAABJRU5ErkJggg==\"/></td><td style=\"padding:1px;\"><img width=\"30\" height=\"30\" style=\"border:1px solid black; image-rendering:pixelated; object-fit:cover;\" src=\"data:image/png;base64,iVBORw0KGgoAAAANSUhEUgAAAAoAAAAKCAIAAAACUFjqAAAAR0lEQVR4nG2PSRIAMQgC6fz/z8zBlOMSTkhRrSLJtiQgfQigzlundSH9TQY8dcOxr8JaN0thIqFGG/CAt4PGo+0u+DdtjO0PQ1o78vb8rYoAAAAASUVORK5CYII=\"/></td><td style=\"padding:1px;\"><img width=\"30\" height=\"30\" style=\"border:1px solid black; image-rendering:pixelated; object-fit:cover;\" src=\"data:image/png;base64,iVBORw0KGgoAAAANSUhEUgAAAAoAAAAKCAIAAAACUFjqAAAARElEQVR4nG2QSQoAMAgDHen/v5weCsEScxAhi8GqH5LmPG9LSAKYpkQnZw/Q5takXjOt6+cD1hOsvaw+2cgGoCT5CblcFy0+8g8MZYkAAAAASUVORK5CYII=\"/></td><td style=\"padding:1px;\"><img width=\"30\" height=\"30\" style=\"border:1px solid black; image-rendering:pixelated; object-fit:cover;\" src=\"data:image/png;base64,iVBORw0KGgoAAAANSUhEUgAAAAoAAAAKCAIAAAACUFjqAAAATElEQVR4nG2PQQ4AIQwCwf//efZAllRTDkQFWhEgKRzwQ5Ir2J6m4ESYT73aPmsoDkBdU64b2KNABrjG9XdntpotwtZd+l30aA3k8AFRzEfrsh6e2wAAAABJRU5ErkJggg==\"/></td><td style=\"padding:1px;\"><img width=\"30\" height=\"30\" style=\"border:1px solid black; image-rendering:pixelated; object-fit:cover;\" src=\"data:image/png;base64,iVBORw0KGgoAAAANSUhEUgAAAAoAAAAKCAIAAAACUFjqAAAAS0lEQVR4nG2QQQ4AMQgCgf//mT2QUNKuJ4Q4GgHANqZsx7HNjUlGk4yjDjVbjC5rMwbywsvXNkuKVo/8XaFtenD1YV6LD6/8PqT1AYsmROp69Y5aAAAAAElFTkSuQmCC\"/></td><td style=\"padding:1px;\"><img width=\"30\" height=\"30\" style=\"border:1px solid black; image-rendering:pixelated; object-fit:cover;\" src=\"data:image/png;base64,iVBORw0KGgoAAAANSUhEUgAAAAoAAAAKCAIAAAACUFjqAAAASUlEQVR4nH2PQQ7AMAjDHP7/Z+9QibJuKgdEFBwEgKoCa+4OZAogyUtO8a1K0tzh5Yi60b8BNek1z3N1QdVqT10b++mm2zseeQAGCyoTeCOqswAAAABJRU5ErkJggg==\"/></td><td style=\"padding:1px;\"><img width=\"30\" height=\"30\" style=\"border:1px solid black; image-rendering:pixelated; object-fit:cover;\" src=\"data:image/png;base64,iVBORw0KGgoAAAANSUhEUgAAAAoAAAAKCAIAAAACUFjqAAAAQElEQVR4nIWOQQ4AQAQDp/7/Z3uQbGxJ1gkdLWUmAEiavYC7NQiILkz0YXuV5BdGxKrdINW8fvfPjvLZne16mh3EujYFEajoAAAAAABJRU5ErkJggg==\"/></td></tr></table><table class=\"show_images\" style=\"border-spacing:0px;\"><tr><td style=\"padding:1px;\"><img width=\"30\" height=\"30\" style=\"border:1px solid black; image-rendering:pixelated; object-fit:cover;\" src=\"data:image/png;base64,iVBORw0KGgoAAAANSUhEUgAAAAoAAAAKCAIAAAACUFjqAAAAQklEQVR4nH2QQQ7AMAjDbLT/fzm7tWxq4YBAJkoESZIAq/fBBY5VAwNqYGqpN5ak+v5jgLP3c1QvzSdaf4B6i7XvXvVcMvbgSYX4AAAAAElFTkSuQmCC\"/></td><td style=\"padding:1px;\"><img width=\"30\" height=\"30\" style=\"border:1px solid black; image-rendering:pixelated; object-fit:cover;\" src=\"data:image/png;base64,iVBORw0KGgoAAAANSUhEUgAAAAoAAAAKCAIAAAACUFjqAAAASElEQVR4nHWPQQ7AQAgCGf//Z3qwa1zSelCMgogk25KAwdMy/WfUoHcd9vgSjABqU0PJdgV1GwQqDKe1GNjeh36pcH7uErnBAzJrMwCc6mQjAAAAAElFTkSuQmCC\"/></td><td style=\"padding:1px;\"><img width=\"30\" height=\"30\" style=\"border:1px solid black; image-rendering:pixelated; object-fit:cover;\" src=\"data:image/png;base64,iVBORw0KGgoAAAANSUhEUgAAAAoAAAAKCAIAAAACUFjqAAAARUlEQVR4nI2QSQoAMAgDk9L/f9kepCFahOakEzcEAAAR4UFcbRlJSTpZ7qlCkD751ZqMPzsnl31kpmx3JiqXe9+o9g3BA2fTOPDds7/3AAAAAElFTkSuQmCC\"/></td><td style=\"padding:1px;\"><img width=\"30\" height=\"30\" style=\"border:1px solid black; image-rendering:pixelated; object-fit:cover;\" src=\"data:image/png;base64,iVBORw0KGgoAAAANSUhEUgAAAAoAAAAKCAIAAAACUFjqAAAAQUlEQVR4nHWQQQ4AMAQETf//5/YgZG10DsLGqopbRJF5RlRKgC6Pqkur1QqwuEfHz+pv94COrOsMt33aV9EjKKk8lIsv+FfRsmgAAAAASUVORK5CYII=\"/></td><td style=\"padding:1px;\"><img width=\"30\" height=\"30\" style=\"border:1px solid black; image-rendering:pixelated; object-fit:cover;\" src=\"data:image/png;base64,iVBORw0KGgoAAAANSUhEUgAAAAoAAAAKCAIAAAACUFjqAAAASElEQVR4nGWOwREAIQwCs/bfM/fQ4RB9ZEgiZEeSpLmfJ2QzM8C/g1XWahfgvyUkHbczK7xvN0GSb5ETXmtmHLSsl0gQ0zngAxp1Pv5QCECdAAAAAElFTkSuQmCC\"/></td><td style=\"padding:1px;\"><img width=\"30\" height=\"30\" style=\"border:1px solid black; image-rendering:pixelated; object-fit:cover;\" src=\"data:image/png;base64,iVBORw0KGgoAAAANSUhEUgAAAAoAAAAKCAIAAAACUFjqAAAAR0lEQVR4nH2PwQ4AIAhCpf//59dBRzZbHhyCOAwAiIjsBtllVjrYzPLQNUkFUpjWkp/s4/gs4Cc7wYnW/yx3vXinS6u6e25s41k+7PsrUUYAAAAASUVORK5CYII=\"/></td><td style=\"padding:1px;\"><img width=\"30\" height=\"30\" style=\"border:1px solid black; image-rendering:pixelated; object-fit:cover;\" src=\"data:image/png;base64,iVBORw0KGgoAAAANSUhEUgAAAAoAAAAKCAIAAAACUFjqAAAARklEQVR4nH2OSwqAQAxD84r3v3JczBBrZcyikC9FkiTbgG01ALW8XKAnKkF9YPvqU9l4xMETXXqNdma3OPicORmvz4/4b9+jzSQCnqt7LwAAAABJRU5ErkJggg==\"/></td><td style=\"padding:1px;\"><img width=\"30\" height=\"30\" style=\"border:1px solid black; image-rendering:pixelated; object-fit:cover;\" src=\"data:image/png;base64,iVBORw0KGgoAAAANSUhEUgAAAAoAAAAKCAIAAAACUFjqAAAARUlEQVR4nHWPwQ4AIAhCw///59ehTYkWJ8UBomUA1o1qFpDUhzPrp0u1Y2yANnfmrDUxUtgA5QYRpFeRr3mZ98GKupG9AbUkOPL89x73AAAAAElFTkSuQmCC\"/></td><td style=\"padding:1px;\"><img width=\"30\" height=\"30\" style=\"border:1px solid black; image-rendering:pixelated; object-fit:cover;\" src=\"data:image/png;base64,iVBORw0KGgoAAAANSUhEUgAAAAoAAAAKCAIAAAACUFjqAAAASElEQVR4nG2OSRLAQAgCaf7/Z3MgZXQmnFAWRZKkqgoBwkPcQvuAJp/3t8N3bvnmMHOBD00bzuqufQPnPMoBa+N43rMZ6FvxPXAXPAv+EZybAAAAAElFTkSuQmCC\"/></td><td style=\"padding:1px;\"><img width=\"30\" height=\"30\" style=\"border:1px solid black; image-rendering:pixelated; object-fit:cover;\" src=\"data:image/png;base64,iVBORw0KGgoAAAANSUhEUgAAAAoAAAAKCAIAAAACUFjqAAAASElEQVR4nG1PQQ4AIAiC1v+/TAeWkcWhASFTYkMSAJImBiU1yyGTkX/lnrI2V6HLl2RdrsnMZu9xjWb87UDq9/2slhjtHpIpF0UrTeADBxBbAAAAAElFTkSuQmCC\"/></td><td style=\"padding:1px;\"><img width=\"30\" height=\"30\" style=\"border:1px solid black; image-rendering:pixelated; object-fit:cover;\" src=\"data:image/png;base64,iVBORw0KGgoAAAANSUhEUgAAAAoAAAAKCAIAAAACUFjqAAAAS0lEQVR4nHWPQQ4AMQgCh6b//zI92JiW7nowoAFUtgFAElC0MDD4qS2z3QaNu4/2edWS1NKKDHrE3GDfGIuQfrhVak3mG3yCfDR+WxIdSuaXvkRZAAAAAElFTkSuQmCC\"/></td><td style=\"padding:1px;\"><img width=\"30\" height=\"30\" style=\"border:1px solid black; image-rendering:pixelated; object-fit:cover;\" src=\"data:image/png;base64,iVBORw0KGgoAAAANSUhEUgAAAAoAAAAKCAIAAAACUFjqAAAASElEQVR4nGWOQRIAMAQDN/7/5/RgqkoOJiKIuLANSCoOqNiGpEj7UOte2M6+q58v+6r9nXJ7JCjl5dwmIPpsx6T/25Vx0BfJD9zjUN5dH34oAAAAAElFTkSuQmCC\"/></td></tr></table><table class=\"show_images\" style=\"border-spacing:0px;\"><tr><td style=\"padding:1px;\"><img width=\"30\" height=\"30\" style=\"border:1px solid black; image-rendering:pixelated; object-fit:cover;\" src=\"data:image/png;base64,iVBORw0KGgoAAAANSUhEUgAAAAoAAAAKCAIAAAACUFjqAAAAR0lEQVR4nHWPQQrAQAwCnf3/n+0hkLWW5hAYUGMkybZiFm2TDKSUZbi6FFHJOYyprqb7/FW7zuHdr3ZVtR45GzInu2nyN/8BgQVK4AvBzsgAAAAASUVORK5CYII=\"/></td><td style=\"padding:1px;\"><img width=\"30\" height=\"30\" style=\"border:1px solid black; image-rendering:pixelated; object-fit:cover;\" src=\"data:image/png;base64,iVBORw0KGgoAAAANSUhEUgAAAAoAAAAKCAIAAAACUFjqAAAARklEQVR4nH1PSRIAIAjCpv9/mQ6U2mIc3FBUYIGkBwIA8+oNM2sVIZk3TVIdTU721th2HymAXnFTNb/kF0XT57EQz3P5zAEt4yoNx5LExQAAAABJRU5ErkJggg==\"/></td><td style=\"padding:1px;\"><img width=\"30\" height=\"30\" style=\"border:1px solid black; image-rendering:pixelated; object-fit:cover;\" src=\"data:image/png;base64,iVBORw0KGgoAAAANSUhEUgAAAAoAAAAKCAIAAAACUFjqAAAARklEQVR4nHWOQQ7AQAgCGf//Z3ugpTZ1uUg0jEiPujvGkkS28Pqo/un9DADzxgqcv8qJ5MJwrDxm7Q/j1MuMOnW+lys2/gIDOTjzXZ5qMQAAAABJRU5ErkJggg==\"/></td><td style=\"padding:1px;\"><img width=\"30\" height=\"30\" style=\"border:1px solid black; image-rendering:pixelated; object-fit:cover;\" src=\"data:image/png;base64,iVBORw0KGgoAAAANSUhEUgAAAAoAAAAKCAIAAAACUFjqAAAASUlEQVR4nH2OQQoAMQgDx9L/fzl7SElFynoQY5xgAZKAqurzGbIa5YsVz3T6oSVFDBpYz3B7f7Rr0uGuPb7tcj8zb4bPOyQpyw+8GDkC5MaMcAAAAABJRU5ErkJggg==\"/></td><td style=\"padding:1px;\"><img width=\"30\" height=\"30\" style=\"border:1px solid black; image-rendering:pixelated; object-fit:cover;\" src=\"data:image/png;base64,iVBORw0KGgoAAAANSUhEUgAAAAoAAAAKCAIAAAACUFjqAAAAQ0lEQVR4nIWQSw4AIQhDX7n/netiDNE6UVbQXxoAbNtmnw9Rb4C0nUnHSKpftPN1sQJ1mtZqFVyIbuG2H80n158J6QDijC/3sNVJqwAAAABJRU5ErkJggg==\"/></td><td style=\"padding:1px;\"><img width=\"30\" height=\"30\" style=\"border:1px solid black; image-rendering:pixelated; object-fit:cover;\" src=\"data:image/png;base64,iVBORw0KGgoAAAANSUhEUgAAAAoAAAAKCAIAAAACUFjqAAAASklEQVR4nHWPwQ0AMQjDYnT7r5w+UBGHKE8ntAZJkmzrDpAEiB5UtWD0IPd67wPGA1WyHZ3mfz+P4TVmUesGsRolAUKPo/ftChIeuJgwD47wPEsAAAAASUVORK5CYII=\"/></td><td style=\"padding:1px;\"><img width=\"30\" height=\"30\" style=\"border:1px solid black; image-rendering:pixelated; object-fit:cover;\" src=\"data:image/png;base64,iVBORw0KGgoAAAANSUhEUgAAAAoAAAAKCAIAAAACUFjqAAAAS0lEQVR4nF2PQRLAMAgCs0z//2V6MHUoHDJZIxqwfULAXKaurc6D7TQo28tK8Q5fVEL67jnsT/lN28/5KzsAAWXKeCqehLtRNa1SvDo3PwdLtaenAAAAAElFTkSuQmCC\"/></td><td style=\"padding:1px;\"><img width=\"30\" height=\"30\" style=\"border:1px solid black; image-rendering:pixelated; object-fit:cover;\" src=\"data:image/png;base64,iVBORw0KGgoAAAANSUhEUgAAAAoAAAAKCAIAAAACUFjqAAAASUlEQVR4nHWPwREAMQgCgf57Ng9PYszFFyM7iAQAICJQQ/JYRo2JrbuRotOceOXnRi/va+DA3xIaaaOdbqOf0zD8dEIySNJJhhboalPX7jSVJQAAAABJRU5ErkJggg==\"/></td><td style=\"padding:1px;\"><img width=\"30\" height=\"30\" style=\"border:1px solid black; image-rendering:pixelated; object-fit:cover;\" src=\"data:image/png;base64,iVBORw0KGgoAAAANSUhEUgAAAAoAAAAKCAIAAAACUFjqAAAARUlEQVR4nHWNSxIAIAhCwfvfmRZOSjptGnryAQBJ+ZaobzhyAYAkB/Jbpwu56HR6d0H4ZIduTbh9DEl6zsPHPTkIf81JDoPqQfciRSFhAAAAAElFTkSuQmCC\"/></td><td style=\"padding:1px;\"><img width=\"30\" height=\"30\" style=\"border:1px solid black; image-rendering:pixelated; object-fit:cover;\" src=\"data:image/png;base64,iVBORw0KGgoAAAANSUhEUgAAAAoAAAAKCAIAAAACUFjqAAAARklEQVR4nHWNQRLAMAgCwf//eXuwoU6SckKR1ZIASbbjewScLEHkrTGD18zsZNzbUU3U+aL+ek0tAGjAhvnafZG7LHUflh6QszAFyoYM4QAAAABJRU5ErkJggg==\"/></td><td style=\"padding:1px;\"><img width=\"30\" height=\"30\" style=\"border:1px solid black; image-rendering:pixelated; object-fit:cover;\" src=\"data:image/png;base64,iVBORw0KGgoAAAANSUhEUgAAAAoAAAAKCAIAAAACUFjqAAAARElEQVR4nHWPwQ4AIAhCxf//59fB5orMg1MRGAIkRUQNQBzl+4VJWdRfpb1333BZtv3A7qs9ATPJvVvfvJ+gR3QP9gosblwkIN/u5bcAAAAASUVORK5CYII=\"/></td><td style=\"padding:1px;\"><img width=\"30\" height=\"30\" style=\"border:1px solid black; image-rendering:pixelated; object-fit:cover;\" src=\"data:image/png;base64,iVBORw0KGgoAAAANSUhEUgAAAAoAAAAKCAIAAAACUFjqAAAAR0lEQVR4nIWOSQ7AAAgCB///5+nBxG6m5UQIjkRNAgAqd2VPkw6LlwYGVLcmajO8/WvDkzyvp91JrdPO3x/wn+UqahfHXGEHGkY4+Fr/KXAAAAAASUVORK5CYII=\"/></td></tr></table><table class=\"show_images\" style=\"border-spacing:0px;\"><tr><td style=\"padding:1px;\"><img width=\"30\" height=\"30\" style=\"border:1px solid black; image-rendering:pixelated; object-fit:cover;\" src=\"data:image/png;base64,iVBORw0KGgoAAAANSUhEUgAAAAoAAAAKCAIAAAACUFjqAAAASUlEQVR4nI2QUQrAMAxCfbn/nbsPg0gHY36k1kQbqlOQ5BqCGZCGYWViAqzGDUzGr/DNeEuN+ehJmr7k4V/hwIa3r5ff4/qN8AcK2kTkEZ9GTgAAAABJRU5ErkJggg==\"/></td><td style=\"padding:1px;\"><img width=\"30\" height=\"30\" style=\"border:1px solid black; image-rendering:pixelated; object-fit:cover;\" src=\"data:image/png;base64,iVBORw0KGgoAAAANSUhEUgAAAAoAAAAKCAIAAAACUFjqAAAATElEQVR4nGWQQQ6AQAgDO8T/f7ke0Iosp0KGpiDbkmy36Iqu2QQNx2zOKknAww7Rmu32EraB6zSfk5pLwMpfK3O4n1vuXm/43GaobN6kh0fpMh3vrQAAAABJRU5ErkJggg==\"/></td><td style=\"padding:1px;\"><img width=\"30\" height=\"30\" style=\"border:1px solid black; image-rendering:pixelated; object-fit:cover;\" src=\"data:image/png;base64,iVBORw0KGgoAAAANSUhEUgAAAAoAAAAKCAIAAAACUFjqAAAASUlEQVR4nG2OQQ7AMAjDMOr/v5wdVkWBjQNCSWu5JFXV2j6O03ckAQ5ZdQ7Qfu4oDwz8ZXRK5e9bD9RkAJ2e1zYA5ys1AMt81Q8Tjz7/ovHZVAAAAABJRU5ErkJggg==\"/></td><td style=\"padding:1px;\"><img width=\"30\" height=\"30\" style=\"border:1px solid black; image-rendering:pixelated; object-fit:cover;\" src=\"data:image/png;base64,iVBORw0KGgoAAAANSUhEUgAAAAoAAAAKCAIAAAACUFjqAAAARElEQVR4nG2OQQ4AIAzC1v3/z3gwQXRyWhglIKlCQFVtE+i65TQgqSfqA1dlZ6Z5rEftwv970gl8aE+56Mw50dOCM3kBzP4nHu58oBYAAAAASUVORK5CYII=\"/></td><td style=\"padding:1px;\"><img width=\"30\" height=\"30\" style=\"border:1px solid black; image-rendering:pixelated; object-fit:cover;\" src=\"data:image/png;base64,iVBORw0KGgoAAAANSUhEUgAAAAoAAAAKCAIAAAACUFjqAAAASklEQVR4nG2PQQ4AMQgCh/7/z+zBDbW1HgxBQZFtQFIAUBhYjMpM0rqoa2/FcJ74edvFdlBdT9tIH68dV+bDXb1TJnGkW92zdo8PAMk7+QD65pcAAAAASUVORK5CYII=\"/></td><td style=\"padding:1px;\"><img width=\"30\" height=\"30\" style=\"border:1px solid black; image-rendering:pixelated; object-fit:cover;\" src=\"data:image/png;base64,iVBORw0KGgoAAAANSUhEUgAAAAoAAAAKCAIAAAACUFjqAAAARElEQVR4nF2PQQ4AMQgCF///Z3ogSwBPdJxUxddFUgFAIZIOtpF6NkSwektXY37V5OZtSeTmN3uCl9umKm9X25pzrSo86NBE7NCIh0IAAAAASUVORK5CYII=\"/></td><td style=\"padding:1px;\"><img width=\"30\" height=\"30\" style=\"border:1px solid black; image-rendering:pixelated; object-fit:cover;\" src=\"data:image/png;base64,iVBORw0KGgoAAAANSUhEUgAAAAoAAAAKCAIAAAACUFjqAAAAS0lEQVR4nHWPSw4AMQhCeWbuf2W6sDGOpi4MiB+UJNuSOihMlYDRISk6GRoQOQTYTqw9UbkiKT8j0Pcz+I7ovUMDvtdL12xd3b8BB/18PvcCiBrEAAAAAElFTkSuQmCC\"/></td><td style=\"padding:1px;\"><img width=\"30\" height=\"30\" style=\"border:1px solid black; image-rendering:pixelated; object-fit:cover;\" src=\"data:image/png;base64,iVBORw0KGgoAAAANSUhEUgAAAAoAAAAKCAIAAAACUFjqAAAARklEQVR4nG2PyQ0AMAjDHNT9V6YPEEVReTkcAQRkJiDJAHjUejUBMdnS010QO1v8CRsaPqbN6e02/9494nuEP2YR+2OrSbp0PTkG1g1JvQAAAABJRU5ErkJggg==\"/></td><td style=\"padding:1px;\"><img width=\"30\" height=\"30\" style=\"border:1px solid black; image-rendering:pixelated; object-fit:cover;\" src=\"data:image/png;base64,iVBORw0KGgoAAAANSUhEUgAAAAoAAAAKCAIAAAACUFjqAAAARklEQVR4nG2QSQ4AIAgDLf//83gw1opyarpBGMDYYwwsrJTbSCqjVwNO2o5kyoL3XR2225T9nWq761O4M5Iqb07hSuRDkp8fmDj+cjrLmAAAAABJRU5ErkJggg==\"/></td><td style=\"padding:1px;\"><img width=\"30\" height=\"30\" style=\"border:1px solid black; image-rendering:pixelated; object-fit:cover;\" src=\"data:image/png;base64,iVBORw0KGgoAAAANSUhEUgAAAAoAAAAKCAIAAAACUFjqAAAASElEQVR4nGWOQRIAMAQDN/7/5/TQVhUHI5YAYNs2N2qtrSU1cPA3K7WJqKIxSVFFY918nghG5KdAHJOS84l3e2+k59vO1mTAAvENMAq3RI2TAAAAAElFTkSuQmCC\"/></td><td style=\"padding:1px;\"><img width=\"30\" height=\"30\" style=\"border:1px solid black; image-rendering:pixelated; object-fit:cover;\" src=\"data:image/png;base64,iVBORw0KGgoAAAANSUhEUgAAAAoAAAAKCAIAAAACUFjqAAAASUlEQVR4nG2PQQ4AMQgCGf//Z/bQFI1bD0YRFLEtCbB9sm4ASJrQilqzI0hdC9rsCeV2BDW54aXocRTQlt/L29rs/x+285nD/gCmYTARiKnSGQAAAABJRU5ErkJggg==\"/></td><td style=\"padding:1px;\"><img width=\"30\" height=\"30\" style=\"border:1px solid black; image-rendering:pixelated; object-fit:cover;\" src=\"data:image/png;base64,iVBORw0KGgoAAAANSUhEUgAAAAoAAAAKCAIAAAACUFjqAAAASUlEQVR4nHWOwRHAQAgCWfvvmXs48RiT8ELUVUmyLalNS4/I9lu1amAMXfQ2MOaGf+SeLriYxddA8uFMPu4lphYmybbJ8dke2AH08EH0TbcctQAAAABJRU5ErkJggg==\"/></td></tr></table><table class=\"show_images\" style=\"border-spacing:0px;\"><tr><td style=\"padding:1px;\"><img width=\"30\" height=\"30\" style=\"border:1px solid black; image-rendering:pixelated; object-fit:cover;\" src=\"data:image/png;base64,iVBORw0KGgoAAAANSUhEUgAAAAoAAAAKCAIAAAACUFjqAAAAPUlEQVR4nIVOQQoAMAjS/v9nd4i5WEEegtQ04EKSpLoCYKU6YmRJznIKjgwbXVmZ2Lt7wPza53v2vOhzcR/VNS/wjC7doAAAAABJRU5ErkJggg==\"/></td><td style=\"padding:1px;\"><img width=\"30\" height=\"30\" style=\"border:1px solid black; image-rendering:pixelated; object-fit:cover;\" src=\"data:image/png;base64,iVBORw0KGgoAAAANSUhEUgAAAAoAAAAKCAIAAAACUFjqAAAAQ0lEQVR4nH2OQRIAIAgCl/7/ZzvQlKMVJwYREBARgCRzSVaAwzJsXedsr74dfs14/hmj953XLb0Gjq7WcI//+ypcNwEP0iEKqd+R0wAAAABJRU5ErkJggg==\"/></td><td style=\"padding:1px;\"><img width=\"30\" height=\"30\" style=\"border:1px solid black; image-rendering:pixelated; object-fit:cover;\" src=\"data:image/png;base64,iVBORw0KGgoAAAANSUhEUgAAAAoAAAAKCAIAAAACUFjqAAAASUlEQVR4nGWPwQ3AMAwCj6j7r0wfVmhDeJ2wETaAbSDgLWD9BwOSwk9Fo1la2b1le92hOJK+9EB1qdKlo3tYUsyjO3/3hTWI8wJ5kUfrs7ct5QAAAABJRU5ErkJggg==\"/></td><td style=\"padding:1px;\"><img width=\"30\" height=\"30\" style=\"border:1px solid black; image-rendering:pixelated; object-fit:cover;\" src=\"data:image/png;base64,iVBORw0KGgoAAAANSUhEUgAAAAoAAAAKCAIAAAACUFjqAAAATUlEQVR4nG2QQQ4AMQgCGbP//zJ7sLGs2Z5QzEAq25JsL9GPXp0B0pNUOdsG0ia9Bnx4v/ARdTkRPEd03mp0qy34Es86z+ZAzWoi8mdeb4tB+XBhe2gAAAAASUVORK5CYII=\"/></td><td style=\"padding:1px;\"><img width=\"30\" height=\"30\" style=\"border:1px solid black; image-rendering:pixelated; object-fit:cover;\" src=\"data:image/png;base64,iVBORw0KGgoAAAANSUhEUgAAAAoAAAAKCAIAAAACUFjqAAAASUlEQVR4nG2OSw7AQAhCeab3v7JdTAaJLQviD1DdLcl8CqPOFMjF3PVF7swlCbA6WdLjZvlPdgLIFDLva1BLZ/XYLEV+x++FU14+Uk3fCzJvBwAAAABJRU5ErkJggg==\"/></td><td style=\"padding:1px;\"><img width=\"30\" height=\"30\" style=\"border:1px solid black; image-rendering:pixelated; object-fit:cover;\" src=\"data:image/png;base64,iVBORw0KGgoAAAANSUhEUgAAAAoAAAAKCAIAAAACUFjqAAAAR0lEQVR4nH2NwQKAMAhCH/3/P7ODi9yqeUBEBWwDwSruUh8A6VEkXWH9oj8Qw04KNZv2lGn+3sXc9sn5Nzu6lsPP7E0qLDIAUDJc0QMcIScAAAAASUVORK5CYII=\"/></td><td style=\"padding:1px;\"><img width=\"30\" height=\"30\" style=\"border:1px solid black; image-rendering:pixelated; object-fit:cover;\" src=\"data:image/png;base64,iVBORw0KGgoAAAANSUhEUgAAAAoAAAAKCAIAAAACUFjqAAAATElEQVR4nHWPwQ4AIAhCea3//2U6mOZacVGUISLJtiRJQFAghlkgFF1qeyjx0x1iu5rtcQsT+3zfVV8251Kl7ZhP8wr4fSyGA3jaBhby0Ufq8B7AIAAAAABJRU5ErkJggg==\"/></td><td style=\"padding:1px;\"><img width=\"30\" height=\"30\" style=\"border:1px solid black; image-rendering:pixelated; object-fit:cover;\" src=\"data:image/png;base64,iVBORw0KGgoAAAANSUhEUgAAAAoAAAAKCAIAAAACUFjqAAAAR0lEQVR4nJWOQRKAMAgDd/n/n/GARcbqoTlBEkLIBQCooZlgoXa1rbesTseEH9Rwx5+Qme6x87cau/YOP6s2q0SddoA+hYAL6iU8AZdYiJIAAAAASUVORK5CYII=\"/></td><td style=\"padding:1px;\"><img width=\"30\" height=\"30\" style=\"border:1px solid black; image-rendering:pixelated; object-fit:cover;\" src=\"data:image/png;base64,iVBORw0KGgoAAAANSUhEUgAAAAoAAAAKCAIAAAACUFjqAAAATUlEQVR4nGWPQQ6AQAgDO8T/f7ke0IpsDyRAWgbZti2pa9QtaxoBkjh9UzV3wGN665UmEPN8neHwAfHjZJNWMteuL9Z6dOYDFdppiuEGgEg8A2AEPdIAAAAASUVORK5CYII=\"/></td><td style=\"padding:1px;\"><img width=\"30\" height=\"30\" style=\"border:1px solid black; image-rendering:pixelated; object-fit:cover;\" src=\"data:image/png;base64,iVBORw0KGgoAAAANSUhEUgAAAAoAAAAKCAIAAAACUFjqAAAATElEQVR4nG2OwQ0AMQjD7O6/c+7RE43U8gElBAwAJEmyh1EA/6bt7fKpdq3x9urJKbDam43zsVluuvfvYTKJ+qRTV6eb7hxvnI4m+QB5U0Hxe2s0QQAAAABJRU5ErkJggg==\"/></td><td style=\"padding:1px;\"><img width=\"30\" height=\"30\" style=\"border:1px solid black; image-rendering:pixelated; object-fit:cover;\" src=\"data:image/png;base64,iVBORw0KGgoAAAANSUhEUgAAAAoAAAAKCAIAAAACUFjqAAAASUlEQVR4nG2OQQ7AIAzDmvz/z96hWpQxOFQktQUDzAyQS0enykkELElSrzv6wA/OhyFpoW189dIYWHBnq4D+Xj/3UqV+oOuH4zxppUH49aI/IwAAAABJRU5ErkJggg==\"/></td><td style=\"padding:1px;\"><img width=\"30\" height=\"30\" style=\"border:1px solid black; image-rendering:pixelated; object-fit:cover;\" src=\"data:image/png;base64,iVBORw0KGgoAAAANSUhEUgAAAAoAAAAKCAIAAAACUFjqAAAARUlEQVR4nI2PSQ4AIAwCwf//GQ9VgnGJnLoNbYEpSZIyAMDKcRLJVj2SLqUfb+igazyhX3o5zQYJNK/Jfzz9emy0d0+rA+20L/iRf4pWAAAAAElFTkSuQmCC\"/></td></tr></table><table class=\"show_images\" style=\"border-spacing:0px;\"><tr><td style=\"padding:1px;\"><img width=\"30\" height=\"30\" style=\"border:1px solid black; image-rendering:pixelated; object-fit:cover;\" src=\"data:image/png;base64,iVBORw0KGgoAAAANSUhEUgAAAAoAAAAKCAIAAAACUFjqAAAAQElEQVR4nH2QQRIAMAQDrf//WQ/aToYhJ7UaGdhTRGQB/CYKkulcxUWuD7W9WK36+s0c8AnkN5bYNVrPgQ0HSR3sVycMKDUr3QAAAABJRU5ErkJggg==\"/></td><td style=\"padding:1px;\"><img width=\"30\" height=\"30\" style=\"border:1px solid black; image-rendering:pixelated; object-fit:cover;\" src=\"data:image/png;base64,iVBORw0KGgoAAAANSUhEUgAAAAoAAAAKCAIAAAACUFjqAAAATElEQVR4nHWPQQ4AIQwCaf//5/FAUlF3OWhFUqAkAZKqaoZN+hqkCGj9wKLj22t9Gp0UcHm138Pa8l1zuG51FvM84T+KXfU6AxsZZQGo3jwJX97VkgAAAABJRU5ErkJggg==\"/></td><td style=\"padding:1px;\"><img width=\"30\" height=\"30\" style=\"border:1px solid black; image-rendering:pixelated; object-fit:cover;\" src=\"data:image/png;base64,iVBORw0KGgoAAAANSUhEUgAAAAoAAAAKCAIAAAACUFjqAAAAP0lEQVR4nI2OQQoAMAjD2v3/z9lBkOI8rKdIDSpFgDEasD0KSbYl+ZVye/FmagNo2LssipfbmbM+3PxnD6n5Aqs8Nemo2pLqAAAAAElFTkSuQmCC\"/></td><td style=\"padding:1px;\"><img width=\"30\" height=\"30\" style=\"border:1px solid black; image-rendering:pixelated; object-fit:cover;\" src=\"data:image/png;base64,iVBORw0KGgoAAAANSUhEUgAAAAoAAAAKCAIAAAACUFjqAAAASUlEQVR4nGWPwREAMQgCWfvv2Xsw46HxFVQWQ3dLAvxwWQJMyzqXJJUHs6Fd5dZE5Ayo1Oav+Be43AlM63/aa5qUCz9/q0M7130SGjAXUdnuIAAAAABJRU5ErkJggg==\"/></td><td style=\"padding:1px;\"><img width=\"30\" height=\"30\" style=\"border:1px solid black; image-rendering:pixelated; object-fit:cover;\" src=\"data:image/png;base64,iVBORw0KGgoAAAANSUhEUgAAAAoAAAAKCAIAAAACUFjqAAAASElEQVR4nG2QWw4AMAQEZ93/zvoh3arwIV5rBACQmd2XAeFqN0lV19r2UIy8dCbGkI70MrRTtIKNmCLpEzx2319xPxO/wgFwAPxHQemPRv43AAAAAElFTkSuQmCC\"/></td><td style=\"padding:1px;\"><img width=\"30\" height=\"30\" style=\"border:1px solid black; image-rendering:pixelated; object-fit:cover;\" src=\"data:image/png;base64,iVBORw0KGgoAAAANSUhEUgAAAAoAAAAKCAIAAAACUFjqAAAARklEQVR4nG2PQRIAMAQDrf//OT3oqMIhI5gkTJKZBc6G5LMAX6dACPQ1PL179Zmx2UmqGZMut59+fWaWS4oEiTXQC9VcAw9PMkTn2q0jkQAAAABJRU5ErkJggg==\"/></td><td style=\"padding:1px;\"><img width=\"30\" height=\"30\" style=\"border:1px solid black; image-rendering:pixelated; object-fit:cover;\" src=\"data:image/png;base64,iVBORw0KGgoAAAANSUhEUgAAAAoAAAAKCAIAAAACUFjqAAAAR0lEQVR4nG2OsQ0AMAjDYv7/OR2QKC1kQzhgbGsEsA3E3EmqTgCJrwcu27/YzpFv8fQkVrXKVQMWg0+105IiLaZ/FqK7FFc5AbYzA+BP9tcAAAAASUVORK5CYII=\"/></td><td style=\"padding:1px;\"><img width=\"30\" height=\"30\" style=\"border:1px solid black; image-rendering:pixelated; object-fit:cover;\" src=\"data:image/png;base64,iVBORw0KGgoAAAANSUhEUgAAAAoAAAAKCAIAAAACUFjqAAAASUlEQVR4nH2QQQ7AQAgCwfT/X54eTFw3pPUkCGgUoCig+WdwiiT5ZyapjtC23c1hvty2gcrBvqbGOpnX7mQ3U7n4ymswf9gK4AVlPy/8ZZHb5gAAAABJRU5ErkJggg==\"/></td><td style=\"padding:1px;\"><img width=\"30\" height=\"30\" style=\"border:1px solid black; image-rendering:pixelated; object-fit:cover;\" src=\"data:image/png;base64,iVBORw0KGgoAAAANSUhEUgAAAAoAAAAKCAIAAAACUFjqAAAAQklEQVR4nGVOQQ4AQQxR//+zPXRjRB2aVhEAIAmBPOe+/8eMJBZVIqZ19xYt62m0+4IVsMnO562Tarpz6d5Z1ZL8AJ7wPur5bC4AAAAAAElFTkSuQmCC\"/></td><td style=\"padding:1px;\"><img width=\"30\" height=\"30\" style=\"border:1px solid black; image-rendering:pixelated; object-fit:cover;\" src=\"data:image/png;base64,iVBORw0KGgoAAAANSUhEUgAAAAoAAAAKCAIAAAACUFjqAAAARUlEQVR4nH2OQQoAQQjDEtn/f9k9OIgMOJ5abKoAmQlM0fqbXp0JwAu6JgD1td5oNTausKiPtv5XORDFzUQ3ndvlZ38zPyYZJBGhqyDXAAAAAElFTkSuQmCC\"/></td><td style=\"padding:1px;\"><img width=\"30\" height=\"30\" style=\"border:1px solid black; image-rendering:pixelated; object-fit:cover;\" src=\"data:image/png;base64,iVBORw0KGgoAAAANSUhEUgAAAAoAAAAKCAIAAAACUFjqAAAAR0lEQVR4nGWPQQ7AAAjCCv//MzuYEec4EYsRAZIANUk6cUGZJF65QWDAnpilvTqhD/4nLt4JSe7J3aA1fboc+axe/H9szPgHY+U2AeixOzMAAAAASUVORK5CYII=\"/></td><td style=\"padding:1px;\"><img width=\"30\" height=\"30\" style=\"border:1px solid black; image-rendering:pixelated; object-fit:cover;\" src=\"data:image/png;base64,iVBORw0KGgoAAAANSUhEUgAAAAoAAAAKCAIAAAACUFjqAAAAQ0lEQVR4nH1OQQ4AIAhC//9nOtAcRYuDY6gAAJD0KSLULBJV1SlpijTJkTKiXdKF4zb3lN1prLy2yK/529ybHq8ZsQBZn0HpaUOB/AAAAABJRU5ErkJggg==\"/></td></tr></table><table class=\"show_images\" style=\"border-spacing:0px;\"><tr><td style=\"padding:1px;\"><img width=\"30\" height=\"30\" style=\"border:1px solid black; image-rendering:pixelated; object-fit:cover;\" src=\"data:image/png;base64,iVBORw0KGgoAAAANSUhEUgAAAAoAAAAKCAIAAAACUFjqAAAARUlEQVR4nGWOQRLAMAgC3fz/z9tDG0sMB0ZERqpOqGpLUnwrUF9edaEDwLSBZpU8v7FGbswr64z3ZGJ8+S038uIolF7yA/GjO+5QQASCAAAAAElFTkSuQmCC\"/></td><td style=\"padding:1px;\"><img width=\"30\" height=\"30\" style=\"border:1px solid black; image-rendering:pixelated; object-fit:cover;\" src=\"data:image/png;base64,iVBORw0KGgoAAAANSUhEUgAAAAoAAAAKCAIAAAACUFjqAAAARElEQVR4nI2O0QoAIAgDp/T/v7weFsMsIp92oOcAAADJGoyxQXQMwzna7kJl4SApRzNr8nptRzZe/36qLfmjedpWg/MEUds1/j00ofUAAAAASUVORK5CYII=\"/></td><td style=\"padding:1px;\"><img width=\"30\" height=\"30\" style=\"border:1px solid black; image-rendering:pixelated; object-fit:cover;\" src=\"data:image/png;base64,iVBORw0KGgoAAAANSUhEUgAAAAoAAAAKCAIAAAACUFjqAAAARUlEQVR4nIWOSwoAMQhDX7z/nTMLSyhamCxE80MA20CWnEA9tUzd3oakOB7y7audC2xXKOk0NXPmeHWgdueUf9JdsDskfVa7LQRXLr9IAAAAAElFTkSuQmCC\"/></td><td style=\"padding:1px;\"><img width=\"30\" height=\"30\" style=\"border:1px solid black; image-rendering:pixelated; object-fit:cover;\" src=\"data:image/png;base64,iVBORw0KGgoAAAANSUhEUgAAAAoAAAAKCAIAAAACUFjqAAAARklEQVR4nG2OQQ4AMQgCwez/v0wPJpS1ejBkCAoAAJBk0brFZyPnBzMxdq0J60pKcryoRKMH7b0FSUqq4eWxJd3kVltLmRy7s0Hqp7VeBwAAAABJRU5ErkJggg==\"/></td><td style=\"padding:1px;\"><img width=\"30\" height=\"30\" style=\"border:1px solid black; image-rendering:pixelated; object-fit:cover;\" src=\"data:image/png;base64,iVBORw0KGgoAAAANSUhEUgAAAAoAAAAKCAIAAAACUFjqAAAARklEQVR4nG2OQRIAIAgC2f7/ZzuYZJN7cmAAJUlSFCryxlcHSHH9Rg8QESndwooee87Bs91DZlnyCuC54XN7x3Z0KNeE+zdPwTj+/6VA5gAAAABJRU5ErkJggg==\"/></td><td style=\"padding:1px;\"><img width=\"30\" height=\"30\" style=\"border:1px solid black; image-rendering:pixelated; object-fit:cover;\" src=\"data:image/png;base64,iVBORw0KGgoAAAANSUhEUgAAAAoAAAAKCAIAAAACUFjqAAAASElEQVR4nH2PSQoAQQgDKzL//3L60EMQhfbkkoqKbcAtgNsBShIrwlSKPgtTG5UUhbrb1k26n2Jbm7vm/+7Ik3Rg0uPP74ECB3XJNf0LcqwWAAAAAElFTkSuQmCC\"/></td><td style=\"padding:1px;\"><img width=\"30\" height=\"30\" style=\"border:1px solid black; image-rendering:pixelated; object-fit:cover;\" src=\"data:image/png;base64,iVBORw0KGgoAAAANSUhEUgAAAAoAAAAKCAIAAAACUFjqAAAAQ0lEQVR4nHWQSQ4AMAgCgf//2R5ojVHLwbhkIBEAIgJPtQdAzyTbwdIK9fNPImnzL70GG9AanGaaqwp02xp0gfmWrAfwlioA9YvTIQAAAABJRU5ErkJggg==\"/></td><td style=\"padding:1px;\"><img width=\"30\" height=\"30\" style=\"border:1px solid black; image-rendering:pixelated; object-fit:cover;\" src=\"data:image/png;base64,iVBORw0KGgoAAAANSUhEUgAAAAoAAAAKCAIAAAACUFjqAAAASElEQVR4nIWPwQ3AMAgDuey/s/ugukREVflgZLBNVVWSJCewVjdgEG+dd25MGZeG14em3oCDeIO+NloTSi69gTv/Fr+f/k/+APR7Vs+/zmrwAAAAAElFTkSuQmCC\"/></td><td style=\"padding:1px;\"><img width=\"30\" height=\"30\" style=\"border:1px solid black; image-rendering:pixelated; object-fit:cover;\" src=\"data:image/png;base64,iVBORw0KGgoAAAANSUhEUgAAAAoAAAAKCAIAAAACUFjqAAAASUlEQVR4nH2OQQ4AIQwCmcb/f5k9UI3RrHPsQAOSJNnWBLANSKrDLXKsxG8Run0kVq7uxk79ifzj0QbGLdLr5f0E9nVxtsd72geoPi0Iv2PREQAAAABJRU5ErkJggg==\"/></td><td style=\"padding:1px;\"><img width=\"30\" height=\"30\" style=\"border:1px solid black; image-rendering:pixelated; object-fit:cover;\" src=\"data:image/png;base64,iVBORw0KGgoAAAANSUhEUgAAAAoAAAAKCAIAAAACUFjqAAAARklEQVR4nHWPQRIAIAgCgf//2Q6WGRUHZ9RhUcQSgKxdjAiSz92UuTtPZUqMMbw3CUBmZz2spPoFNT3cxu+tivyL2I/djAESEUHpa8U/7wAAAABJRU5ErkJggg==\"/></td><td style=\"padding:1px;\"><img width=\"30\" height=\"30\" style=\"border:1px solid black; image-rendering:pixelated; object-fit:cover;\" src=\"data:image/png;base64,iVBORw0KGgoAAAANSUhEUgAAAAoAAAAKCAIAAAACUFjqAAAARklEQVR4nG2QQQ4AIAjDOv7/Zz0Q5zTsRDobA6wTAOjBpABJLr7hKTqSTMrIdb4e7BRqpHY0qk7lr203uTw3yRvcbrwMsAEEO0ffoD42pAAAAABJRU5ErkJggg==\"/></td><td style=\"padding:1px;\"><img width=\"30\" height=\"30\" style=\"border:1px solid black; image-rendering:pixelated; object-fit:cover;\" src=\"data:image/png;base64,iVBORw0KGgoAAAANSUhEUgAAAAoAAAAKCAIAAAACUFjqAAAARElEQVR4nH2PwQoAMAhCtf//57fDwI0W6xCaYWZAkiTbDfsejVUfzXYFNeGQ139PgAp6+2C+tdAheb4CPN7uAYEs3WABAlw+8rrtjoEAAAAASUVORK5CYII=\"/></td></tr></table><table class=\"show_images\" style=\"border-spacing:0px;\"><tr><td style=\"padding:1px;\"><img width=\"30\" height=\"30\" style=\"border:1px solid black; image-rendering:pixelated; object-fit:cover;\" src=\"data:image/png;base64,iVBORw0KGgoAAAANSUhEUgAAAAoAAAAKCAIAAAACUFjqAAAAR0lEQVR4nH2QwQ4AIAhCof//ZzrQzNR1YRT2aEISAGsYSTbMGfkcAawe2B+NwZGxPnCSzE2+Grp7RY1NPszw47v7iUKLhVg3QUQ+8niZ20wAAAAASUVORK5CYII=\"/></td><td style=\"padding:1px;\"><img width=\"30\" height=\"30\" style=\"border:1px solid black; image-rendering:pixelated; object-fit:cover;\" src=\"data:image/png;base64,iVBORw0KGgoAAAANSUhEUgAAAAoAAAAKCAIAAAACUFjqAAAAS0lEQVR4nHWQSw4AIQxCoZn7XxkXjMT6YVWBvDZSEqZI5umZa2wXgE3+Fe6lqK5uSBXUmUkqL7tmDe4eyXZKJk01zOtmwz4cv7FSB9VpNgjk4L0JAAAAAElFTkSuQmCC\"/></td><td style=\"padding:1px;\"><img width=\"30\" height=\"30\" style=\"border:1px solid black; image-rendering:pixelated; object-fit:cover;\" src=\"data:image/png;base64,iVBORw0KGgoAAAANSUhEUgAAAAoAAAAKCAIAAAACUFjqAAAAS0lEQVR4nGWOQQ7AQAgCmf3/n+nBlLWUgzEqjEiyrVdAettHS4DtuZ7Ktsad4dlpBZL0Cc8FcG1xhJoPml3/d3gWY+v1gBOJftq4BxmyOPFOKUCaAAAAAElFTkSuQmCC\"/></td><td style=\"padding:1px;\"><img width=\"30\" height=\"30\" style=\"border:1px solid black; image-rendering:pixelated; object-fit:cover;\" src=\"data:image/png;base64,iVBORw0KGgoAAAANSUhEUgAAAAoAAAAKCAIAAAACUFjqAAAASElEQVR4nG1QSRIAIAhC//9nOlBojh4cJhZTAADAV8LuKToi1PVqT1g4OBly5exOI2yVnjpibyrJNVm6Eg6i3IPou3z/7AcRON/7R+xGCIyNAAAAAElFTkSuQmCC\"/></td><td style=\"padding:1px;\"><img width=\"30\" height=\"30\" style=\"border:1px solid black; image-rendering:pixelated; object-fit:cover;\" src=\"data:image/png;base64,iVBORw0KGgoAAAANSUhEUgAAAAoAAAAKCAIAAAACUFjqAAAASklEQVR4nG2QSQ4AIAwCgf//GQ81BBdOWEdKJADbAEiOGZEEoIwC9VEoTUATDNhEvPqutw6nRH3b8Xp9TdRtX2k3rH1HWNz7J7YXNvs2DvbDyVYAAAAASUVORK5CYII=\"/></td><td style=\"padding:1px;\"><img width=\"30\" height=\"30\" style=\"border:1px solid black; image-rendering:pixelated; object-fit:cover;\" src=\"data:image/png;base64,iVBORw0KGgoAAAANSUhEUgAAAAoAAAAKCAIAAAACUFjqAAAASklEQVR4nG2OUQ7AMAhCec3uf2X2YUqdKx8GFIiSJMm2bTWUZGwHFgCUCAlIzxXPtO+Ckyk2ZpEVR+Xg8+wpz7Y71v+dnia11/MLZpw19EGwvKUAAAAASUVORK5CYII=\"/></td><td style=\"padding:1px;\"><img width=\"30\" height=\"30\" style=\"border:1px solid black; image-rendering:pixelated; object-fit:cover;\" src=\"data:image/png;base64,iVBORw0KGgoAAAANSUhEUgAAAAoAAAAKCAIAAAACUFjqAAAASklEQVR4nGWOQQ4AMQgCB9P/f3n3YIqkekIcaAG+O60Bi9OLJFsmgDLbbnNzNpsF1mcnEqps9jhdOy1pXmwqrST01D41Uy5p//EHrNE/A6hun4wAAAAASUVORK5CYII=\"/></td><td style=\"padding:1px;\"><img width=\"30\" height=\"30\" style=\"border:1px solid black; image-rendering:pixelated; object-fit:cover;\" src=\"data:image/png;base64,iVBORw0KGgoAAAANSUhEUgAAAAoAAAAKCAIAAAACUFjqAAAARklEQVR4nHWOwRHAMAjDMPvvrD5MSK9QXiHCAsUpwA9J3eoNZuXKLIiIXEGZe+rPn8Bkjkn6yv3rALDIe2OdNuWdvmweATxxqjXx5MevIgAAAABJRU5ErkJggg==\"/></td><td style=\"padding:1px;\"><img width=\"30\" height=\"30\" style=\"border:1px solid black; image-rendering:pixelated; object-fit:cover;\" src=\"data:image/png;base64,iVBORw0KGgoAAAANSUhEUgAAAAoAAAAKCAIAAAACUFjqAAAASUlEQVR4nHWPQQ7AQAgCmU3//2V6IDGuth6IoqLItqRgohjbVAPoQ4nTC6DwktpJ8NlUT87461KWSDvs72uxsTUYx4YRPpfq3AtlJUHoprZFSwAAAABJRU5ErkJggg==\"/></td><td style=\"padding:1px;\"><img width=\"30\" height=\"30\" style=\"border:1px solid black; image-rendering:pixelated; object-fit:cover;\" src=\"data:image/png;base64,iVBORw0KGgoAAAANSUhEUgAAAAoAAAAKCAIAAAACUFjqAAAASklEQVR4nHWPSQ4AIQgEq8z8/8t4IEF0lAOhU80GAERE5iwq7BhQu+PrbOtTwCsrh13/reM46mjwtTutY9uU57jeWbhm9CfvrOQE+UQ19AJVUowAAAAASUVORK5CYII=\"/></td><td style=\"padding:1px;\"><img width=\"30\" height=\"30\" style=\"border:1px solid black; image-rendering:pixelated; object-fit:cover;\" src=\"data:image/png;base64,iVBORw0KGgoAAAANSUhEUgAAAAoAAAAKCAIAAAACUFjqAAAARklEQVR4nG2QSxIAIAhCxfvf+bWwGjJZ4QdkDCAigCKNZ9WS7syX0ru+V5ArGiSlKwbyS5v/Y87BTt6iuhRQtcZ0z5XxMwsqqFPWsW1p+gAAAABJRU5ErkJggg==\"/></td><td style=\"padding:1px;\"><img width=\"30\" height=\"30\" style=\"border:1px solid black; image-rendering:pixelated; object-fit:cover;\" src=\"data:image/png;base64,iVBORw0KGgoAAAANSUhEUgAAAAoAAAAKCAIAAAACUFjqAAAASElEQVR4nGVOSRIAIAgCp/9/mQ62EHlwFAQBAEmSsMtn9k7S0cWRFQqSblOP1ebOUH5+bLozrP7fK7aLvEacR5RL/9InS9CNTDUHQe2M7CX4AAAAAElFTkSuQmCC\"/></td></tr></table><table class=\"show_images\" style=\"border-spacing:0px;\"><tr><td style=\"padding:1px;\"><img width=\"30\" height=\"30\" style=\"border:1px solid black; image-rendering:pixelated; object-fit:cover;\" src=\"data:image/png;base64,iVBORw0KGgoAAAANSUhEUgAAAAoAAAAKCAIAAAACUFjqAAAAR0lEQVR4nHWOQRKAQAjDUv7/53hQGQZXbjS0NACg8k6SXktVkzRjTLX7BjMGSLOV/+hfxyH8F+9no1qSWuq8Vmupy33u1eIFP5AwAVEEj7AAAAAASUVORK5CYII=\"/></td><td style=\"padding:1px;\"><img width=\"30\" height=\"30\" style=\"border:1px solid black; image-rendering:pixelated; object-fit:cover;\" src=\"data:image/png;base64,iVBORw0KGgoAAAANSUhEUgAAAAoAAAAKCAIAAAACUFjqAAAASklEQVR4nHWQSQ7AMAwCwcr/v0wPRNS1VU4js0QKJAGQZLDCB00jQZKh7kW1ex87hpc6k6y/h287pd5O6B03jFD5lGtCewzjiyQ9pPM7+pa0Bj8AAAAASUVORK5CYII=\"/></td><td style=\"padding:1px;\"><img width=\"30\" height=\"30\" style=\"border:1px solid black; image-rendering:pixelated; object-fit:cover;\" src=\"data:image/png;base64,iVBORw0KGgoAAAANSUhEUgAAAAoAAAAKCAIAAAACUFjqAAAAQklEQVR4nH2PQQoAMAjDmrH/f7k7CMKczoMoNgElybaGoj0DMayJC2a3UPrWS0QHbGM7plZzyRPKNMVc07+noUJlPYxZLPkMgxn8AAAAAElFTkSuQmCC\"/></td><td style=\"padding:1px;\"><img width=\"30\" height=\"30\" style=\"border:1px solid black; image-rendering:pixelated; object-fit:cover;\" src=\"data:image/png;base64,iVBORw0KGgoAAAANSUhEUgAAAAoAAAAKCAIAAAACUFjqAAAASElEQVR4nG2PSw7AQAhCH97/znRha6gzLIwhDz/YBvyJpbFOzrYWJMl2V6BeSptrtM59OUCXczI93dRUpduTLuj655fOy5MGHro2UON8J7NNAAAAAElFTkSuQmCC\"/></td><td style=\"padding:1px;\"><img width=\"30\" height=\"30\" style=\"border:1px solid black; image-rendering:pixelated; object-fit:cover;\" src=\"data:image/png;base64,iVBORw0KGgoAAAANSUhEUgAAAAoAAAAKCAIAAAACUFjqAAAAR0lEQVR4nI2OQQ6AQAwCof//8+yhSupqzHIi0ALSEwDQRFKFxYgiqcI+UW/JdjI8o46+d7vTkjlbruW2u2IeAf5frjmNGxEXEss46BH2HgcAAAAASUVORK5CYII=\"/></td><td style=\"padding:1px;\"><img width=\"30\" height=\"30\" style=\"border:1px solid black; image-rendering:pixelated; object-fit:cover;\" src=\"data:image/png;base64,iVBORw0KGgoAAAANSUhEUgAAAAoAAAAKCAIAAAACUFjqAAAASklEQVR4nH1Pyw4AIAgC//+f7aAhq5YHpzgeMjMBACCpWSsBOHpUOLuq5gaLXfstPuyH8dbom/o4fqKRDA/ih07ubKFCQhHmGRNb/UQ5Ce7UleQAAAAASUVORK5CYII=\"/></td><td style=\"padding:1px;\"><img width=\"30\" height=\"30\" style=\"border:1px solid black; image-rendering:pixelated; object-fit:cover;\" src=\"data:image/png;base64,iVBORw0KGgoAAAANSUhEUgAAAAoAAAAKCAIAAAACUFjqAAAAS0lEQVR4nH1OuRHAMAwC9t+ZFNgKdu5CowckADZs28YJZTXEjGnUXIMkAKX0qv/pe9dpNJ9Jdr+itTZEdFG8Zleu5f3DcaJ25rZ/AA5QPvnUZm1SAAAAAElFTkSuQmCC\"/></td><td style=\"padding:1px;\"><img width=\"30\" height=\"30\" style=\"border:1px solid black; image-rendering:pixelated; object-fit:cover;\" src=\"data:image/png;base64,iVBORw0KGgoAAAANSUhEUgAAAAoAAAAKCAIAAAACUFjqAAAARklEQVR4nIWPQQoAIQwDp/7/z/GQRaNF1kMdKBlSAEmAwbxm5fp6VTX8rZkgaaT5gi/dBQf3Rlvw6rWj6UgN8HeYd72aYxN7t0flMxuuBAAAAABJRU5ErkJggg==\"/></td><td style=\"padding:1px;\"><img width=\"30\" height=\"30\" style=\"border:1px solid black; image-rendering:pixelated; object-fit:cover;\" src=\"data:image/png;base64,iVBORw0KGgoAAAANSUhEUgAAAAoAAAAKCAIAAAACUFjqAAAARklEQVR4nIWOQRLAMAgCWf//Z3Jg6rSJk3pSQABJtvUMYBsIzpvbBqgIN7T3Op/il5SBbhFQl+zBPMGf5n0M5U8ipf7NJS3/ticRWHztEgAAAABJRU5ErkJggg==\"/></td><td style=\"padding:1px;\"><img width=\"30\" height=\"30\" style=\"border:1px solid black; image-rendering:pixelated; object-fit:cover;\" src=\"data:image/png;base64,iVBORw0KGgoAAAANSUhEUgAAAAoAAAAKCAIAAAACUFjqAAAASElEQVR4nG1PQQ7AMAgC0/9/mR5sqGXzYAwgIgBI6t5lBEB5ItnDVNC0FRNZk/tKH8MokhWcE5xosRE29Wt76XDL85Lmx5F/A08zNfcoW+gCAAAAAElFTkSuQmCC\"/></td><td style=\"padding:1px;\"><img width=\"30\" height=\"30\" style=\"border:1px solid black; image-rendering:pixelated; object-fit:cover;\" src=\"data:image/png;base64,iVBORw0KGgoAAAANSUhEUgAAAAoAAAAKCAIAAAACUFjqAAAAS0lEQVR4nH2OSRKAMAgEu/P/P48HLKKYkhPMxggkUZMAaiEAsBoaxKaTPNHe1dXH8N3uyuzwMR5Nm+7kb7XX71Gq1OuYWbok66+XXgmjMAkPTX4AAAAAAElFTkSuQmCC\"/></td><td style=\"padding:1px;\"><img width=\"30\" height=\"30\" style=\"border:1px solid black; image-rendering:pixelated; object-fit:cover;\" src=\"data:image/png;base64,iVBORw0KGgoAAAANSUhEUgAAAAoAAAAKCAIAAAACUFjqAAAARElEQVR4nI2OQQrAQAwCNf//8/QglCC7pZ6M0UQBkoCQgo+qJNuSZg8FwHvYUcAJvYuov37HPdXl8Puj/KTC7caUvcgD2aAnC6CO6LcAAAAASUVORK5CYII=\"/></td></tr></table><table class=\"show_images\" style=\"border-spacing:0px;\"><tr><td style=\"padding:1px;\"><img width=\"30\" height=\"30\" style=\"border:1px solid black; image-rendering:pixelated; object-fit:cover;\" src=\"data:image/png;base64,iVBORw0KGgoAAAANSUhEUgAAAAoAAAAKCAIAAAACUFjqAAAAR0lEQVR4nG2OSRKAQAgDbf7/53jAaZEyp1Q2IMl1ADRRLCWhB9TqrRwzvgDw6zlWnyw0SdK13W7P1VrefP79XG+OPVzJk5IbrB85APZrfDAAAAAASUVORK5CYII=\"/></td><td style=\"padding:1px;\"><img width=\"30\" height=\"30\" style=\"border:1px solid black; image-rendering:pixelated; object-fit:cover;\" src=\"data:image/png;base64,iVBORw0KGgoAAAANSUhEUgAAAAoAAAAKCAIAAAACUFjqAAAATUlEQVR4nG2PQRIAIQjDAv//M3uIg6zagxZRGqOqACAi2lsC6WZPr7z6e3Ere45G7fYsnDlTYqJ15AZ8HA3MXIQXs2vKcvzqrU4REPgAwAI2D23rQ/wAAAAASUVORK5CYII=\"/></td><td style=\"padding:1px;\"><img width=\"30\" height=\"30\" style=\"border:1px solid black; image-rendering:pixelated; object-fit:cover;\" src=\"data:image/png;base64,iVBORw0KGgoAAAANSUhEUgAAAAoAAAAKCAIAAAACUFjqAAAARUlEQVR4nJWQwQoAMAhCX7H//2V3CFzUaR4KFSUCkNRnAQBOLfNCRJSS5pasADFyIx27uadzG4ak/Ct/xj6te08f/f1LFxdeQe6d/apQAAAAAElFTkSuQmCC\"/></td><td style=\"padding:1px;\"><img width=\"30\" height=\"30\" style=\"border:1px solid black; image-rendering:pixelated; object-fit:cover;\" src=\"data:image/png;base64,iVBORw0KGgoAAAANSUhEUgAAAAoAAAAKCAIAAAACUFjqAAAARklEQVR4nG2OQRLAMAgCl/z/z/SQ1CoNJxlZBtnmlaSykoDhe3Rr7RQQNef4E4PupqD7OyRpvGP2R0dt5c7y62xg2e4+ah7Toh4bM0H3MgAAAABJRU5ErkJggg==\"/></td><td style=\"padding:1px;\"><img width=\"30\" height=\"30\" style=\"border:1px solid black; image-rendering:pixelated; object-fit:cover;\" src=\"data:image/png;base64,iVBORw0KGgoAAAANSUhEUgAAAAoAAAAKCAIAAAACUFjqAAAARklEQVR4nGWOwQ0AQQgCB/vvmXtsgp76UuIA2LYNAGsHlDsjtVhTvX+1iInaVmKuf9Nrftk3tW2m82zwPEpS6FuilhrunR/GBDj+OzNtgQAAAABJRU5ErkJggg==\"/></td><td style=\"padding:1px;\"><img width=\"30\" height=\"30\" style=\"border:1px solid black; image-rendering:pixelated; object-fit:cover;\" src=\"data:image/png;base64,iVBORw0KGgoAAAANSUhEUgAAAAoAAAAKCAIAAAACUFjqAAAAR0lEQVR4nHWPSRKAQAgDu/3/n+MBZ1SK4RTIUkEASKImYY0K/E5t1OvEVeRAV2wBS3UKeN1Pl2Xt9FB7a8d8269z+y/ea4Ebx5wkCPRqSMAAAAAASUVORK5CYII=\"/></td><td style=\"padding:1px;\"><img width=\"30\" height=\"30\" style=\"border:1px solid black; image-rendering:pixelated; object-fit:cover;\" src=\"data:image/png;base64,iVBORw0KGgoAAAANSUhEUgAAAAoAAAAKCAIAAAACUFjqAAAARklEQVR4nHWOQQ4AMQgCB///Z/bQBEnT9YQ6gtgGgBbR6kVK0hkOrzo7SRO8xbbNXuI3O0578eT2NduJzPX0q+20aHs2B3zrIzj7ooNlAQAAAABJRU5ErkJggg==\"/></td><td style=\"padding:1px;\"><img width=\"30\" height=\"30\" style=\"border:1px solid black; image-rendering:pixelated; object-fit:cover;\" src=\"data:image/png;base64,iVBORw0KGgoAAAANSUhEUgAAAAoAAAAKCAIAAAACUFjqAAAASElEQVR4nH2PQRIAIAgCwf//2Q40aNbEyYl1KwLITJwhuYe76wmz3rCAOpKAfJjCU+/so1cHpCrsV8YjSu5C0Eb/HyvP4HT3Aj/fMAnjQgvmAAAAAElFTkSuQmCC\"/></td><td style=\"padding:1px;\"><img width=\"30\" height=\"30\" style=\"border:1px solid black; image-rendering:pixelated; object-fit:cover;\" src=\"data:image/png;base64,iVBORw0KGgoAAAANSUhEUgAAAAoAAAAKCAIAAAACUFjqAAAASElEQVR4nH2OSQ4AQQgCKf//Z/rgaOwlw4mKQJQkSbZtq9Q+JsxQmkgAgKMqiQm3oku3gJhwnG3/jQPbePs0X/v9MzXsUicaF1wxPvA4ChSXAAAAAElFTkSuQmCC\"/></td><td style=\"padding:1px;\"><img width=\"30\" height=\"30\" style=\"border:1px solid black; image-rendering:pixelated; object-fit:cover;\" src=\"data:image/png;base64,iVBORw0KGgoAAAANSUhEUgAAAAoAAAAKCAIAAAACUFjqAAAASElEQVR4nH2PQQ4AMQgCB///Z3rYhpqaLgcPgIIAtvsMAEUIJIWp7ZIYUNjrQOTq2ueWztrJ7pFBhZoFgXr1sr0z/o7PX1MQWKVEOQNCjcHfAAAAAElFTkSuQmCC\"/></td><td style=\"padding:1px;\"><img width=\"30\" height=\"30\" style=\"border:1px solid black; image-rendering:pixelated; object-fit:cover;\" src=\"data:image/png;base64,iVBORw0KGgoAAAANSUhEUgAAAAoAAAAKCAIAAAACUFjqAAAAQ0lEQVR4nHWOQQ4AIAjDqPH/X8bDooGpO5AtA9LIrYjQrAbLpmEdUGt+d9K0rOvMlEHu94PGiceWH+R3V+GxTtuHZgELYDL00NS8iAAAAABJRU5ErkJggg==\"/></td><td style=\"padding:1px;\"><img width=\"30\" height=\"30\" style=\"border:1px solid black; image-rendering:pixelated; object-fit:cover;\" src=\"data:image/png;base64,iVBORw0KGgoAAAANSUhEUgAAAAoAAAAKCAIAAAACUFjqAAAASElEQVR4nG2OQRIAIAgCWf//ZztY1JgeHBEUlJmSqrsMeTHQdNE42Ac1hMHowr+6HMS4vd42/mNLiiK65VEP16XeYd/A/uFhAVAlO/cth4OwAAAAAElFTkSuQmCC\"/></td></tr></table>"
            ],
            "text/plain": [
              "<IPython.core.display.HTML object>"
            ]
          },
          "metadata": {}
        },
        {
          "output_type": "display_data",
          "data": {
            "text/html": [
              "<table class=\"show_images\" style=\"border-spacing:0px;\"><tr><td style=\"padding:1px;\"><img width=\"300\" height=\"300\" style=\"border:1px solid black; image-rendering:pixelated; object-fit:cover;\" src=\"data:image/png;base64,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\"/></td></tr></table>"
            ],
            "text/plain": [
              "<IPython.core.display.HTML object>"
            ]
          },
          "metadata": {}
        }
      ]
    },
    {
      "cell_type": "code",
      "metadata": {
        "id": "HgSyaeOYcsjM"
      },
      "source": [
        "# %prun [process2(puzzle.input) for _ in range(10)]"
      ],
      "execution_count": 101,
      "outputs": []
    },
    {
      "cell_type": "markdown",
      "metadata": {
        "id": "Lvu-gXKH-dwO"
      },
      "source": [
        "<a name=\"day21\"></a>\n",
        "## Day 21: Allergens in ingredients"
      ]
    },
    {
      "cell_type": "markdown",
      "metadata": {
        "id": "yWu1kcAggsXF"
      },
      "source": [
        "Given a set of foods, each containing a list of ingredients and a set of allergens contained in the ingredients, determine the ingredient corresponding to each allergen.  Each allergen is contained in at most one ingredient.  Some foods may fail to list all allergens.\n",
        "\n",
        "- Part 1: For each food, count the number of ingredients which cannot possibly contain allergens, and report the sum.\n",
        "\n",
        "- Part 2: Report the comma-separated list of ingredients which contain allergens, sorted in ascending order by the allergen name."
      ]
    },
    {
      "cell_type": "code",
      "metadata": {
        "id": "fs33AgEW-dwO",
        "colab": {
          "base_uri": "https://localhost:8080/",
          "height": 302
        },
        "outputId": "cd69f753-a0df-4041-f2ed-505e96b72e49"
      },
      "source": [
        "puzzle = advent.puzzle(day=21)"
      ],
      "execution_count": 102,
      "outputs": [
        {
          "output_type": "display_data",
          "data": {
            "text/markdown": "For [day 21](https://adventofcode.com/2020/day/21), `puzzle.input` has 42 lines:",
            "text/plain": [
              "<IPython.core.display.Markdown object>"
            ]
          },
          "metadata": {}
        },
        {
          "output_type": "stream",
          "name": "stdout",
          "text": [
            "xfvxzl nfcrh kscdhn khnqq jkvcbf jhlvrg chc fk zbh hgrptqb zrvtg tdhv jhqpdf jvj ... mxbbst (contains shellfish, sesame)\n",
            "vxzpfp shlg zrvtg ghq vzn ppqs mqlnbjq cltpv pvxpgp psbnqz nqcmm sqjcsxjq xftxgf ... cbhfpzp khnqq dhqbf (contains fish)\n",
            "fzhmtds zbclt pbln qtgv bnl xqcb vxzpfp jkvcbf nnst tplrt xknj hzmvzrr xfvxzl gk ...  (contains sesame, fish, shellfish)\n",
            "ghq vfqh vtdbl bkmgx bxlc sbhdb xfvxzl lvdcdg nsktq hrjrm dbr prrfm dbqbv jbcjk  ... gpgql dpkkzdgs cjds (contains nuts)\n",
            "xknj bbbzcmh tzrp xkqgc ktfvb tplrt dqz ntq jbcjk pcnmbt nqcmm tlgchbh bxfvt nfs ... hlvrg fhznhmx (contains dairy, soy)\n",
            "strd dpdgc cjdnjf flmssjn xfpc mmdfrfcp gpp tqjg znkr mxbbst bbbzcmh jbvrzn cdsl ... mx xknh schkf (contains soy, wheat)\n",
            "gkgzn bndz dpkkzdgs nv nhjbd mqlnbjq khnqq ljpzx cfbgb xknj ddmg mkpmkx tgcvz nn ... trd tdhv fk tdsvx (contains sesame)\n",
            "gnfjcpc ddmg tpbtpd cltpv xfvxzl txr rmxzzf tgcvz jsdgn pgnk jrpx vbvfr vzn gbpl ... c dvzqx hcms zrvtg (contains dairy)\n",
            " ...\n",
            "nsktq ftkfc mdqlbx bxfvt vtdbl djldkx cljvdxp cpp ghzx sbhdb ppqs dvzqx zhpv kgr ... vrtf nnst dqrvvk (contains peanuts)\n",
            "fhznhmx khnm skrrb ckpjgb glxxp rzlkxt jrj mxsklfx mdqlbx mkpmkx xhb bkhjxl ttkn ... txr zgpv (contains fish, shellfish)\n",
            "cbhfpzp tmp rjnx dpdgc frv xflfx dbr fzhmtds kcgtlb msrnhf khnm hgrptqb tfgf xss ...  qhhsj (contains sesame, nuts, soy)\n",
            "flnhl gkddl jhqpdf jkvcbf xqcb gcbbnqb ddmg ppqs bnl jrpx cdslv bxlc tfgf msrnhf ... dqrvvk cltpv (contains wheat, nuts)\n"
          ]
        },
        {
          "output_type": "display_data",
          "data": {
            "text/markdown": "The stored answers are: `{1: '2410', 2: 'tmp,pdpgm,cdslv,zrvtg,ttkn,mkpmkx,vxzpfp,flnhl'}`",
            "text/plain": [
              "<IPython.core.display.Markdown object>"
            ]
          },
          "metadata": {}
        }
      ]
    },
    {
      "cell_type": "code",
      "metadata": {
        "id": "_2PTWdhB-dwP"
      },
      "source": [
        "s1 = \"\"\"\n",
        "mxmxvkd kfcds sqjhc nhms (contains dairy, fish)\n",
        "trh fvjkl sbzzf mxmxvkd (contains dairy)\n",
        "sqjhc fvjkl (contains soy)\n",
        "sqjhc mxmxvkd sbzzf (contains fish)\n",
        "\"\"\""
      ],
      "execution_count": 103,
      "outputs": []
    },
    {
      "cell_type": "code",
      "metadata": {
        "id": "ZiLL-vnZg7Nf",
        "colab": {
          "base_uri": "https://localhost:8080/"
        },
        "outputId": "9c78b9a3-04b7-488f-8496-9a3c8a9567f5"
      },
      "source": [
        "def process1(s, part2=False):\n",
        "\n",
        "  def foods():\n",
        "    for line in s.strip('\\n').splitlines():\n",
        "      ingredients, allergens = line[:-1].split(' (contains ')\n",
        "      yield set(ingredients.split()), allergens.split(', ')\n",
        "\n",
        "  possibles_for_allergen = {}\n",
        "  for ingredients, allergens in foods():\n",
        "    for allergen in allergens:\n",
        "      if allergen not in possibles_for_allergen:\n",
        "        possibles_for_allergen[allergen] = ingredients.copy()\n",
        "      else:\n",
        "        possibles_for_allergen[allergen] &= ingredients\n",
        "\n",
        "  allergen_ingredient = {}\n",
        "  while possibles_for_allergen:\n",
        "    has_single_ingredient = lambda item: len(item[1]) == 1\n",
        "    allergen, ingredients = next(\n",
        "        filter(has_single_ingredient, possibles_for_allergen.items()))\n",
        "    ingredient = ingredients.pop()\n",
        "    allergen_ingredient[allergen] = ingredient\n",
        "    for ingredients2 in possibles_for_allergen.values():\n",
        "      ingredients2.discard(ingredient)\n",
        "    del possibles_for_allergen[allergen]\n",
        "\n",
        "  if not part2:\n",
        "    allergen_ingredients = set(list(allergen_ingredient.values()))\n",
        "    return sum(\n",
        "        len(ingredients - allergen_ingredients) for ingredients, _ in foods())\n",
        "\n",
        "  return ','.join(ingredient\n",
        "                  for _, ingredient in sorted(allergen_ingredient.items()))\n",
        "\n",
        "\n",
        "check_eq(process1(s1), 5)\n",
        "puzzle.verify(1, process1)\n",
        "\n",
        "process2 = functools.partial(process1, part2=True)\n",
        "check_eq(process2(s1), 'mxmxvkd,sqjhc,fvjkl')\n",
        "puzzle.verify(2, process2)"
      ],
      "execution_count": 104,
      "outputs": [
        {
          "output_type": "stream",
          "name": "stdout",
          "text": [
            "(Part 1: 0.001 s)\n",
            "(Part 2: 0.001 s)\n"
          ]
        }
      ]
    },
    {
      "cell_type": "markdown",
      "metadata": {
        "id": "s6XjBYzo-d4k"
      },
      "source": [
        "<a name=\"day22\"></a>\n",
        "## Day 22: Recursive card game"
      ]
    },
    {
      "cell_type": "markdown",
      "metadata": {
        "id": "655GJ3XGiu_D"
      },
      "source": [
        "Given two hands of integer cards, simulate a card game of combat.  At each turn, the player with the largest front card places the two cards (higher card first) at the back of their hand.  A player that owns all cards wins.\n",
        "\n",
        "- Part 1: In the winner's hand, multiply each card value by its position (1 being rearmost), and report the sum of the result.\n",
        "\n",
        "- Part 2: Add extra rules.  If both players have at least as many cards remaining in their deck as their top card, the winner of the round is determined by playing a new game of Recursive Combat.  See the [website](https://adventofcode.com/2020/day/22) for details."
      ]
    },
    {
      "cell_type": "code",
      "metadata": {
        "id": "Z-p_WhaT-d4k",
        "colab": {
          "base_uri": "https://localhost:8080/",
          "height": 302
        },
        "outputId": "274e3b74-9015-4d64-ef13-aab191ecf7aa"
      },
      "source": [
        "puzzle = advent.puzzle(day=22)"
      ],
      "execution_count": 105,
      "outputs": [
        {
          "output_type": "display_data",
          "data": {
            "text/markdown": "For [day 22](https://adventofcode.com/2020/day/22), `puzzle.input` has 53 lines:",
            "text/plain": [
              "<IPython.core.display.Markdown object>"
            ]
          },
          "metadata": {}
        },
        {
          "output_type": "stream",
          "name": "stdout",
          "text": [
            "Player 1:\n",
            "15\n",
            "31\n",
            "26\n",
            "4\n",
            "36\n",
            "30\n",
            "43\n",
            " ...\n",
            "37\n",
            "5\n",
            "1\n",
            "27\n"
          ]
        },
        {
          "output_type": "display_data",
          "data": {
            "text/markdown": "The stored answers are: `{1: '32199', 2: '33780'}`",
            "text/plain": [
              "<IPython.core.display.Markdown object>"
            ]
          },
          "metadata": {}
        }
      ]
    },
    {
      "cell_type": "code",
      "metadata": {
        "id": "YQE7j-bd-d4k"
      },
      "source": [
        "s1 = \"\"\"\n",
        "Player 1:\n",
        "9\n",
        "2\n",
        "6\n",
        "3\n",
        "1\n",
        "\n",
        "Player 2:\n",
        "5\n",
        "8\n",
        "4\n",
        "7\n",
        "10\n",
        "\"\"\""
      ],
      "execution_count": 106,
      "outputs": []
    },
    {
      "cell_type": "code",
      "metadata": {
        "colab": {
          "base_uri": "https://localhost:8080/"
        },
        "id": "kWKveQ-OBmqD",
        "outputId": "94d54aa9-5a9f-48f7-a5ad-8b5ba39251b6"
      },
      "source": [
        "def process1(s):\n",
        "  hands = [collections.deque(map(int, s2.splitlines()[1:]))\n",
        "           for s2 in s.strip('\\n').split('\\n\\n')]\n",
        "\n",
        "  while hands[0] and hands[1]:\n",
        "    cards = hands[0].popleft(), hands[1].popleft()\n",
        "    winner = 0 if cards[0] > cards[1] else 1\n",
        "    hands[winner].extend([cards[winner], cards[1 - winner]])\n",
        "\n",
        "  return sum((i + 1) * card for i, card in enumerate(reversed(hands[winner])))\n",
        "\n",
        "\n",
        "check_eq(process1(s1), 306)\n",
        "puzzle.verify(1, process1)"
      ],
      "execution_count": 107,
      "outputs": [
        {
          "output_type": "stream",
          "name": "stdout",
          "text": [
            "(Part 1: 0.000 s)\n"
          ]
        }
      ]
    },
    {
      "cell_type": "markdown",
      "metadata": {
        "id": "jiPsX_E7lF4p"
      },
      "source": [
        "Part 2"
      ]
    },
    {
      "cell_type": "code",
      "metadata": {
        "id": "C6AZhL6-gkOq"
      },
      "source": [
        "def process2(s):  # Slower code using deque.\n",
        "\n",
        "  def combat(hands):  # Returns (hands, winner)\n",
        "    visited = set()\n",
        "    while hands[0] and hands[1]:\n",
        "      state = (*hands[0], -1, *hands[1])\n",
        "      if state in visited:\n",
        "        return hands, 0  # player 1 is winner\n",
        "      visited.add(state)\n",
        "      cards = hands[0].popleft(), hands[1].popleft()\n",
        "      if len(hands[0]) >= cards[0] and len(hands[1]) >= cards[1]:\n",
        "        _, winner = combat([collections.deque(list(hands[0])[:cards[0]]),\n",
        "                            collections.deque(list(hands[1])[:cards[1]])])\n",
        "      else:\n",
        "        winner = 0 if cards[0] > cards[1] else 1\n",
        "      hands[winner].extend([cards[winner], cards[1 - winner]])\n",
        "\n",
        "    return hands, 0 if hands[0] else 1\n",
        "\n",
        "  hands = [collections.deque(map(int, s2.splitlines()[1:]))\n",
        "           for s2 in s.strip('\\n').split('\\n\\n')]\n",
        "  hands, winner = combat(hands)\n",
        "  return sum((i + 1) * card for i, card in enumerate(reversed(hands[winner])))\n",
        "\n",
        "\n",
        "check_eq(process2(s1), 291)"
      ],
      "execution_count": 108,
      "outputs": []
    },
    {
      "cell_type": "code",
      "metadata": {
        "colab": {
          "base_uri": "https://localhost:8080/"
        },
        "id": "I15rkdkHxQQU",
        "outputId": "4e37f05e-1c0f-48da-9b7e-d2e40fef090e"
      },
      "source": [
        "def process2(s):  # Faster code using tuples.\n",
        "\n",
        "  def combat(hand0, hand1):\n",
        "    visited = set()\n",
        "    while True:\n",
        "      state = (hand0, hand1)\n",
        "      if state in visited:\n",
        "        return (0,), ()  # player 1 is winner\n",
        "      visited.add(state)\n",
        "      card0 = hand0[0]\n",
        "      card1 = hand1[0]\n",
        "      recurse = len(hand0) > card0 and len(hand1) > card1\n",
        "      if (combat(hand0[1:card0 + 1], hand1[1:card1 + 1])[0] if recurse\n",
        "          else card0 > card1):\n",
        "        hand0, hand1 = hand0[1:] + (card0, card1), hand1[1:]\n",
        "        if not hand1:\n",
        "          break\n",
        "      else:\n",
        "        hand0, hand1 = hand0[1:], hand1[1:] + (card1, card0)\n",
        "        if not hand0:\n",
        "          break\n",
        "    return hand0, hand1\n",
        "\n",
        "  hand0, hand1 = (tuple(map(int, s2.splitlines()[1:]))\n",
        "                  for s2 in s.strip('\\n').split('\\n\\n'))\n",
        "  hand0, hand1 = combat(hand0, hand1)\n",
        "  return sum((i + 1) * card for i, card in enumerate(reversed(hand0 + hand1)))\n",
        "\n",
        "\n",
        "check_eq(process2(s1), 291)\n",
        "puzzle.verify(2, process2)"
      ],
      "execution_count": 109,
      "outputs": [
        {
          "output_type": "stream",
          "name": "stdout",
          "text": [
            "(Part 2: 1.360 s)\n"
          ]
        }
      ]
    },
    {
      "cell_type": "code",
      "metadata": {
        "id": "AmQbDLMIzhMP"
      },
      "source": [
        "# %timeit -r8 process2(puzzle.input)"
      ],
      "execution_count": 110,
      "outputs": []
    },
    {
      "cell_type": "code",
      "metadata": {
        "id": "qoOEguT9lM7z"
      },
      "source": [
        "# Also tried:\n",
        "# - Created version which caches outcomes of states.  It is 1.7x slower,\n",
        "#    likely because there are too many possible states.\n",
        "# - Used separate recurse() function returning winner and no hands; no change."
      ],
      "execution_count": 111,
      "outputs": []
    },
    {
      "cell_type": "code",
      "metadata": {
        "id": "RDMgtolMz1gV"
      },
      "source": [
        "# %prun process2(puzzle.input)  # No obvious opportunity for optimization."
      ],
      "execution_count": 112,
      "outputs": []
    },
    {
      "cell_type": "markdown",
      "metadata": {
        "id": "v1c-K7fo-d_W"
      },
      "source": [
        "<a name=\"day23\"></a>\n",
        "## Day 23: Cups in a circle"
      ]
    },
    {
      "cell_type": "markdown",
      "metadata": {
        "id": "Km0mMKB9lZZp"
      },
      "source": [
        "Given a circular list of cups (labeled 1-9), apply a sequence of moves.\n",
        "For each move, extract the 3 cups to the right of the current cup (initially first in the input), and reinsert the 3 cups to the right of the cup whose label has value 1 less than the current cup.  Advance the current cup to the right.\n",
        "\n",
        "When finding the cup whose label has value 1 less than the current cup, skip over any that are in the 3 extracted cups, and when reaching value 0, wraparound back to the highest value.\n",
        "\n",
        "- Part 1: Report the cup labels (as a string of 8 digits) to the right of cup 1 after 100 moves.\n",
        "\n",
        "- Part 2: Extend the input circular list to contain a total of 1_000_000 cups, labeled 10 .. 1_000_000.  After 10_000_000 moves, determine the two cups to the right of cup 1, and report the product of their labels."
      ]
    },
    {
      "cell_type": "code",
      "metadata": {
        "id": "73qp7KN--d_W",
        "colab": {
          "base_uri": "https://localhost:8080/",
          "height": 93
        },
        "outputId": "62484bd4-dde7-4866-8201-1ff3fdbcbfb4"
      },
      "source": [
        "puzzle = advent.puzzle(day=23)"
      ],
      "execution_count": 113,
      "outputs": [
        {
          "output_type": "display_data",
          "data": {
            "text/markdown": "For [day 23](https://adventofcode.com/2020/day/23), `puzzle.input` has 1 lines:",
            "text/plain": [
              "<IPython.core.display.Markdown object>"
            ]
          },
          "metadata": {}
        },
        {
          "output_type": "stream",
          "name": "stdout",
          "text": [
            "872495136\n"
          ]
        },
        {
          "output_type": "display_data",
          "data": {
            "text/markdown": "The stored answers are: `{1: '27865934', 2: '170836011000'}`",
            "text/plain": [
              "<IPython.core.display.Markdown object>"
            ]
          },
          "metadata": {}
        }
      ]
    },
    {
      "cell_type": "code",
      "metadata": {
        "id": "PrJVbU0yjTaD"
      },
      "source": [
        "s1 = '389125467'"
      ],
      "execution_count": 114,
      "outputs": []
    },
    {
      "cell_type": "code",
      "metadata": {
        "id": "jW00lGN77__3"
      },
      "source": [
        "def process1(s, num_moves=100):  # Using list.\n",
        "  l = list(map(int, s.strip()))\n",
        "\n",
        "  for _ in range(num_moves):\n",
        "    (current, *extracted3) = l[:4]\n",
        "    destination = current - 1 if current > 1 else len(l)\n",
        "    while destination in extracted3:\n",
        "      destination = destination - 1 if destination > 1 else len(l)\n",
        "    dest = l.index(destination)  # bottleneck in part 2!\n",
        "    l = l[4:dest + 1] + extracted3 + l[dest + 1:] + [current]\n",
        "\n",
        "  i = l.index(1)\n",
        "  l = l[i + 1:] + l[:i]\n",
        "  return ''.join(map(str, l))\n",
        "\n",
        "\n",
        "check_eq(process1(s1, num_moves=10), '92658374')\n",
        "check_eq(process1(s1), '67384529')"
      ],
      "execution_count": 115,
      "outputs": []
    },
    {
      "cell_type": "code",
      "metadata": {
        "id": "k0evlBlPHe1H"
      },
      "source": [
        "def process1(s, num_moves=100):  # Using deque.\n",
        "  d = collections.deque(map(int, s.strip()))\n",
        "  n = len(d)\n",
        "\n",
        "  for _ in range(num_moves):\n",
        "    current = next(iter(d))\n",
        "    d.rotate(-1)  # move current to the end\n",
        "    extracted3 = d.popleft(), d.popleft(), d.popleft()\n",
        "    destination = current - 1 if current > 1 else n\n",
        "    while destination in extracted3:\n",
        "      destination = destination - 1 if destination > 1 else n\n",
        "    dest = d.index(destination)  # bottleneck in part 2!\n",
        "    d.rotate(-dest - 1)  # move destination to end\n",
        "    d.extendleft(reversed(extracted3))\n",
        "    d.rotate(dest + 1)  # move new current back to front\n",
        "\n",
        "  d.rotate(-d.index(1))  # move '1' to front\n",
        "  d.popleft()  # remove '1'\n",
        "  return ''.join(map(str, d))\n",
        "\n",
        "\n",
        "check_eq(process1(s1, num_moves=10), '92658374')\n",
        "check_eq(process1(s1), '67384529')"
      ],
      "execution_count": 116,
      "outputs": []
    },
    {
      "cell_type": "code",
      "metadata": {
        "colab": {
          "base_uri": "https://localhost:8080/"
        },
        "id": "0dy73YTm8Gpl",
        "outputId": "bdedbe7f-f2cd-4667-9a27-18652f1432c4"
      },
      "source": [
        "# Code keeping track of next cup label for each cup label:\n",
        "def process1(s, max_num=0, num_moves=100):\n",
        "  dtype = np.int32 if using_numba else np.int64\n",
        "  l = np.array(list(map(int, s.strip())), dtype)\n",
        "  next_cup = np.empty(1 + max(len(l), max_num), dtype=l.dtype)\n",
        "\n",
        "  @numba_njit(cache=True)  # 0.25 s to jit on first invocation\n",
        "  def func(l, max_num, num_moves, next_cup):\n",
        "    n = len(next_cup) - 1\n",
        "    current = l[0]\n",
        "    for i in range(len(l) - 1):\n",
        "      next_cup[l[i]] = l[i + 1]\n",
        "    if max_num:\n",
        "      next_cup[l[-1]] = len(l) + 1\n",
        "      for i in range(len(l) + 1, max_num):\n",
        "        next_cup[i] = i + 1\n",
        "      next_cup[max_num] = l[0]\n",
        "    else:\n",
        "      next_cup[l[-1]] = l[0]\n",
        "\n",
        "    for _ in range(num_moves):\n",
        "      extracted1 = next_cup[current]\n",
        "      extracted2 = next_cup[extracted1]\n",
        "      extracted3 = next_cup[extracted2]\n",
        "      destination = current - 1 if current > 1 else n\n",
        "      while destination in (extracted1, extracted2, extracted3):\n",
        "        destination = destination - 1 if destination > 1 else n\n",
        "      next_cup[current] = next_cup[extracted3]\n",
        "      next_cup[extracted3] = next_cup[destination]\n",
        "      next_cup[destination] = extracted1\n",
        "      current = next_cup[current]\n",
        "\n",
        "    return current\n",
        "\n",
        "  current = func(l, max_num, num_moves, next_cup)\n",
        "  if max_num:\n",
        "    cup1 = next_cup[1]\n",
        "    cup2 = next_cup[cup1]\n",
        "    return int(cup1) * int(cup2)\n",
        "  else:\n",
        "    l = [next_cup[1]]\n",
        "    while next_cup[l[-1]] != 1:\n",
        "      l.append(next_cup[l[-1]])\n",
        "    return ''.join(map(str, l))\n",
        "\n",
        "\n",
        "check_eq(process1(s1, num_moves=10), '92658374')\n",
        "check_eq(process1(s1), '67384529')\n",
        "puzzle.verify(1, process1)\n",
        "# ~20 s without numba; ~0.5 s with numba\n",
        "\n",
        "process2 = functools.partial(process1, num_moves=10_000_000, max_num=1_000_000)\n",
        "if using_numba:\n",
        "  check_eq(process2(s1), 149245887792)\n",
        "puzzle.verify(2, process2)"
      ],
      "execution_count": 117,
      "outputs": [
        {
          "output_type": "stream",
          "name": "stdout",
          "text": [
            "(Part 1: 0.006 s)\n",
            "(Part 2: 0.661 s)\n"
          ]
        }
      ]
    },
    {
      "cell_type": "code",
      "metadata": {
        "id": "O5aNrZPQu32d"
      },
      "source": [
        "# %timeit -r8 process2(puzzle.input)"
      ],
      "execution_count": 118,
      "outputs": []
    },
    {
      "cell_type": "code",
      "metadata": {
        "id": "NhlhIih7MVN1"
      },
      "source": [
        "# %prun process2(puzzle.input)  # crashes runtime, likely due to numba function"
      ],
      "execution_count": 119,
      "outputs": []
    },
    {
      "cell_type": "markdown",
      "metadata": {
        "id": "NlVyEkIf-eGr"
      },
      "source": [
        "<a name=\"day24\"></a>\n",
        "## Day 24: Hexagonal tiles"
      ]
    },
    {
      "cell_type": "markdown",
      "metadata": {
        "id": "w7qtnTLjnusg"
      },
      "source": [
        "For each input line, travel over a hexagonal grid using the substrings `e`, `w`, `ne`, `nw`, `se`, and `sw`, and flip the state of the reached grid cell.  (Initially all grid cells are inactive.)\n",
        "\n",
        "- Part 1: Report the number of active cells in the resulting hexagonal grid.\n",
        "\n",
        "- Part 2: Simulate a cellular automaton over the grid from part 1, where an inactive cell becomes active if it has exactly 2 active neighbors,\n",
        "and an active cell becomes inactive if it has 0 or more than 2 active neighbors.  Report the number of active cells after 100 steps."
      ]
    },
    {
      "cell_type": "code",
      "metadata": {
        "id": "HiLNcW3J-eGr",
        "colab": {
          "base_uri": "https://localhost:8080/",
          "height": 302
        },
        "outputId": "741542ad-ae4f-4a49-a0d0-4c3aa0049c0f"
      },
      "source": [
        "puzzle = advent.puzzle(day=24)"
      ],
      "execution_count": 120,
      "outputs": [
        {
          "output_type": "display_data",
          "data": {
            "text/markdown": "For [day 24](https://adventofcode.com/2020/day/24), `puzzle.input` has 347 lines:",
            "text/plain": [
              "<IPython.core.display.Markdown object>"
            ]
          },
          "metadata": {}
        },
        {
          "output_type": "stream",
          "name": "stdout",
          "text": [
            "enwwsenweswweseseswnenewwswseswenw\n",
            "nwnwneswwnenwnwnwenenwwnesenenwsenenee\n",
            "eneswwenwneeswneenenw\n",
            "swwswswwwswswsweeswww\n",
            "swewnwneeewnewwwswwnwwswswnwww\n",
            "seswnwenesenwsenenwwenwsenwswnwseswnw\n",
            "nwswwenwwwswwnwnewswnwnwwwswnee\n",
            "seswseswseseseseeseseseswnwsesw\n",
            " ...\n",
            "nwnwnwnwnewnwwwnwnwnenenwsenwsesenwnww\n",
            "nwwswneseseswsenweswswswneswwswwswswsw\n",
            "neenwsenenenenenenwswswnenenwsenenene\n",
            "newnwnwnwnwwnweswwewsewenwwnwnwnwnw\n"
          ]
        },
        {
          "output_type": "display_data",
          "data": {
            "text/markdown": "The stored answers are: `{1: '287', 2: '3636'}`",
            "text/plain": [
              "<IPython.core.display.Markdown object>"
            ]
          },
          "metadata": {}
        }
      ]
    },
    {
      "cell_type": "code",
      "metadata": {
        "id": "r4D9R2ZgjUJb",
        "colab": {
          "base_uri": "https://localhost:8080/"
        },
        "cellView": "form",
        "outputId": "177bcddd-8941-4d5e-f057-a934ae1a01a2"
      },
      "source": [
        "#@title\n",
        "print('Let s1 be a test input.')\n",
        "\n",
        "s1 = \"\"\"\n",
        "sesenwnenenewseeswwswswwnenewsewsw\n",
        "neeenesenwnwwswnenewnwwsewnenwseswesw\n",
        "seswneswswsenwwnwse\n",
        "nwnwneseeswswnenewneswwnewseswneseene\n",
        "swweswneswnenwsewnwneneseenw\n",
        "eesenwseswswnenwswnwnwsewwnwsene\n",
        "sewnenenenesenwsewnenwwwse\n",
        "wenwwweseeeweswwwnwwe\n",
        "wsweesenenewnwwnwsenewsenwwsesesenwne\n",
        "neeswseenwwswnwswswnw\n",
        "nenwswwsewswnenenewsenwsenwnesesenew\n",
        "enewnwewneswsewnwswenweswnenwsenwsw\n",
        "sweneswneswneneenwnewenewwneswswnese\n",
        "swwesenesewenwneswnwwneseswwne\n",
        "enesenwswwswneneswsenwnewswseenwsese\n",
        "wnwnesenesenenwwnenwsewesewsesesew\n",
        "nenewswnwewswnenesenwnesewesw\n",
        "eneswnwswnwsenenwnwnwwseeswneewsenese\n",
        "neswnwewnwnwseenwseesewsenwsweewe\n",
        "wseweeenwnesenwwwswnew\n",
        "\"\"\""
      ],
      "execution_count": 121,
      "outputs": [
        {
          "output_type": "stream",
          "name": "stdout",
          "text": [
            "Let s1 be a test input.\n"
          ]
        }
      ]
    },
    {
      "cell_type": "code",
      "metadata": {
        "colab": {
          "base_uri": "https://localhost:8080/",
          "height": 186
        },
        "id": "souWY59gMp_u",
        "outputId": "a03bc7d5-8d66-40c3-dd29-89f2dd43ba33"
      },
      "source": [
        "def process1(s, part2=False, num_days=100, visualize=False):\n",
        "  if not part2:\n",
        "    num_days = 0\n",
        "  offsets = dict(e=(0, 1), w=(0, -1), sw=(1, 0), se=(1, 1),\n",
        "                 nw=(-1, -1), ne=(-1, 0))\n",
        "  tuple_offsets = tuple(offsets.values())  # slightly faster\n",
        "  pattern = re.compile('|'.join(offsets))\n",
        "  indices = set()\n",
        "  for line in s.strip('\\n').splitlines():\n",
        "    y, x = 0, 0\n",
        "    for s2 in pattern.findall(line):\n",
        "      offset = offsets[s2]\n",
        "      y, x = y + offset[0], x + offset[1]\n",
        "    indices ^= {(y, x)}\n",
        "  indices_3d = []\n",
        "\n",
        "  for day in range(num_days):\n",
        "    if visualize:\n",
        "      indices_3d.extend((day, y, x) for y, x in indices)\n",
        "    neighbor_counts = collections.Counter(\n",
        "        (y + dy, x + dx) for y, x in indices for dy, dx in tuple_offsets)\n",
        "    indices = {index for index, count in neighbor_counts.items()\n",
        "               if count == 2 or (count == 1 and index in indices)}\n",
        "\n",
        "  if visualize and media.video_is_available():\n",
        "    grid = grid_from_indices(indices_3d, dtype=np.bool)\n",
        "    media.show_video(grid[::2], codec='gif', fps=10)\n",
        "  return len(indices)\n",
        "\n",
        "\n",
        "check_eq(process1(s1), 10)\n",
        "puzzle.verify(1, process1)\n",
        "\n",
        "process2 = functools.partial(process1, part2=True)\n",
        "check_eq(process2(s1, num_days=10), 37)\n",
        "check_eq(process2(s1), 2208)\n",
        "puzzle.verify(2, process2)\n",
        "_ = process2(puzzle.input, visualize=True)"
      ],
      "execution_count": 122,
      "outputs": [
        {
          "output_type": "stream",
          "name": "stdout",
          "text": [
            "(Part 1: 0.004 s)\n",
            "(Part 2: 0.527 s)\n"
          ]
        },
        {
          "output_type": "display_data",
          "data": {
            "text/html": [
              "<table class=\"show_videos\" style=\"border-spacing:0px;\"><tr><td style=\"padding:1px;\"><img width=\"123\" height=\"128\" style=\"image-rendering:pixelated; object-fit:cover;\" src=\"data:image/gif;base64,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\"/></td></tr></table>"
            ],
            "text/plain": [
              "<IPython.core.display.HTML object>"
            ]
          },
          "metadata": {}
        }
      ]
    },
    {
      "cell_type": "markdown",
      "metadata": {
        "id": "5DCFvNdh-eMi"
      },
      "source": [
        "<a name=\"day25\"></a>\n",
        "## Day 25: Public-key encryption"
      ]
    },
    {
      "cell_type": "markdown",
      "metadata": {
        "id": "NkqUQfX8qAyI"
      },
      "source": [
        "Given a card public key and a door public key, find the (private) card loop size and door loop size that were used to generate these public keys.  Then, find the common encryption key that the card and door use to communicate.\n",
        "\n",
        "- Part 1: Report the encryption key.\n",
        "\n",
        "- Part 2: There is no part 2 for this last day of the Advent."
      ]
    },
    {
      "cell_type": "code",
      "metadata": {
        "id": "A7PjF-ox-eMi",
        "colab": {
          "base_uri": "https://localhost:8080/",
          "height": 110
        },
        "outputId": "aab7cee0-6a1f-4f0d-fff5-7c9616156103"
      },
      "source": [
        "puzzle = advent.puzzle(day=25)"
      ],
      "execution_count": 123,
      "outputs": [
        {
          "output_type": "display_data",
          "data": {
            "text/markdown": "For [day 25](https://adventofcode.com/2020/day/25), `puzzle.input` has 2 lines:",
            "text/plain": [
              "<IPython.core.display.Markdown object>"
            ]
          },
          "metadata": {}
        },
        {
          "output_type": "stream",
          "name": "stdout",
          "text": [
            "10212254\n",
            "12577395\n"
          ]
        },
        {
          "output_type": "display_data",
          "data": {
            "text/markdown": "The stored answers are: `{1: '290487', 2: ''}`",
            "text/plain": [
              "<IPython.core.display.Markdown object>"
            ]
          },
          "metadata": {}
        }
      ]
    },
    {
      "cell_type": "code",
      "metadata": {
        "id": "bKWiR9xadArt"
      },
      "source": [
        "s1 = \"\"\"\n",
        "5764801\n",
        "17807724\n",
        "\"\"\""
      ],
      "execution_count": 124,
      "outputs": []
    },
    {
      "cell_type": "code",
      "metadata": {
        "id": "CrHqH34gC9wB"
      },
      "source": [
        "def process1(s, base=7, mod=20201227):  # Slow.\n",
        "  card_public_key, door_public_key = map(int, s.strip('\\n').splitlines())\n",
        "\n",
        "  # Slow trial-multiplication; https://en.wikipedia.org/wiki/Discrete_logarithm\n",
        "  def untransform(base, value):\n",
        "    x = 1\n",
        "    loop_size = 0\n",
        "    while x != value:\n",
        "      loop_size += 1\n",
        "      x = (x * base) % mod\n",
        "    return loop_size\n",
        "\n",
        "  # Slow O(n) version.\n",
        "  def transform(value, loop_size):\n",
        "    x = 1\n",
        "    for _ in range(loop_size):\n",
        "      x = (x * value) % mod\n",
        "    return x\n",
        "\n",
        "  card_loop_size = untransform(base, card_public_key)\n",
        "  door_loop_size = untransform(base, door_public_key)\n",
        "  assert transform(base, card_loop_size) == card_public_key\n",
        "  assert transform(base, door_loop_size) == door_public_key\n",
        "\n",
        "  encryption_key1 = transform(door_public_key, card_loop_size)\n",
        "  encryption_key2 = transform(card_public_key, door_loop_size)\n",
        "  assert encryption_key1 == encryption_key2\n",
        "  return encryption_key1\n",
        "\n",
        "\n",
        "check_eq(process1(s1), 14897079)"
      ],
      "execution_count": 125,
      "outputs": []
    },
    {
      "cell_type": "code",
      "metadata": {
        "colab": {
          "base_uri": "https://localhost:8080/"
        },
        "id": "grEocEpxDCSO",
        "outputId": "cc17b960-9fc4-4668-ceb1-e5a62da84975"
      },
      "source": [
        "def process1(s, base=7, mod=20201227):  # Fast.\n",
        "\n",
        "  def pow_mod(base: int, exponent: int, mod: int) -> int:\n",
        "    \"\"\"Returns 'base**exponent % mod' using square-multiply algorithm.\"\"\"\n",
        "    x = 1\n",
        "    while exponent > 0:\n",
        "      if exponent % 2 == 1:\n",
        "        x = (x * base) % mod\n",
        "      base = (base * base) % mod\n",
        "      exponent //= 2\n",
        "    return x\n",
        "\n",
        "  def log_mod(base: int, value: int, mod: int) -> Optional[int]:\n",
        "    \"\"\"Returns exponent for 'base**exponent % mod == value'.\"\"\"\n",
        "    # Using https://en.wikipedia.org/wiki/Baby-step_giant-step\n",
        "    m = int(math.ceil(math.sqrt(mod)))\n",
        "    table = {}\n",
        "    e = 1\n",
        "    for i in range(m):\n",
        "      table[e] = i\n",
        "      e = (e * base) % mod\n",
        "    factor = pow_mod(base, mod - m - 1, mod)\n",
        "    e = value\n",
        "    for i in range(m):\n",
        "      if e in table:\n",
        "        return i * m + table[e]\n",
        "      e = (e * factor) % mod\n",
        "    return None\n",
        "\n",
        "  card_public_key, door_public_key = map(int, s.strip('\\n').splitlines())\n",
        "  card_loop_size = log_mod(base, card_public_key, mod)\n",
        "  return pow_mod(door_public_key, card_loop_size, mod)\n",
        "\n",
        "\n",
        "check_eq(process1(s1), 14897079)\n",
        "puzzle.verify(1, process1)"
      ],
      "execution_count": 126,
      "outputs": [
        {
          "output_type": "stream",
          "name": "stdout",
          "text": [
            "(Part 1: 0.001 s)\n"
          ]
        }
      ]
    },
    {
      "cell_type": "markdown",
      "metadata": {
        "id": "9zdRajWRpyhN"
      },
      "source": [
        "Part 2"
      ]
    },
    {
      "cell_type": "code",
      "metadata": {
        "colab": {
          "base_uri": "https://localhost:8080/"
        },
        "id": "PuP7tmdj3-W6",
        "outputId": "8d0a2c7a-069f-4666-959a-f668567de4e8"
      },
      "source": [
        "puzzle.verify(2, lambda s: '')  # (No \"Part 2\" on last day.)\n",
        "# (aocd does not allow a blank answer; the answer is not submitted)"
      ],
      "execution_count": 127,
      "outputs": [
        {
          "output_type": "stream",
          "name": "stdout",
          "text": [
            "(Part 2: 0.000 s)\n"
          ]
        }
      ]
    },
    {
      "cell_type": "markdown",
      "metadata": {
        "id": "If8mZUwzx1Id"
      },
      "source": [
        "<a name=\"timings\"></a>\n",
        "## Timings"
      ]
    },
    {
      "cell_type": "code",
      "metadata": {
        "colab": {
          "base_uri": "https://localhost:8080/"
        },
        "id": "aTzBo92e5pb3",
        "outputId": "ca9e2f3a-a910-47d2-ab8f-3c7d7470809c"
      },
      "source": [
        "advent.show_times()"
      ],
      "execution_count": 128,
      "outputs": [
        {
          "output_type": "stream",
          "name": "stdout",
          "text": [
            "day_1    part_1: 0.000   part_2: 0.002\n",
            "day_2    part_1: 0.006   part_2: 0.002\n",
            "day_3    part_1: 0.001   part_2: 0.002\n",
            "day_4    part_1: 0.004   part_2: 0.011\n",
            "day_5    part_1: 0.002   part_2: 0.001\n",
            "day_6    part_1: 0.001   part_2: 0.004\n",
            "day_7    part_1: 0.004   part_2: 0.003\n",
            "day_8    part_1: 0.001   part_2: 0.016\n",
            "day_9    part_1: 0.002   part_2: 0.007\n",
            "day_10   part_1: 0.000   part_2: 0.000\n",
            "day_11   part_1: 0.034   part_2: 0.060\n",
            "day_12   part_1: 0.001   part_2: 0.001\n",
            "day_13   part_1: 0.000   part_2: 0.000\n",
            "day_14   part_1: 0.003   part_2: 0.028\n",
            "day_15   part_1: 0.005   part_2: 1.057\n",
            "day_16   part_1: 0.006   part_2: 0.050\n",
            "day_17   part_1: 0.008   part_2: 0.208\n",
            "day_18   part_1: 0.005   part_2: 0.007\n",
            "day_19   part_1: 0.082   part_2: 0.384\n",
            "day_20   part_1: 0.012   part_2: 0.034\n",
            "day_21   part_1: 0.001   part_2: 0.001\n",
            "day_22   part_1: 0.000   part_2: 1.360\n",
            "day_23   part_1: 0.006   part_2: 0.661\n",
            "day_24   part_1: 0.004   part_2: 0.527\n",
            "day_25   part_1: 0.001   part_2: 0.000\n",
            "Total time:  4.614 s\n"
          ]
        }
      ]
    },
    {
      "cell_type": "code",
      "metadata": {
        "id": "LfJk7xbsojGW"
      },
      "source": [
        "if 0:  # Compute min execution times over several calls.\n",
        "  advent.show_times(recompute=True, repeat=3)"
      ],
      "execution_count": 129,
      "outputs": []
    },
    {
      "cell_type": "code",
      "metadata": {
        "id": "SeeXbs0DojGW"
      },
      "source": [
        "if 0:  # Look for unwanted pollution of namespace.\n",
        "  print(textwrap.fill(' '.join(var for var, value in globals().items() if (\n",
        "      not var.startswith('_') and not repr(value).startswith(\n",
        "          ('<module', '<class', 'typing.', 'functools.partial('))))))"
      ],
      "execution_count": 130,
      "outputs": []
    },
    {
      "cell_type": "code",
      "metadata": {
        "id": "4TwDqJdtG0fy"
      },
      "source": [
        "if 0:  # Save puzzle inputs and answers to a ZIP file for downloading.\n",
        "  # Create a new zip file, quietly (-q) and ignoring relative paths (-j).\n",
        "  !zip -q -j - ~/.config/aocd/'{PROFILE.replace(\"_\", \" \")}'/*.txt >/content/data.zip"
      ],
      "execution_count": 131,
      "outputs": []
    },
    {
      "cell_type": "code",
      "metadata": {
        "id": "890NywEVsDj4"
      },
      "source": [
        "# Goals:\n",
        "# (1) Find puzzle answers.\n",
        "# (2) Clean up code.\n",
        "# (3) Speed up computation.\n",
        "# (4) Visualize intermediate results.\n",
        "# (5) Generalize to all puzzle inputs."
      ],
      "execution_count": 132,
      "outputs": []
    },
    {
      "cell_type": "markdown",
      "metadata": {
        "id": "GtTzv1y282IP"
      },
      "source": [
        "# End"
      ]
    }
  ]
}