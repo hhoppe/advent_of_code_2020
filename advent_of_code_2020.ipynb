{
  "nbformat": 4,
  "nbformat_minor": 0,
  "metadata": {
    "colab": {
      "name": "advent_of_code_2020.ipynb",
      "provenance": [],
      "collapsed_sections": [],
      "toc_visible": true,
      "include_colab_link": true
    },
    "kernelspec": {
      "name": "python3",
      "display_name": "Python 3"
    }
  },
  "cells": [
    {
      "cell_type": "markdown",
      "metadata": {
        "id": "view-in-github",
        "colab_type": "text"
      },
      "source": [
        "<a href=\"https://colab.research.google.com/github/hhoppe/advent_of_code_2020/blob/main/advent_of_code_2020.ipynb\" target=\"_parent\"><img src=\"https://colab.research.google.com/assets/colab-badge.svg\" alt=\"Open In Colab\"/></a>"
      ]
    },
    {
      "cell_type": "markdown",
      "metadata": {
        "id": "WXIjO0fEzNYw"
      },
      "source": [
        "<a name=\"top\"></a>\n",
        "# Advent of code 2020\n",
        "\n",
        "[[**Open the notebook in Colab**]](https://colab.research.google.com/github/hhoppe/advent_of_code_2020/blob/main/advent_of_code_2020.ipynb)\n",
        "\n",
        "IPython/Jupyter [notebook](https://github.com/hhoppe/advent_of_code_2020/blob/main/advent_of_code_2020.ipynb) by [Hugues Hoppe](http://hhoppe.com/); December 2020.\n",
        "\n",
        "I participated in the 25-day [Advent of Code](https://adventofcode.com/) for the first time this year, thanks to encouragement from colleagues, especially [Sascha Häberling](https://github.com/shaeberling).  It was great fun and provided a nice opportunity to learn more advanced Python.\n",
        "\n",
        "In the event, many people compete to solve the puzzles as quickly as possible --- see the impressive times on the [leaderboard](https://adventofcode.com/2020/leaderboard).\n",
        "My approach was much more casual, although I did aim to finish the puzzle each evening.\n",
        "\n",
        "Later, I went back to explore more **polished and efficient solutions**.\n",
        "Can the code be expressed more succinctly?\n",
        "What is the fastest algorithm given the constraints of interpreted Python?\n",
        "Along the way, I discovered the [`numba`](https://numba.pydata.org/) package which can JIT-compile bottleneck functions to native code;\n",
        "is it practical for these problems?  Yes, it can help greatly!\n",
        "\n",
        "This notebook is organized such that each day is self-contained and can be run on its own after the preamble.\n",
        "\n",
        "- The [**preamble**](#preamble) readies the inputs and answers for the puzzles.  No custom shortcut functions are introduced (other than `check_eq`) so the puzzle code solutions are easily recognizable.\n",
        "\n",
        "- For **each day**, the first notebook cell defines a `puzzle` object:\n",
        "\n",
        "  ```\n",
        "    puzzle = advent.puzzle(day=1)\n",
        "  ```\n",
        "  The puzzle input string is automatically read into the attribute `puzzle.input`.\n",
        "  This input string is unique to each Advent participant.\n",
        "  By default, the notebook uses [my input data](https://github.com/hhoppe/advent_of_code_2020/tree/main/data) stored on GitHub,\n",
        "  but the variable `INPUT_PATH_OR_URL_FORMAT` can refer to any URL or\n",
        "  local file.\n",
        "  Simlarly, the reference answer to each puzzle part is read using `ANSWER_PATH_OR_URL_FORMAT`.\n",
        "\n",
        "  Alternatively, we read each puzzle input and answers directly from adventofcode.com using a session cookie and the `advent-of-code-data` PyPI package.\n",
        "\n",
        "  For each of the two puzzle parts, a function (e.g. `process1`) takes an input string and returns a string or integer answer.\n",
        "  Using calls like the following, we time the execution of each function and verify the answers:\n",
        "  ```\n",
        "    puzzle.verify(part=1, func=process1)\n",
        "    puzzle.verify(part=2, func=process2)\n",
        "  ```\n",
        "\n",
        "- At the end of the notebook, a table summarizes [**timing**](#timings) results.\n",
        "\n",
        "Some **conclusions**:\n",
        "\n",
        "- A Jupyter/IPython notebook is a great environment for exploration.\n",
        "- The notebook conveniently bundles descriptions, notes, code, small test inputs, and results.\n",
        "- Initially I stored puzzle inputs within the notebook itself, but this introduces clutter and runs inefficiently.\n",
        "- The cloud-based CPU kernel/runtime provided by Colab works nicely.\n",
        "- With the [`numba`](https://numba.pydata.org/) library (for days [11](#day11), [15](#day15), and [23](#day23)), all of this year's puzzles can be solved in 1 second or less.\n",
        "- Remarkably, the total execution time across all 25 puzzles is about 4 s.\n",
        "\n",
        "Here are some visualization results:\n",
        "\n",
        "<a href=\"#day11\">day11</a><img src=\"https://github.com/hhoppe/advent_of_code_2020/raw/main/results/day11a.gif\" height=\"150\">\n",
        "<img src=\"https://github.com/hhoppe/advent_of_code_2020/raw/main/results/day11b.gif\" height=\"150\">\n",
        "<a href=\"#day20\">day20</a><img src=\"https://github.com/hhoppe/advent_of_code_2020/raw/main/results/day20a.png\" height=\"150\">\n",
        "<img src=\"https://github.com/hhoppe/advent_of_code_2020/raw/main/results/day20b.png\" height=\"150\">\n",
        "<a href=\"#day24\">day24</a><img src=\"https://github.com/hhoppe/advent_of_code_2020/raw/main/results/day24.gif\" height=\"150\">"
      ]
    },
    {
      "cell_type": "markdown",
      "metadata": {
        "id": "BDeORtzZKKfw"
      },
      "source": [
        "<a name=\"preamble\"></a>\n",
        "## Preamble"
      ]
    },
    {
      "cell_type": "code",
      "metadata": {
        "id": "5AZqiPj7nsDm"
      },
      "source": [
        "!pip install -q advent-of-code-hhoppe mediapy"
      ],
      "execution_count": 1,
      "outputs": []
    },
    {
      "cell_type": "code",
      "metadata": {
        "id": "0ICHbv69nsDn"
      },
      "source": [
        "import bisect\n",
        "import collections\n",
        "import dataclasses\n",
        "import functools\n",
        "import itertools\n",
        "import math\n",
        "import operator\n",
        "import pprint\n",
        "import re\n",
        "import textwrap\n",
        "from typing import Any, Callable, Dict, List\n",
        "from typing import Optional, Set, Tuple, Union\n",
        "\n",
        "import advent_of_code_hhoppe\n",
        "import mediapy as media\n",
        "import numpy as np"
      ],
      "execution_count": 2,
      "outputs": []
    },
    {
      "cell_type": "code",
      "metadata": {
        "id": "TlRF9vEFPOK8"
      },
      "source": [
        "YEAR = 2020"
      ],
      "execution_count": 3,
      "outputs": []
    },
    {
      "cell_type": "code",
      "metadata": {
        "id": "ipZkTdpHnsDn"
      },
      "source": [
        "# (1) To obtain puzzle inputs and answers, we first try these paths/URLs:\n",
        "PROFILE = 'google.Hugues_Hoppe.965276'\n",
        "# PROFILE = 'github.hhoppe.1452460'\n",
        "ZIP_URL = f'https://github.com/hhoppe/advent_of_code_{YEAR}/raw/main/data/{PROFILE}.zip'\n",
        "!if [[ ! -d {PROFILE} ]]; then wget -q {ZIP_URL} && unzip -q {PROFILE}; fi\n",
        "INPUT_URL = f'{PROFILE}/{{year}}_{{day:02d}}_input.txt'\n",
        "ANSWER_URL = f'{PROFILE}/{{year}}_{{day:02d}}{{part_letter}}_answer.txt'"
      ],
      "execution_count": 4,
      "outputs": []
    },
    {
      "cell_type": "code",
      "metadata": {
        "id": "PaaZaNmtnsDn"
      },
      "source": [
        "# (2) If URL not found, we may try adventofcode.com using a session cookie:\n",
        "if 0:\n",
        "  # See https://github.com/wimglenn/advent-of-code-data.\n",
        "  !rm -f ~/.config/aocd/token*\n",
        "  # Fill-in the session cookie in the following:\n",
        "  !if [ '{PROFILE}' == 'google.Hugues_Hoppe.965276' ]; then mkdir -p ~/.config/aocd && echo 53616... >~/.config/aocd/token; fi\n",
        "  !if [ '{PROFILE}' == 'github.hhoppe.1452460' ]; then mkdir -p ~/.config/aocd; echo 53616... >~/.config/aocd/token; fi\n",
        "  !pip install -q advent-of-code-data\n",
        "  import aocd"
      ],
      "execution_count": 5,
      "outputs": []
    },
    {
      "cell_type": "code",
      "metadata": {
        "id": "JZvZB7aCnsDo"
      },
      "source": [
        "try:\n",
        "  import numba\n",
        "  numba_njit = numba.njit\n",
        "except ModuleNotFoundError:\n",
        "  print('numba unavailable')\n",
        "  def noop_decorator(*args: Any, **kwargs: Any) -> Any:\n",
        "    \"\"\"Function decorator that ignores any arguments and does nothing.\"\"\"\n",
        "    return (args[0] if len(args) == 1 and callable(args[0]) and not kwargs\n",
        "            else noop_decorator)\n",
        "  numba_njit = noop_decorator"
      ],
      "execution_count": 6,
      "outputs": []
    },
    {
      "cell_type": "code",
      "source": [
        "advent = advent_of_code_hhoppe.Advent(\n",
        "    year=YEAR, input_url=INPUT_URL, answer_url=ANSWER_URL)"
      ],
      "metadata": {
        "id": "pqmybFU47WOK"
      },
      "execution_count": 7,
      "outputs": []
    },
    {
      "cell_type": "markdown",
      "source": [
        "### Helper functions"
      ],
      "metadata": {
        "id": "ajhE2hfz6ovp"
      }
    },
    {
      "cell_type": "code",
      "metadata": {
        "id": "6M3KdXtHK9Tn"
      },
      "source": [
        "def check_eq(a: Any, b: Any) -> None:\n",
        "  if np.any(a != b):\n",
        "    raise AssertionError(f'{a!r} == {b!r}')"
      ],
      "execution_count": 8,
      "outputs": []
    },
    {
      "cell_type": "code",
      "source": [
        "def grid_from_string(s, int_from_ch=None, dtype=int):\n",
        "  grid = np.array([list(line) for line in s.strip('\\n').split('\\n')])\n",
        "  if int_from_ch:\n",
        "    lookup = np.zeros(256, dtype=dtype)\n",
        "    for ch, value in int_from_ch.items():\n",
        "      lookup[ord(ch)] = value\n",
        "    grid = lookup[grid.view(np.int32)]\n",
        "  return grid"
      ],
      "metadata": {
        "id": "2_53X8wA76U5"
      },
      "execution_count": 9,
      "outputs": []
    },
    {
      "cell_type": "code",
      "metadata": {
        "id": "z9mhwR3aVJdf"
      },
      "source": [
        "def grid_from_indices(indices, background=0, foreground=1, indices_min=None,\n",
        "                      indices_max=None, pad=0, dtype=None) -> np.ndarray:\n",
        "  indices = np.asarray(indices)\n",
        "  assert indices.ndim == 2 and np.issubdtype(indices.dtype, np.integer)\n",
        "\n",
        "  def get_min_or_max_bound(f, x) -> np.ndarray:\n",
        "    return f(indices, axis=0) if x is None else np.full(indices.shape[1], x)\n",
        "\n",
        "  i_min = get_min_or_max_bound(np.min, indices_min)\n",
        "  i_max = get_min_or_max_bound(np.max, indices_max)\n",
        "  a_pad = np.asarray(pad)\n",
        "  shape = i_max - i_min + 2 * a_pad + 1\n",
        "  offset = -i_min + a_pad\n",
        "  grid = np.full(shape, background, dtype=dtype)\n",
        "  indices += offset\n",
        "  grid[tuple(np.moveaxis(indices, -1, 0))] = foreground\n",
        "  return grid"
      ],
      "execution_count": 10,
      "outputs": []
    },
    {
      "cell_type": "markdown",
      "metadata": {
        "id": "BjAmIcq7zm2O"
      },
      "source": [
        "<a name=\"day1\"></a>\n",
        "## Day 1: Find summing numbers"
      ]
    },
    {
      "cell_type": "markdown",
      "metadata": {
        "id": "rqUsuqjsVE4g"
      },
      "source": [
        "- Part 1: Given a list of numbers, find two entries that sum to 2020 and multiply those entries together.\n",
        "\n",
        "- Part 2: Find three entries that sum to 2020 and multiply those entries together."
      ]
    },
    {
      "cell_type": "code",
      "metadata": {
        "id": "o-Ye0TCN-bUe",
        "colab": {
          "base_uri": "https://localhost:8080/",
          "height": 302
        },
        "outputId": "7852f637-35e4-43a4-dde3-886c05257737"
      },
      "source": [
        "puzzle = advent.puzzle(day=1)"
      ],
      "execution_count": 11,
      "outputs": [
        {
          "output_type": "display_data",
          "data": {
            "text/markdown": "For [day 1](https://adventofcode.com/2020/day/1), `puzzle.input` has 200 lines:",
            "text/plain": [
              "<IPython.core.display.Markdown object>"
            ]
          },
          "metadata": {}
        },
        {
          "output_type": "stream",
          "name": "stdout",
          "text": [
            "1686\n",
            "1983\n",
            "1801\n",
            "1890\n",
            "1910\n",
            "1722\n",
            "1571\n",
            "1952\n",
            " ...\n",
            "1261\n",
            "1154\n",
            "1769\n",
            "1529\n"
          ]
        },
        {
          "output_type": "display_data",
          "data": {
            "text/markdown": "The stored answers are: `{1: '651651', 2: '214486272'}`",
            "text/plain": [
              "<IPython.core.display.Markdown object>"
            ]
          },
          "metadata": {}
        }
      ]
    },
    {
      "cell_type": "code",
      "metadata": {
        "id": "S1D3RERUA72h"
      },
      "source": [
        "# A test input provided in the puzzle description:\n",
        "s1 = \"\"\"\n",
        "1721\n",
        "979\n",
        "366\n",
        "299\n",
        "675\n",
        "1456\n",
        "\"\"\""
      ],
      "execution_count": 12,
      "outputs": []
    },
    {
      "cell_type": "code",
      "metadata": {
        "colab": {
          "base_uri": "https://localhost:8080/"
        },
        "id": "eeU02C1oVPjW",
        "outputId": "635335fb-c3f4-4e97-ef9b-db35b5b5b4a2"
      },
      "source": [
        "def process1(s, total=2020):\n",
        "  entries = set(map(int, s.split()))\n",
        "  for a in entries:\n",
        "    b = total - a\n",
        "    if b in entries:\n",
        "      return a * b\n",
        "  return None\n",
        "\n",
        "\n",
        "check_eq(process1(s1), 514579)  # Reference answer provided in the description.\n",
        "puzzle.verify(1, process1)  # ~0 ms."
      ],
      "execution_count": 14,
      "outputs": [
        {
          "output_type": "stream",
          "name": "stdout",
          "text": [
            "(Part 1: 0.000 s)\n"
          ]
        }
      ]
    },
    {
      "cell_type": "code",
      "metadata": {
        "id": "2CNF3uj6_P7c",
        "colab": {
          "base_uri": "https://localhost:8080/"
        },
        "outputId": "25049b79-03a0-41ff-e930-61ba236fb9f2"
      },
      "source": [
        "def process2(s, total=2020):\n",
        "  entries = set(map(int, s.split()))\n",
        "  for a in entries:\n",
        "    for b in entries:\n",
        "      c = total - a - b\n",
        "      if c in entries:\n",
        "        return a * b * c\n",
        "  return None\n",
        "\n",
        "\n",
        "check_eq(process2(s1), 241861950)\n",
        "puzzle.verify(2, process2)  # ~1 ms."
      ],
      "execution_count": 22,
      "outputs": [
        {
          "output_type": "stream",
          "name": "stdout",
          "text": [
            "(Part 2: 0.002 s)\n"
          ]
        }
      ]
    },
    {
      "cell_type": "markdown",
      "metadata": {
        "id": "RoUuAFCFAOXZ"
      },
      "source": [
        "<a name=\"day2\"></a>\n",
        "## Day 2: Valid passwords"
      ]
    },
    {
      "cell_type": "markdown",
      "metadata": {
        "id": "4g5RVk2fVn19"
      },
      "source": [
        "Given input lines each containing a password rule (`i-j c`) and a password, count the number of \"valid\" passwords such that:\n",
        "\n",
        "- Part 1: The number of instances of character `c` in the password is in the range `[i, j]`.\n",
        "\n",
        "- Part 2: The password characters at positions `i` and `j` contain exactly one instance of character `c`."
      ]
    },
    {
      "cell_type": "code",
      "metadata": {
        "id": "AXoT9cob5y51",
        "colab": {
          "base_uri": "https://localhost:8080/",
          "height": 302
        },
        "outputId": "cb028956-f088-4ca6-900e-32e8ee7d8139"
      },
      "source": [
        "puzzle = advent.puzzle(day=2)"
      ],
      "execution_count": 23,
      "outputs": [
        {
          "output_type": "display_data",
          "data": {
            "text/markdown": "For [day 2](https://adventofcode.com/2020/day/2), `puzzle.input` has 1_000 lines:",
            "text/plain": [
              "<IPython.core.display.Markdown object>"
            ]
          },
          "metadata": {}
        },
        {
          "output_type": "stream",
          "name": "stdout",
          "text": [
            "4-7 z: zzzfzlzzz\n",
            "3-4 l: blllk\n",
            "8-11 j: jjjjjjjgjjjj\n",
            "6-7 l: lllhlbl\n",
            "10-13 x: xmhfsbjxptxxv\n",
            "2-3 s: ssvxszrvj\n",
            "4-6 r: rtrrrqv\n",
            "5-6 c: cbccxc\n",
            " ...\n",
            "9-10 w: wwwwwwbwwhww\n",
            "5-6 g: kgggjg\n",
            "4-8 s: ssssssscs\n",
            "12-20 t: ttttttltttvttttttttt\n"
          ]
        },
        {
          "output_type": "display_data",
          "data": {
            "text/markdown": "The stored answers are: `{1: '396', 2: '428'}`",
            "text/plain": [
              "<IPython.core.display.Markdown object>"
            ]
          },
          "metadata": {}
        }
      ]
    },
    {
      "cell_type": "code",
      "metadata": {
        "id": "PLqF8llY5ueK"
      },
      "source": [
        "s1 = \"\"\"\n",
        "1-3 a: abcde\n",
        "1-3 b: cdefg\n",
        "2-9 c: ccccccccc\n",
        "\"\"\""
      ],
      "execution_count": 24,
      "outputs": []
    },
    {
      "cell_type": "code",
      "metadata": {
        "colab": {
          "base_uri": "https://localhost:8080/"
        },
        "id": "WljooTaDXewx",
        "outputId": "def6fef8-804a-45d9-f82c-7f0491da31c2"
      },
      "source": [
        "def process1(s, part2=False):\n",
        "  lines = s.strip('\\n').splitlines()\n",
        "  num_valid = 0\n",
        "  pattern = re.compile(r'(\\d+)-(\\d+) (\\w): (\\w+)')\n",
        "  for line in lines:\n",
        "    vmin, vmax, ch, password = pattern.fullmatch(line).groups()\n",
        "    vmin, vmax = int(vmin), int(vmax)\n",
        "    if part2:\n",
        "      num_valid += (password[vmin - 1] == ch) ^ (password[vmax - 1] == ch)\n",
        "    else:\n",
        "      num_valid += vmin <= sum([c == ch for c in password]) <= vmax\n",
        "  return num_valid\n",
        "\n",
        "\n",
        "check_eq(process1(s1), 2)\n",
        "puzzle.verify(1, process1)  # ~3 ms.\n",
        "\n",
        "process2 = functools.partial(process1, part2=True)\n",
        "check_eq(process2(s1), 1)\n",
        "puzzle.verify(2, process2)  # ~1 ms."
      ],
      "execution_count": 35,
      "outputs": [
        {
          "output_type": "stream",
          "name": "stdout",
          "text": [
            "(Part 1: 0.003 s)\n",
            "(Part 2: 0.002 s)\n"
          ]
        }
      ]
    },
    {
      "cell_type": "markdown",
      "metadata": {
        "id": "vVXln2ontIH-"
      },
      "source": [
        "<a name=\"day3\"></a>\n",
        "## Day 3: Count intersections in grid"
      ]
    },
    {
      "cell_type": "markdown",
      "metadata": {
        "id": "-2-CRHJyXrMG"
      },
      "source": [
        "Given a 2D grid containing sparse \"trees\", determine the number of trees encountered when moving from the top-left to the bottom row with a slope `(dy, dx)` and using wraparound addressing on the horizontal axis.\n",
        "\n",
        "- Part 1: Count the trees for the slope `(dy, dx) = (1, 3)` \n",
        "\n",
        "- Part 2: Compute the product of the tree counts for slopes `(1, 1)`, `(1, 3)`, `(1, 5)`, `(1, 7)`, and `(2, 1)`."
      ]
    },
    {
      "cell_type": "code",
      "metadata": {
        "id": "fMDTiYgctJjI",
        "colab": {
          "base_uri": "https://localhost:8080/",
          "height": 302
        },
        "outputId": "d2f1e575-cb50-4fb5-b7b4-0b2c9605a582"
      },
      "source": [
        "puzzle = advent.puzzle(day=3)"
      ],
      "execution_count": 36,
      "outputs": [
        {
          "output_type": "display_data",
          "data": {
            "text/markdown": "For [day 3](https://adventofcode.com/2020/day/3), `puzzle.input` has 323 lines:",
            "text/plain": [
              "<IPython.core.display.Markdown object>"
            ]
          },
          "metadata": {}
        },
        {
          "output_type": "stream",
          "name": "stdout",
          "text": [
            "........#.............#........\n",
            "...#....#...#....#.............\n",
            ".#..#...#............#.....#..#\n",
            "..#......#..##............###..\n",
            "..........#......#..#..#.......\n",
            ".#..#.......#.........#.#......\n",
            ".........#..#....##..#.##....#.\n",
            "..#....##...#..................\n",
            " ...\n",
            "..................#...#....#.##\n",
            "......#.#....#.................\n",
            "......#.#.....#.....#..##......\n",
            "#..##...........#..#.....#.##..\n"
          ]
        },
        {
          "output_type": "display_data",
          "data": {
            "text/markdown": "The stored answers are: `{1: '148', 2: '727923200'}`",
            "text/plain": [
              "<IPython.core.display.Markdown object>"
            ]
          },
          "metadata": {}
        }
      ]
    },
    {
      "cell_type": "code",
      "metadata": {
        "id": "k8OD2FMiKrKI"
      },
      "source": [
        "s1 = \"\"\"\n",
        "..##.......\n",
        "#...#...#..\n",
        ".#....#..#.\n",
        "..#.#...#.#\n",
        ".#...##..#.\n",
        "..#.##.....\n",
        ".#.#.#....#\n",
        ".#........#\n",
        "#.##...#...\n",
        "#...##....#\n",
        ".#..#...#.#\n",
        "\"\"\""
      ],
      "execution_count": 37,
      "outputs": []
    },
    {
      "cell_type": "code",
      "metadata": {
        "colab": {
          "base_uri": "https://localhost:8080/"
        },
        "id": "MWBlwlbqlWde",
        "outputId": "6c80863f-fc1b-4efe-c3a4-3bc948a799f8"
      },
      "source": [
        "def process1(s, part2=False):  # Slower.\n",
        "  dyxs=((1, 1), (1, 3), (1, 5), (1, 7), (2, 1)) if part2 else ((1, 3),)\n",
        "  grid = np.array(list(map(list, s.strip('\\n').splitlines())))\n",
        "\n",
        "  def get_count(dy, dx):\n",
        "    y, x = (0, 0)\n",
        "    count = 0\n",
        "    while y < grid.shape[0]:\n",
        "      count += grid[y, x] == '#'\n",
        "      y, x = y + dy, (x + dx) % grid.shape[1]\n",
        "    return count\n",
        "\n",
        "  return np.prod([get_count(dy, dx) for dy, dx in dyxs])\n",
        "\n",
        "\n",
        "check_eq(process1(s1), 7)\n",
        "puzzle.verify(1, process1)  # ~1 ms.\n",
        "\n",
        "process2 = functools.partial(process1, part2=True)\n",
        "check_eq(process2(s1), 336)\n",
        "puzzle.verify(2, process2)  # ~3 ms."
      ],
      "execution_count": 56,
      "outputs": [
        {
          "output_type": "stream",
          "name": "stdout",
          "text": [
            "(Part 1: 0.002 s)\n",
            "(Part 2: 0.004 s)\n"
          ]
        }
      ]
    },
    {
      "cell_type": "code",
      "metadata": {
        "colab": {
          "base_uri": "https://localhost:8080/"
        },
        "id": "nWBVeWoklZ3a",
        "outputId": "87474618-ae16-47b2-a941-7f9b81be29bf"
      },
      "source": [
        "def process1(s, part2=False):  # Faster.\n",
        "  dyxs=((1, 1), (1, 3), (1, 5), (1, 7), (2, 1)) if part2 else ((1, 3),)\n",
        "  grid = grid_from_string(s)\n",
        "\n",
        "  def get_count(dy, dx):\n",
        "    y = np.arange(0, grid.shape[0], dy)\n",
        "    x = (np.arange(len(y)) * dx) % grid.shape[1]\n",
        "    return np.count_nonzero(grid[y, x] == '#')\n",
        "\n",
        "  return np.prod([get_count(dy, dx) for dy, dx in dyxs])\n",
        "\n",
        "\n",
        "check_eq(process1(s1), 7)\n",
        "puzzle.verify(1, process1)  # ~1 ms.\n",
        "\n",
        "process2 = functools.partial(process1, part2=True)\n",
        "check_eq(process2(s1), 336)\n",
        "puzzle.verify(2, process2)  # ~2 ms."
      ],
      "execution_count": 62,
      "outputs": [
        {
          "output_type": "stream",
          "name": "stdout",
          "text": [
            "(Part 1: 0.001 s)\n",
            "(Part 2: 0.002 s)\n"
          ]
        }
      ]
    },
    {
      "cell_type": "markdown",
      "metadata": {
        "id": "QUstwnV9OQ73"
      },
      "source": [
        "<a name=\"day4\"></a>\n",
        "## Day 4: Valid text fields"
      ]
    },
    {
      "cell_type": "markdown",
      "metadata": {
        "id": "2rusVWFOZiyd"
      },
      "source": [
        "Given records containing various fields, count the number of valid records.\n",
        "\n",
        "- Part 1: Each record is valid if it contains at least some required fields.\n",
        "\n",
        "- Part 2: The fields also satisfy a set of requirements."
      ]
    },
    {
      "cell_type": "code",
      "metadata": {
        "id": "mNvquM2xYBxI",
        "colab": {
          "base_uri": "https://localhost:8080/",
          "height": 302
        },
        "outputId": "d3d1a2b8-8e47-4b05-9811-2d9ff8d15d8a"
      },
      "source": [
        "puzzle = advent.puzzle(day=4)"
      ],
      "execution_count": 63,
      "outputs": [
        {
          "output_type": "display_data",
          "data": {
            "text/markdown": "For [day 4](https://adventofcode.com/2020/day/4), `puzzle.input` has 1_102 lines:",
            "text/plain": [
              "<IPython.core.display.Markdown object>"
            ]
          },
          "metadata": {}
        },
        {
          "output_type": "stream",
          "name": "stdout",
          "text": [
            "hcl:5d90f0 cid:270 ecl:#66dc9c hgt:62cm byr:1945 pid:63201172 eyr:2026\n",
            "\n",
            "ecl:amb byr:1943 iyr:2014 eyr:2028\n",
            "pid:333051831\n",
            "\n",
            "byr:1971\n",
            "eyr:2021 iyr:2015 pid:158388040 hcl:#18171d ecl:brn hgt:179cm\n",
            "\n",
            " ...\n",
            "hcl:#7d3b0c pid:431742871\n",
            "ecl:hzl hgt:169cm cid:340\n",
            "eyr:2023\n",
            "iyr:2017 byr:1994\n"
          ]
        },
        {
          "output_type": "display_data",
          "data": {
            "text/markdown": "The stored answers are: `{1: '216', 2: '150'}`",
            "text/plain": [
              "<IPython.core.display.Markdown object>"
            ]
          },
          "metadata": {}
        }
      ]
    },
    {
      "cell_type": "code",
      "metadata": {
        "id": "Zg5BJ9IbOSyY",
        "colab": {
          "base_uri": "https://localhost:8080/"
        },
        "cellView": "form",
        "outputId": "3d2c8011-8ecd-4261-a07f-027dee75bd85"
      },
      "source": [
        "#@title\n",
        "print('Let s1, s2, s3 be test inputs.')\n",
        "\n",
        "s1 = \"\"\"\n",
        "ecl:gry pid:860033327 eyr:2020 hcl:#fffffd\n",
        "byr:1937 iyr:2017 cid:147 hgt:183cm\n",
        "\n",
        "iyr:2013 ecl:amb cid:350 eyr:2023 pid:028048884\n",
        "hcl:#cfa07d byr:1929\n",
        "\n",
        "hcl:#ae17e1 iyr:2013\n",
        "eyr:2024\n",
        "ecl:brn pid:760753108 byr:1931\n",
        "hgt:179cm\n",
        "\n",
        "hcl:#cfa07d eyr:2025 pid:166559648\n",
        "iyr:2011 ecl:brn hgt:59in\n",
        "\"\"\"\n",
        "\n",
        "# all invalid\n",
        "s2 = \"\"\"\n",
        "eyr:1972 cid:100\n",
        "hcl:#18171d ecl:amb hgt:170 pid:186cm iyr:2018 byr:1926\n",
        "\n",
        "iyr:2019\n",
        "hcl:#602927 eyr:1967 hgt:170cm\n",
        "ecl:grn pid:012533040 byr:1946\n",
        "\n",
        "hcl:dab227 iyr:2012\n",
        "ecl:brn hgt:182cm pid:021572410 eyr:2020 byr:1992 cid:277\n",
        "\n",
        "hgt:59cm ecl:zzz\n",
        "eyr:2038 hcl:74454a iyr:2023\n",
        "pid:3556412378 byr:2007\n",
        "\"\"\"\n",
        "\n",
        "# all valid\n",
        "s3 = \"\"\"\n",
        "pid:087499704 hgt:74in ecl:grn iyr:2012 eyr:2030 byr:1980\n",
        "hcl:#623a2f\n",
        "\n",
        "eyr:2029 ecl:blu cid:129 byr:1989\n",
        "iyr:2014 pid:896056539 hcl:#a97842 hgt:165cm\n",
        "\n",
        "hcl:#888785\n",
        "hgt:164cm byr:2001 iyr:2015 cid:88\n",
        "pid:545766238 ecl:hzl\n",
        "eyr:2022\n",
        "\n",
        "iyr:2010 hgt:158cm hcl:#b6652a ecl:blu byr:1944 eyr:2021 pid:093154719\n",
        "\"\"\""
      ],
      "execution_count": 64,
      "outputs": [
        {
          "output_type": "stream",
          "name": "stdout",
          "text": [
            "Let s1, s2, s3 be test inputs.\n"
          ]
        }
      ]
    },
    {
      "cell_type": "code",
      "metadata": {
        "id": "uZcmS_BxZa-Q"
      },
      "source": [
        "# Field requirements:\n",
        "# byr (Birth Year) - four digits; at least 1920 and at most 2002.\n",
        "# iyr (Issue Year) - four digits; at least 2010 and at most 2020.\n",
        "# eyr (Expiration Year) - four digits; at least 2020 and at most 2030.\n",
        "# hgt (Height) - a number followed by either cm or in:\n",
        "# If cm, the number must be at least 150 and at most 193.\n",
        "# If in, the number must be at least 59 and at most 76.\n",
        "# hcl (Hair Color) - a # followed by exactly six characters 0-9 or a-f.\n",
        "# ecl (Eye Color) - exactly one of: amb blu brn gry grn hzl oth.\n",
        "# pid (Passport ID) - a nine-digit number, including leading zeroes.\n",
        "# cid (Country ID) - ignored, missing or not."
      ],
      "execution_count": 65,
      "outputs": []
    },
    {
      "cell_type": "code",
      "metadata": {
        "id": "HtWW5K9kZdng",
        "colab": {
          "base_uri": "https://localhost:8080/"
        },
        "outputId": "8185fa4d-2abb-4726-9b5b-dba40e010676"
      },
      "source": [
        "def process1(s, part2=False):\n",
        "  passports = s.strip('\\n').split('\\n\\n')\n",
        "\n",
        "  def part1_valid(fields):\n",
        "    required_fields = set('byr iyr eyr hgt hcl ecl pid'.split())\n",
        "    return all(field in fields for field in required_fields)\n",
        "\n",
        "  def part2_valid(fields):\n",
        "    try:\n",
        "      value, unit = re.fullmatch(r'(\\d+)(cm|in)', fields['hgt']).groups()\n",
        "      year = lambda field: int(re.fullmatch(r'(\\d{4})', fields[field]).group())\n",
        "      return bool(\n",
        "          1920 <= year('byr') <= 2002 and\n",
        "          2010 <= year('iyr') <= 2020 and\n",
        "          2020 <= year('eyr') <= 2030 and\n",
        "          (unit != 'cm' or 150 <= int(value) <= 193) and\n",
        "          (unit != 'in' or 59 <= int(value) <= 76) and\n",
        "          re.fullmatch(r'#[0-9a-f]{6}', fields['hcl']) and\n",
        "          fields['ecl'] in 'amb blu brn gry grn hzl oth'.split() and\n",
        "          re.fullmatch(r'[0-9]{9}', fields['pid']))\n",
        "    except (AttributeError, KeyError):\n",
        "      return False\n",
        "\n",
        "  num_valid = 0\n",
        "  for passport in passports:\n",
        "    fields = dict(re.fullmatch(r'(\\w\\w\\w):(\\S+)', s_field).groups()\n",
        "                  for s_field in passport.split())\n",
        "    num_valid += part2_valid(fields) if part2 else part1_valid(fields)\n",
        "\n",
        "  return num_valid\n",
        "\n",
        "\n",
        "check_eq(process1(s1), 2)\n",
        "puzzle.verify(1, process1)  # ~3 ms.\n",
        "\n",
        "process2 = functools.partial(process1, part2=True)\n",
        "check_eq(process2(s2), 0)  # all records are invalid\n",
        "check_eq(process2(s3), 4)  # all records are valid\n",
        "puzzle.verify(2, process2)  # ~6 ms."
      ],
      "execution_count": 73,
      "outputs": [
        {
          "output_type": "stream",
          "name": "stdout",
          "text": [
            "(Part 1: 0.003 s)\n",
            "(Part 2: 0.006 s)\n"
          ]
        }
      ]
    },
    {
      "cell_type": "markdown",
      "metadata": {
        "id": "hNJ1-j5mpY7H"
      },
      "source": [
        "<a name=\"day5\"></a>\n",
        "## Day 5: Free seat in grid"
      ]
    },
    {
      "cell_type": "markdown",
      "metadata": {
        "id": "vhGV1fP_cVGd"
      },
      "source": [
        "Given input lines, each specifiying a seat identified using a binary encoding with symbols **B**ack, **F**ront, **L**eft, **R**ight.\n",
        "\n",
        "- Part 1: Determine the maximum seat id.\n",
        "\n",
        "- Part 2: Determine the missing seat id in the middle of the bunch."
      ]
    },
    {
      "cell_type": "code",
      "metadata": {
        "id": "Biwl1Rvhpaxs",
        "colab": {
          "base_uri": "https://localhost:8080/",
          "height": 302
        },
        "outputId": "b7942078-d6f6-4ab7-89bd-9324ca62bbed"
      },
      "source": [
        "puzzle = advent.puzzle(day=5)"
      ],
      "execution_count": 74,
      "outputs": [
        {
          "output_type": "display_data",
          "data": {
            "text/markdown": "For [day 5](https://adventofcode.com/2020/day/5), `puzzle.input` has 897 lines:",
            "text/plain": [
              "<IPython.core.display.Markdown object>"
            ]
          },
          "metadata": {}
        },
        {
          "output_type": "stream",
          "name": "stdout",
          "text": [
            "BFBBFFBRRL\n",
            "BFBFFFFRLL\n",
            "FBFBFFBRRR\n",
            "FFBBBFBRLL\n",
            "BBBFBFBRLR\n",
            "BFBBFBFLRR\n",
            "FBBBFFFRRL\n",
            "BBFFBFFLLL\n",
            " ...\n",
            "BBFBFBFRRL\n",
            "BFFBBBBLLL\n",
            "FBFFBFBRRR\n",
            "FBFFFFBRLR\n"
          ]
        },
        {
          "output_type": "display_data",
          "data": {
            "text/markdown": "The stored answers are: `{1: '965', 2: '524'}`",
            "text/plain": [
              "<IPython.core.display.Markdown object>"
            ]
          },
          "metadata": {}
        }
      ]
    },
    {
      "cell_type": "code",
      "metadata": {
        "id": "gYaLc3PrhrO8",
        "colab": {
          "base_uri": "https://localhost:8080/"
        },
        "outputId": "f86c98f4-3591-4603-beaf-06acbff14611"
      },
      "source": [
        "def get_seat_id(line):\n",
        "  return int(line.translate(str.maketrans('FBLR', '0101')), base=2)\n",
        "\n",
        "check_eq(get_seat_id('FBFBBFFRLR'), 357)\n",
        "check_eq(get_seat_id('BFFFBBFRRR'), 567)\n",
        "check_eq(get_seat_id('FFFBBBFRRR'), 119)\n",
        "check_eq(get_seat_id('BBFFBBFRLL'), 820)\n",
        "\n",
        "\n",
        "def process1(s):\n",
        "  return max(get_seat_id(line) for line in s.split())\n",
        "\n",
        "puzzle.verify(1, process1)  # ~1 ms."
      ],
      "execution_count": 81,
      "outputs": [
        {
          "output_type": "stream",
          "name": "stdout",
          "text": [
            "(Part 1: 0.001 s)\n"
          ]
        }
      ]
    },
    {
      "cell_type": "markdown",
      "metadata": {
        "id": "a-V6_zdZq7T6"
      },
      "source": [
        "Part 2"
      ]
    },
    {
      "cell_type": "code",
      "metadata": {
        "id": "GH12Oy6CphmX",
        "colab": {
          "base_uri": "https://localhost:8080/",
          "height": 202
        },
        "outputId": "7aa36c2c-f7bf-423d-bca0-7a74791e1e73"
      },
      "source": [
        "def visualize_transposed_seat_grid(s):\n",
        "  grid = np.full((128, 8), 0)\n",
        "  yx = np.array([divmod(get_seat_id(line), 8) for line in s.split()])\n",
        "  grid[tuple(yx.T)] = 1\n",
        "  print('\\n'.join(''.join('.#'[e] for e in row) for row in grid.T))\n",
        "  media.show_image(grid.T == 1, border=True, width=600)\n",
        "\n",
        "visualize_transposed_seat_grid(puzzle.input)"
      ],
      "execution_count": 82,
      "outputs": [
        {
          "output_type": "stream",
          "name": "stdout",
          "text": [
            ".........################################################################################################################.......\n",
            ".........################################################################################################################.......\n",
            ".........################################################################################################################.......\n",
            ".........################################################################################################################.......\n",
            "........#########################################################.#######################################################.......\n",
            "........#################################################################################################################.......\n",
            "........################################################################################################################........\n",
            "........################################################################################################################........\n"
          ]
        },
        {
          "output_type": "display_data",
          "data": {
            "text/html": [
              "<table class=\"show_images\" style=\"border-spacing:0px;\"><tr><td style=\"padding:1px;\"><img width=\"600\" height=\"38\" style=\"border:1px solid black; image-rendering:pixelated; object-fit:cover;\" src=\"data:image/png;base64,iVBORw0KGgoAAAANSUhEUgAAAIAAAAAICAIAAAC+v2ApAAAASUlEQVR4nO3VMQoAIAxDUeP97xxXoVZwsaTkjboI3ypGjuRl114BiIvz/zls5wDFHKBYGkDoAzi+rSo6TIDQXYk6BJCQjakDFFsctAkQyvXN5QAAAABJRU5ErkJggg==\"/></td></tr></table>"
            ],
            "text/plain": [
              "<IPython.core.display.HTML object>"
            ]
          },
          "metadata": {}
        }
      ]
    },
    {
      "cell_type": "code",
      "metadata": {
        "colab": {
          "base_uri": "https://localhost:8080/"
        },
        "id": "gfpJsSaAdmtZ",
        "outputId": "102a0764-8294-4ad7-f240-83c8cbfa9c5b"
      },
      "source": [
        "def process2(s):  # Using regular expression search.\n",
        "  seat_ids = [get_seat_id(line) for line in s.split()]\n",
        "  occupied = ''.join('01'[seat_id in seat_ids] for seat_id in range(128 * 8))\n",
        "  seat_id, = [match.start() for match in re.finditer('(?<=1)0(?=1)', occupied)]\n",
        "  return seat_id\n",
        "\n",
        "puzzle.verify(2, process2)  # ~11 ms."
      ],
      "execution_count": 103,
      "outputs": [
        {
          "output_type": "stream",
          "name": "stdout",
          "text": [
            "(Part 2: 0.011 s)\n"
          ]
        }
      ]
    },
    {
      "cell_type": "code",
      "metadata": {
        "colab": {
          "base_uri": "https://localhost:8080/"
        },
        "id": "Zr8ROXu8dlUy",
        "outputId": "9e85bc0e-d31c-4d8d-d1fc-4a55361496f7"
      },
      "source": [
        "def process2(s):  # Using string indexing.\n",
        "\n",
        "  def find_all(string, substring, overlapping=False):\n",
        "    i = string.find(substring)\n",
        "    while i != -1:\n",
        "      yield i\n",
        "      i = string.find(substring, i + (1 if overlapping else len(substring)))\n",
        "\n",
        "  seat_ids = [get_seat_id(line) for line in s.split()]\n",
        "  occupied = ''.join('01'[seat_id in seat_ids] for seat_id in range(128 * 8))\n",
        "  i, = list(find_all(occupied, '101'))\n",
        "  seat_id = i + 1\n",
        "  return seat_id\n",
        "\n",
        "puzzle.verify(2, process2)  # ~9 ms."
      ],
      "execution_count": 90,
      "outputs": [
        {
          "output_type": "stream",
          "name": "stdout",
          "text": [
            "(Part 2: 0.009 s)\n"
          ]
        }
      ]
    },
    {
      "cell_type": "code",
      "metadata": {
        "colab": {
          "base_uri": "https://localhost:8080/"
        },
        "id": "DMoWj_yTdoB4",
        "outputId": "ce87a005-407b-413b-c5c1-12fdbca59fec"
      },
      "source": [
        "def process2(s):  # Fast, using numpy successive differences of sorted indices.\n",
        "  seat_ids = np.sort([get_seat_id(line) for line in s.split()])\n",
        "  diff = np.diff(seat_ids)\n",
        "  i, = np.nonzero(diff == 2)[0]\n",
        "  seat_id = seat_ids[i] + 1\n",
        "  return seat_id\n",
        "\n",
        "puzzle.verify(2, process2)  # ~2 ms."
      ],
      "execution_count": 108,
      "outputs": [
        {
          "output_type": "stream",
          "name": "stdout",
          "text": [
            "(Part 2: 0.002 s)\n"
          ]
        }
      ]
    },
    {
      "cell_type": "code",
      "metadata": {
        "colab": {
          "base_uri": "https://localhost:8080/"
        },
        "id": "r-MtYsaGdpTn",
        "outputId": "18b2a2ac-24af-48cf-bc41-3154db88df5e"
      },
      "source": [
        "def process2(s):  # Also fast, using numpy subsequence search.\n",
        "\n",
        "  def matching_subsequences(array, sequence):\n",
        "    array, sequence = np.asarray(array), np.asarray(sequence)\n",
        "    return (array[np.arange(len(array) - len(sequence) + 1)[:, None] +\n",
        "            np.arange(len(sequence))] == sequence).all(axis=1)\n",
        "\n",
        "  seat_ids = [get_seat_id(line) for line in s.split()]\n",
        "  occupied = np.full(128 * 8, False)\n",
        "  occupied[seat_ids] = True\n",
        "  seat_id, = matching_subsequences(occupied, (1, 0, 1)).nonzero()[0] + 1\n",
        "  return seat_id\n",
        "\n",
        "puzzle.verify(2, process2)  # ~2 ms."
      ],
      "execution_count": 113,
      "outputs": [
        {
          "output_type": "stream",
          "name": "stdout",
          "text": [
            "(Part 2: 0.002 s)\n"
          ]
        }
      ]
    },
    {
      "cell_type": "markdown",
      "metadata": {
        "id": "RP8FssM4sDuZ"
      },
      "source": [
        "<a name=\"day6\"></a>\n",
        "## Day 6: Counts across groups"
      ]
    },
    {
      "cell_type": "markdown",
      "metadata": {
        "id": "74mhb17yem9h"
      },
      "source": [
        "Given a set of records of words:\n",
        "\n",
        "- Part 1: Compute the number of unique letters in each record, and sum these.\n",
        "\n",
        "- Part 2: Compute the number of letters appearing in all words of each record, and sum these."
      ]
    },
    {
      "cell_type": "code",
      "metadata": {
        "id": "YskNwkMDsGCB",
        "colab": {
          "base_uri": "https://localhost:8080/",
          "height": 302
        },
        "outputId": "4917ef22-7d4b-4302-94b3-bb79e0f2ddc1"
      },
      "source": [
        "puzzle = advent.puzzle(day=6)"
      ],
      "execution_count": 114,
      "outputs": [
        {
          "output_type": "display_data",
          "data": {
            "text/markdown": "For [day 6](https://adventofcode.com/2020/day/6), `puzzle.input` has 2_172 lines:",
            "text/plain": [
              "<IPython.core.display.Markdown object>"
            ]
          },
          "metadata": {}
        },
        {
          "output_type": "stream",
          "name": "stdout",
          "text": [
            "su\n",
            "egu\n",
            "\n",
            "h\n",
            "h\n",
            "h\n",
            "h\n",
            "\n",
            " ...\n",
            "\n",
            "lfhtzrxcj\n",
            "fbtzlhrcj\n",
            "lzdaftrjphco\n"
          ]
        },
        {
          "output_type": "display_data",
          "data": {
            "text/markdown": "The stored answers are: `{1: '6590', 2: '3288'}`",
            "text/plain": [
              "<IPython.core.display.Markdown object>"
            ]
          },
          "metadata": {}
        }
      ]
    },
    {
      "cell_type": "code",
      "metadata": {
        "id": "6mCkU9KpmGU1",
        "colab": {
          "base_uri": "https://localhost:8080/"
        },
        "cellView": "form",
        "outputId": "2c43a203-62bd-472e-db6b-30a4cc69a745"
      },
      "source": [
        "#@title\n",
        "print('Let s1 be a test input.')\n",
        "\n",
        "s1 = \"\"\"\n",
        "abc\n",
        "\n",
        "a\n",
        "b\n",
        "c\n",
        "\n",
        "ab\n",
        "ac\n",
        "\n",
        "a\n",
        "a\n",
        "a\n",
        "a\n",
        "\n",
        "b\n",
        "\"\"\""
      ],
      "execution_count": 115,
      "outputs": [
        {
          "output_type": "stream",
          "name": "stdout",
          "text": [
            "Let s1 be a test input.\n"
          ]
        }
      ]
    },
    {
      "cell_type": "markdown",
      "metadata": {
        "id": "xgVfWlaahYQl"
      },
      "source": [
        "Part 1"
      ]
    },
    {
      "cell_type": "code",
      "metadata": {
        "colab": {
          "base_uri": "https://localhost:8080/"
        },
        "id": "shCaGdNVgCZ7",
        "outputId": "61deacde-d527-4e08-9e66-67d551ecfecb"
      },
      "source": [
        "def process1(s):  # Long code.\n",
        "  total = 0\n",
        "  for group in s.strip('\\n').split('\\n\\n'):\n",
        "    union = set()\n",
        "    for line in group.splitlines():\n",
        "      union |= set(line)\n",
        "    total += len(union)\n",
        "  return total\n",
        "\n",
        "check_eq(process1(s1), 11)\n",
        "puzzle.verify(1, process1)  # ~3 ms."
      ],
      "execution_count": 118,
      "outputs": [
        {
          "output_type": "stream",
          "name": "stdout",
          "text": [
            "(Part 1: 0.003 s)\n"
          ]
        }
      ]
    },
    {
      "cell_type": "code",
      "metadata": {
        "colab": {
          "base_uri": "https://localhost:8080/"
        },
        "id": "wdmoLpGegHRo",
        "outputId": "7324fb13-f2ac-4dcb-f064-9aae52997add"
      },
      "source": [
        "def process1(s):  # Using reduction.\n",
        "  return sum(\n",
        "      len(functools.reduce(operator.or_, map(set, group.splitlines())))\n",
        "      for group in s.strip('\\n').split('\\n\\n'))\n",
        "\n",
        "check_eq(process1(s1), 11)\n",
        "puzzle.verify(1, process1)  # ~3 ms."
      ],
      "execution_count": 122,
      "outputs": [
        {
          "output_type": "stream",
          "name": "stdout",
          "text": [
            "(Part 1: 0.003 s)\n"
          ]
        }
      ]
    },
    {
      "cell_type": "code",
      "metadata": {
        "colab": {
          "base_uri": "https://localhost:8080/"
        },
        "id": "hP_Q22YbgIcP",
        "outputId": "c778fccf-d762-452e-fa05-5600b8527f96"
      },
      "source": [
        "def process1(s):  # Compact, and also fastest.\n",
        "  return sum(\n",
        "      len(set(group.replace('\\n', '')))\n",
        "      for group in s.strip('\\n').split('\\n\\n'))\n",
        "\n",
        "check_eq(process1(s1), 11)\n",
        "puzzle.verify(1, process1)  # ~1 ms."
      ],
      "execution_count": 124,
      "outputs": [
        {
          "output_type": "stream",
          "name": "stdout",
          "text": [
            "(Part 1: 0.001 s)\n"
          ]
        }
      ]
    },
    {
      "cell_type": "markdown",
      "metadata": {
        "id": "D-mMCiwqgrmk"
      },
      "source": [
        "Part 2"
      ]
    },
    {
      "cell_type": "code",
      "metadata": {
        "colab": {
          "base_uri": "https://localhost:8080/"
        },
        "id": "r9RGOmtdg9aM",
        "outputId": "679c969e-06be-47dd-a7b0-1a4e4f86e26b"
      },
      "source": [
        "def process2(s):  # Using reduction.\n",
        "  return sum(\n",
        "      len(functools.reduce(operator.and_, map(set, group.splitlines())))\n",
        "      for group in s.strip('\\n').split('\\n\\n'))\n",
        "\n",
        "check_eq(process2(s1), 6)\n",
        "puzzle.verify(2, process2)  # ~3 ms."
      ],
      "execution_count": 133,
      "outputs": [
        {
          "output_type": "stream",
          "name": "stdout",
          "text": [
            "(Part 2: 0.003 s)\n"
          ]
        }
      ]
    },
    {
      "cell_type": "code",
      "metadata": {
        "colab": {
          "base_uri": "https://localhost:8080/"
        },
        "id": "ezOQ4kGzg-YF",
        "outputId": "3c332faf-2d24-41b9-ef31-e12e0c0b145c"
      },
      "source": [
        "def process2(s):  # Compact and same speed.\n",
        "  return sum(\n",
        "      len(set.intersection(*map(set, group.splitlines())))\n",
        "      for group in s.strip('\\n').split('\\n\\n'))\n",
        "\n",
        "check_eq(process2(s1), 6)\n",
        "puzzle.verify(2, process2)  # ~3 ms."
      ],
      "execution_count": 143,
      "outputs": [
        {
          "output_type": "stream",
          "name": "stdout",
          "text": [
            "(Part 2: 0.003 s)\n"
          ]
        }
      ]
    },
    {
      "cell_type": "markdown",
      "metadata": {
        "id": "RWStaG-bqzmz"
      },
      "source": [
        "<a name=\"day7\"></a>\n",
        "## Day 7: Nested bags"
      ]
    },
    {
      "cell_type": "markdown",
      "metadata": {
        "id": "vz-zlIZjjkTs"
      },
      "source": [
        "Given a description of bag colors, where each colored bag contains a collection of other colored bags:\n",
        "\n",
        "- Part 1: Determine the number of bag colors that can eventually contain a specified bag color.\n",
        "\n",
        "- Part 2: Determine the total number of bags required inside a specified bag color."
      ]
    },
    {
      "cell_type": "code",
      "metadata": {
        "id": "-anp0Vouq24h",
        "colab": {
          "base_uri": "https://localhost:8080/",
          "height": 302
        },
        "outputId": "040b68bf-e3aa-4e0f-ad02-6927f34f4c57"
      },
      "source": [
        "puzzle = advent.puzzle(day=7)"
      ],
      "execution_count": 144,
      "outputs": [
        {
          "output_type": "display_data",
          "data": {
            "text/markdown": "For [day 7](https://adventofcode.com/2020/day/7), `puzzle.input` has 594 lines:",
            "text/plain": [
              "<IPython.core.display.Markdown object>"
            ]
          },
          "metadata": {}
        },
        {
          "output_type": "stream",
          "name": "stdout",
          "text": [
            "dim red bags contain 2 bright gold bags, 5 striped fuchsia bags.\n",
            "dotted purple bags contain 5 bright olive bags, 3 faded maroon bags.\n",
            "plaid chartreuse bags contain 1 vibrant olive bag, 5 bright black bags, 1 clear tomato bag.\n",
            "wavy orange bags contain 4 dark lavender bags, 4 posh white bags.\n",
            "light lavender bags contain 4 drab olive bags, 5 dark magenta bags.\n",
            "pale black bags contain 5 dotted beige bags, 5 clear chartreuse bags, 4 pale lime bags.\n",
            "wavy crimson bags contain 5 dull tomato bags.\n",
            "muted aqua bags contain 1 dotted aqua bag, 5 posh plum bags, 1 bright blue bag.\n",
            " ...\n",
            "vibrant lime bags contain 5 light green bags.\n",
            "dark maroon bags contain 5 drab bronze bags, 4 bright red bags, 1 posh cyan bag.\n",
            "wavy red bags contain 2 mirrored beige bags, 5 muted crimson bags, 5 vibrant orange bags, 3 posh turquoise bags.\n",
            "drab brown bags contain 1 faded tan bag, 3 vibrant maroon bags.\n"
          ]
        },
        {
          "output_type": "display_data",
          "data": {
            "text/markdown": "The stored answers are: `{1: '115', 2: '1250'}`",
            "text/plain": [
              "<IPython.core.display.Markdown object>"
            ]
          },
          "metadata": {}
        }
      ]
    },
    {
      "cell_type": "code",
      "metadata": {
        "id": "UYevJT7hurXB",
        "colab": {
          "base_uri": "https://localhost:8080/"
        },
        "cellView": "form",
        "outputId": "d345f10e-5ad3-4208-901e-ed3728025ef7"
      },
      "source": [
        "#@title\n",
        "print('Let s1, s2 be test inputs.')\n",
        "\n",
        "s1 = \"\"\"\n",
        "light red bags contain 1 bright white bag, 2 muted yellow bags.\n",
        "dark orange bags contain 3 bright white bags, 4 muted yellow bags.\n",
        "bright white bags contain 1 shiny gold bag.\n",
        "muted yellow bags contain 2 shiny gold bags, 9 faded blue bags.\n",
        "shiny gold bags contain 1 dark olive bag, 2 vibrant plum bags.\n",
        "dark olive bags contain 3 faded blue bags, 4 dotted black bags.\n",
        "vibrant plum bags contain 5 faded blue bags, 6 dotted black bags.\n",
        "faded blue bags contain no other bags.\n",
        "dotted black bags contain no other bags.\n",
        "\"\"\"\n",
        "\n",
        "s2 = \"\"\"\n",
        "shiny gold bags contain 2 dark red bags.\n",
        "dark red bags contain 2 dark orange bags.\n",
        "dark orange bags contain 2 dark yellow bags.\n",
        "dark yellow bags contain 2 dark green bags.\n",
        "dark green bags contain 2 dark blue bags.\n",
        "dark blue bags contain 2 dark violet bags.\n",
        "dark violet bags contain no other bags.\n",
        "\"\"\""
      ],
      "execution_count": 145,
      "outputs": [
        {
          "output_type": "stream",
          "name": "stdout",
          "text": [
            "Let s1, s2 be test inputs.\n"
          ]
        }
      ]
    },
    {
      "cell_type": "code",
      "metadata": {
        "id": "DwuIhiIxjftU"
      },
      "source": [
        "def get_bag_contents(s):\n",
        "  contents = {}\n",
        "  pattern = re.compile(r'(\\d+) (.*?) bags?[,.]')\n",
        "  for line in s.strip('\\n').splitlines():\n",
        "    outer, inners = line.split(' bags contain ')\n",
        "    contents[outer] = {}\n",
        "    for match in pattern.finditer(inners):\n",
        "      n, inner = match.groups()\n",
        "      contents[outer][inner] = int(n)\n",
        "  return contents"
      ],
      "execution_count": 146,
      "outputs": []
    },
    {
      "cell_type": "code",
      "metadata": {
        "colab": {
          "base_uri": "https://localhost:8080/"
        },
        "id": "QzumeUvqknLs",
        "outputId": "fbb215df-c997-4cac-cdf6-6b655fc399a4"
      },
      "source": [
        "def process1(s, query='shiny gold'):  # Compact and fast with caching.\n",
        "  \"\"\"Returns number of bag colors that can eventually contain >=1 query bag.\"\"\"\n",
        "  contents = get_bag_contents(s)\n",
        "\n",
        "  @functools.lru_cache(maxsize=None)\n",
        "  def valid(bag):\n",
        "    return any(inner == query or valid(inner) for inner in contents[bag])\n",
        "\n",
        "  return sum(valid(bag) for bag in contents)\n",
        "\n",
        "check_eq(process1(s1), 4)\n",
        "puzzle.verify(1, process1)  # ~3 ms.  (~240 ms without lru_cache)"
      ],
      "execution_count": 166,
      "outputs": [
        {
          "output_type": "stream",
          "name": "stdout",
          "text": [
            "(Part 1: 0.003 s)\n"
          ]
        }
      ]
    },
    {
      "cell_type": "code",
      "metadata": {
        "colab": {
          "base_uri": "https://localhost:8080/"
        },
        "id": "Fmz1hNcxkYCN",
        "outputId": "fbe9e1a7-053f-4433-ea56-653f6a002c6d"
      },
      "source": [
        "def process1(s, query='shiny gold'):  # Fast too.\n",
        "  contents = get_bag_contents(s)  # computational bottleneck\n",
        "  parents = collections.defaultdict(list)\n",
        "  for bag in contents:\n",
        "    for child in contents[bag]:\n",
        "      parents[child].append(bag)\n",
        "\n",
        "  valid = set()\n",
        "  to_visit = collections.deque([query])\n",
        "  while to_visit:\n",
        "    bag = to_visit.popleft()\n",
        "    for parent in parents[bag]:\n",
        "      if parent not in valid:\n",
        "        valid.add(parent)\n",
        "        to_visit.append(parent)\n",
        "\n",
        "  return len(valid)\n",
        "\n",
        "check_eq(process1(s1), 4)\n",
        "puzzle.verify(1, process1)  # ~3 ms."
      ],
      "execution_count": 171,
      "outputs": [
        {
          "output_type": "stream",
          "name": "stdout",
          "text": [
            "(Part 1: 0.003 s)\n"
          ]
        }
      ]
    },
    {
      "cell_type": "markdown",
      "metadata": {
        "id": "DGP7T8BZlKDj"
      },
      "source": [
        "Part 2"
      ]
    },
    {
      "cell_type": "code",
      "metadata": {
        "id": "4ArbIfdzq3Jg",
        "colab": {
          "base_uri": "https://localhost:8080/"
        },
        "outputId": "e1def6bb-4fe0-4ef2-fae0-99ba09dee432"
      },
      "source": [
        "def process2(s, query='shiny gold'):\n",
        "  \"\"\"Returns total number of individual bags required inside a query bag.\"\"\"\n",
        "  contents = get_bag_contents(s)  # computational bottleneck\n",
        "\n",
        "  # @functools.lru_cache(maxsize=None)  # Unnecessary.\n",
        "  def count_inside(bag):\n",
        "    return sum(n * (count_inside(b) + 1) for b, n in contents[bag].items())\n",
        "\n",
        "  return count_inside(query)\n",
        "\n",
        "check_eq(process2(s1), 32)\n",
        "check_eq(process2(s2), 126)\n",
        "puzzle.verify(2, process2)  # ~3 ms."
      ],
      "execution_count": 194,
      "outputs": [
        {
          "output_type": "stream",
          "name": "stdout",
          "text": [
            "(Part 2: 0.003 s)\n"
          ]
        }
      ]
    },
    {
      "cell_type": "markdown",
      "metadata": {
        "id": "Q4Meyx1ABj8r"
      },
      "source": [
        "<a name=\"day8\"></a>\n",
        "## Day 8: Program with acc, nop, jmp"
      ]
    },
    {
      "cell_type": "markdown",
      "metadata": {
        "id": "57IX_n5ilo97"
      },
      "source": [
        "Given a program with instructions `nop`, `acc`, and `jmp`:\n",
        "\n",
        "- Part 1: Determine the sum of the `acc` operands when running the program until the program counter becomes invalid.\n",
        "\n",
        "- Part 2: Modify the program by swapping one of its opcodes between `nop` and `jmp` such that it terminates (with the program counter at the end), and report the sum of the `acc` operands."
      ]
    },
    {
      "cell_type": "code",
      "metadata": {
        "id": "PEIzMPu6BlZ-",
        "colab": {
          "base_uri": "https://localhost:8080/",
          "height": 302
        },
        "outputId": "5147a5a6-1a0f-45fb-dbe1-8fbc9c37afed"
      },
      "source": [
        "puzzle = advent.puzzle(day=8)"
      ],
      "execution_count": 195,
      "outputs": [
        {
          "output_type": "display_data",
          "data": {
            "text/markdown": "For [day 8](https://adventofcode.com/2020/day/8), `puzzle.input` has 638 lines:",
            "text/plain": [
              "<IPython.core.display.Markdown object>"
            ]
          },
          "metadata": {}
        },
        {
          "output_type": "stream",
          "name": "stdout",
          "text": [
            "acc +8\n",
            "acc +37\n",
            "jmp +328\n",
            "jmp +574\n",
            "nop +321\n",
            "acc +17\n",
            "jmp +450\n",
            "acc +46\n",
            " ...\n",
            "acc +6\n",
            "acc +21\n",
            "acc +16\n",
            "jmp +1\n"
          ]
        },
        {
          "output_type": "display_data",
          "data": {
            "text/markdown": "The stored answers are: `{1: '1521', 2: '1016'}`",
            "text/plain": [
              "<IPython.core.display.Markdown object>"
            ]
          },
          "metadata": {}
        }
      ]
    },
    {
      "cell_type": "code",
      "metadata": {
        "id": "f8aZ49hRuC05"
      },
      "source": [
        "s1 = \"\"\"\n",
        "nop +0\n",
        "acc +1\n",
        "jmp +4\n",
        "acc +3\n",
        "jmp -3\n",
        "acc -99\n",
        "acc +1\n",
        "jmp -4\n",
        "acc +6\n",
        "\"\"\""
      ],
      "execution_count": 196,
      "outputs": []
    },
    {
      "cell_type": "code",
      "metadata": {
        "colab": {
          "base_uri": "https://localhost:8080/"
        },
        "id": "q365Aq_iLMwx",
        "outputId": "dd36d319-181f-4fe6-8b8a-1220c975802f"
      },
      "source": [
        "def process1(s, part2=False):\n",
        "\n",
        "  def run_program(ops):\n",
        "    pc = 0\n",
        "    acc = 0\n",
        "    visited = set()\n",
        "    while 0 <= pc < len(ops) and pc not in visited:\n",
        "      visited.add(pc)\n",
        "      operation, operand = ops[pc]\n",
        "      if operation == 'nop':\n",
        "        pc += 1\n",
        "      elif operation == 'acc':\n",
        "        acc += operand\n",
        "        pc += 1\n",
        "      elif operation == 'jmp':\n",
        "        pc += operand\n",
        "      else:\n",
        "        raise AssertionError\n",
        "    return pc, acc\n",
        "\n",
        "  ops = [(line[:3], int(line[4:])) for line in s.strip('\\n').splitlines()]\n",
        "  if not part2:\n",
        "    pc, acc = run_program(ops)\n",
        "    assert 0 <= pc < len(ops)\n",
        "    return acc\n",
        "\n",
        "  for i in range(len(ops)):\n",
        "    if ops[i][0] in ('nop', 'jmp'):\n",
        "      original_op = ops[i]\n",
        "      ops[i] = (('jmp' if ops[i][0] == 'nop' else 'nop'), ops[i][1])\n",
        "      pc, acc = run_program(ops)\n",
        "      ops[i] = original_op\n",
        "      if pc == len(ops):\n",
        "        return acc\n",
        "  return None\n",
        "\n",
        "\n",
        "check_eq(process1(s1), 5)\n",
        "puzzle.verify(1, process1)  # ~0 ms.\n",
        "\n",
        "process2 = functools.partial(process1, part2=True)\n",
        "check_eq(process2(s1), 8)\n",
        "puzzle.verify(2, process2)  # ~14 ms."
      ],
      "execution_count": 203,
      "outputs": [
        {
          "output_type": "stream",
          "name": "stdout",
          "text": [
            "(Part 1: 0.000 s)\n",
            "(Part 2: 0.014 s)\n"
          ]
        }
      ]
    },
    {
      "cell_type": "markdown",
      "metadata": {
        "id": "X1Sh_yQ27qLM"
      },
      "source": [
        "<a name=\"day9\"></a>\n",
        "## Day 9: Sums in subsequences"
      ]
    },
    {
      "cell_type": "markdown",
      "metadata": {
        "id": "XpUaSYj4nRab"
      },
      "source": [
        "Given a list of numbers:\n",
        "\n",
        "- Part 1: Find the first number that is not a sum of a pair of numbers in the prior `n` numbers.\n",
        "\n",
        "- Part 2: Find a subsequence of at least 2 numbers that sums to the value obtained in part 1, compute the min and max of the subsequence, and report their product."
      ]
    },
    {
      "cell_type": "code",
      "metadata": {
        "id": "PjOeqVhc7rpR",
        "colab": {
          "base_uri": "https://localhost:8080/",
          "height": 302
        },
        "outputId": "234c8489-9432-4f1a-881f-32cef265eeb7"
      },
      "source": [
        "puzzle = advent.puzzle(day=9)"
      ],
      "execution_count": 204,
      "outputs": [
        {
          "output_type": "display_data",
          "data": {
            "text/markdown": "For [day 9](https://adventofcode.com/2020/day/9), `puzzle.input` has 1_000 lines:",
            "text/plain": [
              "<IPython.core.display.Markdown object>"
            ]
          },
          "metadata": {}
        },
        {
          "output_type": "stream",
          "name": "stdout",
          "text": [
            "19\n",
            "30\n",
            "13\n",
            "31\n",
            "42\n",
            "41\n",
            "44\n",
            "34\n",
            " ...\n",
            "30187342902183\n",
            "39869127705106\n",
            "31005328029673\n",
            "49124948203304\n"
          ]
        },
        {
          "output_type": "display_data",
          "data": {
            "text/markdown": "The stored answers are: `{1: '393911906', 2: '59341885'}`",
            "text/plain": [
              "<IPython.core.display.Markdown object>"
            ]
          },
          "metadata": {}
        }
      ]
    },
    {
      "cell_type": "code",
      "metadata": {
        "id": "rLT07Jvq7twr",
        "colab": {
          "base_uri": "https://localhost:8080/"
        },
        "cellView": "form",
        "outputId": "b7fa5132-a979-4be6-954f-d07afb5bb39f"
      },
      "source": [
        "#@title\n",
        "print('Let s1 be a test input.')\n",
        "\n",
        "s1 = \"\"\"\n",
        "35\n",
        "20\n",
        "15\n",
        "25\n",
        "47\n",
        "40\n",
        "62\n",
        "55\n",
        "65\n",
        "95\n",
        "102\n",
        "117\n",
        "150\n",
        "182\n",
        "127\n",
        "219\n",
        "299\n",
        "277\n",
        "309\n",
        "576\n",
        "\"\"\""
      ],
      "execution_count": 205,
      "outputs": [
        {
          "output_type": "stream",
          "name": "stdout",
          "text": [
            "Let s1 be a test input.\n"
          ]
        }
      ]
    },
    {
      "cell_type": "code",
      "metadata": {
        "id": "-jgheoftAPOd",
        "colab": {
          "base_uri": "https://localhost:8080/"
        },
        "outputId": "cd075636-1f9f-428e-85f5-68fc27908489"
      },
      "source": [
        "def process1(s, last_n=25, part2=False):\n",
        "  l = list(map(int, s.split()))\n",
        "\n",
        "  def has_pair(l, total):\n",
        "    # return any(a + b == total for a, b in itertools.combinations(l, 2))\n",
        "    return any(total - l[i] in l[i + 1:] for i in range(len(l)))\n",
        "\n",
        "  def first_number_not_sum_of_pair_in_last_n(n):\n",
        "    return next(l[i] for i in range(n, len(l))\n",
        "                if not has_pair(l[i - n:i], l[i]))\n",
        "\n",
        "  invalid_number = first_number_not_sum_of_pair_in_last_n(last_n)\n",
        "  if not part2:\n",
        "    return invalid_number\n",
        "\n",
        "  # Find a contiguous set of at least two numbers in your list which sum to the\n",
        "  # invalid number.  Approach: compute cumulative sum accum[i], then for each i\n",
        "  # do (binary) bisection search to try to locate l[i] + invalid_number.\n",
        "\n",
        "  def find_subsequence_summing_to(total):\n",
        "    accum = list(itertools.accumulate(l, operator.add))  # accum[i] = sum(l[:i])\n",
        "    for i in range(len(accum)):\n",
        "      end_value = accum[i] + total\n",
        "      j = bisect.bisect_left(accum, end_value)\n",
        "      if j != len(accum) and accum[j] == end_value:\n",
        "        return l[i + 1:j + 1]\n",
        "    return None\n",
        "\n",
        "  sequence = find_subsequence_summing_to(invalid_number)\n",
        "  assert sum(sequence) == invalid_number\n",
        "  return min(sequence) + max(sequence)\n",
        "\n",
        "\n",
        "check_eq(process1(s1, last_n=5), 127)\n",
        "puzzle.verify(1, process1)  # ~2 ms.\n",
        "\n",
        "process2 = functools.partial(process1, part2=True)\n",
        "check_eq(process2(s1, last_n=5), 62)\n",
        "puzzle.verify(2, process2)  # ~4 ms."
      ],
      "execution_count": 208,
      "outputs": [
        {
          "output_type": "stream",
          "name": "stdout",
          "text": [
            "(Part 1: 0.002 s)\n",
            "(Part 2: 0.004 s)\n"
          ]
        }
      ]
    },
    {
      "cell_type": "markdown",
      "metadata": {
        "id": "NPNtev-y-bVo"
      },
      "source": [
        "<a name=\"day10\"></a>\n",
        "## Day 10: Combinations of sequences"
      ]
    },
    {
      "cell_type": "markdown",
      "metadata": {
        "id": "yBGbSZH3o5GU"
      },
      "source": [
        "Given a set of numbers,\n",
        "\n",
        "- Part 1: Augment the numbers with the values `0` and `max + 3`, tally the successive differences of the sorted numbers, and report the product of the 1-differences and the 3-differences.\n",
        "\n",
        "- Part 2: Count the number of ways to monotonically traverse the numbers such that successive differences are at most 3."
      ]
    },
    {
      "cell_type": "code",
      "metadata": {
        "id": "YzM1ko8L-bVo",
        "colab": {
          "base_uri": "https://localhost:8080/",
          "height": 302
        },
        "outputId": "6afb17a9-f15a-4e7b-eb58-e56d5b1eb9bb"
      },
      "source": [
        "puzzle = advent.puzzle(day=10)"
      ],
      "execution_count": 209,
      "outputs": [
        {
          "output_type": "display_data",
          "data": {
            "text/markdown": "For [day 10](https://adventofcode.com/2020/day/10), `puzzle.input` has 97 lines:",
            "text/plain": [
              "<IPython.core.display.Markdown object>"
            ]
          },
          "metadata": {}
        },
        {
          "output_type": "stream",
          "name": "stdout",
          "text": [
            "8\n",
            "131\n",
            "91\n",
            "35\n",
            "47\n",
            "116\n",
            "105\n",
            "121\n",
            " ...\n",
            "95\n",
            "3\n",
            "52\n",
            "49\n"
          ]
        },
        {
          "output_type": "display_data",
          "data": {
            "text/markdown": "The stored answers are: `{1: '2112', 2: '3022415986688'}`",
            "text/plain": [
              "<IPython.core.display.Markdown object>"
            ]
          },
          "metadata": {}
        }
      ]
    },
    {
      "cell_type": "code",
      "metadata": {
        "id": "DFo_tRzl-bVo",
        "colab": {
          "base_uri": "https://localhost:8080/"
        },
        "cellView": "form",
        "outputId": "f5f08b47-dba2-48e1-e3c0-011a19811ec9"
      },
      "source": [
        "#@title\n",
        "print('Let s1, s2 be test inputs.')\n",
        "\n",
        "s1 = \"\"\"\n",
        "16\n",
        "10\n",
        "15\n",
        "5\n",
        "1\n",
        "11\n",
        "7\n",
        "19\n",
        "6\n",
        "12\n",
        "4\n",
        "\"\"\"\n",
        "\n",
        "s2 = \"\"\"\n",
        "28\n",
        "33\n",
        "18\n",
        "42\n",
        "31\n",
        "14\n",
        "46\n",
        "20\n",
        "48\n",
        "47\n",
        "24\n",
        "23\n",
        "49\n",
        "45\n",
        "19\n",
        "38\n",
        "39\n",
        "11\n",
        "1\n",
        "32\n",
        "25\n",
        "35\n",
        "8\n",
        "17\n",
        "7\n",
        "9\n",
        "4\n",
        "2\n",
        "34\n",
        "10\n",
        "3\n",
        "\"\"\""
      ],
      "execution_count": 210,
      "outputs": [
        {
          "output_type": "stream",
          "name": "stdout",
          "text": [
            "Let s1, s2 be test inputs.\n"
          ]
        }
      ]
    },
    {
      "cell_type": "code",
      "metadata": {
        "colab": {
          "base_uri": "https://localhost:8080/"
        },
        "id": "MmP9fQv3pmY8",
        "outputId": "7aa237b6-75d2-4b70-b76f-33dcf2ecb412"
      },
      "source": [
        "def process1(s):\n",
        "  l = sorted(map(int, s.split()))\n",
        "  counter = collections.Counter(np.diff([0] + l + [l[-1] + 3]))\n",
        "  return counter[1] * counter[3]\n",
        "\n",
        "check_eq(process1(s1), 7 * 5)\n",
        "check_eq(process1(s2), 22 * 10)\n",
        "puzzle.verify(1, process1)  # ~0 ms.  66 * 32."
      ],
      "execution_count": 211,
      "outputs": [
        {
          "output_type": "stream",
          "name": "stdout",
          "text": [
            "(Part 1: 0.000 s)\n"
          ]
        }
      ]
    },
    {
      "cell_type": "markdown",
      "metadata": {
        "id": "I1shyQIlp2Xt"
      },
      "source": [
        "Part 2"
      ]
    },
    {
      "cell_type": "code",
      "metadata": {
        "id": "sM7QhkBb-bVo",
        "colab": {
          "base_uri": "https://localhost:8080/"
        },
        "outputId": "0f23d422-3f5d-46e5-bb3e-c30889e69f5e"
      },
      "source": [
        "# Observation: when there is a separation of 3 units, the problem decouples\n",
        "# into a product of the solutions of subproblems.\n",
        "\n",
        "# Because the voltages differences are just 1 or 3, we can simply count the\n",
        "# length of the sequences of value 1, and derive a closed-form number for each\n",
        "# sequence.\n",
        "\n",
        "def process2(s):\n",
        "  diff = np.diff([0] + sorted(map(int, s.split())))\n",
        "  lengths_of_ones = map(len, re.findall('1+', ''.join(map(str, diff))))\n",
        "\n",
        "  def f(n):\n",
        "    \"\"\"Number of combinations from a sequence of n consecutive one-diffs.\"\"\"\n",
        "    return 0 if n < 0 else 1 if n < 2 else f(n - 1) + f(n - 2) + f(n - 3)\n",
        "\n",
        "  return np.prod(list(map(f, lengths_of_ones)))\n",
        "\n",
        "check_eq(process2(s1), 8)\n",
        "check_eq(process2(s2), 19208)\n",
        "puzzle.verify(2, process2)  # ~0 ms."
      ],
      "execution_count": 213,
      "outputs": [
        {
          "output_type": "stream",
          "name": "stdout",
          "text": [
            "(Part 2: 0.000 s)\n"
          ]
        }
      ]
    },
    {
      "cell_type": "code",
      "metadata": {
        "id": "tJQIUkGFuig8",
        "colab": {
          "base_uri": "https://localhost:8080/"
        },
        "outputId": "bf3b26ad-34fe-45f9-dd38-357926473049"
      },
      "source": [
        "# More general solution based on dynamic programming with scatter.\n",
        "def process2(s):\n",
        "  l = [0] + sorted(map(int, s.split()))\n",
        "  npaths = [1] + [0] * (len(l) - 1)\n",
        "  for i in range(len(l)):\n",
        "    for j in range(i + 1, min(i + 4, len(l))):\n",
        "      if l[j] - l[i] <= 3:\n",
        "        npaths[j] += npaths[i]\n",
        "  return npaths[-1]\n",
        "\n",
        "check_eq(process2(s1), 8)\n",
        "check_eq(process2(s2), 19208)\n",
        "puzzle.verify(2, process2)  # ~0 ms."
      ],
      "execution_count": 215,
      "outputs": [
        {
          "output_type": "stream",
          "name": "stdout",
          "text": [
            "(Part 2: 0.001 s)\n"
          ]
        }
      ]
    },
    {
      "cell_type": "code",
      "metadata": {
        "id": "iurqdxeFukTM",
        "colab": {
          "base_uri": "https://localhost:8080/"
        },
        "outputId": "aa094437-6e10-4a01-feb0-e49fa10cf6f4"
      },
      "source": [
        "# Simplest solution based on dynamic programming with gather.\n",
        "def process2(s):\n",
        "  l = [0] + sorted(map(int, s.split()))\n",
        "  npaths = [1]\n",
        "  for i in range(1, len(l)):\n",
        "    npaths.append(sum(npaths[j] for j in range(-4, 0)\n",
        "                      if i + j >= 0 and l[i] - l[i + j] < 4))\n",
        "  return npaths[-1]\n",
        "\n",
        "check_eq(process2(s1), 8)\n",
        "check_eq(process2(s2), 19208)\n",
        "puzzle.verify(2, process2)  # ~0 ms."
      ],
      "execution_count": 216,
      "outputs": [
        {
          "output_type": "stream",
          "name": "stdout",
          "text": [
            "(Part 2: 0.000 s)\n"
          ]
        }
      ]
    },
    {
      "cell_type": "markdown",
      "metadata": {
        "id": "RQzQ7A9H-bzv"
      },
      "source": [
        "<a name=\"day11\"></a>\n",
        "## Day 11: Seats cellular automaton"
      ]
    },
    {
      "cell_type": "markdown",
      "metadata": {
        "id": "COrOzLteqsLY"
      },
      "source": [
        "Given a *sparse* 2D grid of nodes, run successive generations of a cellular automaton until convergence.\n",
        "\n",
        "- Part 1: Each node's neighbors are the immediately adjacent nodes (up to 8, with Manhattan distance 1).\n",
        "  \n",
        "  For each generation:\n",
        "  - a free node becomes occupied if it has zero occupied neighbors, and\n",
        "  - an occupied node becomes free if it has 4 or more occupied neighbors.\n",
        "\n",
        "- Part 2: The evolution rule is modified in two ways:\n",
        "  - For each of the 8 neighbor directions, the neighbor is defined as the first node along that direction.\n",
        "  - An occupied node becomes free if it has 5 or more occupied neighbors."
      ]
    },
    {
      "cell_type": "code",
      "metadata": {
        "id": "Bg_kB1f1-bzv",
        "colab": {
          "base_uri": "https://localhost:8080/",
          "height": 302
        },
        "outputId": "a551db85-e59c-4d7c-aa68-b0a7f0e6b37e"
      },
      "source": [
        "puzzle = advent.puzzle(day=11)"
      ],
      "execution_count": 470,
      "outputs": [
        {
          "output_type": "display_data",
          "data": {
            "text/markdown": "For [day 11](https://adventofcode.com/2020/day/11), `puzzle.input` has 99 lines:",
            "text/plain": [
              "<IPython.core.display.Markdown object>"
            ]
          },
          "metadata": {}
        },
        {
          "output_type": "stream",
          "name": "stdout",
          "text": [
            "LLLLLLLLLL.LLLLLL.LLLLLLLLLLLL.LL.LLLL.LLLLL.LLLLLLL.LLLLLL.LLLLLL.LLLLLL.LLLLLLLLLLLLLLLLLL\n",
            "LLLLLLLLLLLLLLLLLLLLLLLLLLLLLL.LLLLLLL.LLLLL.LLLLLLL.LLLLLLLLLLLLL.LLLL.L.LLLLLLLLLL.LLLLLLL\n",
            "LLLLLLLLLL.LLLLLL.LLLLLL.LLLLL.LLLLLLLLLLLLLLLLLLLLL.LLLLLL..LLLLL.LLLLLL.LLLLLL.LLLLLLLLLLL\n",
            "LLLLLLLLLL.LLLLLLLLLLLLL.LL.LL.LLLLL.L.LLLLL.LLLLLLL.LLLLLL.LLLLLLLLLLLLL.LLLLLLLLLLLLLLLLLL\n",
            "LLLLLLLLLLLLLLLLL.LLLLLL.LLLLLLLLLLLLLLLLLLL.LLLLLLL.LLL.LL.LLLLLL.LLLLLL.LLLLLLLLLLLLLLLLLL\n",
            "LLLLLLLLLLLLLLLLL.LLLLLL.LLLLL.LLLLLLL.LLL.L.LLLLLLLLLLLLLLLLLLLLLLLLLLLL.LLLLLL.LLLLLLLL.LL\n",
            "LLLLLLLLLLLLLLLLL.LLLLLLLLLL.LLLLLLLLL.LLLLL.LLLLLLL.LLLL.L.LLLLLLLLLLLLL.LLLLLLLLLLLLLLLLLL\n",
            ".L.LL...LLLL.......L....L.LLLLLL.......LL....LL...L..L.LLL...LLL..L.L.L.L..L...............L\n",
            " ...\n",
            "LLLLLLLLLL.LLLLLL.LLLLLL.LLLLL.LLLLL.L.LLLLLLLLLLLLL.LL.LLLLL.LLLL.LLLLLL.LLLLLLLLLL.LLLLLLL\n",
            "LLLLLLLLLLLLLLLLL.LLLLLL.LLLLL.LLLLLLL.LLLLL..LLLLLL.LLLLLL.LLLLLL.LLLLLL.LLLLLL.LLLLLLLLLLL\n",
            "LLLLLLLLLL.LLL.LLLLLLLLL.LLLLL.LLLLLLLLLLLL..LLLLLLL.LLLLL..LLLLLL.LLLLLL.LLLLLLLLLLLLLLLLLL\n",
            "LLLLLLLLLLLLLLLLL.LLLLLL.LLLLL.LLLLLLL.LLLLLLLLLLLLL.LLLLLL.LLLLLL.LL.LLLLLLLLLL.LLLLLLLLLLL\n"
          ]
        },
        {
          "output_type": "display_data",
          "data": {
            "text/markdown": "The stored answers are: `{1: '2359', 2: '2131'}`",
            "text/plain": [
              "<IPython.core.display.Markdown object>"
            ]
          },
          "metadata": {}
        }
      ]
    },
    {
      "cell_type": "code",
      "metadata": {
        "colab": {
          "base_uri": "https://localhost:8080/",
          "height": 294
        },
        "id": "Gf0NHrYxc083",
        "outputId": "efec57d2-7456-460f-8332-b94194faa9c7"
      },
      "source": [
        "media.show_image(grid_from_string(puzzle.input) == 'L', border=True, width=250)"
      ],
      "execution_count": 471,
      "outputs": [
        {
          "output_type": "display_data",
          "data": {
            "text/html": [
              "<table class=\"show_images\" style=\"border-spacing:0px;\"><tr><td style=\"padding:1px;\"><img width=\"250\" height=\"269\" style=\"border:1px solid black; image-rendering:pixelated; object-fit:cover;\" src=\"data:image/png;base64,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\"/></td></tr></table>"
            ],
            "text/plain": [
              "<IPython.core.display.HTML object>"
            ]
          },
          "metadata": {}
        }
      ]
    },
    {
      "cell_type": "code",
      "metadata": {
        "id": "g45k4woQ-bzv"
      },
      "source": [
        "s1 = \"\"\"\n",
        "L.LL.LL.LL\n",
        "LLLLLLL.LL\n",
        "L.L.L..L..\n",
        "LLLL.LL.LL\n",
        "L.LL.LL.LL\n",
        "L.LLLLL.LL\n",
        "..L.L.....\n",
        "LLLLLLLLLL\n",
        "L.LLLLLL.L\n",
        "L.LLLLL.LL\n",
        "\"\"\""
      ],
      "execution_count": 472,
      "outputs": []
    },
    {
      "cell_type": "code",
      "metadata": {
        "id": "SGQVf-0Gzqsh"
      },
      "source": [
        "# Relatively fast non-numba solution, which maintains neighbor counts.\n",
        "# It becomes faster with numba enabled, but not as fast as the next solution.\n",
        "\n",
        "def process1(s, part2=False):\n",
        "  # -1 is EMPTY, 0..8 is FREE+neighbor_count, 10..18 is OCCUPIED+neighbor_count\n",
        "  int_from_ch = {'.': -1, 'L': 0, '#': 10}\n",
        "  grid = grid_from_string(s, int_from_ch)\n",
        "  # Surprisingly, the default array dtype (here, np.int64) is the fastest.\n",
        "  shape = grid.shape\n",
        "  NEIGHBORS = tuple(set(itertools.product((-1, 0, 1), repeat=2)) - {(0, 0)})\n",
        "\n",
        "  def evolve(grid):\n",
        "\n",
        "    def impact_neighbor_counts(y0, x0, delta):\n",
        "      for dy, dx in NEIGHBORS:\n",
        "        y, x = y0 + dy, x0 + dx\n",
        "        while 0 <= y < shape[0] and 0 <= x < shape[1]:\n",
        "          if not part2 or grid[y, x] >= 0:\n",
        "            if grid[y, x] >= 0:\n",
        "              grid[y, x] += delta\n",
        "            break\n",
        "          y, x = y + dy, x + dx\n",
        "\n",
        "    # print('num_occupied', np.count_nonzero(grid >= 10))\n",
        "    prev = grid.copy()\n",
        "    for y in range(shape[0]):\n",
        "      for x in range(shape[1]):\n",
        "        if prev[y, x] == 0:  # FREE with zero occupied neighbors\n",
        "          grid[y, x] += 10\n",
        "          impact_neighbor_counts(y, x, +1)\n",
        "        elif prev[y, x] >= (15 if part2 else 14):  # OCCUPIED, >= 5 or 4 neighb\n",
        "          grid[y, x] -= 10\n",
        "          impact_neighbor_counts(y, x, -1)\n",
        "    return np.any(grid != prev)\n",
        "\n",
        "  while evolve(grid):\n",
        "    pass\n",
        "\n",
        "  return np.count_nonzero(grid >= 10)\n",
        "\n",
        "\n",
        "check_eq(process1(s1), 37)\n",
        "process2 = functools.partial(process1, part2=True)\n",
        "check_eq(process2(s1), 26)\n",
        "\n",
        "if 'numba' not in globals():  # Best non-numba solutions.\n",
        "  puzzle.verify(1, process1)  # ~2.5 s\n",
        "  puzzle.verify(2, process2)  # ~5.8 s"
      ],
      "execution_count": 473,
      "outputs": []
    },
    {
      "cell_type": "code",
      "source": [
        "# More naive solution, but faster when using numba.\n",
        "def process1(s, part2=False, return_video=False):\n",
        "  int_from_ch = {'.': 0, 'L': 1, '#': 2}\n",
        "  grid = grid_from_string(s, int_from_ch)\n",
        "  neighbors = tuple(set(itertools.product((-1, 0, 1), repeat=2)) - {(0, 0)})\n",
        "  EMPTY, FREE, OCCUPIED = 0, 1, 2\n",
        "\n",
        "  @numba_njit(cache=True, parallel=True)\n",
        "  def evolve(grid, neighbors, part2):\n",
        "    shape = grid.shape\n",
        "\n",
        "    def count_occupied_neighbors(grid, y0, x0, only_adjacent):\n",
        "      count = 0\n",
        "      for dy, dx in neighbors:\n",
        "        y, x = y0 + dy, x0 + dx\n",
        "        while 0 <= y < shape[0] and 0 <= x < shape[1]:\n",
        "          if grid[y, x] != EMPTY or only_adjacent:\n",
        "            count += grid[y, x] == OCCUPIED\n",
        "            break\n",
        "          y, x = y + dy, x + dx\n",
        "      return count\n",
        "\n",
        "    prev = grid.copy()\n",
        "    for y in range(shape[0]):\n",
        "      for x in range(shape[1]):\n",
        "        num_occupied = count_occupied_neighbors(prev, y, x, not part2)\n",
        "        if prev[y, x] == FREE and num_occupied == 0:\n",
        "          grid[y, x] = OCCUPIED\n",
        "        elif prev[y, x] == OCCUPIED and num_occupied >= (5 if part2 else 4):\n",
        "          grid[y, x] = FREE\n",
        "    return not np.all(grid == prev)\n",
        "\n",
        "  images = []\n",
        "  while evolve(grid, neighbors, part2):\n",
        "    if return_video:\n",
        "      images.append(grid == OCCUPIED)\n",
        "\n",
        "  if return_video:\n",
        "    # We view only the even-numbered frames to avoid flashing on/off.\n",
        "    images = [images[0]] * 10 + images[::2] + [images[-1]] * 10\n",
        "    return images\n",
        "  else:\n",
        "    return np.count_nonzero(grid == OCCUPIED)\n",
        "\n",
        "\n",
        "check_eq(process1(s1), 37)\n",
        "process2 = functools.partial(process1, part2=True)\n",
        "check_eq(process2(s1), 26)\n",
        "\n",
        "if 'numba' in globals():\n",
        "  puzzle.verify(1, process1)  # ~32 ms with numba; ~24 s without numba.\n",
        "  puzzle.verify(2, process2)  # ~49 ms with numba; ~27 s without numba.\n",
        "  if media.video_is_available():\n",
        "    videos = {\n",
        "        'Part 1': process1(puzzle.input, return_video=True),\n",
        "        'Part 2': process2(puzzle.input, return_video=True),\n",
        "    }\n",
        "    media.show_videos(videos, codec='gif', fps=10, border=True, height=250)\n",
        "    del videos"
      ],
      "metadata": {
        "colab": {
          "base_uri": "https://localhost:8080/",
          "height": 328
        },
        "id": "gaxSHhV8a0i3",
        "outputId": "b22b2e2d-805b-4814-ab72-4f0c14548ec8"
      },
      "execution_count": 475,
      "outputs": [
        {
          "output_type": "stream",
          "name": "stdout",
          "text": [
            "(Part 1: 0.037 s)\n",
            "(Part 2: 0.049 s)\n"
          ]
        },
        {
          "output_type": "display_data",
          "data": {
            "text/html": [
              "<table class=\"show_videos\" style=\"border-spacing:0px;\"><tr><td style=\"padding:1px;\"><div style=\"display:flex; align-items:left;\">\n",
              "      <div style=\"display:flex; flex-direction:column; align-items:center;\">\n",
              "      <div>Part 1</div><div><img width=\"232\" height=\"250\" style=\"border:1px solid black; image-rendering:pixelated; object-fit:cover;\" src=\"data:image/gif;base64,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\"/></div></div></div></td><td style=\"padding:1px;\"><div style=\"display:flex; align-items:left;\">\n",
              "      <div style=\"display:flex; flex-direction:column; align-items:center;\">\n",
              "      <div>Part 2</div><div><img width=\"232\" height=\"250\" style=\"border:1px solid black; image-rendering:pixelated; object-fit:cover;\" src=\"data:image/gif;base64,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\"/></div></div></div></td></tr></table>"
            ],
            "text/plain": [
              "<IPython.core.display.HTML object>"
            ]
          },
          "metadata": {}
        }
      ]
    },
    {
      "cell_type": "markdown",
      "metadata": {
        "id": "c8pMKkP_-cCX"
      },
      "source": [
        "<a name=\"day12\"></a>\n",
        "## Day 12: Ship and waypoint navigation"
      ]
    },
    {
      "cell_type": "markdown",
      "metadata": {
        "id": "dSWqYoVvv1yv"
      },
      "source": [
        "Given a list of instructions (a translation direction `N|S|E|W` and magnitude, a rotation `L|R` and angle (positive multiple of 90 degrees), or a forward directive `F` and value), update a ship's position and orientation in a 2D domain.\n",
        "\n",
        "- Part 1: The translation, rotation, and forward instructions directly modify the ship's state.  After applying all instructions, report the Manhattan distance of the ship's position from its start.\n",
        "\n",
        "- Part 2: The translation and rotation instructions modify a vector waypoint (initially 10 units east and 1 unit north of ship) relative to the ship position.  The forward instruction translates the ship position by the vector waypoint times the forward value.  Again report the final Manhattan distance of the ship from its start."
      ]
    },
    {
      "cell_type": "code",
      "metadata": {
        "id": "H_APDCbQ-cCX",
        "colab": {
          "base_uri": "https://localhost:8080/",
          "height": 302
        },
        "outputId": "143f25bd-c9ef-4856-f943-ee2a4efc16da"
      },
      "source": [
        "puzzle = advent.puzzle(day=12)"
      ],
      "execution_count": 234,
      "outputs": [
        {
          "output_type": "display_data",
          "data": {
            "text/markdown": "For [day 12](https://adventofcode.com/2020/day/12), `puzzle.input` has 773 lines:",
            "text/plain": [
              "<IPython.core.display.Markdown object>"
            ]
          },
          "metadata": {}
        },
        {
          "output_type": "stream",
          "name": "stdout",
          "text": [
            "W5\n",
            "F63\n",
            "S1\n",
            "L90\n",
            "F89\n",
            "W4\n",
            "F45\n",
            "W4\n",
            " ...\n",
            "L90\n",
            "F94\n",
            "L90\n",
            "F13\n"
          ]
        },
        {
          "output_type": "display_data",
          "data": {
            "text/markdown": "The stored answers are: `{1: '1221', 2: '59435'}`",
            "text/plain": [
              "<IPython.core.display.Markdown object>"
            ]
          },
          "metadata": {}
        }
      ]
    },
    {
      "cell_type": "code",
      "metadata": {
        "id": "O56VlIAv-cCX"
      },
      "source": [
        "s1 = \"\"\"\n",
        "F10\n",
        "N3\n",
        "F7\n",
        "R90\n",
        "F11\n",
        "\"\"\""
      ],
      "execution_count": 235,
      "outputs": []
    },
    {
      "cell_type": "code",
      "metadata": {
        "id": "IDRi_D9_dck3",
        "colab": {
          "base_uri": "https://localhost:8080/"
        },
        "outputId": "c2e3848b-158f-4d37-faba-42d7c9e31641"
      },
      "source": [
        "def process1(s):\n",
        "  y, x = 0, 0\n",
        "  dy, dx = 0, 1  # east\n",
        "\n",
        "  for instruction in s.split():\n",
        "    action, value = instruction[:1], int(instruction[1:])\n",
        "    if action == 'N':\n",
        "      y -= value\n",
        "    elif action == 'S':\n",
        "      y += value\n",
        "    elif action == 'E':\n",
        "      x += value\n",
        "    elif action == 'W':\n",
        "      x -= value\n",
        "    elif action == 'L':\n",
        "      while value:\n",
        "        dy, dx = -dx, +dy\n",
        "        value -= 90\n",
        "    elif action == 'R':\n",
        "      while value:\n",
        "        dy, dx = +dx, -dy\n",
        "        value -= 90\n",
        "    elif action == 'F':\n",
        "      y, x = y + dy * value, x + dx * value\n",
        "  return abs(y) + abs(x)\n",
        "\n",
        "\n",
        "check_eq(process1(s1), 25)\n",
        "puzzle.verify(1, process1)  # ~1 ms."
      ],
      "execution_count": 239,
      "outputs": [
        {
          "output_type": "stream",
          "name": "stdout",
          "text": [
            "(Part 1: 0.001 s)\n"
          ]
        }
      ]
    },
    {
      "cell_type": "code",
      "metadata": {
        "id": "Yb-NG3la-cCX",
        "colab": {
          "base_uri": "https://localhost:8080/"
        },
        "outputId": "c07d7688-277c-4510-901f-015afc3f11f7"
      },
      "source": [
        "def process2(s):\n",
        "  ship_y, ship_x = 0, 0\n",
        "  # waypoint is relative to the ship\n",
        "  waypoint_y, waypoint_x = -1, 10  # 10 units east and 1 unit north of ship\n",
        "\n",
        "  for instruction in s.split():\n",
        "    action, value = instruction[:1], int(instruction[1:])\n",
        "    if action == 'N':\n",
        "      waypoint_y -= value\n",
        "    elif action == 'S':\n",
        "      waypoint_y += value\n",
        "    elif action == 'E':\n",
        "      waypoint_x += value\n",
        "    elif action == 'W':\n",
        "      waypoint_x -= value\n",
        "    elif action == 'L':\n",
        "      while value:\n",
        "        waypoint_y, waypoint_x = -waypoint_x, +waypoint_y\n",
        "        value -= 90\n",
        "    elif action == 'R':\n",
        "      while value:\n",
        "        waypoint_y, waypoint_x = +waypoint_x, -waypoint_y\n",
        "        value -= 90\n",
        "    elif action == 'F':\n",
        "      ship_y += waypoint_y * value\n",
        "      ship_x += waypoint_x * value\n",
        "  return abs(ship_y) + abs(ship_x)\n",
        "\n",
        "\n",
        "check_eq(process2(s1), 286)\n",
        "puzzle.verify(2, process2)  # ~1 ms."
      ],
      "execution_count": 241,
      "outputs": [
        {
          "output_type": "stream",
          "name": "stdout",
          "text": [
            "(Part 2: 0.002 s)\n"
          ]
        }
      ]
    },
    {
      "cell_type": "markdown",
      "metadata": {
        "id": "-HvKXDFB-cQn"
      },
      "source": [
        "<a name=\"day13\"></a>\n",
        "## Day 13: Buses modulo schedule"
      ]
    },
    {
      "cell_type": "markdown",
      "metadata": {
        "id": "09sjifmfzSNN"
      },
      "source": [
        "Given a sequence of buses with different departure periods, all starting at time 0, with some buses out-of-service, find some earliest time satisfying a condition.\n",
        "\n",
        "- Part 1: Given also an earliest time, find the first bus that departs on or after that time.  Report the wait time multiplied by the bus period.\n",
        "\n",
        "- Part 2: Find the earliest time such that the first bus in the sequence departs at that time and each subsequent listed bus departs at the subsequent time if the bus is in service."
      ]
    },
    {
      "cell_type": "code",
      "metadata": {
        "id": "FBdUu1Hp-cQn",
        "colab": {
          "base_uri": "https://localhost:8080/",
          "height": 110
        },
        "outputId": "1dc04d91-aec6-4bd0-c3bb-49347e98a19e"
      },
      "source": [
        "puzzle = advent.puzzle(day=13)"
      ],
      "execution_count": 242,
      "outputs": [
        {
          "output_type": "display_data",
          "data": {
            "text/markdown": "For [day 13](https://adventofcode.com/2020/day/13), `puzzle.input` has 2 lines:",
            "text/plain": [
              "<IPython.core.display.Markdown object>"
            ]
          },
          "metadata": {}
        },
        {
          "output_type": "stream",
          "name": "stdout",
          "text": [
            "1000299\n",
            "41,x,x,x,x,x,x,x,x,x,x,x,x,x,x,x,x,x,x,x,x,x,x,x,x,x,x,x,x,x,x,x,x,x,x,37,x,x,x, ... ,x,x,x,x,x,x,x,x,x,x,x,x,x,x,x,x,19\n"
          ]
        },
        {
          "output_type": "display_data",
          "data": {
            "text/markdown": "The stored answers are: `{1: '156', 2: '404517869995362'}`",
            "text/plain": [
              "<IPython.core.display.Markdown object>"
            ]
          },
          "metadata": {}
        }
      ]
    },
    {
      "cell_type": "code",
      "metadata": {
        "id": "WRqYtN1B-cQn"
      },
      "source": [
        "s1 = \"\"\"\n",
        "939\n",
        "7,13,x,x,59,x,31,19\n",
        "\"\"\""
      ],
      "execution_count": 243,
      "outputs": []
    },
    {
      "cell_type": "code",
      "metadata": {
        "id": "c71ttBaQmrQa",
        "colab": {
          "base_uri": "https://localhost:8080/"
        },
        "outputId": "6a17f322-3ec2-4477-c434-886c100fb339"
      },
      "source": [
        "def process1(s):\n",
        "  lines = s.strip('\\n').splitlines()\n",
        "  earliest_time = int(lines[0])\n",
        "  buses = [int(e) for e in lines[1].split(',') if e != 'x']\n",
        "  next_times = [math.ceil(earliest_time / bus) * bus for bus in buses]\n",
        "  min_time, min_bus = min(zip(next_times, buses))\n",
        "  return (min_time - earliest_time) * min_bus\n",
        "\n",
        "\n",
        "check_eq(process1(s1), 295)\n",
        "puzzle.verify(1, process1)  # ~0 ms."
      ],
      "execution_count": 244,
      "outputs": [
        {
          "output_type": "stream",
          "name": "stdout",
          "text": [
            "(Part 1: 0.000 s)\n"
          ]
        }
      ]
    },
    {
      "cell_type": "markdown",
      "metadata": {
        "id": "jhovcZWiHzy1"
      },
      "source": [
        "Part 2"
      ]
    },
    {
      "cell_type": "code",
      "metadata": {
        "id": "TlX1RY4QH2fF"
      },
      "source": [
        "def extended_gcd(a: int, b: int) -> Tuple[int, int, int]:\n",
        "  \"\"\"Finds the greatest common divisor using the extended Euclidean algorithm.\n",
        "\n",
        "  Returns:\n",
        "    (gcd(a, b), x, y) with the property that a * x + b * y = gcd(a, b).\n",
        "\n",
        "  >>> extended_gcd(29, 71)\n",
        "  (1, -22, 9)\n",
        "  >>> (29 * -22) % 71\n",
        "  1\n",
        "  \"\"\"\n",
        "  prev_x, x = 1, 0\n",
        "  prev_y, y = 0, 1\n",
        "  while b:\n",
        "    q = a // b\n",
        "    x, prev_x = prev_x - q * x, x\n",
        "    y, prev_y = prev_y - q * y, y\n",
        "    a, b = b, a % b\n",
        "  x, y = prev_x, prev_y\n",
        "  return a, x, y"
      ],
      "execution_count": 245,
      "outputs": []
    },
    {
      "cell_type": "code",
      "metadata": {
        "id": "Pld6pnB36hUI"
      },
      "source": [
        "# Let each bus be represented by its period b_i and desired remainder r_i.\n",
        "\n",
        "# Given [(b_i, r_i)], where b_i are coprime, we seek x such that\n",
        "#  x % b_i = r_i  for all i,  where r_i = -i % b_i\n",
        "# We can work by reduction, merging pairs of buses.\n",
        "\n",
        "# Given a pair of buses (b1, r1) and (b2, r2),\n",
        "# we want to find a new equivalent bus (b1 * b2, r) such that\n",
        "#  0 <= r < b1 * b2\n",
        "#  r % b1 = r1\n",
        "#  r % b2 = r2\n",
        "# We can apply the Chinese remainder theorem using the extended GCD algorithm."
      ],
      "execution_count": 246,
      "outputs": []
    },
    {
      "cell_type": "code",
      "metadata": {
        "id": "DRfWcZ7--cQn",
        "colab": {
          "base_uri": "https://localhost:8080/"
        },
        "outputId": "1665276d-2531-4d6f-97e1-6f198f62efbc"
      },
      "source": [
        "def process2(s):\n",
        "  s = s.strip('\\n').splitlines()[-1]\n",
        "  buses = [int(e) for e in s.replace('x', '1').split(',')]\n",
        "  check_eq(np.lcm.reduce(buses), np.prod(buses))  # verify all coprime\n",
        "  bus_remainders = [(bus, -i % bus) for i, bus in enumerate(buses) if bus > 1]\n",
        "\n",
        "  def merge_buses(bus1, bus2):\n",
        "    (b1, r1), (b2, r2) = bus1, bus2\n",
        "    # https://en.wikipedia.org/wiki/Chinese_remainder_theorem\n",
        "    _, x, y = extended_gcd(b1, b2)\n",
        "    return b1 * b2, (r1 * y * b2 + r2 * x * b1) % (b1 * b2)\n",
        "\n",
        "  _, r = functools.reduce(merge_buses, bus_remainders)\n",
        "  return r\n",
        "\n",
        "\n",
        "check_eq(process2(s1.strip('\\n').splitlines()[1]), 1068781)\n",
        "check_eq(process2('17,x,13,19'), 3417)\n",
        "check_eq(process2('67,7,59,61'), 754018)\n",
        "check_eq(process2('67,x,7,59,61'), 779210)\n",
        "check_eq(process2('67,7,x,59,61'), 1261476)\n",
        "check_eq(process2('1789,37,47,1889'), 1202161486)\n",
        "puzzle.verify(2, process2)  # ~0 ms."
      ],
      "execution_count": 247,
      "outputs": [
        {
          "output_type": "stream",
          "name": "stdout",
          "text": [
            "(Part 2: 0.000 s)\n"
          ]
        }
      ]
    },
    {
      "cell_type": "markdown",
      "metadata": {
        "id": "lUkb6kzu-cfU"
      },
      "source": [
        "<a name=\"day14\"></a>\n",
        "## Day 14: Write masked values to mem"
      ]
    },
    {
      "cell_type": "markdown",
      "metadata": {
        "id": "0Tqy8_ThJoFM"
      },
      "source": [
        "Process a sequence of instructions, each specifying either a bitmask (where each location contains `0`, `1`, or `X`) or the writing of a value to a memory address, and report the sum of the resulting memory contents.\n",
        "\n",
        "- Part 1: The bitmask is applied to the value written to memory, such that `0` and `1` replace the corresponding bit in the value and `X` leaves it unchanged.\n",
        "\n",
        "- Part 2: The bitmask is applied to the address used to write the value to memory, such that `1` replaces the corresponding bit in the address and `X` indicates a wildcard.  The value is written to all memory addresses satisfying the wildcard."
      ]
    },
    {
      "cell_type": "code",
      "metadata": {
        "id": "iyX9MORD-cfU",
        "colab": {
          "base_uri": "https://localhost:8080/",
          "height": 302
        },
        "outputId": "d16b8635-03d7-478c-b65d-c4f9ef5b7d2f"
      },
      "source": [
        "puzzle = advent.puzzle(day=14)"
      ],
      "execution_count": 248,
      "outputs": [
        {
          "output_type": "display_data",
          "data": {
            "text/markdown": "For [day 14](https://adventofcode.com/2020/day/14), `puzzle.input` has 570 lines:",
            "text/plain": [
              "<IPython.core.display.Markdown object>"
            ]
          },
          "metadata": {}
        },
        {
          "output_type": "stream",
          "name": "stdout",
          "text": [
            "mask = 0111X10100100X1111X10010X000X1000001\n",
            "mem[50907] = 468673978\n",
            "mem[22295] = 3337449\n",
            "mem[58474] = 56418393\n",
            "mem[15362] = 243184\n",
            "mem[65089] = 110688658\n",
            "mask = 010X010XX110X01X01X10X001001011X110X\n",
            "mem[21952] = 950257\n",
            " ...\n",
            "mem[13666] = 52961\n",
            "mem[7377] = 134144120\n",
            "mem[58224] = 211536\n",
            "mem[36878] = 173058887\n"
          ]
        },
        {
          "output_type": "display_data",
          "data": {
            "text/markdown": "The stored answers are: `{1: '9628746976360', 2: '4574598714592'}`",
            "text/plain": [
              "<IPython.core.display.Markdown object>"
            ]
          },
          "metadata": {}
        }
      ]
    },
    {
      "cell_type": "code",
      "metadata": {
        "id": "AGItl2WT-cfU"
      },
      "source": [
        "s1 = \"\"\"\n",
        "mask = XXXXXXXXXXXXXXXXXXXXXXXXXXXXX1XXXX0X\n",
        "mem[8] = 11\n",
        "mem[7] = 101\n",
        "mem[8] = 0\n",
        "\"\"\""
      ],
      "execution_count": 249,
      "outputs": []
    },
    {
      "cell_type": "code",
      "metadata": {
        "id": "qX8Tq_mX9T0S"
      },
      "source": [
        "s2 = \"\"\"\n",
        "mask = 000000000000000000000000000000X1001X\n",
        "mem[42] = 100\n",
        "mask = 00000000000000000000000000000000X0XX\n",
        "mem[26] = 1\n",
        "\"\"\""
      ],
      "execution_count": 250,
      "outputs": []
    },
    {
      "cell_type": "code",
      "source": [
        "def process1(s, part2=False):\n",
        "  mem = {}\n",
        "  extract_0 = str.maketrans('01X', '100')\n",
        "  extract_1 = str.maketrans('01X', '010')\n",
        "  extract_x = str.maketrans('01X', '001')\n",
        "  for line in s.strip('\\n').splitlines():\n",
        "    if line.startswith('mask'):\n",
        "      mask = line.split(' = ')[1]\n",
        "      if not part2:\n",
        "        mask_force_0 = int(mask.translate(extract_0), base=2)\n",
        "        mask_force_1 = int(mask.translate(extract_1), base=2)\n",
        "      else:\n",
        "        mask_force_1 = int(mask.translate(extract_1), base=2)\n",
        "        mask_not_x = ~int(mask.translate(extract_x), base=2)\n",
        "        offsets = [0]\n",
        "        for wildcard in (1 << i for i in range(36) if mask[35 - i] == 'X'):\n",
        "          offsets += [offset + wildcard for offset in offsets]\n",
        "    else:\n",
        "      address, value = map(\n",
        "          int, re.fullmatch(r'mem\\[(\\d+)\\] = (\\d+)', line).groups())\n",
        "      if not part2:\n",
        "        mem[address] = (value | mask_force_1) & ~mask_force_0\n",
        "      else:\n",
        "        address = (address & mask_not_x) | mask_force_1\n",
        "        for offset in offsets:\n",
        "          mem[address + offset] = value\n",
        "  return sum(mem.values())\n",
        "\n",
        "\n",
        "check_eq(process1(s1), 165)\n",
        "puzzle.verify(1, process1)  # ~1 ms.\n",
        "\n",
        "process2 = functools.partial(process1, part2=True)\n",
        "check_eq(process2(s2), 208)\n",
        "puzzle.verify(2, process2)  # ~22 ms."
      ],
      "metadata": {
        "colab": {
          "base_uri": "https://localhost:8080/"
        },
        "id": "tOdJIVsnHvoJ",
        "outputId": "254bdd15-a6ea-47f1-b0da-f4e9f1859cb8"
      },
      "execution_count": 260,
      "outputs": [
        {
          "output_type": "stream",
          "name": "stdout",
          "text": [
            "(Part 1: 0.001 s)\n",
            "(Part 2: 0.022 s)\n"
          ]
        }
      ]
    },
    {
      "cell_type": "markdown",
      "metadata": {
        "id": "0gjk1fsn-cvQ"
      },
      "source": [
        "<a name=\"day15\"></a>\n",
        "## Day 15: Rounds of spoken numbers"
      ]
    },
    {
      "cell_type": "markdown",
      "metadata": {
        "id": "QIsZ5G3POltD"
      },
      "source": [
        "Given an initial sequence of numbers indexed starting at `1`, continue the sequence as follows.\n",
        "\n",
        "The number at index `i` is either\n",
        "  * `0` if the numer at index `i - 1` was not previously seen, or\n",
        "  * `i - 1 - j` if the number at index `i - 1` was previously seen at index `j`.\n",
        "\n",
        "- Part 1: Report the number at index `2020`.\n",
        "\n",
        "- Part 2: Report the number at index `30_000_000`."
      ]
    },
    {
      "cell_type": "code",
      "metadata": {
        "id": "anebyn3p-cvQ",
        "colab": {
          "base_uri": "https://localhost:8080/",
          "height": 93
        },
        "outputId": "442400be-ef3a-4193-89b6-ad1775c65d26"
      },
      "source": [
        "puzzle = advent.puzzle(day=15)"
      ],
      "execution_count": 414,
      "outputs": [
        {
          "output_type": "display_data",
          "data": {
            "text/markdown": "For [day 15](https://adventofcode.com/2020/day/15), `puzzle.input` has a single line of 16 characters:",
            "text/plain": [
              "<IPython.core.display.Markdown object>"
            ]
          },
          "metadata": {}
        },
        {
          "output_type": "stream",
          "name": "stdout",
          "text": [
            "9,12,1,4,17,0,18\n"
          ]
        },
        {
          "output_type": "display_data",
          "data": {
            "text/markdown": "The stored answers are: `{1: '610', 2: '1407'}`",
            "text/plain": [
              "<IPython.core.display.Markdown object>"
            ]
          },
          "metadata": {}
        }
      ]
    },
    {
      "cell_type": "code",
      "metadata": {
        "id": "iDVIoKKZ-cvQ"
      },
      "source": [
        "s1 = '0,3,6'"
      ],
      "execution_count": 415,
      "outputs": []
    },
    {
      "cell_type": "code",
      "metadata": {
        "colab": {
          "base_uri": "https://localhost:8080/"
        },
        "id": "3N4q_xR-6_VC",
        "outputId": "095ca89a-623e-4a50-fc0e-ac10b8fe2f7b"
      },
      "source": [
        "def process1(s, num_turns=2020):  # Slow, using dict().\n",
        "  initial_sequence = tuple(map(int, s.split(',')))\n",
        "\n",
        "  def generate_sequence(initial_sequence):\n",
        "    last_turn = {}\n",
        "    for turn, number in enumerate(initial_sequence):\n",
        "      prev_turn = last_turn.get(number, -1)\n",
        "      last_turn[number] = turn\n",
        "      yield number\n",
        "\n",
        "    for turn in itertools.count(len(initial_sequence)):\n",
        "      number = 0 if prev_turn < 0 else turn - 1 - prev_turn\n",
        "      prev_turn = last_turn.get(number, -1)\n",
        "      last_turn[number] = turn\n",
        "      yield number\n",
        "\n",
        "  return next(itertools.islice(generate_sequence(\n",
        "      initial_sequence), num_turns - 1, None))\n",
        "\n",
        "\n",
        "check_eq(process1(s1, num_turns=10), 0)\n",
        "check_eq(process1(s1), 436)\n",
        "check_eq(process1('1,3,2'), 1)\n",
        "check_eq(process1('2,1,3'), 10)\n",
        "check_eq(process1('1,2,3'), 27)\n",
        "check_eq(process1('2,3,1'), 78)\n",
        "check_eq(process1('3,2,1'), 438)\n",
        "check_eq(process1('3,1,2'), 1836)\n",
        "puzzle.verify(1, process1)  # ~1 ms.\n",
        "\n",
        "process2 = functools.partial(process1, num_turns=30_000_000)\n",
        "# puzzle.verify(2, process2)  # ~15 s."
      ],
      "execution_count": 423,
      "outputs": [
        {
          "output_type": "stream",
          "name": "stdout",
          "text": [
            "(Part 1: 0.001 s)\n"
          ]
        }
      ]
    },
    {
      "cell_type": "code",
      "source": [
        "def process1(s, num_turns=2020):  # Faster, using List.\n",
        "\n",
        "  def func(initial_sequence, num_turns):\n",
        "    last_turn = [-1] * num_turns\n",
        "    for turn in range(min(num_turns, len(initial_sequence))):\n",
        "      number = initial_sequence[turn]\n",
        "      prev_turn = last_turn[number]\n",
        "      last_turn[number] = turn\n",
        "\n",
        "    for turn in range(len(initial_sequence), num_turns):\n",
        "      number = 0 if prev_turn < 0 else turn - 1 - prev_turn\n",
        "      prev_turn = last_turn[number]\n",
        "      last_turn[number] = turn\n",
        "\n",
        "    return number\n",
        "\n",
        "  initial_sequence = np.array(tuple(map(int, s.split(','))), dtype=np.int32)\n",
        "  return func(initial_sequence, num_turns)\n",
        "\n",
        "\n",
        "check_eq(process1(s1), 436)\n",
        "puzzle.verify(1, process1)  # ~1 ms.\n",
        "\n",
        "if 'numba' not in globals():\n",
        "  process2 = functools.partial(process1, num_turns=30_000_000)\n",
        "  # check_eq(process2(s1), 175594)  # ~9 s.\n",
        "  puzzle.verify(2, process2)  # ~10 s."
      ],
      "metadata": {
        "colab": {
          "base_uri": "https://localhost:8080/"
        },
        "id": "27rcwAqcAM7w",
        "outputId": "2e5ac768-0b89-4540-fa0d-f246c21530ed"
      },
      "execution_count": 428,
      "outputs": [
        {
          "output_type": "stream",
          "name": "stdout",
          "text": [
            "(Part 1: 0.001 s)\n"
          ]
        }
      ]
    },
    {
      "cell_type": "code",
      "metadata": {
        "colab": {
          "base_uri": "https://localhost:8080/"
        },
        "id": "bMc2h-CKR5Ix",
        "outputId": "0b8f5588-8591-4089-838e-0bc13ffcd28d"
      },
      "source": [
        "def process1(s, num_turns=2020):  # Faster, using np.array and numba.\n",
        "\n",
        "  @numba_njit(cache=True)\n",
        "  def func(initial_sequence, num_turns):\n",
        "    last_turn = np.full(num_turns, -1, dtype=np.int32)\n",
        "    for turn in range(min(num_turns, len(initial_sequence))):\n",
        "      number = initial_sequence[turn]\n",
        "      prev_turn = last_turn[number]\n",
        "      last_turn[number] = turn\n",
        "\n",
        "    for turn in range(len(initial_sequence), num_turns):\n",
        "      number = 0 if prev_turn < 0 else turn - 1 - prev_turn\n",
        "      prev_turn = last_turn[number]\n",
        "      last_turn[number] = turn\n",
        "\n",
        "    return number\n",
        "\n",
        "  initial_sequence = np.array(tuple(map(int, s.split(','))), dtype=np.int32)\n",
        "  return func(initial_sequence, num_turns)\n",
        "\n",
        "\n",
        "check_eq(process1(s1), 436)\n",
        "puzzle.verify(1, process1)  # ~4 ms.\n",
        "\n",
        "if 'numba' in globals():\n",
        "  process2 = functools.partial(process1, num_turns=30_000_000)\n",
        "  check_eq(process2(s1), 175594)  # Run at least once for numba compilation.\n",
        "  if 0:\n",
        "    check_eq(process2('1,3,2'), 2578)\n",
        "    check_eq(process2('2,1,3'), 3544142)\n",
        "    check_eq(process2('1,2,3'), 261214)\n",
        "    check_eq(process2('2,3,1'), 6895259)\n",
        "    check_eq(process2('3,2,1'), 18)\n",
        "    check_eq(process2('3,1,2'), 362)\n",
        "  puzzle.verify(2, process2)  # ~650 ms with numba, ~110 s without numba.\n",
        "  # (Without numba, accessing individual elements is much faster within\n",
        "  # a Python list than within an np.array.)"
      ],
      "execution_count": 433,
      "outputs": [
        {
          "output_type": "stream",
          "name": "stdout",
          "text": [
            "(Part 1: 0.005 s)\n",
            "(Part 2: 0.636 s)\n"
          ]
        }
      ]
    },
    {
      "cell_type": "markdown",
      "metadata": {
        "id": "_eebxbTj-c67"
      },
      "source": [
        "<a name=\"day16\"></a>\n",
        "## Day 16: Match ticket fields and rules"
      ]
    },
    {
      "cell_type": "markdown",
      "metadata": {
        "id": "wFnxm7dzXOie"
      },
      "source": [
        "Given (1) a set of fields with names and rules on possible value ranges, (2) my ticket with unlabled fields, and (3) a set of other tickets with unlabeled fields:\n",
        "\n",
        "- Part 1: Report the number of invalid other tickets, which are those containing a field value that does not satisfy any field rule.\n",
        "\n",
        "- Part 2: Considering the valid other tickets, determine a labeling of the ticket fields that is compatible with the rules.  Report the product of the 6 field values on my ticket whose names start with `departure`."
      ]
    },
    {
      "cell_type": "code",
      "metadata": {
        "id": "LkGzSL1N-c67",
        "colab": {
          "base_uri": "https://localhost:8080/",
          "height": 302
        },
        "outputId": "7d5bb5f5-7800-4f14-dea3-e898ef99e946"
      },
      "source": [
        "puzzle = advent.puzzle(day=16)"
      ],
      "execution_count": 277,
      "outputs": [
        {
          "output_type": "display_data",
          "data": {
            "text/markdown": "For [day 16](https://adventofcode.com/2020/day/16), `puzzle.input` has 268 lines:",
            "text/plain": [
              "<IPython.core.display.Markdown object>"
            ]
          },
          "metadata": {}
        },
        {
          "output_type": "stream",
          "name": "stdout",
          "text": [
            "departure location: 33-679 or 691-971\n",
            "departure station: 48-646 or 671-966\n",
            "departure platform: 37-601 or 619-950\n",
            "departure track: 41-863 or 875-973\n",
            "departure date: 37-145 or 168-965\n",
            "departure time: 26-246 or 257-972\n",
            "arrival location: 30-542 or 556-960\n",
            "arrival station: 30-75 or 89-954\n",
            " ...\n",
            "845,453,939,349,884,940,0,621,933,188,73,204,440,918,207,671,629,735,487,627\n",
            "879,694,125,501,580,274,451,885,834,397,146,104,185,173,528,717,590,412,350,936\n",
            "944,91,450,631,262,501,196,401,199,946,105,236,634,765,66,385,582,437,262,581\n",
            "924,594,156,702,128,858,133,695,140,486,399,534,115,627,748,560,518,700,883,206\n"
          ]
        },
        {
          "output_type": "display_data",
          "data": {
            "text/markdown": "The stored answers are: `{1: '29878', 2: '855438643439'}`",
            "text/plain": [
              "<IPython.core.display.Markdown object>"
            ]
          },
          "metadata": {}
        }
      ]
    },
    {
      "cell_type": "code",
      "metadata": {
        "id": "YNVRZNVO-c67",
        "colab": {
          "base_uri": "https://localhost:8080/"
        },
        "cellView": "form",
        "outputId": "2860c1f7-b228-460b-c8c5-cc1ece91d0f5"
      },
      "source": [
        "#@title\n",
        "print('Let s1, s2 be test inputs.')\n",
        "\n",
        "s1 = \"\"\"\n",
        "class: 1-3 or 5-7\n",
        "row: 6-11 or 33-44\n",
        "seat: 13-40 or 45-50\n",
        "\n",
        "your ticket:\n",
        "7,1,14\n",
        "\n",
        "nearby tickets:\n",
        "7,3,47\n",
        "40,4,50\n",
        "55,2,20\n",
        "38,6,12\n",
        "\"\"\"\n",
        "\n",
        "s2 = \"\"\"\n",
        "class: 0-1 or 4-19\n",
        "row: 0-5 or 8-19\n",
        "seat: 0-13 or 16-19\n",
        "\n",
        "your ticket:\n",
        "11,12,13\n",
        "\n",
        "nearby tickets:\n",
        "3,9,18\n",
        "15,1,5\n",
        "5,14,9\n",
        "\"\"\""
      ],
      "execution_count": 278,
      "outputs": [
        {
          "output_type": "stream",
          "name": "stdout",
          "text": [
            "Let s1, s2 be test inputs.\n"
          ]
        }
      ]
    },
    {
      "cell_type": "code",
      "metadata": {
        "id": "6KwUNK8O6WN-",
        "colab": {
          "base_uri": "https://localhost:8080/"
        },
        "outputId": "459091f9-ebd9-4958-916a-f459b10add3e"
      },
      "source": [
        "def process1(s, part2=False):\n",
        "\n",
        "  def read_rules_and_tickets(s):\n",
        "    s_rules, s_my_ticket, s_nearby = s.strip('\\n').split('\\n\\n')\n",
        "\n",
        "    def read_rules():\n",
        "      for line in s_rules.splitlines():\n",
        "        name, ranges = line.split(': ')\n",
        "        ranges = ranges.split(' or ')\n",
        "        yield (name, [tuple(map(int, range.split('-'))) for range in ranges])\n",
        "\n",
        "    line, = s_my_ticket.splitlines()[1:]\n",
        "    my_ticket = list(map(int, line.split(',')))\n",
        "\n",
        "    def read_tickets():\n",
        "      for line in s_nearby.splitlines()[1:]:\n",
        "        fields = list(map(int, line.split(',')))\n",
        "        yield fields\n",
        "\n",
        "    return read_rules, my_ticket, read_tickets\n",
        "\n",
        "  def value_ok_for_some_rule(value, rules):\n",
        "    return any(range[0] <= value <= range[1]\n",
        "              for ranges in rules.values() for range in ranges)\n",
        "\n",
        "  read_rules, my_ticket, read_tickets = read_rules_and_tickets(s)\n",
        "  rules = dict(read_rules())\n",
        "\n",
        "  if not part2:\n",
        "    return sum(value for fields in read_tickets() for value in fields\n",
        "               if not value_ok_for_some_rule(value, rules))\n",
        "\n",
        "  valid_tickets = [\n",
        "      fields for fields in read_tickets()\n",
        "      if all(value_ok_for_some_rule(value, rules) for value in fields)\n",
        "  ]\n",
        "  num_rules, num_fields = len(rules), len(valid_tickets[0])\n",
        "  check_eq(num_rules, num_fields)\n",
        "\n",
        "  def is_compatible(rule, field_index):\n",
        "    ranges = rules[rule]\n",
        "    return all(\n",
        "        any(range[0] <= ticket[field_index] <= range[1] for range in ranges)\n",
        "        for ticket in valid_tickets\n",
        "    )\n",
        "\n",
        "  grid = np.empty((num_rules, num_fields), dtype=np.bool)\n",
        "  # Computational bottleneck; could let rules.values() be array and use numba.\n",
        "  for rule_index, rule in enumerate(rules):\n",
        "    for field_index in range(num_fields):\n",
        "      grid[rule_index, field_index] = is_compatible(rule, field_index)\n",
        "\n",
        "  column_of_rule = {}\n",
        "  row_sums = grid.sum(axis=1)\n",
        "  while row_sums.any():\n",
        "    row = np.nonzero(row_sums == 1)[0][0]\n",
        "    col = np.nonzero(grid[row] == 1)[0][0]\n",
        "    rule = list(rules)[row]\n",
        "    column_of_rule[rule] = col\n",
        "    row_sums -= grid[:, col]\n",
        "    grid[:, col] = 0\n",
        "  values = [my_ticket[column_of_rule[rule]] for rule in rules\n",
        "            if rule.startswith('departure')]\n",
        "  check_eq(len(values), 6)\n",
        "  return np.prod(values)\n",
        "\n",
        "\n",
        "check_eq(process1(s1), 71)\n",
        "puzzle.verify(1, process1)  # ~6 ms.\n",
        "\n",
        "process2 = functools.partial(process1, part2=True)\n",
        "puzzle.verify(2, process2)  # ~52 ms."
      ],
      "execution_count": 287,
      "outputs": [
        {
          "output_type": "stream",
          "name": "stdout",
          "text": [
            "(Part 1: 0.006 s)\n",
            "(Part 2: 0.052 s)\n"
          ]
        }
      ]
    },
    {
      "cell_type": "markdown",
      "metadata": {
        "id": "gtbnA6Tu-dGn"
      },
      "source": [
        "<a name=\"day17\"></a>\n",
        "## Day 17: Game of life in 3D and 4D"
      ]
    },
    {
      "cell_type": "markdown",
      "metadata": {
        "id": "mGN11x0HZx_6"
      },
      "source": [
        "Given an initial 2D grid of cell states, simulate a cellular automaton on a higher-dimensional grid.  An inactive grid cell becomes active if exactly 3 of its neighbors is active, and an active grid cell becomes inactive unless 2 or 3 of its neighbors is active.  (Each cell has 26 neighbors in 3D and 80 neighbors in 4D.)\n",
        "\n",
        "- Part 1: Run the cellular automaton in 3D for 6 generations and report the number of active cells.\n",
        "\n",
        "- Part 2: Do the same in 4D."
      ]
    },
    {
      "cell_type": "code",
      "metadata": {
        "id": "pbYNL9pU-dGn",
        "colab": {
          "base_uri": "https://localhost:8080/",
          "height": 214
        },
        "outputId": "189f54c8-0bce-4208-bac8-9c663dedaa1d"
      },
      "source": [
        "puzzle = advent.puzzle(day=17)"
      ],
      "execution_count": 288,
      "outputs": [
        {
          "output_type": "display_data",
          "data": {
            "text/markdown": "For [day 17](https://adventofcode.com/2020/day/17), `puzzle.input` has 8 lines:",
            "text/plain": [
              "<IPython.core.display.Markdown object>"
            ]
          },
          "metadata": {}
        },
        {
          "output_type": "stream",
          "name": "stdout",
          "text": [
            ".......#\n",
            "....#...\n",
            "...###.#\n",
            "#...###.\n",
            "....##..\n",
            "##.#..#.\n",
            "###.#.#.\n",
            "....#...\n"
          ]
        },
        {
          "output_type": "display_data",
          "data": {
            "text/markdown": "The stored answers are: `{1: '232', 2: '1620'}`",
            "text/plain": [
              "<IPython.core.display.Markdown object>"
            ]
          },
          "metadata": {}
        }
      ]
    },
    {
      "cell_type": "code",
      "metadata": {
        "id": "iyH3cz1t6d_9"
      },
      "source": [
        "s1 = \"\"\"\n",
        ".#.\n",
        "..#\n",
        "###\n",
        "\"\"\""
      ],
      "execution_count": 289,
      "outputs": []
    },
    {
      "cell_type": "code",
      "metadata": {
        "id": "N2rufCY8ukMM"
      },
      "source": [
        "# Both of the solutions below work in arbitrary dimension!"
      ],
      "execution_count": 290,
      "outputs": []
    },
    {
      "cell_type": "code",
      "metadata": {
        "id": "l0P-Z-ekupYj",
        "colab": {
          "base_uri": "https://localhost:8080/"
        },
        "outputId": "ac659a8b-1e7f-4d3a-afe1-32a65c79fddc"
      },
      "source": [
        "def process1(s, num_cycles=6, dim=3):  # Slower.\n",
        "  lines = s.strip('\\n').splitlines()\n",
        "  table = np.array(lines[0] == '#')\n",
        "  # print(len(table))\n",
        "\n",
        "  indices = {\n",
        "      (0,) * (dim - 2) + (y, x)\n",
        "      for y, line in enumerate(lines) for x, ch in enumerate(line)\n",
        "      if ch == '#'\n",
        "  }\n",
        "  offsets = set(itertools.product((-1, 0, 1), repeat=dim)) - {(0,) * dim}\n",
        "\n",
        "  def neighbors(index):\n",
        "    for offset in offsets:\n",
        "      yield tuple(map(sum, zip(index, offset)))\n",
        "\n",
        "  def count_neighbors(index):\n",
        "    return sum(neighbor in indices for neighbor in neighbors(index))\n",
        "\n",
        "  for _ in range(num_cycles):\n",
        "    survivors = {index for index in indices if 2 <= count_neighbors(index) <= 3}\n",
        "    adjacents = {neighbor for index in indices for neighbor in neighbors(index)}\n",
        "    births = {index for index in adjacents if count_neighbors(index) == 3}\n",
        "    indices = survivors | births\n",
        "\n",
        "  return len(indices)\n",
        "\n",
        "\n",
        "check_eq(process1(s1), 112)\n",
        "puzzle.verify(1, process1)  # ~150 ms."
      ],
      "execution_count": 296,
      "outputs": [
        {
          "output_type": "stream",
          "name": "stdout",
          "text": [
            "(Part 1: 0.150 s)\n"
          ]
        }
      ]
    },
    {
      "cell_type": "code",
      "metadata": {
        "colab": {
          "base_uri": "https://localhost:8080/"
        },
        "id": "wfDzi7fCbT0Y",
        "outputId": "c9f32719-65d8-4ebb-d8cc-c0340e665dc1"
      },
      "source": [
        "def process1(s, num_cycles=6, dim=3):  # Faster.\n",
        "  lines = s.strip('\\n').splitlines()\n",
        "  indices = {\n",
        "      (0,) * (dim - 2) + (y, x)\n",
        "      for y, line in enumerate(lines) for x, ch in enumerate(line)\n",
        "      if ch == '#'\n",
        "  }\n",
        "  offsets = set(itertools.product((-1, 0, 1), repeat=dim)) - {(0,) * dim}\n",
        "\n",
        "  def neighbors(index):\n",
        "    i = index\n",
        "    if dim == 3:  # faster\n",
        "      for o in offsets:\n",
        "        yield i[0] + o[0], i[1] + o[1], i[2] + o[2]\n",
        "    elif dim == 4:  # faster\n",
        "      for o in offsets:\n",
        "        yield i[0] + o[0], i[1] + o[1], i[2] + o[2], i[3] + o[3]\n",
        "    else:\n",
        "      for o in offsets:\n",
        "        yield tuple(map(sum, zip(i, o)))\n",
        "\n",
        "  for _ in range(num_cycles):\n",
        "    # Adapted from collections.Counter() algorithm in\n",
        "    # https://github.com/norvig/pytudes/blob/master/ipynb/Advent-2020.ipynb\n",
        "    neighbor_counts = collections.Counter(\n",
        "        itertools.chain.from_iterable(neighbors(index) for index in indices))\n",
        "    indices = {index for index, count in neighbor_counts.items()\n",
        "               if count == 3 or (count == 2 and index in indices)}\n",
        "\n",
        "  return len(indices)\n",
        "\n",
        "\n",
        "check_eq(process1(s1), 112)\n",
        "puzzle.verify(1, process1)  # ~8 ms.\n",
        "\n",
        "process2 = functools.partial(process1, dim=4)\n",
        "check_eq(process2(s1), 848)\n",
        "puzzle.verify(2, process2)  # ~200 ms."
      ],
      "execution_count": 304,
      "outputs": [
        {
          "output_type": "stream",
          "name": "stdout",
          "text": [
            "(Part 1: 0.008 s)\n",
            "(Part 2: 0.206 s)\n"
          ]
        }
      ]
    },
    {
      "cell_type": "code",
      "metadata": {
        "colab": {
          "base_uri": "https://localhost:8080/"
        },
        "id": "JaReGZZ7weLS",
        "outputId": "3bbddfb2-0286-4c09-fbbe-ed1bf4c4e200"
      },
      "source": [
        "def show_num_active_in_each_generation_for_2d_3d_4d():\n",
        "  for dim in range(2, 5):\n",
        "    print(dim, [process1(puzzle.input, n, dim) for n in range(6)])\n",
        "\n",
        "show_num_active_in_each_generation_for_2d_3d_4d()"
      ],
      "execution_count": 305,
      "outputs": [
        {
          "output_type": "stream",
          "name": "stdout",
          "text": [
            "2 [22, 17, 23, 24, 28, 27]\n",
            "3 [22, 39, 50, 84, 140, 173]\n",
            "4 [22, 105, 144, 652, 372, 1796]\n"
          ]
        }
      ]
    },
    {
      "cell_type": "markdown",
      "metadata": {
        "id": "HNOZW8Ax-dQy"
      },
      "source": [
        "<a name=\"day18\"></a>\n",
        "## Day 18: Parsing math expression"
      ]
    },
    {
      "cell_type": "markdown",
      "metadata": {
        "id": "6-QdRn_Rb7kR"
      },
      "source": [
        "Given a list of mathematical expressions with additions, multiplications, and parantheses, evaluate each expression and report the sum of resulting values.\n",
        "\n",
        "- Part 1: Operators `+` and `*` have equal precedence and are applied left-to-right.\n",
        "\n",
        "- Part 2: Operator `+` has higher precedence than `*` (which is unusual)."
      ]
    },
    {
      "cell_type": "code",
      "metadata": {
        "id": "YvZH2Qku-dQy",
        "colab": {
          "base_uri": "https://localhost:8080/",
          "height": 302
        },
        "outputId": "a477f6bc-baca-4f1c-b93c-f1845dc1658d"
      },
      "source": [
        "puzzle = advent.puzzle(day=18)"
      ],
      "execution_count": 306,
      "outputs": [
        {
          "output_type": "display_data",
          "data": {
            "text/markdown": "For [day 18](https://adventofcode.com/2020/day/18), `puzzle.input` has 380 lines:",
            "text/plain": [
              "<IPython.core.display.Markdown object>"
            ]
          },
          "metadata": {}
        },
        {
          "output_type": "stream",
          "name": "stdout",
          "text": [
            "7 + (9 * 8 + 5 + 5 * (3 * 4 * 7 + 6 * 4)) * ((3 * 6 + 3 * 4 * 7 * 4) + 4 * 3 * 5 + 5 * (5 * 6 + 7)) * 2 + 6 * 4\n",
            "9 * 4 * ((9 * 8 + 9 + 2 + 9) + 2 * 9 + 2 + 2) * 5 * 6\n",
            "3 * ((9 * 3 * 8 * 6 * 6 * 7) + 8) * 2 * 9 + 4 * 8\n",
            "(3 + 4 + 4 * 4 + 9) + (7 + 6 + 2 * 8) * 9 + 7 * 8\n",
            "9 + 6 + 6 + 9 * 9 * 5\n",
            "(3 * 5 + (4 + 3 * 7 * 8) + 7 + 8 + 2) * 8 * (3 * 4 * 8) * ((4 + 5 * 2) * 7)\n",
            "6 + (5 + 8 * (6 * 8 * 9 + 9 + 8 * 9) * 4 + (5 * 9)) * 2 + 2\n",
            "(6 + 8 + (6 * 6 + 2) * 6 * (7 + 7 + 8 + 9)) * 3 + 8 + (6 * (8 + 8 + 9)) + 2\n",
            " ...\n",
            "5 * 8 + (7 + 2 + 6) * (8 + 2 + 8 + 4 + 9) + (5 * 6 * 6 * 3) + 8\n",
            "6 + (7 * 4 + 4 * 7 + 3 * 7) + 9 + 5 * 7 * 5\n",
            "3 + 2 + 8 + (4 + 9 * 4 * 2 + (9 * 9 + 9 + 5) * 5) + 6\n",
            "3 * 9 * 4 * (5 * 4 * (8 + 3))\n"
          ]
        },
        {
          "output_type": "display_data",
          "data": {
            "text/markdown": "The stored answers are: `{1: '4940631886147', 2: '283582817678281'}`",
            "text/plain": [
              "<IPython.core.display.Markdown object>"
            ]
          },
          "metadata": {}
        }
      ]
    },
    {
      "cell_type": "code",
      "metadata": {
        "id": "EHeqe3fA-dQy",
        "colab": {
          "base_uri": "https://localhost:8080/"
        },
        "outputId": "baa8bc10-1cb5-43e5-9d0c-dec8300db2d6"
      },
      "source": [
        "def process1(strings, part2=False):  # Slower, more readable.\n",
        "\n",
        "  def evaluate_line(s):\n",
        "\n",
        "    def parse_term(i):\n",
        "      if s[i] == '(':\n",
        "        value, i = parse_sequence(i + 1)\n",
        "        check_eq(s[i], ')')\n",
        "        return value, i + 1\n",
        "      if s[i].isdigit():\n",
        "        value = int(s[i])\n",
        "        return value, i + 1\n",
        "      raise AssertionError\n",
        "\n",
        "    def parse_sequence(i):\n",
        "      value, i = parse_term(i)\n",
        "      while i < len(s) and s[i] != ')':\n",
        "        check_eq(s[i], ' ')\n",
        "        check_eq(s[i + 2], ' ')\n",
        "        if s[i + 1] == '+':\n",
        "          value2, i = parse_term(i + 3)\n",
        "          value += value2\n",
        "        elif s[i + 1] == '*':\n",
        "          value2, i = (parse_sequence if part2 else parse_term)(i + 3)\n",
        "          value *= value2\n",
        "        else:\n",
        "          raise AssertionError\n",
        "      return value, i\n",
        "\n",
        "    value, i = parse_sequence(0)\n",
        "    check_eq(i, len(s))\n",
        "    return value\n",
        "\n",
        "  return sum(evaluate_line(s) for s in strings.splitlines())\n",
        "\n",
        "puzzle.verify(1, process1)  # ~50 ms.\n",
        "\n",
        "process2 = functools.partial(process1, part2=True)\n",
        "puzzle.verify(2, process2)  # ~55 ms."
      ],
      "execution_count": 313,
      "outputs": [
        {
          "output_type": "stream",
          "name": "stdout",
          "text": [
            "(Part 1: 0.050 s)\n",
            "(Part 2: 0.056 s)\n"
          ]
        }
      ]
    },
    {
      "cell_type": "code",
      "metadata": {
        "id": "yWEVQRq560AZ",
        "colab": {
          "base_uri": "https://localhost:8080/"
        },
        "outputId": "c0d056c8-f7a6-4456-aac1-6618c34b614c"
      },
      "source": [
        "def process1(strings, part2=False):  # Compact and faster.\n",
        "\n",
        "  def evaluate_line(s):\n",
        "\n",
        "    def eval_term(i):\n",
        "      return eval_seq(i + 1, eat=1) if s[i] == '(' else (int(s[i]), i + 1)\n",
        "\n",
        "    def eval_seq(i, eat=0):\n",
        "      value, i = eval_term(i)\n",
        "      while i < len(s) and s[i] != ')':\n",
        "        is_mul = s[i + 1] == '*'\n",
        "        value2, i = (eval_seq if part2 and is_mul else eval_term)(i + 3)\n",
        "        value = value * value2 if is_mul else value + value2\n",
        "      return value, i + eat\n",
        "\n",
        "    return eval_seq(0)[0]\n",
        "\n",
        "  return sum(evaluate_line(s) for s in strings.strip('\\n').splitlines())\n",
        "\n",
        "\n",
        "check_eq(process1('1 + 2 * 3 + 4 * 5 + 6'), 71)\n",
        "check_eq(process1('1 + (2 * 3) + (4 * (5 + 6))'), 51)\n",
        "check_eq(process1('2 * 3 + (4 * 5)'), 26)\n",
        "check_eq(process1('5 + (8 * 3 + 9 + 3 * 4 * 3)'), 437)\n",
        "check_eq(process1('5 * 9 * (7 * 3 * 3 + 9 * 3 + (8 + 6 * 4))'), 12240)\n",
        "check_eq(process1('((2 + 4 * 9) * (6 + 9 * 8 + 6) + 6) + 2 + 4 * 2'), 13632)\n",
        "puzzle.verify(1, process1)  # ~4 ms.\n",
        "\n",
        "process2 = functools.partial(process1, part2=True)\n",
        "check_eq(process2('1 + 2 * 3 + 4 * 5 + 6'), 231)\n",
        "check_eq(process2('1 + (2 * 3) + (4 * (5 + 6))'), 51)\n",
        "check_eq(process2('2 * 3 + (4 * 5)'), 46)\n",
        "check_eq(process2('5 + (8 * 3 + 9 + 3 * 4 * 3)'), 1445)\n",
        "check_eq(process2('5 * 9 * (7 * 3 * 3 + 9 * 3 + (8 + 6 * 4))'), 669060)\n",
        "check_eq(process2('((2 + 4 * 9) * (6 + 9 * 8 + 6) + 6) + 2 + 4 * 2'), 23340)\n",
        "puzzle.verify(2, process2)  # ~6 ms."
      ],
      "execution_count": 325,
      "outputs": [
        {
          "output_type": "stream",
          "name": "stdout",
          "text": [
            "(Part 1: 0.005 s)\n",
            "(Part 2: 0.005 s)\n"
          ]
        }
      ]
    },
    {
      "cell_type": "markdown",
      "metadata": {
        "id": "c56vcfk3-dcD"
      },
      "source": [
        "<a name=\"day19\"></a>\n",
        "## Day 19: Message grammar"
      ]
    },
    {
      "cell_type": "markdown",
      "metadata": {
        "id": "RAvwjbvGdP65"
      },
      "source": [
        "Given a set of context-free grammar rules and a set of words, report the number of words that are expressible in the grammar.\n",
        "\n",
        "- Part 1: Use the initial grammar rules, which do not have cycles.\n",
        "\n",
        "- Part 2: Replace two of the grammar rules, thereby introducing cycles."
      ]
    },
    {
      "cell_type": "code",
      "metadata": {
        "id": "OS8_aWxv-dcD",
        "colab": {
          "base_uri": "https://localhost:8080/",
          "height": 302
        },
        "outputId": "caf990ca-9cbe-4770-f051-2e2bc45966b8"
      },
      "source": [
        "puzzle = advent.puzzle(day=19)"
      ],
      "execution_count": 326,
      "outputs": [
        {
          "output_type": "display_data",
          "data": {
            "text/markdown": "For [day 19](https://adventofcode.com/2020/day/19), `puzzle.input` has 583 lines:",
            "text/plain": [
              "<IPython.core.display.Markdown object>"
            ]
          },
          "metadata": {}
        },
        {
          "output_type": "stream",
          "name": "stdout",
          "text": [
            "26: 97 126 | 123 57\n",
            "122: 84 97 | 92 123\n",
            "82: 97 138 | 123 130\n",
            "80: 131 97\n",
            "3: 123 107 | 97 66\n",
            "101: 1 123 | 95 97\n",
            "10: 97 138 | 123 107\n",
            "83: 123 27 | 97 12\n",
            " ...\n",
            "abaabababbbbbabababbabbaaaabbbba\n",
            "baaaababbbabbbbaaababbab\n",
            "bbbabbabaabbaabbabbaaabb\n",
            "abaaaababaabbbbabbbbbbbbaaaaaaaababaaaabbbaaaaaabbbbaaabbbbababb\n"
          ]
        },
        {
          "output_type": "display_data",
          "data": {
            "text/markdown": "The stored answers are: `{1: '198', 2: '372'}`",
            "text/plain": [
              "<IPython.core.display.Markdown object>"
            ]
          },
          "metadata": {}
        }
      ]
    },
    {
      "cell_type": "code",
      "metadata": {
        "id": "dDfUDTg6-dcD",
        "colab": {
          "base_uri": "https://localhost:8080/"
        },
        "cellView": "form",
        "outputId": "70fa9551-4c4a-4495-9e0f-d6db752c455f"
      },
      "source": [
        "#@title\n",
        "print('Let s1, s2 be test inputs.')\n",
        "\n",
        "s1 = \"\"\"\n",
        "0: 4 1 5\n",
        "1: 2 3 | 3 2\n",
        "2: 4 4 | 5 5\n",
        "3: 4 5 | 5 4\n",
        "4: \"a\"\n",
        "5: \"b\"\n",
        "\n",
        "ababbb\n",
        "bababa\n",
        "abbbab\n",
        "aaabbb\n",
        "aaaabbb\n",
        "\"\"\"\n",
        "\n",
        "s2 = \"\"\"\n",
        "42: 9 14 | 10 1\n",
        "9: 14 27 | 1 26\n",
        "10: 23 14 | 28 1\n",
        "1: \"a\"\n",
        "11: 42 31\n",
        "5: 1 14 | 15 1\n",
        "19: 14 1 | 14 14\n",
        "12: 24 14 | 19 1\n",
        "16: 15 1 | 14 14\n",
        "31: 14 17 | 1 13\n",
        "6: 14 14 | 1 14\n",
        "2: 1 24 | 14 4\n",
        "0: 8 11\n",
        "13: 14 3 | 1 12\n",
        "15: 1 | 14\n",
        "17: 14 2 | 1 7\n",
        "23: 25 1 | 22 14\n",
        "28: 16 1\n",
        "4: 1 1\n",
        "20: 14 14 | 1 15\n",
        "3: 5 14 | 16 1\n",
        "27: 1 6 | 14 18\n",
        "14: \"b\"\n",
        "21: 14 1 | 1 14\n",
        "25: 1 1 | 1 14\n",
        "22: 14 14\n",
        "8: 42\n",
        "26: 14 22 | 1 20\n",
        "18: 15 15\n",
        "7: 14 5 | 1 21\n",
        "24: 14 1\n",
        "\n",
        "abbbbbabbbaaaababbaabbbbabababbbabbbbbbabaaaa\n",
        "bbabbbbaabaabba\n",
        "babbbbaabbbbbabbbbbbaabaaabaaa\n",
        "aaabbbbbbaaaabaababaabababbabaaabbababababaaa\n",
        "bbbbbbbaaaabbbbaaabbabaaa\n",
        "bbbababbbbaaaaaaaabbababaaababaabab\n",
        "ababaaaaaabaaab\n",
        "ababaaaaabbbaba\n",
        "baabbaaaabbaaaababbaababb\n",
        "abbbbabbbbaaaababbbbbbaaaababb\n",
        "aaaaabbaabaaaaababaa\n",
        "aaaabbaaaabbaaa\n",
        "aaaabbaabbaaaaaaabbbabbbaaabbaabaaa\n",
        "babaaabbbaaabaababbaabababaaab\n",
        "aabbbbbaabbbaaaaaabbbbbababaaaaabbaaabba\n",
        "\"\"\""
      ],
      "execution_count": 327,
      "outputs": [
        {
          "output_type": "stream",
          "name": "stdout",
          "text": [
            "Let s1, s2 be test inputs.\n"
          ]
        }
      ]
    },
    {
      "cell_type": "code",
      "metadata": {
        "id": "9goN2Yg2Ylew",
        "colab": {
          "base_uri": "https://localhost:8080/"
        },
        "outputId": "5962edcb-444b-43c4-872e-c2e198d6f8c5"
      },
      "source": [
        "def process1(s, part2=False):  # Compact.\n",
        "  section1, section2 = s.strip('\\n').split('\\n\\n')\n",
        "  rules = dict(line.split(': ') for line in section1.splitlines())\n",
        "  if part2:\n",
        "    rules.update({'8': '42 | 42 8', '11': '42 31 | 42 11 31'})\n",
        "\n",
        "  def valid_expansion(symbols, text):\n",
        "    if not symbols or not text:\n",
        "      return not symbols and not text\n",
        "    expansions = rules[symbols[0]]\n",
        "    if expansions[0] == '\"':\n",
        "      return expansions[1] == text[0] and valid_expansion(symbols[1:], text[1:])\n",
        "    return any(valid_expansion(expansion.split() + symbols[1:], text)\n",
        "               for expansion in expansions.split(' | '))\n",
        "\n",
        "  return sum(valid_expansion(['0'], text) for text in section2.splitlines())\n",
        "\n",
        "\n",
        "check_eq(process1(s1), 2)\n",
        "puzzle.verify(1, process1)  # ~100 ms.\n",
        "\n",
        "process2 = functools.partial(process1, part2=True)\n",
        "check_eq(process2(s2), 12)\n",
        "puzzle.verify(2, process2)  # ~500 ms."
      ],
      "execution_count": 336,
      "outputs": [
        {
          "output_type": "stream",
          "name": "stdout",
          "text": [
            "(Part 1: 0.102 s)\n",
            "(Part 2: 0.498 s)\n"
          ]
        }
      ]
    },
    {
      "cell_type": "code",
      "metadata": {
        "colab": {
          "base_uri": "https://localhost:8080/"
        },
        "id": "MY1l556e0GY2",
        "outputId": "4a5e4ca9-275b-40bd-d557-4ed45e20efe0"
      },
      "source": [
        "def process1(s, part2=False):  # Faster.\n",
        "  section1, section2 = s.strip('\\n').split('\\n\\n')\n",
        "  rules = {\n",
        "      int(symbol): (rhs[1] if rhs[0] == '\"' else\n",
        "                    tuple(tuple(map(int, s.split())) for s in rhs.split(' | ')))\n",
        "      for line in section1.splitlines()\n",
        "      for symbol, rhs in (line.split(': '),)\n",
        "  }\n",
        "  if part2:\n",
        "    # We are fortunate that in both modified rules, there is a symbol to the\n",
        "    # left of the recursion, which forces the consumption of a character.\n",
        "    rules.update({8: ((42,), (42, 8)), 11: ((42, 31), (42, 11, 31))})\n",
        "\n",
        "  def valid_expansion(symbols, text):\n",
        "    while True:\n",
        "      if not symbols:\n",
        "        return not text\n",
        "      if not text:\n",
        "        return False\n",
        "      expansions = rules[symbols[0]]\n",
        "      if isinstance(expansions, str):\n",
        "        if expansions != text[0]:\n",
        "          return False\n",
        "        symbols, text = symbols[1:], text[1:]\n",
        "        continue\n",
        "      return any(valid_expansion(expansion + symbols[1:], text)\n",
        "                for expansion in expansions)\n",
        "\n",
        "  return sum(valid_expansion((0,), text) for text in section2.splitlines())\n",
        "\n",
        "\n",
        "check_eq(process1(s1), 2)\n",
        "puzzle.verify(1, process1)  # ~75 ms.\n",
        "\n",
        "process2 = functools.partial(process1, part2=True)\n",
        "check_eq(process2(s2), 12)\n",
        "puzzle.verify(2, process2)  # ~350 ms."
      ],
      "execution_count": 347,
      "outputs": [
        {
          "output_type": "stream",
          "name": "stdout",
          "text": [
            "(Part 1: 0.150 s)\n",
            "(Part 2: 0.616 s)\n"
          ]
        }
      ]
    },
    {
      "cell_type": "markdown",
      "metadata": {
        "id": "59zy45w3-dmm"
      },
      "source": [
        "<a name=\"day20\"></a>\n",
        "## Day 20: Dragons in grid of tiles"
      ]
    },
    {
      "cell_type": "markdown",
      "metadata": {
        "id": "1cpjHakteKin"
      },
      "source": [
        "Given a set of numbered 2D image tiles with binary values, assemble these tiles using rotations and flips into a 2D grid such that adjacent tiles have matching boundary values.\n",
        "\n",
        "- Part 1: Return the product of the tile numbers for the 4 tiles that lie at the corners of the assembled 2D grid.\n",
        "\n",
        "- Part 2: Given a 2D mask (\"dragon\"), find all possible locations for this mask (including rotations and flips) such that all active values in the mask are also active in the assembled grid.  Report the number of active grid nodes which are not covered by any found mask instance."
      ]
    },
    {
      "cell_type": "code",
      "metadata": {
        "id": "5rf3fPOk-dmm",
        "colab": {
          "base_uri": "https://localhost:8080/",
          "height": 302
        },
        "outputId": "6de8bf0a-8c60-43da-e061-b7d979b9b628"
      },
      "source": [
        "puzzle = advent.puzzle(day=20)"
      ],
      "execution_count": 348,
      "outputs": [
        {
          "output_type": "display_data",
          "data": {
            "text/markdown": "For [day 20](https://adventofcode.com/2020/day/20), `puzzle.input` has 1_727 lines:",
            "text/plain": [
              "<IPython.core.display.Markdown object>"
            ]
          },
          "metadata": {}
        },
        {
          "output_type": "stream",
          "name": "stdout",
          "text": [
            "Tile 2789:\n",
            ".#..#...##\n",
            "##...#....\n",
            "#.#.##..#.\n",
            ".#.##.##.#\n",
            "....#....#\n",
            "#.#......#\n",
            ".....#....\n",
            " ...\n",
            "..#......#\n",
            "#......#.#\n",
            "..#.....#.\n",
            ".#.#.##.##\n"
          ]
        },
        {
          "output_type": "display_data",
          "data": {
            "text/markdown": "The stored answers are: `{1: '18449208814679', 2: '1559'}`",
            "text/plain": [
              "<IPython.core.display.Markdown object>"
            ]
          },
          "metadata": {}
        }
      ]
    },
    {
      "cell_type": "code",
      "metadata": {
        "id": "4BGOjHl3-dmm",
        "colab": {
          "base_uri": "https://localhost:8080/"
        },
        "cellView": "form",
        "outputId": "29aaa473-1bf1-4826-d95c-745ed603179d"
      },
      "source": [
        "#@title\n",
        "\n",
        "print('Let s1 be a test input.')\n",
        "\n",
        "s1 = \"\"\"\n",
        "Tile 2311:\n",
        "..##.#..#.\n",
        "##..#.....\n",
        "#...##..#.\n",
        "####.#...#\n",
        "##.##.###.\n",
        "##...#.###\n",
        ".#.#.#..##\n",
        "..#....#..\n",
        "###...#.#.\n",
        "..###..###\n",
        "\n",
        "Tile 1951:\n",
        "#.##...##.\n",
        "#.####...#\n",
        ".....#..##\n",
        "#...######\n",
        ".##.#....#\n",
        ".###.#####\n",
        "###.##.##.\n",
        ".###....#.\n",
        "..#.#..#.#\n",
        "#...##.#..\n",
        "\n",
        "Tile 1171:\n",
        "####...##.\n",
        "#..##.#..#\n",
        "##.#..#.#.\n",
        ".###.####.\n",
        "..###.####\n",
        ".##....##.\n",
        ".#...####.\n",
        "#.##.####.\n",
        "####..#...\n",
        ".....##...\n",
        "\n",
        "Tile 1427:\n",
        "###.##.#..\n",
        ".#..#.##..\n",
        ".#.##.#..#\n",
        "#.#.#.##.#\n",
        "....#...##\n",
        "...##..##.\n",
        "...#.#####\n",
        ".#.####.#.\n",
        "..#..###.#\n",
        "..##.#..#.\n",
        "\n",
        "Tile 1489:\n",
        "##.#.#....\n",
        "..##...#..\n",
        ".##..##...\n",
        "..#...#...\n",
        "#####...#.\n",
        "#..#.#.#.#\n",
        "...#.#.#..\n",
        "##.#...##.\n",
        "..##.##.##\n",
        "###.##.#..\n",
        "\n",
        "Tile 2473:\n",
        "#....####.\n",
        "#..#.##...\n",
        "#.##..#...\n",
        "######.#.#\n",
        ".#...#.#.#\n",
        ".#########\n",
        ".###.#..#.\n",
        "########.#\n",
        "##...##.#.\n",
        "..###.#.#.\n",
        "\n",
        "Tile 2971:\n",
        "..#.#....#\n",
        "#...###...\n",
        "#.#.###...\n",
        "##.##..#..\n",
        ".#####..##\n",
        ".#..####.#\n",
        "#..#.#..#.\n",
        "..####.###\n",
        "..#.#.###.\n",
        "...#.#.#.#\n",
        "\n",
        "Tile 2729:\n",
        "...#.#.#.#\n",
        "####.#....\n",
        "..#.#.....\n",
        "....#..#.#\n",
        ".##..##.#.\n",
        ".#.####...\n",
        "####.#.#..\n",
        "##.####...\n",
        "##..#.##..\n",
        "#.##...##.\n",
        "\n",
        "Tile 3079:\n",
        "#.#.#####.\n",
        ".#..######\n",
        "..#.......\n",
        "######....\n",
        "####.#..#.\n",
        ".#...#.##.\n",
        "#.#####.##\n",
        "..#.###...\n",
        "..#.......\n",
        "..#.###...\n",
        "\"\"\""
      ],
      "execution_count": 349,
      "outputs": [
        {
          "output_type": "stream",
          "name": "stdout",
          "text": [
            "Let s1 be a test input.\n"
          ]
        }
      ]
    },
    {
      "cell_type": "code",
      "metadata": {
        "id": "TE5os-0wp1Bv",
        "colab": {
          "base_uri": "https://localhost:8080/",
          "height": 823
        },
        "outputId": "06f6ca7b-e334-4e31-af44-839751fcd0e9"
      },
      "source": [
        "def process1(s, part2=False, visualize=False):\n",
        "  tiles = {int(t[5:9]): grid_from_string(t[11:])\n",
        "           for t in s.strip('\\n').split('\\n\\n')}\n",
        "  n = int(len(tiles)**0.5)  # math.isqrt() in version 3.8\n",
        "\n",
        "  if visualize:\n",
        "    tiles_bool = [tile != '#' for tile in tiles.values()]\n",
        "    media.show_images(tiles_bool, columns=n, border=True, height=30)\n",
        "\n",
        "  rotations = tuple(range(8))  # 4 proper rotations * 2 flips\n",
        "\n",
        "  def rotate(tile, rotation):\n",
        "    return np.rot90(tile if rotation < 4 else tile[::-1], rotation % 4)\n",
        "\n",
        "  def top_row(tile, rotation):\n",
        "    # return rotate(tile, rotation)[0]  # equivalent but slower\n",
        "    tile = tile if rotation < 4 else tile[::-1]\n",
        "    rotation = rotation % 4\n",
        "    return (tile[0] if rotation == 0 else tile[:, -1] if rotation == 1 else\n",
        "            tile[-1, ::-1] if rotation == 2 else tile[::-1, 0])\n",
        "\n",
        "  # List of (index, rotation) for up to 2 tiles whose top row matches the key.\n",
        "  edge_list = collections.defaultdict(list)\n",
        "  for index, tile in tiles.items():\n",
        "    for rotation in rotations:\n",
        "      edge_list[tuple(top_row(tile, rotation))].append((index, rotation))\n",
        "\n",
        "  def is_corner(tile):  # A corner tile has 2 unique edges.\n",
        "    return sum(len(edge_list[tuple(top_row(tile, rotation))]) == 1\n",
        "               for rotation in rotations[:4]) == 2\n",
        "\n",
        "  corners = [index for index, tile in tiles.items() if is_corner(tile)]\n",
        "  assert len(corners) == 4  # Exactly four tiles must be at the corners.\n",
        "  if not part2:\n",
        "    return np.prod(corners)\n",
        "\n",
        "  # Place a first corner in the grid upper-left and determine its rotation.\n",
        "  index = corners[0]\n",
        "  tile = tiles[index]\n",
        "  rotation, _ = (rotation for rotation in rotations  # 2 solutions due to flip\n",
        "                 if (len(edge_list[tuple(rotate(tile, rotation)[0])]) == 1 and\n",
        "                     len(edge_list[tuple(rotate(tile, rotation)[:, 0])]) == 1))\n",
        "  layout = np.empty((n, n), dtype=object)\n",
        "  layout[0, 0] = (index, rotation)\n",
        "\n",
        "  def find(not_index, rot, desired):\n",
        "    \"Returns (index, rotation) of tile with top row matching desired after rot.\"\n",
        "    l = edge_list[tuple(desired)]\n",
        "    index, rotation = next(((index, rotation) for index, rotation in l\n",
        "                            if index != not_index))\n",
        "    return index, (rotation + rot) % 4 + rotation // 4 * 4\n",
        "\n",
        "  for y, x in np.ndindex(n, n):\n",
        "    if x > 0:\n",
        "      left_index, left_rotation = layout[y, x - 1]\n",
        "      desired_left = rotate(tiles[left_index], left_rotation)[::-1, -1]\n",
        "      layout[y, x] = find(left_index, 1, desired_left)\n",
        "    elif y > 0:\n",
        "      top_index, top_rotation = layout[y - 1, x]\n",
        "      desired_top = rotate(tiles[top_index], top_rotation)[-1, :]\n",
        "      layout[y, x] = find(top_index, 0, desired_top)\n",
        "\n",
        "  def block(y, x):\n",
        "    index, rotation = layout[y, x]\n",
        "    return rotate(tiles[index], rotation)[1:-1, 1:-1]\n",
        "\n",
        "  grid = np.block([[block(y, x) for x in range(n)] for y in range(n)])\n",
        "\n",
        "  pattern = '                  # #    ##    ##    ### #  #  #  #  #  #   '\n",
        "  pattern = np.array(list(pattern)).reshape(3, 20) == '#'\n",
        "\n",
        "  if 0:  # slower\n",
        "    pattern_indices = pattern.nonzero()\n",
        "    for rotation in rotations:\n",
        "      grid_view = rotate(grid, rotation)\n",
        "      for y, x in np.ndindex(*(np.array(grid_view.shape) - pattern.shape)):\n",
        "        subgrid_view = grid_view[y:, x:]\n",
        "        if np.all(subgrid_view[pattern_indices] != '.'):\n",
        "          subgrid_view[pattern_indices] = 'O'\n",
        "\n",
        "  elif 0:  # faster, using 1-d matching\n",
        "    grid_view_1d = grid.reshape(-1)\n",
        "    for rotation in rotations:\n",
        "      pattern_view = rotate(pattern, rotation)\n",
        "      pattern_indices = pattern_view.nonzero()\n",
        "      pattern_indices_1d = np.ravel_multi_index(pattern_indices, grid.shape)\n",
        "      for y, x in np.ndindex(*(np.array(grid.shape) - pattern_view.shape)):\n",
        "        subgrid_view_1d = grid_view_1d[y * grid.shape[1] + x:]\n",
        "        if np.all(subgrid_view_1d[pattern_indices_1d] != '.'):\n",
        "          subgrid_view_1d[pattern_indices_1d] = 'O'\n",
        "\n",
        "  else:  # fastest, using 2d correlation\n",
        "    import scipy.signal\n",
        "    pattern_uint8 = pattern.astype(np.uint8)\n",
        "    grid_uint8 = (grid == '#').astype(np.uint8)\n",
        "    for rotation in rotations:\n",
        "      pattern_view = rotate(pattern_uint8, rotation)\n",
        "      pattern_indices = pattern_view.nonzero()\n",
        "      corr = scipy.signal.correlate2d(grid_uint8, pattern_view, mode='valid')\n",
        "      locations = np.moveaxis(np.nonzero(corr == pattern_view.sum()), 0, -1)\n",
        "      for y, x in locations:\n",
        "        grid[y:, x:][pattern_indices] = 'O'\n",
        "\n",
        "  if visualize:\n",
        "    value_from_ch = {'.': 0.0, '#': -1.0, 'O': 1.0}\n",
        "    lookup = np.zeros(256, dtype=np.float32)\n",
        "    for ch, value in value_from_ch.items():\n",
        "      lookup[ord(ch)] = value\n",
        "    grid2 = lookup[grid.view(np.uint32).astype(np.uint8)]\n",
        "    media.show_image(grid2, border=True, height=300)\n",
        "\n",
        "  return np.count_nonzero(grid == '#')\n",
        "\n",
        "\n",
        "check_eq(process1(s1), 20899048083289)\n",
        "puzzle.verify(1, process1)  # ~12 ms.\n",
        "\n",
        "process2 = functools.partial(process1, part2=True)\n",
        "check_eq(process2(s1), 273)\n",
        "puzzle.verify(2, process2)  # ~31 ms.\n",
        "_ = process2(puzzle.input, visualize=True)"
      ],
      "execution_count": 355,
      "outputs": [
        {
          "output_type": "stream",
          "name": "stdout",
          "text": [
            "(Part 1: 0.011 s)\n",
            "(Part 2: 0.032 s)\n"
          ]
        },
        {
          "output_type": "display_data",
          "data": {
            "text/html": [
              "<table class=\"show_images\" style=\"border-spacing:0px;\"><tr><td style=\"padding:1px;\"><img width=\"30\" height=\"30\" style=\"border:1px solid black; image-rendering:pixelated; object-fit:cover;\" src=\"data:image/png;base64,iVBORw0KGgoAAAANSUhEUgAAAAoAAAAKCAIAAAACUFjqAAAASUlEQVR4nG2PQRIAIAgCwf//mQ40xjCdWqVWgyQAkhLMAOjj1eQygHFG0tkGl9dZGsN8byxPanPqHVGtWu3/6G2eX2pzdsrh8gC2gkffDLCotwAAAABJRU5ErkJggg==\"/></td><td style=\"padding:1px;\"><img width=\"30\" height=\"30\" style=\"border:1px solid black; image-rendering:pixelated; object-fit:cover;\" src=\"data:image/png;base64,iVBORw0KGgoAAAANSUhEUgAAAAoAAAAKCAIAAAACUFjqAAAARklEQVR4nHVOMRLAMAgC/v9nMqShRlsGT4QTiAPbJG2jgFvAD/SpkdxTjSfome8G+OBKnI5Q1cKzh3JNcPVpnlKzP2sRthfsr1DXN67m/AAAAABJRU5ErkJggg==\"/></td><td style=\"padding:1px;\"><img width=\"30\" height=\"30\" style=\"border:1px solid black; image-rendering:pixelated; object-fit:cover;\" src=\"data:image/png;base64,iVBORw0KGgoAAAANSUhEUgAAAAoAAAAKCAIAAAACUFjqAAAARElEQVR4nH1PQQoAMAjS/v9nd3CERJuXLCmNACQBIJn8EpcXyktG8itnky5T9rRdzWtkGVFqPdtf/JIzf90xNEkdQtIB96g1/d0FRoUAAAAASUVORK5CYII=\"/></td><td style=\"padding:1px;\"><img width=\"30\" height=\"30\" style=\"border:1px solid black; image-rendering:pixelated; object-fit:cover;\" src=\"data:image/png;base64,iVBORw0KGgoAAAANSUhEUgAAAAoAAAAKCAIAAAACUFjqAAAAQklEQVR4nHWOQQoAMAjDmrH/f7k7yEScy62tAZFkWxcgIiAJ21m90Ow+hx2h3QHrZ4ezRy/LNUpJn6s6zPXTL/nKAeFhJwIkNEZsAAAAAElFTkSuQmCC\"/></td><td style=\"padding:1px;\"><img width=\"30\" height=\"30\" style=\"border:1px solid black; image-rendering:pixelated; object-fit:cover;\" src=\"data:image/png;base64,iVBORw0KGgoAAAANSUhEUgAAAAoAAAAKCAIAAAACUFjqAAAASUlEQVR4nG2PSxYAIAgCw/vfeVrQI/u0CnFQBYzfkwQo+ttXNgBJhkIvO1Gds6wrOTFm6p3XY8oiRP4et8PTcdCdu4+O9a7tygREcjYFDi3w+wAAAABJRU5ErkJggg==\"/></td><td style=\"padding:1px;\"><img width=\"30\" height=\"30\" style=\"border:1px solid black; image-rendering:pixelated; object-fit:cover;\" src=\"data:image/png;base64,iVBORw0KGgoAAAANSUhEUgAAAAoAAAAKCAIAAAACUFjqAAAAR0lEQVR4nGWPORIAQQgCgf//mQ2opRwlEm0v2MaQf8UqqRYmB0Aka67UKNxapPbZJhmoKOemK97CvEYduG4O93Qv+7D3adsfeU1B6v1BtnUAAAAASUVORK5CYII=\"/></td><td style=\"padding:1px;\"><img width=\"30\" height=\"30\" style=\"border:1px solid black; image-rendering:pixelated; object-fit:cover;\" src=\"data:image/png;base64,iVBORw0KGgoAAAANSUhEUgAAAAoAAAAKCAIAAAACUFjqAAAASklEQVR4nG2PQQoAMQgDJ+L/v2wPLlmpzUFC0FGpIQBo01V2W5LimRoTO7V/T39bJSDdXlUT2ybnXdeNP9yjswIx4RuT3bhf7/wA9CkzEoVIYEwAAAAASUVORK5CYII=\"/></td><td style=\"padding:1px;\"><img width=\"30\" height=\"30\" style=\"border:1px solid black; image-rendering:pixelated; object-fit:cover;\" src=\"data:image/png;base64,iVBORw0KGgoAAAANSUhEUgAAAAoAAAAKCAIAAAACUFjqAAAAR0lEQVR4nGWQQQ4AMAjCyv7/Z3cgY855MBiKJgJUFWBhffucD2St5ABJU2SzS1KnF1/1wGNnZ7jHjucTM/1za+BDX7w/J30DSqBK2lPK1yEAAAAASUVORK5CYII=\"/></td><td style=\"padding:1px;\"><img width=\"30\" height=\"30\" style=\"border:1px solid black; image-rendering:pixelated; object-fit:cover;\" src=\"data:image/png;base64,iVBORw0KGgoAAAANSUhEUgAAAAoAAAAKCAIAAAACUFjqAAAASElEQVR4nG1OQQ4AIAgC1/+/TAc2MouDExQRACQBcGNEZAYASGbV9OJRJbkWyaj9klHDN+jqg/gSWv3t1/15rWNm+8BpvpGhG0vYNhGu3VT2AAAAAElFTkSuQmCC\"/></td><td style=\"padding:1px;\"><img width=\"30\" height=\"30\" style=\"border:1px solid black; image-rendering:pixelated; object-fit:cover;\" src=\"data:image/png;base64,iVBORw0KGgoAAAANSUhEUgAAAAoAAAAKCAIAAAACUFjqAAAASElEQVR4nG2PyREAQQgCbfPPuffhjuUc/IASBDUigFgopUQmb1Uti6fXNGfsjZxNRxFH1OP6f2GvaJo95t4G5C1tYS7M8KLqBzKGMwnwpZPqAAAAAElFTkSuQmCC\"/></td><td style=\"padding:1px;\"><img width=\"30\" height=\"30\" style=\"border:1px solid black; image-rendering:pixelated; object-fit:cover;\" src=\"data:image/png;base64,iVBORw0KGgoAAAANSUhEUgAAAAoAAAAKCAIAAAACUFjqAAAASElEQVR4nG2QQQ4AIQwCnY3//zJ7qKKiHGyB0Ma2NqGJ6uvtJk98tycJGHaV4ladwQRYaqStxgD23TFA0pEOj3vf45Mh7cf5AQNCRO/Sip3gAAAAAElFTkSuQmCC\"/></td><td style=\"padding:1px;\"><img width=\"30\" height=\"30\" style=\"border:1px solid black; image-rendering:pixelated; object-fit:cover;\" src=\"data:image/png;base64,iVBORw0KGgoAAAANSUhEUgAAAAoAAAAKCAIAAAACUFjqAAAASElEQVR4nG2PQQ4AUQRDX93/zmYhv+mILqSUgu4G+sEcAGpyHhYvSZOYZF+d2lG0bd5RqeXiGdVUJTmmf2X70n7mo5037o+NDyGbROQQDpZFAAAAAElFTkSuQmCC\"/></td></tr></table><table class=\"show_images\" style=\"border-spacing:0px;\"><tr><td style=\"padding:1px;\"><img width=\"30\" height=\"30\" style=\"border:1px solid black; image-rendering:pixelated; object-fit:cover;\" src=\"data:image/png;base64,iVBORw0KGgoAAAANSUhEUgAAAAoAAAAKCAIAAAACUFjqAAAAS0lEQVR4nHWOQRKAIAwDd/n/n+OhWlAhh8520gRMoiYBGkrqUIuAOmXRPve1N4YCo+mvJL6W5wezo71t/zi9emeSdLSg56zsZQXgAjYRROu57mcnAAAAAElFTkSuQmCC\"/></td><td style=\"padding:1px;\"><img width=\"30\" height=\"30\" style=\"border:1px solid black; image-rendering:pixelated; object-fit:cover;\" src=\"data:image/png;base64,iVBORw0KGgoAAAANSUhEUgAAAAoAAAAKCAIAAAACUFjqAAAASklEQVR4nH2PQQ7AMAjDMP//s3dgowxNywG5hIBKPFILgMPT2B5kvFUe3LHswQlnqKjrBHXfngJS7c29vE/wE42IXO/5he9kd9UL1shB8rEBQoUAAAAASUVORK5CYII=\"/></td><td style=\"padding:1px;\"><img width=\"30\" height=\"30\" style=\"border:1px solid black; image-rendering:pixelated; object-fit:cover;\" src=\"data:image/png;base64,iVBORw0KGgoAAAANSUhEUgAAAAoAAAAKCAIAAAACUFjqAAAASUlEQVR4nH2PSQoAQQgDK9L//3LmYCMSmvHkkoqKbdvATqYsQFK3JAGjeEQ4na1teqMV6Phf4G9T0HvFHQcaX9RzNndU3DJcSz+tbD739rKt7QAAAABJRU5ErkJggg==\"/></td><td style=\"padding:1px;\"><img width=\"30\" height=\"30\" style=\"border:1px solid black; image-rendering:pixelated; object-fit:cover;\" src=\"data:image/png;base64,iVBORw0KGgoAAAANSUhEUgAAAAoAAAAKCAIAAAACUFjqAAAASElEQVR4nHWOQQ4AIQwCof//Mx66YiUuhyZSO0BJAEhiq51W2Wp37s46AH5SEsk4ur6aPOFfp7gLVUQGv56uZ3U1M2bWb67LLvwTMv9Pc8ghAAAAAElFTkSuQmCC\"/></td><td style=\"padding:1px;\"><img width=\"30\" height=\"30\" style=\"border:1px solid black; image-rendering:pixelated; object-fit:cover;\" src=\"data:image/png;base64,iVBORw0KGgoAAAANSUhEUgAAAAoAAAAKCAIAAAACUFjqAAAASElEQVR4nH2PSQ4AQQgCC///Z/pggr1kxouigCrbgCTAdgoAUKeQMmh4cN+oOO+iqWfN6dydCne/Mexb8al+F9uuS5HXB//4L0SFLQ5IDBuVAAAAAElFTkSuQmCC\"/></td><td style=\"padding:1px;\"><img width=\"30\" height=\"30\" style=\"border:1px solid black; image-rendering:pixelated; object-fit:cover;\" src=\"data:image/png;base64,iVBORw0KGgoAAAANSUhEUgAAAAoAAAAKCAIAAAACUFjqAAAASElEQVR4nG2OMQLAMAgCOf//ZzqkodbECRQQSbJtOyBYUukYIIpaCBi3hUlOF2Wj8PH1TZ3Clg9cqnVDfS32496jrqYfTalzHgZCR+P7lp8OAAAAAElFTkSuQmCC\"/></td><td style=\"padding:1px;\"><img width=\"30\" height=\"30\" style=\"border:1px solid black; image-rendering:pixelated; object-fit:cover;\" src=\"data:image/png;base64,iVBORw0KGgoAAAANSUhEUgAAAAoAAAAKCAIAAAACUFjqAAAASElEQVR4nH2QwQ4AIAhCe63//2U6UFa28uBQBKdFUplhHB1J7PUdNTggusZATc4JLzp5AGP3Zz0mLEpDhNVL3V4n7Yccr3A26GQAMvR9dvqwAAAAAElFTkSuQmCC\"/></td><td style=\"padding:1px;\"><img width=\"30\" height=\"30\" style=\"border:1px solid black; image-rendering:pixelated; object-fit:cover;\" src=\"data:image/png;base64,iVBORw0KGgoAAAANSUhEUgAAAAoAAAAKCAIAAAACUFjqAAAARUlEQVR4nIWOyREAIAgDs/bfMz5QUHQ0r0AOwMw0AayjJCSV1Yr20IBf+h6CQSJ6NmV58QUf5e4oGpC3o8N9vtleKw6gA6aaMxBqwuNsAAAAAElFTkSuQmCC\"/></td><td style=\"padding:1px;\"><img width=\"30\" height=\"30\" style=\"border:1px solid black; image-rendering:pixelated; object-fit:cover;\" src=\"data:image/png;base64,iVBORw0KGgoAAAANSUhEUgAAAAoAAAAKCAIAAAACUFjqAAAAS0lEQVR4nH2OSw4AMQhCeb3/nemCxqiTDCsiP5FkWxIQEgCSxulrOpqwndyWX1vTgJGO1gtOt9dqiG3Ku358fUv4+zxazT3SJ4MKXKslNgaIXQ2YAAAAAElFTkSuQmCC\"/></td><td style=\"padding:1px;\"><img width=\"30\" height=\"30\" style=\"border:1px solid black; image-rendering:pixelated; object-fit:cover;\" src=\"data:image/png;base64,iVBORw0KGgoAAAANSUhEUgAAAAoAAAAKCAIAAAACUFjqAAAARUlEQVR4nG2OUQ4AUQQDTe9/5+6HpE8sHwTTUlVlO3kFXbIDJqeF9w7orNM2E03bP6T43K8t9YJuUQRaV4G0tt/n0zzQBwnvMAoOQjS8AAAAAElFTkSuQmCC\"/></td><td style=\"padding:1px;\"><img width=\"30\" height=\"30\" style=\"border:1px solid black; image-rendering:pixelated; object-fit:cover;\" src=\"data:image/png;base64,iVBORw0KGgoAAAANSUhEUgAAAAoAAAAKCAIAAAACUFjqAAAARElEQVR4nIWOQQoAMQwCx/z/z+5BSEs3tB7CoJgEwHbmAYCa/pKkbo+qMUsNqKZdtuM/2uftDmLePgdq3LliSfvCcDsfZjQqBvtA9qoAAAAASUVORK5CYII=\"/></td><td style=\"padding:1px;\"><img width=\"30\" height=\"30\" style=\"border:1px solid black; image-rendering:pixelated; object-fit:cover;\" src=\"data:image/png;base64,iVBORw0KGgoAAAANSUhEUgAAAAoAAAAKCAIAAAACUFjqAAAAR0lEQVR4nG2OQQ4AMQgCB9P/f5k9bGtIKyfFMCLbACAJyNV2Eepbzyujqd+pN9fOhr/RQT5K2BrJbdZ4kLQ/XsALrrF5l/0AaCo+7LNG9fgAAAAASUVORK5CYII=\"/></td></tr></table><table class=\"show_images\" style=\"border-spacing:0px;\"><tr><td style=\"padding:1px;\"><img width=\"30\" height=\"30\" style=\"border:1px solid black; image-rendering:pixelated; object-fit:cover;\" src=\"data:image/png;base64,iVBORw0KGgoAAAANSUhEUgAAAAoAAAAKCAIAAAACUFjqAAAASklEQVR4nH2QQRLAIAwC2fz/z/RAJ1q1ciJAMkzQF7YB2xkHW5BQAT0vHpGOB+a0bHcoJMrvdlCXapLqUvu1EwS6TjygtL1irv0A1WMzCaPB/ogAAAAASUVORK5CYII=\"/></td><td style=\"padding:1px;\"><img width=\"30\" height=\"30\" style=\"border:1px solid black; image-rendering:pixelated; object-fit:cover;\" src=\"data:image/png;base64,iVBORw0KGgoAAAANSUhEUgAAAAoAAAAKCAIAAAACUFjqAAAAR0lEQVR4nHWNQQ4AIQgDp8b/f5k9kGBtXA9mAp1CVQH9NwwDO3aApDMcezwv0CE9WH4pEoD8aqpOnrjsvwSwYtfSFKxoi/cBO2xN6vRpPgAAAAAASUVORK5CYII=\"/></td><td style=\"padding:1px;\"><img width=\"30\" height=\"30\" style=\"border:1px solid black; image-rendering:pixelated; object-fit:cover;\" src=\"data:image/png;base64,iVBORw0KGgoAAAANSUhEUgAAAAoAAAAKCAIAAAACUFjqAAAARUlEQVR4nHWPMQ4AMQjDcHX//7JvSMXQ0gyAFGFC1Vvql3Z7QFWtcQ9Qgdlu3mmHmaryuj1vH6SVCKHNUpvfc+p+4M4c/VRoKgIydwGjAAAAAElFTkSuQmCC\"/></td><td style=\"padding:1px;\"><img width=\"30\" height=\"30\" style=\"border:1px solid black; image-rendering:pixelated; object-fit:cover;\" src=\"data:image/png;base64,iVBORw0KGgoAAAANSUhEUgAAAAoAAAAKCAIAAAACUFjqAAAATElEQVR4nGWPQRIAIAgCwfH/X6YDDTnmyVraFJIkAQAwe1cBIGmWUJpeV/NIv/txfD1B0qme7HfUiltA3n9rMQuy4cPL/Paeo2Y6mw5nBjkGWZlwqwAAAABJRU5ErkJggg==\"/></td><td style=\"padding:1px;\"><img width=\"30\" height=\"30\" style=\"border:1px solid black; image-rendering:pixelated; object-fit:cover;\" src=\"data:image/png;base64,iVBORw0KGgoAAAANSUhEUgAAAAoAAAAKCAIAAAACUFjqAAAASklEQVR4nGWPSQLAIAgDHf//5+mBlkbJQTAsIawPaiXAuqB2uVvVyOLtbt4Ac796sykB7CmZ1x3Tidq0UzstFb//K4bdg0lX/X0AOuhQ3iASISQAAAAASUVORK5CYII=\"/></td><td style=\"padding:1px;\"><img width=\"30\" height=\"30\" style=\"border:1px solid black; image-rendering:pixelated; object-fit:cover;\" src=\"data:image/png;base64,iVBORw0KGgoAAAANSUhEUgAAAAoAAAAKCAIAAAACUFjqAAAARklEQVR4nH2OQQrAQAwCHf//Z3tYCJJt6yHEGEVJSjLzYC60APQT4OYLSbx4U8CL95KEn3BJbtONT/fx+FWbmu5koNsleQD3CyoHqMDz5gAAAABJRU5ErkJggg==\"/></td><td style=\"padding:1px;\"><img width=\"30\" height=\"30\" style=\"border:1px solid black; image-rendering:pixelated; object-fit:cover;\" src=\"data:image/png;base64,iVBORw0KGgoAAAANSUhEUgAAAAoAAAAKCAIAAAACUFjqAAAAR0lEQVR4nG2PSRIAMQgC6fz/z8zBlOMSTkhRrSLJtiQgfQigzlundSH9TQY8dcOxr8JaN0thIqFGG/CAt4PGo+0u+DdtjO0PQ1o78vb8rYoAAAAASUVORK5CYII=\"/></td><td style=\"padding:1px;\"><img width=\"30\" height=\"30\" style=\"border:1px solid black; image-rendering:pixelated; object-fit:cover;\" src=\"data:image/png;base64,iVBORw0KGgoAAAANSUhEUgAAAAoAAAAKCAIAAAACUFjqAAAARElEQVR4nG2QSQoAMAgDHen/v5weCsEScxAhi8GqH5LmPG9LSAKYpkQnZw/Q5takXjOt6+cD1hOsvaw+2cgGoCT5CblcFy0+8g8MZYkAAAAASUVORK5CYII=\"/></td><td style=\"padding:1px;\"><img width=\"30\" height=\"30\" style=\"border:1px solid black; image-rendering:pixelated; object-fit:cover;\" src=\"data:image/png;base64,iVBORw0KGgoAAAANSUhEUgAAAAoAAAAKCAIAAAACUFjqAAAATElEQVR4nG2PQQ4AIQwCwf//efZAllRTDkQFWhEgKRzwQ5Ir2J6m4ESYT73aPmsoDkBdU64b2KNABrjG9XdntpotwtZd+l30aA3k8AFRzEfrsh6e2wAAAABJRU5ErkJggg==\"/></td><td style=\"padding:1px;\"><img width=\"30\" height=\"30\" style=\"border:1px solid black; image-rendering:pixelated; object-fit:cover;\" src=\"data:image/png;base64,iVBORw0KGgoAAAANSUhEUgAAAAoAAAAKCAIAAAACUFjqAAAAS0lEQVR4nG2QQQ4AMQgCgf//mT2QUNKuJ4Q4GgHANqZsx7HNjUlGk4yjDjVbjC5rMwbywsvXNkuKVo/8XaFtenD1YV6LD6/8PqT1AYsmROp69Y5aAAAAAElFTkSuQmCC\"/></td><td style=\"padding:1px;\"><img width=\"30\" height=\"30\" style=\"border:1px solid black; image-rendering:pixelated; object-fit:cover;\" src=\"data:image/png;base64,iVBORw0KGgoAAAANSUhEUgAAAAoAAAAKCAIAAAACUFjqAAAASUlEQVR4nH2PQQ7AMAjDHP7/Z+9QibJuKgdEFBwEgKoCa+4OZAogyUtO8a1K0tzh5Yi60b8BNek1z3N1QdVqT10b++mm2zseeQAGCyoTeCOqswAAAABJRU5ErkJggg==\"/></td><td style=\"padding:1px;\"><img width=\"30\" height=\"30\" style=\"border:1px solid black; image-rendering:pixelated; object-fit:cover;\" src=\"data:image/png;base64,iVBORw0KGgoAAAANSUhEUgAAAAoAAAAKCAIAAAACUFjqAAAAQElEQVR4nIWOQQ4AQAQDp/7/Z3uQbGxJ1gkdLWUmAEiavYC7NQiILkz0YXuV5BdGxKrdINW8fvfPjvLZne16mh3EujYFEajoAAAAAABJRU5ErkJggg==\"/></td></tr></table><table class=\"show_images\" style=\"border-spacing:0px;\"><tr><td style=\"padding:1px;\"><img width=\"30\" height=\"30\" style=\"border:1px solid black; image-rendering:pixelated; object-fit:cover;\" src=\"data:image/png;base64,iVBORw0KGgoAAAANSUhEUgAAAAoAAAAKCAIAAAACUFjqAAAAQklEQVR4nH2QQQ7AMAjDbLT/fzm7tWxq4YBAJkoESZIAq/fBBY5VAwNqYGqpN5ak+v5jgLP3c1QvzSdaf4B6i7XvXvVcMvbgSYX4AAAAAElFTkSuQmCC\"/></td><td style=\"padding:1px;\"><img width=\"30\" height=\"30\" style=\"border:1px solid black; image-rendering:pixelated; object-fit:cover;\" src=\"data:image/png;base64,iVBORw0KGgoAAAANSUhEUgAAAAoAAAAKCAIAAAACUFjqAAAASElEQVR4nHWPQQ7AQAgCGf//Z3qwa1zSelCMgogk25KAwdMy/WfUoHcd9vgSjABqU0PJdgV1GwQqDKe1GNjeh36pcH7uErnBAzJrMwCc6mQjAAAAAElFTkSuQmCC\"/></td><td style=\"padding:1px;\"><img width=\"30\" height=\"30\" style=\"border:1px solid black; image-rendering:pixelated; object-fit:cover;\" src=\"data:image/png;base64,iVBORw0KGgoAAAANSUhEUgAAAAoAAAAKCAIAAAACUFjqAAAARUlEQVR4nI2QSQoAMAgDk9L/f9kepCFahOakEzcEAAAR4UFcbRlJSTpZ7qlCkD751ZqMPzsnl31kpmx3JiqXe9+o9g3BA2fTOPDds7/3AAAAAElFTkSuQmCC\"/></td><td style=\"padding:1px;\"><img width=\"30\" height=\"30\" style=\"border:1px solid black; image-rendering:pixelated; object-fit:cover;\" src=\"data:image/png;base64,iVBORw0KGgoAAAANSUhEUgAAAAoAAAAKCAIAAAACUFjqAAAAQUlEQVR4nHWQQQ4AMAQETf//5/YgZG10DsLGqopbRJF5RlRKgC6Pqkur1QqwuEfHz+pv94COrOsMt33aV9EjKKk8lIsv+FfRsmgAAAAASUVORK5CYII=\"/></td><td style=\"padding:1px;\"><img width=\"30\" height=\"30\" style=\"border:1px solid black; image-rendering:pixelated; object-fit:cover;\" src=\"data:image/png;base64,iVBORw0KGgoAAAANSUhEUgAAAAoAAAAKCAIAAAACUFjqAAAASElEQVR4nGWOwREAIQwCs/bfM/fQ4RB9ZEgiZEeSpLmfJ2QzM8C/g1XWahfgvyUkHbczK7xvN0GSb5ETXmtmHLSsl0gQ0zngAxp1Pv5QCECdAAAAAElFTkSuQmCC\"/></td><td style=\"padding:1px;\"><img width=\"30\" height=\"30\" style=\"border:1px solid black; image-rendering:pixelated; object-fit:cover;\" src=\"data:image/png;base64,iVBORw0KGgoAAAANSUhEUgAAAAoAAAAKCAIAAAACUFjqAAAAR0lEQVR4nH2PwQ4AIAhCpf//59dBRzZbHhyCOAwAiIjsBtllVjrYzPLQNUkFUpjWkp/s4/gs4Cc7wYnW/yx3vXinS6u6e25s41k+7PsrUUYAAAAASUVORK5CYII=\"/></td><td style=\"padding:1px;\"><img width=\"30\" height=\"30\" style=\"border:1px solid black; image-rendering:pixelated; object-fit:cover;\" src=\"data:image/png;base64,iVBORw0KGgoAAAANSUhEUgAAAAoAAAAKCAIAAAACUFjqAAAARklEQVR4nH2OSwqAQAxD84r3v3JczBBrZcyikC9FkiTbgG01ALW8XKAnKkF9YPvqU9l4xMETXXqNdma3OPicORmvz4/4b9+jzSQCnqt7LwAAAABJRU5ErkJggg==\"/></td><td style=\"padding:1px;\"><img width=\"30\" height=\"30\" style=\"border:1px solid black; image-rendering:pixelated; object-fit:cover;\" src=\"data:image/png;base64,iVBORw0KGgoAAAANSUhEUgAAAAoAAAAKCAIAAAACUFjqAAAARUlEQVR4nHWPwQ4AIAhCw///59ehTYkWJ8UBomUA1o1qFpDUhzPrp0u1Y2yANnfmrDUxUtgA5QYRpFeRr3mZ98GKupG9AbUkOPL89x73AAAAAElFTkSuQmCC\"/></td><td style=\"padding:1px;\"><img width=\"30\" height=\"30\" style=\"border:1px solid black; image-rendering:pixelated; object-fit:cover;\" src=\"data:image/png;base64,iVBORw0KGgoAAAANSUhEUgAAAAoAAAAKCAIAAAACUFjqAAAASElEQVR4nG2OSRLAQAgCaf7/Z3MgZXQmnFAWRZKkqgoBwkPcQvuAJp/3t8N3bvnmMHOBD00bzuqufQPnPMoBa+N43rMZ6FvxPXAXPAv+EZybAAAAAElFTkSuQmCC\"/></td><td style=\"padding:1px;\"><img width=\"30\" height=\"30\" style=\"border:1px solid black; image-rendering:pixelated; object-fit:cover;\" src=\"data:image/png;base64,iVBORw0KGgoAAAANSUhEUgAAAAoAAAAKCAIAAAACUFjqAAAASElEQVR4nG1PQQ4AIAiC1v+/TAeWkcWhASFTYkMSAJImBiU1yyGTkX/lnrI2V6HLl2RdrsnMZu9xjWb87UDq9/2slhjtHpIpF0UrTeADBxBbAAAAAElFTkSuQmCC\"/></td><td style=\"padding:1px;\"><img width=\"30\" height=\"30\" style=\"border:1px solid black; image-rendering:pixelated; object-fit:cover;\" src=\"data:image/png;base64,iVBORw0KGgoAAAANSUhEUgAAAAoAAAAKCAIAAAACUFjqAAAAS0lEQVR4nHWPQQ4AMQgCh6b//zI92JiW7nowoAFUtgFAElC0MDD4qS2z3QaNu4/2edWS1NKKDHrE3GDfGIuQfrhVak3mG3yCfDR+WxIdSuaXvkRZAAAAAElFTkSuQmCC\"/></td><td style=\"padding:1px;\"><img width=\"30\" height=\"30\" style=\"border:1px solid black; image-rendering:pixelated; object-fit:cover;\" src=\"data:image/png;base64,iVBORw0KGgoAAAANSUhEUgAAAAoAAAAKCAIAAAACUFjqAAAASElEQVR4nGWOQRIAMAQDN/7/5/RgqkoOJiKIuLANSCoOqNiGpEj7UOte2M6+q58v+6r9nXJ7JCjl5dwmIPpsx6T/25Vx0BfJD9zjUN5dH34oAAAAAElFTkSuQmCC\"/></td></tr></table><table class=\"show_images\" style=\"border-spacing:0px;\"><tr><td style=\"padding:1px;\"><img width=\"30\" height=\"30\" style=\"border:1px solid black; image-rendering:pixelated; object-fit:cover;\" src=\"data:image/png;base64,iVBORw0KGgoAAAANSUhEUgAAAAoAAAAKCAIAAAACUFjqAAAAR0lEQVR4nHWPQQrAQAwCnf3/n+0hkLWW5hAYUGMkybZiFm2TDKSUZbi6FFHJOYyprqb7/FW7zuHdr3ZVtR45GzInu2nyN/8BgQVK4AvBzsgAAAAASUVORK5CYII=\"/></td><td style=\"padding:1px;\"><img width=\"30\" height=\"30\" style=\"border:1px solid black; image-rendering:pixelated; object-fit:cover;\" src=\"data:image/png;base64,iVBORw0KGgoAAAANSUhEUgAAAAoAAAAKCAIAAAACUFjqAAAARklEQVR4nH1PSRIAIAjCpv9/mQ6U2mIc3FBUYIGkBwIA8+oNM2sVIZk3TVIdTU721th2HymAXnFTNb/kF0XT57EQz3P5zAEt4yoNx5LExQAAAABJRU5ErkJggg==\"/></td><td style=\"padding:1px;\"><img width=\"30\" height=\"30\" style=\"border:1px solid black; image-rendering:pixelated; object-fit:cover;\" src=\"data:image/png;base64,iVBORw0KGgoAAAANSUhEUgAAAAoAAAAKCAIAAAACUFjqAAAARklEQVR4nHWOQQ7AQAgCGf//Z3ugpTZ1uUg0jEiPujvGkkS28Pqo/un9DADzxgqcv8qJ5MJwrDxm7Q/j1MuMOnW+lys2/gIDOTjzXZ5qMQAAAABJRU5ErkJggg==\"/></td><td style=\"padding:1px;\"><img width=\"30\" height=\"30\" style=\"border:1px solid black; image-rendering:pixelated; object-fit:cover;\" src=\"data:image/png;base64,iVBORw0KGgoAAAANSUhEUgAAAAoAAAAKCAIAAAACUFjqAAAASUlEQVR4nH2OQQoAMQgDx9L/fzl7SElFynoQY5xgAZKAqurzGbIa5YsVz3T6oSVFDBpYz3B7f7Rr0uGuPb7tcj8zb4bPOyQpyw+8GDkC5MaMcAAAAABJRU5ErkJggg==\"/></td><td style=\"padding:1px;\"><img width=\"30\" height=\"30\" style=\"border:1px solid black; image-rendering:pixelated; object-fit:cover;\" src=\"data:image/png;base64,iVBORw0KGgoAAAANSUhEUgAAAAoAAAAKCAIAAAACUFjqAAAAQ0lEQVR4nIWQSw4AIQhDX7n/netiDNE6UVbQXxoAbNtmnw9Rb4C0nUnHSKpftPN1sQJ1mtZqFVyIbuG2H80n158J6QDijC/3sNVJqwAAAABJRU5ErkJggg==\"/></td><td style=\"padding:1px;\"><img width=\"30\" height=\"30\" style=\"border:1px solid black; image-rendering:pixelated; object-fit:cover;\" src=\"data:image/png;base64,iVBORw0KGgoAAAANSUhEUgAAAAoAAAAKCAIAAAACUFjqAAAASklEQVR4nHWPwQ0AMQjDYnT7r5w+UBGHKE8ntAZJkmzrDpAEiB5UtWD0IPd67wPGA1WyHZ3mfz+P4TVmUesGsRolAUKPo/ftChIeuJgwD47wPEsAAAAASUVORK5CYII=\"/></td><td style=\"padding:1px;\"><img width=\"30\" height=\"30\" style=\"border:1px solid black; image-rendering:pixelated; object-fit:cover;\" src=\"data:image/png;base64,iVBORw0KGgoAAAANSUhEUgAAAAoAAAAKCAIAAAACUFjqAAAAS0lEQVR4nF2PQRLAMAgCs0z//2V6MHUoHDJZIxqwfULAXKaurc6D7TQo28tK8Q5fVEL67jnsT/lN28/5KzsAAWXKeCqehLtRNa1SvDo3PwdLtaenAAAAAElFTkSuQmCC\"/></td><td style=\"padding:1px;\"><img width=\"30\" height=\"30\" style=\"border:1px solid black; image-rendering:pixelated; object-fit:cover;\" src=\"data:image/png;base64,iVBORw0KGgoAAAANSUhEUgAAAAoAAAAKCAIAAAACUFjqAAAASUlEQVR4nHWPwREAMQgCgf57Ng9PYszFFyM7iAQAICJQQ/JYRo2JrbuRotOceOXnRi/va+DA3xIaaaOdbqOf0zD8dEIySNJJhhboalPX7jSVJQAAAABJRU5ErkJggg==\"/></td><td style=\"padding:1px;\"><img width=\"30\" height=\"30\" style=\"border:1px solid black; image-rendering:pixelated; object-fit:cover;\" src=\"data:image/png;base64,iVBORw0KGgoAAAANSUhEUgAAAAoAAAAKCAIAAAACUFjqAAAARUlEQVR4nHWNSxIAIAhCwfvfmRZOSjptGnryAQBJ+ZaobzhyAYAkB/Jbpwu56HR6d0H4ZIduTbh9DEl6zsPHPTkIf81JDoPqQfciRSFhAAAAAElFTkSuQmCC\"/></td><td style=\"padding:1px;\"><img width=\"30\" height=\"30\" style=\"border:1px solid black; image-rendering:pixelated; object-fit:cover;\" src=\"data:image/png;base64,iVBORw0KGgoAAAANSUhEUgAAAAoAAAAKCAIAAAACUFjqAAAARklEQVR4nHWNQRLAMAgCwf//eXuwoU6SckKR1ZIASbbjewScLEHkrTGD18zsZNzbUU3U+aL+ek0tAGjAhvnafZG7LHUflh6QszAFyoYM4QAAAABJRU5ErkJggg==\"/></td><td style=\"padding:1px;\"><img width=\"30\" height=\"30\" style=\"border:1px solid black; image-rendering:pixelated; object-fit:cover;\" src=\"data:image/png;base64,iVBORw0KGgoAAAANSUhEUgAAAAoAAAAKCAIAAAACUFjqAAAARElEQVR4nHWPwQ4AIAhCxf//59fB5orMg1MRGAIkRUQNQBzl+4VJWdRfpb1333BZtv3A7qs9ATPJvVvfvJ+gR3QP9gosblwkIN/u5bcAAAAASUVORK5CYII=\"/></td><td style=\"padding:1px;\"><img width=\"30\" height=\"30\" style=\"border:1px solid black; image-rendering:pixelated; object-fit:cover;\" src=\"data:image/png;base64,iVBORw0KGgoAAAANSUhEUgAAAAoAAAAKCAIAAAACUFjqAAAAR0lEQVR4nIWOSQ7AAAgCB///5+nBxG6m5UQIjkRNAgAqd2VPkw6LlwYGVLcmajO8/WvDkzyvp91JrdPO3x/wn+UqahfHXGEHGkY4+Fr/KXAAAAAASUVORK5CYII=\"/></td></tr></table><table class=\"show_images\" style=\"border-spacing:0px;\"><tr><td style=\"padding:1px;\"><img width=\"30\" height=\"30\" style=\"border:1px solid black; image-rendering:pixelated; object-fit:cover;\" src=\"data:image/png;base64,iVBORw0KGgoAAAANSUhEUgAAAAoAAAAKCAIAAAACUFjqAAAASUlEQVR4nI2QUQrAMAxCfbn/nbsPg0gHY36k1kQbqlOQ5BqCGZCGYWViAqzGDUzGr/DNeEuN+ehJmr7k4V/hwIa3r5ff4/qN8AcK2kTkEZ9GTgAAAABJRU5ErkJggg==\"/></td><td style=\"padding:1px;\"><img width=\"30\" height=\"30\" style=\"border:1px solid black; image-rendering:pixelated; object-fit:cover;\" src=\"data:image/png;base64,iVBORw0KGgoAAAANSUhEUgAAAAoAAAAKCAIAAAACUFjqAAAATElEQVR4nGWQQQ6AQAgDO8T/f7ke0Iosp0KGpiDbkmy36Iqu2QQNx2zOKknAww7Rmu32EraB6zSfk5pLwMpfK3O4n1vuXm/43GaobN6kh0fpMh3vrQAAAABJRU5ErkJggg==\"/></td><td style=\"padding:1px;\"><img width=\"30\" height=\"30\" style=\"border:1px solid black; image-rendering:pixelated; object-fit:cover;\" src=\"data:image/png;base64,iVBORw0KGgoAAAANSUhEUgAAAAoAAAAKCAIAAAACUFjqAAAASUlEQVR4nG2OQQ7AMAjDMOr/v5wdVkWBjQNCSWu5JFXV2j6O03ckAQ5ZdQ7Qfu4oDwz8ZXRK5e9bD9RkAJ2e1zYA5ys1AMt81Q8Tjz7/ovHZVAAAAABJRU5ErkJggg==\"/></td><td style=\"padding:1px;\"><img width=\"30\" height=\"30\" style=\"border:1px solid black; image-rendering:pixelated; object-fit:cover;\" src=\"data:image/png;base64,iVBORw0KGgoAAAANSUhEUgAAAAoAAAAKCAIAAAACUFjqAAAARElEQVR4nG2OQQ4AIAzC1v3/z3gwQXRyWhglIKlCQFVtE+i65TQgqSfqA1dlZ6Z5rEftwv970gl8aE+56Mw50dOCM3kBzP4nHu58oBYAAAAASUVORK5CYII=\"/></td><td style=\"padding:1px;\"><img width=\"30\" height=\"30\" style=\"border:1px solid black; image-rendering:pixelated; object-fit:cover;\" src=\"data:image/png;base64,iVBORw0KGgoAAAANSUhEUgAAAAoAAAAKCAIAAAACUFjqAAAASklEQVR4nG2PQQ4AMQgCh/7/z+zBDbW1HgxBQZFtQFIAUBhYjMpM0rqoa2/FcJ74edvFdlBdT9tIH68dV+bDXb1TJnGkW92zdo8PAMk7+QD65pcAAAAASUVORK5CYII=\"/></td><td style=\"padding:1px;\"><img width=\"30\" height=\"30\" style=\"border:1px solid black; image-rendering:pixelated; object-fit:cover;\" src=\"data:image/png;base64,iVBORw0KGgoAAAANSUhEUgAAAAoAAAAKCAIAAAACUFjqAAAARElEQVR4nF2PQQ4AMQgCF///Z3ogSwBPdJxUxddFUgFAIZIOtpF6NkSwektXY37V5OZtSeTmN3uCl9umKm9X25pzrSo86NBE7NCIh0IAAAAASUVORK5CYII=\"/></td><td style=\"padding:1px;\"><img width=\"30\" height=\"30\" style=\"border:1px solid black; image-rendering:pixelated; object-fit:cover;\" src=\"data:image/png;base64,iVBORw0KGgoAAAANSUhEUgAAAAoAAAAKCAIAAAACUFjqAAAAS0lEQVR4nHWPSw4AMQhCeWbuf2W6sDGOpi4MiB+UJNuSOihMlYDRISk6GRoQOQTYTqw9UbkiKT8j0Pcz+I7ovUMDvtdL12xd3b8BB/18PvcCiBrEAAAAAElFTkSuQmCC\"/></td><td style=\"padding:1px;\"><img width=\"30\" height=\"30\" style=\"border:1px solid black; image-rendering:pixelated; object-fit:cover;\" src=\"data:image/png;base64,iVBORw0KGgoAAAANSUhEUgAAAAoAAAAKCAIAAAACUFjqAAAARklEQVR4nG2PyQ0AMAjDHNT9V6YPEEVReTkcAQRkJiDJAHjUejUBMdnS010QO1v8CRsaPqbN6e02/9494nuEP2YR+2OrSbp0PTkG1g1JvQAAAABJRU5ErkJggg==\"/></td><td style=\"padding:1px;\"><img width=\"30\" height=\"30\" style=\"border:1px solid black; image-rendering:pixelated; object-fit:cover;\" src=\"data:image/png;base64,iVBORw0KGgoAAAANSUhEUgAAAAoAAAAKCAIAAAACUFjqAAAARklEQVR4nG2QSQ4AIAgDLf//83gw1opyarpBGMDYYwwsrJTbSCqjVwNO2o5kyoL3XR2225T9nWq761O4M5Iqb07hSuRDkp8fmDj+cjrLmAAAAABJRU5ErkJggg==\"/></td><td style=\"padding:1px;\"><img width=\"30\" height=\"30\" style=\"border:1px solid black; image-rendering:pixelated; object-fit:cover;\" src=\"data:image/png;base64,iVBORw0KGgoAAAANSUhEUgAAAAoAAAAKCAIAAAACUFjqAAAASElEQVR4nGWOQRIAMAQDN/7/5/TQVhUHI5YAYNs2N2qtrSU1cPA3K7WJqKIxSVFFY918nghG5KdAHJOS84l3e2+k59vO1mTAAvENMAq3RI2TAAAAAElFTkSuQmCC\"/></td><td style=\"padding:1px;\"><img width=\"30\" height=\"30\" style=\"border:1px solid black; image-rendering:pixelated; object-fit:cover;\" src=\"data:image/png;base64,iVBORw0KGgoAAAANSUhEUgAAAAoAAAAKCAIAAAACUFjqAAAASUlEQVR4nG2PQQ4AMQgCGf//Z/bQFI1bD0YRFLEtCbB9sm4ASJrQilqzI0hdC9rsCeV2BDW54aXocRTQlt/L29rs/x+285nD/gCmYTARiKnSGQAAAABJRU5ErkJggg==\"/></td><td style=\"padding:1px;\"><img width=\"30\" height=\"30\" style=\"border:1px solid black; image-rendering:pixelated; object-fit:cover;\" src=\"data:image/png;base64,iVBORw0KGgoAAAANSUhEUgAAAAoAAAAKCAIAAAACUFjqAAAASUlEQVR4nHWOwRHAQAgCWfvvmXs48RiT8ELUVUmyLalNS4/I9lu1amAMXfQ2MOaGf+SeLriYxddA8uFMPu4lphYmybbJ8dke2AH08EH0TbcctQAAAABJRU5ErkJggg==\"/></td></tr></table><table class=\"show_images\" style=\"border-spacing:0px;\"><tr><td style=\"padding:1px;\"><img width=\"30\" height=\"30\" style=\"border:1px solid black; image-rendering:pixelated; object-fit:cover;\" src=\"data:image/png;base64,iVBORw0KGgoAAAANSUhEUgAAAAoAAAAKCAIAAAACUFjqAAAAPUlEQVR4nIVOQQoAMAjS/v9nd4i5WEEegtQ04EKSpLoCYKU6YmRJznIKjgwbXVmZ2Lt7wPza53v2vOhzcR/VNS/wjC7doAAAAABJRU5ErkJggg==\"/></td><td style=\"padding:1px;\"><img width=\"30\" height=\"30\" style=\"border:1px solid black; image-rendering:pixelated; object-fit:cover;\" src=\"data:image/png;base64,iVBORw0KGgoAAAANSUhEUgAAAAoAAAAKCAIAAAACUFjqAAAAQ0lEQVR4nH2OQRIAIAgCl/7/ZzvQlKMVJwYREBARgCRzSVaAwzJsXedsr74dfs14/hmj953XLb0Gjq7WcI//+ypcNwEP0iEKqd+R0wAAAABJRU5ErkJggg==\"/></td><td style=\"padding:1px;\"><img width=\"30\" height=\"30\" style=\"border:1px solid black; image-rendering:pixelated; object-fit:cover;\" src=\"data:image/png;base64,iVBORw0KGgoAAAANSUhEUgAAAAoAAAAKCAIAAAACUFjqAAAASUlEQVR4nGWPwQ3AMAwCj6j7r0wfVmhDeJ2wETaAbSDgLWD9BwOSwk9Fo1la2b1le92hOJK+9EB1qdKlo3tYUsyjO3/3hTWI8wJ5kUfrs7ct5QAAAABJRU5ErkJggg==\"/></td><td style=\"padding:1px;\"><img width=\"30\" height=\"30\" style=\"border:1px solid black; image-rendering:pixelated; object-fit:cover;\" src=\"data:image/png;base64,iVBORw0KGgoAAAANSUhEUgAAAAoAAAAKCAIAAAACUFjqAAAATUlEQVR4nG2QQQ4AMQgCGbP//zJ7sLGs2Z5QzEAq25JsL9GPXp0B0pNUOdsG0ia9Bnx4v/ARdTkRPEd03mp0qy34Es86z+ZAzWoi8mdeb4tB+XBhe2gAAAAASUVORK5CYII=\"/></td><td style=\"padding:1px;\"><img width=\"30\" height=\"30\" style=\"border:1px solid black; image-rendering:pixelated; object-fit:cover;\" src=\"data:image/png;base64,iVBORw0KGgoAAAANSUhEUgAAAAoAAAAKCAIAAAACUFjqAAAASUlEQVR4nG2OSw7AQAhCeab3v7JdTAaJLQviD1DdLcl8CqPOFMjF3PVF7swlCbA6WdLjZvlPdgLIFDLva1BLZ/XYLEV+x++FU14+Uk3fCzJvBwAAAABJRU5ErkJggg==\"/></td><td style=\"padding:1px;\"><img width=\"30\" height=\"30\" style=\"border:1px solid black; image-rendering:pixelated; object-fit:cover;\" src=\"data:image/png;base64,iVBORw0KGgoAAAANSUhEUgAAAAoAAAAKCAIAAAACUFjqAAAAR0lEQVR4nH2NwQKAMAhCH/3/P7ODi9yqeUBEBWwDwSruUh8A6VEkXWH9oj8Qw04KNZv2lGn+3sXc9sn5Nzu6lsPP7E0qLDIAUDJc0QMcIScAAAAASUVORK5CYII=\"/></td><td style=\"padding:1px;\"><img width=\"30\" height=\"30\" style=\"border:1px solid black; image-rendering:pixelated; object-fit:cover;\" src=\"data:image/png;base64,iVBORw0KGgoAAAANSUhEUgAAAAoAAAAKCAIAAAACUFjqAAAATElEQVR4nHWPwQ4AIAhCea3//2U6mOZacVGUISLJtiRJQFAghlkgFF1qeyjx0x1iu5rtcQsT+3zfVV8251Kl7ZhP8wr4fSyGA3jaBhby0Ufq8B7AIAAAAABJRU5ErkJggg==\"/></td><td style=\"padding:1px;\"><img width=\"30\" height=\"30\" style=\"border:1px solid black; image-rendering:pixelated; object-fit:cover;\" src=\"data:image/png;base64,iVBORw0KGgoAAAANSUhEUgAAAAoAAAAKCAIAAAACUFjqAAAAR0lEQVR4nJWOQRKAMAgDd/n/n/GARcbqoTlBEkLIBQCooZlgoXa1rbesTseEH9Rwx5+Qme6x87cau/YOP6s2q0SddoA+hYAL6iU8AZdYiJIAAAAASUVORK5CYII=\"/></td><td style=\"padding:1px;\"><img width=\"30\" height=\"30\" style=\"border:1px solid black; image-rendering:pixelated; object-fit:cover;\" src=\"data:image/png;base64,iVBORw0KGgoAAAANSUhEUgAAAAoAAAAKCAIAAAACUFjqAAAATUlEQVR4nGWPQQ6AQAgDO8T/f7ke0IpsDyRAWgbZti2pa9QtaxoBkjh9UzV3wGN665UmEPN8neHwAfHjZJNWMteuL9Z6dOYDFdppiuEGgEg8A2AEPdIAAAAASUVORK5CYII=\"/></td><td style=\"padding:1px;\"><img width=\"30\" height=\"30\" style=\"border:1px solid black; image-rendering:pixelated; object-fit:cover;\" src=\"data:image/png;base64,iVBORw0KGgoAAAANSUhEUgAAAAoAAAAKCAIAAAACUFjqAAAATElEQVR4nG2OwQ0AMQjD7O6/c+7RE43U8gElBAwAJEmyh1EA/6bt7fKpdq3x9urJKbDam43zsVluuvfvYTKJ+qRTV6eb7hxvnI4m+QB5U0Hxe2s0QQAAAABJRU5ErkJggg==\"/></td><td style=\"padding:1px;\"><img width=\"30\" height=\"30\" style=\"border:1px solid black; image-rendering:pixelated; object-fit:cover;\" src=\"data:image/png;base64,iVBORw0KGgoAAAANSUhEUgAAAAoAAAAKCAIAAAACUFjqAAAASUlEQVR4nG2OQQ7AIAzDmvz/z96hWpQxOFQktQUDzAyQS0enykkELElSrzv6wA/OhyFpoW189dIYWHBnq4D+Xj/3UqV+oOuH4zxppUH49aI/IwAAAABJRU5ErkJggg==\"/></td><td style=\"padding:1px;\"><img width=\"30\" height=\"30\" style=\"border:1px solid black; image-rendering:pixelated; object-fit:cover;\" src=\"data:image/png;base64,iVBORw0KGgoAAAANSUhEUgAAAAoAAAAKCAIAAAACUFjqAAAARUlEQVR4nI2PSQ4AIAwCwf//GQ9VgnGJnLoNbYEpSZIyAMDKcRLJVj2SLqUfb+igazyhX3o5zQYJNK/Jfzz9emy0d0+rA+20L/iRf4pWAAAAAElFTkSuQmCC\"/></td></tr></table><table class=\"show_images\" style=\"border-spacing:0px;\"><tr><td style=\"padding:1px;\"><img width=\"30\" height=\"30\" style=\"border:1px solid black; image-rendering:pixelated; object-fit:cover;\" src=\"data:image/png;base64,iVBORw0KGgoAAAANSUhEUgAAAAoAAAAKCAIAAAACUFjqAAAAQElEQVR4nH2QQRIAMAQDrf//WQ/aToYhJ7UaGdhTRGQB/CYKkulcxUWuD7W9WK36+s0c8AnkN5bYNVrPgQ0HSR3sVycMKDUr3QAAAABJRU5ErkJggg==\"/></td><td style=\"padding:1px;\"><img width=\"30\" height=\"30\" style=\"border:1px solid black; image-rendering:pixelated; object-fit:cover;\" src=\"data:image/png;base64,iVBORw0KGgoAAAANSUhEUgAAAAoAAAAKCAIAAAACUFjqAAAATElEQVR4nHWPQQ4AIQwCaf//5/FAUlF3OWhFUqAkAZKqaoZN+hqkCGj9wKLj22t9Gp0UcHm138Pa8l1zuG51FvM84T+KXfU6AxsZZQGo3jwJX97VkgAAAABJRU5ErkJggg==\"/></td><td style=\"padding:1px;\"><img width=\"30\" height=\"30\" style=\"border:1px solid black; image-rendering:pixelated; object-fit:cover;\" src=\"data:image/png;base64,iVBORw0KGgoAAAANSUhEUgAAAAoAAAAKCAIAAAACUFjqAAAAP0lEQVR4nI2OQQoAMAjD2v3/z9lBkOI8rKdIDSpFgDEasD0KSbYl+ZVye/FmagNo2LssipfbmbM+3PxnD6n5Aqs8Nemo2pLqAAAAAElFTkSuQmCC\"/></td><td style=\"padding:1px;\"><img width=\"30\" height=\"30\" style=\"border:1px solid black; image-rendering:pixelated; object-fit:cover;\" src=\"data:image/png;base64,iVBORw0KGgoAAAANSUhEUgAAAAoAAAAKCAIAAAACUFjqAAAASUlEQVR4nGWPwREAMQgCWfvv2Xsw46HxFVQWQ3dLAvxwWQJMyzqXJJUHs6Fd5dZE5Ayo1Oav+Be43AlM63/aa5qUCz9/q0M7130SGjAXUdnuIAAAAABJRU5ErkJggg==\"/></td><td style=\"padding:1px;\"><img width=\"30\" height=\"30\" style=\"border:1px solid black; image-rendering:pixelated; object-fit:cover;\" src=\"data:image/png;base64,iVBORw0KGgoAAAANSUhEUgAAAAoAAAAKCAIAAAACUFjqAAAASElEQVR4nG2QWw4AMAQEZ93/zvoh3arwIV5rBACQmd2XAeFqN0lV19r2UIy8dCbGkI70MrRTtIKNmCLpEzx2319xPxO/wgFwAPxHQemPRv43AAAAAElFTkSuQmCC\"/></td><td style=\"padding:1px;\"><img width=\"30\" height=\"30\" style=\"border:1px solid black; image-rendering:pixelated; object-fit:cover;\" src=\"data:image/png;base64,iVBORw0KGgoAAAANSUhEUgAAAAoAAAAKCAIAAAACUFjqAAAARklEQVR4nG2PQRIAMAQDrf//OT3oqMIhI5gkTJKZBc6G5LMAX6dACPQ1PL179Zmx2UmqGZMut59+fWaWS4oEiTXQC9VcAw9PMkTn2q0jkQAAAABJRU5ErkJggg==\"/></td><td style=\"padding:1px;\"><img width=\"30\" height=\"30\" style=\"border:1px solid black; image-rendering:pixelated; object-fit:cover;\" src=\"data:image/png;base64,iVBORw0KGgoAAAANSUhEUgAAAAoAAAAKCAIAAAACUFjqAAAAR0lEQVR4nG2OsQ0AMAjDYv7/OR2QKC1kQzhgbGsEsA3E3EmqTgCJrwcu27/YzpFv8fQkVrXKVQMWg0+105IiLaZ/FqK7FFc5AbYzA+BP9tcAAAAASUVORK5CYII=\"/></td><td style=\"padding:1px;\"><img width=\"30\" height=\"30\" style=\"border:1px solid black; image-rendering:pixelated; object-fit:cover;\" src=\"data:image/png;base64,iVBORw0KGgoAAAANSUhEUgAAAAoAAAAKCAIAAAACUFjqAAAASUlEQVR4nH2QQQ7AQAgCwfT/X54eTFw3pPUkCGgUoCig+WdwiiT5ZyapjtC23c1hvty2gcrBvqbGOpnX7mQ3U7n4ymswf9gK4AVlPy/8ZZHb5gAAAABJRU5ErkJggg==\"/></td><td style=\"padding:1px;\"><img width=\"30\" height=\"30\" style=\"border:1px solid black; image-rendering:pixelated; object-fit:cover;\" src=\"data:image/png;base64,iVBORw0KGgoAAAANSUhEUgAAAAoAAAAKCAIAAAACUFjqAAAAQklEQVR4nGVOQQ4AQQxR//+zPXRjRB2aVhEAIAmBPOe+/8eMJBZVIqZ19xYt62m0+4IVsMnO562Tarpz6d5Z1ZL8AJ7wPur5bC4AAAAAAElFTkSuQmCC\"/></td><td style=\"padding:1px;\"><img width=\"30\" height=\"30\" style=\"border:1px solid black; image-rendering:pixelated; object-fit:cover;\" src=\"data:image/png;base64,iVBORw0KGgoAAAANSUhEUgAAAAoAAAAKCAIAAAACUFjqAAAARUlEQVR4nH2OQQoAQQjDEtn/f9k9OIgMOJ5abKoAmQlM0fqbXp0JwAu6JgD1td5oNTausKiPtv5XORDFzUQ3ndvlZ38zPyYZJBGhqyDXAAAAAElFTkSuQmCC\"/></td><td style=\"padding:1px;\"><img width=\"30\" height=\"30\" style=\"border:1px solid black; image-rendering:pixelated; object-fit:cover;\" src=\"data:image/png;base64,iVBORw0KGgoAAAANSUhEUgAAAAoAAAAKCAIAAAACUFjqAAAAR0lEQVR4nGWPQQ7AAAjCCv//MzuYEec4EYsRAZIANUk6cUGZJF65QWDAnpilvTqhD/4nLt4JSe7J3aA1fboc+axe/H9szPgHY+U2AeixOzMAAAAASUVORK5CYII=\"/></td><td style=\"padding:1px;\"><img width=\"30\" height=\"30\" style=\"border:1px solid black; image-rendering:pixelated; object-fit:cover;\" src=\"data:image/png;base64,iVBORw0KGgoAAAANSUhEUgAAAAoAAAAKCAIAAAACUFjqAAAAQ0lEQVR4nH1OQQ4AIAhC//9nOtAcRYuDY6gAAJD0KSLULBJV1SlpijTJkTKiXdKF4zb3lN1prLy2yK/529ybHq8ZsQBZn0HpaUOB/AAAAABJRU5ErkJggg==\"/></td></tr></table><table class=\"show_images\" style=\"border-spacing:0px;\"><tr><td style=\"padding:1px;\"><img width=\"30\" height=\"30\" style=\"border:1px solid black; image-rendering:pixelated; object-fit:cover;\" src=\"data:image/png;base64,iVBORw0KGgoAAAANSUhEUgAAAAoAAAAKCAIAAAACUFjqAAAARUlEQVR4nGWOQRLAMAgC3fz/z9tDG0sMB0ZERqpOqGpLUnwrUF9edaEDwLSBZpU8v7FGbswr64z3ZGJ8+S038uIolF7yA/GjO+5QQASCAAAAAElFTkSuQmCC\"/></td><td style=\"padding:1px;\"><img width=\"30\" height=\"30\" style=\"border:1px solid black; image-rendering:pixelated; object-fit:cover;\" src=\"data:image/png;base64,iVBORw0KGgoAAAANSUhEUgAAAAoAAAAKCAIAAAACUFjqAAAARElEQVR4nI2O0QoAIAgDp/T/v7weFsMsIp92oOcAAADJGoyxQXQMwzna7kJl4SApRzNr8nptRzZe/36qLfmjedpWg/MEUds1/j00ofUAAAAASUVORK5CYII=\"/></td><td style=\"padding:1px;\"><img width=\"30\" height=\"30\" style=\"border:1px solid black; image-rendering:pixelated; object-fit:cover;\" src=\"data:image/png;base64,iVBORw0KGgoAAAANSUhEUgAAAAoAAAAKCAIAAAACUFjqAAAARUlEQVR4nIWOSwoAMQhDX7z/nTMLSyhamCxE80MA20CWnEA9tUzd3oakOB7y7audC2xXKOk0NXPmeHWgdueUf9JdsDskfVa7LQRXLr9IAAAAAElFTkSuQmCC\"/></td><td style=\"padding:1px;\"><img width=\"30\" height=\"30\" style=\"border:1px solid black; image-rendering:pixelated; object-fit:cover;\" src=\"data:image/png;base64,iVBORw0KGgoAAAANSUhEUgAAAAoAAAAKCAIAAAACUFjqAAAARklEQVR4nG2OQQ4AMQgCwez/v0wPJpS1ejBkCAoAAJBk0brFZyPnBzMxdq0J60pKcryoRKMH7b0FSUqq4eWxJd3kVltLmRy7s0Hqp7VeBwAAAABJRU5ErkJggg==\"/></td><td style=\"padding:1px;\"><img width=\"30\" height=\"30\" style=\"border:1px solid black; image-rendering:pixelated; object-fit:cover;\" src=\"data:image/png;base64,iVBORw0KGgoAAAANSUhEUgAAAAoAAAAKCAIAAAACUFjqAAAARklEQVR4nG2OQRIAIAgC2f7/ZzuYZJN7cmAAJUlSFCryxlcHSHH9Rg8QESndwooee87Bs91DZlnyCuC54XN7x3Z0KNeE+zdPwTj+/6VA5gAAAABJRU5ErkJggg==\"/></td><td style=\"padding:1px;\"><img width=\"30\" height=\"30\" style=\"border:1px solid black; image-rendering:pixelated; object-fit:cover;\" src=\"data:image/png;base64,iVBORw0KGgoAAAANSUhEUgAAAAoAAAAKCAIAAAACUFjqAAAASElEQVR4nH2PSQoAQQgDKzL//3L60EMQhfbkkoqKbcAtgNsBShIrwlSKPgtTG5UUhbrb1k26n2Jbm7vm/+7Ik3Rg0uPP74ECB3XJNf0LcqwWAAAAAElFTkSuQmCC\"/></td><td style=\"padding:1px;\"><img width=\"30\" height=\"30\" style=\"border:1px solid black; image-rendering:pixelated; object-fit:cover;\" src=\"data:image/png;base64,iVBORw0KGgoAAAANSUhEUgAAAAoAAAAKCAIAAAACUFjqAAAAQ0lEQVR4nHWQSQ4AMAgCgf//2R5ojVHLwbhkIBEAIgJPtQdAzyTbwdIK9fNPImnzL70GG9AanGaaqwp02xp0gfmWrAfwlioA9YvTIQAAAABJRU5ErkJggg==\"/></td><td style=\"padding:1px;\"><img width=\"30\" height=\"30\" style=\"border:1px solid black; image-rendering:pixelated; object-fit:cover;\" src=\"data:image/png;base64,iVBORw0KGgoAAAANSUhEUgAAAAoAAAAKCAIAAAACUFjqAAAASElEQVR4nIWPwQ3AMAgDuey/s/ugukREVflgZLBNVVWSJCewVjdgEG+dd25MGZeG14em3oCDeIO+NloTSi69gTv/Fr+f/k/+APR7Vs+/zmrwAAAAAElFTkSuQmCC\"/></td><td style=\"padding:1px;\"><img width=\"30\" height=\"30\" style=\"border:1px solid black; image-rendering:pixelated; object-fit:cover;\" src=\"data:image/png;base64,iVBORw0KGgoAAAANSUhEUgAAAAoAAAAKCAIAAAACUFjqAAAASUlEQVR4nH2OQQ4AIQwCmcb/f5k9UI3RrHPsQAOSJNnWBLANSKrDLXKsxG8Run0kVq7uxk79ifzj0QbGLdLr5f0E9nVxtsd72geoPi0Iv2PREQAAAABJRU5ErkJggg==\"/></td><td style=\"padding:1px;\"><img width=\"30\" height=\"30\" style=\"border:1px solid black; image-rendering:pixelated; object-fit:cover;\" src=\"data:image/png;base64,iVBORw0KGgoAAAANSUhEUgAAAAoAAAAKCAIAAAACUFjqAAAARklEQVR4nHWPQRIAIAgCgf//2Q6WGRUHZ9RhUcQSgKxdjAiSz92UuTtPZUqMMbw3CUBmZz2spPoFNT3cxu+tivyL2I/djAESEUHpa8U/7wAAAABJRU5ErkJggg==\"/></td><td style=\"padding:1px;\"><img width=\"30\" height=\"30\" style=\"border:1px solid black; image-rendering:pixelated; object-fit:cover;\" src=\"data:image/png;base64,iVBORw0KGgoAAAANSUhEUgAAAAoAAAAKCAIAAAACUFjqAAAARklEQVR4nG2QQQ4AIAjDOv7/Zz0Q5zTsRDobA6wTAOjBpABJLr7hKTqSTMrIdb4e7BRqpHY0qk7lr203uTw3yRvcbrwMsAEEO0ffoD42pAAAAABJRU5ErkJggg==\"/></td><td style=\"padding:1px;\"><img width=\"30\" height=\"30\" style=\"border:1px solid black; image-rendering:pixelated; object-fit:cover;\" src=\"data:image/png;base64,iVBORw0KGgoAAAANSUhEUgAAAAoAAAAKCAIAAAACUFjqAAAARElEQVR4nH2PwQoAMAhCtf//57fDwI0W6xCaYWZAkiTbDfsejVUfzXYFNeGQ139PgAp6+2C+tdAheb4CPN7uAYEs3WABAlw+8rrtjoEAAAAASUVORK5CYII=\"/></td></tr></table><table class=\"show_images\" style=\"border-spacing:0px;\"><tr><td style=\"padding:1px;\"><img width=\"30\" height=\"30\" style=\"border:1px solid black; image-rendering:pixelated; object-fit:cover;\" src=\"data:image/png;base64,iVBORw0KGgoAAAANSUhEUgAAAAoAAAAKCAIAAAACUFjqAAAAR0lEQVR4nH2QwQ4AIAhCof//ZzrQzNR1YRT2aEISAGsYSTbMGfkcAawe2B+NwZGxPnCSzE2+Grp7RY1NPszw47v7iUKLhVg3QUQ+8niZ20wAAAAASUVORK5CYII=\"/></td><td style=\"padding:1px;\"><img width=\"30\" height=\"30\" style=\"border:1px solid black; image-rendering:pixelated; object-fit:cover;\" src=\"data:image/png;base64,iVBORw0KGgoAAAANSUhEUgAAAAoAAAAKCAIAAAACUFjqAAAAS0lEQVR4nHWQSw4AIQxCoZn7XxkXjMT6YVWBvDZSEqZI5umZa2wXgE3+Fe6lqK5uSBXUmUkqL7tmDe4eyXZKJk01zOtmwz4cv7FSB9VpNgjk4L0JAAAAAElFTkSuQmCC\"/></td><td style=\"padding:1px;\"><img width=\"30\" height=\"30\" style=\"border:1px solid black; image-rendering:pixelated; object-fit:cover;\" src=\"data:image/png;base64,iVBORw0KGgoAAAANSUhEUgAAAAoAAAAKCAIAAAACUFjqAAAAS0lEQVR4nGWOQQ7AQAgCmf3/n+nBlLWUgzEqjEiyrVdAettHS4DtuZ7Ktsad4dlpBZL0Cc8FcG1xhJoPml3/d3gWY+v1gBOJftq4BxmyOPFOKUCaAAAAAElFTkSuQmCC\"/></td><td style=\"padding:1px;\"><img width=\"30\" height=\"30\" style=\"border:1px solid black; image-rendering:pixelated; object-fit:cover;\" src=\"data:image/png;base64,iVBORw0KGgoAAAANSUhEUgAAAAoAAAAKCAIAAAACUFjqAAAASElEQVR4nG1QSRIAIAhC//9nOlBojh4cJhZTAADAV8LuKToi1PVqT1g4OBly5exOI2yVnjpibyrJNVm6Eg6i3IPou3z/7AcRON/7R+xGCIyNAAAAAElFTkSuQmCC\"/></td><td style=\"padding:1px;\"><img width=\"30\" height=\"30\" style=\"border:1px solid black; image-rendering:pixelated; object-fit:cover;\" src=\"data:image/png;base64,iVBORw0KGgoAAAANSUhEUgAAAAoAAAAKCAIAAAACUFjqAAAASklEQVR4nG2QSQ4AIAwCgf//GQ81BBdOWEdKJADbAEiOGZEEoIwC9VEoTUATDNhEvPqutw6nRH3b8Xp9TdRtX2k3rH1HWNz7J7YXNvs2DvbDyVYAAAAASUVORK5CYII=\"/></td><td style=\"padding:1px;\"><img width=\"30\" height=\"30\" style=\"border:1px solid black; image-rendering:pixelated; object-fit:cover;\" src=\"data:image/png;base64,iVBORw0KGgoAAAANSUhEUgAAAAoAAAAKCAIAAAACUFjqAAAASklEQVR4nG2OUQ7AMAhCec3uf2X2YUqdKx8GFIiSJMm2bTWUZGwHFgCUCAlIzxXPtO+Ckyk2ZpEVR+Xg8+wpz7Y71v+dnia11/MLZpw19EGwvKUAAAAASUVORK5CYII=\"/></td><td style=\"padding:1px;\"><img width=\"30\" height=\"30\" style=\"border:1px solid black; image-rendering:pixelated; object-fit:cover;\" src=\"data:image/png;base64,iVBORw0KGgoAAAANSUhEUgAAAAoAAAAKCAIAAAACUFjqAAAASklEQVR4nGWOQQ4AMQgCB9P/f3n3YIqkekIcaAG+O60Bi9OLJFsmgDLbbnNzNpsF1mcnEqps9jhdOy1pXmwqrST01D41Uy5p//EHrNE/A6hun4wAAAAASUVORK5CYII=\"/></td><td style=\"padding:1px;\"><img width=\"30\" height=\"30\" style=\"border:1px solid black; image-rendering:pixelated; object-fit:cover;\" src=\"data:image/png;base64,iVBORw0KGgoAAAANSUhEUgAAAAoAAAAKCAIAAAACUFjqAAAARklEQVR4nHWOwRHAMAjDMPvvrD5MSK9QXiHCAsUpwA9J3eoNZuXKLIiIXEGZe+rPn8Bkjkn6yv3rALDIe2OdNuWdvmweATxxqjXx5MevIgAAAABJRU5ErkJggg==\"/></td><td style=\"padding:1px;\"><img width=\"30\" height=\"30\" style=\"border:1px solid black; image-rendering:pixelated; object-fit:cover;\" src=\"data:image/png;base64,iVBORw0KGgoAAAANSUhEUgAAAAoAAAAKCAIAAAACUFjqAAAASUlEQVR4nHWPQQ7AQAgCmU3//2V6IDGuth6IoqLItqRgohjbVAPoQ4nTC6DwktpJ8NlUT87461KWSDvs72uxsTUYx4YRPpfq3AtlJUHoprZFSwAAAABJRU5ErkJggg==\"/></td><td style=\"padding:1px;\"><img width=\"30\" height=\"30\" style=\"border:1px solid black; image-rendering:pixelated; object-fit:cover;\" src=\"data:image/png;base64,iVBORw0KGgoAAAANSUhEUgAAAAoAAAAKCAIAAAACUFjqAAAASklEQVR4nHWPSQ4AIQgEq8z8/8t4IEF0lAOhU80GAERE5iwq7BhQu+PrbOtTwCsrh13/reM46mjwtTutY9uU57jeWbhm9CfvrOQE+UQ19AJVUowAAAAASUVORK5CYII=\"/></td><td style=\"padding:1px;\"><img width=\"30\" height=\"30\" style=\"border:1px solid black; image-rendering:pixelated; object-fit:cover;\" src=\"data:image/png;base64,iVBORw0KGgoAAAANSUhEUgAAAAoAAAAKCAIAAAACUFjqAAAARklEQVR4nG2QSxIAIAhCxfvf+bWwGjJZ4QdkDCAigCKNZ9WS7syX0ru+V5ArGiSlKwbyS5v/Y87BTt6iuhRQtcZ0z5XxMwsqqFPWsW1p+gAAAABJRU5ErkJggg==\"/></td><td style=\"padding:1px;\"><img width=\"30\" height=\"30\" style=\"border:1px solid black; image-rendering:pixelated; object-fit:cover;\" src=\"data:image/png;base64,iVBORw0KGgoAAAANSUhEUgAAAAoAAAAKCAIAAAACUFjqAAAASElEQVR4nGVOSRIAIAgCp/9/mQ62EHlwFAQBAEmSsMtn9k7S0cWRFQqSblOP1ebOUH5+bLozrP7fK7aLvEacR5RL/9InS9CNTDUHQe2M7CX4AAAAAElFTkSuQmCC\"/></td></tr></table><table class=\"show_images\" style=\"border-spacing:0px;\"><tr><td style=\"padding:1px;\"><img width=\"30\" height=\"30\" style=\"border:1px solid black; image-rendering:pixelated; object-fit:cover;\" src=\"data:image/png;base64,iVBORw0KGgoAAAANSUhEUgAAAAoAAAAKCAIAAAACUFjqAAAAR0lEQVR4nHWOQRKAQAjDUv7/53hQGQZXbjS0NACg8k6SXktVkzRjTLX7BjMGSLOV/+hfxyH8F+9no1qSWuq8Vmupy33u1eIFP5AwAVEEj7AAAAAASUVORK5CYII=\"/></td><td style=\"padding:1px;\"><img width=\"30\" height=\"30\" style=\"border:1px solid black; image-rendering:pixelated; object-fit:cover;\" src=\"data:image/png;base64,iVBORw0KGgoAAAANSUhEUgAAAAoAAAAKCAIAAAACUFjqAAAASklEQVR4nHWQSQ7AMAwCwcr/v0wPRNS1VU4js0QKJAGQZLDCB00jQZKh7kW1ex87hpc6k6y/h287pd5O6B03jFD5lGtCewzjiyQ9pPM7+pa0Bj8AAAAASUVORK5CYII=\"/></td><td style=\"padding:1px;\"><img width=\"30\" height=\"30\" style=\"border:1px solid black; image-rendering:pixelated; object-fit:cover;\" src=\"data:image/png;base64,iVBORw0KGgoAAAANSUhEUgAAAAoAAAAKCAIAAAACUFjqAAAAQklEQVR4nH2PQQoAMAjDmrH/f7k7CMKczoMoNgElybaGoj0DMayJC2a3UPrWS0QHbGM7plZzyRPKNMVc07+noUJlPYxZLPkMgxn8AAAAAElFTkSuQmCC\"/></td><td style=\"padding:1px;\"><img width=\"30\" height=\"30\" style=\"border:1px solid black; image-rendering:pixelated; object-fit:cover;\" src=\"data:image/png;base64,iVBORw0KGgoAAAANSUhEUgAAAAoAAAAKCAIAAAACUFjqAAAASElEQVR4nG2PSw7AQAhCH97/znRha6gzLIwhDz/YBvyJpbFOzrYWJMl2V6BeSptrtM59OUCXczI93dRUpduTLuj655fOy5MGHro2UON8J7NNAAAAAElFTkSuQmCC\"/></td><td style=\"padding:1px;\"><img width=\"30\" height=\"30\" style=\"border:1px solid black; image-rendering:pixelated; object-fit:cover;\" src=\"data:image/png;base64,iVBORw0KGgoAAAANSUhEUgAAAAoAAAAKCAIAAAACUFjqAAAAR0lEQVR4nI2OQQ6AQAwCof//8+yhSupqzHIi0ALSEwDQRFKFxYgiqcI+UW/JdjI8o46+d7vTkjlbruW2u2IeAf5frjmNGxEXEss46BH2HgcAAAAASUVORK5CYII=\"/></td><td style=\"padding:1px;\"><img width=\"30\" height=\"30\" style=\"border:1px solid black; image-rendering:pixelated; object-fit:cover;\" src=\"data:image/png;base64,iVBORw0KGgoAAAANSUhEUgAAAAoAAAAKCAIAAAACUFjqAAAASklEQVR4nH1Pyw4AIAgC//+f7aAhq5YHpzgeMjMBACCpWSsBOHpUOLuq5gaLXfstPuyH8dbom/o4fqKRDA/ih07ubKFCQhHmGRNb/UQ5Ce7UleQAAAAASUVORK5CYII=\"/></td><td style=\"padding:1px;\"><img width=\"30\" height=\"30\" style=\"border:1px solid black; image-rendering:pixelated; object-fit:cover;\" src=\"data:image/png;base64,iVBORw0KGgoAAAANSUhEUgAAAAoAAAAKCAIAAAACUFjqAAAAS0lEQVR4nH1OuRHAMAwC9t+ZFNgKdu5CowckADZs28YJZTXEjGnUXIMkAKX0qv/pe9dpNJ9Jdr+itTZEdFG8Zleu5f3DcaJ25rZ/AA5QPvnUZm1SAAAAAElFTkSuQmCC\"/></td><td style=\"padding:1px;\"><img width=\"30\" height=\"30\" style=\"border:1px solid black; image-rendering:pixelated; object-fit:cover;\" src=\"data:image/png;base64,iVBORw0KGgoAAAANSUhEUgAAAAoAAAAKCAIAAAACUFjqAAAARklEQVR4nIWPQQoAIQwDp/7/z/GQRaNF1kMdKBlSAEmAwbxm5fp6VTX8rZkgaaT5gi/dBQf3Rlvw6rWj6UgN8HeYd72aYxN7t0flMxuuBAAAAABJRU5ErkJggg==\"/></td><td style=\"padding:1px;\"><img width=\"30\" height=\"30\" style=\"border:1px solid black; image-rendering:pixelated; object-fit:cover;\" src=\"data:image/png;base64,iVBORw0KGgoAAAANSUhEUgAAAAoAAAAKCAIAAAACUFjqAAAARklEQVR4nIWOQRLAMAgCWf//Z3Jg6rSJk3pSQABJtvUMYBsIzpvbBqgIN7T3Op/il5SBbhFQl+zBPMGf5n0M5U8ipf7NJS3/ticRWHztEgAAAABJRU5ErkJggg==\"/></td><td style=\"padding:1px;\"><img width=\"30\" height=\"30\" style=\"border:1px solid black; image-rendering:pixelated; object-fit:cover;\" src=\"data:image/png;base64,iVBORw0KGgoAAAANSUhEUgAAAAoAAAAKCAIAAAACUFjqAAAASElEQVR4nG1PQQ7AMAgC0/9/mR5sqGXzYAwgIgBI6t5lBEB5ItnDVNC0FRNZk/tKH8MokhWcE5xosRE29Wt76XDL85Lmx5F/A08zNfcoW+gCAAAAAElFTkSuQmCC\"/></td><td style=\"padding:1px;\"><img width=\"30\" height=\"30\" style=\"border:1px solid black; image-rendering:pixelated; object-fit:cover;\" src=\"data:image/png;base64,iVBORw0KGgoAAAANSUhEUgAAAAoAAAAKCAIAAAACUFjqAAAAS0lEQVR4nH2OSRKAMAgEu/P/P48HLKKYkhPMxggkUZMAaiEAsBoaxKaTPNHe1dXH8N3uyuzwMR5Nm+7kb7XX71Gq1OuYWbok66+XXgmjMAkPTX4AAAAAAElFTkSuQmCC\"/></td><td style=\"padding:1px;\"><img width=\"30\" height=\"30\" style=\"border:1px solid black; image-rendering:pixelated; object-fit:cover;\" src=\"data:image/png;base64,iVBORw0KGgoAAAANSUhEUgAAAAoAAAAKCAIAAAACUFjqAAAARElEQVR4nI2OQQrAQAwCNf//8/QglCC7pZ6M0UQBkoCQgo+qJNuSZg8FwHvYUcAJvYuov37HPdXl8Puj/KTC7caUvcgD2aAnC6CO6LcAAAAASUVORK5CYII=\"/></td></tr></table><table class=\"show_images\" style=\"border-spacing:0px;\"><tr><td style=\"padding:1px;\"><img width=\"30\" height=\"30\" style=\"border:1px solid black; image-rendering:pixelated; object-fit:cover;\" src=\"data:image/png;base64,iVBORw0KGgoAAAANSUhEUgAAAAoAAAAKCAIAAAACUFjqAAAAR0lEQVR4nG2OSRKAQAgDbf7/53jAaZEyp1Q2IMl1ADRRLCWhB9TqrRwzvgDw6zlWnyw0SdK13W7P1VrefP79XG+OPVzJk5IbrB85APZrfDAAAAAASUVORK5CYII=\"/></td><td style=\"padding:1px;\"><img width=\"30\" height=\"30\" style=\"border:1px solid black; image-rendering:pixelated; object-fit:cover;\" src=\"data:image/png;base64,iVBORw0KGgoAAAANSUhEUgAAAAoAAAAKCAIAAAACUFjqAAAATUlEQVR4nG2PQRIAIQjDAv//M3uIg6zagxZRGqOqACAi2lsC6WZPr7z6e3Ere45G7fYsnDlTYqJ15AZ8HA3MXIQXs2vKcvzqrU4REPgAwAI2D23rQ/wAAAAASUVORK5CYII=\"/></td><td style=\"padding:1px;\"><img width=\"30\" height=\"30\" style=\"border:1px solid black; image-rendering:pixelated; object-fit:cover;\" src=\"data:image/png;base64,iVBORw0KGgoAAAANSUhEUgAAAAoAAAAKCAIAAAACUFjqAAAARUlEQVR4nJWQwQoAMAhCX7H//2V3CFzUaR4KFSUCkNRnAQBOLfNCRJSS5pasADFyIx27uadzG4ak/Ct/xj6te08f/f1LFxdeQe6d/apQAAAAAElFTkSuQmCC\"/></td><td style=\"padding:1px;\"><img width=\"30\" height=\"30\" style=\"border:1px solid black; image-rendering:pixelated; object-fit:cover;\" src=\"data:image/png;base64,iVBORw0KGgoAAAANSUhEUgAAAAoAAAAKCAIAAAACUFjqAAAARklEQVR4nG2OQRLAMAgCl/z/z/SQ1CoNJxlZBtnmlaSykoDhe3Rr7RQQNef4E4PupqD7OyRpvGP2R0dt5c7y62xg2e4+ah7Toh4bM0H3MgAAAABJRU5ErkJggg==\"/></td><td style=\"padding:1px;\"><img width=\"30\" height=\"30\" style=\"border:1px solid black; image-rendering:pixelated; object-fit:cover;\" src=\"data:image/png;base64,iVBORw0KGgoAAAANSUhEUgAAAAoAAAAKCAIAAAACUFjqAAAARklEQVR4nGWOwQ0AQQgCB/vvmXtsgp76UuIA2LYNAGsHlDsjtVhTvX+1iInaVmKuf9Nrftk3tW2m82zwPEpS6FuilhrunR/GBDj+OzNtgQAAAABJRU5ErkJggg==\"/></td><td style=\"padding:1px;\"><img width=\"30\" height=\"30\" style=\"border:1px solid black; image-rendering:pixelated; object-fit:cover;\" src=\"data:image/png;base64,iVBORw0KGgoAAAANSUhEUgAAAAoAAAAKCAIAAAACUFjqAAAAR0lEQVR4nHWPSRKAQAgDu/3/n+MBZ1SK4RTIUkEASKImYY0K/E5t1OvEVeRAV2wBS3UKeN1Pl2Xt9FB7a8d8269z+y/ea4Ebx5wkCPRqSMAAAAAASUVORK5CYII=\"/></td><td style=\"padding:1px;\"><img width=\"30\" height=\"30\" style=\"border:1px solid black; image-rendering:pixelated; object-fit:cover;\" src=\"data:image/png;base64,iVBORw0KGgoAAAANSUhEUgAAAAoAAAAKCAIAAAACUFjqAAAARklEQVR4nHWOQQ4AMQgCB///Z/bQBEnT9YQ6gtgGgBbR6kVK0hkOrzo7SRO8xbbNXuI3O0578eT2NduJzPX0q+20aHs2B3zrIzj7ooNlAQAAAABJRU5ErkJggg==\"/></td><td style=\"padding:1px;\"><img width=\"30\" height=\"30\" style=\"border:1px solid black; image-rendering:pixelated; object-fit:cover;\" src=\"data:image/png;base64,iVBORw0KGgoAAAANSUhEUgAAAAoAAAAKCAIAAAACUFjqAAAASElEQVR4nH2PQRIAIAgCwf//2Q40aNbEyYl1KwLITJwhuYe76wmz3rCAOpKAfJjCU+/so1cHpCrsV8YjSu5C0Eb/HyvP4HT3Aj/fMAnjQgvmAAAAAElFTkSuQmCC\"/></td><td style=\"padding:1px;\"><img width=\"30\" height=\"30\" style=\"border:1px solid black; image-rendering:pixelated; object-fit:cover;\" src=\"data:image/png;base64,iVBORw0KGgoAAAANSUhEUgAAAAoAAAAKCAIAAAACUFjqAAAASElEQVR4nH2OSQ4AQQgCKf//Z/rgaOwlw4mKQJQkSbZtq9Q+JsxQmkgAgKMqiQm3oku3gJhwnG3/jQPbePs0X/v9MzXsUicaF1wxPvA4ChSXAAAAAElFTkSuQmCC\"/></td><td style=\"padding:1px;\"><img width=\"30\" height=\"30\" style=\"border:1px solid black; image-rendering:pixelated; object-fit:cover;\" src=\"data:image/png;base64,iVBORw0KGgoAAAANSUhEUgAAAAoAAAAKCAIAAAACUFjqAAAASElEQVR4nH2PQQ4AMQgCB///Z3rYhpqaLgcPgIIAtvsMAEUIJIWp7ZIYUNjrQOTq2ueWztrJ7pFBhZoFgXr1sr0z/o7PX1MQWKVEOQNCjcHfAAAAAElFTkSuQmCC\"/></td><td style=\"padding:1px;\"><img width=\"30\" height=\"30\" style=\"border:1px solid black; image-rendering:pixelated; object-fit:cover;\" src=\"data:image/png;base64,iVBORw0KGgoAAAANSUhEUgAAAAoAAAAKCAIAAAACUFjqAAAAQ0lEQVR4nHWOQQ4AIAjDqPH/X8bDooGpO5AtA9LIrYjQrAbLpmEdUGt+d9K0rOvMlEHu94PGiceWH+R3V+GxTtuHZgELYDL00NS8iAAAAABJRU5ErkJggg==\"/></td><td style=\"padding:1px;\"><img width=\"30\" height=\"30\" style=\"border:1px solid black; image-rendering:pixelated; object-fit:cover;\" src=\"data:image/png;base64,iVBORw0KGgoAAAANSUhEUgAAAAoAAAAKCAIAAAACUFjqAAAASElEQVR4nG2OQRIAIAgCWf//ZztY1JgeHBEUlJmSqrsMeTHQdNE42Ac1hMHowr+6HMS4vd42/mNLiiK65VEP16XeYd/A/uFhAVAlO/cth4OwAAAAAElFTkSuQmCC\"/></td></tr></table>"
            ],
            "text/plain": [
              "<IPython.core.display.HTML object>"
            ]
          },
          "metadata": {}
        },
        {
          "output_type": "display_data",
          "data": {
            "text/html": [
              "<table class=\"show_images\" style=\"border-spacing:0px;\"><tr><td style=\"padding:1px;\"><img width=\"300\" height=\"300\" style=\"border:1px solid black; image-rendering:pixelated; object-fit:cover;\" src=\"data:image/png;base64,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\"/></td></tr></table>"
            ],
            "text/plain": [
              "<IPython.core.display.HTML object>"
            ]
          },
          "metadata": {}
        }
      ]
    },
    {
      "cell_type": "code",
      "metadata": {
        "id": "HgSyaeOYcsjM"
      },
      "source": [
        "# %prun [process2(puzzle.input) for _ in range(10)]"
      ],
      "execution_count": null,
      "outputs": []
    },
    {
      "cell_type": "markdown",
      "metadata": {
        "id": "Lvu-gXKH-dwO"
      },
      "source": [
        "<a name=\"day21\"></a>\n",
        "## Day 21: Allergens in ingredients"
      ]
    },
    {
      "cell_type": "markdown",
      "metadata": {
        "id": "yWu1kcAggsXF"
      },
      "source": [
        "Given a set of foods, each containing a list of ingredients and a set of allergens contained in the ingredients, determine the ingredient corresponding to each allergen.  Each allergen is contained in at most one ingredient.  Some foods may fail to list all allergens.\n",
        "\n",
        "- Part 1: For each food, count the number of ingredients which cannot possibly contain allergens, and report the sum.\n",
        "\n",
        "- Part 2: Report the comma-separated list of ingredients which contain allergens, sorted in ascending order by the allergen name."
      ]
    },
    {
      "cell_type": "code",
      "metadata": {
        "id": "fs33AgEW-dwO",
        "colab": {
          "base_uri": "https://localhost:8080/",
          "height": 302
        },
        "outputId": "212b7a16-2a29-45d6-9a42-c732eaf100fd"
      },
      "source": [
        "puzzle = advent.puzzle(day=21)"
      ],
      "execution_count": 356,
      "outputs": [
        {
          "output_type": "display_data",
          "data": {
            "text/markdown": "For [day 21](https://adventofcode.com/2020/day/21), `puzzle.input` has 42 lines:",
            "text/plain": [
              "<IPython.core.display.Markdown object>"
            ]
          },
          "metadata": {}
        },
        {
          "output_type": "stream",
          "name": "stdout",
          "text": [
            "xfvxzl nfcrh kscdhn khnqq jkvcbf jhlvrg chc fk zbh hgrptqb zrvtg tdhv jhqpdf jvj ... mxbbst (contains shellfish, sesame)\n",
            "vxzpfp shlg zrvtg ghq vzn ppqs mqlnbjq cltpv pvxpgp psbnqz nqcmm sqjcsxjq xftxgf ... cbhfpzp khnqq dhqbf (contains fish)\n",
            "fzhmtds zbclt pbln qtgv bnl xqcb vxzpfp jkvcbf nnst tplrt xknj hzmvzrr xfvxzl gk ...  (contains sesame, fish, shellfish)\n",
            "ghq vfqh vtdbl bkmgx bxlc sbhdb xfvxzl lvdcdg nsktq hrjrm dbr prrfm dbqbv jbcjk  ... gpgql dpkkzdgs cjds (contains nuts)\n",
            "xknj bbbzcmh tzrp xkqgc ktfvb tplrt dqz ntq jbcjk pcnmbt nqcmm tlgchbh bxfvt nfs ... hlvrg fhznhmx (contains dairy, soy)\n",
            "strd dpdgc cjdnjf flmssjn xfpc mmdfrfcp gpp tqjg znkr mxbbst bbbzcmh jbvrzn cdsl ... mx xknh schkf (contains soy, wheat)\n",
            "gkgzn bndz dpkkzdgs nv nhjbd mqlnbjq khnqq ljpzx cfbgb xknj ddmg mkpmkx tgcvz nn ... trd tdhv fk tdsvx (contains sesame)\n",
            "gnfjcpc ddmg tpbtpd cltpv xfvxzl txr rmxzzf tgcvz jsdgn pgnk jrpx vbvfr vzn gbpl ... c dvzqx hcms zrvtg (contains dairy)\n",
            " ...\n",
            "nsktq ftkfc mdqlbx bxfvt vtdbl djldkx cljvdxp cpp ghzx sbhdb ppqs dvzqx zhpv kgr ... vrtf nnst dqrvvk (contains peanuts)\n",
            "fhznhmx khnm skrrb ckpjgb glxxp rzlkxt jrj mxsklfx mdqlbx mkpmkx xhb bkhjxl ttkn ... txr zgpv (contains fish, shellfish)\n",
            "cbhfpzp tmp rjnx dpdgc frv xflfx dbr fzhmtds kcgtlb msrnhf khnm hgrptqb tfgf xss ...  qhhsj (contains sesame, nuts, soy)\n",
            "flnhl gkddl jhqpdf jkvcbf xqcb gcbbnqb ddmg ppqs bnl jrpx cdslv bxlc tfgf msrnhf ... dqrvvk cltpv (contains wheat, nuts)\n"
          ]
        },
        {
          "output_type": "display_data",
          "data": {
            "text/markdown": "The stored answers are: `{1: '2410', 2: 'tmp,pdpgm,cdslv,zrvtg,ttkn,mkpmkx,vxzpfp,flnhl'}`",
            "text/plain": [
              "<IPython.core.display.Markdown object>"
            ]
          },
          "metadata": {}
        }
      ]
    },
    {
      "cell_type": "code",
      "metadata": {
        "id": "_2PTWdhB-dwP"
      },
      "source": [
        "s1 = \"\"\"\n",
        "mxmxvkd kfcds sqjhc nhms (contains dairy, fish)\n",
        "trh fvjkl sbzzf mxmxvkd (contains dairy)\n",
        "sqjhc fvjkl (contains soy)\n",
        "sqjhc mxmxvkd sbzzf (contains fish)\n",
        "\"\"\""
      ],
      "execution_count": 357,
      "outputs": []
    },
    {
      "cell_type": "code",
      "metadata": {
        "id": "ZiLL-vnZg7Nf",
        "colab": {
          "base_uri": "https://localhost:8080/"
        },
        "outputId": "9624a2fe-f2aa-4a00-8097-3cef40b64f83"
      },
      "source": [
        "def process1(s, part2=False):\n",
        "\n",
        "  def foods():\n",
        "    for line in s.strip('\\n').splitlines():\n",
        "      ingredients, allergens = line[:-1].split(' (contains ')\n",
        "      yield set(ingredients.split()), allergens.split(', ')\n",
        "\n",
        "  possibles_for_allergen = {}\n",
        "  for ingredients, allergens in foods():\n",
        "    for allergen in allergens:\n",
        "      if allergen not in possibles_for_allergen:\n",
        "        possibles_for_allergen[allergen] = ingredients.copy()\n",
        "      else:\n",
        "        possibles_for_allergen[allergen] &= ingredients\n",
        "\n",
        "  allergen_ingredient = {}\n",
        "  while possibles_for_allergen:\n",
        "    has_single_ingredient = lambda item: len(item[1]) == 1\n",
        "    allergen, ingredients = next(\n",
        "        filter(has_single_ingredient, possibles_for_allergen.items()))\n",
        "    ingredient = ingredients.pop()\n",
        "    allergen_ingredient[allergen] = ingredient\n",
        "    for ingredients2 in possibles_for_allergen.values():\n",
        "      ingredients2.discard(ingredient)\n",
        "    del possibles_for_allergen[allergen]\n",
        "\n",
        "  if not part2:\n",
        "    allergen_ingredients = set(list(allergen_ingredient.values()))\n",
        "    return sum(\n",
        "        len(ingredients - allergen_ingredients) for ingredients, _ in foods())\n",
        "\n",
        "  return ','.join(ingredient\n",
        "                  for _, ingredient in sorted(allergen_ingredient.items()))\n",
        "\n",
        "\n",
        "check_eq(process1(s1), 5)\n",
        "puzzle.verify(1, process1)  # ~1 ms.\n",
        "\n",
        "process2 = functools.partial(process1, part2=True)\n",
        "check_eq(process2(s1), 'mxmxvkd,sqjhc,fvjkl')\n",
        "puzzle.verify(2, process2)  # ~1 ms."
      ],
      "execution_count": 359,
      "outputs": [
        {
          "output_type": "stream",
          "name": "stdout",
          "text": [
            "(Part 1: 0.001 s)\n",
            "(Part 2: 0.001 s)\n"
          ]
        }
      ]
    },
    {
      "cell_type": "markdown",
      "metadata": {
        "id": "s6XjBYzo-d4k"
      },
      "source": [
        "<a name=\"day22\"></a>\n",
        "## Day 22: Recursive card game"
      ]
    },
    {
      "cell_type": "markdown",
      "metadata": {
        "id": "655GJ3XGiu_D"
      },
      "source": [
        "Given two hands of integer cards, simulate a card game of combat.  At each turn, the player with the largest front card places the two cards (higher card first) at the back of their hand.  A player that owns all cards wins.\n",
        "\n",
        "- Part 1: In the winner's hand, multiply each card value by its position (1 being rearmost), and report the sum of the result.\n",
        "\n",
        "- Part 2: Add extra rules.  If both players have at least as many cards remaining in their deck as their top card, the winner of the round is determined by playing a new game of Recursive Combat.  See the [website](https://adventofcode.com/2020/day/22) for details."
      ]
    },
    {
      "cell_type": "code",
      "metadata": {
        "id": "Z-p_WhaT-d4k",
        "colab": {
          "base_uri": "https://localhost:8080/",
          "height": 302
        },
        "outputId": "2ba4ff3d-5af1-4a0e-806b-841c3e8b0faf"
      },
      "source": [
        "puzzle = advent.puzzle(day=22)"
      ],
      "execution_count": 438,
      "outputs": [
        {
          "output_type": "display_data",
          "data": {
            "text/markdown": "For [day 22](https://adventofcode.com/2020/day/22), `puzzle.input` has 53 lines:",
            "text/plain": [
              "<IPython.core.display.Markdown object>"
            ]
          },
          "metadata": {}
        },
        {
          "output_type": "stream",
          "name": "stdout",
          "text": [
            "Player 1:\n",
            "15\n",
            "31\n",
            "26\n",
            "4\n",
            "36\n",
            "30\n",
            "43\n",
            " ...\n",
            "37\n",
            "5\n",
            "1\n",
            "27\n"
          ]
        },
        {
          "output_type": "display_data",
          "data": {
            "text/markdown": "The stored answers are: `{1: '32199', 2: '33780'}`",
            "text/plain": [
              "<IPython.core.display.Markdown object>"
            ]
          },
          "metadata": {}
        }
      ]
    },
    {
      "cell_type": "code",
      "metadata": {
        "id": "YQE7j-bd-d4k"
      },
      "source": [
        "s1 = \"\"\"\n",
        "Player 1:\n",
        "9\n",
        "2\n",
        "6\n",
        "3\n",
        "1\n",
        "\n",
        "Player 2:\n",
        "5\n",
        "8\n",
        "4\n",
        "7\n",
        "10\n",
        "\"\"\""
      ],
      "execution_count": 439,
      "outputs": []
    },
    {
      "cell_type": "code",
      "metadata": {
        "colab": {
          "base_uri": "https://localhost:8080/"
        },
        "id": "kWKveQ-OBmqD",
        "outputId": "7bde6639-a130-411f-cd47-0d020b187316"
      },
      "source": [
        "def process1(s):\n",
        "  hands = [collections.deque(map(int, s2.splitlines()[1:]))\n",
        "           for s2 in s.strip('\\n').split('\\n\\n')]\n",
        "\n",
        "  while hands[0] and hands[1]:\n",
        "    cards = hands[0].popleft(), hands[1].popleft()\n",
        "    winner = 0 if cards[0] > cards[1] else 1\n",
        "    hands[winner].extend([cards[winner], cards[1 - winner]])\n",
        "\n",
        "  return sum((i + 1) * card for i, card in enumerate(reversed(hands[winner])))\n",
        "\n",
        "\n",
        "check_eq(process1(s1), 306)\n",
        "puzzle.verify(1, process1)  # ~0 ms."
      ],
      "execution_count": 440,
      "outputs": [
        {
          "output_type": "stream",
          "name": "stdout",
          "text": [
            "(Part 1: 0.000 s)\n"
          ]
        }
      ]
    },
    {
      "cell_type": "markdown",
      "metadata": {
        "id": "jiPsX_E7lF4p"
      },
      "source": [
        "Part 2"
      ]
    },
    {
      "cell_type": "code",
      "metadata": {
        "id": "C6AZhL6-gkOq"
      },
      "source": [
        "def process2(s):  # Slower code using deque.\n",
        "\n",
        "  def combat(hands):  # Returns (hands, winner)\n",
        "    visited = set()\n",
        "    while hands[0] and hands[1]:\n",
        "      state = (*hands[0], -1, *hands[1])\n",
        "      if state in visited:\n",
        "        return hands, 0  # player 1 is winner\n",
        "      visited.add(state)\n",
        "      cards = hands[0].popleft(), hands[1].popleft()\n",
        "      if len(hands[0]) >= cards[0] and len(hands[1]) >= cards[1]:\n",
        "        _, winner = combat([collections.deque(list(hands[0])[:cards[0]]),\n",
        "                            collections.deque(list(hands[1])[:cards[1]])])\n",
        "      else:\n",
        "        winner = 0 if cards[0] > cards[1] else 1\n",
        "      hands[winner].extend([cards[winner], cards[1 - winner]])\n",
        "\n",
        "    return hands, 0 if hands[0] else 1\n",
        "\n",
        "  hands = [collections.deque(map(int, s2.splitlines()[1:]))\n",
        "           for s2 in s.strip('\\n').split('\\n\\n')]\n",
        "  hands, winner = combat(hands)\n",
        "  return sum((i + 1) * card for i, card in enumerate(reversed(hands[winner])))\n",
        "\n",
        "\n",
        "check_eq(process2(s1), 291)\n",
        "# puzzle.verify(2, process2)  # ~1750 ms."
      ],
      "execution_count": 447,
      "outputs": []
    },
    {
      "cell_type": "code",
      "metadata": {
        "colab": {
          "base_uri": "https://localhost:8080/"
        },
        "id": "I15rkdkHxQQU",
        "outputId": "e244bb61-59c0-4dcb-b749-e6b345e7215e"
      },
      "source": [
        "def process2(s):  # Faster code using tuples.\n",
        "\n",
        "  # @functools.lru_cache(maxsize=None)  # It makes no difference.\n",
        "  def combat(hand0, hand1):\n",
        "    visited = set()\n",
        "    while True:\n",
        "      state = (hand0, hand1)\n",
        "      if state in visited:\n",
        "        return (0,), ()  # player 1 is winner\n",
        "      visited.add(state)\n",
        "      card0 = hand0[0]\n",
        "      card1 = hand1[0]\n",
        "      recurse = len(hand0) > card0 and len(hand1) > card1\n",
        "      if (combat(hand0[1:card0 + 1], hand1[1:card1 + 1])[0] if recurse\n",
        "          else card0 > card1):\n",
        "        hand0, hand1 = hand0[1:] + (card0, card1), hand1[1:]\n",
        "        if not hand1:\n",
        "          break\n",
        "      else:\n",
        "        hand0, hand1 = hand0[1:], hand1[1:] + (card1, card0)\n",
        "        if not hand0:\n",
        "          break\n",
        "    return hand0, hand1\n",
        "\n",
        "  hand0, hand1 = (tuple(map(int, s2.splitlines()[1:]))\n",
        "                  for s2 in s.strip('\\n').split('\\n\\n'))\n",
        "  hand0, hand1 = combat(hand0, hand1)\n",
        "  return sum((i + 1) * card for i, card in enumerate(reversed(hand0 + hand1)))\n",
        "\n",
        "\n",
        "check_eq(process2(s1), 291)\n",
        "puzzle.verify(2, process2)  # ~1200 ms."
      ],
      "execution_count": 463,
      "outputs": [
        {
          "output_type": "stream",
          "name": "stdout",
          "text": [
            "(Part 2: 1.202 s)\n"
          ]
        }
      ]
    },
    {
      "cell_type": "code",
      "metadata": {
        "id": "AmQbDLMIzhMP"
      },
      "source": [
        "# %timeit -r8 process2(puzzle.input)"
      ],
      "execution_count": null,
      "outputs": []
    },
    {
      "cell_type": "code",
      "metadata": {
        "id": "RDMgtolMz1gV"
      },
      "source": [
        "# %prun process2(puzzle.input)  # No obvious opportunity for optimization."
      ],
      "execution_count": null,
      "outputs": []
    },
    {
      "cell_type": "markdown",
      "metadata": {
        "id": "v1c-K7fo-d_W"
      },
      "source": [
        "<a name=\"day23\"></a>\n",
        "## Day 23: Cups in a circle"
      ]
    },
    {
      "cell_type": "markdown",
      "metadata": {
        "id": "Km0mMKB9lZZp"
      },
      "source": [
        "Given a circular list of cups (labeled 1-9), apply a sequence of moves.\n",
        "For each move, extract the 3 cups to the right of the current cup (initially first in the input), and reinsert the 3 cups to the right of the cup whose label has value 1 less than the current cup.  Advance the current cup to the right.\n",
        "\n",
        "When finding the cup whose label has value 1 less than the current cup, skip over any that are in the 3 extracted cups, and when reaching value 0, wraparound back to the highest value.\n",
        "\n",
        "- Part 1: Report the cup labels (as a string of 8 digits) to the right of cup 1 after 100 moves.\n",
        "\n",
        "- Part 2: Extend the input circular list to contain a total of 1_000_000 cups, labeled 10 .. 1_000_000.  After 10_000_000 moves, determine the two cups to the right of cup 1, and report the product of their labels."
      ]
    },
    {
      "cell_type": "code",
      "metadata": {
        "id": "73qp7KN--d_W",
        "colab": {
          "base_uri": "https://localhost:8080/",
          "height": 93
        },
        "outputId": "b12e9d77-da30-4d59-efa8-474874ce360a"
      },
      "source": [
        "puzzle = advent.puzzle(day=23)"
      ],
      "execution_count": 373,
      "outputs": [
        {
          "output_type": "display_data",
          "data": {
            "text/markdown": "For [day 23](https://adventofcode.com/2020/day/23), `puzzle.input` has a single line of 9 characters:",
            "text/plain": [
              "<IPython.core.display.Markdown object>"
            ]
          },
          "metadata": {}
        },
        {
          "output_type": "stream",
          "name": "stdout",
          "text": [
            "872495136\n"
          ]
        },
        {
          "output_type": "display_data",
          "data": {
            "text/markdown": "The stored answers are: `{1: '27865934', 2: '170836011000'}`",
            "text/plain": [
              "<IPython.core.display.Markdown object>"
            ]
          },
          "metadata": {}
        }
      ]
    },
    {
      "cell_type": "code",
      "metadata": {
        "id": "PrJVbU0yjTaD"
      },
      "source": [
        "s1 = '389125467'"
      ],
      "execution_count": 374,
      "outputs": []
    },
    {
      "cell_type": "code",
      "metadata": {
        "id": "jW00lGN77__3"
      },
      "source": [
        "def process1(s, num_moves=100):  # Using list.\n",
        "  l = list(map(int, s.strip()))\n",
        "\n",
        "  for _ in range(num_moves):\n",
        "    (current, *extracted3) = l[:4]\n",
        "    destination = current - 1 if current > 1 else len(l)\n",
        "    while destination in extracted3:\n",
        "      destination = destination - 1 if destination > 1 else len(l)\n",
        "    dest = l.index(destination)  # bottleneck in part 2!\n",
        "    l = l[4:dest + 1] + extracted3 + l[dest + 1:] + [current]\n",
        "\n",
        "  i = l.index(1)\n",
        "  l = l[i + 1:] + l[:i]\n",
        "  return ''.join(map(str, l))\n",
        "\n",
        "\n",
        "check_eq(process1(s1, num_moves=10), '92658374')\n",
        "check_eq(process1(s1), '67384529')"
      ],
      "execution_count": 375,
      "outputs": []
    },
    {
      "cell_type": "code",
      "metadata": {
        "id": "k0evlBlPHe1H"
      },
      "source": [
        "def process1(s, num_moves=100):  # Using deque.\n",
        "  d = collections.deque(map(int, s.strip()))\n",
        "  n = len(d)\n",
        "\n",
        "  for _ in range(num_moves):\n",
        "    current = next(iter(d))\n",
        "    d.rotate(-1)  # move current to the end\n",
        "    extracted3 = d.popleft(), d.popleft(), d.popleft()\n",
        "    destination = current - 1 if current > 1 else n\n",
        "    while destination in extracted3:\n",
        "      destination = destination - 1 if destination > 1 else n\n",
        "    dest = d.index(destination)  # bottleneck in part 2!\n",
        "    d.rotate(-dest - 1)  # move destination to end\n",
        "    d.extendleft(reversed(extracted3))\n",
        "    d.rotate(dest + 1)  # move new current back to front\n",
        "\n",
        "  d.rotate(-d.index(1))  # move '1' to front\n",
        "  d.popleft()  # remove '1'\n",
        "  return ''.join(map(str, d))\n",
        "\n",
        "\n",
        "check_eq(process1(s1, num_moves=10), '92658374')\n",
        "check_eq(process1(s1), '67384529')"
      ],
      "execution_count": 376,
      "outputs": []
    },
    {
      "cell_type": "code",
      "metadata": {
        "colab": {
          "base_uri": "https://localhost:8080/"
        },
        "id": "0dy73YTm8Gpl",
        "outputId": "7c2b8fc8-7102-42a6-f055-feb4e29b19ab"
      },
      "source": [
        "# Code keeping track of next cup label for each cup label:\n",
        "def process1(s, max_num=0, num_moves=100):\n",
        "  dtype = np.int32 if 'numba' in globals() else np.int64\n",
        "  l = np.array(list(map(int, s.strip())), dtype)\n",
        "  next_cup = np.empty(1 + max(len(l), max_num), dtype=l.dtype)\n",
        "\n",
        "  @numba_njit(cache=True)  # 0.25 s to jit on first invocation\n",
        "  def func(l, max_num, num_moves, next_cup):\n",
        "    n = len(next_cup) - 1\n",
        "    current = l[0]\n",
        "    for i in range(len(l) - 1):\n",
        "      next_cup[l[i]] = l[i + 1]\n",
        "    if max_num:\n",
        "      next_cup[l[-1]] = len(l) + 1\n",
        "      for i in range(len(l) + 1, max_num):\n",
        "        next_cup[i] = i + 1\n",
        "      next_cup[max_num] = l[0]\n",
        "    else:\n",
        "      next_cup[l[-1]] = l[0]\n",
        "\n",
        "    for _ in range(num_moves):\n",
        "      extracted1 = next_cup[current]\n",
        "      extracted2 = next_cup[extracted1]\n",
        "      extracted3 = next_cup[extracted2]\n",
        "      destination = current - 1 if current > 1 else n\n",
        "      while destination in (extracted1, extracted2, extracted3):\n",
        "        destination = destination - 1 if destination > 1 else n\n",
        "      next_cup[current] = next_cup[extracted3]\n",
        "      next_cup[extracted3] = next_cup[destination]\n",
        "      next_cup[destination] = extracted1\n",
        "      current = next_cup[current]\n",
        "\n",
        "    return current\n",
        "\n",
        "  current = func(l, max_num, num_moves, next_cup)\n",
        "  if max_num:\n",
        "    cup1 = next_cup[1]\n",
        "    cup2 = next_cup[cup1]\n",
        "    return int(cup1) * int(cup2)\n",
        "  else:\n",
        "    l = [next_cup[1]]\n",
        "    while next_cup[l[-1]] != 1:\n",
        "      l.append(next_cup[l[-1]])\n",
        "    return ''.join(map(str, l))\n",
        "\n",
        "\n",
        "check_eq(process1(s1, num_moves=10), '92658374')\n",
        "check_eq(process1(s1), '67384529')\n",
        "puzzle.verify(1, process1)  # ~6 ms with numba; ~1 ms without numba.\n",
        "\n",
        "process2 = functools.partial(process1, num_moves=10_000_000, max_num=1_000_000)\n",
        "if 'numba' in globals():\n",
        "  check_eq(process2(s1), 149245887792)\n",
        "puzzle.verify(2, process2)  # ~400 ms with numba; ~25 s without numba."
      ],
      "execution_count": 385,
      "outputs": [
        {
          "output_type": "stream",
          "name": "stdout",
          "text": [
            "(Part 1: 0.005 s)\n",
            "(Part 2: 0.424 s)\n"
          ]
        }
      ]
    },
    {
      "cell_type": "code",
      "metadata": {
        "id": "O5aNrZPQu32d"
      },
      "source": [
        "# %timeit -r8 process2(puzzle.input)"
      ],
      "execution_count": 387,
      "outputs": []
    },
    {
      "cell_type": "markdown",
      "metadata": {
        "id": "NlVyEkIf-eGr"
      },
      "source": [
        "<a name=\"day24\"></a>\n",
        "## Day 24: Hexagonal tiles"
      ]
    },
    {
      "cell_type": "markdown",
      "metadata": {
        "id": "w7qtnTLjnusg"
      },
      "source": [
        "For each input line, travel over a hexagonal grid using the substrings `e`, `w`, `ne`, `nw`, `se`, and `sw`, and flip the state of the reached grid cell.  (Initially all grid cells are inactive.)\n",
        "\n",
        "- Part 1: Report the number of active cells in the resulting hexagonal grid.\n",
        "\n",
        "- Part 2: Simulate a cellular automaton over the grid from part 1, where an inactive cell becomes active if it has exactly 2 active neighbors,\n",
        "and an active cell becomes inactive if it has 0 or more than 2 active neighbors.  Report the number of active cells after 100 steps."
      ]
    },
    {
      "cell_type": "code",
      "metadata": {
        "id": "HiLNcW3J-eGr",
        "colab": {
          "base_uri": "https://localhost:8080/",
          "height": 302
        },
        "outputId": "9d53535f-53a3-445b-c21a-71c4fa155bec"
      },
      "source": [
        "puzzle = advent.puzzle(day=24)"
      ],
      "execution_count": 388,
      "outputs": [
        {
          "output_type": "display_data",
          "data": {
            "text/markdown": "For [day 24](https://adventofcode.com/2020/day/24), `puzzle.input` has 347 lines:",
            "text/plain": [
              "<IPython.core.display.Markdown object>"
            ]
          },
          "metadata": {}
        },
        {
          "output_type": "stream",
          "name": "stdout",
          "text": [
            "enwwsenweswweseseswnenewwswseswenw\n",
            "nwnwneswwnenwnwnwenenwwnesenenwsenenee\n",
            "eneswwenwneeswneenenw\n",
            "swwswswwwswswsweeswww\n",
            "swewnwneeewnewwwswwnwwswswnwww\n",
            "seswnwenesenwsenenwwenwsenwswnwseswnw\n",
            "nwswwenwwwswwnwnewswnwnwwwswnee\n",
            "seswseswseseseseeseseseswnwsesw\n",
            " ...\n",
            "nwnwnwnwnewnwwwnwnwnenenwsenwsesenwnww\n",
            "nwwswneseseswsenweswswswneswwswwswswsw\n",
            "neenwsenenenenenenwswswnenenwsenenene\n",
            "newnwnwnwnwwnweswwewsewenwwnwnwnwnw\n"
          ]
        },
        {
          "output_type": "display_data",
          "data": {
            "text/markdown": "The stored answers are: `{1: '287', 2: '3636'}`",
            "text/plain": [
              "<IPython.core.display.Markdown object>"
            ]
          },
          "metadata": {}
        }
      ]
    },
    {
      "cell_type": "code",
      "metadata": {
        "id": "r4D9R2ZgjUJb",
        "colab": {
          "base_uri": "https://localhost:8080/"
        },
        "cellView": "form",
        "outputId": "6ca218ec-78ab-4c01-f6d2-6e9c516f24f8"
      },
      "source": [
        "#@title\n",
        "print('Let s1 be a test input.')\n",
        "\n",
        "s1 = \"\"\"\n",
        "sesenwnenenewseeswwswswwnenewsewsw\n",
        "neeenesenwnwwswnenewnwwsewnenwseswesw\n",
        "seswneswswsenwwnwse\n",
        "nwnwneseeswswnenewneswwnewseswneseene\n",
        "swweswneswnenwsewnwneneseenw\n",
        "eesenwseswswnenwswnwnwsewwnwsene\n",
        "sewnenenenesenwsewnenwwwse\n",
        "wenwwweseeeweswwwnwwe\n",
        "wsweesenenewnwwnwsenewsenwwsesesenwne\n",
        "neeswseenwwswnwswswnw\n",
        "nenwswwsewswnenenewsenwsenwnesesenew\n",
        "enewnwewneswsewnwswenweswnenwsenwsw\n",
        "sweneswneswneneenwnewenewwneswswnese\n",
        "swwesenesewenwneswnwwneseswwne\n",
        "enesenwswwswneneswsenwnewswseenwsese\n",
        "wnwnesenesenenwwnenwsewesewsesesew\n",
        "nenewswnwewswnenesenwnesewesw\n",
        "eneswnwswnwsenenwnwnwwseeswneewsenese\n",
        "neswnwewnwnwseenwseesewsenwsweewe\n",
        "wseweeenwnesenwwwswnew\n",
        "\"\"\""
      ],
      "execution_count": 389,
      "outputs": [
        {
          "output_type": "stream",
          "name": "stdout",
          "text": [
            "Let s1 be a test input.\n"
          ]
        }
      ]
    },
    {
      "cell_type": "code",
      "metadata": {
        "colab": {
          "base_uri": "https://localhost:8080/",
          "height": 186
        },
        "id": "souWY59gMp_u",
        "outputId": "b37c4de1-c57c-4ec5-f0eb-82e8dd9a11c7"
      },
      "source": [
        "def process1(s, part2=False, num_days=100, visualize=False):\n",
        "  if not part2:\n",
        "    num_days = 0\n",
        "  offsets = dict(e=(0, 1), w=(0, -1), sw=(1, 0), se=(1, 1),\n",
        "                 nw=(-1, -1), ne=(-1, 0))\n",
        "  tuple_offsets = tuple(offsets.values())  # slightly faster\n",
        "  pattern = re.compile('|'.join(offsets))\n",
        "  indices = set()\n",
        "  for line in s.strip('\\n').splitlines():\n",
        "    y, x = 0, 0\n",
        "    for s2 in pattern.findall(line):\n",
        "      offset = offsets[s2]\n",
        "      y, x = y + offset[0], x + offset[1]\n",
        "    indices ^= {(y, x)}\n",
        "  indices_3d = []\n",
        "\n",
        "  for day in range(num_days):\n",
        "    if visualize:\n",
        "      indices_3d.extend((day, y, x) for y, x in indices)\n",
        "    neighbor_counts = collections.Counter(\n",
        "        (y + dy, x + dx) for y, x in indices for dy, dx in tuple_offsets)\n",
        "    indices = {index for index, count in neighbor_counts.items()\n",
        "               if count == 2 or (count == 1 and index in indices)}\n",
        "\n",
        "  if visualize and media.video_is_available():\n",
        "    grid = grid_from_indices(indices_3d, dtype=np.bool)\n",
        "    media.show_video(grid[::2], codec='gif', fps=10)\n",
        "  return len(indices)\n",
        "\n",
        "\n",
        "check_eq(process1(s1), 10)\n",
        "puzzle.verify(1, process1)  # ~3 ms.\n",
        "\n",
        "process2 = functools.partial(process1, part2=True)\n",
        "check_eq(process2(s1, num_days=10), 37)\n",
        "check_eq(process2(s1), 2208)\n",
        "puzzle.verify(2, process2)  # ~460 ms.\n",
        "_ = process2(puzzle.input, visualize=True)"
      ],
      "execution_count": 395,
      "outputs": [
        {
          "output_type": "stream",
          "name": "stdout",
          "text": [
            "(Part 1: 0.002 s)\n",
            "(Part 2: 0.461 s)\n"
          ]
        },
        {
          "output_type": "display_data",
          "data": {
            "text/html": [
              "<table class=\"show_videos\" style=\"border-spacing:0px;\"><tr><td style=\"padding:1px;\"><img width=\"123\" height=\"128\" style=\"image-rendering:pixelated; object-fit:cover;\" src=\"data:image/gif;base64,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\"/></td></tr></table>"
            ],
            "text/plain": [
              "<IPython.core.display.HTML object>"
            ]
          },
          "metadata": {}
        }
      ]
    },
    {
      "cell_type": "markdown",
      "metadata": {
        "id": "5DCFvNdh-eMi"
      },
      "source": [
        "<a name=\"day25\"></a>\n",
        "## Day 25: Public-key encryption"
      ]
    },
    {
      "cell_type": "markdown",
      "metadata": {
        "id": "NkqUQfX8qAyI"
      },
      "source": [
        "Given a card public key and a door public key, find the (private) card loop size and door loop size that were used to generate these public keys.  Then, find the common encryption key that the card and door use to communicate.\n",
        "\n",
        "- Part 1: Report the encryption key.\n",
        "\n",
        "- Part 2: There is no part 2 for this last day of the Advent."
      ]
    },
    {
      "cell_type": "code",
      "metadata": {
        "id": "A7PjF-ox-eMi",
        "colab": {
          "base_uri": "https://localhost:8080/",
          "height": 110
        },
        "outputId": "381054a4-0d58-466d-abd8-8b7563e05914"
      },
      "source": [
        "puzzle = advent.puzzle(day=25)"
      ],
      "execution_count": 396,
      "outputs": [
        {
          "output_type": "display_data",
          "data": {
            "text/markdown": "For [day 25](https://adventofcode.com/2020/day/25), `puzzle.input` has 2 lines:",
            "text/plain": [
              "<IPython.core.display.Markdown object>"
            ]
          },
          "metadata": {}
        },
        {
          "output_type": "stream",
          "name": "stdout",
          "text": [
            "10212254\n",
            "12577395\n"
          ]
        },
        {
          "output_type": "display_data",
          "data": {
            "text/markdown": "The stored answers are: `{1: '290487', 2: ''}`",
            "text/plain": [
              "<IPython.core.display.Markdown object>"
            ]
          },
          "metadata": {}
        }
      ]
    },
    {
      "cell_type": "code",
      "metadata": {
        "id": "bKWiR9xadArt"
      },
      "source": [
        "s1 = \"\"\"\n",
        "5764801\n",
        "17807724\n",
        "\"\"\""
      ],
      "execution_count": 397,
      "outputs": []
    },
    {
      "cell_type": "code",
      "metadata": {
        "id": "CrHqH34gC9wB",
        "colab": {
          "base_uri": "https://localhost:8080/"
        },
        "outputId": "aec53671-bd16-4f7e-f60c-df79de21f14a"
      },
      "source": [
        "def process1(s, base=7, mod=20201227):  # Slow.\n",
        "  card_public_key, door_public_key = map(int, s.strip('\\n').splitlines())\n",
        "\n",
        "  # Slow trial-multiplication; https://en.wikipedia.org/wiki/Discrete_logarithm\n",
        "  def untransform(base, value):\n",
        "    x = 1\n",
        "    loop_size = 0\n",
        "    while x != value:\n",
        "      loop_size += 1\n",
        "      x = (x * base) % mod\n",
        "    return loop_size\n",
        "\n",
        "  # Slow O(n) version.\n",
        "  def transform(value, loop_size):\n",
        "    x = 1\n",
        "    for _ in range(loop_size):\n",
        "      x = (x * value) % mod\n",
        "    return x\n",
        "\n",
        "  card_loop_size = untransform(base, card_public_key)\n",
        "  door_loop_size = untransform(base, door_public_key)\n",
        "  assert transform(base, card_loop_size) == card_public_key\n",
        "  assert transform(base, door_loop_size) == door_public_key\n",
        "\n",
        "  encryption_key1 = transform(door_public_key, card_loop_size)\n",
        "  encryption_key2 = transform(card_public_key, door_loop_size)\n",
        "  assert encryption_key1 == encryption_key2\n",
        "  return encryption_key1\n",
        "\n",
        "\n",
        "check_eq(process1(s1), 14897079)\n",
        "puzzle.verify(1, process1)  # ~1000 ms."
      ],
      "execution_count": 403,
      "outputs": [
        {
          "output_type": "stream",
          "name": "stdout",
          "text": [
            "(Part 1: 1.020 s)\n"
          ]
        }
      ]
    },
    {
      "cell_type": "code",
      "metadata": {
        "colab": {
          "base_uri": "https://localhost:8080/"
        },
        "id": "grEocEpxDCSO",
        "outputId": "30a64898-4131-4f7c-c104-649c3eda5326"
      },
      "source": [
        "def process1(s, base=7, mod=20201227):  # Fast.\n",
        "\n",
        "  def pow_mod(base: int, exponent: int, mod: int) -> int:\n",
        "    \"\"\"Returns 'base**exponent % mod' using square-multiply algorithm.\"\"\"\n",
        "    x = 1\n",
        "    while exponent > 0:\n",
        "      if exponent % 2 == 1:\n",
        "        x = (x * base) % mod\n",
        "      base = (base * base) % mod\n",
        "      exponent //= 2\n",
        "    return x\n",
        "\n",
        "  def log_mod(base: int, value: int, mod: int) -> Optional[int]:\n",
        "    \"\"\"Returns exponent for 'base**exponent % mod == value'.\"\"\"\n",
        "    # Using https://en.wikipedia.org/wiki/Baby-step_giant-step\n",
        "    m = int(math.ceil(math.sqrt(mod)))\n",
        "    table = {}\n",
        "    e = 1\n",
        "    for i in range(m):\n",
        "      table[e] = i\n",
        "      e = (e * base) % mod\n",
        "    factor = pow_mod(base, mod - m - 1, mod)\n",
        "    e = value\n",
        "    for i in range(m):\n",
        "      if e in table:\n",
        "        return i * m + table[e]\n",
        "      e = (e * factor) % mod\n",
        "    return None\n",
        "\n",
        "  card_public_key, door_public_key = map(int, s.strip('\\n').splitlines())\n",
        "  card_loop_size = log_mod(base, card_public_key, mod)\n",
        "  return pow_mod(door_public_key, card_loop_size, mod)\n",
        "\n",
        "\n",
        "check_eq(process1(s1), 14897079)\n",
        "puzzle.verify(1, process1)  # ~1 ms."
      ],
      "execution_count": 405,
      "outputs": [
        {
          "output_type": "stream",
          "name": "stdout",
          "text": [
            "(Part 1: 0.001 s)\n"
          ]
        }
      ]
    },
    {
      "cell_type": "markdown",
      "metadata": {
        "id": "9zdRajWRpyhN"
      },
      "source": [
        "Part 2"
      ]
    },
    {
      "cell_type": "code",
      "metadata": {
        "colab": {
          "base_uri": "https://localhost:8080/"
        },
        "id": "PuP7tmdj3-W6",
        "outputId": "9c9ca05a-1b2e-4cc4-99f7-1436cd470687"
      },
      "source": [
        "puzzle.verify(2, lambda s: '')  # (No \"Part 2\" on last day.)\n",
        "# (aocd does not allow a blank answer; the answer is not submitted)"
      ],
      "execution_count": 406,
      "outputs": [
        {
          "output_type": "stream",
          "name": "stdout",
          "text": [
            "(Part 2: 0.000 s)\n"
          ]
        }
      ]
    },
    {
      "cell_type": "markdown",
      "metadata": {
        "id": "If8mZUwzx1Id"
      },
      "source": [
        "<a name=\"timings\"></a>\n",
        "## Timings"
      ]
    },
    {
      "cell_type": "code",
      "metadata": {
        "colab": {
          "base_uri": "https://localhost:8080/"
        },
        "id": "aTzBo92e5pb3",
        "outputId": "fd9d5e4f-8d4e-4724-8930-c36a0693c607"
      },
      "source": [
        "advent.show_times()"
      ],
      "execution_count": 434,
      "outputs": [
        {
          "output_type": "stream",
          "name": "stdout",
          "text": [
            "day_1    part_1: 0.000   part_2: 0.002\n",
            "day_2    part_1: 0.003   part_2: 0.002\n",
            "day_3    part_1: 0.001   part_2: 0.002\n",
            "day_4    part_1: 0.003   part_2: 0.006\n",
            "day_5    part_1: 0.001   part_2: 0.002\n",
            "day_6    part_1: 0.001   part_2: 0.003\n",
            "day_7    part_1: 0.003   part_2: 0.003\n",
            "day_8    part_1: 0.000   part_2: 0.014\n",
            "day_9    part_1: 0.002   part_2: 0.004\n",
            "day_10   part_1: 0.000   part_2: 0.000\n",
            "day_11   part_1: 0.032   part_2: 0.051\n",
            "day_12   part_1: 0.001   part_2: 0.002\n",
            "day_13   part_1: 0.000   part_2: 0.000\n",
            "day_14   part_1: 0.001   part_2: 0.022\n",
            "day_15   part_1: 0.005   part_2: 0.636\n",
            "day_16   part_1: 0.006   part_2: 0.052\n",
            "day_17   part_1: 0.008   part_2: 0.206\n",
            "day_18   part_1: 0.005   part_2: 0.005\n",
            "day_19   part_1: 0.150   part_2: 0.616\n",
            "day_20   part_1: 0.011   part_2: 0.032\n",
            "day_21   part_1: 0.001   part_2: 0.001\n",
            "day_22   part_1: 0.000   part_2: 1.395\n",
            "day_23   part_1: 0.005   part_2: 0.424\n",
            "day_24   part_1: 0.002   part_2: 0.461\n",
            "day_25   part_1: 0.001   part_2: 0.000\n",
            "Total time:  4.185 s\n"
          ]
        }
      ]
    },
    {
      "cell_type": "code",
      "metadata": {
        "id": "LfJk7xbsojGW"
      },
      "source": [
        "if 0:  # Compute min execution times over several calls.\n",
        "  advent.show_times(recompute=True, repeat=3)"
      ],
      "execution_count": null,
      "outputs": []
    },
    {
      "cell_type": "code",
      "metadata": {
        "id": "SeeXbs0DojGW"
      },
      "source": [
        "if 0:  # Look for unwanted pollution of namespace.\n",
        "  print(textwrap.fill(' '.join(var for var, value in globals().items() if (\n",
        "      not var.startswith('_') and not repr(value).startswith(\n",
        "          ('<module', '<class', 'typing.', 'functools.partial('))))))"
      ],
      "execution_count": null,
      "outputs": []
    },
    {
      "cell_type": "code",
      "metadata": {
        "id": "4TwDqJdtG0fy"
      },
      "source": [
        "if 0:  # Save puzzle inputs and answers to a ZIP file for downloading.\n",
        "  # Create a new zip file, quietly (-q) and ignoring relative paths (-j).\n",
        "  !zip -q -j - ~/.config/aocd/'{PROFILE.replace(\"_\", \" \")}'/*.txt >/content/data.zip"
      ],
      "execution_count": null,
      "outputs": []
    },
    {
      "cell_type": "code",
      "metadata": {
        "id": "890NywEVsDj4"
      },
      "source": [
        "# Goals:\n",
        "# (1) Find puzzle answers.\n",
        "# (2) Clean up code.\n",
        "# (3) Speed up computation.\n",
        "# (4) Visualize intermediate results.\n",
        "# (5) Generalize to all puzzle inputs."
      ],
      "execution_count": null,
      "outputs": []
    },
    {
      "cell_type": "markdown",
      "metadata": {
        "id": "GtTzv1y282IP"
      },
      "source": [
        "# End"
      ]
    }
  ]
}