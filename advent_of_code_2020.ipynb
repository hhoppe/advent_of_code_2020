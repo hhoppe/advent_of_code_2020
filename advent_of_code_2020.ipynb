{
  "nbformat": 4,
  "nbformat_minor": 0,
  "metadata": {
    "colab": {
      "name": "advent_of_code_2020.ipynb",
      "provenance": [],
      "collapsed_sections": [],
      "toc_visible": true,
      "include_colab_link": true
    },
    "kernelspec": {
      "name": "python3",
      "display_name": "Python 3"
    }
  },
  "cells": [
    {
      "cell_type": "markdown",
      "metadata": {
        "id": "view-in-github",
        "colab_type": "text"
      },
      "source": [
        "<a href=\"https://colab.research.google.com/github/hhoppe/advent_of_code_2020/blob/main/advent_of_code_2020.ipynb\" target=\"_parent\"><img src=\"https://colab.research.google.com/assets/colab-badge.svg\" alt=\"Open In Colab\"/></a>"
      ]
    },
    {
      "cell_type": "markdown",
      "metadata": {
        "id": "WXIjO0fEzNYw"
      },
      "source": [
        "<a name=\"top\"></a>\n",
        "# Advent of code 2020\n",
        "\n",
        "IPython/Jupyter [notebook](https://github.com/hhoppe/advent_of_code_2020/blob/main/advent_of_code_2020.ipynb) by [Hugues Hoppe](http://hhoppe.com/); December 2020.\n",
        "\n",
        "I participated in the 25-day [Advent of Code](https://adventofcode.com/) for the first time this year, thanks to encouragement from colleagues, especially [Sascha Häberling](https://github.com/shaeberling).  It was great fun and provided a nice opportunity to learn more advanced Python.\n",
        "\n",
        "In the event, many people compete to solve the puzzles as quickly as possible --- see the impressive times on the [leaderboard](https://adventofcode.com/2020/leaderboard).\n",
        "My approach was much more casual, although I did aim to finish the puzzle each evening.\n",
        "\n",
        "Later, I went back to explore more **polished and efficient solutions**.\n",
        "Can the code be expressed more succinctly?\n",
        "What is the fastest algorithm given the constraints of interpreted Python?\n",
        "Along the way, I discovered the [`numba`](https://numba.pydata.org/) package which can JIT-compile bottleneck functions to native code;\n",
        "is it practical for these problems?  Yes, it can help greatly!\n",
        "\n",
        "This notebook is organized such that each day is self-contained and can be run on its own after the preamble.\n",
        "\n",
        "- The [**preamble**](#preamble) readies the inputs and answers for the puzzles.  No custom shortcut functions are introduced (other than `check_eq`) so the puzzle code solutions are easily recognizable.\n",
        "\n",
        "- For **each day**, the first notebook cell defines a `puzzle` object:\n",
        "\n",
        "  ```\n",
        "    puzzle = advent.puzzle(day=1)\n",
        "  ```\n",
        "  The puzzle input string is automatically read into the attribute `puzzle.input`.\n",
        "  This input string is unique to each Advent participant.\n",
        "  By default, the notebook uses [my input data](https://github.com/hhoppe/advent_of_code_2020/tree/main/data) stored on GitHub,\n",
        "  but the variable `INPUT_DATA_PATH_OR_URL_FORMAT` can refer to any directory or URL.\n",
        "  Similarly, the (per-user) puzzle answers are read from my JSON [file](https://github.com/hhoppe/advent_of_code_2020/blob/main/data/answers.json) specified in `ANSWERS_PATH_OR_URL`.\n",
        "\n",
        "  For each of the two puzzle parts, a function (e.g. `process1`) takes an input string and returns a string or integer answer.\n",
        "  Using calls like the following, we time the execution of each function and verify the answers:\n",
        "  ```\n",
        "    puzzle.verify(part=1, func=process1)\n",
        "    puzzle.verify(part=2, func=process2)\n",
        "  ```\n",
        "\n",
        "- At the end of the notebook, a table summarizes [**timing**](#timings) results.\n",
        "\n",
        "Some **conclusions**:\n",
        "\n",
        "- A Jupyter/IPython notebook is a great environment for exploration.\n",
        "- The notebook conveniently bundles descriptions, notes, code, small test inputs, and results.\n",
        "- Initially I stored puzzle inputs within the notebook itself, but this introduces clutter and runs inefficiently.\n",
        "- The cloud-based CPU kernel/runtime provided by Colab works nicely.\n",
        "- With the [`numba`](https://numba.pydata.org/) library (for days [11](#day11), [15](#day15), and [23](#day23)), all of this year's puzzles can be solved in 1 second or less.\n",
        "- Remarkably, the total execution time across all 25 puzzles is under 4 s."
      ]
    },
    {
      "cell_type": "markdown",
      "metadata": {
        "id": "BDeORtzZKKfw"
      },
      "source": [
        "<a name=\"preamble\"></a>\n",
        "## Preamble: Common code"
      ]
    },
    {
      "cell_type": "code",
      "metadata": {
        "id": "HjlN7zn53GNs"
      },
      "source": [
        "INPUT_DATA_PATH_OR_URL_FORMAT = 'https://github.com/hhoppe/advent_of_code_2020/raw/main/data/input{:02d}.txt'\n",
        "ANSWERS_PATH_OR_URL = 'https://github.com/hhoppe/advent_of_code_2020/raw/main/data/answers.json'\n",
        "also_run_slow_tests = False\n",
        "show_all_videos = True"
      ],
      "execution_count": 1,
      "outputs": []
    },
    {
      "cell_type": "code",
      "metadata": {
        "id": "FJf7iY-ZK9Tn"
      },
      "source": [
        "!pip install -q mediapy"
      ],
      "execution_count": 2,
      "outputs": []
    },
    {
      "cell_type": "code",
      "metadata": {
        "id": "U-m_rc8FSilP"
      },
      "source": [
        "import bisect\n",
        "import collections\n",
        "import contextlib\n",
        "import dataclasses\n",
        "import functools\n",
        "import heapq\n",
        "import itertools\n",
        "import json\n",
        "import math\n",
        "import operator\n",
        "import pprint\n",
        "import random\n",
        "import re\n",
        "import sys\n",
        "import textwrap\n",
        "import time\n",
        "from typing import Any, Callable, Dict, Mapping, Optional, Tuple, Union\n",
        "import unittest.mock\n",
        "import urllib.request\n",
        "\n",
        "import mediapy as media\n",
        "import numpy as np"
      ],
      "execution_count": 3,
      "outputs": []
    },
    {
      "cell_type": "code",
      "metadata": {
        "id": "SS2dbAs3TM7y"
      },
      "source": [
        "try:\n",
        "  import numba\n",
        "  using_numba = True\n",
        "  numba_njit = numba.njit\n",
        "except ModuleNotFoundError:\n",
        "  print('numba unavailable')\n",
        "  using_numba = False\n",
        "  def noop_decorator(*args: Any, **kwargs: Any) -> Any:\n",
        "    \"\"\"Function decorator that ignores any arguments and does nothing.\"\"\"\n",
        "    return (args[0] if len(args) == 1 and callable(args[0]) and not kwargs\n",
        "            else noop_decorator)\n",
        "  numba_njit = noop_decorator"
      ],
      "execution_count": 4,
      "outputs": []
    },
    {
      "cell_type": "code",
      "metadata": {
        "id": "6M3KdXtHK9Tn"
      },
      "source": [
        "def check_eq(a: Any, b: Any) -> None:\n",
        "  if np.any(a != b):\n",
        "    raise AssertionError(f'{a!r} == {b!r}')\n",
        "\n",
        "\n",
        "def np_int_from_ch(a, int_from_ch: Mapping[str, int],\n",
        "                   dtype=None) -> np.ndarray:\n",
        "  \"\"\"Returns array of integers by mapping from array of characters.\"\"\"\n",
        "  a = np.asarray(a).view(np.int32)\n",
        "  lookup = np.zeros(np.max(a) + 1, dtype=dtype or np.int64)\n",
        "  for ch, value in int_from_ch.items():\n",
        "    lookup[ord(ch)] = value\n",
        "  return lookup[a]\n",
        "\n",
        "\n",
        "def grid_from_string(s: str, int_from_ch: Optional[Mapping[str, int]] = None,\n",
        "    dtype=None) -> np.ndarray:\n",
        "  \"\"\"Returns 2D grid (of characters or integers) from a multiline string.\"\"\"\n",
        "  if 0:  # slow\n",
        "    grid = np.array(list(map(list, s.strip('\\n').splitlines())))\n",
        "\n",
        "  else:  # fast\n",
        "    lines = s.strip('\\n').splitlines()\n",
        "    height, width = len(lines), len(lines[0])\n",
        "    grid = np.empty((height, width), dtype='U1')\n",
        "    dtype_for_row = f'U{width}'\n",
        "    for i, line in enumerate(lines):\n",
        "      grid[i].view(dtype_for_row)[0] = line\n",
        "\n",
        "  if int_from_ch is not None:\n",
        "    grid = np_int_from_ch(grid, int_from_ch, dtype=dtype)\n",
        "  return grid\n",
        "\n",
        "\n",
        "def read_contents(path_or_url: str) -> bytes:\n",
        "  if path_or_url.startswith(('http://', 'https://')):\n",
        "    with urllib.request.urlopen(path_or_url) as response:\n",
        "      data: bytes = response.read()\n",
        "    return data\n",
        "  with open(path_or_url, 'rb') as f:\n",
        "    return f.read()\n",
        "\n",
        "\n",
        "@dataclasses.dataclass\n",
        "class PuzzlePart:\n",
        "  part: int\n",
        "  func: Callable[[str], Union[str, int]]\n",
        "  answer: Optional[Union[str, int]]\n",
        "  slow: bool\n",
        "  elapsed_time: float = -0.0\n",
        "\n",
        "  def compute(self, input: str, silent: bool = False, repeat: int = 1) -> None:\n",
        "    with contextlib.ExitStack() as stack:\n",
        "      if silent:\n",
        "        for f in ('sys.stdout', 'sys.stderr', 'IPython.display.display'):\n",
        "          stack.enter_context(unittest.mock.patch(f))\n",
        "      if self.slow and not advent.also_run_slow_tests:\n",
        "        print('Skipping slow computation because also_run_slow_tests is False')\n",
        "        return\n",
        "      elapsed_times = []\n",
        "      for _ in range(repeat):\n",
        "        start_time = time.time()\n",
        "        result = self.func(input)\n",
        "        elapsed_times.append(time.time() - start_time)\n",
        "        if result != self.answer:\n",
        "          raise AssertionError(f'Result {result} != expected {self.answer}')\n",
        "      self.elapsed_time = min(elapsed_times)\n",
        "      print(f'(Part {self.part}: {self.elapsed_time:#5.3f} s)', flush=True)\n",
        "\n",
        "\n",
        "@dataclasses.dataclass\n",
        "class Puzzle:\n",
        "  day: int\n",
        "  input: str = ''\n",
        "  parts: Dict[int, PuzzlePart] = dataclasses.field(default_factory=dict)  # 1..2\n",
        "  silent: bool = False\n",
        "\n",
        "  def __post_init__(self) -> None:\n",
        "    if self.input:\n",
        "      self.input = self.input.lstrip('\\n')\n",
        "    else:\n",
        "      path_or_url = INPUT_DATA_PATH_OR_URL_FORMAT.format(self.day)\n",
        "      self.input = read_contents(path_or_url).decode()\n",
        "    advent.puzzles[self.day] = self\n",
        "    if not self.silent:\n",
        "      self.print_summary()\n",
        "\n",
        "  def print_summary(self) -> None:\n",
        "    lines = [(line[:80] + ' ... ' + line[-35:] if len(line) > 120 else line)\n",
        "            for line in self.input.splitlines()]\n",
        "    lines2 = lines[:8] + [' ...'] + lines[-4:] if len(lines) > 13 else lines\n",
        "    s = '\\n'.join(lines2)\n",
        "    print(f'For day {self.day}, puzzle.input has {len(lines)} lines:\\n{s}')\n",
        "    print(f'And the stored answers are: {advent.answers[self.day]}')\n",
        "\n",
        "  def verify(self, part: int, func: Callable[[str], Union[str, int]],\n",
        "            answer: Optional[Union[str, int]] = None, \n",
        "            slow: bool = False, repeat: int = 1) -> None:\n",
        "    assert part in (1, 2)\n",
        "    if answer is None:\n",
        "      answer = advent.answers[self.day].get(part)\n",
        "    else:\n",
        "      advent.answers[self.day][part] = answer\n",
        "    self.parts[part] = puzzle_part = PuzzlePart(part, func, answer, slow)\n",
        "    puzzle_part.compute(self.input, repeat=repeat)\n",
        "\n",
        "\n",
        "@dataclasses.dataclass\n",
        "class Advent:\n",
        "  also_run_slow_tests: bool = False\n",
        "  puzzles: Dict[int, Puzzle] = dataclasses.field(default_factory=dict)  # 1..25\n",
        "  answers: Dict[int, Dict[int, Union[str, int]]] = dataclasses.field(\n",
        "      default_factory=lambda: collections.defaultdict(dict))\n",
        "\n",
        "  def __post_init__(self) -> None:\n",
        "    if ANSWERS_PATH_OR_URL:\n",
        "      def keys_to_int(d): return {int(k): v for k, v in d.items()}\n",
        "      self.answers = json.loads(read_contents(ANSWERS_PATH_OR_URL).decode(),\n",
        "                                object_hook=keys_to_int)\n",
        "\n",
        "  def puzzle(self, *args: Any, **kwargs: Any) -> Puzzle:\n",
        "    return Puzzle(*args, **kwargs)\n",
        "\n",
        "  def show_times(self, recompute: bool = False, repeat: int = 1) -> None:\n",
        "    if recompute and repeat > 1:\n",
        "      print(f'(Computing min times over {repeat} calls.)')\n",
        "    total = 0.0\n",
        "    for day, puzzle in sorted(self.puzzles.items()):\n",
        "      s = f'day_{day:<2}'\n",
        "      for part in (1, 2):\n",
        "        s += f'   part_{part}:'\n",
        "        puzzle_part = puzzle.parts.get(part)\n",
        "        if not puzzle_part:\n",
        "          s += '  n/a '\n",
        "          continue\n",
        "        if recompute:\n",
        "          puzzle_part.compute(puzzle.input, silent=True, repeat=repeat)\n",
        "        s += f'{puzzle_part.elapsed_time:#6.3f}'\n",
        "        total += puzzle_part.elapsed_time\n",
        "      print(s)\n",
        "    print(f'Total time:{total:#7.3f} s')\n",
        "\n",
        "\n",
        "advent = Advent(also_run_slow_tests=also_run_slow_tests)"
      ],
      "execution_count": 5,
      "outputs": []
    },
    {
      "cell_type": "markdown",
      "metadata": {
        "id": "BjAmIcq7zm2O"
      },
      "source": [
        "<a name=\"day1\"></a>\n",
        "## Day 1: Find summing numbers"
      ]
    },
    {
      "cell_type": "markdown",
      "metadata": {
        "id": "rqUsuqjsVE4g"
      },
      "source": [
        "- Part 1: Given a list of numbers, find two entries that sum to 2020 and multiply those entries together.\n",
        "\n",
        "- Part 2: Find three entries that sum to 2020 and multiply those entries together."
      ]
    },
    {
      "cell_type": "code",
      "metadata": {
        "id": "o-Ye0TCN-bUe",
        "colab": {
          "base_uri": "https://localhost:8080/"
        },
        "outputId": "a2f57b90-e7b2-4d63-a19c-920f320b4f45"
      },
      "source": [
        "puzzle = advent.puzzle(1)"
      ],
      "execution_count": 6,
      "outputs": [
        {
          "output_type": "stream",
          "text": [
            "For day 1, puzzle.input has 200 lines:\n",
            "1686\n",
            "1983\n",
            "1801\n",
            "1890\n",
            "1910\n",
            "1722\n",
            "1571\n",
            "1952\n",
            " ...\n",
            "1261\n",
            "1154\n",
            "1769\n",
            "1529\n",
            "And the stored answers are: {1: 651651, 2: 214486272}\n"
          ],
          "name": "stdout"
        }
      ]
    },
    {
      "cell_type": "code",
      "metadata": {
        "id": "S1D3RERUA72h"
      },
      "source": [
        "# A test input provided in the puzzle description:\n",
        "s1 = \"\"\"\n",
        "1721\n",
        "979\n",
        "366\n",
        "299\n",
        "675\n",
        "1456\n",
        "\"\"\""
      ],
      "execution_count": 7,
      "outputs": []
    },
    {
      "cell_type": "code",
      "metadata": {
        "colab": {
          "base_uri": "https://localhost:8080/"
        },
        "id": "eeU02C1oVPjW",
        "outputId": "51e36901-358f-44e2-e3e4-57ba456ca75c"
      },
      "source": [
        "def process1(s, total=2020):\n",
        "  entries = set(map(int, s.split()))\n",
        "  for a in entries:\n",
        "    b = total - a\n",
        "    if b in entries:\n",
        "      return a * b\n",
        "  return None\n",
        " \n",
        " \n",
        "check_eq(process1(s1), 514579)  # reference answer provided in the description\n",
        "puzzle.verify(1, process1)"
      ],
      "execution_count": 8,
      "outputs": [
        {
          "output_type": "stream",
          "text": [
            "(Part 1: 0.000 s)\n"
          ],
          "name": "stdout"
        }
      ]
    },
    {
      "cell_type": "code",
      "metadata": {
        "id": "2CNF3uj6_P7c",
        "colab": {
          "base_uri": "https://localhost:8080/"
        },
        "outputId": "284c2161-d585-4d3d-cd3e-8fedb167a8b1"
      },
      "source": [
        "def process2(s, total=2020):\n",
        "  entries = set(map(int, s.split()))\n",
        "  for a in entries:\n",
        "    for b in entries:\n",
        "      c = total - a - b\n",
        "      if c in entries:\n",
        "        return a * b * c\n",
        "  return None\n",
        " \n",
        " \n",
        "check_eq(process2(s1), 241861950)\n",
        "puzzle.verify(2, process2)"
      ],
      "execution_count": 9,
      "outputs": [
        {
          "output_type": "stream",
          "text": [
            "(Part 2: 0.003 s)\n"
          ],
          "name": "stdout"
        }
      ]
    },
    {
      "cell_type": "markdown",
      "metadata": {
        "id": "RoUuAFCFAOXZ"
      },
      "source": [
        "<a name=\"day2\"></a>\n",
        "## Day 2: Valid passwords"
      ]
    },
    {
      "cell_type": "markdown",
      "metadata": {
        "id": "4g5RVk2fVn19"
      },
      "source": [
        "Given input lines each containing a password rule (`i-j c`) and a password, count the number of \"valid\" passwords such that:\n",
        "\n",
        "- Part 1: The number of instances of character `c` in the password is in the range `[i, j]`.\n",
        "\n",
        "- Part 2: The password characters at positions `i` and `j` contain exactly one instance of character `c`."
      ]
    },
    {
      "cell_type": "code",
      "metadata": {
        "id": "AXoT9cob5y51",
        "colab": {
          "base_uri": "https://localhost:8080/"
        },
        "outputId": "cba2589d-0040-4ee0-b4f4-68823abab645"
      },
      "source": [
        "puzzle = advent.puzzle(2)"
      ],
      "execution_count": 10,
      "outputs": [
        {
          "output_type": "stream",
          "text": [
            "For day 2, puzzle.input has 1000 lines:\n",
            "4-7 z: zzzfzlzzz\n",
            "3-4 l: blllk\n",
            "8-11 j: jjjjjjjgjjjj\n",
            "6-7 l: lllhlbl\n",
            "10-13 x: xmhfsbjxptxxv\n",
            "2-3 s: ssvxszrvj\n",
            "4-6 r: rtrrrqv\n",
            "5-6 c: cbccxc\n",
            " ...\n",
            "9-10 w: wwwwwwbwwhww\n",
            "5-6 g: kgggjg\n",
            "4-8 s: ssssssscs\n",
            "12-20 t: ttttttltttvttttttttt\n",
            "And the stored answers are: {1: 396, 2: 428}\n"
          ],
          "name": "stdout"
        }
      ]
    },
    {
      "cell_type": "code",
      "metadata": {
        "id": "PLqF8llY5ueK"
      },
      "source": [
        "s1 = \"\"\"\n",
        "1-3 a: abcde\n",
        "1-3 b: cdefg\n",
        "2-9 c: ccccccccc\n",
        "\"\"\""
      ],
      "execution_count": 11,
      "outputs": []
    },
    {
      "cell_type": "code",
      "metadata": {
        "colab": {
          "base_uri": "https://localhost:8080/"
        },
        "id": "WljooTaDXewx",
        "outputId": "dd8e6837-3d52-4e56-f58a-2030b331a71c"
      },
      "source": [
        "def process1(s):\n",
        "  lines = s.strip('\\n').splitlines()\n",
        "  num_valid = 0\n",
        "  pattern = re.compile(r'(\\d+)-(\\d+) (\\w): (\\w+)')\n",
        "  for line in lines:\n",
        "    vmin, vmax, ch, password = pattern.fullmatch(line).groups()\n",
        "    vmin, vmax = int(vmin), int(vmax)\n",
        "    count = sum([c == ch for c in password])\n",
        "    num_valid += vmin <= count <= vmax\n",
        "  return num_valid\n",
        "\n",
        "\n",
        "check_eq(process1(s1), 2)\n",
        "puzzle.verify(1, process1)"
      ],
      "execution_count": 12,
      "outputs": [
        {
          "output_type": "stream",
          "text": [
            "(Part 1: 0.005 s)\n"
          ],
          "name": "stdout"
        }
      ]
    },
    {
      "cell_type": "code",
      "metadata": {
        "id": "wvDd-s4Y7tGr",
        "colab": {
          "base_uri": "https://localhost:8080/"
        },
        "outputId": "898de7bc-1c4c-4712-f017-bfc5a599fd38"
      },
      "source": [
        "def process2(s):\n",
        "  lines = s.strip('\\n').splitlines()\n",
        "  num_valid = 0\n",
        "  pattern = re.compile(r'(\\d+)-(\\d+) (\\w): (\\w+)')\n",
        "  for line in lines:\n",
        "    vmin, vmax, ch, password = pattern.fullmatch(line).groups()\n",
        "    vmin, vmax = int(vmin), int(vmax)\n",
        "    valid = (password[vmin - 1] == ch) ^ (password[vmax - 1] == ch)\n",
        "    num_valid += valid\n",
        "  return num_valid\n",
        "\n",
        "\n",
        "check_eq(process2(s1), 1)\n",
        "puzzle.verify(2, process2)"
      ],
      "execution_count": 13,
      "outputs": [
        {
          "output_type": "stream",
          "text": [
            "(Part 2: 0.001 s)\n"
          ],
          "name": "stdout"
        }
      ]
    },
    {
      "cell_type": "markdown",
      "metadata": {
        "id": "vVXln2ontIH-"
      },
      "source": [
        "<a name=\"day3\"></a>\n",
        "## Day 3: Count intersections in grid"
      ]
    },
    {
      "cell_type": "markdown",
      "metadata": {
        "id": "-2-CRHJyXrMG"
      },
      "source": [
        "Given a 2D grid containing sparse \"trees\", determine the number of trees encountered when moving from the top-left to the bottom row with a slope `(dy, dx)` and using wraparound addressing on the horizontal axis.\n",
        "\n",
        "- Part 1: Count the trees for the slope `(dy, dx) = (1, 3)` \n",
        "\n",
        "- Part 2: Compute the product of the tree counts for slopes `(1, 1)`, `(1, 3)`, `(1, 5)`, `(1, 7)`, and `(2, 1)`."
      ]
    },
    {
      "cell_type": "code",
      "metadata": {
        "id": "fMDTiYgctJjI",
        "colab": {
          "base_uri": "https://localhost:8080/"
        },
        "outputId": "511dae8d-1cf1-4e9d-960b-1d0814e06e31"
      },
      "source": [
        "puzzle = advent.puzzle(3)"
      ],
      "execution_count": 14,
      "outputs": [
        {
          "output_type": "stream",
          "text": [
            "For day 3, puzzle.input has 323 lines:\n",
            "........#.............#........\n",
            "...#....#...#....#.............\n",
            ".#..#...#............#.....#..#\n",
            "..#......#..##............###..\n",
            "..........#......#..#..#.......\n",
            ".#..#.......#.........#.#......\n",
            ".........#..#....##..#.##....#.\n",
            "..#....##...#..................\n",
            " ...\n",
            "..................#...#....#.##\n",
            "......#.#....#.................\n",
            "......#.#.....#.....#..##......\n",
            "#..##...........#..#.....#.##..\n",
            "And the stored answers are: {1: 148, 2: 727923200}\n"
          ],
          "name": "stdout"
        }
      ]
    },
    {
      "cell_type": "code",
      "metadata": {
        "id": "k8OD2FMiKrKI"
      },
      "source": [
        "s1 = \"\"\"\n",
        "..##.......\n",
        "#...#...#..\n",
        ".#....#..#.\n",
        "..#.#...#.#\n",
        ".#...##..#.\n",
        "..#.##.....\n",
        ".#.#.#....#\n",
        ".#........#\n",
        "#.##...#...\n",
        "#...##....#\n",
        ".#..#...#.#\n",
        "\"\"\""
      ],
      "execution_count": 15,
      "outputs": []
    },
    {
      "cell_type": "code",
      "metadata": {
        "colab": {
          "base_uri": "https://localhost:8080/"
        },
        "id": "MWBlwlbqlWde",
        "outputId": "7cb2c366-6817-4055-b1a3-eeaef52daaac"
      },
      "source": [
        "# Slower code:\n",
        "def process(s, dyxs=((1, 3),)):\n",
        "  grid = np.array(list(map(list, s.strip('\\n').splitlines())))\n",
        "\n",
        "  def get_count(dy, dx):\n",
        "    y, x = (0, 0)\n",
        "    count = 0\n",
        "    while y < grid.shape[0]:\n",
        "      count += grid[y, x] == '#'\n",
        "      y, x = y + dy, (x + dx) % grid.shape[1]\n",
        "    return count\n",
        "  \n",
        "  return np.prod([get_count(dy, dx) for dy, dx in dyxs])\n",
        "\n",
        "\n",
        "check_eq(process(s1), 7)\n",
        "puzzle.verify(1, process)"
      ],
      "execution_count": 16,
      "outputs": [
        {
          "output_type": "stream",
          "text": [
            "(Part 1: 0.003 s)\n"
          ],
          "name": "stdout"
        }
      ]
    },
    {
      "cell_type": "code",
      "metadata": {
        "colab": {
          "base_uri": "https://localhost:8080/"
        },
        "id": "nWBVeWoklZ3a",
        "outputId": "81ca2fdc-3362-4d85-99fb-5de96101a4bf"
      },
      "source": [
        "# Faster code:\n",
        "def process(s, dyxs=((1, 3),)):\n",
        "  grid = grid_from_string(s)\n",
        "\n",
        "  def get_count(dy, dx):\n",
        "    y = np.arange(0, grid.shape[0], dy)\n",
        "    x = (np.arange(len(y)) * dx) % grid.shape[1]\n",
        "    return np.count_nonzero(grid[y, x] == '#')\n",
        "  \n",
        "  return np.prod([get_count(dy, dx) for dy, dx in dyxs])\n",
        "\n",
        "\n",
        "check_eq(process(s1), 7)\n",
        "puzzle.verify(1, process)"
      ],
      "execution_count": 17,
      "outputs": [
        {
          "output_type": "stream",
          "text": [
            "(Part 1: 0.001 s)\n"
          ],
          "name": "stdout"
        }
      ]
    },
    {
      "cell_type": "code",
      "metadata": {
        "id": "-qme2hj5NJVE",
        "colab": {
          "base_uri": "https://localhost:8080/"
        },
        "outputId": "4b4bddab-6767-47e5-b026-07526223cca6"
      },
      "source": [
        "process2 = functools.partial(\n",
        "    process, dyxs=((1, 1), (1, 3), (1, 5), (1, 7), (2, 1)))\n",
        "\n",
        "check_eq(process2(s1), 336)\n",
        "puzzle.verify(2, process2)"
      ],
      "execution_count": 18,
      "outputs": [
        {
          "output_type": "stream",
          "text": [
            "(Part 2: 0.002 s)\n"
          ],
          "name": "stdout"
        }
      ]
    },
    {
      "cell_type": "markdown",
      "metadata": {
        "id": "QUstwnV9OQ73"
      },
      "source": [
        "<a name=\"day4\"></a>\n",
        "## Day 4: Valid text fields"
      ]
    },
    {
      "cell_type": "markdown",
      "metadata": {
        "id": "2rusVWFOZiyd"
      },
      "source": [
        "Given records containing various fields, count the number of valid records.\n",
        "\n",
        "- Part 1: Each record is valid if it contains at least some required fields.\n",
        "\n",
        "- Part 2: The fields also satisfy a set of requirements."
      ]
    },
    {
      "cell_type": "code",
      "metadata": {
        "id": "mNvquM2xYBxI",
        "colab": {
          "base_uri": "https://localhost:8080/"
        },
        "outputId": "03619892-3ebd-48de-fbc1-198200a735f7"
      },
      "source": [
        "puzzle = advent.puzzle(4)"
      ],
      "execution_count": 19,
      "outputs": [
        {
          "output_type": "stream",
          "text": [
            "For day 4, puzzle.input has 1102 lines:\n",
            "hcl:5d90f0 cid:270 ecl:#66dc9c hgt:62cm byr:1945 pid:63201172 eyr:2026\n",
            "\n",
            "ecl:amb byr:1943 iyr:2014 eyr:2028\n",
            "pid:333051831\n",
            "\n",
            "byr:1971\n",
            "eyr:2021 iyr:2015 pid:158388040 hcl:#18171d ecl:brn hgt:179cm\n",
            "\n",
            " ...\n",
            "hcl:#7d3b0c pid:431742871\n",
            "ecl:hzl hgt:169cm cid:340\n",
            "eyr:2023\n",
            "iyr:2017 byr:1994\n",
            "And the stored answers are: {1: 216, 2: 150}\n"
          ],
          "name": "stdout"
        }
      ]
    },
    {
      "cell_type": "code",
      "metadata": {
        "id": "Zg5BJ9IbOSyY",
        "colab": {
          "base_uri": "https://localhost:8080/"
        },
        "cellView": "form",
        "outputId": "04cf9a50-7ac5-4402-9a3e-2115127b0d79"
      },
      "source": [
        "#@title\n",
        "print('Let s1, s2, s3 be test inputs.')\n",
        "\n",
        "s1 = \"\"\"\n",
        "ecl:gry pid:860033327 eyr:2020 hcl:#fffffd\n",
        "byr:1937 iyr:2017 cid:147 hgt:183cm\n",
        "\n",
        "iyr:2013 ecl:amb cid:350 eyr:2023 pid:028048884\n",
        "hcl:#cfa07d byr:1929\n",
        "\n",
        "hcl:#ae17e1 iyr:2013\n",
        "eyr:2024\n",
        "ecl:brn pid:760753108 byr:1931\n",
        "hgt:179cm\n",
        "\n",
        "hcl:#cfa07d eyr:2025 pid:166559648\n",
        "iyr:2011 ecl:brn hgt:59in\n",
        "\"\"\"\n",
        "\n",
        "# all invalid\n",
        "s2 = \"\"\"\n",
        "eyr:1972 cid:100\n",
        "hcl:#18171d ecl:amb hgt:170 pid:186cm iyr:2018 byr:1926\n",
        "\n",
        "iyr:2019\n",
        "hcl:#602927 eyr:1967 hgt:170cm\n",
        "ecl:grn pid:012533040 byr:1946\n",
        "\n",
        "hcl:dab227 iyr:2012\n",
        "ecl:brn hgt:182cm pid:021572410 eyr:2020 byr:1992 cid:277\n",
        "\n",
        "hgt:59cm ecl:zzz\n",
        "eyr:2038 hcl:74454a iyr:2023\n",
        "pid:3556412378 byr:2007\n",
        "\"\"\"\n",
        "\n",
        "# all valid\n",
        "s3 = \"\"\"\n",
        "pid:087499704 hgt:74in ecl:grn iyr:2012 eyr:2030 byr:1980\n",
        "hcl:#623a2f\n",
        "\n",
        "eyr:2029 ecl:blu cid:129 byr:1989\n",
        "iyr:2014 pid:896056539 hcl:#a97842 hgt:165cm\n",
        "\n",
        "hcl:#888785\n",
        "hgt:164cm byr:2001 iyr:2015 cid:88\n",
        "pid:545766238 ecl:hzl\n",
        "eyr:2022\n",
        "\n",
        "iyr:2010 hgt:158cm hcl:#b6652a ecl:blu byr:1944 eyr:2021 pid:093154719\n",
        "\"\"\""
      ],
      "execution_count": 20,
      "outputs": [
        {
          "output_type": "stream",
          "text": [
            "Let s1, s2, s3 be test inputs.\n"
          ],
          "name": "stdout"
        }
      ]
    },
    {
      "cell_type": "code",
      "metadata": {
        "id": "nzSK3GjrYAMe",
        "colab": {
          "base_uri": "https://localhost:8080/"
        },
        "outputId": "44f5f874-b18a-4b45-bffa-6aa06d04928b"
      },
      "source": [
        "def process1(s):\n",
        "  required_fields = set('byr iyr eyr hgt hcl ecl pid'.split())\n",
        "  passports = s.strip('\\n').split('\\n\\n')\n",
        "  num_valid = 0\n",
        "  for passport in passports:\n",
        "    passport = passport.replace('\\n', ' ')\n",
        "    is_valid = all(field + ':' in passport for field in required_fields)\n",
        "    num_valid += is_valid\n",
        "  return num_valid\n",
        "\n",
        "\n",
        "check_eq(process1(s1), 2)\n",
        "puzzle.verify(1, process1)"
      ],
      "execution_count": 21,
      "outputs": [
        {
          "output_type": "stream",
          "text": [
            "(Part 1: 0.001 s)\n"
          ],
          "name": "stdout"
        }
      ]
    },
    {
      "cell_type": "code",
      "metadata": {
        "id": "uZcmS_BxZa-Q"
      },
      "source": [
        "# Field requirements:\n",
        "# byr (Birth Year) - four digits; at least 1920 and at most 2002.\n",
        "# iyr (Issue Year) - four digits; at least 2010 and at most 2020.\n",
        "# eyr (Expiration Year) - four digits; at least 2020 and at most 2030.\n",
        "# hgt (Height) - a number followed by either cm or in:\n",
        "# If cm, the number must be at least 150 and at most 193.\n",
        "# If in, the number must be at least 59 and at most 76.\n",
        "# hcl (Hair Color) - a # followed by exactly six characters 0-9 or a-f.\n",
        "# ecl (Eye Color) - exactly one of: amb blu brn gry grn hzl oth.\n",
        "# pid (Passport ID) - a nine-digit number, including leading zeroes.\n",
        "# cid (Country ID) - ignored, missing or not."
      ],
      "execution_count": 22,
      "outputs": []
    },
    {
      "cell_type": "code",
      "metadata": {
        "id": "HtWW5K9kZdng",
        "colab": {
          "base_uri": "https://localhost:8080/"
        },
        "outputId": "d5993bdc-2a6f-4c24-9bb1-40af62fe59a9"
      },
      "source": [
        "def process2(s):\n",
        "  passports = s.strip('\\n').split('\\n\\n')\n",
        "\n",
        "  def valid_fields(fields):\n",
        "    try:\n",
        "      value, unit = re.fullmatch(r'(\\d+)(cm|in)', fields['hgt']).groups()\n",
        "      year = lambda field: int(re.fullmatch(r'(\\d{4})', fields[field]).group())\n",
        "      return bool(\n",
        "          1920 <= year('byr') <= 2002 and\n",
        "          2010 <= year('iyr') <= 2020 and\n",
        "          2020 <= year('eyr') <= 2030 and\n",
        "          (unit != 'cm' or 150 <= int(value) <= 193) and\n",
        "          (unit != 'in' or 59 <= int(value) <= 76) and\n",
        "          re.fullmatch(r'#[0-9a-f]{6}', fields['hcl']) and\n",
        "          fields['ecl'] in 'amb blu brn gry grn hzl oth'.split() and\n",
        "          re.fullmatch(r'[0-9]{9}', fields['pid']))\n",
        "    except (AttributeError, KeyError):\n",
        "      return False\n",
        "\n",
        "  num_valid = 0\n",
        "  for passport in passports:\n",
        "    fields = dict(re.fullmatch(r'(\\w\\w\\w):(\\S+)', s_field).groups()\n",
        "                  for s_field in passport.split())\n",
        "    valid = valid_fields(fields)\n",
        "    num_valid += valid\n",
        "  return num_valid\n",
        "\n",
        "\n",
        "check_eq(process2(s2), 0)  # all records are invalid\n",
        "check_eq(process2(s3), 4)  # all records are valid\n",
        "puzzle.verify(2, process2)"
      ],
      "execution_count": 23,
      "outputs": [
        {
          "output_type": "stream",
          "text": [
            "(Part 2: 0.005 s)\n"
          ],
          "name": "stdout"
        }
      ]
    },
    {
      "cell_type": "markdown",
      "metadata": {
        "id": "hNJ1-j5mpY7H"
      },
      "source": [
        "<a name=\"day5\"></a>\n",
        "## Day 5: Free seat in grid"
      ]
    },
    {
      "cell_type": "markdown",
      "metadata": {
        "id": "vhGV1fP_cVGd"
      },
      "source": [
        "Given input lines, each specifiying a seat identified using a binary encoding with symbols **B**ack, **F**ront, **L**eft, **R**ight.\n",
        "\n",
        "- Part 1: Determine the maximum seat id.\n",
        "\n",
        "- Part 2: Determine the missing seat id in the middle of the bunch."
      ]
    },
    {
      "cell_type": "code",
      "metadata": {
        "id": "Biwl1Rvhpaxs",
        "colab": {
          "base_uri": "https://localhost:8080/"
        },
        "outputId": "c4fa59cc-5cd1-49ff-f547-201ae494a863"
      },
      "source": [
        "puzzle = advent.puzzle(5)"
      ],
      "execution_count": 24,
      "outputs": [
        {
          "output_type": "stream",
          "text": [
            "For day 5, puzzle.input has 897 lines:\n",
            "BFBBFFBRRL\n",
            "BFBFFFFRLL\n",
            "FBFBFFBRRR\n",
            "FFBBBFBRLL\n",
            "BBBFBFBRLR\n",
            "BFBBFBFLRR\n",
            "FBBBFFFRRL\n",
            "BBFFBFFLLL\n",
            " ...\n",
            "BBFBFBFRRL\n",
            "BFFBBBBLLL\n",
            "FBFFBFBRRR\n",
            "FBFFFFBRLR\n",
            "And the stored answers are: {1: 965, 2: 524}\n"
          ],
          "name": "stdout"
        }
      ]
    },
    {
      "cell_type": "code",
      "metadata": {
        "id": "gYaLc3PrhrO8",
        "colab": {
          "base_uri": "https://localhost:8080/"
        },
        "outputId": "fd5184d3-4721-46bd-f270-f482a5e299b0"
      },
      "source": [
        "def get_seat_id(line):\n",
        "  return int(line.translate(str.maketrans('FBLR', '0101')), base=2)\n",
        "\n",
        "check_eq(get_seat_id('FBFBBFFRLR'), 357)\n",
        "check_eq(get_seat_id('BFFFBBFRRR'), 567)\n",
        "check_eq(get_seat_id('FFFBBBFRRR'), 119)\n",
        "check_eq(get_seat_id('BBFFBBFRLL'), 820)\n",
        "\n",
        "\n",
        "def process1(s):\n",
        "  return max(get_seat_id(line) for line in s.split())\n",
        "\n",
        "puzzle.verify(1, process1)"
      ],
      "execution_count": 25,
      "outputs": [
        {
          "output_type": "stream",
          "text": [
            "(Part 1: 0.001 s)\n"
          ],
          "name": "stdout"
        }
      ]
    },
    {
      "cell_type": "markdown",
      "metadata": {
        "id": "a-V6_zdZq7T6"
      },
      "source": [
        "Part 2"
      ]
    },
    {
      "cell_type": "code",
      "metadata": {
        "id": "GH12Oy6CphmX",
        "colab": {
          "base_uri": "https://localhost:8080/"
        },
        "outputId": "d3ba6478-b471-4885-8997-e57fa6914d80"
      },
      "source": [
        "# For helpful visualization:\n",
        "def visualize_transposed_seat_grid(s):\n",
        "  grid = np.full((128, 8), 0)\n",
        "  yx = np.array([divmod(get_seat_id(line), 8) for line in s.split()])\n",
        "  grid[tuple(yx.T)] = 1\n",
        "  print('\\n'.join(''.join('.#'[e] for e in row) for row in grid.T))\n",
        "\n",
        "visualize_transposed_seat_grid(puzzle.input)"
      ],
      "execution_count": 26,
      "outputs": [
        {
          "output_type": "stream",
          "text": [
            ".........################################################################################################################.......\n",
            ".........################################################################################################################.......\n",
            ".........################################################################################################################.......\n",
            ".........################################################################################################################.......\n",
            "........#########################################################.#######################################################.......\n",
            "........#################################################################################################################.......\n",
            "........################################################################################################################........\n",
            "........################################################################################################################........\n"
          ],
          "name": "stdout"
        }
      ]
    },
    {
      "cell_type": "code",
      "metadata": {
        "colab": {
          "base_uri": "https://localhost:8080/"
        },
        "id": "Zr8ROXu8dlUy",
        "outputId": "e8771004-0cf1-45b8-8599-f62cc52990e3"
      },
      "source": [
        "# Code using string indexing:\n",
        "\n",
        "def find_all(string, substring, overlapping=False):\n",
        "  i = string.find(substring)\n",
        "  while i != -1:\n",
        "    yield i\n",
        "    i = string.find(substring, i + (1 if overlapping else len(substring)))\n",
        "\n",
        "def process2(s):\n",
        "  seat_ids = [get_seat_id(line) for line in s.split()]\n",
        "  occupied = ''.join('01'[seat_id in seat_ids] for seat_id in range(128 * 8))\n",
        "  i, = list(find_all(occupied, '101'))\n",
        "  seat_id = i + 1\n",
        "  return seat_id\n",
        "\n",
        "puzzle.verify(2, process2)"
      ],
      "execution_count": 27,
      "outputs": [
        {
          "output_type": "stream",
          "text": [
            "(Part 2: 0.009 s)\n"
          ],
          "name": "stdout"
        }
      ]
    },
    {
      "cell_type": "code",
      "metadata": {
        "colab": {
          "base_uri": "https://localhost:8080/"
        },
        "id": "gfpJsSaAdmtZ",
        "outputId": "ecaf0754-7749-48cc-91f3-b47e72c102ba"
      },
      "source": [
        "# Code using regular expression search:\n",
        "def process2(s):\n",
        "  seat_ids = [get_seat_id(line) for line in s.split()]\n",
        "  occupied = ''.join('01'[seat_id in seat_ids] for seat_id in range(128 * 8))\n",
        "  seat_id, = [match.start() for match in re.finditer('(?<=1)0(?=1)', occupied)]\n",
        "  return seat_id\n",
        "\n",
        "puzzle.verify(2, process2)"
      ],
      "execution_count": 28,
      "outputs": [
        {
          "output_type": "stream",
          "text": [
            "(Part 2: 0.010 s)\n"
          ],
          "name": "stdout"
        }
      ]
    },
    {
      "cell_type": "code",
      "metadata": {
        "colab": {
          "base_uri": "https://localhost:8080/"
        },
        "id": "DMoWj_yTdoB4",
        "outputId": "9f44c2e6-e10d-441d-a015-0c54d8d63edb"
      },
      "source": [
        "# Code using numpy successive differences of sorted indices (fast):\n",
        "def process2(s):\n",
        "  seat_ids = np.sort([get_seat_id(line) for line in s.split()])\n",
        "  diff = np.diff(seat_ids)\n",
        "  i, = np.nonzero(diff == 2)[0]\n",
        "  seat_id = seat_ids[i] + 1\n",
        "  return seat_id\n",
        "\n",
        "puzzle.verify(2, process2)"
      ],
      "execution_count": 29,
      "outputs": [
        {
          "output_type": "stream",
          "text": [
            "(Part 2: 0.002 s)\n"
          ],
          "name": "stdout"
        }
      ]
    },
    {
      "cell_type": "code",
      "metadata": {
        "colab": {
          "base_uri": "https://localhost:8080/"
        },
        "id": "r-MtYsaGdpTn",
        "outputId": "0e00f61c-cbdb-49cc-a242-d99cd248e17a"
      },
      "source": [
        "# Code using numpy subsequence search (also fast):\n",
        "\n",
        "def matching_subsequences(array, sequence):\n",
        "  array, sequence = np.asarray(array), np.asarray(sequence)\n",
        "  return (array[np.arange(len(array) - len(sequence) + 1)[:, None] +\n",
        "          np.arange(len(sequence))] == sequence).all(axis=1)\n",
        "\n",
        "def process2(s):\n",
        "  seat_ids = [get_seat_id(line) for line in s.split()]\n",
        "  occupied = np.full(128 * 8, False)\n",
        "  occupied[seat_ids] = True\n",
        "  seat_id, = np.nonzero(matching_subsequences(occupied, (1, 0, 1)))[0] + 1\n",
        "  return seat_id\n",
        "\n",
        "puzzle.verify(2, process2)"
      ],
      "execution_count": 30,
      "outputs": [
        {
          "output_type": "stream",
          "text": [
            "(Part 2: 0.003 s)\n"
          ],
          "name": "stdout"
        }
      ]
    },
    {
      "cell_type": "markdown",
      "metadata": {
        "id": "RP8FssM4sDuZ"
      },
      "source": [
        "<a name=\"day6\"></a>\n",
        "## Day 6: Counts across groups"
      ]
    },
    {
      "cell_type": "markdown",
      "metadata": {
        "id": "74mhb17yem9h"
      },
      "source": [
        "Given a set of records of words:\n",
        "\n",
        "- Part 1: Compute the number of unique letters in each record, and sum these.\n",
        "\n",
        "- Part 2: Compute the number of letters appearing in all words of each record, and sum these."
      ]
    },
    {
      "cell_type": "code",
      "metadata": {
        "id": "YskNwkMDsGCB",
        "colab": {
          "base_uri": "https://localhost:8080/"
        },
        "outputId": "814d2629-8d84-4d4d-e8d2-dc7fa1d01544"
      },
      "source": [
        "puzzle = advent.puzzle(6)"
      ],
      "execution_count": 31,
      "outputs": [
        {
          "output_type": "stream",
          "text": [
            "For day 6, puzzle.input has 2172 lines:\n",
            "su\n",
            "egu\n",
            "\n",
            "h\n",
            "h\n",
            "h\n",
            "h\n",
            "\n",
            " ...\n",
            "\n",
            "lfhtzrxcj\n",
            "fbtzlhrcj\n",
            "lzdaftrjphco\n",
            "And the stored answers are: {1: 6590, 2: 3288}\n"
          ],
          "name": "stdout"
        }
      ]
    },
    {
      "cell_type": "code",
      "metadata": {
        "id": "6mCkU9KpmGU1",
        "colab": {
          "base_uri": "https://localhost:8080/"
        },
        "cellView": "form",
        "outputId": "3608ef2e-7690-4294-ccec-8c9a86d58256"
      },
      "source": [
        "#@title\n",
        "print('Let s1 be a test input.')\n",
        "\n",
        "s1 = \"\"\"\n",
        "abc\n",
        "\n",
        "a\n",
        "b\n",
        "c\n",
        "\n",
        "ab\n",
        "ac\n",
        "\n",
        "a\n",
        "a\n",
        "a\n",
        "a\n",
        "\n",
        "b\n",
        "\"\"\""
      ],
      "execution_count": 32,
      "outputs": [
        {
          "output_type": "stream",
          "text": [
            "Let s1 be a test input.\n"
          ],
          "name": "stdout"
        }
      ]
    },
    {
      "cell_type": "markdown",
      "metadata": {
        "id": "xgVfWlaahYQl"
      },
      "source": [
        "Part 1"
      ]
    },
    {
      "cell_type": "code",
      "metadata": {
        "colab": {
          "base_uri": "https://localhost:8080/"
        },
        "id": "shCaGdNVgCZ7",
        "outputId": "3e81e8d8-d466-4071-83f7-ec08fd33f6a3"
      },
      "source": [
        "# Long code:\n",
        "def process1(s):\n",
        "  total = 0\n",
        "  for group in s.strip('\\n').split('\\n\\n'):\n",
        "    union = set()\n",
        "    for line in group.splitlines():\n",
        "      union |= set(line)\n",
        "    total += len(union)\n",
        "  return total\n",
        "\n",
        "check_eq(process1(s1), 11)\n",
        "puzzle.verify(1, process1)"
      ],
      "execution_count": 33,
      "outputs": [
        {
          "output_type": "stream",
          "text": [
            "(Part 1: 0.003 s)\n"
          ],
          "name": "stdout"
        }
      ]
    },
    {
      "cell_type": "code",
      "metadata": {
        "colab": {
          "base_uri": "https://localhost:8080/"
        },
        "id": "wdmoLpGegHRo",
        "outputId": "167bf1ee-eaa3-4ac3-bbf8-0fd6fe0acbd1"
      },
      "source": [
        "# Code using reduction:\n",
        "def process1(s):\n",
        "  return sum(\n",
        "      len(functools.reduce(operator.or_, map(set, group.splitlines())))\n",
        "      for group in s.strip('\\n').split('\\n\\n'))\n",
        "\n",
        "check_eq(process1(s1), 11)\n",
        "puzzle.verify(1, process1)"
      ],
      "execution_count": 34,
      "outputs": [
        {
          "output_type": "stream",
          "text": [
            "(Part 1: 0.005 s)\n"
          ],
          "name": "stdout"
        }
      ]
    },
    {
      "cell_type": "code",
      "metadata": {
        "colab": {
          "base_uri": "https://localhost:8080/"
        },
        "id": "hP_Q22YbgIcP",
        "outputId": "eec2298d-b4cc-4971-b87b-726328f8bca8"
      },
      "source": [
        "# Compact code which is also fastest:\n",
        "def process1(s):\n",
        "  return sum(\n",
        "      len(set().union(group.replace('\\n', '')))\n",
        "      for group in s.strip('\\n').split('\\n\\n'))\n",
        "\n",
        "check_eq(process1(s1), 11)\n",
        "puzzle.verify(1, process1)"
      ],
      "execution_count": 35,
      "outputs": [
        {
          "output_type": "stream",
          "text": [
            "(Part 1: 0.003 s)\n"
          ],
          "name": "stdout"
        }
      ]
    },
    {
      "cell_type": "markdown",
      "metadata": {
        "id": "D-mMCiwqgrmk"
      },
      "source": [
        "Part 2"
      ]
    },
    {
      "cell_type": "code",
      "metadata": {
        "colab": {
          "base_uri": "https://localhost:8080/"
        },
        "id": "r9RGOmtdg9aM",
        "outputId": "1a44bf5a-6b20-4675-f53c-8b0a67306686"
      },
      "source": [
        "# Code using reduction:\n",
        "def process2(s):\n",
        "  return sum(\n",
        "      len(functools.reduce(operator.and_, map(set, group.splitlines())))\n",
        "      for group in s.strip('\\n').split('\\n\\n'))\n",
        "\n",
        "check_eq(process2(s1), 6)\n",
        "puzzle.verify(2, process2)"
      ],
      "execution_count": 36,
      "outputs": [
        {
          "output_type": "stream",
          "text": [
            "(Part 2: 0.004 s)\n"
          ],
          "name": "stdout"
        }
      ]
    },
    {
      "cell_type": "code",
      "metadata": {
        "colab": {
          "base_uri": "https://localhost:8080/"
        },
        "id": "ezOQ4kGzg-YF",
        "outputId": "4d7f32e5-1896-4ba9-e81b-41ab285877cb"
      },
      "source": [
        "# Compact code which is faster:\n",
        "def process2(s):\n",
        "  return sum(\n",
        "      len(set.intersection(*map(set, group.splitlines())))\n",
        "      for group in s.strip('\\n').split('\\n\\n'))\n",
        "\n",
        "check_eq(process2(s1), 6)\n",
        "puzzle.verify(2, process2)"
      ],
      "execution_count": 37,
      "outputs": [
        {
          "output_type": "stream",
          "text": [
            "(Part 2: 0.005 s)\n"
          ],
          "name": "stdout"
        }
      ]
    },
    {
      "cell_type": "markdown",
      "metadata": {
        "id": "RWStaG-bqzmz"
      },
      "source": [
        "<a name=\"day7\"></a>\n",
        "## Day 7: Nested bags"
      ]
    },
    {
      "cell_type": "markdown",
      "metadata": {
        "id": "vz-zlIZjjkTs"
      },
      "source": [
        "Given a description of bag colors, where each colored bag contains a collection of other colored bags:\n",
        "\n",
        "- Part 1: Determine the number of bag colors that can eventually contain a specified bag color.\n",
        "\n",
        "- Part 2: Determine the total number of bags required inside a specified bag color."
      ]
    },
    {
      "cell_type": "code",
      "metadata": {
        "id": "-anp0Vouq24h",
        "colab": {
          "base_uri": "https://localhost:8080/"
        },
        "outputId": "5108dbf0-1d86-48e9-8b80-f977b87410f7"
      },
      "source": [
        "puzzle = advent.puzzle(7)"
      ],
      "execution_count": 38,
      "outputs": [
        {
          "output_type": "stream",
          "text": [
            "For day 7, puzzle.input has 594 lines:\n",
            "dim red bags contain 2 bright gold bags, 5 striped fuchsia bags.\n",
            "dotted purple bags contain 5 bright olive bags, 3 faded maroon bags.\n",
            "plaid chartreuse bags contain 1 vibrant olive bag, 5 bright black bags, 1 clear tomato bag.\n",
            "wavy orange bags contain 4 dark lavender bags, 4 posh white bags.\n",
            "light lavender bags contain 4 drab olive bags, 5 dark magenta bags.\n",
            "pale black bags contain 5 dotted beige bags, 5 clear chartreuse bags, 4 pale lime bags.\n",
            "wavy crimson bags contain 5 dull tomato bags.\n",
            "muted aqua bags contain 1 dotted aqua bag, 5 posh plum bags, 1 bright blue bag.\n",
            " ...\n",
            "vibrant lime bags contain 5 light green bags.\n",
            "dark maroon bags contain 5 drab bronze bags, 4 bright red bags, 1 posh cyan bag.\n",
            "wavy red bags contain 2 mirrored beige bags, 5 muted crimson bags, 5 vibrant orange bags, 3 posh turquoise bags.\n",
            "drab brown bags contain 1 faded tan bag, 3 vibrant maroon bags.\n",
            "And the stored answers are: {1: 115, 2: 1250}\n"
          ],
          "name": "stdout"
        }
      ]
    },
    {
      "cell_type": "code",
      "metadata": {
        "id": "UYevJT7hurXB",
        "colab": {
          "base_uri": "https://localhost:8080/"
        },
        "cellView": "form",
        "outputId": "57691a88-888b-42b4-a453-7d8fb4977ab5"
      },
      "source": [
        "#@title\n",
        "print('Let s1, s2 be test inputs.')\n",
        "\n",
        "s1 = \"\"\"\n",
        "light red bags contain 1 bright white bag, 2 muted yellow bags.\n",
        "dark orange bags contain 3 bright white bags, 4 muted yellow bags.\n",
        "bright white bags contain 1 shiny gold bag.\n",
        "muted yellow bags contain 2 shiny gold bags, 9 faded blue bags.\n",
        "shiny gold bags contain 1 dark olive bag, 2 vibrant plum bags.\n",
        "dark olive bags contain 3 faded blue bags, 4 dotted black bags.\n",
        "vibrant plum bags contain 5 faded blue bags, 6 dotted black bags.\n",
        "faded blue bags contain no other bags.\n",
        "dotted black bags contain no other bags.\n",
        "\"\"\"\n",
        "\n",
        "s2 = \"\"\"\n",
        "shiny gold bags contain 2 dark red bags.\n",
        "dark red bags contain 2 dark orange bags.\n",
        "dark orange bags contain 2 dark yellow bags.\n",
        "dark yellow bags contain 2 dark green bags.\n",
        "dark green bags contain 2 dark blue bags.\n",
        "dark blue bags contain 2 dark violet bags.\n",
        "dark violet bags contain no other bags.\n",
        "\"\"\""
      ],
      "execution_count": 39,
      "outputs": [
        {
          "output_type": "stream",
          "text": [
            "Let s1, s2 be test inputs.\n"
          ],
          "name": "stdout"
        }
      ]
    },
    {
      "cell_type": "code",
      "metadata": {
        "id": "DwuIhiIxjftU"
      },
      "source": [
        "def get_bag_contents(s):\n",
        "  contents = {}\n",
        "  pattern = re.compile(r'(\\d+) (.*?) bags?[,.]')\n",
        "  for line in s.strip('\\n').splitlines():\n",
        "    outer, inners = line.split(' bags contain ')\n",
        "    contents[outer] = {}\n",
        "    for match in pattern.finditer(inners):\n",
        "      n, inner = match.groups()\n",
        "      contents[outer][inner] = int(n)\n",
        "  return contents"
      ],
      "execution_count": 40,
      "outputs": []
    },
    {
      "cell_type": "code",
      "metadata": {
        "colab": {
          "base_uri": "https://localhost:8080/"
        },
        "id": "QzumeUvqknLs",
        "outputId": "e0d141bb-1d01-4a91-d8a6-f6fe4443c3d6"
      },
      "source": [
        "# Compact code\n",
        "def process1(s, query='shiny gold'):\n",
        "  \"\"\"Returns number of bag colors that can eventually contain >=1 query bag.\"\"\"\n",
        "  contents = get_bag_contents(s)\n",
        "\n",
        "  def valid(bag):\n",
        "    return any(inner == query or valid(inner) for inner in contents[bag])\n",
        "\n",
        "  return sum(valid(bag) for bag in contents)\n",
        "\n",
        "check_eq(process1(s1), 4)\n",
        "puzzle.verify(1, process1)"
      ],
      "execution_count": 41,
      "outputs": [
        {
          "output_type": "stream",
          "text": [
            "(Part 1: 0.245 s)\n"
          ],
          "name": "stdout"
        }
      ]
    },
    {
      "cell_type": "code",
      "metadata": {
        "colab": {
          "base_uri": "https://localhost:8080/"
        },
        "id": "Fmz1hNcxkYCN",
        "outputId": "ad0c6f55-54bb-4252-e730-a1c35caf236f"
      },
      "source": [
        "# Faster code\n",
        "def process1(s, query='shiny gold'):\n",
        "  contents = get_bag_contents(s)  # computational bottleneck\n",
        "  parents = collections.defaultdict(list)\n",
        "  for bag in contents:\n",
        "    for child in contents[bag]:\n",
        "      parents[child].append(bag)\n",
        "\n",
        "  valid = set()\n",
        "  to_visit = collections.deque([query])\n",
        "  while to_visit:\n",
        "    bag = to_visit.popleft()\n",
        "    for parent in parents[bag]:\n",
        "      if parent not in valid:\n",
        "        valid.add(parent)\n",
        "        to_visit.append(parent)\n",
        "\n",
        "  return len(valid)\n",
        "\n",
        "check_eq(process1(s1), 4)\n",
        "puzzle.verify(1, process1)"
      ],
      "execution_count": 42,
      "outputs": [
        {
          "output_type": "stream",
          "text": [
            "(Part 1: 0.004 s)\n"
          ],
          "name": "stdout"
        }
      ]
    },
    {
      "cell_type": "markdown",
      "metadata": {
        "id": "DGP7T8BZlKDj"
      },
      "source": [
        "Part 2"
      ]
    },
    {
      "cell_type": "code",
      "metadata": {
        "id": "4ArbIfdzq3Jg",
        "colab": {
          "base_uri": "https://localhost:8080/"
        },
        "outputId": "5138f834-79f5-4591-cea4-4aa1f642e6b0"
      },
      "source": [
        "def process2(s, query='shiny gold'):\n",
        "  \"\"\"Returns total number of individual bags required inside a query bag.\"\"\"\n",
        "  contents = get_bag_contents(s)  # computational bottleneck\n",
        "\n",
        "  def count_inside(bag):\n",
        "    return sum(n * (count_inside(b) + 1) for b, n in contents[bag].items())\n",
        "\n",
        "  return count_inside(query)\n",
        "\n",
        "check_eq(process2(s1), 32)\n",
        "check_eq(process2(s2), 126)\n",
        "puzzle.verify(2, process2)"
      ],
      "execution_count": 43,
      "outputs": [
        {
          "output_type": "stream",
          "text": [
            "(Part 2: 0.003 s)\n"
          ],
          "name": "stdout"
        }
      ]
    },
    {
      "cell_type": "markdown",
      "metadata": {
        "id": "Q4Meyx1ABj8r"
      },
      "source": [
        "<a name=\"day8\"></a>\n",
        "## Day 8: Program with acc, nop, jmp"
      ]
    },
    {
      "cell_type": "markdown",
      "metadata": {
        "id": "57IX_n5ilo97"
      },
      "source": [
        "Given a program with instructions `nop`, `acc`, and `jmp`:\n",
        "\n",
        "- Part 1: Determine the sum of the `acc` operands when running the program until the program counter becomes invalid.\n",
        "\n",
        "- Part 2: Modify the program by swapping one of its opcodes between `nop` and `jmp` such that it terminates (with the program counter at the end), and report the sum of the `acc` operands."
      ]
    },
    {
      "cell_type": "code",
      "metadata": {
        "id": "PEIzMPu6BlZ-",
        "colab": {
          "base_uri": "https://localhost:8080/"
        },
        "outputId": "550ed1ae-fe1b-4b8c-bc91-bbbd128ad375"
      },
      "source": [
        "puzzle = advent.puzzle(8)"
      ],
      "execution_count": 44,
      "outputs": [
        {
          "output_type": "stream",
          "text": [
            "For day 8, puzzle.input has 638 lines:\n",
            "acc +8\n",
            "acc +37\n",
            "jmp +328\n",
            "jmp +574\n",
            "nop +321\n",
            "acc +17\n",
            "jmp +450\n",
            "acc +46\n",
            " ...\n",
            "acc +6\n",
            "acc +21\n",
            "acc +16\n",
            "jmp +1\n",
            "And the stored answers are: {1: 1521, 2: 1016}\n"
          ],
          "name": "stdout"
        }
      ]
    },
    {
      "cell_type": "code",
      "metadata": {
        "id": "f8aZ49hRuC05"
      },
      "source": [
        "s1 = \"\"\"\n",
        "nop +0\n",
        "acc +1\n",
        "jmp +4\n",
        "acc +3\n",
        "jmp -3\n",
        "acc -99\n",
        "acc +1\n",
        "jmp -4\n",
        "acc +6\n",
        "\"\"\""
      ],
      "execution_count": 45,
      "outputs": []
    },
    {
      "cell_type": "code",
      "metadata": {
        "colab": {
          "base_uri": "https://localhost:8080/"
        },
        "id": "IydRSMt-Krrt",
        "outputId": "533fa01e-ff6a-495c-c1fd-35c5ee0df7d0"
      },
      "source": [
        "def run_program(ops):\n",
        "  pc = 0\n",
        "  acc = 0\n",
        "  visited = set()\n",
        "  while 0 <= pc < len(ops) and pc not in visited:\n",
        "    visited.add(pc)\n",
        "    operation, operand = ops[pc]\n",
        "    if operation == 'nop':\n",
        "      pc += 1\n",
        "    elif operation == 'acc':\n",
        "      acc += operand\n",
        "      pc += 1\n",
        "    elif operation == 'jmp':\n",
        "      pc += operand\n",
        "    else:\n",
        "      raise AssertionError\n",
        "  return pc, acc\n",
        "\n",
        "\n",
        "def process1(s):\n",
        "  ops = [(line[:3], int(line[4:])) for line in s.strip('\\n').splitlines()]\n",
        "  pc, acc = run_program(ops)\n",
        "  assert 0 <= pc < len(ops)\n",
        "  return acc\n",
        "\n",
        "check_eq(process1(s1), 5)\n",
        "puzzle.verify(1, process1)"
      ],
      "execution_count": 46,
      "outputs": [
        {
          "output_type": "stream",
          "text": [
            "(Part 1: 0.001 s)\n"
          ],
          "name": "stdout"
        }
      ]
    },
    {
      "cell_type": "code",
      "metadata": {
        "colab": {
          "base_uri": "https://localhost:8080/"
        },
        "id": "q365Aq_iLMwx",
        "outputId": "41d72016-4a08-4751-e4d2-cb9979046f90"
      },
      "source": [
        "def process2(s):\n",
        "  ops = [(line[:3], int(line[4:])) for line in s.strip('\\n').splitlines()]\n",
        "  for i in range(len(ops)):\n",
        "    if ops[i][0] in ('nop', 'jmp'):\n",
        "      original_op = ops[i]\n",
        "      ops[i] = (('jmp' if ops[i][0] == 'nop' else 'nop'), ops[i][1])\n",
        "      pc, acc = run_program(ops)\n",
        "      ops[i] = original_op\n",
        "      if pc == len(ops):\n",
        "        return acc\n",
        "  return None\n",
        "\n",
        "check_eq(process2(s1), 8)\n",
        "puzzle.verify(2, process2)"
      ],
      "execution_count": 47,
      "outputs": [
        {
          "output_type": "stream",
          "text": [
            "(Part 2: 0.012 s)\n"
          ],
          "name": "stdout"
        }
      ]
    },
    {
      "cell_type": "markdown",
      "metadata": {
        "id": "X1Sh_yQ27qLM"
      },
      "source": [
        "<a name=\"day9\"></a>\n",
        "## Day 9: Sums in subsequences"
      ]
    },
    {
      "cell_type": "markdown",
      "metadata": {
        "id": "XpUaSYj4nRab"
      },
      "source": [
        "Given a list of numbers:\n",
        "\n",
        "- Part 1: Find the first number that is not a sum of a pair of numbers in the prior `n` numbers.\n",
        "\n",
        "- Part 2: Find a subsequence of at least 2 numbers that sums to the value obtained in part 1, compute the min and max of the subsequence, and report their product."
      ]
    },
    {
      "cell_type": "code",
      "metadata": {
        "id": "PjOeqVhc7rpR",
        "colab": {
          "base_uri": "https://localhost:8080/"
        },
        "outputId": "c03126c0-e8a6-417e-a038-5dcfcb8bd538"
      },
      "source": [
        "puzzle = advent.puzzle(9)"
      ],
      "execution_count": 48,
      "outputs": [
        {
          "output_type": "stream",
          "text": [
            "For day 9, puzzle.input has 1000 lines:\n",
            "19\n",
            "30\n",
            "13\n",
            "31\n",
            "42\n",
            "41\n",
            "44\n",
            "34\n",
            " ...\n",
            "30187342902183\n",
            "39869127705106\n",
            "31005328029673\n",
            "49124948203304\n",
            "And the stored answers are: {1: 393911906, 2: 59341885}\n"
          ],
          "name": "stdout"
        }
      ]
    },
    {
      "cell_type": "code",
      "metadata": {
        "id": "rLT07Jvq7twr",
        "colab": {
          "base_uri": "https://localhost:8080/"
        },
        "cellView": "form",
        "outputId": "7203c0d1-4012-42d9-cc80-9b9469e94ec9"
      },
      "source": [
        "#@title\n",
        "print('Let s1 be a test input.')\n",
        "\n",
        "s1 = \"\"\"\n",
        "35\n",
        "20\n",
        "15\n",
        "25\n",
        "47\n",
        "40\n",
        "62\n",
        "55\n",
        "65\n",
        "95\n",
        "102\n",
        "117\n",
        "150\n",
        "182\n",
        "127\n",
        "219\n",
        "299\n",
        "277\n",
        "309\n",
        "576\n",
        "\"\"\""
      ],
      "execution_count": 49,
      "outputs": [
        {
          "output_type": "stream",
          "text": [
            "Let s1 be a test input.\n"
          ],
          "name": "stdout"
        }
      ]
    },
    {
      "cell_type": "code",
      "metadata": {
        "id": "-jgheoftAPOd",
        "colab": {
          "base_uri": "https://localhost:8080/"
        },
        "outputId": "c702917f-1a44-49e4-c150-aa1940886317"
      },
      "source": [
        "def process(s, last_n=25, part2=False):\n",
        "  l = list(map(int, s.split()))\n",
        "\n",
        "  def has_pair(l, total):\n",
        "    # return any(a + b == total for a, b in itertools.combinations(l, 2))\n",
        "    return any(total - l[i] in l[i + 1:] for i in range(len(l)))\n",
        "\n",
        "  def first_number_not_sum_of_pair_in_last_n(n):\n",
        "    return next(l[i] for i in range(n, len(l)) \n",
        "                if not has_pair(l[i - n:i], l[i]))\n",
        "\n",
        "  invalid_number = first_number_not_sum_of_pair_in_last_n(last_n)\n",
        "  if not part2:\n",
        "    return invalid_number\n",
        "\n",
        "  # Find a contiguous set of at least two numbers in your list which sum to the\n",
        "  # invalid number.  Approach: compute cumulative sum accum[i], then for each i\n",
        "  # do bisection search to try to locate l[i] + invalid_number.\n",
        "\n",
        "  def find_subsequence_summing_to(total):\n",
        "    accum = list(itertools.accumulate(l, operator.add))  # accum[i] = sum(l[:i])\n",
        "    for i in range(len(accum)):\n",
        "      end_value = accum[i] + total\n",
        "      j = bisect.bisect_left(accum, end_value)\n",
        "      if j != len(accum) and accum[j] == end_value:\n",
        "        return l[i + 1:j + 1]\n",
        "    return None\n",
        "\n",
        "  sequence = find_subsequence_summing_to(invalid_number)\n",
        "  assert sum(sequence) == invalid_number\n",
        "  return min(sequence) + max(sequence)\n",
        "\n",
        "\n",
        "check_eq(process(s1, last_n=5), 127)\n",
        "puzzle.verify(1, process)\n",
        "\n",
        "process2 = functools.partial(process, part2=True)\n",
        "check_eq(process2(s1, last_n=5), 62)\n",
        "puzzle.verify(2, process2)"
      ],
      "execution_count": 50,
      "outputs": [
        {
          "output_type": "stream",
          "text": [
            "(Part 1: 0.003 s)\n",
            "(Part 2: 0.004 s)\n"
          ],
          "name": "stdout"
        }
      ]
    },
    {
      "cell_type": "markdown",
      "metadata": {
        "id": "NPNtev-y-bVo"
      },
      "source": [
        "<a name=\"day10\"></a>\n",
        "## Day 10: Combinations of sequences"
      ]
    },
    {
      "cell_type": "markdown",
      "metadata": {
        "id": "yBGbSZH3o5GU"
      },
      "source": [
        "Given a set of numbers,\n",
        "\n",
        "- Part 1: Augment the numbers with the values `0` and `max + 3`, tally the successive differences of the sorted numbers, and report the product of the 1-differences and the 3-differences.\n",
        "\n",
        "- Part 2: Count the number of ways to monotonically traverse the numbers such that successive differences are at most 3."
      ]
    },
    {
      "cell_type": "code",
      "metadata": {
        "id": "YzM1ko8L-bVo",
        "colab": {
          "base_uri": "https://localhost:8080/"
        },
        "outputId": "3b58214a-b7cb-4ac3-9217-ffac92838343"
      },
      "source": [
        "puzzle = advent.puzzle(10)"
      ],
      "execution_count": 51,
      "outputs": [
        {
          "output_type": "stream",
          "text": [
            "For day 10, puzzle.input has 97 lines:\n",
            "8\n",
            "131\n",
            "91\n",
            "35\n",
            "47\n",
            "116\n",
            "105\n",
            "121\n",
            " ...\n",
            "95\n",
            "3\n",
            "52\n",
            "49\n",
            "And the stored answers are: {1: 2112, 2: 3022415986688}\n"
          ],
          "name": "stdout"
        }
      ]
    },
    {
      "cell_type": "code",
      "metadata": {
        "id": "DFo_tRzl-bVo",
        "colab": {
          "base_uri": "https://localhost:8080/"
        },
        "cellView": "form",
        "outputId": "42832faf-2f65-4f8f-f83b-4cc882ed7ba0"
      },
      "source": [
        "#@title\n",
        "print('Let s1, s2 be test inputs.')\n",
        "\n",
        "s1 = \"\"\"\n",
        "16\n",
        "10\n",
        "15\n",
        "5\n",
        "1\n",
        "11\n",
        "7\n",
        "19\n",
        "6\n",
        "12\n",
        "4\n",
        "\"\"\"\n",
        "\n",
        "s2 = \"\"\"\n",
        "28\n",
        "33\n",
        "18\n",
        "42\n",
        "31\n",
        "14\n",
        "46\n",
        "20\n",
        "48\n",
        "47\n",
        "24\n",
        "23\n",
        "49\n",
        "45\n",
        "19\n",
        "38\n",
        "39\n",
        "11\n",
        "1\n",
        "32\n",
        "25\n",
        "35\n",
        "8\n",
        "17\n",
        "7\n",
        "9\n",
        "4\n",
        "2\n",
        "34\n",
        "10\n",
        "3\n",
        "\"\"\""
      ],
      "execution_count": 52,
      "outputs": [
        {
          "output_type": "stream",
          "text": [
            "Let s1, s2 be test inputs.\n"
          ],
          "name": "stdout"
        }
      ]
    },
    {
      "cell_type": "code",
      "metadata": {
        "colab": {
          "base_uri": "https://localhost:8080/"
        },
        "id": "MmP9fQv3pmY8",
        "outputId": "4317fa8d-67b4-47c2-d7cf-3bddcf9564a1"
      },
      "source": [
        "def process1(s):\n",
        "  l = sorted(map(int, s.split()))\n",
        "  counter = collections.Counter(np.diff([0] + l + [l[-1] + 3]))\n",
        "  return counter[1] * counter[3]\n",
        "\n",
        "check_eq(process1(s1), 7 * 5)\n",
        "check_eq(process1(s2), 22 * 10)\n",
        "puzzle.verify(1, process1)  # 66 * 32"
      ],
      "execution_count": 53,
      "outputs": [
        {
          "output_type": "stream",
          "text": [
            "(Part 1: 0.000 s)\n"
          ],
          "name": "stdout"
        }
      ]
    },
    {
      "cell_type": "markdown",
      "metadata": {
        "id": "I1shyQIlp2Xt"
      },
      "source": [
        "Part 2"
      ]
    },
    {
      "cell_type": "code",
      "metadata": {
        "id": "sM7QhkBb-bVo",
        "colab": {
          "base_uri": "https://localhost:8080/"
        },
        "outputId": "3381998f-83d1-47f9-8b43-d46590650323"
      },
      "source": [
        "# Observation: when there is a separation of 3 units, the problem decouples\n",
        "# into a product of the solutions of subproblems.\n",
        "\n",
        "# Because the voltages differences are just 1 or 3, we can simply count the\n",
        "# length of the sequences of value 1, and derive a closed-form number for each\n",
        "# sequence.\n",
        "\n",
        "def process2(s):\n",
        "  diff = np.diff([0] + sorted(map(int, s.split())))\n",
        "  lengths_of_ones = map(len, re.findall('1+', ''.join(map(str, diff))))\n",
        "\n",
        "  def f(n):\n",
        "    \"\"\"Number of combinations from a sequence of n consecutive one-diffs.\"\"\"\n",
        "    return 0 if n < 0 else 1 if n < 2 else f(n - 1) + f(n - 2) + f(n - 3)\n",
        "\n",
        "  return np.prod(list(map(f, lengths_of_ones)))\n",
        "\n",
        "check_eq(process2(s1), 8)\n",
        "check_eq(process2(s2), 19208)\n",
        "puzzle.verify(2, process2)"
      ],
      "execution_count": 54,
      "outputs": [
        {
          "output_type": "stream",
          "text": [
            "(Part 2: 0.000 s)\n"
          ],
          "name": "stdout"
        }
      ]
    },
    {
      "cell_type": "code",
      "metadata": {
        "id": "tJQIUkGFuig8",
        "colab": {
          "base_uri": "https://localhost:8080/"
        },
        "outputId": "64e0b1c1-279f-4ba4-8f04-523d37fb5575"
      },
      "source": [
        "# More general solution based on dynamic programming with scatter.\n",
        "def process2(s):\n",
        "  l = [0] + sorted(map(int, s.split()))\n",
        "  npaths = [1] + [0] * (len(l) - 1)\n",
        "  for i in range(len(l)):\n",
        "    for j in range(i + 1, min(i + 4, len(l))):\n",
        "      if l[j] - l[i] <= 3:\n",
        "        npaths[j] += npaths[i]\n",
        "  return npaths[-1]\n",
        "\n",
        "check_eq(process2(s1), 8)\n",
        "check_eq(process2(s2), 19208)\n",
        "puzzle.verify(2, process2)"
      ],
      "execution_count": 55,
      "outputs": [
        {
          "output_type": "stream",
          "text": [
            "(Part 2: 0.000 s)\n"
          ],
          "name": "stdout"
        }
      ]
    },
    {
      "cell_type": "code",
      "metadata": {
        "id": "iurqdxeFukTM",
        "colab": {
          "base_uri": "https://localhost:8080/"
        },
        "outputId": "7f847551-8060-4c7d-91df-b27f13c618a6"
      },
      "source": [
        "# Simplest solution based on dynamic programming with gather.\n",
        "def process2(s):\n",
        "  l = [0] + sorted(map(int, s.split()))\n",
        "  npaths = [1]\n",
        "  for i in range(1, len(l)):\n",
        "    npaths.append(sum(npaths[j] for j in range(-4, 0)\n",
        "                      if i + j >= 0 and l[i] - l[i + j] < 4))\n",
        "  return npaths[-1]\n",
        "\n",
        "check_eq(process2(s1), 8)\n",
        "check_eq(process2(s2), 19208)\n",
        "puzzle.verify(2, process2)"
      ],
      "execution_count": 56,
      "outputs": [
        {
          "output_type": "stream",
          "text": [
            "(Part 2: 0.000 s)\n"
          ],
          "name": "stdout"
        }
      ]
    },
    {
      "cell_type": "markdown",
      "metadata": {
        "id": "RQzQ7A9H-bzv"
      },
      "source": [
        "<a name=\"day11\"></a>\n",
        "## Day 11: Seats cellular automaton"
      ]
    },
    {
      "cell_type": "markdown",
      "metadata": {
        "id": "COrOzLteqsLY"
      },
      "source": [
        "Given a *sparse* 2D grid of nodes, run successive generations of a cellular automaton until convergence.\n",
        "\n",
        "- Part 1: Each node's neighbors are the immediately adjacent nodes (up to 8, with Manhattan distance 1).\n",
        "  \n",
        "  For each generation:\n",
        "  - a free node becomes occupied if it has zero occupied neighbors, and\n",
        "  - an occupied node becomes free if it has 4 or more occupied neighbors.\n",
        "\n",
        "- Part 2: The evolution rule is modified in two ways:\n",
        "  - For each of the 8 neighbor directions, the neighbor is defined as the first node along that direction.\n",
        "  - An occupied node becomes free if it has 5 or more occupied neighbors."
      ]
    },
    {
      "cell_type": "code",
      "metadata": {
        "id": "Bg_kB1f1-bzv",
        "colab": {
          "base_uri": "https://localhost:8080/"
        },
        "outputId": "f46acec2-0012-425a-9e46-ceae3827adba"
      },
      "source": [
        "puzzle = advent.puzzle(11)"
      ],
      "execution_count": 57,
      "outputs": [
        {
          "output_type": "stream",
          "text": [
            "For day 11, puzzle.input has 99 lines:\n",
            "LLLLLLLLLL.LLLLLL.LLLLLLLLLLLL.LL.LLLL.LLLLL.LLLLLLL.LLLLLL.LLLLLL.LLLLLL.LLLLLLLLLLLLLLLLLL\n",
            "LLLLLLLLLLLLLLLLLLLLLLLLLLLLLL.LLLLLLL.LLLLL.LLLLLLL.LLLLLLLLLLLLL.LLLL.L.LLLLLLLLLL.LLLLLLL\n",
            "LLLLLLLLLL.LLLLLL.LLLLLL.LLLLL.LLLLLLLLLLLLLLLLLLLLL.LLLLLL..LLLLL.LLLLLL.LLLLLL.LLLLLLLLLLL\n",
            "LLLLLLLLLL.LLLLLLLLLLLLL.LL.LL.LLLLL.L.LLLLL.LLLLLLL.LLLLLL.LLLLLLLLLLLLL.LLLLLLLLLLLLLLLLLL\n",
            "LLLLLLLLLLLLLLLLL.LLLLLL.LLLLLLLLLLLLLLLLLLL.LLLLLLL.LLL.LL.LLLLLL.LLLLLL.LLLLLLLLLLLLLLLLLL\n",
            "LLLLLLLLLLLLLLLLL.LLLLLL.LLLLL.LLLLLLL.LLL.L.LLLLLLLLLLLLLLLLLLLLLLLLLLLL.LLLLLL.LLLLLLLL.LL\n",
            "LLLLLLLLLLLLLLLLL.LLLLLLLLLL.LLLLLLLLL.LLLLL.LLLLLLL.LLLL.L.LLLLLLLLLLLLL.LLLLLLLLLLLLLLLLLL\n",
            ".L.LL...LLLL.......L....L.LLLLLL.......LL....LL...L..L.LLL...LLL..L.L.L.L..L...............L\n",
            " ...\n",
            "LLLLLLLLLL.LLLLLL.LLLLLL.LLLLL.LLLLL.L.LLLLLLLLLLLLL.LL.LLLLL.LLLL.LLLLLL.LLLLLLLLLL.LLLLLLL\n",
            "LLLLLLLLLLLLLLLLL.LLLLLL.LLLLL.LLLLLLL.LLLLL..LLLLLL.LLLLLL.LLLLLL.LLLLLL.LLLLLL.LLLLLLLLLLL\n",
            "LLLLLLLLLL.LLL.LLLLLLLLL.LLLLL.LLLLLLLLLLLL..LLLLLLL.LLLLL..LLLLLL.LLLLLL.LLLLLLLLLLLLLLLLLL\n",
            "LLLLLLLLLLLLLLLLL.LLLLLL.LLLLL.LLLLLLL.LLLLLLLLLLLLL.LLLLLL.LLLLLL.LL.LLLLLLLLLL.LLLLLLLLLLL\n",
            "And the stored answers are: {1: 2359, 2: 2131}\n"
          ],
          "name": "stdout"
        }
      ]
    },
    {
      "cell_type": "code",
      "metadata": {
        "id": "g45k4woQ-bzv"
      },
      "source": [
        "s1 = \"\"\"\n",
        "L.LL.LL.LL\n",
        "LLLLLLL.LL\n",
        "L.L.L..L..\n",
        "LLLL.LL.LL\n",
        "L.LL.LL.LL\n",
        "L.LLLLL.LL\n",
        "..L.L.....\n",
        "LLLLLLLLLL\n",
        "L.LLLLLL.L\n",
        "L.LLLLL.LL\n",
        "\"\"\""
      ],
      "execution_count": 58,
      "outputs": []
    },
    {
      "cell_type": "code",
      "metadata": {
        "id": "SGQVf-0Gzqsh",
        "colab": {
          "base_uri": "https://localhost:8080/",
          "height": 43
        },
        "outputId": "0e162fd7-9d55-49ab-ca12-02302be62d18"
      },
      "source": [
        "# Relatively fast non-numba solution, which maintains neighbor counts.\n",
        "# It becomes faster with numba enabled, but not as fast as the next solution.\n",
        "\n",
        "def process(s, part2=False, output_video=False):\n",
        "  # -1 is EMPTY, 0..8 is FREE+neighbor_count, 10..18 is OCCUPIED+neighbor_count\n",
        "  int_from_ch = {'.': -1, 'L': 0, '#': 10}\n",
        "  grid = grid_from_string(s, int_from_ch)\n",
        "  # Surprisingly, the default array dtype (here, np.int64) is the fastest.\n",
        "  shape = grid.shape\n",
        "  NEIGHBORS = tuple(set(itertools.product((-1, 0, 1), repeat=2)) - {(0, 0)})\n",
        "\n",
        "  def evolve(grid):\n",
        "\n",
        "    def impact_neighbor_counts(y0, x0, delta):\n",
        "      for dy, dx in NEIGHBORS:\n",
        "        y, x = y0 + dy, x0 + dx\n",
        "        while 0 <= y < shape[0] and 0 <= x < shape[1]:\n",
        "          if not part2 or grid[y, x] >= 0:\n",
        "            if grid[y, x] >= 0:\n",
        "              grid[y, x] += delta\n",
        "            break\n",
        "          y, x = y + dy, x + dx\n",
        "\n",
        "    # print('num_occupied', np.count_nonzero(grid >= 10))\n",
        "    prev = grid.copy()\n",
        "    for y in range(shape[0]):\n",
        "      for x in range(shape[1]):\n",
        "        if prev[y, x] == 0:  # FREE with zero occupied neighbors\n",
        "          grid[y, x] += 10\n",
        "          impact_neighbor_counts(y, x, +1)\n",
        "        elif prev[y, x] >= (15 if part2 else 14):  # OCCUPIED, >= 5 or 4 neighb\n",
        "          grid[y, x] -= 10\n",
        "          impact_neighbor_counts(y, x, -1)\n",
        "    return np.any(grid != prev)\n",
        "\n",
        "  images = []\n",
        "  while evolve(grid):\n",
        "    images.append(grid >= 10)\n",
        "\n",
        "  if media.video_is_available():\n",
        "    media.show_video(images, height=images[0].shape[0] * 2, codec='gif', fps=10)\n",
        "\n",
        "  return np.count_nonzero(grid >= 10)\n",
        "\n",
        "\n",
        "check_eq(process(s1), 37)"
      ],
      "execution_count": 59,
      "outputs": [
        {
          "output_type": "display_data",
          "data": {
            "text/html": [
              "<table style=\"border-spacing:0;\"><tr><td><img width=\"20\" height=\"20\" style=\"image-rendering:pixelated; object-fit:cover;\" src=\"data:image/gif;base64,R0lGODlhCgAKAPcfAAAAAAAAVQAAqgAA/wAkAAAkVQAkqgAk/wBIAABIVQBIqgBI/wBsAABsVQBsqgBs/wCQAACQVQCQqgCQ/wC0AAC0VQC0qgC0/wDYAADYVQDYqgDY/wD8AAD8VQD8qgD8/yQAACQAVSQAqiQA/yQkACQkVSQkqiQk/yRIACRIVSRIqiRI/yRsACRsVSRsqiRs/ySQACSQVSSQqiSQ/yS0ACS0VSS0qiS0/yTYACTYVSTYqiTY/yT8ACT8VST8qiT8/0gAAEgAVUgAqkgA/0gkAEgkVUgkqkgk/0hIAEhIVUhIqkhI/0hsAEhsVUhsqkhs/0iQAEiQVUiQqkiQ/0i0AEi0VUi0qki0/0jYAEjYVUjYqkjY/0j8AEj8VUj8qkj8/2wAAGwAVWwAqmwA/2wkAGwkVWwkqmwk/2xIAGxIVWxIqmxI/2xsAGxsVWxsqmxs/2yQAGyQVWyQqmyQ/2y0AGy0VWy0qmy0/2zYAGzYVWzYqmzY/2z8AGz8VWz8qmz8/5AAAJAAVZAAqpAA/5AkAJAkVZAkqpAk/5BIAJBIVZBIqpBI/5BsAJBsVZBsqpBs/5CQAJCQVZCQqpCQ/5C0AJC0VZC0qpC0/5DYAJDYVZDYqpDY/5D8AJD8VZD8qpD8/7QAALQAVbQAqrQA/7QkALQkVbQkqrQk/7RIALRIVbRIqrRI/7RsALRsVbRsqrRs/7SQALSQVbSQqrSQ/7S0ALS0VbS0qrS0/7TYALTYVbTYqrTY/7T8ALT8VbT8qrT8/9gAANgAVdgAqtgA/9gkANgkVdgkqtgk/9hIANhIVdhIqthI/9hsANhsVdhsqths/9iQANiQVdiQqtiQ/9i0ANi0Vdi0qti0/9jYANjYVdjYqtjY/9j8ANj8Vdj8qtj8//wAAPwAVfwAqvwA//wkAPwkVfwkqvwk//xIAPxIVfxIqvxI//xsAPxsVfxsqvxs//yQAPyQVfyQqvyQ//y0APy0Vfy0qvy0//zYAPzYVfzYqvzY//z8APz8Vfz8qvz8/yH/C05FVFNDQVBFMi4wAwEAAAAh+QQECgAfACwAAAAACgAKAAAIKAD/AfgnkOBAgggRHiw4EEDDhQUjRjy4EOLEhgIdOkzI0WBHihwPBgQAIfkEBQoAAQAsAAAAAAoACgAACCkAAwQAAGCgwIMEExZcaLCgQYEJBzKEuLAiRYIHET7MqFAhwo4bPQoMCAAh+QQFCgABACwCAAAABgAKAAAIHgD//QtAMIDAgQQHIjxoUCHChAILKpR4MGLDhwwDAgAh+QQFCgABACwCAAAABQAKAAAIGgADAAhAEMDAggILHhS40CDBhA0NHpT4cGBAACH5BAUKAAEALAIAAgAEAAYAAAgQAP8FGPhPYACDBwcqXFgwIAA7\"/></td></tr></table>"
            ],
            "text/plain": [
              "<IPython.core.display.HTML object>"
            ]
          },
          "metadata": {
            "tags": []
          }
        }
      ]
    },
    {
      "cell_type": "code",
      "metadata": {
        "id": "uVPCHfeRrxvS",
        "colab": {
          "base_uri": "https://localhost:8080/",
          "height": 425
        },
        "outputId": "378893d1-ec78-4034-e4db-4bcdc4f58ff3"
      },
      "source": [
        "if show_all_videos and media.video_is_available():\n",
        "  process(puzzle.input, output_video=True)\n",
        "  process(puzzle.input, part2=True, output_video=True)"
      ],
      "execution_count": 60,
      "outputs": [
        {
          "output_type": "display_data",
          "data": {
            "text/html": [
              "<table style=\"border-spacing:0;\"><tr><td><img width=\"184\" height=\"198\" style=\"image-rendering:pixelated; object-fit:cover;\" src=\"data:image/gif;base64,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\"/></td></tr></table>"
            ],
            "text/plain": [
              "<IPython.core.display.HTML object>"
            ]
          },
          "metadata": {
            "tags": []
          }
        },
        {
          "output_type": "display_data",
          "data": {
            "text/html": [
              "<table style=\"border-spacing:0;\"><tr><td><img width=\"184\" height=\"198\" style=\"image-rendering:pixelated; object-fit:cover;\" src=\"data:image/gif;base64,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\"/></td></tr></table>"
            ],
            "text/plain": [
              "<IPython.core.display.HTML object>"
            ]
          },
          "metadata": {
            "tags": []
          }
        }
      ]
    },
    {
      "cell_type": "code",
      "metadata": {
        "id": "hYP1pVw6ymUy",
        "colab": {
          "base_uri": "https://localhost:8080/"
        },
        "outputId": "f269f205-6ba8-4e57-c7f4-f3959e98ed64"
      },
      "source": [
        "# More naive solution but which is faster when using numba.\n",
        "\n",
        "if using_numba:\n",
        "\n",
        "  def process(s, part2=False):\n",
        "    int_from_ch = {'.': 0, 'L': 1, '#': 2}\n",
        "    grid = grid_from_string(s, int_from_ch)\n",
        "    neighbors = tuple(set(itertools.product((-1, 0, 1), repeat=2)) - {(0, 0)})\n",
        "\n",
        "    @numba_njit(cache=True, parallel=True)\n",
        "    def evolve(grid, neighbors, part2):\n",
        "      EMPTY, FREE, OCCUPIED = 0, 1, 2\n",
        "      shape = grid.shape\n",
        "\n",
        "      def count_occupied_neighbors(grid, y0, x0, only_adjacent):\n",
        "        count = 0\n",
        "        for dy, dx in neighbors:\n",
        "          y, x = y0 + dy, x0 + dx\n",
        "          while 0 <= y < shape[0] and 0 <= x < shape[1]:\n",
        "            if grid[y, x] != EMPTY or only_adjacent:\n",
        "              count += grid[y, x] == OCCUPIED\n",
        "              break\n",
        "            y, x = y + dy, x + dx\n",
        "        return count\n",
        "\n",
        "      while True:\n",
        "        # print('num_occupied', np.count_nonzero(grid == 2))\n",
        "        prev = grid.copy()\n",
        "        for y in range(shape[0]):\n",
        "          for x in range(shape[1]):\n",
        "            num_occupied = count_occupied_neighbors(prev, y, x, not part2)\n",
        "            if prev[y, x] == FREE and num_occupied == 0:\n",
        "              grid[y, x] = OCCUPIED\n",
        "            elif prev[y, x] == OCCUPIED and num_occupied >= (5 if part2 else 4):\n",
        "              grid[y, x] = FREE\n",
        "        if np.all(grid == prev):\n",
        "          break\n",
        "\n",
        "      return np.count_nonzero(grid == OCCUPIED)\n",
        "\n",
        "    return evolve(grid, neighbors, part2)\n",
        "\n",
        "  check_eq(process(s1), 37)"
      ],
      "execution_count": 61,
      "outputs": [
        {
          "output_type": "stream",
          "text": [
            "/usr/local/lib/python3.7/dist-packages/numba/np/ufunc/parallel.py:363: NumbaWarning: The TBB threading layer requires TBB version 2019.5 or later i.e., TBB_INTERFACE_VERSION >= 11005. Found TBB_INTERFACE_VERSION = 9107. The TBB threading layer is disabled.\n",
            "  warnings.warn(problem)\n"
          ],
          "name": "stderr"
        }
      ]
    },
    {
      "cell_type": "code",
      "metadata": {
        "id": "AmEeTciQVDDQ",
        "colab": {
          "base_uri": "https://localhost:8080/"
        },
        "outputId": "c73eac69-3c1c-4398-93cc-387cc49222d4"
      },
      "source": [
        "# ~2 s for non-numba solution; ~0.05 s for numba solution\n",
        "puzzle.verify(1, process)"
      ],
      "execution_count": 62,
      "outputs": [
        {
          "output_type": "stream",
          "text": [
            "(Part 1: 0.041 s)\n"
          ],
          "name": "stdout"
        }
      ]
    },
    {
      "cell_type": "code",
      "metadata": {
        "id": "LXxQ33skZsX1",
        "colab": {
          "base_uri": "https://localhost:8080/"
        },
        "outputId": "3e9d3658-57b6-44f1-ac71-7888fe776494"
      },
      "source": [
        "process2 = functools.partial(process, part2=True)\n",
        "check_eq(process2(s1), 26)\n",
        "\n",
        "# ~5 s for non-numba solution; ~0.05 s for numba solution\n",
        "puzzle.verify(2, process2)"
      ],
      "execution_count": 63,
      "outputs": [
        {
          "output_type": "stream",
          "text": [
            "(Part 2: 0.055 s)\n"
          ],
          "name": "stdout"
        }
      ]
    },
    {
      "cell_type": "markdown",
      "metadata": {
        "id": "c8pMKkP_-cCX"
      },
      "source": [
        "<a name=\"day12\"></a>\n",
        "## Day 12: Ship and waypoint navigation"
      ]
    },
    {
      "cell_type": "markdown",
      "metadata": {
        "id": "dSWqYoVvv1yv"
      },
      "source": [
        "Given a list of instructions (a translation direction `N|S|E|W` and magnitude, a rotation `L|R` and angle (positive multiple of 90 degrees), or a forward directive `F` and value), update a ship's position and orientation in a 2D domain.\n",
        "\n",
        "- Part 1: The translation, rotation, and forward instructions directly modify the ship's state.  After applying all instructions, report the Manhattan distance of the ship's position from its start.\n",
        "\n",
        "- Part 2: The translation and rotation instructions modify a vector waypoint (initially 10 units east and 1 unit north of ship) relative to the ship position.  The forward instruction translates the ship position by the vector waypoint times the forward value.  Again report the final Manhattan distance of the ship from its start."
      ]
    },
    {
      "cell_type": "code",
      "metadata": {
        "id": "H_APDCbQ-cCX",
        "colab": {
          "base_uri": "https://localhost:8080/"
        },
        "outputId": "d04d9677-5155-4c92-afcb-5515fe2ba350"
      },
      "source": [
        "puzzle = advent.puzzle(12)"
      ],
      "execution_count": 64,
      "outputs": [
        {
          "output_type": "stream",
          "text": [
            "For day 12, puzzle.input has 773 lines:\n",
            "W5\n",
            "F63\n",
            "S1\n",
            "L90\n",
            "F89\n",
            "W4\n",
            "F45\n",
            "W4\n",
            " ...\n",
            "L90\n",
            "F94\n",
            "L90\n",
            "F13\n",
            "And the stored answers are: {1: 1221, 2: 59435}\n"
          ],
          "name": "stdout"
        }
      ]
    },
    {
      "cell_type": "code",
      "metadata": {
        "id": "O56VlIAv-cCX"
      },
      "source": [
        "s1 = \"\"\"\n",
        "F10\n",
        "N3\n",
        "F7\n",
        "R90\n",
        "F11\n",
        "\"\"\""
      ],
      "execution_count": 65,
      "outputs": []
    },
    {
      "cell_type": "code",
      "metadata": {
        "id": "IDRi_D9_dck3",
        "colab": {
          "base_uri": "https://localhost:8080/"
        },
        "outputId": "116ad238-bf26-4bd1-8a8d-cd942c4888d1"
      },
      "source": [
        "def process1(s):\n",
        "  y, x = 0, 0\n",
        "  dy, dx = 0, 1  # east\n",
        " \n",
        "  for instruction in s.split():\n",
        "    action, value = instruction[:1], int(instruction[1:])\n",
        "    if action == 'N':\n",
        "      y -= value\n",
        "    elif action == 'S':\n",
        "      y += value\n",
        "    elif action == 'E':\n",
        "      x += value\n",
        "    elif action == 'W':\n",
        "      x -= value\n",
        "    elif action == 'L':\n",
        "      while value:\n",
        "        dy, dx = -dx, +dy\n",
        "        value -= 90\n",
        "    elif action == 'R':\n",
        "      while value:\n",
        "        dy, dx = +dx, -dy\n",
        "        value -= 90\n",
        "    elif action == 'F':\n",
        "      y, x = y + dy * value, x + dx * value\n",
        "  return abs(y) + abs(x)\n",
        " \n",
        " \n",
        "check_eq(process1(s1), 25)\n",
        "puzzle.verify(1, process1)"
      ],
      "execution_count": 66,
      "outputs": [
        {
          "output_type": "stream",
          "text": [
            "(Part 1: 0.000 s)\n"
          ],
          "name": "stdout"
        }
      ]
    },
    {
      "cell_type": "code",
      "metadata": {
        "id": "Yb-NG3la-cCX",
        "colab": {
          "base_uri": "https://localhost:8080/"
        },
        "outputId": "f9424a94-c377-4788-876c-915b0c5a8b36"
      },
      "source": [
        "def process2(s):\n",
        "  ship_y, ship_x = 0, 0\n",
        "  # waypoint is relative to the ship\n",
        "  waypoint_y, waypoint_x = -1, 10  # 10 units east and 1 unit north of ship\n",
        " \n",
        "  for instruction in s.split():\n",
        "    action, value = instruction[:1], int(instruction[1:])\n",
        "    if action == 'N':\n",
        "      waypoint_y -= value\n",
        "    elif action == 'S':\n",
        "      waypoint_y += value\n",
        "    elif action == 'E':\n",
        "      waypoint_x += value\n",
        "    elif action == 'W':\n",
        "      waypoint_x -= value\n",
        "    elif action == 'L':\n",
        "      while value:\n",
        "        waypoint_y, waypoint_x = -waypoint_x, +waypoint_y\n",
        "        value -= 90\n",
        "    elif action == 'R':\n",
        "      while value:\n",
        "        waypoint_y, waypoint_x = +waypoint_x, -waypoint_y\n",
        "        value -= 90\n",
        "    elif action == 'F':\n",
        "      ship_y += waypoint_y * value\n",
        "      ship_x += waypoint_x * value\n",
        "  return abs(ship_y) + abs(ship_x)\n",
        " \n",
        " \n",
        "check_eq(process2(s1), 286)\n",
        "puzzle.verify(2, process2)"
      ],
      "execution_count": 67,
      "outputs": [
        {
          "output_type": "stream",
          "text": [
            "(Part 2: 0.001 s)\n"
          ],
          "name": "stdout"
        }
      ]
    },
    {
      "cell_type": "markdown",
      "metadata": {
        "id": "-HvKXDFB-cQn"
      },
      "source": [
        "<a name=\"day13\"></a>\n",
        "## Day 13: Buses modulo schedule"
      ]
    },
    {
      "cell_type": "markdown",
      "metadata": {
        "id": "09sjifmfzSNN"
      },
      "source": [
        "Given a sequence of buses with different departure periods, all starting at time 0, with some buses out-of-service, find some earliest time satisfying a condition.\n",
        "\n",
        "- Part 1: Given also an earliest time, find the first bus that departs on or after that time.  Report the wait time multiplied by the bus period.\n",
        "\n",
        "- Part 2: Find the earliest time such that the first bus in the sequence departs at that time and each subsequent listed bus departs at the subsequent time if the bus is in service."
      ]
    },
    {
      "cell_type": "code",
      "metadata": {
        "id": "FBdUu1Hp-cQn",
        "colab": {
          "base_uri": "https://localhost:8080/"
        },
        "outputId": "acabeb53-62c4-41aa-9bb5-a6b60b5414bc"
      },
      "source": [
        "puzzle = advent.puzzle(13)"
      ],
      "execution_count": 68,
      "outputs": [
        {
          "output_type": "stream",
          "text": [
            "For day 13, puzzle.input has 2 lines:\n",
            "1000299\n",
            "41,x,x,x,x,x,x,x,x,x,x,x,x,x,x,x,x,x,x,x,x,x,x,x,x,x,x,x,x,x,x,x,x,x,x,37,x,x,x, ... ,x,x,x,x,x,x,x,x,x,x,x,x,x,x,x,x,19\n",
            "And the stored answers are: {1: 156, 2: 404517869995362}\n"
          ],
          "name": "stdout"
        }
      ]
    },
    {
      "cell_type": "code",
      "metadata": {
        "id": "WRqYtN1B-cQn"
      },
      "source": [
        "s1 = \"\"\"\n",
        "939\n",
        "7,13,x,x,59,x,31,19\n",
        "\"\"\""
      ],
      "execution_count": 69,
      "outputs": []
    },
    {
      "cell_type": "code",
      "metadata": {
        "id": "c71ttBaQmrQa",
        "colab": {
          "base_uri": "https://localhost:8080/"
        },
        "outputId": "1a42bea0-2b46-4e96-ddca-ac3804ec82b1"
      },
      "source": [
        "def ceil_of_ratio(a: int, b: int) -> int:\n",
        "  \"\"\"Returns the ceiling of the ratio a / b, where b must be positive.\"\"\"\n",
        "  assert b > 0\n",
        "  return (a + b - 1) // b\n",
        "\n",
        "\n",
        "def process1(s):\n",
        "  lines = s.strip('\\n').splitlines()\n",
        "  earliest_time = int(lines[0])\n",
        "  buses = [int(e) for e in lines[1].split(',') if e != 'x']\n",
        "  next_times = [ceil_of_ratio(earliest_time, bus) * bus for bus in buses]\n",
        "  min_time, min_bus = min(zip(next_times, buses))\n",
        "  return (min_time - earliest_time) * min_bus\n",
        "\n",
        "\n",
        "check_eq(process1(s1), 295)\n",
        "puzzle.verify(1, process1)"
      ],
      "execution_count": 70,
      "outputs": [
        {
          "output_type": "stream",
          "text": [
            "(Part 1: 0.000 s)\n"
          ],
          "name": "stdout"
        }
      ]
    },
    {
      "cell_type": "markdown",
      "metadata": {
        "id": "jhovcZWiHzy1"
      },
      "source": [
        "Part 2"
      ]
    },
    {
      "cell_type": "code",
      "metadata": {
        "id": "TlX1RY4QH2fF"
      },
      "source": [
        "def extended_gcd(a: int, b: int) -> Tuple[int, int, int]:\n",
        "  \"\"\"Finds the greatest common divisor using the extended Euclidean algorithm.\n",
        "\n",
        "  Returns:\n",
        "    (gcd(a, b), x, y) with the property that a * x + b * y = gcd(a, b).\n",
        "\n",
        "  >>> extended_gcd(29, 71)\n",
        "  (1, -22, 9)\n",
        "  >>> (29 * -22) % 71\n",
        "  1\n",
        "  \"\"\"\n",
        "  prev_x, x = 1, 0\n",
        "  prev_y, y = 0, 1\n",
        "  while b:\n",
        "    q = a // b\n",
        "    x, prev_x = prev_x - q * x, x\n",
        "    y, prev_y = prev_y - q * y, y\n",
        "    a, b = b, a % b\n",
        "  x, y = prev_x, prev_y\n",
        "  return a, x, y"
      ],
      "execution_count": 71,
      "outputs": []
    },
    {
      "cell_type": "code",
      "metadata": {
        "id": "Pld6pnB36hUI"
      },
      "source": [
        "# Let each bus be represented by its period b_i and desired remainder r_i.\n",
        "\n",
        "# Given [(b_i, r_i)], where b_i are coprime, we seek x such that\n",
        "#  x % b_i = r_i  for all i,  where r_i = -i % b_i\n",
        "# We can work by reduction, merging pairs of buses.\n",
        "\n",
        "# Given a pair of buses (b1, r1) and (b2, r2),\n",
        "# we want to find a new equivalent bus (b1 * b2, r) such that\n",
        "#  0 <= r < b1 * b2\n",
        "#  r % b1 = r1\n",
        "#  r % b2 = r2\n",
        "# We can apply the Chinese remainder theorem using the extended GCD algorithm."
      ],
      "execution_count": 72,
      "outputs": []
    },
    {
      "cell_type": "code",
      "metadata": {
        "id": "DRfWcZ7--cQn",
        "colab": {
          "base_uri": "https://localhost:8080/"
        },
        "outputId": "d56a4700-6fc1-4abf-a927-f583ecfc9a7a"
      },
      "source": [
        "def process2(s):\n",
        "  s = s.strip('\\n').splitlines()[-1]\n",
        "  buses = [int(e) for e in s.replace('x', '1').split(',')]\n",
        "  check_eq(np.lcm.reduce(buses), np.prod(buses))  # verify all coprime\n",
        "  bus_remainders = [(bus, -i % bus) for i, bus in enumerate(buses) if bus > 1]\n",
        "\n",
        "  def merge_buses(bus1, bus2):\n",
        "    (b1, r1), (b2, r2) = bus1, bus2\n",
        "    # https://en.wikipedia.org/wiki/Chinese_remainder_theorem\n",
        "    _, x, y = extended_gcd(b1, b2)\n",
        "    return b1 * b2, (r1 * y * b2 + r2 * x * b1) % (b1 * b2)\n",
        "\n",
        "  _, r = functools.reduce(merge_buses, bus_remainders)\n",
        "  return r\n",
        "\n",
        "\n",
        "check_eq(process2(s1.strip('\\n').splitlines()[1]), 1068781)\n",
        "check_eq(process2('17,x,13,19'), 3417)\n",
        "check_eq(process2('67,7,59,61'), 754018)\n",
        "check_eq(process2('67,x,7,59,61'), 779210)\n",
        "check_eq(process2('67,7,x,59,61'), 1261476)\n",
        "check_eq(process2('1789,37,47,1889'), 1202161486)\n",
        "puzzle.verify(2, process2)"
      ],
      "execution_count": 73,
      "outputs": [
        {
          "output_type": "stream",
          "text": [
            "(Part 2: 0.000 s)\n"
          ],
          "name": "stdout"
        }
      ]
    },
    {
      "cell_type": "markdown",
      "metadata": {
        "id": "lUkb6kzu-cfU"
      },
      "source": [
        "<a name=\"day14\"></a>\n",
        "## Day 14: Write masked values to mem"
      ]
    },
    {
      "cell_type": "markdown",
      "metadata": {
        "id": "0Tqy8_ThJoFM"
      },
      "source": [
        "Process a sequence of instructions, each specifying either a bitmask (where each location contains `0`, `1`, or `X`) or the writing of a value to a memory address, and report the sum of the resulting memory contents.\n",
        "\n",
        "- Part 1: The bitmask is applied to the value written to memory, such that `0` and `1` replace the corresponding bit in the value and `X` leaves it unchanged.\n",
        "\n",
        "- Part 2: The bitmask is applied to the address used to write the value to memory, such that `1` replaces the corresponding bit in the address and `X` indicates a wildcard.  The value is written to all memory addresses satisfying the wildcard."
      ]
    },
    {
      "cell_type": "code",
      "metadata": {
        "id": "iyX9MORD-cfU",
        "colab": {
          "base_uri": "https://localhost:8080/"
        },
        "outputId": "277405fe-9489-4705-83fe-2470822aaf2b"
      },
      "source": [
        "puzzle = advent.puzzle(14)"
      ],
      "execution_count": 74,
      "outputs": [
        {
          "output_type": "stream",
          "text": [
            "For day 14, puzzle.input has 570 lines:\n",
            "mask = 0111X10100100X1111X10010X000X1000001\n",
            "mem[50907] = 468673978\n",
            "mem[22295] = 3337449\n",
            "mem[58474] = 56418393\n",
            "mem[15362] = 243184\n",
            "mem[65089] = 110688658\n",
            "mask = 010X010XX110X01X01X10X001001011X110X\n",
            "mem[21952] = 950257\n",
            " ...\n",
            "mem[13666] = 52961\n",
            "mem[7377] = 134144120\n",
            "mem[58224] = 211536\n",
            "mem[36878] = 173058887\n",
            "And the stored answers are: {1: 9628746976360, 2: 4574598714592}\n"
          ],
          "name": "stdout"
        }
      ]
    },
    {
      "cell_type": "code",
      "metadata": {
        "id": "AGItl2WT-cfU"
      },
      "source": [
        "s1 = \"\"\"\n",
        "mask = XXXXXXXXXXXXXXXXXXXXXXXXXXXXX1XXXX0X\n",
        "mem[8] = 11\n",
        "mem[7] = 101\n",
        "mem[8] = 0\n",
        "\"\"\""
      ],
      "execution_count": 75,
      "outputs": []
    },
    {
      "cell_type": "code",
      "metadata": {
        "colab": {
          "base_uri": "https://localhost:8080/"
        },
        "id": "6SLyBm6NMJnS",
        "outputId": "d9ccc27d-61df-4376-a18e-8a64bc160182"
      },
      "source": [
        "def process1(s):\n",
        "  mem = {}\n",
        "  extract_0 = str.maketrans('01X', '100')\n",
        "  extract_1 = str.maketrans('01X', '010')\n",
        "  for line in s.strip('\\n').splitlines():\n",
        "    if line.startswith('mask'):\n",
        "      mask = line.split(' = ')[1]\n",
        "      mask_force_0 = int(mask.translate(extract_0), base=2)\n",
        "      mask_force_1 = int(mask.translate(extract_1), base=2)\n",
        "    else:\n",
        "      address, value = map(\n",
        "          int, re.fullmatch(r'mem\\[(\\d+)\\] = (\\d+)', line).groups())\n",
        "      mem[address] = (value | mask_force_1) & ~mask_force_0\n",
        "  return sum(mem.values())\n",
        "\n",
        "\n",
        "check_eq(process1(s1), 165)\n",
        "puzzle.verify(1, process1)"
      ],
      "execution_count": 76,
      "outputs": [
        {
          "output_type": "stream",
          "text": [
            "(Part 1: 0.010 s)\n"
          ],
          "name": "stdout"
        }
      ]
    },
    {
      "cell_type": "markdown",
      "metadata": {
        "id": "gQDZ8LIzObqf"
      },
      "source": [
        "Part 2"
      ]
    },
    {
      "cell_type": "code",
      "metadata": {
        "id": "qX8Tq_mX9T0S"
      },
      "source": [
        "s2 = \"\"\"\n",
        "mask = 000000000000000000000000000000X1001X\n",
        "mem[42] = 100\n",
        "mask = 00000000000000000000000000000000X0XX\n",
        "mem[26] = 1\n",
        "\"\"\""
      ],
      "execution_count": 77,
      "outputs": []
    },
    {
      "cell_type": "code",
      "metadata": {
        "colab": {
          "base_uri": "https://localhost:8080/"
        },
        "id": "XdxCnr891yOj",
        "outputId": "dc865830-b854-4e64-b54a-739cbada8867"
      },
      "source": [
        "def process2(s):\n",
        "  mem = {}\n",
        "  extract_1 = str.maketrans('01X', '010')\n",
        "  extract_x = str.maketrans('01X', '001')\n",
        "  for line in s.strip('\\n').splitlines():\n",
        "    if line.startswith('mask'):\n",
        "      mask = line.split(' = ')[1]\n",
        "      mask_force_1 = int(mask.translate(extract_1), base=2)\n",
        "      mask_not_x = ~int(mask.translate(extract_x), base=2)\n",
        "      offsets = [0]\n",
        "      for wildcard in (1 << i for i in range(36) if mask[35 - i] == 'X'):\n",
        "        offsets += [offset + wildcard for offset in offsets]\n",
        "    else:\n",
        "      address, value = map(\n",
        "          int, re.fullmatch(r'mem\\[(\\d+)\\] = (\\d+)', line).groups())\n",
        "      address = (address & mask_not_x) | mask_force_1\n",
        "      for offset in offsets:\n",
        "        mem[address + offset] = value\n",
        "  return sum(mem.values())\n",
        "\n",
        "\n",
        "check_eq(process2(s2), 208)\n",
        "puzzle.verify(2, process2)"
      ],
      "execution_count": 78,
      "outputs": [
        {
          "output_type": "stream",
          "text": [
            "(Part 2: 0.027 s)\n"
          ],
          "name": "stdout"
        }
      ]
    },
    {
      "cell_type": "markdown",
      "metadata": {
        "id": "0gjk1fsn-cvQ"
      },
      "source": [
        "<a name=\"day15\"></a>\n",
        "## Day 15: Rounds of spoken numbers"
      ]
    },
    {
      "cell_type": "markdown",
      "metadata": {
        "id": "QIsZ5G3POltD"
      },
      "source": [
        "Given an initial sequence of numbers indexed starting at `1`, continue the sequence as follows.\n",
        "\n",
        "The number at index `i` is either\n",
        "  * `0` if the numer at index `i - 1` was not previously seen, or\n",
        "  * `i - 1 - j` if the number at index `i - 1` was previously seen at index `j`.\n",
        "\n",
        "- Part 1: Report the number at index `2020`.\n",
        "\n",
        "- Part 2: Report the number at index `30_000_000`."
      ]
    },
    {
      "cell_type": "code",
      "metadata": {
        "id": "anebyn3p-cvQ",
        "colab": {
          "base_uri": "https://localhost:8080/"
        },
        "outputId": "cc0ce002-ebe9-4cb7-bfb2-6bdd309db482"
      },
      "source": [
        "puzzle = advent.puzzle(15)"
      ],
      "execution_count": 79,
      "outputs": [
        {
          "output_type": "stream",
          "text": [
            "For day 15, puzzle.input has 1 lines:\n",
            "9,12,1,4,17,0,18\n",
            "And the stored answers are: {1: 610, 2: 1407}\n"
          ],
          "name": "stdout"
        }
      ]
    },
    {
      "cell_type": "code",
      "metadata": {
        "id": "iDVIoKKZ-cvQ"
      },
      "source": [
        "s1 = '0,3,6'"
      ],
      "execution_count": 80,
      "outputs": []
    },
    {
      "cell_type": "code",
      "metadata": {
        "colab": {
          "base_uri": "https://localhost:8080/"
        },
        "id": "3N4q_xR-6_VC",
        "outputId": "717c8931-2317-4e27-b2a4-9ac6a98e494e"
      },
      "source": [
        "# Code that does not use numba:\n",
        "\n",
        "def generate_sequence(initial_sequence):\n",
        "  last_turn = {}\n",
        "  for turn, number in enumerate(initial_sequence):\n",
        "    prev_turn = last_turn.get(number, -1)\n",
        "    last_turn[number] = turn\n",
        "    yield number\n",
        "\n",
        "  for turn in itertools.count(len(initial_sequence)):\n",
        "    number = 0 if prev_turn < 0 else turn - 1 - prev_turn\n",
        "    prev_turn = last_turn.get(number, -1)\n",
        "    last_turn[number] = turn\n",
        "    yield number\n",
        "\n",
        "\n",
        "def process(s, num_turns=2020):\n",
        "  initial_sequence = tuple(map(int, s.split(',')))\n",
        "  return next(itertools.islice(generate_sequence(\n",
        "      initial_sequence), num_turns - 1, None))\n",
        "\n",
        "\n",
        "check_eq(process(s1, num_turns=10), 0)\n",
        "check_eq(process(s1), 436)\n",
        "check_eq(process('1,3,2'), 1)\n",
        "check_eq(process('2,1,3'), 10)\n",
        "check_eq(process('1,2,3'), 27)\n",
        "check_eq(process('2,3,1'), 78)\n",
        "check_eq(process('3,2,1'), 438)\n",
        "check_eq(process('3,1,2'), 1836)\n",
        "puzzle.verify(1, process)"
      ],
      "execution_count": 81,
      "outputs": [
        {
          "output_type": "stream",
          "text": [
            "(Part 1: 0.000 s)\n"
          ],
          "name": "stdout"
        }
      ]
    },
    {
      "cell_type": "code",
      "metadata": {
        "id": "h7CITw5KAG-f"
      },
      "source": [
        "if 0:  # The output looks chaotic, without any obvious pattern.\n",
        "  pprint.pprint(list(itertools.islice(generate_sequence(s1.split(',')), 1000)),\n",
        "                width=150, compact=True)"
      ],
      "execution_count": 82,
      "outputs": []
    },
    {
      "cell_type": "markdown",
      "metadata": {
        "id": "sHM5k0wftD-F"
      },
      "source": [
        "Part 2"
      ]
    },
    {
      "cell_type": "code",
      "metadata": {
        "colab": {
          "base_uri": "https://localhost:8080/"
        },
        "id": "bMc2h-CKR5Ix",
        "outputId": "e4b95fa9-ac31-4768-e970-1df080eca186"
      },
      "source": [
        "# Code which is faster but only if numba is enabled:\n",
        "if using_numba:\n",
        "  def process(s, num_turns=2020):\n",
        "\n",
        "    @numba_njit(cache=True)\n",
        "    def func(initial_sequence, num_turns):\n",
        "      last_turn = np.full(num_turns, -1, dtype=np.int32)\n",
        "      for turn in range(min(num_turns, len(initial_sequence))):\n",
        "        number = initial_sequence[turn]\n",
        "        prev_turn = last_turn[number]\n",
        "        last_turn[number] = turn\n",
        "\n",
        "      for turn in range(len(initial_sequence), num_turns):\n",
        "        number = 0 if prev_turn < 0 else turn - 1 - prev_turn\n",
        "        prev_turn = last_turn[number]\n",
        "        last_turn[number] = turn\n",
        "\n",
        "      return number\n",
        "\n",
        "    initial_sequence = np.array(tuple(map(int, s.split(','))), dtype=np.int32)\n",
        "    return func(initial_sequence, num_turns)\n",
        "\n",
        "process2 = functools.partial(process, num_turns=30_000_000)\n",
        "\n",
        "if using_numba:\n",
        "  check_eq(process2(s1), 175594)\n",
        "  if 0:\n",
        "    check_eq(process2('1,3,2'), 2578)\n",
        "    check_eq(process2('2,1,3'), 3544142)\n",
        "    check_eq(process2('1,2,3'), 261214)\n",
        "    check_eq(process2('2,3,1'), 6895259)\n",
        "    check_eq(process2('3,2,1'), 18)\n",
        "    check_eq(process2('3,1,2'), 362)\n",
        "\n",
        "# ~1 s with numba, ~20 s for non-numba version\n",
        "puzzle.verify(2, process2)"
      ],
      "execution_count": 83,
      "outputs": [
        {
          "output_type": "stream",
          "text": [
            "(Part 2: 0.949 s)\n"
          ],
          "name": "stdout"
        }
      ]
    },
    {
      "cell_type": "markdown",
      "metadata": {
        "id": "_eebxbTj-c67"
      },
      "source": [
        "<a name=\"day16\"></a>\n",
        "## Day 16: Match ticket fields and rules"
      ]
    },
    {
      "cell_type": "markdown",
      "metadata": {
        "id": "wFnxm7dzXOie"
      },
      "source": [
        "Given (1) a set of fields with names and rules on possible value ranges, (2) my ticket with unlabled fields, and (3) a set of other tickets with unlabeled fields:\n",
        "\n",
        "- Part 1: Report the number of invalid other tickets, which are those containing a field value that does not satisfy any field rule.\n",
        "\n",
        "- Part 2: Considering the valid other tickets, determine a labeling of the ticket fields that is compatible with the rules.  Report the product of the 6 field values on my ticket whose names start with `departure`."
      ]
    },
    {
      "cell_type": "code",
      "metadata": {
        "id": "LkGzSL1N-c67",
        "colab": {
          "base_uri": "https://localhost:8080/"
        },
        "outputId": "12799560-b74f-4873-c63e-48ff76c7e57d"
      },
      "source": [
        "puzzle = advent.puzzle(16)"
      ],
      "execution_count": 84,
      "outputs": [
        {
          "output_type": "stream",
          "text": [
            "For day 16, puzzle.input has 268 lines:\n",
            "departure location: 33-679 or 691-971\n",
            "departure station: 48-646 or 671-966\n",
            "departure platform: 37-601 or 619-950\n",
            "departure track: 41-863 or 875-973\n",
            "departure date: 37-145 or 168-965\n",
            "departure time: 26-246 or 257-972\n",
            "arrival location: 30-542 or 556-960\n",
            "arrival station: 30-75 or 89-954\n",
            " ...\n",
            "845,453,939,349,884,940,0,621,933,188,73,204,440,918,207,671,629,735,487,627\n",
            "879,694,125,501,580,274,451,885,834,397,146,104,185,173,528,717,590,412,350,936\n",
            "944,91,450,631,262,501,196,401,199,946,105,236,634,765,66,385,582,437,262,581\n",
            "924,594,156,702,128,858,133,695,140,486,399,534,115,627,748,560,518,700,883,206\n",
            "And the stored answers are: {1: 29878, 2: 855438643439}\n"
          ],
          "name": "stdout"
        }
      ]
    },
    {
      "cell_type": "code",
      "metadata": {
        "id": "YNVRZNVO-c67",
        "colab": {
          "base_uri": "https://localhost:8080/"
        },
        "cellView": "form",
        "outputId": "80cf26d6-5cee-4df7-d904-4b9f7a4188d1"
      },
      "source": [
        "#@title\n",
        "print('Let s1, s2 be test inputs.')\n",
        "\n",
        "s1 = \"\"\"\n",
        "class: 1-3 or 5-7\n",
        "row: 6-11 or 33-44\n",
        "seat: 13-40 or 45-50\n",
        "\n",
        "your ticket:\n",
        "7,1,14\n",
        "\n",
        "nearby tickets:\n",
        "7,3,47\n",
        "40,4,50\n",
        "55,2,20\n",
        "38,6,12\n",
        "\"\"\"\n",
        "\n",
        "s2 = \"\"\"\n",
        "class: 0-1 or 4-19\n",
        "row: 0-5 or 8-19\n",
        "seat: 0-13 or 16-19\n",
        "\n",
        "your ticket:\n",
        "11,12,13\n",
        "\n",
        "nearby tickets:\n",
        "3,9,18\n",
        "15,1,5\n",
        "5,14,9\n",
        "\"\"\""
      ],
      "execution_count": 85,
      "outputs": [
        {
          "output_type": "stream",
          "text": [
            "Let s1, s2 be test inputs.\n"
          ],
          "name": "stdout"
        }
      ]
    },
    {
      "cell_type": "code",
      "metadata": {
        "colab": {
          "base_uri": "https://localhost:8080/"
        },
        "id": "hXhE0vOCOKZN",
        "outputId": "0cc71930-a468-49d8-e5b5-be170a809fef"
      },
      "source": [
        "def read_rules_and_tickets(s):\n",
        "  s_rules, s_my_ticket, s_nearby = s.strip('\\n').split('\\n\\n')\n",
        "\n",
        "  def read_rules():\n",
        "    for line in s_rules.splitlines():\n",
        "      name, ranges = line.split(': ')\n",
        "      ranges = ranges.split(' or ')\n",
        "      yield (name, [tuple(map(int, range.split('-'))) for range in ranges])\n",
        "\n",
        "  line, = s_my_ticket.splitlines()[1:]\n",
        "  my_ticket = list(map(int, line.split(',')))\n",
        "\n",
        "  def read_tickets():\n",
        "    for line in s_nearby.splitlines()[1:]:\n",
        "      fields = list(map(int, line.split(',')))\n",
        "      yield fields\n",
        "\n",
        "  return read_rules, my_ticket, read_tickets\n",
        "\n",
        "\n",
        "def value_ok_for_some_rule(value, rules):\n",
        "  return any(range[0] <= value <= range[1] \n",
        "             for ranges in rules.values() for range in ranges)\n",
        "\n",
        "\n",
        "def process1(s):\n",
        "  read_rules, unused_my_ticket, read_tickets = read_rules_and_tickets(s)\n",
        "  rules = dict(read_rules())\n",
        "  sum_invalid_values = 0\n",
        "  for fields in read_tickets():\n",
        "    for value in fields:\n",
        "      if not value_ok_for_some_rule(value, rules):\n",
        "        sum_invalid_values += value\n",
        "  return sum_invalid_values\n",
        "\n",
        "\n",
        "check_eq(process1(s1), 71)\n",
        "puzzle.verify(1, process1)"
      ],
      "execution_count": 86,
      "outputs": [
        {
          "output_type": "stream",
          "text": [
            "(Part 1: 0.007 s)\n"
          ],
          "name": "stdout"
        }
      ]
    },
    {
      "cell_type": "markdown",
      "metadata": {
        "id": "2Rw06E2hYJ2a"
      },
      "source": [
        "Part 2"
      ]
    },
    {
      "cell_type": "code",
      "metadata": {
        "id": "6KwUNK8O6WN-",
        "colab": {
          "base_uri": "https://localhost:8080/"
        },
        "outputId": "58d4ad54-2074-4362-eda4-3f20b620df33"
      },
      "source": [
        "def process2(s):\n",
        "  read_rules, my_ticket, read_tickets = read_rules_and_tickets(s)\n",
        "  rules = dict(read_rules())\n",
        "  valid_tickets = [\n",
        "      fields for fields in read_tickets()\n",
        "      if all(value_ok_for_some_rule(value, rules) for value in fields)\n",
        "  ]\n",
        "  num_rules, num_fields = len(rules), len(valid_tickets[0])\n",
        "  check_eq(num_rules, num_fields)\n",
        "\n",
        "  def is_compatible(rule, field_index):\n",
        "    ranges = rules[rule]\n",
        "    return all(\n",
        "        any(range[0] <= ticket[field_index] <= range[1] for range in ranges)\n",
        "        for ticket in valid_tickets\n",
        "    )\n",
        "\n",
        "  grid = np.empty((num_rules, num_fields), dtype=np.bool)\n",
        "  # Computational bottleneck; could let rules.values() be array and use numba.\n",
        "  for rule_index, rule in enumerate(rules):\n",
        "    for field_index in range(num_fields):\n",
        "      grid[rule_index, field_index] = is_compatible(rule, field_index)\n",
        "\n",
        "  column_of_rule = {}\n",
        "  row_sums = np.sum(grid, axis=1)\n",
        "  while np.any(row_sums):\n",
        "    row = np.nonzero(row_sums == 1)[0][0]\n",
        "    col = np.nonzero(grid[row] == 1)[0][0]\n",
        "    rule = list(rules)[row]\n",
        "    column_of_rule[rule] = col\n",
        "    row_sums -= grid[:, col]\n",
        "    grid[:, col] = 0\n",
        "  values = [my_ticket[column_of_rule[rule]] for rule in rules\n",
        "            if rule.startswith('departure')]\n",
        "  check_eq(len(values), 6)\n",
        "  return np.prod(values)\n",
        "\n",
        "\n",
        "puzzle.verify(2, process2)"
      ],
      "execution_count": 87,
      "outputs": [
        {
          "output_type": "stream",
          "text": [
            "(Part 2: 0.059 s)\n"
          ],
          "name": "stdout"
        }
      ]
    },
    {
      "cell_type": "markdown",
      "metadata": {
        "id": "gtbnA6Tu-dGn"
      },
      "source": [
        "<a name=\"day17\"></a>\n",
        "## Day 17: Game of life in 3D and 4D"
      ]
    },
    {
      "cell_type": "markdown",
      "metadata": {
        "id": "mGN11x0HZx_6"
      },
      "source": [
        "Given an initial 2D grid of cell states, simulate a cellular automaton on a higher-dimensional grid.  An inactive grid cell becomes active if exactly 3 of its neighbors is active, and an active grid cell becomes inactive unless 2 or 3 of its neighbors is active.  (Each cell has 26 neighbors in 3D and 80 neighbors in 4D.)\n",
        "\n",
        "- Part 1: Run the cellular automaton in 3D for 6 generations and report the number of active cells.\n",
        "\n",
        "- Part 2: Do the same in 4D."
      ]
    },
    {
      "cell_type": "code",
      "metadata": {
        "id": "pbYNL9pU-dGn",
        "colab": {
          "base_uri": "https://localhost:8080/"
        },
        "outputId": "56bbdba6-660e-4fc7-a615-1986c2c39165"
      },
      "source": [
        "puzzle = advent.puzzle(17)"
      ],
      "execution_count": 88,
      "outputs": [
        {
          "output_type": "stream",
          "text": [
            "For day 17, puzzle.input has 8 lines:\n",
            ".......#\n",
            "....#...\n",
            "...###.#\n",
            "#...###.\n",
            "....##..\n",
            "##.#..#.\n",
            "###.#.#.\n",
            "....#...\n",
            "And the stored answers are: {1: 232, 2: 1620}\n"
          ],
          "name": "stdout"
        }
      ]
    },
    {
      "cell_type": "code",
      "metadata": {
        "id": "iyH3cz1t6d_9"
      },
      "source": [
        "s1 = \"\"\"\n",
        ".#.\n",
        "..#\n",
        "###\n",
        "\"\"\""
      ],
      "execution_count": 89,
      "outputs": []
    },
    {
      "cell_type": "code",
      "metadata": {
        "id": "N2rufCY8ukMM"
      },
      "source": [
        "# Both of the solutions below work in arbitrary dimension!"
      ],
      "execution_count": 90,
      "outputs": []
    },
    {
      "cell_type": "code",
      "metadata": {
        "id": "l0P-Z-ekupYj",
        "colab": {
          "base_uri": "https://localhost:8080/"
        },
        "outputId": "8139ae32-3bc5-402b-8e11-38b995d30157"
      },
      "source": [
        "# Slower code:\n",
        "def process(s, num_cycles=6, dim=3):\n",
        "  lines = s.strip('\\n').splitlines()\n",
        "  indices = {\n",
        "      (0,) * (dim - 2) + (y, x)\n",
        "      for y, line in enumerate(lines) for x, ch in enumerate(line)\n",
        "      if ch == '#'\n",
        "  }\n",
        "  offsets = set(itertools.product((-1, 0, 1), repeat=dim)) - {(0,) * dim}\n",
        "\n",
        "  def neighbors(index):\n",
        "    for offset in offsets:\n",
        "      yield tuple(map(sum, zip(index, offset)))\n",
        "\n",
        "  def count_neighbors(index):\n",
        "    return sum(neighbor in indices for neighbor in neighbors(index))\n",
        "\n",
        "  for _ in range(num_cycles):\n",
        "    survivors = {index for index in indices if 2 <= count_neighbors(index) <= 3}\n",
        "    adjacents = {neighbor for index in indices for neighbor in neighbors(index)}\n",
        "    births = {index for index in adjacents if count_neighbors(index) == 3}\n",
        "    indices = survivors | births\n",
        "\n",
        "  return len(indices)\n",
        "\n",
        "\n",
        "check_eq(process(s1), 112)\n",
        "puzzle.verify(1, process)"
      ],
      "execution_count": 91,
      "outputs": [
        {
          "output_type": "stream",
          "text": [
            "(Part 1: 0.144 s)\n"
          ],
          "name": "stdout"
        }
      ]
    },
    {
      "cell_type": "code",
      "metadata": {
        "colab": {
          "base_uri": "https://localhost:8080/"
        },
        "id": "wfDzi7fCbT0Y",
        "outputId": "1091bae2-6d5f-431c-d2b1-2ffbbdd9f222"
      },
      "source": [
        "# Faster code:\n",
        "def process(s, num_cycles=6, dim=3):\n",
        "  lines = s.strip('\\n').splitlines()\n",
        "  indices = {\n",
        "      (0,) * (dim - 2) + (y, x)\n",
        "      for y, line in enumerate(lines) for x, ch in enumerate(line)\n",
        "      if ch == '#'\n",
        "  }\n",
        "  offsets = set(itertools.product((-1, 0, 1), repeat=dim)) - {(0,) * dim}\n",
        "\n",
        "  def neighbors(index):\n",
        "    i = index\n",
        "    if dim == 3:  # faster\n",
        "      for o in offsets:\n",
        "        yield i[0] + o[0], i[1] + o[1], i[2] + o[2]\n",
        "    elif dim == 4:  # faster\n",
        "      for o in offsets:\n",
        "        yield i[0] + o[0], i[1] + o[1], i[2] + o[2], i[3] + o[3]\n",
        "    else:\n",
        "      for o in offsets:\n",
        "        yield tuple(map(sum, zip(i, o)))\n",
        "\n",
        "  for _ in range(num_cycles):\n",
        "    # Adapted from collections.Counter() algorithm in \n",
        "    # https://github.com/norvig/pytudes/blob/master/ipynb/Advent-2020.ipynb\n",
        "    neighbor_counts = collections.Counter(\n",
        "        itertools.chain.from_iterable(neighbors(index) for index in indices))\n",
        "    indices = {index for index, count in neighbor_counts.items()\n",
        "               if count == 3 or (count == 2 and index in indices)}\n",
        "\n",
        "  return len(indices)\n",
        "\n",
        "\n",
        "check_eq(process(s1), 112)\n",
        "puzzle.verify(1, process)"
      ],
      "execution_count": 92,
      "outputs": [
        {
          "output_type": "stream",
          "text": [
            "(Part 1: 0.010 s)\n"
          ],
          "name": "stdout"
        }
      ]
    },
    {
      "cell_type": "markdown",
      "metadata": {
        "id": "gW1OyKC36fXf"
      },
      "source": [
        "Part 2"
      ]
    },
    {
      "cell_type": "code",
      "metadata": {
        "colab": {
          "base_uri": "https://localhost:8080/"
        },
        "id": "0aHE0rdXOSHQ",
        "outputId": "3d5cdad0-ec54-47e9-da3f-9d9dc5c02c61"
      },
      "source": [
        "process2 = functools.partial(process, dim=4)\n",
        "check_eq(process2(s1), 848)\n",
        "puzzle.verify(2, process2)"
      ],
      "execution_count": 93,
      "outputs": [
        {
          "output_type": "stream",
          "text": [
            "(Part 2: 0.199 s)\n"
          ],
          "name": "stdout"
        }
      ]
    },
    {
      "cell_type": "code",
      "metadata": {
        "colab": {
          "base_uri": "https://localhost:8080/"
        },
        "id": "JaReGZZ7weLS",
        "outputId": "ff12a35c-1281-4ab0-b1eb-e3cb24618294"
      },
      "source": [
        "def show_num_active_in_each_generation_for_2d_3d_4d():\n",
        "  for dim in range(2, 5):\n",
        "    print(dim, [process(puzzle.input, n, dim) for n in range(6)])\n",
        "\n",
        "show_num_active_in_each_generation_for_2d_3d_4d()"
      ],
      "execution_count": 94,
      "outputs": [
        {
          "output_type": "stream",
          "text": [
            "2 [22, 17, 23, 24, 28, 27]\n",
            "3 [22, 39, 50, 84, 140, 173]\n",
            "4 [22, 105, 144, 652, 372, 1796]\n"
          ],
          "name": "stdout"
        }
      ]
    },
    {
      "cell_type": "markdown",
      "metadata": {
        "id": "HNOZW8Ax-dQy"
      },
      "source": [
        "<a name=\"day18\"></a>\n",
        "## Day 18: Parsing math expression"
      ]
    },
    {
      "cell_type": "markdown",
      "metadata": {
        "id": "6-QdRn_Rb7kR"
      },
      "source": [
        "Given a list of mathematical expressions with additions, multiplications, and parantheses, evaluate each expression and report the sum of resulting values.\n",
        "\n",
        "- Part 1: Operators `+` and `*` have equal precedence and are applied left-to-right.\n",
        "\n",
        "- Part 2: Operator `+` has higher precedence than `*` (which is unusual)."
      ]
    },
    {
      "cell_type": "code",
      "metadata": {
        "id": "YvZH2Qku-dQy",
        "colab": {
          "base_uri": "https://localhost:8080/"
        },
        "outputId": "6a8d1819-249a-4159-fc79-888c8742ccc0"
      },
      "source": [
        "puzzle = advent.puzzle(18)"
      ],
      "execution_count": 95,
      "outputs": [
        {
          "output_type": "stream",
          "text": [
            "For day 18, puzzle.input has 380 lines:\n",
            "7 + (9 * 8 + 5 + 5 * (3 * 4 * 7 + 6 * 4)) * ((3 * 6 + 3 * 4 * 7 * 4) + 4 * 3 * 5 + 5 * (5 * 6 + 7)) * 2 + 6 * 4\n",
            "9 * 4 * ((9 * 8 + 9 + 2 + 9) + 2 * 9 + 2 + 2) * 5 * 6\n",
            "3 * ((9 * 3 * 8 * 6 * 6 * 7) + 8) * 2 * 9 + 4 * 8\n",
            "(3 + 4 + 4 * 4 + 9) + (7 + 6 + 2 * 8) * 9 + 7 * 8\n",
            "9 + 6 + 6 + 9 * 9 * 5\n",
            "(3 * 5 + (4 + 3 * 7 * 8) + 7 + 8 + 2) * 8 * (3 * 4 * 8) * ((4 + 5 * 2) * 7)\n",
            "6 + (5 + 8 * (6 * 8 * 9 + 9 + 8 * 9) * 4 + (5 * 9)) * 2 + 2\n",
            "(6 + 8 + (6 * 6 + 2) * 6 * (7 + 7 + 8 + 9)) * 3 + 8 + (6 * (8 + 8 + 9)) + 2\n",
            " ...\n",
            "5 * 8 + (7 + 2 + 6) * (8 + 2 + 8 + 4 + 9) + (5 * 6 * 6 * 3) + 8\n",
            "6 + (7 * 4 + 4 * 7 + 3 * 7) + 9 + 5 * 7 * 5\n",
            "3 + 2 + 8 + (4 + 9 * 4 * 2 + (9 * 9 + 9 + 5) * 5) + 6\n",
            "3 * 9 * 4 * (5 * 4 * (8 + 3))\n",
            "And the stored answers are: {1: 4940631886147, 2: 283582817678281}\n"
          ],
          "name": "stdout"
        }
      ]
    },
    {
      "cell_type": "code",
      "metadata": {
        "id": "EHeqe3fA-dQy",
        "colab": {
          "base_uri": "https://localhost:8080/"
        },
        "outputId": "23148c79-e836-48f8-8f4d-074a5cb77273"
      },
      "source": [
        "# Slower, more readable version with many assertions:\n",
        "def process(strings, part2=False):\n",
        "\n",
        "  def evaluate_line(s):\n",
        "\n",
        "    def parse_term(i):\n",
        "      if s[i] == '(':\n",
        "        value, i = parse_sequence(i + 1)\n",
        "        check_eq(s[i], ')')\n",
        "        return value, i + 1\n",
        "      if s[i].isdigit():\n",
        "        value = int(s[i])\n",
        "        return value, i + 1\n",
        "      raise AssertionError\n",
        "\n",
        "    def parse_sequence(i):\n",
        "      value, i = parse_term(i)\n",
        "      while i < len(s) and s[i] != ')':\n",
        "        check_eq(s[i], ' ')\n",
        "        check_eq(s[i + 2], ' ')\n",
        "        if s[i + 1] == '+':\n",
        "          value2, i = parse_term(i + 3)\n",
        "          value += value2\n",
        "        elif s[i + 1] == '*':\n",
        "          value2, i = (parse_sequence if part2 else parse_term)(i + 3)\n",
        "          value *= value2\n",
        "        else:\n",
        "          raise AssertionError\n",
        "      return value, i\n",
        "\n",
        "    value, i = parse_sequence(0)\n",
        "    check_eq(i, len(s))\n",
        "    return value\n",
        "\n",
        "  return sum(evaluate_line(s) for s in strings.splitlines())\n",
        "\n",
        "puzzle.verify(1, process)\n",
        "\n",
        "process2 = functools.partial(process, part2=True)\n",
        "puzzle.verify(2, process2)"
      ],
      "execution_count": 96,
      "outputs": [
        {
          "output_type": "stream",
          "text": [
            "(Part 1: 0.054 s)\n",
            "(Part 2: 0.060 s)\n"
          ],
          "name": "stdout"
        }
      ]
    },
    {
      "cell_type": "code",
      "metadata": {
        "id": "yWEVQRq560AZ",
        "colab": {
          "base_uri": "https://localhost:8080/"
        },
        "outputId": "02b8c580-72fb-452a-a09a-1bd283afe2b5"
      },
      "source": [
        "# Compact faster version:\n",
        "def process(strings, part2=False):\n",
        "\n",
        "  def evaluate_line(s):\n",
        "\n",
        "    def eval_term(i):\n",
        "      return eval_seq(i + 1, eat=1) if s[i] == '(' else (int(s[i]), i + 1)\n",
        "\n",
        "    def eval_seq(i, eat=0):\n",
        "      value, i = eval_term(i)\n",
        "      while i < len(s) and s[i] != ')':\n",
        "        is_mul = s[i + 1] == '*'\n",
        "        value2, i = (eval_seq if part2 and is_mul else eval_term)(i + 3)\n",
        "        value = value * value2 if is_mul else value + value2\n",
        "      return value, i + eat\n",
        "\n",
        "    return eval_seq(0)[0]\n",
        "\n",
        "  return sum(evaluate_line(s) for s in strings.strip('\\n').splitlines())\n",
        "\n",
        "\n",
        "check_eq(process('1 + 2 * 3 + 4 * 5 + 6'), 71)\n",
        "check_eq(process('1 + (2 * 3) + (4 * (5 + 6))'), 51)\n",
        "check_eq(process('2 * 3 + (4 * 5)'), 26)\n",
        "check_eq(process('5 + (8 * 3 + 9 + 3 * 4 * 3)'), 437)\n",
        "check_eq(process('5 * 9 * (7 * 3 * 3 + 9 * 3 + (8 + 6 * 4))'), 12240)\n",
        "check_eq(process('((2 + 4 * 9) * (6 + 9 * 8 + 6) + 6) + 2 + 4 * 2'), 13632)\n",
        "\n",
        "puzzle.verify(1, process)"
      ],
      "execution_count": 97,
      "outputs": [
        {
          "output_type": "stream",
          "text": [
            "(Part 1: 0.004 s)\n"
          ],
          "name": "stdout"
        }
      ]
    },
    {
      "cell_type": "code",
      "metadata": {
        "id": "k_znXBfN-dQy",
        "colab": {
          "base_uri": "https://localhost:8080/"
        },
        "outputId": "bbe36ba6-869d-460b-b21e-aaf7e871312d"
      },
      "source": [
        "process2 = functools.partial(process, part2=True)\n",
        "\n",
        "check_eq(process2('1 + 2 * 3 + 4 * 5 + 6'), 231)\n",
        "check_eq(process2('1 + (2 * 3) + (4 * (5 + 6))'), 51)\n",
        "check_eq(process2('2 * 3 + (4 * 5)'), 46)\n",
        "check_eq(process2('5 + (8 * 3 + 9 + 3 * 4 * 3)'), 1445)\n",
        "check_eq(process2('5 * 9 * (7 * 3 * 3 + 9 * 3 + (8 + 6 * 4))'), 669060)\n",
        "check_eq(process2('((2 + 4 * 9) * (6 + 9 * 8 + 6) + 6) + 2 + 4 * 2'), 23340)\n",
        "\n",
        "puzzle.verify(2, process2)"
      ],
      "execution_count": 98,
      "outputs": [
        {
          "output_type": "stream",
          "text": [
            "(Part 2: 0.008 s)\n"
          ],
          "name": "stdout"
        }
      ]
    },
    {
      "cell_type": "markdown",
      "metadata": {
        "id": "c56vcfk3-dcD"
      },
      "source": [
        "<a name=\"day19\"></a>\n",
        "## Day 19: Message grammar"
      ]
    },
    {
      "cell_type": "markdown",
      "metadata": {
        "id": "RAvwjbvGdP65"
      },
      "source": [
        "Given a set of context-free grammar rules and a set of words, report the number of words that are expressible in the grammar.\n",
        "\n",
        "- Part 1: Use the initial grammar rules, which do not have cycles.\n",
        "\n",
        "- Part 2: Replace two of the grammar rules, thereby introducing cycles."
      ]
    },
    {
      "cell_type": "code",
      "metadata": {
        "id": "OS8_aWxv-dcD",
        "colab": {
          "base_uri": "https://localhost:8080/"
        },
        "outputId": "c57d3c06-2ff2-4080-f2db-a24785f13af5"
      },
      "source": [
        "puzzle = advent.puzzle(19)"
      ],
      "execution_count": 99,
      "outputs": [
        {
          "output_type": "stream",
          "text": [
            "For day 19, puzzle.input has 583 lines:\n",
            "26: 97 126 | 123 57\n",
            "122: 84 97 | 92 123\n",
            "82: 97 138 | 123 130\n",
            "80: 131 97\n",
            "3: 123 107 | 97 66\n",
            "101: 1 123 | 95 97\n",
            "10: 97 138 | 123 107\n",
            "83: 123 27 | 97 12\n",
            " ...\n",
            "abaabababbbbbabababbabbaaaabbbba\n",
            "baaaababbbabbbbaaababbab\n",
            "bbbabbabaabbaabbabbaaabb\n",
            "abaaaababaabbbbabbbbbbbbaaaaaaaababaaaabbbaaaaaabbbbaaabbbbababb\n",
            "And the stored answers are: {1: 198, 2: 372}\n"
          ],
          "name": "stdout"
        }
      ]
    },
    {
      "cell_type": "code",
      "metadata": {
        "id": "dDfUDTg6-dcD",
        "colab": {
          "base_uri": "https://localhost:8080/"
        },
        "cellView": "form",
        "outputId": "af007ab4-d25a-41ab-d9b1-abf26bada271"
      },
      "source": [
        "#@title\n",
        "print('Let s1, s2 be test inputs.')\n",
        "\n",
        "s1 = \"\"\"\n",
        "0: 4 1 5\n",
        "1: 2 3 | 3 2\n",
        "2: 4 4 | 5 5\n",
        "3: 4 5 | 5 4\n",
        "4: \"a\"\n",
        "5: \"b\"\n",
        "\n",
        "ababbb\n",
        "bababa\n",
        "abbbab\n",
        "aaabbb\n",
        "aaaabbb\n",
        "\"\"\"\n",
        "\n",
        "s2 = \"\"\"\n",
        "42: 9 14 | 10 1\n",
        "9: 14 27 | 1 26\n",
        "10: 23 14 | 28 1\n",
        "1: \"a\"\n",
        "11: 42 31\n",
        "5: 1 14 | 15 1\n",
        "19: 14 1 | 14 14\n",
        "12: 24 14 | 19 1\n",
        "16: 15 1 | 14 14\n",
        "31: 14 17 | 1 13\n",
        "6: 14 14 | 1 14\n",
        "2: 1 24 | 14 4\n",
        "0: 8 11\n",
        "13: 14 3 | 1 12\n",
        "15: 1 | 14\n",
        "17: 14 2 | 1 7\n",
        "23: 25 1 | 22 14\n",
        "28: 16 1\n",
        "4: 1 1\n",
        "20: 14 14 | 1 15\n",
        "3: 5 14 | 16 1\n",
        "27: 1 6 | 14 18\n",
        "14: \"b\"\n",
        "21: 14 1 | 1 14\n",
        "25: 1 1 | 1 14\n",
        "22: 14 14\n",
        "8: 42\n",
        "26: 14 22 | 1 20\n",
        "18: 15 15\n",
        "7: 14 5 | 1 21\n",
        "24: 14 1\n",
        "\n",
        "abbbbbabbbaaaababbaabbbbabababbbabbbbbbabaaaa\n",
        "bbabbbbaabaabba\n",
        "babbbbaabbbbbabbbbbbaabaaabaaa\n",
        "aaabbbbbbaaaabaababaabababbabaaabbababababaaa\n",
        "bbbbbbbaaaabbbbaaabbabaaa\n",
        "bbbababbbbaaaaaaaabbababaaababaabab\n",
        "ababaaaaaabaaab\n",
        "ababaaaaabbbaba\n",
        "baabbaaaabbaaaababbaababb\n",
        "abbbbabbbbaaaababbbbbbaaaababb\n",
        "aaaaabbaabaaaaababaa\n",
        "aaaabbaaaabbaaa\n",
        "aaaabbaabbaaaaaaabbbabbbaaabbaabaaa\n",
        "babaaabbbaaabaababbaabababaaab\n",
        "aabbbbbaabbbaaaaaabbbbbababaaaaabbaaabba\n",
        "\"\"\""
      ],
      "execution_count": 100,
      "outputs": [
        {
          "output_type": "stream",
          "text": [
            "Let s1, s2 be test inputs.\n"
          ],
          "name": "stdout"
        }
      ]
    },
    {
      "cell_type": "code",
      "metadata": {
        "id": "9goN2Yg2Ylew",
        "colab": {
          "base_uri": "https://localhost:8080/"
        },
        "outputId": "fe610d08-ab5a-46db-bede-fa2ffe77f8f5"
      },
      "source": [
        "# Compact code:\n",
        "def process(s, part2=False):\n",
        "  section1, section2 = s.strip('\\n').split('\\n\\n')\n",
        "  rules = dict(line.split(': ') for line in section1.splitlines())\n",
        "  if part2:\n",
        "    rules.update({'8': '42 | 42 8', '11': '42 31 | 42 11 31'})\n",
        "\n",
        "  def valid_expansion(symbols, text):\n",
        "    if not symbols or not text:\n",
        "      return not symbols and not text\n",
        "    expansions = rules[symbols[0]]\n",
        "    if expansions[0] == '\"':\n",
        "      return expansions[1] == text[0] and valid_expansion(symbols[1:], text[1:])\n",
        "    return any(valid_expansion(expansion.split() + symbols[1:], text)\n",
        "               for expansion in expansions.split(' | '))\n",
        "\n",
        "  return sum(valid_expansion(['0'], text) for text in section2.splitlines())\n",
        "\n",
        "\n",
        "check_eq(process(s1), 2)\n",
        "puzzle.verify(1, process)\n",
        "\n",
        "process2 = functools.partial(process, part2=True)\n",
        "check_eq(process2(s2), 12)\n",
        "puzzle.verify(2, process2)"
      ],
      "execution_count": 101,
      "outputs": [
        {
          "output_type": "stream",
          "text": [
            "(Part 1: 0.105 s)\n",
            "(Part 2: 0.454 s)\n"
          ],
          "name": "stdout"
        }
      ]
    },
    {
      "cell_type": "code",
      "metadata": {
        "colab": {
          "base_uri": "https://localhost:8080/"
        },
        "id": "MY1l556e0GY2",
        "outputId": "a61047dc-1c7b-46fb-f2a8-b7d5b6a36d45"
      },
      "source": [
        "# Faster code:\n",
        "def process(s, part2=False):\n",
        "  section1, section2 = s.strip('\\n').split('\\n\\n')\n",
        "  rules = {\n",
        "      int(symbol): (rhs[1] if rhs[0] == '\"' else\n",
        "                    tuple(tuple(map(int, s.split())) for s in rhs.split(' | ')))\n",
        "      for line in section1.splitlines()\n",
        "      for symbol, rhs in (line.split(': '),)\n",
        "  }\n",
        "  if part2:\n",
        "    # We are fortunate that in both modified rules, there is a symbol to the\n",
        "    # left of the recursion, which forces the consumption of a character.\n",
        "    rules.update({8: ((42,), (42, 8)), 11: ((42, 31), (42, 11, 31))})\n",
        "\n",
        "  def valid_expansion(symbols, text):\n",
        "    while True:\n",
        "      if not symbols:\n",
        "        return not text\n",
        "      if not text:\n",
        "        return False\n",
        "      expansions = rules[symbols[0]]\n",
        "      if isinstance(expansions, str):\n",
        "        if expansions != text[0]:\n",
        "          return False\n",
        "        symbols, text = symbols[1:], text[1:]\n",
        "        continue\n",
        "      return any(valid_expansion(expansion + symbols[1:], text)\n",
        "                for expansion in expansions)\n",
        "\n",
        "  return sum(valid_expansion((0,), text) for text in section2.splitlines())\n",
        "\n",
        "\n",
        "check_eq(process(s1), 2)\n",
        "puzzle.verify(1, process)\n",
        "\n",
        "process2 = functools.partial(process, part2=True)\n",
        "check_eq(process2(s2), 12)\n",
        "puzzle.verify(2, process2)"
      ],
      "execution_count": 102,
      "outputs": [
        {
          "output_type": "stream",
          "text": [
            "(Part 1: 0.071 s)\n",
            "(Part 2: 0.343 s)\n"
          ],
          "name": "stdout"
        }
      ]
    },
    {
      "cell_type": "markdown",
      "metadata": {
        "id": "59zy45w3-dmm"
      },
      "source": [
        "<a name=\"day20\"></a>\n",
        "## Day 20: Dragons in grid of tiles"
      ]
    },
    {
      "cell_type": "markdown",
      "metadata": {
        "id": "1cpjHakteKin"
      },
      "source": [
        "Given a set of numbered 2D image tiles with binary values, assemble these tiles using rotations and flips into a 2D grid such that adjacent tiles have matching boundary values.\n",
        "\n",
        "- Part 1: Return the product of the tile numbers for the 4 tiles that lie at the corners of the assembled 2D grid.\n",
        "\n",
        "- Part 2: Given a 2D mask (\"dragon\"), find all possible locations for this mask (including rotations and flips) such that all active values in the mask are also active in the assembled grid.  Report the number of active grid nodes which are not covered by any found mask instance."
      ]
    },
    {
      "cell_type": "code",
      "metadata": {
        "id": "5rf3fPOk-dmm",
        "colab": {
          "base_uri": "https://localhost:8080/"
        },
        "outputId": "90dcab09-2816-4531-f8c3-71b42fcf2394"
      },
      "source": [
        "puzzle = advent.puzzle(20)"
      ],
      "execution_count": 103,
      "outputs": [
        {
          "output_type": "stream",
          "text": [
            "For day 20, puzzle.input has 1727 lines:\n",
            "Tile 2789:\n",
            ".#..#...##\n",
            "##...#....\n",
            "#.#.##..#.\n",
            ".#.##.##.#\n",
            "....#....#\n",
            "#.#......#\n",
            ".....#....\n",
            " ...\n",
            "..#......#\n",
            "#......#.#\n",
            "..#.....#.\n",
            ".#.#.##.##\n",
            "And the stored answers are: {1: 18449208814679, 2: 1559}\n"
          ],
          "name": "stdout"
        }
      ]
    },
    {
      "cell_type": "code",
      "metadata": {
        "id": "4BGOjHl3-dmm",
        "colab": {
          "base_uri": "https://localhost:8080/"
        },
        "cellView": "form",
        "outputId": "76dbbc18-4cf8-4447-fec6-07b974dc0191"
      },
      "source": [
        "#@title\n",
        "\n",
        "print('Let s1 be a test input.')\n",
        "\n",
        "s1 = \"\"\"\n",
        "Tile 2311:\n",
        "..##.#..#.\n",
        "##..#.....\n",
        "#...##..#.\n",
        "####.#...#\n",
        "##.##.###.\n",
        "##...#.###\n",
        ".#.#.#..##\n",
        "..#....#..\n",
        "###...#.#.\n",
        "..###..###\n",
        "\n",
        "Tile 1951:\n",
        "#.##...##.\n",
        "#.####...#\n",
        ".....#..##\n",
        "#...######\n",
        ".##.#....#\n",
        ".###.#####\n",
        "###.##.##.\n",
        ".###....#.\n",
        "..#.#..#.#\n",
        "#...##.#..\n",
        "\n",
        "Tile 1171:\n",
        "####...##.\n",
        "#..##.#..#\n",
        "##.#..#.#.\n",
        ".###.####.\n",
        "..###.####\n",
        ".##....##.\n",
        ".#...####.\n",
        "#.##.####.\n",
        "####..#...\n",
        ".....##...\n",
        "\n",
        "Tile 1427:\n",
        "###.##.#..\n",
        ".#..#.##..\n",
        ".#.##.#..#\n",
        "#.#.#.##.#\n",
        "....#...##\n",
        "...##..##.\n",
        "...#.#####\n",
        ".#.####.#.\n",
        "..#..###.#\n",
        "..##.#..#.\n",
        "\n",
        "Tile 1489:\n",
        "##.#.#....\n",
        "..##...#..\n",
        ".##..##...\n",
        "..#...#...\n",
        "#####...#.\n",
        "#..#.#.#.#\n",
        "...#.#.#..\n",
        "##.#...##.\n",
        "..##.##.##\n",
        "###.##.#..\n",
        "\n",
        "Tile 2473:\n",
        "#....####.\n",
        "#..#.##...\n",
        "#.##..#...\n",
        "######.#.#\n",
        ".#...#.#.#\n",
        ".#########\n",
        ".###.#..#.\n",
        "########.#\n",
        "##...##.#.\n",
        "..###.#.#.\n",
        "\n",
        "Tile 2971:\n",
        "..#.#....#\n",
        "#...###...\n",
        "#.#.###...\n",
        "##.##..#..\n",
        ".#####..##\n",
        ".#..####.#\n",
        "#..#.#..#.\n",
        "..####.###\n",
        "..#.#.###.\n",
        "...#.#.#.#\n",
        "\n",
        "Tile 2729:\n",
        "...#.#.#.#\n",
        "####.#....\n",
        "..#.#.....\n",
        "....#..#.#\n",
        ".##..##.#.\n",
        ".#.####...\n",
        "####.#.#..\n",
        "##.####...\n",
        "##..#.##..\n",
        "#.##...##.\n",
        "\n",
        "Tile 3079:\n",
        "#.#.#####.\n",
        ".#..######\n",
        "..#.......\n",
        "######....\n",
        "####.#..#.\n",
        ".#...#.##.\n",
        "#.#####.##\n",
        "..#.###...\n",
        "..#.......\n",
        "..#.###...\n",
        "\"\"\""
      ],
      "execution_count": 104,
      "outputs": [
        {
          "output_type": "stream",
          "text": [
            "Let s1 be a test input.\n"
          ],
          "name": "stdout"
        }
      ]
    },
    {
      "cell_type": "code",
      "metadata": {
        "id": "TE5os-0wp1Bv",
        "colab": {
          "base_uri": "https://localhost:8080/"
        },
        "outputId": "49a72014-671c-4f36-9af6-19daf2e7f437"
      },
      "source": [
        "def process(s, part2=False):\n",
        "  tiles = {int(t[5:9]): grid_from_string(t[11:]) \n",
        "           for t in s.strip('\\n').split('\\n\\n')}\n",
        "  n = int(len(tiles)**0.5)  # math.isqrt() in version 3.8\n",
        "  rotations = tuple(range(8))  # 4 proper rotations * 2 flips\n",
        "\n",
        "  def rotate(tile, rotation):\n",
        "    return np.rot90(tile if rotation < 4 else tile[::-1], rotation % 4)\n",
        "\n",
        "  def top_row(tile, rotation):\n",
        "    # return rotate(tile, rotation)[0]  # equivalent but slower\n",
        "    tile = tile if rotation < 4 else tile[::-1]\n",
        "    rotation = rotation % 4\n",
        "    return (tile[0] if rotation == 0 else tile[:, -1] if rotation == 1 else\n",
        "            tile[-1, ::-1] if rotation == 2 else tile[::-1, 0])\n",
        "\n",
        "  # List of (index, rotation) for up to 2 tiles whose top row matches the key.\n",
        "  edge_list = collections.defaultdict(list)\n",
        "  for index, tile in tiles.items():\n",
        "    for rotation in rotations:\n",
        "      edge_list[tuple(top_row(tile, rotation))].append((index, rotation))\n",
        "\n",
        "  def is_corner(tile):  # A corner tile has 2 unique edges.\n",
        "    return sum(len(edge_list[tuple(top_row(tile, rotation))]) == 1\n",
        "               for rotation in rotations[:4]) == 2\n",
        "\n",
        "  corners = [index for index, tile in tiles.items() if is_corner(tile)]\n",
        "  assert len(corners) == 4  # Exactly four tiles must be at the corners.\n",
        "  if not part2:\n",
        "    return np.prod(corners)\n",
        "\n",
        "  # Place a first corner in the grid upper-left and determine its rotation.\n",
        "  index = corners[0]\n",
        "  tile = tiles[index]\n",
        "  rotation, _ = (rotation for rotation in rotations  # 2 solutions due to flip\n",
        "                 if (len(edge_list[tuple(rotate(tile, rotation)[0])]) == 1 and\n",
        "                     len(edge_list[tuple(rotate(tile, rotation)[:, 0])]) == 1))\n",
        "  layout = np.empty((n, n), dtype=object)\n",
        "  layout[0, 0] = (index, rotation)\n",
        "\n",
        "  def find(not_index, rot, desired):\n",
        "    \"Returns (index, rotation) of tile with top row matching desired after rot.\"\n",
        "    l = edge_list[tuple(desired)]\n",
        "    index, rotation = next(((index, rotation) for index, rotation in l\n",
        "                            if index != not_index))\n",
        "    return index, (rotation + rot) % 4 + rotation // 4 * 4\n",
        "\n",
        "  for y, x in np.ndindex(n, n):\n",
        "    if x > 0:\n",
        "      left_index, left_rotation = layout[y, x - 1]\n",
        "      desired_left = rotate(tiles[left_index], left_rotation)[::-1, -1]\n",
        "      layout[y, x] = find(left_index, 1, desired_left)\n",
        "    elif y > 0:\n",
        "      top_index, top_rotation = layout[y - 1, x]\n",
        "      desired_top = rotate(tiles[top_index], top_rotation)[-1, :]\n",
        "      layout[y, x] = find(top_index, 0, desired_top)\n",
        "\n",
        "  def block(y, x):\n",
        "    index, rotation = layout[y, x]\n",
        "    return rotate(tiles[index], rotation)[1:-1, 1:-1]\n",
        "\n",
        "  grid = np.block([[block(y, x) for x in range(n)] for y in range(n)])\n",
        "\n",
        "  pattern = '                  # #    ##    ##    ### #  #  #  #  #  #   '\n",
        "  pattern = np.array(list(pattern)).reshape(3, 20) == '#'\n",
        "\n",
        "  if 0:  # slower\n",
        "    pattern_indices = np.nonzero(pattern)\n",
        "    for rotation in rotations:\n",
        "      grid_view = rotate(grid, rotation)\n",
        "      for y, x in np.ndindex(*(np.array(grid_view.shape) - pattern.shape)):\n",
        "        subgrid_view = grid_view[y:, x:]\n",
        "        if np.all(subgrid_view[pattern_indices] != '.'):\n",
        "          subgrid_view[pattern_indices] = 'O'\n",
        "\n",
        "  elif 0:  # faster, using 1-d matching\n",
        "    grid_view_1d = grid.reshape(-1)\n",
        "    for rotation in rotations:\n",
        "      pattern_view = rotate(pattern, rotation)\n",
        "      pattern_indices = np.nonzero(pattern_view)\n",
        "      pattern_indices_1d = np.ravel_multi_index(pattern_indices, grid.shape)\n",
        "      for y, x in np.ndindex(*(np.array(grid.shape) - pattern_view.shape)):\n",
        "        subgrid_view_1d = grid_view_1d[y * grid.shape[1] + x:]\n",
        "        if np.all(subgrid_view_1d[pattern_indices_1d] != '.'):\n",
        "          subgrid_view_1d[pattern_indices_1d] = 'O'\n",
        "  \n",
        "  else:  # fastest, using 2d correlation\n",
        "    import scipy.signal\n",
        "    pattern_uint8 = pattern.astype(np.uint8)\n",
        "    grid_uint8 = (grid == '#').astype(np.uint8)\n",
        "    for rotation in rotations:\n",
        "      pattern_view = rotate(pattern_uint8, rotation)\n",
        "      pattern_indices = np.nonzero(pattern_view)\n",
        "      corr = scipy.signal.correlate2d(grid_uint8, pattern_view, mode='valid')\n",
        "      locations = np.moveaxis(np.nonzero(corr == np.sum(pattern_view)), 0, -1)\n",
        "      for y, x in locations:\n",
        "        grid[y:, x:][pattern_indices] = 'O'\n",
        "\n",
        "  return np.count_nonzero(grid == '#')\n",
        "\n",
        "\n",
        "check_eq(process(s1), 20899048083289)\n",
        "puzzle.verify(1, process)\n",
        "\n",
        "process2 = functools.partial(process, part2=True)\n",
        "check_eq(process2(s1), 273)\n",
        "puzzle.verify(2, process2)"
      ],
      "execution_count": 105,
      "outputs": [
        {
          "output_type": "stream",
          "text": [
            "(Part 1: 0.010 s)\n",
            "(Part 2: 0.032 s)\n"
          ],
          "name": "stdout"
        }
      ]
    },
    {
      "cell_type": "code",
      "metadata": {
        "id": "HgSyaeOYcsjM"
      },
      "source": [
        "# %prun [process2(puzzle.input) for _ in range(10)]"
      ],
      "execution_count": 106,
      "outputs": []
    },
    {
      "cell_type": "markdown",
      "metadata": {
        "id": "Lvu-gXKH-dwO"
      },
      "source": [
        "<a name=\"day21\"></a>\n",
        "## Day 21: Allergens in ingredients"
      ]
    },
    {
      "cell_type": "markdown",
      "metadata": {
        "id": "yWu1kcAggsXF"
      },
      "source": [
        "Given a set of foods, each containing a list of ingredients and a set of allergens contained in the ingredients, determine the ingredient corresponding to each allergen.  Each allergen is contained in at most one ingredient.  Some foods may fail to list all allergens.\n",
        "\n",
        "- Part 1: For each food, count the number of ingredients which cannot possibly contain allergens, and report the sum.\n",
        "\n",
        "- Part 2: Report the comma-separated list of ingredients which contain allergens, sorted in ascending order by the allergen name."
      ]
    },
    {
      "cell_type": "code",
      "metadata": {
        "id": "fs33AgEW-dwO",
        "colab": {
          "base_uri": "https://localhost:8080/"
        },
        "outputId": "89e38e8b-7c3b-45e4-d2e3-17e9ab473936"
      },
      "source": [
        "puzzle = advent.puzzle(21)"
      ],
      "execution_count": 107,
      "outputs": [
        {
          "output_type": "stream",
          "text": [
            "For day 21, puzzle.input has 42 lines:\n",
            "xfvxzl nfcrh kscdhn khnqq jkvcbf jhlvrg chc fk zbh hgrptqb zrvtg tdhv jhqpdf jvj ... mxbbst (contains shellfish, sesame)\n",
            "vxzpfp shlg zrvtg ghq vzn ppqs mqlnbjq cltpv pvxpgp psbnqz nqcmm sqjcsxjq xftxgf ... cbhfpzp khnqq dhqbf (contains fish)\n",
            "fzhmtds zbclt pbln qtgv bnl xqcb vxzpfp jkvcbf nnst tplrt xknj hzmvzrr xfvxzl gk ...  (contains sesame, fish, shellfish)\n",
            "ghq vfqh vtdbl bkmgx bxlc sbhdb xfvxzl lvdcdg nsktq hrjrm dbr prrfm dbqbv jbcjk  ... gpgql dpkkzdgs cjds (contains nuts)\n",
            "xknj bbbzcmh tzrp xkqgc ktfvb tplrt dqz ntq jbcjk pcnmbt nqcmm tlgchbh bxfvt nfs ... hlvrg fhznhmx (contains dairy, soy)\n",
            "strd dpdgc cjdnjf flmssjn xfpc mmdfrfcp gpp tqjg znkr mxbbst bbbzcmh jbvrzn cdsl ... mx xknh schkf (contains soy, wheat)\n",
            "gkgzn bndz dpkkzdgs nv nhjbd mqlnbjq khnqq ljpzx cfbgb xknj ddmg mkpmkx tgcvz nn ... trd tdhv fk tdsvx (contains sesame)\n",
            "gnfjcpc ddmg tpbtpd cltpv xfvxzl txr rmxzzf tgcvz jsdgn pgnk jrpx vbvfr vzn gbpl ... c dvzqx hcms zrvtg (contains dairy)\n",
            " ...\n",
            "nsktq ftkfc mdqlbx bxfvt vtdbl djldkx cljvdxp cpp ghzx sbhdb ppqs dvzqx zhpv kgr ... vrtf nnst dqrvvk (contains peanuts)\n",
            "fhznhmx khnm skrrb ckpjgb glxxp rzlkxt jrj mxsklfx mdqlbx mkpmkx xhb bkhjxl ttkn ... txr zgpv (contains fish, shellfish)\n",
            "cbhfpzp tmp rjnx dpdgc frv xflfx dbr fzhmtds kcgtlb msrnhf khnm hgrptqb tfgf xss ...  qhhsj (contains sesame, nuts, soy)\n",
            "flnhl gkddl jhqpdf jkvcbf xqcb gcbbnqb ddmg ppqs bnl jrpx cdslv bxlc tfgf msrnhf ... dqrvvk cltpv (contains wheat, nuts)\n",
            "And the stored answers are: {1: 2410, 2: 'tmp,pdpgm,cdslv,zrvtg,ttkn,mkpmkx,vxzpfp,flnhl'}\n"
          ],
          "name": "stdout"
        }
      ]
    },
    {
      "cell_type": "code",
      "metadata": {
        "id": "_2PTWdhB-dwP"
      },
      "source": [
        "s1 = \"\"\"\n",
        "mxmxvkd kfcds sqjhc nhms (contains dairy, fish)\n",
        "trh fvjkl sbzzf mxmxvkd (contains dairy)\n",
        "sqjhc fvjkl (contains soy)\n",
        "sqjhc mxmxvkd sbzzf (contains fish)\n",
        "\"\"\""
      ],
      "execution_count": 108,
      "outputs": []
    },
    {
      "cell_type": "code",
      "metadata": {
        "id": "ZiLL-vnZg7Nf",
        "colab": {
          "base_uri": "https://localhost:8080/"
        },
        "outputId": "e047f156-ed14-4c5f-a66b-664729ff9558"
      },
      "source": [
        "def process(s, part2=False):\n",
        "\n",
        "  def foods():\n",
        "    for line in s.strip('\\n').splitlines():\n",
        "      ingredients, allergens = line[:-1].split(' (contains ')\n",
        "      yield set(ingredients.split()), allergens.split(', ')\n",
        "\n",
        "  possibles_for_allergen = {}\n",
        "  for ingredients, allergens in foods():\n",
        "    for allergen in allergens:\n",
        "      if allergen not in possibles_for_allergen:\n",
        "        possibles_for_allergen[allergen] = ingredients.copy()\n",
        "      else:\n",
        "        possibles_for_allergen[allergen] &= ingredients\n",
        "\n",
        "  allergen_ingredient = {}\n",
        "  while possibles_for_allergen:\n",
        "    has_single_ingredient = lambda item: len(item[1]) == 1\n",
        "    allergen, ingredients = next(\n",
        "        filter(has_single_ingredient, possibles_for_allergen.items()))\n",
        "    ingredient = ingredients.pop()\n",
        "    allergen_ingredient[allergen] = ingredient\n",
        "    for ingredients2 in possibles_for_allergen.values():\n",
        "      ingredients2.discard(ingredient)\n",
        "    del possibles_for_allergen[allergen]\n",
        "\n",
        "  if not part2:\n",
        "    allergen_ingredients = set(list(allergen_ingredient.values()))\n",
        "    return sum(\n",
        "        len(ingredients - allergen_ingredients) for ingredients, _ in foods())\n",
        "\n",
        "  return ','.join(ingredient\n",
        "                  for _, ingredient in sorted(allergen_ingredient.items()))\n",
        "\n",
        "\n",
        "check_eq(process(s1), 5)\n",
        "puzzle.verify(1, process)\n",
        "\n",
        "process2 = functools.partial(process, part2=True)\n",
        "check_eq(process2(s1), 'mxmxvkd,sqjhc,fvjkl')\n",
        "puzzle.verify(2, process2)"
      ],
      "execution_count": 109,
      "outputs": [
        {
          "output_type": "stream",
          "text": [
            "(Part 1: 0.001 s)\n",
            "(Part 2: 0.001 s)\n"
          ],
          "name": "stdout"
        }
      ]
    },
    {
      "cell_type": "markdown",
      "metadata": {
        "id": "s6XjBYzo-d4k"
      },
      "source": [
        "<a name=\"day22\"></a>\n",
        "## Day 22: Recursive card game"
      ]
    },
    {
      "cell_type": "markdown",
      "metadata": {
        "id": "655GJ3XGiu_D"
      },
      "source": [
        "Given two hands of integer cards, simulate a card game of combat.  At each turn, the player with the largest front card places the two cards (higher card first) at the back of their hand.  A player that owns all cards wins.\n",
        "\n",
        "- Part 1: In the winner's hand, multiply each card value by its position (1 being rearmost), and report the sum of the result.\n",
        "\n",
        "- Part 2: Add extra rules.  If both players have at least as many cards remaining in their deck as their top card, the winner of the round is determined by playing a new game of Recursive Combat.  See the [website](https://adventofcode.com/2020/day/22) for details."
      ]
    },
    {
      "cell_type": "code",
      "metadata": {
        "id": "Z-p_WhaT-d4k",
        "colab": {
          "base_uri": "https://localhost:8080/"
        },
        "outputId": "5ad9d17f-0b7f-45de-a66a-ac0d93e7b428"
      },
      "source": [
        "puzzle = advent.puzzle(22)"
      ],
      "execution_count": 110,
      "outputs": [
        {
          "output_type": "stream",
          "text": [
            "For day 22, puzzle.input has 53 lines:\n",
            "Player 1:\n",
            "15\n",
            "31\n",
            "26\n",
            "4\n",
            "36\n",
            "30\n",
            "43\n",
            " ...\n",
            "37\n",
            "5\n",
            "1\n",
            "27\n",
            "And the stored answers are: {1: 32199, 2: 33780}\n"
          ],
          "name": "stdout"
        }
      ]
    },
    {
      "cell_type": "code",
      "metadata": {
        "id": "YQE7j-bd-d4k"
      },
      "source": [
        "s1 = \"\"\"\n",
        "Player 1:\n",
        "9\n",
        "2\n",
        "6\n",
        "3\n",
        "1\n",
        "\n",
        "Player 2:\n",
        "5\n",
        "8\n",
        "4\n",
        "7\n",
        "10\n",
        "\"\"\""
      ],
      "execution_count": 111,
      "outputs": []
    },
    {
      "cell_type": "code",
      "metadata": {
        "colab": {
          "base_uri": "https://localhost:8080/"
        },
        "id": "kWKveQ-OBmqD",
        "outputId": "d33274e9-55f0-411e-a88e-e0d1d1ae96bb"
      },
      "source": [
        "def process1(s):\n",
        "  hands = [collections.deque(map(int, s2.splitlines()[1:]))\n",
        "           for s2 in s.strip('\\n').split('\\n\\n')]\n",
        "\n",
        "  while hands[0] and hands[1]:\n",
        "    cards = hands[0].popleft(), hands[1].popleft()\n",
        "    winner = 0 if cards[0] > cards[1] else 1\n",
        "    hands[winner].extend([cards[winner], cards[1 - winner]])\n",
        "\n",
        "  return sum((i + 1) * card for i, card in enumerate(reversed(hands[winner])))\n",
        "\n",
        "\n",
        "check_eq(process1(s1), 306)\n",
        "puzzle.verify(1, process1)"
      ],
      "execution_count": 112,
      "outputs": [
        {
          "output_type": "stream",
          "text": [
            "(Part 1: 0.000 s)\n"
          ],
          "name": "stdout"
        }
      ]
    },
    {
      "cell_type": "markdown",
      "metadata": {
        "id": "jiPsX_E7lF4p"
      },
      "source": [
        "Part 2"
      ]
    },
    {
      "cell_type": "code",
      "metadata": {
        "id": "C6AZhL6-gkOq"
      },
      "source": [
        "# Slower code using deque:\n",
        "def process2(s):\n",
        "\n",
        "  def combat(hands):  # Returns (hands, winner)\n",
        "    visited = set()\n",
        "    while hands[0] and hands[1]:\n",
        "      state = (*hands[0], -1, *hands[1])\n",
        "      if state in visited:\n",
        "        return hands, 0  # player 1 is winner\n",
        "      visited.add(state)\n",
        "      cards = hands[0].popleft(), hands[1].popleft()\n",
        "      if len(hands[0]) >= cards[0] and len(hands[1]) >= cards[1]:\n",
        "        _, winner = combat([collections.deque(list(hands[0])[:cards[0]]),\n",
        "                            collections.deque(list(hands[1])[:cards[1]])])\n",
        "      else:\n",
        "        winner = 0 if cards[0] > cards[1] else 1\n",
        "      hands[winner].extend([cards[winner], cards[1 - winner]])\n",
        "\n",
        "    return hands, 0 if hands[0] else 1\n",
        "\n",
        "  hands = [collections.deque(map(int, s2.splitlines()[1:]))\n",
        "           for s2 in s.strip('\\n').split('\\n\\n')]\n",
        "  hands, winner = combat(hands)\n",
        "  return sum((i + 1) * card for i, card in enumerate(reversed(hands[winner])))\n",
        "\n",
        "\n",
        "check_eq(process2(s1), 291)"
      ],
      "execution_count": 113,
      "outputs": []
    },
    {
      "cell_type": "code",
      "metadata": {
        "colab": {
          "base_uri": "https://localhost:8080/"
        },
        "id": "I15rkdkHxQQU",
        "outputId": "ced6bbec-e984-4745-d558-2d3e1d037dd2"
      },
      "source": [
        "# Faster code using tuples:\n",
        "def process2(s):\n",
        "\n",
        "  def combat(hand0, hand1):\n",
        "    visited = set()\n",
        "    while True:\n",
        "      state = (hand0, hand1)\n",
        "      if state in visited:\n",
        "        return (0,), ()  # player 1 is winner\n",
        "      visited.add(state)\n",
        "      card0 = hand0[0]\n",
        "      card1 = hand1[0]\n",
        "      recurse = len(hand0) > card0 and len(hand1) > card1\n",
        "      if (combat(hand0[1:card0 + 1], hand1[1:card1 + 1])[0] if recurse\n",
        "          else card0 > card1):\n",
        "        hand0, hand1 = hand0[1:] + (card0, card1), hand1[1:]\n",
        "        if not hand1:\n",
        "          break\n",
        "      else:\n",
        "        hand0, hand1 = hand0[1:], hand1[1:] + (card1, card0)\n",
        "        if not hand0:\n",
        "          break\n",
        "    return hand0, hand1\n",
        "\n",
        "  hand0, hand1 = (tuple(map(int, s2.splitlines()[1:]))\n",
        "                  for s2 in s.strip('\\n').split('\\n\\n'))\n",
        "  hand0, hand1 = combat(hand0, hand1)\n",
        "  return sum((i + 1) * card for i, card in enumerate(reversed(hand0 + hand1)))\n",
        "\n",
        "\n",
        "check_eq(process2(s1), 291)\n",
        "puzzle.verify(2, process2)"
      ],
      "execution_count": 114,
      "outputs": [
        {
          "output_type": "stream",
          "text": [
            "(Part 2: 1.152 s)\n"
          ],
          "name": "stdout"
        }
      ]
    },
    {
      "cell_type": "code",
      "metadata": {
        "id": "AmQbDLMIzhMP"
      },
      "source": [
        "# %timeit -r8 process2(puzzle.input)"
      ],
      "execution_count": 115,
      "outputs": []
    },
    {
      "cell_type": "code",
      "metadata": {
        "id": "qoOEguT9lM7z"
      },
      "source": [
        "# Also tried:\n",
        "# - Created version which caches outcomes of states.  It is 1.7x slower,\n",
        "#    likely because there are too many possible states.\n",
        "# - Used separate recurse() function returning winner and no hands; no change."
      ],
      "execution_count": 116,
      "outputs": []
    },
    {
      "cell_type": "code",
      "metadata": {
        "id": "RDMgtolMz1gV"
      },
      "source": [
        "# %prun process2(puzzle.input)  # No obvious opportunity for optimization."
      ],
      "execution_count": 117,
      "outputs": []
    },
    {
      "cell_type": "markdown",
      "metadata": {
        "id": "v1c-K7fo-d_W"
      },
      "source": [
        "<a name=\"day23\"></a>\n",
        "## Day 23: Cups in a circle"
      ]
    },
    {
      "cell_type": "markdown",
      "metadata": {
        "id": "Km0mMKB9lZZp"
      },
      "source": [
        "Given a circular list of cups (labeled 1-9), apply a sequence of moves.\n",
        "For each move, extract the 3 cups to the right of the current cup (initially first in the input), and reinsert the 3 cups to the right of the cup whose label has value 1 less than the current cup.  Advance the current cup to the right.\n",
        "\n",
        "When finding the cup whose label has value 1 less than the current cup, skip over any that are in the 3 extracted cups, and when reaching value 0, wraparound back to the highest value.\n",
        "\n",
        "- Part 1: Report the cup labels (as a string of 8 digits) to the right of cup 1 after 100 moves.\n",
        "\n",
        "- Part 2: Extend the input circular list to contain a total of 1_000_000 cups, labeled 10 .. 1_000_000.  After 10_000_000 moves, determine the two cups to the right of cup 1, and report the product of their labels."
      ]
    },
    {
      "cell_type": "code",
      "metadata": {
        "id": "73qp7KN--d_W",
        "colab": {
          "base_uri": "https://localhost:8080/"
        },
        "outputId": "28573641-3049-4056-ae3f-8aa63dc1fe0f"
      },
      "source": [
        "puzzle = advent.puzzle(23)"
      ],
      "execution_count": 118,
      "outputs": [
        {
          "output_type": "stream",
          "text": [
            "For day 23, puzzle.input has 1 lines:\n",
            "872495136\n",
            "And the stored answers are: {1: '27865934', 2: 170836011000}\n"
          ],
          "name": "stdout"
        }
      ]
    },
    {
      "cell_type": "code",
      "metadata": {
        "id": "PrJVbU0yjTaD"
      },
      "source": [
        "s1 = '389125467'"
      ],
      "execution_count": 119,
      "outputs": []
    },
    {
      "cell_type": "code",
      "metadata": {
        "id": "jW00lGN77__3"
      },
      "source": [
        "# Code using list:\n",
        "def process(s, num_moves=100):\n",
        "  l = list(map(int, s.strip()))\n",
        "\n",
        "  for _ in range(num_moves):\n",
        "    (current, *extracted3) = l[:4]\n",
        "    destination = current - 1 if current > 1 else len(l)\n",
        "    while destination in extracted3:\n",
        "      destination = destination - 1 if destination > 1 else len(l)\n",
        "    dest = l.index(destination)  # bottleneck in part 2!\n",
        "    l = l[4:dest + 1] + extracted3 + l[dest + 1:] + [current]\n",
        "\n",
        "  i = l.index(1)\n",
        "  l = l[i + 1:] + l[:i]\n",
        "  return ''.join(map(str, l))\n",
        "\n",
        "\n",
        "check_eq(process(s1, num_moves=10), '92658374')\n",
        "check_eq(process(s1), '67384529')"
      ],
      "execution_count": 120,
      "outputs": []
    },
    {
      "cell_type": "code",
      "metadata": {
        "id": "k0evlBlPHe1H"
      },
      "source": [
        "# Code using deque:\n",
        "def process(s, num_moves=100):\n",
        "  d = collections.deque(map(int, s.strip()))\n",
        "  n = len(d)\n",
        "\n",
        "  for _ in range(num_moves):\n",
        "    current = next(iter(d))\n",
        "    d.rotate(-1)  # move current to the end\n",
        "    extracted3 = d.popleft(), d.popleft(), d.popleft()\n",
        "    destination = current - 1 if current > 1 else n\n",
        "    while destination in extracted3:\n",
        "      destination = destination - 1 if destination > 1 else n\n",
        "    dest = d.index(destination)  # bottleneck in part 2!\n",
        "    d.rotate(-dest - 1)  # move destination to end\n",
        "    d.extendleft(reversed(extracted3))\n",
        "    d.rotate(dest + 1)  # move new current back to front\n",
        "\n",
        "  d.rotate(-d.index(1))  # move '1' to front\n",
        "  d.popleft()  # remove '1'\n",
        "  return ''.join(map(str, d))\n",
        "\n",
        "\n",
        "check_eq(process(s1, num_moves=10), '92658374')\n",
        "check_eq(process(s1), '67384529')"
      ],
      "execution_count": 121,
      "outputs": []
    },
    {
      "cell_type": "code",
      "metadata": {
        "colab": {
          "base_uri": "https://localhost:8080/"
        },
        "id": "0dy73YTm8Gpl",
        "outputId": "2ee178ba-169a-4edf-b29a-6c908f977ba5"
      },
      "source": [
        "# Code keeping track of next cup label for each cup label:\n",
        "def process(s, max_num=0, num_moves=100):\n",
        "  dtype = np.int32 if using_numba else np.int64\n",
        "  l = np.array(list(map(int, s.strip())), dtype)\n",
        "  next_cup = np.empty(1 + max(len(l), max_num), dtype=l.dtype)\n",
        "\n",
        "  @numba_njit(cache=True)  # 0.25 s to jit on first invocation\n",
        "  def func(l, max_num, num_moves, next_cup):\n",
        "    n = len(next_cup) - 1\n",
        "    current = l[0]\n",
        "    for i in range(len(l) - 1):\n",
        "      next_cup[l[i]] = l[i + 1]\n",
        "    if max_num:\n",
        "      next_cup[l[-1]] = len(l) + 1\n",
        "      for i in range(len(l) + 1, max_num):\n",
        "        next_cup[i] = i + 1\n",
        "      next_cup[max_num] = l[0]\n",
        "    else:\n",
        "      next_cup[l[-1]] = l[0]\n",
        "\n",
        "    for _ in range(num_moves):\n",
        "      extracted1 = next_cup[current]\n",
        "      extracted2 = next_cup[extracted1]\n",
        "      extracted3 = next_cup[extracted2]\n",
        "      destination = current - 1 if current > 1 else n\n",
        "      while destination in (extracted1, extracted2, extracted3):\n",
        "        destination = destination - 1 if destination > 1 else n\n",
        "      next_cup[current] = next_cup[extracted3]\n",
        "      next_cup[extracted3] = next_cup[destination]\n",
        "      next_cup[destination] = extracted1\n",
        "      current = next_cup[current]\n",
        "\n",
        "    return current\n",
        "\n",
        "  current = func(l, max_num, num_moves, next_cup)\n",
        "  if max_num:\n",
        "    cup1 = next_cup[1]\n",
        "    cup2 = next_cup[cup1]\n",
        "    return int(cup1) * int(cup2)\n",
        "  else:\n",
        "    l = [next_cup[1]]\n",
        "    while next_cup[l[-1]] != 1:\n",
        "      l.append(next_cup[l[-1]])\n",
        "    return ''.join(map(str, l))\n",
        "\n",
        "\n",
        "check_eq(process(s1, num_moves=10), '92658374')\n",
        "check_eq(process(s1), '67384529')\n",
        "\n",
        "puzzle.verify(1, process)"
      ],
      "execution_count": 122,
      "outputs": [
        {
          "output_type": "stream",
          "text": [
            "(Part 1: 0.006 s)\n"
          ],
          "name": "stdout"
        }
      ]
    },
    {
      "cell_type": "markdown",
      "metadata": {
        "id": "1c4HNmytswlp"
      },
      "source": [
        "Part 2"
      ]
    },
    {
      "cell_type": "code",
      "metadata": {
        "id": "whhY4iE4jTaN",
        "colab": {
          "base_uri": "https://localhost:8080/"
        },
        "outputId": "e42e794b-749b-4e2c-9f6f-a987f5ec9175"
      },
      "source": [
        "# ~20 s without numba; ~0.5 s with numba\n",
        "process2 = functools.partial(process, num_moves=10_000_000, max_num=1_000_000)\n",
        "\n",
        "if using_numba:\n",
        "  check_eq(process2(s1), 149245887792)\n",
        "\n",
        "puzzle.verify(2, process2)"
      ],
      "execution_count": 123,
      "outputs": [
        {
          "output_type": "stream",
          "text": [
            "(Part 2: 0.683 s)\n"
          ],
          "name": "stdout"
        }
      ]
    },
    {
      "cell_type": "code",
      "metadata": {
        "id": "O5aNrZPQu32d"
      },
      "source": [
        "# %timeit -r8 process2(puzzle.input)"
      ],
      "execution_count": 124,
      "outputs": []
    },
    {
      "cell_type": "code",
      "metadata": {
        "id": "NhlhIih7MVN1"
      },
      "source": [
        "# %prun process2(puzzle.input)  # crashes runtime, likely due to numba function"
      ],
      "execution_count": 125,
      "outputs": []
    },
    {
      "cell_type": "markdown",
      "metadata": {
        "id": "NlVyEkIf-eGr"
      },
      "source": [
        "<a name=\"day24\"></a>\n",
        "## Day 24: Hexagonal tiles"
      ]
    },
    {
      "cell_type": "markdown",
      "metadata": {
        "id": "w7qtnTLjnusg"
      },
      "source": [
        "For each input line, travel over a hexagonal grid using the substrings `e`, `w`, `ne`, `nw`, `se`, and `sw`, and flip the state of the reached grid cell.  (Initially all grid cells are inactive.)\n",
        "\n",
        "- Part 1: Report the number of active cells in the resulting hexagonal grid.\n",
        "\n",
        "- Part 2: Simulate a cellular automaton over the grid from part 1, where an inactive cell becomes active if it has exactly 2 active neighbors,\n",
        "and an active cell becomes inactive if it has 0 or more than 2 active neighbors.  Report the number of active cells after 100 steps."
      ]
    },
    {
      "cell_type": "code",
      "metadata": {
        "id": "HiLNcW3J-eGr",
        "colab": {
          "base_uri": "https://localhost:8080/"
        },
        "outputId": "d72fde95-244f-4762-945c-39bf1447c335"
      },
      "source": [
        "puzzle = advent.puzzle(24)"
      ],
      "execution_count": 126,
      "outputs": [
        {
          "output_type": "stream",
          "text": [
            "For day 24, puzzle.input has 347 lines:\n",
            "enwwsenweswweseseswnenewwswseswenw\n",
            "nwnwneswwnenwnwnwenenwwnesenenwsenenee\n",
            "eneswwenwneeswneenenw\n",
            "swwswswwwswswsweeswww\n",
            "swewnwneeewnewwwswwnwwswswnwww\n",
            "seswnwenesenwsenenwwenwsenwswnwseswnw\n",
            "nwswwenwwwswwnwnewswnwnwwwswnee\n",
            "seswseswseseseseeseseseswnwsesw\n",
            " ...\n",
            "nwnwnwnwnewnwwwnwnwnenenwsenwsesenwnww\n",
            "nwwswneseseswsenweswswswneswwswwswswsw\n",
            "neenwsenenenenenenwswswnenenwsenenene\n",
            "newnwnwnwnwwnweswwewsewenwwnwnwnwnw\n",
            "And the stored answers are: {1: 287, 2: 3636}\n"
          ],
          "name": "stdout"
        }
      ]
    },
    {
      "cell_type": "code",
      "metadata": {
        "id": "r4D9R2ZgjUJb",
        "colab": {
          "base_uri": "https://localhost:8080/"
        },
        "cellView": "form",
        "outputId": "1d1f0138-76c7-4105-c6be-5726786c4e02"
      },
      "source": [
        "#@title\n",
        "print('Let s1 be a test input.')\n",
        "\n",
        "s1 = \"\"\"\n",
        "sesenwnenenewseeswwswswwnenewsewsw\n",
        "neeenesenwnwwswnenewnwwsewnenwseswesw\n",
        "seswneswswsenwwnwse\n",
        "nwnwneseeswswnenewneswwnewseswneseene\n",
        "swweswneswnenwsewnwneneseenw\n",
        "eesenwseswswnenwswnwnwsewwnwsene\n",
        "sewnenenenesenwsewnenwwwse\n",
        "wenwwweseeeweswwwnwwe\n",
        "wsweesenenewnwwnwsenewsenwwsesesenwne\n",
        "neeswseenwwswnwswswnw\n",
        "nenwswwsewswnenenewsenwsenwnesesenew\n",
        "enewnwewneswsewnwswenweswnenwsenwsw\n",
        "sweneswneswneneenwnewenewwneswswnese\n",
        "swwesenesewenwneswnwwneseswwne\n",
        "enesenwswwswneneswsenwnewswseenwsese\n",
        "wnwnesenesenenwwnenwsewesewsesesew\n",
        "nenewswnwewswnenesenwnesewesw\n",
        "eneswnwswnwsenenwnwnwwseeswneewsenese\n",
        "neswnwewnwnwseenwseesewsenwsweewe\n",
        "wseweeenwnesenwwwswnew\n",
        "\"\"\""
      ],
      "execution_count": 127,
      "outputs": [
        {
          "output_type": "stream",
          "text": [
            "Let s1 be a test input.\n"
          ],
          "name": "stdout"
        }
      ]
    },
    {
      "cell_type": "code",
      "metadata": {
        "colab": {
          "base_uri": "https://localhost:8080/"
        },
        "id": "souWY59gMp_u",
        "outputId": "65bf6fb9-532e-4150-f959-6e762a91f5e7"
      },
      "source": [
        "def process(s, num_days=0, return_3d_grid=False):\n",
        "  offsets = dict(e=(0, 1), w=(0, -1), sw=(1, 0), se=(1, 1),\n",
        "                 nw=(-1, -1), ne=(-1, 0))\n",
        "  tuple_offsets = tuple(offsets.values())  # slightly faster\n",
        "  pattern = re.compile('|'.join(offsets))\n",
        "  indices = set()\n",
        "  for line in s.strip('\\n').splitlines():\n",
        "    y, x = 0, 0\n",
        "    for s2 in pattern.findall(line):\n",
        "      offset = offsets[s2]\n",
        "      y, x = y + offset[0], x + offset[1]\n",
        "    indices ^= {(y, x)}\n",
        "\n",
        "  indices_3d = []\n",
        "  def record(day, indices):\n",
        "    if return_3d_grid:\n",
        "      indices_3d.extend((day, y, x) for y, x in indices)\n",
        "\n",
        "  record(0, indices)\n",
        "  for day in range(num_days):\n",
        "    neighbor_counts = collections.Counter(\n",
        "        (y + dy, x + dx) for y, x in indices for dy, dx in tuple_offsets)\n",
        "    indices = {index for index, count in neighbor_counts.items()\n",
        "               if count == 2 or (count == 1 and index in indices)}\n",
        "    record(day + 1, indices)\n",
        "\n",
        "  if indices_3d:\n",
        "    return grid_from_indices(indices_3d, dtype=np.bool)\n",
        "  return len(indices)\n",
        "\n",
        "\n",
        "check_eq(process(s1), 10)\n",
        "puzzle.verify(1, process)"
      ],
      "execution_count": 128,
      "outputs": [
        {
          "output_type": "stream",
          "text": [
            "(Part 1: 0.004 s)\n"
          ],
          "name": "stdout"
        }
      ]
    },
    {
      "cell_type": "code",
      "metadata": {
        "id": "z9mhwR3aVJdf"
      },
      "source": [
        "def grid_from_indices(indices, background=0, foreground=1, indices_min=None,\n",
        "                      indices_max=None, pad=0, dtype=None) -> np.ndarray:\n",
        "  indices = np.asarray(indices)\n",
        "  assert indices.ndim == 2 and np.issubdtype(indices.dtype, np.integer)\n",
        "\n",
        "  def get_min_or_max_bound(f, x) -> np.ndarray:\n",
        "    return f(indices, axis=0) if x is None else np.full(indices.shape[1], x)\n",
        "\n",
        "  i_min = get_min_or_max_bound(np.min, indices_min)\n",
        "  i_max = get_min_or_max_bound(np.max, indices_max)\n",
        "  a_pad = np.asarray(pad)\n",
        "  shape = i_max - i_min + 2 * a_pad + 1\n",
        "  offset = -i_min + a_pad\n",
        "  grid = np.full(shape, background, dtype=dtype)\n",
        "  indices += offset\n",
        "  grid[tuple(indices.T)] = foreground\n",
        "  return grid"
      ],
      "execution_count": 129,
      "outputs": []
    },
    {
      "cell_type": "code",
      "metadata": {
        "id": "mXOunhSk8jkm",
        "colab": {
          "base_uri": "https://localhost:8080/",
          "height": 153
        },
        "outputId": "75748e73-e90d-4aac-c74a-b57f353dcc7d"
      },
      "source": [
        "if show_all_videos and media.video_is_available():\n",
        "  media.show_video(\n",
        "      process(puzzle.input, num_days=100, return_3d_grid=True)[::2],\n",
        "      codec='gif', fps=10)"
      ],
      "execution_count": 130,
      "outputs": [
        {
          "output_type": "display_data",
          "data": {
            "text/html": [
              "<table style=\"border-spacing:0;\"><tr><td><img width=\"125\" height=\"130\" style=\"image-rendering:pixelated; object-fit:cover;\" src=\"data:image/gif;base64,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\"/></td></tr></table>"
            ],
            "text/plain": [
              "<IPython.core.display.HTML object>"
            ]
          },
          "metadata": {
            "tags": []
          }
        }
      ]
    },
    {
      "cell_type": "markdown",
      "metadata": {
        "id": "4FO9F0gsrQex"
      },
      "source": [
        "Part 2"
      ]
    },
    {
      "cell_type": "code",
      "metadata": {
        "colab": {
          "base_uri": "https://localhost:8080/"
        },
        "id": "Tww-_mPArOnf",
        "outputId": "e7beb3f5-b5d6-4d7f-fc8c-27756cd99b2e"
      },
      "source": [
        "check_eq(process(s1, num_days=10), 37)\n",
        "\n",
        "process2 = functools.partial(process, num_days=100)\n",
        "check_eq(process2(s1), 2208)\n",
        "puzzle.verify(2, process2)"
      ],
      "execution_count": 131,
      "outputs": [
        {
          "output_type": "stream",
          "text": [
            "(Part 2: 0.459 s)\n"
          ],
          "name": "stdout"
        }
      ]
    },
    {
      "cell_type": "markdown",
      "metadata": {
        "id": "5DCFvNdh-eMi"
      },
      "source": [
        "<a name=\"day25\"></a>\n",
        "## Day 25: Public-key encryption"
      ]
    },
    {
      "cell_type": "markdown",
      "metadata": {
        "id": "NkqUQfX8qAyI"
      },
      "source": [
        "Given a card public key and a door public key, find the (private) card loop size and door loop size that were used to generate these public keys.  Then, find the common encryption key that the card and door use to communicate.\n",
        "\n",
        "- Part 1: Report the encryption key.\n",
        "\n",
        "- Part 2: There is no part 2 for this last day of the Advent."
      ]
    },
    {
      "cell_type": "code",
      "metadata": {
        "id": "A7PjF-ox-eMi",
        "colab": {
          "base_uri": "https://localhost:8080/"
        },
        "outputId": "ab1fc9b2-66fe-4cc0-8b02-20ac7033d63a"
      },
      "source": [
        "puzzle = advent.puzzle(25)"
      ],
      "execution_count": 132,
      "outputs": [
        {
          "output_type": "stream",
          "text": [
            "For day 25, puzzle.input has 2 lines:\n",
            "10212254\n",
            "12577395\n",
            "And the stored answers are: {1: 290487, 2: 'no_part2_on_last_day'}\n"
          ],
          "name": "stdout"
        }
      ]
    },
    {
      "cell_type": "code",
      "metadata": {
        "id": "bKWiR9xadArt"
      },
      "source": [
        "s1 = \"\"\"\n",
        "5764801\n",
        "17807724\n",
        "\"\"\""
      ],
      "execution_count": 133,
      "outputs": []
    },
    {
      "cell_type": "code",
      "metadata": {
        "id": "CrHqH34gC9wB"
      },
      "source": [
        "# Slow code\n",
        "def process(s, base=7, mod=20201227):\n",
        "  card_public_key, door_public_key = map(int, s.strip('\\n').splitlines())\n",
        "\n",
        "  # Slow trial-multiplication; https://en.wikipedia.org/wiki/Discrete_logarithm\n",
        "  def untransform(base, value):\n",
        "    x = 1\n",
        "    loop_size = 0\n",
        "    while x != value:\n",
        "      loop_size += 1\n",
        "      x = (x * base) % mod\n",
        "    return loop_size\n",
        "\n",
        "  # Slow O(n) version.\n",
        "  def transform(value, loop_size):\n",
        "    x = 1\n",
        "    for _ in range(loop_size):\n",
        "      x = (x * value) % mod\n",
        "    return x\n",
        "\n",
        "  card_loop_size = untransform(base, card_public_key)\n",
        "  door_loop_size = untransform(base, door_public_key)\n",
        "  assert transform(base, card_loop_size) == card_public_key\n",
        "  assert transform(base, door_loop_size) == door_public_key\n",
        "\n",
        "  encryption_key1 = transform(door_public_key, card_loop_size)\n",
        "  encryption_key2 = transform(card_public_key, door_loop_size)\n",
        "  assert encryption_key1 == encryption_key2\n",
        "  return encryption_key1\n",
        "\n",
        "\n",
        "check_eq(process(s1), 14897079)"
      ],
      "execution_count": 134,
      "outputs": []
    },
    {
      "cell_type": "code",
      "metadata": {
        "colab": {
          "base_uri": "https://localhost:8080/"
        },
        "id": "grEocEpxDCSO",
        "outputId": "1dcad2b2-0b6f-4f40-d7c2-49ff9224387c"
      },
      "source": [
        "# Fast code\n",
        "\n",
        "def pow_mod(base: int, exponent: int, mod: int) -> int:\n",
        "  \"\"\"Returns 'base**exponent % mod' using square-multiply algorithm.\"\"\"\n",
        "  x = 1\n",
        "  while exponent > 0:\n",
        "    if exponent % 2 == 1:\n",
        "      x = (x * base) % mod\n",
        "    base = (base * base) % mod\n",
        "    exponent //= 2\n",
        "  return x\n",
        "\n",
        "\n",
        "def log_mod(base: int, value: int, mod: int) -> Optional[int]:\n",
        "  \"\"\"Returns exponent for 'base**exponent % mod == value'.\"\"\"\n",
        "  # Using https://en.wikipedia.org/wiki/Baby-step_giant-step\n",
        "  m = int(math.ceil(math.sqrt(mod)))\n",
        "  table = {}\n",
        "  e = 1\n",
        "  for i in range(m):\n",
        "    table[e] = i\n",
        "    e = (e * base) % mod\n",
        "  factor = pow_mod(base, mod - m - 1, mod)\n",
        "  e = value\n",
        "  for i in range(m):\n",
        "    if e in table:\n",
        "      return i * m + table[e]\n",
        "    e = (e * factor) % mod\n",
        "  return None\n",
        "\n",
        "\n",
        "def process(s, base=7, mod=20201227):\n",
        "  card_public_key, door_public_key = map(int, s.strip('\\n').splitlines())\n",
        "  card_loop_size = log_mod(base, card_public_key, mod)\n",
        "  return pow_mod(door_public_key, card_loop_size, mod)\n",
        "\n",
        "\n",
        "check_eq(process(s1), 14897079)\n",
        "puzzle.verify(1, process)"
      ],
      "execution_count": 135,
      "outputs": [
        {
          "output_type": "stream",
          "text": [
            "(Part 1: 0.001 s)\n"
          ],
          "name": "stdout"
        }
      ]
    },
    {
      "cell_type": "markdown",
      "metadata": {
        "id": "9zdRajWRpyhN"
      },
      "source": [
        "Part 2"
      ]
    },
    {
      "cell_type": "code",
      "metadata": {
        "colab": {
          "base_uri": "https://localhost:8080/"
        },
        "id": "PuP7tmdj3-W6",
        "outputId": "c41d1c75-9a6b-40a5-aa6f-c663153293a9"
      },
      "source": [
        "puzzle.verify(2, lambda x: 'no_part2_on_last_day')"
      ],
      "execution_count": 136,
      "outputs": [
        {
          "output_type": "stream",
          "text": [
            "(Part 2: 0.000 s)\n"
          ],
          "name": "stdout"
        }
      ]
    },
    {
      "cell_type": "markdown",
      "metadata": {
        "id": "If8mZUwzx1Id"
      },
      "source": [
        "<a name=\"timings\"></a>\n",
        "## Timings"
      ]
    },
    {
      "cell_type": "code",
      "metadata": {
        "colab": {
          "base_uri": "https://localhost:8080/"
        },
        "id": "aTzBo92e5pb3",
        "outputId": "7f27bac3-1a1f-46b1-b52c-b08598db6bb1"
      },
      "source": [
        "advent.show_times()"
      ],
      "execution_count": 137,
      "outputs": [
        {
          "output_type": "stream",
          "text": [
            "day_1    part_1: 0.000   part_2: 0.003\n",
            "day_2    part_1: 0.005   part_2: 0.001\n",
            "day_3    part_1: 0.001   part_2: 0.002\n",
            "day_4    part_1: 0.001   part_2: 0.005\n",
            "day_5    part_1: 0.001   part_2: 0.003\n",
            "day_6    part_1: 0.003   part_2: 0.005\n",
            "day_7    part_1: 0.004   part_2: 0.003\n",
            "day_8    part_1: 0.001   part_2: 0.012\n",
            "day_9    part_1: 0.003   part_2: 0.004\n",
            "day_10   part_1: 0.000   part_2: 0.000\n",
            "day_11   part_1: 0.041   part_2: 0.055\n",
            "day_12   part_1: 0.000   part_2: 0.001\n",
            "day_13   part_1: 0.000   part_2: 0.000\n",
            "day_14   part_1: 0.010   part_2: 0.027\n",
            "day_15   part_1: 0.000   part_2: 0.949\n",
            "day_16   part_1: 0.007   part_2: 0.059\n",
            "day_17   part_1: 0.010   part_2: 0.199\n",
            "day_18   part_1: 0.004   part_2: 0.008\n",
            "day_19   part_1: 0.071   part_2: 0.343\n",
            "day_20   part_1: 0.010   part_2: 0.032\n",
            "day_21   part_1: 0.001   part_2: 0.001\n",
            "day_22   part_1: 0.000   part_2: 1.152\n",
            "day_23   part_1: 0.006   part_2: 0.683\n",
            "day_24   part_1: 0.004   part_2: 0.459\n",
            "day_25   part_1: 0.001   part_2: 0.000\n",
            "Total time:  4.192 s\n"
          ],
          "name": "stdout"
        }
      ]
    },
    {
      "cell_type": "code",
      "metadata": {
        "id": "NZuIFHku84A6"
      },
      "source": [
        "if 0:  # Compute min execution times over several calls.\n",
        "  advent.show_times(recompute=True, repeat=3)"
      ],
      "execution_count": 138,
      "outputs": []
    },
    {
      "cell_type": "code",
      "metadata": {
        "id": "0nio3urkmwZF"
      },
      "source": [
        "if 0:  # Look for unwanted pollution of namespace.\n",
        "  print(textwrap.fill(' '.join(var for var, value in globals().items() if (\n",
        "      not var.startswith('_') and not repr(value).startswith(\n",
        "          ('<module', '<class', 'typing.', 'functools.partial('))))))"
      ],
      "execution_count": 139,
      "outputs": []
    },
    {
      "cell_type": "code",
      "metadata": {
        "id": "IL1QiMdOA8Fk"
      },
      "source": [
        "if 0:  # Print the answers to update an external file\n",
        "  print(json.dumps(advent.answers, sort_keys=True, indent=2))"
      ],
      "execution_count": 140,
      "outputs": []
    },
    {
      "cell_type": "markdown",
      "metadata": {
        "id": "GtTzv1y282IP"
      },
      "source": [
        "# End"
      ]
    }
  ]
}