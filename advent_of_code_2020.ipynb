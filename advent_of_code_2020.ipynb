{
  "nbformat": 4,
  "nbformat_minor": 0,
  "metadata": {
    "colab": {
      "name": "advent_of_code_2020.ipynb",
      "provenance": [],
      "collapsed_sections": [],
      "toc_visible": true,
      "include_colab_link": true
    },
    "kernelspec": {
      "name": "python3",
      "display_name": "Python 3"
    }
  },
  "cells": [
    {
      "cell_type": "markdown",
      "metadata": {
        "id": "view-in-github",
        "colab_type": "text"
      },
      "source": [
        "<a href=\"https://colab.research.google.com/github/hhoppe/advent_of_code_2020/blob/main/advent_of_code_2020.ipynb\" target=\"_parent\"><img src=\"https://colab.research.google.com/assets/colab-badge.svg\" alt=\"Open In Colab\"/></a>"
      ]
    },
    {
      "cell_type": "markdown",
      "metadata": {
        "id": "WXIjO0fEzNYw"
      },
      "source": [
        "# Advent of code 2020\n",
        "\n",
        "Jupyter [notebook](https://github.com/hhoppe/advent_of_code_2020/blob/main/advent_of_code_2020.ipynb) by [Hugues Hoppe](http://hhoppe.com/); December 2020.\n",
        "\n",
        "I participated in the 25-day [Advent of Code](https://adventofcode.com/) for the first time this year, thanks to encouragement from colleagues, especially [Sascha Häberling](https://github.com/shaeberling).  It was great fun and provided a nice opportunity to learn more advanced Python.\n",
        "\n",
        "In the event, many people compete to solve the puzzles as quickly as possible --- see the impressive times on the [leaderboard](https://adventofcode.com/2020/leaderboard).\n",
        "My approach was much more casual, although I did aim to finish the puzzle each evening.\n",
        "\n",
        "Later, I went back to explore more **polished and efficient solutions**.\n",
        "Can the code be expressed more succinctly?\n",
        "What is the fastest algorithm given the constraints of interpreted Python?\n",
        "Along the way, I discovered the [`numba`](https://numba.pydata.org/) package which can JIT-compile native code to overcome bottlenecks;\n",
        "is it practical for these problems?  Yes, it can help greatly!\n",
        "\n",
        "This notebook is organized such that **each day is self-contained**, i.e., it can be run independently after the common preamble in the next section.\n",
        "The preamble introduces just one handy function `check_eq()`, so the solution algorithms are easily recognizable.\n",
        "\n",
        "**For each day**, the first notebook cell defines a `puzzle` object:\n",
        "\n",
        "> ```\n",
        "  puzzle = advent.puzzle(day=1)\n",
        "```\n",
        "The puzzle input string is automatically read into the attribute `puzzle.input`.\n",
        "This input string is unique to each Advent participant.\n",
        "By default, the notebook uses [my input data](https://github.com/hhoppe/advent_of_code_2020/tree/main/data) stored on GitHub,\n",
        "but the variable `INPUT_DATA_PATH_OR_URL_FORMAT` can refer to any directory or URL.\n",
        "Similarly, the (per-user) puzzle answers are read from my JSON [file](https://github.com/hhoppe/advent_of_code_2020/blob/main/data/answers.json) named in `ANSWERS_PATH_OR_URL`.\n",
        "> \n",
        "> For each of the two puzzle parts, a function (e.g. `process1`) takes an input string and returns a string or integer answer.\n",
        "Using calls like the following, we time the execution of the function and verify the answers:\n",
        "```\n",
        "  puzzle.verify(part=1, func=process1)\n",
        "  puzzle.verify(part=2, func=process2)\n",
        "```\n",
        "\n",
        "At the end of the notebook, a table summarizes **timing results**.\n",
        "\n",
        "Some **conclusions**:\n",
        "\n",
        "- The Jupyter/IPython notebook is a convenient environment to assemble descriptions, notes, code, small test inputs, and results.\n",
        "- The cloud-based CPU kernel/runtime provided by Colab works nicely.\n",
        "- With the help of the `numba` library (for days 11, 15, and 23), all of this year's puzzles can be solved in 1 second or less.\n",
        "- Remarkably, the total execution time across all 25 puzzles is approximately 4 s.\n",
        "- Initially I stored puzzle inputs within the notebook, but this adds clutter and runs inefficiently."
      ]
    },
    {
      "cell_type": "markdown",
      "metadata": {
        "id": "BDeORtzZKKfw"
      },
      "source": [
        "## Common code"
      ]
    },
    {
      "cell_type": "code",
      "metadata": {
        "id": "HjlN7zn53GNs"
      },
      "source": [
        "INPUT_DATA_PATH_OR_URL_FORMAT = 'https://raw.githubusercontent.com/hhoppe/advent_of_code_2020/main/data/input{:02d}.txt'\r\n",
        "ANSWERS_PATH_OR_URL = 'https://raw.githubusercontent.com/hhoppe/advent_of_code_2020/main/data/answers.json'"
      ],
      "execution_count": 1,
      "outputs": []
    },
    {
      "cell_type": "code",
      "metadata": {
        "id": "FJf7iY-ZK9Tn"
      },
      "source": [
        "import bisect\n",
        "import collections\n",
        "import contextlib\n",
        "import dataclasses\n",
        "import functools\n",
        "import itertools\n",
        "import json\n",
        "import math\n",
        "import operator\n",
        "import pprint\n",
        "import re\n",
        "import sys\n",
        "import textwrap\n",
        "import time\n",
        "from typing import Callable, Dict, Optional, Tuple, Union\n",
        "import unittest.mock\n",
        "import urllib.request\n",
        "\n",
        "import numpy as np"
      ],
      "execution_count": 2,
      "outputs": []
    },
    {
      "cell_type": "code",
      "metadata": {
        "id": "SS2dbAs3TM7y"
      },
      "source": [
        "try:\n",
        "  import numba\n",
        "  using_numba = True\n",
        "  numba_njit = numba.njit\n",
        "except ModuleNotFoundError:\n",
        "  print('numba unavailable')\n",
        "  using_numba = False\n",
        "  def noop_decorator(*args, **kwargs):\n",
        "    \"\"\"Function decorator that ignores any arguments and does nothing.\"\"\"\n",
        "    return (args[0] if len(args) == 1 and callable(args[0]) and not kwargs\n",
        "            else noop_decorator)\n",
        "  numba_njit = noop_decorator"
      ],
      "execution_count": 3,
      "outputs": []
    },
    {
      "cell_type": "code",
      "metadata": {
        "id": "6M3KdXtHK9Tn"
      },
      "source": [
        "def check_eq(a, b):\n",
        "  if np.any(a != b):\n",
        "    raise AssertionError(f'{a!r} == {b!r}')\n",
        "\n",
        "\n",
        "def read_contents(path_or_url: str) -> bytes:\n",
        "  if path_or_url.startswith(('http://', 'https://')):\n",
        "    with urllib.request.urlopen(path_or_url) as response:\n",
        "      data: bytes = response.read()\n",
        "    return data\n",
        "  with open(path_or_url, 'rb') as f:\n",
        "    return f.read()\n",
        "\n",
        "\n",
        "@dataclasses.dataclass\n",
        "class PuzzlePart:\n",
        "  func: Callable[[str], Union[str, int]]\n",
        "  answer: Union[str, int]\n",
        "  slow: bool\n",
        "  elapsed_time: float = -0.0\n",
        "\n",
        "  def compute(self, s: str, silent=False, repeat=1) -> None:\n",
        "    with contextlib.ExitStack() as stack:\n",
        "      if silent:\n",
        "        for f in ('sys.stdout', 'sys.stderr', 'IPython.display.display'):\n",
        "          stack.enter_context(unittest.mock.patch(f))\n",
        "      if self.slow and not advent.also_run_slow_tests:\n",
        "        print('Skipping slow computation because also_run_slow_tests is False')\n",
        "        return\n",
        "      elapsed_times = []\n",
        "      for _ in range(repeat):\n",
        "        start_time = time.time()\n",
        "        result = self.func(s)\n",
        "        elapsed_times.append(time.time() - start_time)\n",
        "        if result != self.answer:\n",
        "          raise AssertionError(f'Result {result} != expected {self.answer}')\n",
        "      self.elapsed_time = min(elapsed_times)\n",
        "      print(f'(Time: {self.elapsed_time:#6.3f})', flush=True)\n",
        "\n",
        "\n",
        "@dataclasses.dataclass\n",
        "class Puzzle:\n",
        "  day: int\n",
        "  input: str = ''\n",
        "  parts: Dict[int, PuzzlePart] = dataclasses.field(default_factory=dict)  # 1..2\n",
        "\n",
        "  def __post_init__(self) -> None:\n",
        "    if self.input:\n",
        "      self.input = self.input.lstrip('\\n')\n",
        "    else:\n",
        "      path_or_url = INPUT_DATA_PATH_OR_URL_FORMAT.format(self.day)\n",
        "      self.input = read_contents(path_or_url).decode()\n",
        "    advent.puzzles[self.day] = self\n",
        "    self.print_summary()\n",
        "\n",
        "  def print_summary(self) -> None:\n",
        "    lines = [(line[:80] + ' ... ' + line[-35:] if len(line) > 120 else line)\n",
        "            for line in self.input.splitlines()]\n",
        "    lines2 = lines[:8] + [' ...'] + lines[-4:] if len(lines) > 13 else lines\n",
        "    s = '\\n'.join(lines2)\n",
        "    print(f'For day {self.day}, puzzle.input has {len(lines)} lines:\\n{s}')\n",
        "    print(f'And the stored answers are: {advent.answers[self.day]}')\n",
        "\n",
        "  def verify(self, part: int, func: Callable[[str], Union[str, int]],\n",
        "            answer: Optional[Union[str, int]] = None, slow=False) -> None:\n",
        "    assert part in (1, 2)\n",
        "    if answer is None:\n",
        "      answer = advent.answers[self.day].get(part)\n",
        "    else:\n",
        "      advent.answers[self.day][part] = answer\n",
        "    self.parts[part] = puzzle_part = PuzzlePart(func, answer, slow)\n",
        "    puzzle_part.compute(self.input)\n",
        "\n",
        "\n",
        "@dataclasses.dataclass\n",
        "class Advent:\n",
        "  also_run_slow_tests: bool\n",
        "  puzzles: Dict[int, Puzzle] = dataclasses.field(default_factory=dict)  # 1..25\n",
        "  answers: Dict[int, Dict[int, Union[str, int]]] = dataclasses.field(\n",
        "      default_factory=lambda: collections.defaultdict(dict))\n",
        "\n",
        "  def __post_init__(self) -> None:\n",
        "    if ANSWERS_PATH_OR_URL:\n",
        "      def keys_to_int(d): return {int(k): v for k, v in d.items()}\n",
        "      self.answers = json.loads(read_contents(ANSWERS_PATH_OR_URL).decode(),\n",
        "                                object_hook=keys_to_int)\n",
        "\n",
        "  def puzzle(self, *args, **kwargs) -> Puzzle:\n",
        "    return Puzzle(*args, **kwargs)\n",
        "\n",
        "  def show_times(self, recompute=False, repeat=1):\n",
        "    if recompute and repeat > 1:\n",
        "      print(f'(Computing min times over {repeat} calls.)')\n",
        "    total = 0\n",
        "    for day, puzzle in sorted(self.puzzles.items()):\n",
        "      s = f'day_{day:<2}'\n",
        "      for part in (1, 2):\n",
        "        s += f'   part_{part}:'\n",
        "        puzzle_part = puzzle.parts.get(part)\n",
        "        if not puzzle_part:\n",
        "          s += '  n/a '\n",
        "        else:\n",
        "          if recompute:\n",
        "            puzzle_part.compute(puzzle.input, silent=True, repeat=repeat)\n",
        "          s += f'{puzzle_part.elapsed_time:#6.3f}'\n",
        "          total += puzzle_part.elapsed_time\n",
        "      print(s)\n",
        "    print(f'Total time:{total:#7.3f}')\n",
        "\n",
        "\n",
        "advent = Advent(also_run_slow_tests=False)"
      ],
      "execution_count": 4,
      "outputs": []
    },
    {
      "cell_type": "markdown",
      "metadata": {
        "id": "BjAmIcq7zm2O"
      },
      "source": [
        "## Day 1: Find summing numbers"
      ]
    },
    {
      "cell_type": "markdown",
      "metadata": {
        "id": "rqUsuqjsVE4g"
      },
      "source": [
        "- Part 1: Given a list of numbers, find two entries that sum to 2020 and multiply those entries together.\n",
        "\n",
        "- Part 2: Find three entries that sum to 2020 and multiply those entries together."
      ]
    },
    {
      "cell_type": "code",
      "metadata": {
        "id": "o-Ye0TCN-bUe",
        "colab": {
          "base_uri": "https://localhost:8080/"
        },
        "outputId": "f6cfa324-fce5-427d-d3a1-a6b256ef3ae4"
      },
      "source": [
        "puzzle = advent.puzzle(1)"
      ],
      "execution_count": 5,
      "outputs": [
        {
          "output_type": "stream",
          "text": [
            "For day 1, puzzle.input has 200 lines:\n",
            "1686\n",
            "1983\n",
            "1801\n",
            "1890\n",
            "1910\n",
            "1722\n",
            "1571\n",
            "1952\n",
            " ...\n",
            "1261\n",
            "1154\n",
            "1769\n",
            "1529\n",
            "And the stored answers are: {1: 651651, 2: 214486272}\n"
          ],
          "name": "stdout"
        }
      ]
    },
    {
      "cell_type": "code",
      "metadata": {
        "id": "S1D3RERUA72h"
      },
      "source": [
        "# A test input provided in the puzzle description:\n",
        "s1 = \"\"\"\n",
        "1721\n",
        "979\n",
        "366\n",
        "299\n",
        "675\n",
        "1456\n",
        "\"\"\""
      ],
      "execution_count": 6,
      "outputs": []
    },
    {
      "cell_type": "code",
      "metadata": {
        "colab": {
          "base_uri": "https://localhost:8080/"
        },
        "id": "eeU02C1oVPjW",
        "outputId": "00d90d91-a7fb-4f25-f93f-1f300a7053c9"
      },
      "source": [
        "def process1(s, total=2020):\n",
        "  entries = set(map(int, s.split()))\n",
        "  for a in entries:\n",
        "    b = total - a\n",
        "    if b in entries:\n",
        "      return a * b\n",
        "  return None\n",
        "\n",
        "\n",
        "check_eq(process1(s1), 514579)  # reference answer provided in the description\n",
        "puzzle.verify(1, process1)"
      ],
      "execution_count": 7,
      "outputs": [
        {
          "output_type": "stream",
          "text": [
            "(Time:  0.000)\n"
          ],
          "name": "stdout"
        }
      ]
    },
    {
      "cell_type": "code",
      "metadata": {
        "id": "2CNF3uj6_P7c",
        "colab": {
          "base_uri": "https://localhost:8080/"
        },
        "outputId": "9b4e7fee-9910-4954-a4cb-ebb52c43150a"
      },
      "source": [
        "def process2(s, total=2020):\n",
        "  entries = set(map(int, s.split()))\n",
        "  for a in entries:\n",
        "    for b in entries:\n",
        "      c = total - a - b\n",
        "      if c in entries:\n",
        "        return a * b * c\n",
        "  return None\n",
        "\n",
        "\n",
        "check_eq(process2(s1), 241861950)\n",
        "puzzle.verify(2, process2)"
      ],
      "execution_count": 8,
      "outputs": [
        {
          "output_type": "stream",
          "text": [
            "(Time:  0.002)\n"
          ],
          "name": "stdout"
        }
      ]
    },
    {
      "cell_type": "markdown",
      "metadata": {
        "id": "RoUuAFCFAOXZ"
      },
      "source": [
        "## Day 2: Valid passwords"
      ]
    },
    {
      "cell_type": "markdown",
      "metadata": {
        "id": "4g5RVk2fVn19"
      },
      "source": [
        "Given input lines each containing a password rule (`i-j c`) and a password, count the number of \"valid\" passwords such that:\n",
        "\n",
        "- Part 1: The number of instances of character `c` in the password is in the range `[i, j]`.\n",
        "\n",
        "- Part 2: The password characters at positions `i` and `j` contain exactly one instance of character `c`."
      ]
    },
    {
      "cell_type": "code",
      "metadata": {
        "id": "AXoT9cob5y51",
        "colab": {
          "base_uri": "https://localhost:8080/"
        },
        "outputId": "daba0be4-ca2a-491e-e2e2-e750fab00033"
      },
      "source": [
        "puzzle = advent.puzzle(2)"
      ],
      "execution_count": 9,
      "outputs": [
        {
          "output_type": "stream",
          "text": [
            "For day 2, puzzle.input has 1000 lines:\n",
            "4-7 z: zzzfzlzzz\n",
            "3-4 l: blllk\n",
            "8-11 j: jjjjjjjgjjjj\n",
            "6-7 l: lllhlbl\n",
            "10-13 x: xmhfsbjxptxxv\n",
            "2-3 s: ssvxszrvj\n",
            "4-6 r: rtrrrqv\n",
            "5-6 c: cbccxc\n",
            " ...\n",
            "9-10 w: wwwwwwbwwhww\n",
            "5-6 g: kgggjg\n",
            "4-8 s: ssssssscs\n",
            "12-20 t: ttttttltttvttttttttt\n",
            "And the stored answers are: {1: 396, 2: 428}\n"
          ],
          "name": "stdout"
        }
      ]
    },
    {
      "cell_type": "code",
      "metadata": {
        "id": "PLqF8llY5ueK"
      },
      "source": [
        "s1 = \"\"\"\n",
        "1-3 a: abcde\n",
        "1-3 b: cdefg\n",
        "2-9 c: ccccccccc\n",
        "\"\"\""
      ],
      "execution_count": 10,
      "outputs": []
    },
    {
      "cell_type": "code",
      "metadata": {
        "colab": {
          "base_uri": "https://localhost:8080/"
        },
        "id": "WljooTaDXewx",
        "outputId": "a9a3b4c2-2c97-42cc-f38d-118cee0c51bb"
      },
      "source": [
        "def process1(s):\n",
        "  lines = s.strip('\\n').splitlines()\n",
        "  num_valid = 0\n",
        "  for line in lines:\n",
        "    pattern = r'(\\d+)-(\\d+) (\\w): (\\w+)'\n",
        "    vmin, vmax, ch, password = re.fullmatch(pattern, line).groups()\n",
        "    vmin, vmax = int(vmin), int(vmax)\n",
        "    count = sum([c == ch for c in password])\n",
        "    num_valid += vmin <= count <= vmax\n",
        "  return num_valid\n",
        "\n",
        "\n",
        "check_eq(process1(s1), 2)\n",
        "puzzle.verify(1, process1)"
      ],
      "execution_count": 11,
      "outputs": [
        {
          "output_type": "stream",
          "text": [
            "(Time:  0.005)\n"
          ],
          "name": "stdout"
        }
      ]
    },
    {
      "cell_type": "code",
      "metadata": {
        "id": "wvDd-s4Y7tGr",
        "colab": {
          "base_uri": "https://localhost:8080/"
        },
        "outputId": "45dcadd9-952b-48b0-ee22-3ee2a479356b"
      },
      "source": [
        "def process2(s):\n",
        "  lines = s.strip('\\n').splitlines()\n",
        "  num_valid = 0\n",
        "  for line in lines:\n",
        "    pattern = r'(\\d+)-(\\d+) (\\w): (\\w+)'\n",
        "    vmin, vmax, ch, password = re.fullmatch(pattern, line).groups()\n",
        "    vmin, vmax = int(vmin), int(vmax)\n",
        "    valid = (password[vmin - 1] == ch) ^ (password[vmax - 1] == ch)\n",
        "    num_valid += valid\n",
        "  return num_valid\n",
        "\n",
        "\n",
        "check_eq(process2(s1), 1)\n",
        "puzzle.verify(2, process2)"
      ],
      "execution_count": 12,
      "outputs": [
        {
          "output_type": "stream",
          "text": [
            "(Time:  0.003)\n"
          ],
          "name": "stdout"
        }
      ]
    },
    {
      "cell_type": "markdown",
      "metadata": {
        "id": "vVXln2ontIH-"
      },
      "source": [
        "## Day 3: Count intersections in grid"
      ]
    },
    {
      "cell_type": "markdown",
      "metadata": {
        "id": "-2-CRHJyXrMG"
      },
      "source": [
        "Given a 2D grid containing sparse \"trees\", determine the number of trees encountered when moving from the top-left to the bottom row with a slope `(dy, dx)` and using wraparound addressing on the horizontal axis.\n",
        "\n",
        "- Part 1: Count the trees for the slope `(dy, dx) = (1, 3)` \n",
        "\n",
        "- Part 2: Compute the product of the tree counts for slopes `(1, 1)`, `(1, 3)`, `(1, 5)`, `(1, 7)`, and `(2, 1)`."
      ]
    },
    {
      "cell_type": "code",
      "metadata": {
        "id": "fMDTiYgctJjI",
        "colab": {
          "base_uri": "https://localhost:8080/"
        },
        "outputId": "dea901a3-1690-444c-cf24-27f0387113de"
      },
      "source": [
        "puzzle = advent.puzzle(3)"
      ],
      "execution_count": 13,
      "outputs": [
        {
          "output_type": "stream",
          "text": [
            "For day 3, puzzle.input has 323 lines:\n",
            "........#.............#........\n",
            "...#....#...#....#.............\n",
            ".#..#...#............#.....#..#\n",
            "..#......#..##............###..\n",
            "..........#......#..#..#.......\n",
            ".#..#.......#.........#.#......\n",
            ".........#..#....##..#.##....#.\n",
            "..#....##...#..................\n",
            " ...\n",
            "..................#...#....#.##\n",
            "......#.#....#.................\n",
            "......#.#.....#.....#..##......\n",
            "#..##...........#..#.....#.##..\n",
            "And the stored answers are: {1: 148, 2: 727923200}\n"
          ],
          "name": "stdout"
        }
      ]
    },
    {
      "cell_type": "code",
      "metadata": {
        "id": "k8OD2FMiKrKI",
        "colab": {
          "base_uri": "https://localhost:8080/"
        },
        "outputId": "a04bf31a-2152-471a-eb94-d7b0102454c6"
      },
      "source": [
        "s1 = \"\"\"\n",
        "..##.......\n",
        "#...#...#..\n",
        ".#....#..#.\n",
        "..#.#...#.#\n",
        ".#...##..#.\n",
        "..#.##.....\n",
        ".#.#.#....#\n",
        ".#........#\n",
        "#.##...#...\n",
        "#...##....#\n",
        ".#..#...#.#\n",
        "\"\"\"\n",
        "\n",
        "\n",
        "def process(s, dyxs=((1, 3),)):\n",
        "  grid = np.array(list(map(list, s.strip('\\n').splitlines())))\n",
        "\n",
        "  def get_count(dyx):\n",
        "    yx = (0, 0)\n",
        "    count = 0\n",
        "    while yx[0] < grid.shape[0]:\n",
        "      count += grid[yx] == '#'\n",
        "      yx = yx[0] + dyx[0], (yx[1] + dyx[1]) % grid.shape[1]\n",
        "    return count\n",
        "  \n",
        "  return np.prod([get_count(dyx) for dyx in dyxs])\n",
        "\n",
        "\n",
        "check_eq(process(s1), 7)\n",
        "puzzle.verify(1, process)"
      ],
      "execution_count": 14,
      "outputs": [
        {
          "output_type": "stream",
          "text": [
            "(Time:  0.002)\n"
          ],
          "name": "stdout"
        }
      ]
    },
    {
      "cell_type": "code",
      "metadata": {
        "id": "-qme2hj5NJVE",
        "colab": {
          "base_uri": "https://localhost:8080/"
        },
        "outputId": "4c9eb23c-7b81-4b8d-b710-b9dcc06a379c"
      },
      "source": [
        "process2 = functools.partial(\n",
        "    process, dyxs=((1, 1), (1, 3), (1, 5), (1, 7), (2, 1)))\n",
        "\n",
        "check_eq(process2(s1), 336)\n",
        "puzzle.verify(2, process2)"
      ],
      "execution_count": 15,
      "outputs": [
        {
          "output_type": "stream",
          "text": [
            "(Time:  0.005)\n"
          ],
          "name": "stdout"
        }
      ]
    },
    {
      "cell_type": "markdown",
      "metadata": {
        "id": "QUstwnV9OQ73"
      },
      "source": [
        "## Day 4: Valid text fields"
      ]
    },
    {
      "cell_type": "markdown",
      "metadata": {
        "id": "2rusVWFOZiyd"
      },
      "source": [
        "Given records containing various fields, count the number of valid records.\n",
        "\n",
        "- Part 1: Each record is valid if it contains at least some required fields.\n",
        "\n",
        "- Part 2: The fields also satisfy a set of requirements."
      ]
    },
    {
      "cell_type": "code",
      "metadata": {
        "id": "mNvquM2xYBxI",
        "colab": {
          "base_uri": "https://localhost:8080/"
        },
        "outputId": "30d7ac32-63c0-4654-bf38-122393207008"
      },
      "source": [
        "puzzle = advent.puzzle(4)"
      ],
      "execution_count": 16,
      "outputs": [
        {
          "output_type": "stream",
          "text": [
            "For day 4, puzzle.input has 1102 lines:\n",
            "hcl:5d90f0 cid:270 ecl:#66dc9c hgt:62cm byr:1945 pid:63201172 eyr:2026\n",
            "\n",
            "ecl:amb byr:1943 iyr:2014 eyr:2028\n",
            "pid:333051831\n",
            "\n",
            "byr:1971\n",
            "eyr:2021 iyr:2015 pid:158388040 hcl:#18171d ecl:brn hgt:179cm\n",
            "\n",
            " ...\n",
            "hcl:#7d3b0c pid:431742871\n",
            "ecl:hzl hgt:169cm cid:340\n",
            "eyr:2023\n",
            "iyr:2017 byr:1994\n",
            "And the stored answers are: {1: 216, 2: 150}\n"
          ],
          "name": "stdout"
        }
      ]
    },
    {
      "cell_type": "code",
      "metadata": {
        "id": "Zg5BJ9IbOSyY",
        "colab": {
          "base_uri": "https://localhost:8080/"
        },
        "cellView": "form",
        "outputId": "b8d21638-a39c-4843-ff99-94239d66e83f"
      },
      "source": [
        "#@title\n",
        "print('Let s1, s2, s3 be test inputs.')\n",
        "\n",
        "s1 = \"\"\"\n",
        "ecl:gry pid:860033327 eyr:2020 hcl:#fffffd\n",
        "byr:1937 iyr:2017 cid:147 hgt:183cm\n",
        "\n",
        "iyr:2013 ecl:amb cid:350 eyr:2023 pid:028048884\n",
        "hcl:#cfa07d byr:1929\n",
        "\n",
        "hcl:#ae17e1 iyr:2013\n",
        "eyr:2024\n",
        "ecl:brn pid:760753108 byr:1931\n",
        "hgt:179cm\n",
        "\n",
        "hcl:#cfa07d eyr:2025 pid:166559648\n",
        "iyr:2011 ecl:brn hgt:59in\n",
        "\"\"\"\n",
        "\n",
        "# all invalid\n",
        "s2 = \"\"\"\n",
        "eyr:1972 cid:100\n",
        "hcl:#18171d ecl:amb hgt:170 pid:186cm iyr:2018 byr:1926\n",
        "\n",
        "iyr:2019\n",
        "hcl:#602927 eyr:1967 hgt:170cm\n",
        "ecl:grn pid:012533040 byr:1946\n",
        "\n",
        "hcl:dab227 iyr:2012\n",
        "ecl:brn hgt:182cm pid:021572410 eyr:2020 byr:1992 cid:277\n",
        "\n",
        "hgt:59cm ecl:zzz\n",
        "eyr:2038 hcl:74454a iyr:2023\n",
        "pid:3556412378 byr:2007\n",
        "\"\"\"\n",
        "\n",
        "# all valid\n",
        "s3 = \"\"\"\n",
        "pid:087499704 hgt:74in ecl:grn iyr:2012 eyr:2030 byr:1980\n",
        "hcl:#623a2f\n",
        "\n",
        "eyr:2029 ecl:blu cid:129 byr:1989\n",
        "iyr:2014 pid:896056539 hcl:#a97842 hgt:165cm\n",
        "\n",
        "hcl:#888785\n",
        "hgt:164cm byr:2001 iyr:2015 cid:88\n",
        "pid:545766238 ecl:hzl\n",
        "eyr:2022\n",
        "\n",
        "iyr:2010 hgt:158cm hcl:#b6652a ecl:blu byr:1944 eyr:2021 pid:093154719\n",
        "\"\"\""
      ],
      "execution_count": 17,
      "outputs": [
        {
          "output_type": "stream",
          "text": [
            "Let s1, s2, s3 be test inputs.\n"
          ],
          "name": "stdout"
        }
      ]
    },
    {
      "cell_type": "code",
      "metadata": {
        "id": "nzSK3GjrYAMe",
        "colab": {
          "base_uri": "https://localhost:8080/"
        },
        "outputId": "3a075bfd-fcaa-4186-abb1-7a88b3ef91a6"
      },
      "source": [
        "def process1(s):\n",
        "  required_fields = set('byr iyr eyr hgt hcl ecl pid'.split())\n",
        "  passports = s.strip('\\n').split('\\n\\n')\n",
        "  num_valid = 0\n",
        "  for passport in passports:\n",
        "    passport = passport.replace('\\n', ' ')\n",
        "    valid = all(field + ':' in passport for field in required_fields)\n",
        "    num_valid += valid\n",
        "  return num_valid\n",
        "\n",
        "\n",
        "check_eq(process1(s1), 2)\n",
        "puzzle.verify(1, process1)"
      ],
      "execution_count": 18,
      "outputs": [
        {
          "output_type": "stream",
          "text": [
            "(Time:  0.001)\n"
          ],
          "name": "stdout"
        }
      ]
    },
    {
      "cell_type": "code",
      "metadata": {
        "id": "uZcmS_BxZa-Q"
      },
      "source": [
        "# Field requirements:\n",
        "# byr (Birth Year) - four digits; at least 1920 and at most 2002.\n",
        "# iyr (Issue Year) - four digits; at least 2010 and at most 2020.\n",
        "# eyr (Expiration Year) - four digits; at least 2020 and at most 2030.\n",
        "# hgt (Height) - a number followed by either cm or in:\n",
        "# If cm, the number must be at least 150 and at most 193.\n",
        "# If in, the number must be at least 59 and at most 76.\n",
        "# hcl (Hair Color) - a # followed by exactly six characters 0-9 or a-f.\n",
        "# ecl (Eye Color) - exactly one of: amb blu brn gry grn hzl oth.\n",
        "# pid (Passport ID) - a nine-digit number, including leading zeroes.\n",
        "# cid (Country ID) - ignored, missing or not."
      ],
      "execution_count": 19,
      "outputs": []
    },
    {
      "cell_type": "code",
      "metadata": {
        "id": "HtWW5K9kZdng",
        "colab": {
          "base_uri": "https://localhost:8080/"
        },
        "outputId": "594fd057-52d5-4dda-82d5-afbd80a1a964"
      },
      "source": [
        "def process2(s):\n",
        "  passports = s.strip('\\n').split('\\n\\n')\n",
        "\n",
        "  def valid_fields(fields):\n",
        "    try:\n",
        "      value, unit = re.fullmatch(r'(\\d+)(cm|in)', fields['hgt']).groups()\n",
        "      year = lambda field: int(re.fullmatch(r'(\\d{4})', fields[field]).group())\n",
        "      return bool(\n",
        "          1920 <= year('byr') <= 2002 and\n",
        "          2010 <= year('iyr') <= 2020 and\n",
        "          2020 <= year('eyr') <= 2030 and\n",
        "          (unit != 'cm' or 150 <= int(value) <= 193) and\n",
        "          (unit != 'in' or 59 <= int(value) <= 76) and\n",
        "          re.fullmatch(r'#[0-9a-f]{6}', fields['hcl']) and\n",
        "          fields['ecl'] in 'amb blu brn gry grn hzl oth'.split() and\n",
        "          re.fullmatch(r'[0-9]{9}', fields['pid']))\n",
        "    except (AttributeError, KeyError):\n",
        "      return False\n",
        "\n",
        "  num_valid = 0\n",
        "  for passport in passports:\n",
        "    fields = dict(re.fullmatch(r'(\\w\\w\\w):(\\S+)', s_field).groups()\n",
        "                  for s_field in passport.split())\n",
        "    valid = valid_fields(fields)\n",
        "    num_valid += valid\n",
        "  return num_valid\n",
        "\n",
        "\n",
        "check_eq(process2(s2), 0)  # all records are invalid\n",
        "check_eq(process2(s3), 4)  # all records are valid\n",
        "puzzle.verify(2, process2)"
      ],
      "execution_count": 20,
      "outputs": [
        {
          "output_type": "stream",
          "text": [
            "(Time:  0.005)\n"
          ],
          "name": "stdout"
        }
      ]
    },
    {
      "cell_type": "markdown",
      "metadata": {
        "id": "hNJ1-j5mpY7H"
      },
      "source": [
        "## Day 5: Free seat in grid"
      ]
    },
    {
      "cell_type": "markdown",
      "metadata": {
        "id": "vhGV1fP_cVGd"
      },
      "source": [
        "Given input lines, each specifiying a seat identified using a binary encoding with symbols **B**ack, **F**ront, **L**eft, **R**ight.\n",
        "\n",
        "- Part 1: Determine the maximum seat id.\n",
        "\n",
        "- Part 2: Determine the missing seat id in the middle of the bunch."
      ]
    },
    {
      "cell_type": "code",
      "metadata": {
        "id": "Biwl1Rvhpaxs",
        "colab": {
          "base_uri": "https://localhost:8080/"
        },
        "outputId": "adda261a-42ef-4837-e3d2-8a96833993ee"
      },
      "source": [
        "puzzle = advent.puzzle(5)"
      ],
      "execution_count": 21,
      "outputs": [
        {
          "output_type": "stream",
          "text": [
            "For day 5, puzzle.input has 897 lines:\n",
            "BFBBFFBRRL\n",
            "BFBFFFFRLL\n",
            "FBFBFFBRRR\n",
            "FFBBBFBRLL\n",
            "BBBFBFBRLR\n",
            "BFBBFBFLRR\n",
            "FBBBFFFRRL\n",
            "BBFFBFFLLL\n",
            " ...\n",
            "BBFBFBFRRL\n",
            "BFFBBBBLLL\n",
            "FBFFBFBRRR\n",
            "FBFFFFBRLR\n",
            "And the stored answers are: {1: 965, 2: 524}\n"
          ],
          "name": "stdout"
        }
      ]
    },
    {
      "cell_type": "code",
      "metadata": {
        "id": "gYaLc3PrhrO8",
        "colab": {
          "base_uri": "https://localhost:8080/"
        },
        "outputId": "b62863a9-7508-4a8f-e0e6-7583a5bf6f1b"
      },
      "source": [
        "def get_seat_id(line):\n",
        "  return int(line.translate(str.maketrans('FBLR', '0101')), base=2)\n",
        "\n",
        "check_eq(get_seat_id('FBFBBFFRLR'), 357)\n",
        "check_eq(get_seat_id('BFFFBBFRRR'), 567)\n",
        "check_eq(get_seat_id('FFFBBBFRRR'), 119)\n",
        "check_eq(get_seat_id('BBFFBBFRLL'), 820)\n",
        "\n",
        "\n",
        "def process1(s):\n",
        "  return max(get_seat_id(line) for line in s.split())\n",
        "\n",
        "puzzle.verify(1, process1)"
      ],
      "execution_count": 22,
      "outputs": [
        {
          "output_type": "stream",
          "text": [
            "(Time:  0.001)\n"
          ],
          "name": "stdout"
        }
      ]
    },
    {
      "cell_type": "markdown",
      "metadata": {
        "id": "a-V6_zdZq7T6"
      },
      "source": [
        "Part 2"
      ]
    },
    {
      "cell_type": "code",
      "metadata": {
        "id": "GH12Oy6CphmX",
        "colab": {
          "base_uri": "https://localhost:8080/"
        },
        "outputId": "37c324a7-1355-4cc4-f9a1-781f5f2bd201"
      },
      "source": [
        "# For helpful visualization:\n",
        "def visualize_transposed_seat_grid(s):\n",
        "  grid = np.full((128, 8), 0)\n",
        "  yx = np.array([divmod(get_seat_id(line), 8) for line in s.split()])\n",
        "  grid[tuple(yx.T)] = 1\n",
        "  print('\\n'.join(''.join('.#'[e] for e in row) for row in grid.T))\n",
        "\n",
        "visualize_transposed_seat_grid(puzzle.input)"
      ],
      "execution_count": 23,
      "outputs": [
        {
          "output_type": "stream",
          "text": [
            ".........################################################################################################################.......\n",
            ".........################################################################################################################.......\n",
            ".........################################################################################################################.......\n",
            ".........################################################################################################################.......\n",
            "........#########################################################.#######################################################.......\n",
            "........#################################################################################################################.......\n",
            "........################################################################################################################........\n",
            "........################################################################################################################........\n"
          ],
          "name": "stdout"
        }
      ]
    },
    {
      "cell_type": "code",
      "metadata": {
        "colab": {
          "base_uri": "https://localhost:8080/"
        },
        "id": "Zr8ROXu8dlUy",
        "outputId": "478f258f-8b34-4920-e740-b146fca10b8d"
      },
      "source": [
        "# Code using string indexing:\n",
        "\n",
        "def find_all(string, substring, overlapping=False):\n",
        "  i = string.find(substring)\n",
        "  while i != -1:\n",
        "    yield i\n",
        "    i = string.find(substring, i + (1 if overlapping else len(substring)))\n",
        "\n",
        "def process2(s):\n",
        "  seat_ids = [get_seat_id(line) for line in s.split()]\n",
        "  occupied = ''.join('01'[seat_id in seat_ids] for seat_id in range(128 * 8))\n",
        "  i, = list(find_all(occupied, '101'))\n",
        "  seat_id = i + 1\n",
        "  return seat_id\n",
        "\n",
        "puzzle.verify(2, process2)"
      ],
      "execution_count": 24,
      "outputs": [
        {
          "output_type": "stream",
          "text": [
            "(Time:  0.007)\n"
          ],
          "name": "stdout"
        }
      ]
    },
    {
      "cell_type": "code",
      "metadata": {
        "colab": {
          "base_uri": "https://localhost:8080/"
        },
        "id": "gfpJsSaAdmtZ",
        "outputId": "4c3c8eb9-3ab3-46c5-d8b3-d2d8c8046860"
      },
      "source": [
        "# Code using regular expression search:\n",
        "def process2(s):\n",
        "  seat_ids = [get_seat_id(line) for line in s.split()]\n",
        "  occupied = ''.join('01'[seat_id in seat_ids] for seat_id in range(128 * 8))\n",
        "  seat_id, = [match.start() for match in re.finditer('(?<=1)0(?=1)', occupied)]\n",
        "  return seat_id\n",
        "\n",
        "puzzle.verify(2, process2)"
      ],
      "execution_count": 25,
      "outputs": [
        {
          "output_type": "stream",
          "text": [
            "(Time:  0.010)\n"
          ],
          "name": "stdout"
        }
      ]
    },
    {
      "cell_type": "code",
      "metadata": {
        "colab": {
          "base_uri": "https://localhost:8080/"
        },
        "id": "DMoWj_yTdoB4",
        "outputId": "0102c4f1-f9b0-4f7d-d078-eeed393ddfdc"
      },
      "source": [
        "# Code using numpy successive differences of sorted indices (fast):\n",
        "def process2(s):\n",
        "  seat_ids = np.sort([get_seat_id(line) for line in s.split()])\n",
        "  diff = np.diff(seat_ids)\n",
        "  i, = np.nonzero(diff == 2)[0]\n",
        "  seat_id = seat_ids[i] + 1\n",
        "  return seat_id\n",
        "\n",
        "puzzle.verify(2, process2)"
      ],
      "execution_count": 26,
      "outputs": [
        {
          "output_type": "stream",
          "text": [
            "(Time:  0.002)\n"
          ],
          "name": "stdout"
        }
      ]
    },
    {
      "cell_type": "code",
      "metadata": {
        "colab": {
          "base_uri": "https://localhost:8080/"
        },
        "id": "r-MtYsaGdpTn",
        "outputId": "fb0e70dd-bb5a-45eb-c473-a634a58a5610"
      },
      "source": [
        "# Code using numpy subsequence search (also fast):\n",
        "\n",
        "def matching_subsequences(array, sequence):\n",
        "  array, sequence = np.asarray(array), np.asarray(sequence)\n",
        "  return (array[np.arange(len(array) - len(sequence) + 1)[:, None] +\n",
        "          np.arange(len(sequence))] == sequence).all(axis=1)\n",
        "\n",
        "def process2(s):\n",
        "  seat_ids = [get_seat_id(line) for line in s.split()]\n",
        "  occupied = np.full(128 * 8, False)\n",
        "  occupied[seat_ids] = True\n",
        "  seat_id, = np.nonzero(matching_subsequences(occupied, (1, 0, 1)))[0] + 1\n",
        "  return seat_id\n",
        "\n",
        "puzzle.verify(2, process2)"
      ],
      "execution_count": 27,
      "outputs": [
        {
          "output_type": "stream",
          "text": [
            "(Time:  0.001)\n"
          ],
          "name": "stdout"
        }
      ]
    },
    {
      "cell_type": "markdown",
      "metadata": {
        "id": "RP8FssM4sDuZ"
      },
      "source": [
        "## Day 6: Counts across groups"
      ]
    },
    {
      "cell_type": "markdown",
      "metadata": {
        "id": "74mhb17yem9h"
      },
      "source": [
        "Given a set of records of words:\n",
        "\n",
        "- Part 1: Compute the number of unique letters in each record, and sum these.\n",
        "\n",
        "- Part 2: Compute the number of letters appearing in all words of each record, and sum these."
      ]
    },
    {
      "cell_type": "code",
      "metadata": {
        "id": "YskNwkMDsGCB",
        "colab": {
          "base_uri": "https://localhost:8080/"
        },
        "outputId": "cc329ff9-cc4b-494e-947f-0a57674fd8a5"
      },
      "source": [
        "puzzle = advent.puzzle(6)"
      ],
      "execution_count": 28,
      "outputs": [
        {
          "output_type": "stream",
          "text": [
            "For day 6, puzzle.input has 2172 lines:\n",
            "su\n",
            "egu\n",
            "\n",
            "h\n",
            "h\n",
            "h\n",
            "h\n",
            "\n",
            " ...\n",
            "\n",
            "lfhtzrxcj\n",
            "fbtzlhrcj\n",
            "lzdaftrjphco\n",
            "And the stored answers are: {1: 6590, 2: 3288}\n"
          ],
          "name": "stdout"
        }
      ]
    },
    {
      "cell_type": "code",
      "metadata": {
        "id": "6mCkU9KpmGU1",
        "colab": {
          "base_uri": "https://localhost:8080/"
        },
        "cellView": "form",
        "outputId": "76738cf6-f1f4-4fea-fcba-11cd24ea948e"
      },
      "source": [
        "#@title\n",
        "print('Let s1 be a test input.')\n",
        "\n",
        "s1 = \"\"\"\n",
        "abc\n",
        "\n",
        "a\n",
        "b\n",
        "c\n",
        "\n",
        "ab\n",
        "ac\n",
        "\n",
        "a\n",
        "a\n",
        "a\n",
        "a\n",
        "\n",
        "b\n",
        "\"\"\""
      ],
      "execution_count": 29,
      "outputs": [
        {
          "output_type": "stream",
          "text": [
            "Let s1 be a test input.\n"
          ],
          "name": "stdout"
        }
      ]
    },
    {
      "cell_type": "markdown",
      "metadata": {
        "id": "xgVfWlaahYQl"
      },
      "source": [
        "Part 1"
      ]
    },
    {
      "cell_type": "code",
      "metadata": {
        "colab": {
          "base_uri": "https://localhost:8080/"
        },
        "id": "shCaGdNVgCZ7",
        "outputId": "8b48e047-f556-452a-e711-0e7968685d74"
      },
      "source": [
        "# Long code:\n",
        "def process1(s):\n",
        "  total = 0\n",
        "  for group in s.strip('\\n').split('\\n\\n'):\n",
        "    union = set()\n",
        "    for line in group.splitlines():\n",
        "      union |= set(line)\n",
        "    total += len(union)\n",
        "  return total\n",
        "\n",
        "check_eq(process1(s1), 11)\n",
        "puzzle.verify(1, process1)"
      ],
      "execution_count": 30,
      "outputs": [
        {
          "output_type": "stream",
          "text": [
            "(Time:  0.003)\n"
          ],
          "name": "stdout"
        }
      ]
    },
    {
      "cell_type": "code",
      "metadata": {
        "colab": {
          "base_uri": "https://localhost:8080/"
        },
        "id": "wdmoLpGegHRo",
        "outputId": "2f61d542-1d1d-4c51-951f-4ad810c0785c"
      },
      "source": [
        "# Code using reduction:\n",
        "def process1(s):\n",
        "  return sum(\n",
        "      len(functools.reduce(operator.or_, map(set, group.splitlines())))\n",
        "      for group in s.strip('\\n').split('\\n\\n'))\n",
        "\n",
        "check_eq(process1(s1), 11)\n",
        "puzzle.verify(1, process1)"
      ],
      "execution_count": 31,
      "outputs": [
        {
          "output_type": "stream",
          "text": [
            "(Time:  0.005)\n"
          ],
          "name": "stdout"
        }
      ]
    },
    {
      "cell_type": "code",
      "metadata": {
        "colab": {
          "base_uri": "https://localhost:8080/"
        },
        "id": "hP_Q22YbgIcP",
        "outputId": "9ff5c78f-ae62-4302-a804-9c06bc6de0f6"
      },
      "source": [
        "# Compact code which is also fastest:\n",
        "def process1(s):\n",
        "  return sum(\n",
        "      len(set().union(group.replace('\\n', '')))\n",
        "      for group in s.strip('\\n').split('\\n\\n'))\n",
        "\n",
        "check_eq(process1(s1), 11)\n",
        "puzzle.verify(1, process1)"
      ],
      "execution_count": 32,
      "outputs": [
        {
          "output_type": "stream",
          "text": [
            "(Time:  0.001)\n"
          ],
          "name": "stdout"
        }
      ]
    },
    {
      "cell_type": "markdown",
      "metadata": {
        "id": "D-mMCiwqgrmk"
      },
      "source": [
        "Part 2"
      ]
    },
    {
      "cell_type": "code",
      "metadata": {
        "colab": {
          "base_uri": "https://localhost:8080/"
        },
        "id": "r9RGOmtdg9aM",
        "outputId": "cbbb6be1-2cbe-46cc-9959-0a43dd548446"
      },
      "source": [
        "# Code using reduction:\n",
        "def process2(s):\n",
        "  return sum(\n",
        "      len(functools.reduce(operator.and_, map(set, group.splitlines())))\n",
        "      for group in s.strip('\\n').split('\\n\\n'))\n",
        "\n",
        "check_eq(process2(s1), 6)\n",
        "puzzle.verify(2, process2)"
      ],
      "execution_count": 33,
      "outputs": [
        {
          "output_type": "stream",
          "text": [
            "(Time:  0.004)\n"
          ],
          "name": "stdout"
        }
      ]
    },
    {
      "cell_type": "code",
      "metadata": {
        "colab": {
          "base_uri": "https://localhost:8080/"
        },
        "id": "ezOQ4kGzg-YF",
        "outputId": "576a82cc-c1e0-4ffc-d510-3ad3315fa701"
      },
      "source": [
        "# Compact code which is faster:\n",
        "def process2(s):\n",
        "  return sum(\n",
        "      len(set.intersection(*map(set, group.splitlines())))\n",
        "      for group in s.strip('\\n').split('\\n\\n'))\n",
        "\n",
        "check_eq(process2(s1), 6)\n",
        "puzzle.verify(2, process2)"
      ],
      "execution_count": 34,
      "outputs": [
        {
          "output_type": "stream",
          "text": [
            "(Time:  0.003)\n"
          ],
          "name": "stdout"
        }
      ]
    },
    {
      "cell_type": "code",
      "metadata": {
        "id": "gwUiHgrusGfZ",
        "colab": {
          "base_uri": "https://localhost:8080/"
        },
        "outputId": "bcf84fa9-1263-4d2e-cbea-971b16c48e30"
      },
      "source": [
        "# Long code which is fastest:\n",
        "def process2(s):\n",
        "  total = 0\n",
        "  for group in s.strip('\\n').split('\\n\\n'):\n",
        "    intersect = None\n",
        "    for line in group.splitlines():\n",
        "      line_set = set(line)\n",
        "      if intersect is None:\n",
        "        intersect = line_set\n",
        "      else:\n",
        "        intersect &= line_set\n",
        "        if not intersect:\n",
        "          break\n",
        "    total += len(intersect)\n",
        "  return total\n",
        "\n",
        "check_eq(process2(s1), 6)\n",
        "puzzle.verify(2, process2)"
      ],
      "execution_count": 35,
      "outputs": [
        {
          "output_type": "stream",
          "text": [
            "(Time:  0.002)\n"
          ],
          "name": "stdout"
        }
      ]
    },
    {
      "cell_type": "markdown",
      "metadata": {
        "id": "RWStaG-bqzmz"
      },
      "source": [
        "## Day 7: Nested bags"
      ]
    },
    {
      "cell_type": "markdown",
      "metadata": {
        "id": "vz-zlIZjjkTs"
      },
      "source": [
        "Given a description of bag colors, where each colored bag contains a collection of other colored bags:\n",
        "\n",
        "- Part 1: Determine the number of bag colors that can eventually contain a specified bag color.\n",
        "\n",
        "- Part 2: Determine the total number of bags required inside a specified bag color."
      ]
    },
    {
      "cell_type": "code",
      "metadata": {
        "id": "-anp0Vouq24h",
        "colab": {
          "base_uri": "https://localhost:8080/"
        },
        "outputId": "49b3dcad-7dcc-4a13-fa3d-388b48230679"
      },
      "source": [
        "puzzle = advent.puzzle(7)"
      ],
      "execution_count": 36,
      "outputs": [
        {
          "output_type": "stream",
          "text": [
            "For day 7, puzzle.input has 594 lines:\n",
            "dim red bags contain 2 bright gold bags, 5 striped fuchsia bags.\n",
            "dotted purple bags contain 5 bright olive bags, 3 faded maroon bags.\n",
            "plaid chartreuse bags contain 1 vibrant olive bag, 5 bright black bags, 1 clear tomato bag.\n",
            "wavy orange bags contain 4 dark lavender bags, 4 posh white bags.\n",
            "light lavender bags contain 4 drab olive bags, 5 dark magenta bags.\n",
            "pale black bags contain 5 dotted beige bags, 5 clear chartreuse bags, 4 pale lime bags.\n",
            "wavy crimson bags contain 5 dull tomato bags.\n",
            "muted aqua bags contain 1 dotted aqua bag, 5 posh plum bags, 1 bright blue bag.\n",
            " ...\n",
            "vibrant lime bags contain 5 light green bags.\n",
            "dark maroon bags contain 5 drab bronze bags, 4 bright red bags, 1 posh cyan bag.\n",
            "wavy red bags contain 2 mirrored beige bags, 5 muted crimson bags, 5 vibrant orange bags, 3 posh turquoise bags.\n",
            "drab brown bags contain 1 faded tan bag, 3 vibrant maroon bags.\n",
            "And the stored answers are: {1: 115, 2: 1250}\n"
          ],
          "name": "stdout"
        }
      ]
    },
    {
      "cell_type": "code",
      "metadata": {
        "id": "UYevJT7hurXB",
        "colab": {
          "base_uri": "https://localhost:8080/"
        },
        "cellView": "form",
        "outputId": "409076fc-7ec0-4ae1-d75c-fc2e3ec0340c"
      },
      "source": [
        "#@title\n",
        "print('Let s1, s2 be test inputs.')\n",
        "\n",
        "s1 = \"\"\"\n",
        "light red bags contain 1 bright white bag, 2 muted yellow bags.\n",
        "dark orange bags contain 3 bright white bags, 4 muted yellow bags.\n",
        "bright white bags contain 1 shiny gold bag.\n",
        "muted yellow bags contain 2 shiny gold bags, 9 faded blue bags.\n",
        "shiny gold bags contain 1 dark olive bag, 2 vibrant plum bags.\n",
        "dark olive bags contain 3 faded blue bags, 4 dotted black bags.\n",
        "vibrant plum bags contain 5 faded blue bags, 6 dotted black bags.\n",
        "faded blue bags contain no other bags.\n",
        "dotted black bags contain no other bags.\n",
        "\"\"\"\n",
        "\n",
        "s2 = \"\"\"\n",
        "shiny gold bags contain 2 dark red bags.\n",
        "dark red bags contain 2 dark orange bags.\n",
        "dark orange bags contain 2 dark yellow bags.\n",
        "dark yellow bags contain 2 dark green bags.\n",
        "dark green bags contain 2 dark blue bags.\n",
        "dark blue bags contain 2 dark violet bags.\n",
        "dark violet bags contain no other bags.\n",
        "\"\"\""
      ],
      "execution_count": 37,
      "outputs": [
        {
          "output_type": "stream",
          "text": [
            "Let s1, s2 be test inputs.\n"
          ],
          "name": "stdout"
        }
      ]
    },
    {
      "cell_type": "code",
      "metadata": {
        "id": "DwuIhiIxjftU"
      },
      "source": [
        "def get_bag_contents(s):\n",
        "  contents = {}\n",
        "  for line in s.strip('\\n').splitlines():\n",
        "    outer, inners = line.split(' bags contain ')\n",
        "    contents[outer] = {}\n",
        "    for match in re.finditer(r'(\\d+) (.*?) bags?[,.]', inners):\n",
        "      n, inner = match.groups()\n",
        "      contents[outer][inner] = int(n)\n",
        "  return contents"
      ],
      "execution_count": 38,
      "outputs": []
    },
    {
      "cell_type": "code",
      "metadata": {
        "colab": {
          "base_uri": "https://localhost:8080/"
        },
        "id": "QzumeUvqknLs",
        "outputId": "c42fc8b4-605f-45a0-a69f-267beef9e87a"
      },
      "source": [
        "# Compact code\n",
        "def process1(s, query='shiny gold'):\n",
        "  \"\"\"Returns number of bag colors that can eventually contain >=1 query bag.\"\"\"\n",
        "  contents = get_bag_contents(s)\n",
        "\n",
        "  def valid(bag):\n",
        "    return any(inner == query or valid(inner) for inner in contents[bag])\n",
        "\n",
        "  return sum(valid(bag) for bag in contents)\n",
        "\n",
        "check_eq(process1(s1), 4)\n",
        "puzzle.verify(1, process1)"
      ],
      "execution_count": 39,
      "outputs": [
        {
          "output_type": "stream",
          "text": [
            "(Time:  0.200)\n"
          ],
          "name": "stdout"
        }
      ]
    },
    {
      "cell_type": "code",
      "metadata": {
        "colab": {
          "base_uri": "https://localhost:8080/"
        },
        "id": "Fmz1hNcxkYCN",
        "outputId": "c4252f54-6f69-4618-a0a6-16b8edb06817"
      },
      "source": [
        "# Faster code\n",
        "def process1(s, query='shiny gold'):\n",
        "  contents = get_bag_contents(s)  # computational bottleneck\n",
        "  parents = collections.defaultdict(list)\n",
        "  for bag in contents:\n",
        "    for child in contents[bag]:\n",
        "      parents[child].append(bag)\n",
        "\n",
        "  valid = set()\n",
        "  to_visit = collections.deque([query])\n",
        "  while to_visit:\n",
        "    bag = to_visit.popleft()\n",
        "    for parent in parents[bag]:\n",
        "      if parent not in valid:\n",
        "        valid.add(parent)\n",
        "        to_visit.append(parent)\n",
        "\n",
        "  return len(valid)\n",
        "\n",
        "check_eq(process1(s1), 4)\n",
        "puzzle.verify(1, process1)"
      ],
      "execution_count": 40,
      "outputs": [
        {
          "output_type": "stream",
          "text": [
            "(Time:  0.003)\n"
          ],
          "name": "stdout"
        }
      ]
    },
    {
      "cell_type": "markdown",
      "metadata": {
        "id": "DGP7T8BZlKDj"
      },
      "source": [
        "Part 2"
      ]
    },
    {
      "cell_type": "code",
      "metadata": {
        "id": "4ArbIfdzq3Jg",
        "colab": {
          "base_uri": "https://localhost:8080/"
        },
        "outputId": "8bb351f5-25b8-41ca-a56d-e320c4b48df8"
      },
      "source": [
        "def process2(s, query='shiny gold'):\n",
        "  \"\"\"Returns total number of individual bags required inside a query bag.\"\"\"\n",
        "  contents = get_bag_contents(s)  # computational bottleneck\n",
        "\n",
        "  def count_inside(bag):\n",
        "    return sum(n * (count_inside(b) + 1) for b, n in contents[bag].items())\n",
        "\n",
        "  return count_inside(query)\n",
        "\n",
        "check_eq(process2(s1), 32)\n",
        "check_eq(process2(s2), 126)\n",
        "puzzle.verify(2, process2)"
      ],
      "execution_count": 41,
      "outputs": [
        {
          "output_type": "stream",
          "text": [
            "(Time:  0.003)\n"
          ],
          "name": "stdout"
        }
      ]
    },
    {
      "cell_type": "markdown",
      "metadata": {
        "id": "Q4Meyx1ABj8r"
      },
      "source": [
        "## Day 8: Program with acc, nop, jmp"
      ]
    },
    {
      "cell_type": "markdown",
      "metadata": {
        "id": "57IX_n5ilo97"
      },
      "source": [
        "Given a program with instructions `nop`, `acc`, and `jmp`:\n",
        "\n",
        "- Part 1: Determine the sum of the `acc` operands when running the program until the program counter becomes invalid.\n",
        "\n",
        "- Part 2: Modify the program by swapping one of its opcodes between `nop` and `jmp` such that it terminates (with the program counter at the end), and report the sum of the `acc` operands."
      ]
    },
    {
      "cell_type": "code",
      "metadata": {
        "id": "PEIzMPu6BlZ-",
        "colab": {
          "base_uri": "https://localhost:8080/"
        },
        "outputId": "c0d5476f-b60b-4075-e550-78a50f439f3a"
      },
      "source": [
        "puzzle = advent.puzzle(8)"
      ],
      "execution_count": 42,
      "outputs": [
        {
          "output_type": "stream",
          "text": [
            "For day 8, puzzle.input has 638 lines:\n",
            "acc +8\n",
            "acc +37\n",
            "jmp +328\n",
            "jmp +574\n",
            "nop +321\n",
            "acc +17\n",
            "jmp +450\n",
            "acc +46\n",
            " ...\n",
            "acc +6\n",
            "acc +21\n",
            "acc +16\n",
            "jmp +1\n",
            "And the stored answers are: {1: 1521, 2: 1016}\n"
          ],
          "name": "stdout"
        }
      ]
    },
    {
      "cell_type": "code",
      "metadata": {
        "id": "f8aZ49hRuC05"
      },
      "source": [
        "s1 = \"\"\"\n",
        "nop +0\n",
        "acc +1\n",
        "jmp +4\n",
        "acc +3\n",
        "jmp -3\n",
        "acc -99\n",
        "acc +1\n",
        "jmp -4\n",
        "acc +6\n",
        "\"\"\""
      ],
      "execution_count": 43,
      "outputs": []
    },
    {
      "cell_type": "code",
      "metadata": {
        "colab": {
          "base_uri": "https://localhost:8080/"
        },
        "id": "IydRSMt-Krrt",
        "outputId": "7cce0c1f-437f-4d2e-86f7-919b212489f0"
      },
      "source": [
        "def run_program(ops):\n",
        "  pc = 0\n",
        "  acc = 0\n",
        "  visited = set()\n",
        "  while 0 <= pc < len(ops) and pc not in visited:\n",
        "    visited.add(pc)\n",
        "    operation, operand = ops[pc]\n",
        "    if operation == 'nop':\n",
        "      pc += 1\n",
        "    elif operation == 'acc':\n",
        "      acc += operand\n",
        "      pc += 1\n",
        "    elif operation == 'jmp':\n",
        "      pc += operand\n",
        "    else:\n",
        "      raise AssertionError\n",
        "  return pc, acc\n",
        "\n",
        "\n",
        "def process1(s):\n",
        "  ops = [(line[:3], int(line[4:])) for line in s.strip('\\n').splitlines()]\n",
        "  pc, acc = run_program(ops)\n",
        "  assert 0 <= pc < len(ops)\n",
        "  return acc\n",
        "\n",
        "check_eq(process1(s1), 5)\n",
        "puzzle.verify(1, process1)"
      ],
      "execution_count": 44,
      "outputs": [
        {
          "output_type": "stream",
          "text": [
            "(Time:  0.000)\n"
          ],
          "name": "stdout"
        }
      ]
    },
    {
      "cell_type": "code",
      "metadata": {
        "colab": {
          "base_uri": "https://localhost:8080/"
        },
        "id": "q365Aq_iLMwx",
        "outputId": "9ee0cefc-7e81-45e7-dec2-d96d617cbbd0"
      },
      "source": [
        "def process2(s):\n",
        "  ops = [(line[:3], int(line[4:])) for line in s.strip('\\n').splitlines()]\n",
        "  for i in range(len(ops)):\n",
        "    if ops[i][0] in ('nop', 'jmp'):\n",
        "      original_op = ops[i]\n",
        "      ops[i] = (('jmp' if ops[i][0] == 'nop' else 'nop'), ops[i][1])\n",
        "      pc, acc = run_program(ops)\n",
        "      ops[i] = original_op\n",
        "      if pc == len(ops):\n",
        "        return acc\n",
        "  return None\n",
        "\n",
        "check_eq(process2(s1), 8)\n",
        "puzzle.verify(2, process2)"
      ],
      "execution_count": 45,
      "outputs": [
        {
          "output_type": "stream",
          "text": [
            "(Time:  0.010)\n"
          ],
          "name": "stdout"
        }
      ]
    },
    {
      "cell_type": "markdown",
      "metadata": {
        "id": "X1Sh_yQ27qLM"
      },
      "source": [
        "## Day 9: Sums in subsequences"
      ]
    },
    {
      "cell_type": "markdown",
      "metadata": {
        "id": "XpUaSYj4nRab"
      },
      "source": [
        "Given a list of numbers:\n",
        "\n",
        "- Part 1: Find the first number that is not a sum of a pair of numbers in the prior `n` numbers.\n",
        "\n",
        "- Part 2: Find a subsequence of at least 2 numbers that sums to the value obtained in part 1, compute the min and max of the subsequence, and report their product."
      ]
    },
    {
      "cell_type": "code",
      "metadata": {
        "id": "PjOeqVhc7rpR",
        "colab": {
          "base_uri": "https://localhost:8080/"
        },
        "outputId": "61d70359-1fcd-4f97-e1fd-21e91aeb98a0"
      },
      "source": [
        "puzzle = advent.puzzle(9)"
      ],
      "execution_count": 46,
      "outputs": [
        {
          "output_type": "stream",
          "text": [
            "For day 9, puzzle.input has 1000 lines:\n",
            "19\n",
            "30\n",
            "13\n",
            "31\n",
            "42\n",
            "41\n",
            "44\n",
            "34\n",
            " ...\n",
            "30187342902183\n",
            "39869127705106\n",
            "31005328029673\n",
            "49124948203304\n",
            "And the stored answers are: {1: 393911906, 2: 59341885}\n"
          ],
          "name": "stdout"
        }
      ]
    },
    {
      "cell_type": "code",
      "metadata": {
        "id": "rLT07Jvq7twr",
        "colab": {
          "base_uri": "https://localhost:8080/"
        },
        "cellView": "form",
        "outputId": "226b93b2-6280-46c3-aa27-4c18848e29d1"
      },
      "source": [
        "#@title\n",
        "print('Let s1 be a test input.')\n",
        "\n",
        "s1 = \"\"\"\n",
        "35\n",
        "20\n",
        "15\n",
        "25\n",
        "47\n",
        "40\n",
        "62\n",
        "55\n",
        "65\n",
        "95\n",
        "102\n",
        "117\n",
        "150\n",
        "182\n",
        "127\n",
        "219\n",
        "299\n",
        "277\n",
        "309\n",
        "576\n",
        "\"\"\""
      ],
      "execution_count": 47,
      "outputs": [
        {
          "output_type": "stream",
          "text": [
            "Let s1 be a test input.\n"
          ],
          "name": "stdout"
        }
      ]
    },
    {
      "cell_type": "code",
      "metadata": {
        "id": "-jgheoftAPOd",
        "colab": {
          "base_uri": "https://localhost:8080/"
        },
        "outputId": "de61689e-e09d-44c1-c8b0-b3ef72e87368"
      },
      "source": [
        "def process(s, last_n=25, part2=False):\n",
        "  l = list(map(int, s.split()))\n",
        "\n",
        "  def has_pair(l, total):\n",
        "    # return any(a + b == total for a, b in itertools.combinations(l, 2))\n",
        "    return any(total - l[i] in l[i + 1:] for i in range(len(l)))\n",
        "\n",
        "  def first_number_not_sum_of_pair_in_last_n(n):\n",
        "    return next(l[i] for i in range(n, len(l)) \n",
        "                if not has_pair(l[i - n:i], l[i]))\n",
        "\n",
        "  invalid_number = first_number_not_sum_of_pair_in_last_n(last_n)\n",
        "  if not part2:\n",
        "    return invalid_number\n",
        "\n",
        "  # Find a contiguous set of at least two numbers in your list which sum to the\n",
        "  # invalid number.  Approach: compute cumulative sum accum[i], then for each i\n",
        "  # do bisection search to try to locate l[i] + invalid_number.\n",
        "\n",
        "  def find_subsequence_summing_to(total):\n",
        "    accum = list(itertools.accumulate(l, operator.add))  # accum[i] = sum(l[:i])\n",
        "    for i in range(len(accum)):\n",
        "      end_value = accum[i] + total\n",
        "      j = bisect.bisect_left(accum, end_value)\n",
        "      if j != len(accum) and accum[j] == end_value:\n",
        "        return l[i + 1:j + 1]\n",
        "\n",
        "  sequence = find_subsequence_summing_to(invalid_number)\n",
        "  assert sum(sequence) == invalid_number\n",
        "  return min(sequence) + max(sequence)\n",
        "\n",
        "\n",
        "check_eq(process(s1, last_n=5), 127)\n",
        "puzzle.verify(1, process)\n",
        "\n",
        "process2 = functools.partial(process, part2=True)\n",
        "check_eq(process2(s1, last_n=5), 62)\n",
        "puzzle.verify(2, process2)"
      ],
      "execution_count": 48,
      "outputs": [
        {
          "output_type": "stream",
          "text": [
            "(Time:  0.002)\n",
            "(Time:  0.002)\n"
          ],
          "name": "stdout"
        }
      ]
    },
    {
      "cell_type": "markdown",
      "metadata": {
        "id": "NPNtev-y-bVo"
      },
      "source": [
        "## Day 10: Combinations of sequences"
      ]
    },
    {
      "cell_type": "markdown",
      "metadata": {
        "id": "yBGbSZH3o5GU"
      },
      "source": [
        "Given a set of numbers,\n",
        "\n",
        "- Part 1: Augment the numbers with the values `0` and `max + 3`, tally the successive differences of the sorted numbers, and report the product of the 1-differences and the 3-differences.\n",
        "\n",
        "- Part 2: Count the number of ways to monotonically traverse the numbers such that successive differences are at most 3."
      ]
    },
    {
      "cell_type": "code",
      "metadata": {
        "id": "YzM1ko8L-bVo",
        "colab": {
          "base_uri": "https://localhost:8080/"
        },
        "outputId": "b94f0ee1-7447-42ab-b16f-ffc6cdb437ea"
      },
      "source": [
        "puzzle = advent.puzzle(10)"
      ],
      "execution_count": 49,
      "outputs": [
        {
          "output_type": "stream",
          "text": [
            "For day 10, puzzle.input has 97 lines:\n",
            "8\n",
            "131\n",
            "91\n",
            "35\n",
            "47\n",
            "116\n",
            "105\n",
            "121\n",
            " ...\n",
            "95\n",
            "3\n",
            "52\n",
            "49\n",
            "And the stored answers are: {1: 2112, 2: 3022415986688}\n"
          ],
          "name": "stdout"
        }
      ]
    },
    {
      "cell_type": "code",
      "metadata": {
        "id": "DFo_tRzl-bVo",
        "colab": {
          "base_uri": "https://localhost:8080/"
        },
        "cellView": "form",
        "outputId": "f1746898-5bfc-4d16-a113-c98a0c7108c5"
      },
      "source": [
        "#@title\n",
        "print('Let s1, s2 be test inputs.')\n",
        "\n",
        "s1 = \"\"\"\n",
        "16\n",
        "10\n",
        "15\n",
        "5\n",
        "1\n",
        "11\n",
        "7\n",
        "19\n",
        "6\n",
        "12\n",
        "4\n",
        "\"\"\"\n",
        "\n",
        "s2 = \"\"\"\n",
        "28\n",
        "33\n",
        "18\n",
        "42\n",
        "31\n",
        "14\n",
        "46\n",
        "20\n",
        "48\n",
        "47\n",
        "24\n",
        "23\n",
        "49\n",
        "45\n",
        "19\n",
        "38\n",
        "39\n",
        "11\n",
        "1\n",
        "32\n",
        "25\n",
        "35\n",
        "8\n",
        "17\n",
        "7\n",
        "9\n",
        "4\n",
        "2\n",
        "34\n",
        "10\n",
        "3\n",
        "\"\"\""
      ],
      "execution_count": 50,
      "outputs": [
        {
          "output_type": "stream",
          "text": [
            "Let s1, s2 be test inputs.\n"
          ],
          "name": "stdout"
        }
      ]
    },
    {
      "cell_type": "code",
      "metadata": {
        "colab": {
          "base_uri": "https://localhost:8080/"
        },
        "id": "MmP9fQv3pmY8",
        "outputId": "89e4b127-d173-4269-8aea-c2b6012c1066"
      },
      "source": [
        "def process1(s):\n",
        "  l = sorted(map(int, s.split()))\n",
        "  counter = collections.Counter(np.diff([0] + l + [l[-1] + 3]))\n",
        "  return counter[1] * counter[3]\n",
        "\n",
        "check_eq(process1(s1), 7 * 5)\n",
        "check_eq(process1(s2), 22 * 10)\n",
        "puzzle.verify(1, process1)  # 66 * 32"
      ],
      "execution_count": 51,
      "outputs": [
        {
          "output_type": "stream",
          "text": [
            "(Time:  0.000)\n"
          ],
          "name": "stdout"
        }
      ]
    },
    {
      "cell_type": "markdown",
      "metadata": {
        "id": "I1shyQIlp2Xt"
      },
      "source": [
        "Part 2"
      ]
    },
    {
      "cell_type": "code",
      "metadata": {
        "id": "sM7QhkBb-bVo",
        "colab": {
          "base_uri": "https://localhost:8080/"
        },
        "outputId": "623de34b-879a-478f-9a7c-22c5e68bea74"
      },
      "source": [
        "# Observation: when there is a separation of 3 units, the problem decouples\n",
        "# into a product of the solutions of subproblems.\n",
        "\n",
        "# Because the voltages differences are just 1 or 3, we can simply count the\n",
        "# length of the sequences of value 1, and derive a closed-form number for each\n",
        "# sequence.\n",
        "\n",
        "def process2(s):\n",
        "  diff = np.diff([0] + sorted(map(int, s.split())))\n",
        "  lengths_of_ones = map(len, re.findall('1+', ''.join(map(str, diff))))\n",
        "\n",
        "  def f(n):\n",
        "    \"\"\"Number of combinations from a sequence of n consecutive one-diffs.\"\"\"\n",
        "    return 0 if n < 0 else 1 if n < 2 else f(n - 1) + f(n - 2) + f(n - 3)\n",
        "\n",
        "  return np.prod(list(map(f, lengths_of_ones)))\n",
        "\n",
        "check_eq(process2(s1), 8)\n",
        "check_eq(process2(s2), 19208)\n",
        "puzzle.verify(2, process2)"
      ],
      "execution_count": 52,
      "outputs": [
        {
          "output_type": "stream",
          "text": [
            "(Time:  0.000)\n"
          ],
          "name": "stdout"
        }
      ]
    },
    {
      "cell_type": "code",
      "metadata": {
        "id": "tJQIUkGFuig8",
        "colab": {
          "base_uri": "https://localhost:8080/"
        },
        "outputId": "2dabbf24-2a6a-45c0-c732-ed4b5d2427d9"
      },
      "source": [
        "# More general solution based on dynamic programming with scatter.\n",
        "def process2(s):\n",
        "  l = [0] + sorted(map(int, s.split()))\n",
        "  npaths = [1] + [0] * (len(l) - 1)\n",
        "  for i in range(len(l)):\n",
        "    for j in range(i + 1, min(i + 4, len(l))):\n",
        "      if l[j] - l[i] <= 3:\n",
        "        npaths[j] += npaths[i]\n",
        "  return npaths[-1]\n",
        "\n",
        "check_eq(process2(s1), 8)\n",
        "check_eq(process2(s2), 19208)\n",
        "puzzle.verify(2, process2)"
      ],
      "execution_count": 53,
      "outputs": [
        {
          "output_type": "stream",
          "text": [
            "(Time:  0.000)\n"
          ],
          "name": "stdout"
        }
      ]
    },
    {
      "cell_type": "code",
      "metadata": {
        "id": "iurqdxeFukTM",
        "colab": {
          "base_uri": "https://localhost:8080/"
        },
        "outputId": "7910609b-f706-4277-ea23-3523a86279e6"
      },
      "source": [
        "# Simplest solution based on dynamic programming with gather.\n",
        "def process2(s):\n",
        "  l = [0] + sorted(map(int, s.split()))\n",
        "  npaths = [1]\n",
        "  for i in range(1, len(l)):\n",
        "    npaths.append(sum(npaths[j] for j in range(-4, 0)\n",
        "                      if i + j >= 0 and l[i] - l[i + j] < 4))\n",
        "  return npaths[-1]\n",
        "\n",
        "check_eq(process2(s1), 8)\n",
        "check_eq(process2(s2), 19208)\n",
        "puzzle.verify(2, process2)"
      ],
      "execution_count": 54,
      "outputs": [
        {
          "output_type": "stream",
          "text": [
            "(Time:  0.000)\n"
          ],
          "name": "stdout"
        }
      ]
    },
    {
      "cell_type": "markdown",
      "metadata": {
        "id": "RQzQ7A9H-bzv"
      },
      "source": [
        "## Day 11: Seats cellular automaton"
      ]
    },
    {
      "cell_type": "markdown",
      "metadata": {
        "id": "COrOzLteqsLY"
      },
      "source": [
        "Given a *sparse* 2D grid of nodes, run successive generations of a cellular automaton until convergence.\n",
        "\n",
        "- Part 1: Each node's neighbors are the immediately adjacent nodes (up to 8, with Manhattan distance 1).\n",
        "  \n",
        "  For each generation:\n",
        "  - a free node becomes occupied if it has zero occupied neighbors, and\n",
        "  - an occupied node becomes free if it has 4 or more occupied neighbors.\n",
        "\n",
        "- Part 2: The evolution rule is modified in two ways:\n",
        "  - For each of the 8 neighbor directions, the neighbor is defined as the first node along that direction.\n",
        "  - An occupied node becomes free if it has 5 or more occupied neighbors."
      ]
    },
    {
      "cell_type": "code",
      "metadata": {
        "id": "Bg_kB1f1-bzv",
        "colab": {
          "base_uri": "https://localhost:8080/"
        },
        "outputId": "715c6aa3-e10f-4289-cbf1-24bfdf498cbf"
      },
      "source": [
        "puzzle = advent.puzzle(11)"
      ],
      "execution_count": 55,
      "outputs": [
        {
          "output_type": "stream",
          "text": [
            "For day 11, puzzle.input has 99 lines:\n",
            "LLLLLLLLLL.LLLLLL.LLLLLLLLLLLL.LL.LLLL.LLLLL.LLLLLLL.LLLLLL.LLLLLL.LLLLLL.LLLLLLLLLLLLLLLLLL\n",
            "LLLLLLLLLLLLLLLLLLLLLLLLLLLLLL.LLLLLLL.LLLLL.LLLLLLL.LLLLLLLLLLLLL.LLLL.L.LLLLLLLLLL.LLLLLLL\n",
            "LLLLLLLLLL.LLLLLL.LLLLLL.LLLLL.LLLLLLLLLLLLLLLLLLLLL.LLLLLL..LLLLL.LLLLLL.LLLLLL.LLLLLLLLLLL\n",
            "LLLLLLLLLL.LLLLLLLLLLLLL.LL.LL.LLLLL.L.LLLLL.LLLLLLL.LLLLLL.LLLLLLLLLLLLL.LLLLLLLLLLLLLLLLLL\n",
            "LLLLLLLLLLLLLLLLL.LLLLLL.LLLLLLLLLLLLLLLLLLL.LLLLLLL.LLL.LL.LLLLLL.LLLLLL.LLLLLLLLLLLLLLLLLL\n",
            "LLLLLLLLLLLLLLLLL.LLLLLL.LLLLL.LLLLLLL.LLL.L.LLLLLLLLLLLLLLLLLLLLLLLLLLLL.LLLLLL.LLLLLLLL.LL\n",
            "LLLLLLLLLLLLLLLLL.LLLLLLLLLL.LLLLLLLLL.LLLLL.LLLLLLL.LLLL.L.LLLLLLLLLLLLL.LLLLLLLLLLLLLLLLLL\n",
            ".L.LL...LLLL.......L....L.LLLLLL.......LL....LL...L..L.LLL...LLL..L.L.L.L..L...............L\n",
            " ...\n",
            "LLLLLLLLLL.LLLLLL.LLLLLL.LLLLL.LLLLL.L.LLLLLLLLLLLLL.LL.LLLLL.LLLL.LLLLLL.LLLLLLLLLL.LLLLLLL\n",
            "LLLLLLLLLLLLLLLLL.LLLLLL.LLLLL.LLLLLLL.LLLLL..LLLLLL.LLLLLL.LLLLLL.LLLLLL.LLLLLL.LLLLLLLLLLL\n",
            "LLLLLLLLLL.LLL.LLLLLLLLL.LLLLL.LLLLLLLLLLLL..LLLLLLL.LLLLL..LLLLLL.LLLLLL.LLLLLLLLLLLLLLLLLL\n",
            "LLLLLLLLLLLLLLLLL.LLLLLL.LLLLL.LLLLLLL.LLLLLLLLLLLLL.LLLLLL.LLLLLL.LL.LLLLLLLLLL.LLLLLLLLLLL\n",
            "And the stored answers are: {1: 2359, 2: 2131}\n"
          ],
          "name": "stdout"
        }
      ]
    },
    {
      "cell_type": "code",
      "metadata": {
        "id": "g45k4woQ-bzv"
      },
      "source": [
        "s1 = \"\"\"\n",
        "L.LL.LL.LL\n",
        "LLLLLLL.LL\n",
        "L.L.L..L..\n",
        "LLLL.LL.LL\n",
        "L.LL.LL.LL\n",
        "L.LLLLL.LL\n",
        "..L.L.....\n",
        "LLLLLLLLLL\n",
        "L.LLLLLL.L\n",
        "L.LLLLL.LL\n",
        "\"\"\""
      ],
      "execution_count": 56,
      "outputs": []
    },
    {
      "cell_type": "code",
      "metadata": {
        "id": "KRJ995FP0BpU"
      },
      "source": [
        "# Relatively fast non-numba solution, which maintains neighbor counts.\n",
        "# It becomes faster with numba enabled, but not as fast as the next solution.\n",
        "\n",
        "def process(s, part2=False):\n",
        "  lines = s.strip('\\n').split('\\n')\n",
        "  # -1 is EMPTY, 0..8 is FREE+neighbor_count, 10..18 is OCCUPIED+neighbor_count\n",
        "  from_ch = lambda ch: {'.': -1, 'L': 0, '#': 10}[ch]\n",
        "  grid = np.array([[from_ch(ch) for ch in line] for line in lines])\n",
        "  # Surprisingly, the default array dtype (here, np.int64) is the fastest.\n",
        "  shape = grid.shape\n",
        "  NEIGHBORS = tuple(set(itertools.product((-1, 0, 1), repeat=2)) - {(0, 0)})\n",
        "\n",
        "  def evolve(grid):\n",
        "\n",
        "    def impact_neighbor_counts(y0, x0, delta):\n",
        "      for dy, dx in NEIGHBORS:\n",
        "        y, x = y0 + dy, x0 + dx\n",
        "        while 0 <= y < shape[0] and 0 <= x < shape[1]:\n",
        "          if not part2 or grid[y, x] >= 0:\n",
        "            if grid[y, x] >= 0:\n",
        "              grid[y, x] += delta\n",
        "            break\n",
        "          y, x = y + dy, x + dx\n",
        "\n",
        "    # print('num_occupied', np.sum(grid >= 10))\n",
        "    prev = grid.copy()\n",
        "    for y in range(shape[0]):\n",
        "      for x in range(shape[1]):\n",
        "        if prev[y, x] == 0:  # FREE with zero occupied neighbors\n",
        "          grid[y, x] += 10\n",
        "          impact_neighbor_counts(y, x, +1)\n",
        "        elif prev[y, x] >= (15 if part2 else 14):  # OCCUPIED, >= 5 or 4 neighb\n",
        "          grid[y, x] -= 10\n",
        "          impact_neighbor_counts(y, x, -1)\n",
        "    return np.any(grid != prev)\n",
        "\n",
        "  while evolve(grid):\n",
        "    pass\n",
        "  return np.sum(grid >= 10)\n",
        "\n",
        "\n",
        "check_eq(process(s1), 37)"
      ],
      "execution_count": 57,
      "outputs": []
    },
    {
      "cell_type": "code",
      "metadata": {
        "id": "hYP1pVw6ymUy"
      },
      "source": [
        "# More naive solution but which is faster when using numba.\n",
        "\n",
        "if using_numba:\n",
        "\n",
        "  def process(s, part2=False):\n",
        "    lines = s.strip('\\n').split('\\n')\n",
        "    from_ch = lambda ch: {'.': 0, 'L': 1, '#': 2}[ch]\n",
        "    grid = np.array([[from_ch(ch) for ch in line] for line in lines])\n",
        "    neighbors = tuple(set(itertools.product((-1, 0, 1), repeat=2)) - {(0, 0)})\n",
        "\n",
        "    @numba_njit(cache=True, parallel=True)\n",
        "    def evolve(grid, neighbors, part2):\n",
        "      EMPTY, FREE, OCCUPIED = 0, 1, 2\n",
        "      shape = grid.shape\n",
        "\n",
        "      def count_occupied_neighbors(grid, y0, x0, only_adjacent):\n",
        "        count = 0\n",
        "        for dy, dx in neighbors:\n",
        "          y, x = y0 + dy, x0 + dx\n",
        "          while 0 <= y < shape[0] and 0 <= x < shape[1]:\n",
        "            if grid[y, x] != EMPTY or only_adjacent:\n",
        "              count += grid[y, x] == OCCUPIED\n",
        "              break\n",
        "            y, x = y + dy, x + dx\n",
        "        return count\n",
        "\n",
        "      while True:\n",
        "        # print('num_occupied', np.sum(grid == 2))\n",
        "        prev = grid.copy()\n",
        "        for y in range(shape[0]):\n",
        "          for x in range(shape[1]):\n",
        "            num_occupied = count_occupied_neighbors(prev, y, x, not part2)\n",
        "            if prev[y, x] == FREE and num_occupied == 0:\n",
        "              grid[y, x] = OCCUPIED\n",
        "            elif prev[y, x] == OCCUPIED and num_occupied >= (5 if part2 else 4):\n",
        "              grid[y, x] = FREE\n",
        "        if np.all(grid == prev):\n",
        "          break\n",
        "\n",
        "      return np.sum(grid == OCCUPIED)\n",
        "\n",
        "    return evolve(grid, neighbors, part2)\n",
        "\n",
        "  check_eq(process(s1), 37)"
      ],
      "execution_count": 58,
      "outputs": []
    },
    {
      "cell_type": "code",
      "metadata": {
        "id": "AmEeTciQVDDQ",
        "colab": {
          "base_uri": "https://localhost:8080/"
        },
        "outputId": "40b9ef1f-dfde-491f-da72-2b382e3e3f69"
      },
      "source": [
        "# ~2 s for non-numba solution; ~0.05 s for numba solution\n",
        "puzzle.verify(1, process)"
      ],
      "execution_count": 59,
      "outputs": [
        {
          "output_type": "stream",
          "text": [
            "(Time:  0.042)\n"
          ],
          "name": "stdout"
        }
      ]
    },
    {
      "cell_type": "code",
      "metadata": {
        "id": "LXxQ33skZsX1",
        "colab": {
          "base_uri": "https://localhost:8080/"
        },
        "outputId": "95043011-fe00-4486-b816-e50674bde549"
      },
      "source": [
        "process2 = functools.partial(process, part2=True)\n",
        "check_eq(process2(s1), 26)\n",
        "\n",
        "# ~5 s for non-numba solution; ~0.05 s for numba solution\n",
        "puzzle.verify(2, process2)"
      ],
      "execution_count": 60,
      "outputs": [
        {
          "output_type": "stream",
          "text": [
            "(Time:  0.047)\n"
          ],
          "name": "stdout"
        }
      ]
    },
    {
      "cell_type": "markdown",
      "metadata": {
        "id": "c8pMKkP_-cCX"
      },
      "source": [
        "## Day 12: Ship and waypoint navigation"
      ]
    },
    {
      "cell_type": "markdown",
      "metadata": {
        "id": "dSWqYoVvv1yv"
      },
      "source": [
        "Given a list of instructions (a translation direction `N|S|E|W` and magnitude, a rotation `L|R` and angle (positive multiple of 90 degrees), or a forward directive `F` and value), update a ship's position and orientation in a 2D domain.\n",
        "\n",
        "- Part 1: The translation, rotation, and forward instructions directly modify the ship's state.  After applying all instructions, report the Manhattan distance of the ship's position from its start.\n",
        "\n",
        "- Part 2: The translation and rotation instructions modify a vector waypoint (initially 10 units east and 1 unit north of ship) relative to the ship position.  The forward instruction translates the ship position by the vector waypoint times the forward value.  Again report the final Manhattan distance of the ship from its start."
      ]
    },
    {
      "cell_type": "code",
      "metadata": {
        "id": "H_APDCbQ-cCX",
        "colab": {
          "base_uri": "https://localhost:8080/"
        },
        "outputId": "14f41103-81f4-4d7b-f7a9-f16e75484a36"
      },
      "source": [
        "puzzle = advent.puzzle(12)"
      ],
      "execution_count": 61,
      "outputs": [
        {
          "output_type": "stream",
          "text": [
            "For day 12, puzzle.input has 773 lines:\n",
            "W5\n",
            "F63\n",
            "S1\n",
            "L90\n",
            "F89\n",
            "W4\n",
            "F45\n",
            "W4\n",
            " ...\n",
            "L90\n",
            "F94\n",
            "L90\n",
            "F13\n",
            "And the stored answers are: {1: 1221, 2: 59435}\n"
          ],
          "name": "stdout"
        }
      ]
    },
    {
      "cell_type": "code",
      "metadata": {
        "id": "O56VlIAv-cCX"
      },
      "source": [
        "s1 = \"\"\"\n",
        "F10\n",
        "N3\n",
        "F7\n",
        "R90\n",
        "F11\n",
        "\"\"\""
      ],
      "execution_count": 62,
      "outputs": []
    },
    {
      "cell_type": "code",
      "metadata": {
        "id": "IDRi_D9_dck3",
        "colab": {
          "base_uri": "https://localhost:8080/"
        },
        "outputId": "253a3008-075e-48e5-bd4d-c224803e8f8b"
      },
      "source": [
        "def process1(s):\n",
        "  y, x = 0, 0\n",
        "  dy, dx = 0, 1  # east\n",
        "\n",
        "  for instruction in s.split():\n",
        "    action, value = instruction[:1], int(instruction[1:])\n",
        "    if action == 'N':\n",
        "      y -= value\n",
        "    elif action == 'S':\n",
        "      y += value\n",
        "    elif action == 'E':\n",
        "      x += value\n",
        "    elif action == 'W':\n",
        "      x -= value\n",
        "    elif action == 'L':\n",
        "      while value:\n",
        "        dy, dx = (-dx, +dy)\n",
        "        value -= 90\n",
        "    elif action == 'R':\n",
        "      while value:\n",
        "        dy, dx = (+dx, -dy)\n",
        "        value -= 90\n",
        "    elif action == 'F':\n",
        "      y, x = y + dy * value, x + dx * value\n",
        "  return abs(y) + abs(x)\n",
        "\n",
        "\n",
        "check_eq(process1(s1), 25)\n",
        "puzzle.verify(1, process1)"
      ],
      "execution_count": 63,
      "outputs": [
        {
          "output_type": "stream",
          "text": [
            "(Time:  0.000)\n"
          ],
          "name": "stdout"
        }
      ]
    },
    {
      "cell_type": "code",
      "metadata": {
        "id": "Yb-NG3la-cCX",
        "colab": {
          "base_uri": "https://localhost:8080/"
        },
        "outputId": "fff2fb4a-391d-42b2-8894-878687f9735a"
      },
      "source": [
        "def process2(s):\n",
        "  ship_y, ship_x = 0, 0\n",
        "  # waypoint is relative to the ship\n",
        "  waypoint_y, waypoint_x = -1, 10  # 10 units east and 1 unit north of ship\n",
        "\n",
        "  for instruction in s.split():\n",
        "    action, value = instruction[:1], int(instruction[1:])\n",
        "    if action == 'N':\n",
        "      waypoint_y -= value\n",
        "    elif action == 'S':\n",
        "      waypoint_y += value\n",
        "    elif action == 'E':\n",
        "      waypoint_x += value\n",
        "    elif action == 'W':\n",
        "      waypoint_x -= value\n",
        "    elif action == 'L':\n",
        "      while value:\n",
        "        waypoint_y, waypoint_x = -waypoint_x, +waypoint_y\n",
        "        value -= 90\n",
        "    elif action == 'R':\n",
        "      while value:\n",
        "        waypoint_y, waypoint_x = +waypoint_x, -waypoint_y\n",
        "        value -= 90\n",
        "    elif action == 'F':\n",
        "      ship_y += waypoint_y * value\n",
        "      ship_x += waypoint_x * value\n",
        "  return abs(ship_y) + abs(ship_x)\n",
        "\n",
        "\n",
        "check_eq(process2(s1), 286)\n",
        "puzzle.verify(2, process2)"
      ],
      "execution_count": 64,
      "outputs": [
        {
          "output_type": "stream",
          "text": [
            "(Time:  0.000)\n"
          ],
          "name": "stdout"
        }
      ]
    },
    {
      "cell_type": "markdown",
      "metadata": {
        "id": "-HvKXDFB-cQn"
      },
      "source": [
        "## Day 13: Buses modulo schedule"
      ]
    },
    {
      "cell_type": "markdown",
      "metadata": {
        "id": "09sjifmfzSNN"
      },
      "source": [
        "Given a sequence of buses with different departure periods, all starting at time 0, with some buses out-of-service, find some earliest time satisfying a condition.\n",
        "\n",
        "- Part 1: Given also an earliest time, find the first bus that departs on or after that time.  Report the wait time multiplied by the bus period.\n",
        "\n",
        "- Part 2: Find the earliest time such that the first bus in the sequence departs at that time and each subsequent listed bus departs at the subsequent time if the bus is in service."
      ]
    },
    {
      "cell_type": "code",
      "metadata": {
        "id": "FBdUu1Hp-cQn",
        "colab": {
          "base_uri": "https://localhost:8080/"
        },
        "outputId": "19ecb51a-2500-450e-a8c3-51c386cd445c"
      },
      "source": [
        "puzzle = advent.puzzle(13)"
      ],
      "execution_count": 65,
      "outputs": [
        {
          "output_type": "stream",
          "text": [
            "For day 13, puzzle.input has 2 lines:\n",
            "1000299\n",
            "41,x,x,x,x,x,x,x,x,x,x,x,x,x,x,x,x,x,x,x,x,x,x,x,x,x,x,x,x,x,x,x,x,x,x,37,x,x,x, ... ,x,x,x,x,x,x,x,x,x,x,x,x,x,x,x,x,19\n",
            "And the stored answers are: {1: 156, 2: 404517869995362}\n"
          ],
          "name": "stdout"
        }
      ]
    },
    {
      "cell_type": "code",
      "metadata": {
        "id": "WRqYtN1B-cQn"
      },
      "source": [
        "s1 = \"\"\"\n",
        "939\n",
        "7,13,x,x,59,x,31,19\n",
        "\"\"\""
      ],
      "execution_count": 66,
      "outputs": []
    },
    {
      "cell_type": "code",
      "metadata": {
        "id": "c71ttBaQmrQa",
        "colab": {
          "base_uri": "https://localhost:8080/"
        },
        "outputId": "0e3d626e-63da-475c-b333-413bc8cfcd84"
      },
      "source": [
        "def ceil_of_ratio(a: int, b: int) -> int:\n",
        "  \"\"\"Returns the ceiling of the ratio a / b, where b must be positive.\"\"\"\n",
        "  assert b > 0\n",
        "  return (a + b - 1) // b\n",
        "\n",
        "\n",
        "def process1(s):\n",
        "  lines = s.strip('\\n').splitlines()\n",
        "  earliest_time = int(lines[0])\n",
        "  buses = [int(e) for e in lines[1].split(',') if e != 'x']\n",
        "  next_times = [ceil_of_ratio(earliest_time, bus) * bus for bus in buses]\n",
        "  min_time, min_bus = min(zip(next_times, buses))\n",
        "  return (min_time - earliest_time) * min_bus\n",
        "\n",
        "\n",
        "check_eq(process1(s1), 295)\n",
        "puzzle.verify(1, process1)"
      ],
      "execution_count": 67,
      "outputs": [
        {
          "output_type": "stream",
          "text": [
            "(Time:  0.000)\n"
          ],
          "name": "stdout"
        }
      ]
    },
    {
      "cell_type": "markdown",
      "metadata": {
        "id": "jhovcZWiHzy1"
      },
      "source": [
        "Part 2"
      ]
    },
    {
      "cell_type": "code",
      "metadata": {
        "id": "TlX1RY4QH2fF"
      },
      "source": [
        "def extended_gcd(a: int, b: int) -> Tuple[int, int, int]:\n",
        "  \"\"\"Finds the greatest common divisor using the extended Euclidean algorithm.\n",
        "\n",
        "  Returns:\n",
        "    (gcd(a, b), x, y) with the property that a * x + b * y = gcd(a, b).\n",
        "\n",
        "  >>> extended_gcd(29, 71)\n",
        "  (1, -22, 9)\n",
        "  >>> (29 * -22) % 71\n",
        "  1\n",
        "  \"\"\"\n",
        "  prev_x, x = 1, 0\n",
        "  prev_y, y = 0, 1\n",
        "  while b:\n",
        "    q = a // b\n",
        "    x, prev_x = prev_x - q * x, x\n",
        "    y, prev_y = prev_y - q * y, y\n",
        "    a, b = b, a % b\n",
        "  x, y = prev_x, prev_y\n",
        "  return a, x, y"
      ],
      "execution_count": 68,
      "outputs": []
    },
    {
      "cell_type": "code",
      "metadata": {
        "id": "Pld6pnB36hUI"
      },
      "source": [
        "# Let each bus be represented by its period b_i and desired remainder r_i.\n",
        "\n",
        "# Given [(b_i, r_i)], where b_i are coprime, we seek x such that\n",
        "#  x % b_i = r_i  for all i,  where r_i = -i % b_i\n",
        "# We can work by reduction, merging pairs of buses.\n",
        "\n",
        "# Given a pair of buses (b1, r1) and (b2, r2),\n",
        "# we want to find a new equivalent bus (b1 * b2, r) such that\n",
        "#  0 <= r < b1 * b2\n",
        "#  r % b1 = r1\n",
        "#  r % b2 = r2\n",
        "# We can apply the Chinese remainder theorem using the extended GCD algorithm."
      ],
      "execution_count": 69,
      "outputs": []
    },
    {
      "cell_type": "code",
      "metadata": {
        "id": "DRfWcZ7--cQn",
        "colab": {
          "base_uri": "https://localhost:8080/"
        },
        "outputId": "cdf9f9b9-cb61-4ead-f94b-4d75c0bdff9a"
      },
      "source": [
        "def process2(s):\n",
        "  s = s.strip('\\n').splitlines()[-1]\n",
        "  buses = [int(e) for e in s.replace('x', '1').split(',')]\n",
        "  check_eq(np.lcm.reduce(buses), np.prod(buses))  # verify all coprime\n",
        "  bus_remainders = [(bus, -i % bus) for i, bus in enumerate(buses) if bus > 1]\n",
        "\n",
        "  def merge_buses(bus1, bus2):\n",
        "    (b1, r1), (b2, r2) = bus1, bus2\n",
        "    # https://en.wikipedia.org/wiki/Chinese_remainder_theorem\n",
        "    _, x, y = extended_gcd(b1, b2)\n",
        "    return b1 * b2, (r1 * y * b2 + r2 * x * b1) % (b1 * b2)\n",
        "\n",
        "  _, r = functools.reduce(merge_buses, bus_remainders)\n",
        "  return r\n",
        "\n",
        "\n",
        "check_eq(process2(s1.strip('\\n').splitlines()[1]), 1068781)\n",
        "check_eq(process2('17,x,13,19'), 3417)\n",
        "check_eq(process2('67,7,59,61'), 754018)\n",
        "check_eq(process2('67,x,7,59,61'), 779210)\n",
        "check_eq(process2('67,7,x,59,61'), 1261476)\n",
        "check_eq(process2('1789,37,47,1889'), 1202161486)\n",
        "puzzle.verify(2, process2)"
      ],
      "execution_count": 70,
      "outputs": [
        {
          "output_type": "stream",
          "text": [
            "(Time:  0.000)\n"
          ],
          "name": "stdout"
        }
      ]
    },
    {
      "cell_type": "markdown",
      "metadata": {
        "id": "lUkb6kzu-cfU"
      },
      "source": [
        "## Day 14: Write masked values to mem"
      ]
    },
    {
      "cell_type": "markdown",
      "metadata": {
        "id": "0Tqy8_ThJoFM"
      },
      "source": [
        "Process a sequence of instructions, each specifying either a bitmask (where each location contains `0`, `1`, or `X`) or the writing of a value to a memory address, and report the sum of the resulting memory contents.\n",
        "\n",
        "- Part 1: The bitmask is applied to the value written to memory, such that `0` and `1` replace the corresponding bit in the value and `X` leaves it unchanged.\n",
        "\n",
        "- Part 2: The bitmask is applied to the address used to write the value to memory, such that `1` replaces the corresponding bit in the address and `X` indicates a wildcard.  The value is written to all memory addresses satisfying the wildcard."
      ]
    },
    {
      "cell_type": "code",
      "metadata": {
        "id": "iyX9MORD-cfU",
        "colab": {
          "base_uri": "https://localhost:8080/"
        },
        "outputId": "cbd29e8e-9ba3-4791-c5c7-f4589a986031"
      },
      "source": [
        "puzzle = advent.puzzle(14)"
      ],
      "execution_count": 71,
      "outputs": [
        {
          "output_type": "stream",
          "text": [
            "For day 14, puzzle.input has 570 lines:\n",
            "mask = 0111X10100100X1111X10010X000X1000001\n",
            "mem[50907] = 468673978\n",
            "mem[22295] = 3337449\n",
            "mem[58474] = 56418393\n",
            "mem[15362] = 243184\n",
            "mem[65089] = 110688658\n",
            "mask = 010X010XX110X01X01X10X001001011X110X\n",
            "mem[21952] = 950257\n",
            " ...\n",
            "mem[13666] = 52961\n",
            "mem[7377] = 134144120\n",
            "mem[58224] = 211536\n",
            "mem[36878] = 173058887\n",
            "And the stored answers are: {1: 9628746976360, 2: 4574598714592}\n"
          ],
          "name": "stdout"
        }
      ]
    },
    {
      "cell_type": "code",
      "metadata": {
        "id": "AGItl2WT-cfU"
      },
      "source": [
        "s1 = \"\"\"\n",
        "mask = XXXXXXXXXXXXXXXXXXXXXXXXXXXXX1XXXX0X\n",
        "mem[8] = 11\n",
        "mem[7] = 101\n",
        "mem[8] = 0\n",
        "\"\"\""
      ],
      "execution_count": 72,
      "outputs": []
    },
    {
      "cell_type": "code",
      "metadata": {
        "colab": {
          "base_uri": "https://localhost:8080/"
        },
        "id": "6SLyBm6NMJnS",
        "outputId": "79d2207a-cf24-4878-ae6f-ab30b13dc32d"
      },
      "source": [
        "def process1(s):\n",
        "  mem = {}\n",
        "  extract_0 = str.maketrans('01X', '100')\n",
        "  extract_1 = str.maketrans('01X', '010')\n",
        "  for line in s.strip('\\n').splitlines():\n",
        "    if line.startswith('mask'):\n",
        "      mask = line.split(' = ')[1]\n",
        "      assert len(mask) == 36\n",
        "      mask_force_0 = int(mask.translate(extract_0), 2)\n",
        "      mask_force_1 = int(mask.translate(extract_1), 2)\n",
        "    else:\n",
        "      address, value = map(\n",
        "          int, re.fullmatch(r'mem\\[(\\d+)\\] = (\\d+)', line).groups())\n",
        "      mem[address] = (value | mask_force_1) & ~mask_force_0\n",
        "  return sum(mem.values())\n",
        "\n",
        "\n",
        "check_eq(process1(s1), 165)\n",
        "puzzle.verify(1, process1)"
      ],
      "execution_count": 73,
      "outputs": [
        {
          "output_type": "stream",
          "text": [
            "(Time:  0.002)\n"
          ],
          "name": "stdout"
        }
      ]
    },
    {
      "cell_type": "markdown",
      "metadata": {
        "id": "gQDZ8LIzObqf"
      },
      "source": [
        "Part 2"
      ]
    },
    {
      "cell_type": "code",
      "metadata": {
        "id": "qX8Tq_mX9T0S"
      },
      "source": [
        "s2 = \"\"\"\n",
        "mask = 000000000000000000000000000000X1001X\n",
        "mem[42] = 100\n",
        "mask = 00000000000000000000000000000000X0XX\n",
        "mem[26] = 1\n",
        "\"\"\""
      ],
      "execution_count": 74,
      "outputs": []
    },
    {
      "cell_type": "code",
      "metadata": {
        "colab": {
          "base_uri": "https://localhost:8080/"
        },
        "id": "XdxCnr891yOj",
        "outputId": "2036cc17-99fe-4eda-da01-32080a6869c3"
      },
      "source": [
        "def process2(s):\n",
        "  mem = {}\n",
        "  extract_1 = str.maketrans('01X', '010')\n",
        "  extract_x = str.maketrans('01X', '001')\n",
        "  for line in s.strip('\\n').splitlines():\n",
        "    if line.startswith('mask'):\n",
        "      mask = line.split(' = ')[1]\n",
        "      assert len(mask) == 36\n",
        "      mask_force_1 = int(mask.translate(extract_1), 2)\n",
        "      mask_not_x = ~int(mask.translate(extract_x), 2)\n",
        "      offsets = [0]\n",
        "      for wildcard in (1 << i for i in range(36) if mask[35 - i] == 'X'):\n",
        "        offsets += [wildcard + e for e in offsets]\n",
        "    else:\n",
        "      address, value = map(\n",
        "          int, re.fullmatch(r'mem\\[(\\d+)\\] = (\\d+)', line).groups())\n",
        "      address = (address | mask_force_1) & mask_not_x\n",
        "      for offset in offsets:\n",
        "        mem[address + offset] = value\n",
        "  return sum(mem.values())\n",
        "\n",
        "\n",
        "check_eq(process2(s2), 208)\n",
        "puzzle.verify(2, process2)"
      ],
      "execution_count": 75,
      "outputs": [
        {
          "output_type": "stream",
          "text": [
            "(Time:  0.022)\n"
          ],
          "name": "stdout"
        }
      ]
    },
    {
      "cell_type": "markdown",
      "metadata": {
        "id": "0gjk1fsn-cvQ"
      },
      "source": [
        "## Day 15: Rounds of spoken numbers"
      ]
    },
    {
      "cell_type": "markdown",
      "metadata": {
        "id": "QIsZ5G3POltD"
      },
      "source": [
        "Given an initial sequence of numbers indexed starting at `1`, continue the sequence as follows.\n",
        "\n",
        "The number at index `i` is either\n",
        "  * `0` if the numer at index `i - 1` was not previously seen, or\n",
        "  * `i - 1 - j` if the number at index `i - 1` was previously seen at index `j`.\n",
        "\n",
        "- Part 1: Report the number at index `2020`.\n",
        "\n",
        "- Part 2: Report the number at index `30_000_000`."
      ]
    },
    {
      "cell_type": "code",
      "metadata": {
        "id": "anebyn3p-cvQ",
        "colab": {
          "base_uri": "https://localhost:8080/"
        },
        "outputId": "a0e87d41-c874-41cd-9680-0a3b9059fe64"
      },
      "source": [
        "puzzle = advent.puzzle(15)"
      ],
      "execution_count": 76,
      "outputs": [
        {
          "output_type": "stream",
          "text": [
            "For day 15, puzzle.input has 1 lines:\n",
            "9,12,1,4,17,0,18\n",
            "And the stored answers are: {1: 610, 2: 1407}\n"
          ],
          "name": "stdout"
        }
      ]
    },
    {
      "cell_type": "code",
      "metadata": {
        "id": "iDVIoKKZ-cvQ"
      },
      "source": [
        "s1 = '0,3,6'"
      ],
      "execution_count": 77,
      "outputs": []
    },
    {
      "cell_type": "code",
      "metadata": {
        "colab": {
          "base_uri": "https://localhost:8080/"
        },
        "id": "3N4q_xR-6_VC",
        "outputId": "f0f22d9a-9665-42a4-b16d-79b9cf613212"
      },
      "source": [
        "# Code that does not use numba:\n",
        "\n",
        "def generate_sequence(initial_sequence):\n",
        "  last_turn = {}\n",
        "  for turn, number in enumerate(initial_sequence):\n",
        "    prev_turn = last_turn.get(number, -1)\n",
        "    last_turn[number] = turn\n",
        "    yield number\n",
        "\n",
        "  for turn in itertools.count(len(initial_sequence)):\n",
        "    number = 0 if prev_turn < 0 else turn - 1 - prev_turn\n",
        "    prev_turn = last_turn.get(number, -1)\n",
        "    last_turn[number] = turn\n",
        "    yield number\n",
        "\n",
        "\n",
        "def process(s, num_turns=2020):\n",
        "  initial_sequence = list(map(int, s.split(',')))\n",
        "  return next(itertools.islice(generate_sequence(\n",
        "      initial_sequence), num_turns - 1, None))\n",
        "\n",
        "\n",
        "check_eq(process(s1, num_turns=10), 0)\n",
        "check_eq(process(s1), 436)\n",
        "check_eq(process('1,3,2'), 1)\n",
        "check_eq(process('2,1,3'), 10)\n",
        "check_eq(process('1,2,3'), 27)\n",
        "check_eq(process('2,3,1'), 78)\n",
        "check_eq(process('3,2,1'), 438)\n",
        "check_eq(process('3,1,2'), 1836)\n",
        "puzzle.verify(1, process)"
      ],
      "execution_count": 78,
      "outputs": [
        {
          "output_type": "stream",
          "text": [
            "(Time:  0.001)\n"
          ],
          "name": "stdout"
        }
      ]
    },
    {
      "cell_type": "code",
      "metadata": {
        "id": "h7CITw5KAG-f"
      },
      "source": [
        "if 0:  # The output looks chaotic, without any obvious pattern.\n",
        "  pprint.pprint(list(itertools.islice(generate_sequence(s1.split(',')), 1000)),\n",
        "                width=150, compact=True)"
      ],
      "execution_count": 79,
      "outputs": []
    },
    {
      "cell_type": "code",
      "metadata": {
        "colab": {
          "base_uri": "https://localhost:8080/"
        },
        "id": "bMc2h-CKR5Ix",
        "outputId": "67ee7d00-0a21-4b60-efb4-1c440f67e1b5"
      },
      "source": [
        "# Code which is faster but only if numba is enabled:\n",
        "if using_numba:\n",
        "  def process(s, num_turns=2020):\n",
        "\n",
        "    @numba_njit(cache=True)\n",
        "    def func(initial_sequence, num_turns):\n",
        "      last_turn = np.full(num_turns, -1, dtype=np.int32)\n",
        "      for turn in range(min(num_turns, len(initial_sequence))):\n",
        "        number = initial_sequence[turn]\n",
        "        prev_turn = last_turn[number]\n",
        "        last_turn[number] = turn\n",
        "\n",
        "      for turn in range(len(initial_sequence), num_turns):\n",
        "        number = 0 if prev_turn < 0 else turn - 1 - prev_turn\n",
        "        prev_turn = last_turn[number]\n",
        "        last_turn[number] = turn\n",
        "\n",
        "      return number\n",
        "\n",
        "    initial_sequence = np.array(list(map(int, s.split(','))), dtype=np.int32)\n",
        "    return func(initial_sequence, num_turns)\n",
        "\n",
        "process2 = functools.partial(process, num_turns=30_000_000)\n",
        "\n",
        "if using_numba:\n",
        "  check_eq(process2(s1), 175594)\n",
        "  if 0:\n",
        "    check_eq(process2('1,3,2'), 2578)\n",
        "    check_eq(process2('2,1,3'), 3544142)\n",
        "    check_eq(process2('1,2,3'), 261214)\n",
        "    check_eq(process2('2,3,1'), 6895259)\n",
        "    check_eq(process2('3,2,1'), 18)\n",
        "    check_eq(process2('3,1,2'), 362)\n",
        "\n",
        "# ~1 s with numba, ~20 s for non-numba version\n",
        "puzzle.verify(2, process2)"
      ],
      "execution_count": 80,
      "outputs": [
        {
          "output_type": "stream",
          "text": [
            "(Time:  0.786)\n"
          ],
          "name": "stdout"
        }
      ]
    },
    {
      "cell_type": "markdown",
      "metadata": {
        "id": "_eebxbTj-c67"
      },
      "source": [
        "## Day 16: Match ticket fields and rules"
      ]
    },
    {
      "cell_type": "markdown",
      "metadata": {
        "id": "wFnxm7dzXOie"
      },
      "source": [
        "Given (1) a set of fields with names and rules on possible value ranges, (2) my ticket with unlabled fields, and (3) a set of other tickets with unlabeled fields:\n",
        "\n",
        "- Part 1: Report the number of invalid other tickets, which are those containing a field value that does not satisfy any field rule.\n",
        "\n",
        "- Part 2: Considering the valid other tickets, determine a labeling of the ticket fields that is compatible with the rules.  Report the product of the 6 field values on my ticket whose names start with `departure`."
      ]
    },
    {
      "cell_type": "code",
      "metadata": {
        "id": "LkGzSL1N-c67",
        "colab": {
          "base_uri": "https://localhost:8080/"
        },
        "outputId": "66104766-765c-4015-db51-d05e35d5c130"
      },
      "source": [
        "puzzle = advent.puzzle(16)"
      ],
      "execution_count": 81,
      "outputs": [
        {
          "output_type": "stream",
          "text": [
            "For day 16, puzzle.input has 268 lines:\n",
            "departure location: 33-679 or 691-971\n",
            "departure station: 48-646 or 671-966\n",
            "departure platform: 37-601 or 619-950\n",
            "departure track: 41-863 or 875-973\n",
            "departure date: 37-145 or 168-965\n",
            "departure time: 26-246 or 257-972\n",
            "arrival location: 30-542 or 556-960\n",
            "arrival station: 30-75 or 89-954\n",
            " ...\n",
            "845,453,939,349,884,940,0,621,933,188,73,204,440,918,207,671,629,735,487,627\n",
            "879,694,125,501,580,274,451,885,834,397,146,104,185,173,528,717,590,412,350,936\n",
            "944,91,450,631,262,501,196,401,199,946,105,236,634,765,66,385,582,437,262,581\n",
            "924,594,156,702,128,858,133,695,140,486,399,534,115,627,748,560,518,700,883,206\n",
            "And the stored answers are: {1: 29878, 2: 855438643439}\n"
          ],
          "name": "stdout"
        }
      ]
    },
    {
      "cell_type": "code",
      "metadata": {
        "id": "YNVRZNVO-c67",
        "colab": {
          "base_uri": "https://localhost:8080/"
        },
        "cellView": "form",
        "outputId": "8099a244-ba88-4341-d4a0-cee09fa179ff"
      },
      "source": [
        "#@title\n",
        "print('Let s1, s2 be test inputs.')\n",
        "\n",
        "s1 = \"\"\"\n",
        "class: 1-3 or 5-7\n",
        "row: 6-11 or 33-44\n",
        "seat: 13-40 or 45-50\n",
        "\n",
        "your ticket:\n",
        "7,1,14\n",
        "\n",
        "nearby tickets:\n",
        "7,3,47\n",
        "40,4,50\n",
        "55,2,20\n",
        "38,6,12\n",
        "\"\"\"\n",
        "\n",
        "s2 = \"\"\"\n",
        "class: 0-1 or 4-19\n",
        "row: 0-5 or 8-19\n",
        "seat: 0-13 or 16-19\n",
        "\n",
        "your ticket:\n",
        "11,12,13\n",
        "\n",
        "nearby tickets:\n",
        "3,9,18\n",
        "15,1,5\n",
        "5,14,9\n",
        "\"\"\""
      ],
      "execution_count": 82,
      "outputs": [
        {
          "output_type": "stream",
          "text": [
            "Let s1, s2 be test inputs.\n"
          ],
          "name": "stdout"
        }
      ]
    },
    {
      "cell_type": "code",
      "metadata": {
        "colab": {
          "base_uri": "https://localhost:8080/"
        },
        "id": "hXhE0vOCOKZN",
        "outputId": "05344272-4ce8-4804-f3bd-cc3a940725a4"
      },
      "source": [
        "def read_rules_and_tickets(s):\n",
        "  s_rules, s_my_ticket, s_nearby = s.strip('\\n').split('\\n\\n')\n",
        "\n",
        "  def read_rules():\n",
        "    for line in s_rules.splitlines():\n",
        "      name, ranges = line.split(': ')\n",
        "      ranges = ranges.split(' or ')\n",
        "      yield (name, [tuple(map(int, range.split('-'))) for range in ranges])\n",
        "\n",
        "  line, = s_my_ticket.splitlines()[1:]\n",
        "  my_ticket = list(map(int, line.split(',')))\n",
        "\n",
        "  def read_tickets():\n",
        "    for line in s_nearby.splitlines()[1:]:\n",
        "      fields = list(map(int, line.split(',')))\n",
        "      yield fields\n",
        "\n",
        "  return read_rules, my_ticket, read_tickets\n",
        "\n",
        "\n",
        "def value_ok_for_some_rule(value, rules):\n",
        "  return any(range[0] <= value <= range[1] \n",
        "             for ranges in rules.values() for range in ranges)\n",
        "\n",
        "\n",
        "def process1(s):\n",
        "  read_rules, unused_my_ticket, read_tickets = read_rules_and_tickets(s)\n",
        "  rules = dict(read_rules())\n",
        "  sum_invalid_values = 0\n",
        "  for fields in read_tickets():\n",
        "    for value in fields:\n",
        "      if not value_ok_for_some_rule(value, rules):\n",
        "        sum_invalid_values += value\n",
        "  return sum_invalid_values\n",
        "\n",
        "\n",
        "check_eq(process1(s1), 71)\n",
        "puzzle.verify(1, process1)"
      ],
      "execution_count": 83,
      "outputs": [
        {
          "output_type": "stream",
          "text": [
            "(Time:  0.005)\n"
          ],
          "name": "stdout"
        }
      ]
    },
    {
      "cell_type": "markdown",
      "metadata": {
        "id": "2Rw06E2hYJ2a"
      },
      "source": [
        "Part 2"
      ]
    },
    {
      "cell_type": "code",
      "metadata": {
        "id": "6KwUNK8O6WN-",
        "colab": {
          "base_uri": "https://localhost:8080/"
        },
        "outputId": "19537a0c-fae6-41e3-8da3-892f56fe2283"
      },
      "source": [
        "def process2(s):\n",
        "  read_rules, my_ticket, read_tickets = read_rules_and_tickets(s)\n",
        "  rules = dict(read_rules())\n",
        "  valid_tickets = [\n",
        "      fields for fields in read_tickets()\n",
        "      if all(value_ok_for_some_rule(value, rules) for value in fields)\n",
        "  ]\n",
        "  num_rules, num_fields = len(rules), len(valid_tickets[0])\n",
        "  check_eq(num_rules, num_fields)\n",
        "\n",
        "  def is_compatible(rule, field_index):\n",
        "    ranges = rules[rule]\n",
        "    return all(\n",
        "        any(range[0] <= ticket[field_index] <= range[1] for range in ranges)\n",
        "        for ticket in valid_tickets\n",
        "    )\n",
        "\n",
        "  grid = np.empty((num_rules, num_fields), dtype=np.bool)\n",
        "  # Computational bottleneck; could let rules.values() be array and use numba.\n",
        "  for rule_index, rule in enumerate(rules):\n",
        "    for field_index in range(num_fields):\n",
        "      grid[rule_index, field_index] = is_compatible(rule, field_index)\n",
        "\n",
        "  column_of_rule = {}\n",
        "  row_sums = np.sum(grid, axis=1)\n",
        "  while np.any(row_sums):\n",
        "    row = np.nonzero(row_sums == 1)[0][0]\n",
        "    col = np.nonzero(grid[row] == 1)[0][0]\n",
        "    rule = list(rules)[row]\n",
        "    column_of_rule[rule] = col\n",
        "    row_sums -= grid[:, col]\n",
        "    grid[:, col] = 0\n",
        "  values = [my_ticket[column_of_rule[rule]] for rule in rules\n",
        "            if rule.startswith('departure')]\n",
        "  check_eq(len(values), 6)\n",
        "  return np.prod(values)\n",
        "\n",
        "\n",
        "puzzle.verify(2, process2)"
      ],
      "execution_count": 84,
      "outputs": [
        {
          "output_type": "stream",
          "text": [
            "(Time:  0.044)\n"
          ],
          "name": "stdout"
        }
      ]
    },
    {
      "cell_type": "markdown",
      "metadata": {
        "id": "gtbnA6Tu-dGn"
      },
      "source": [
        "## Day 17: Game of life in 3D and 4D"
      ]
    },
    {
      "cell_type": "markdown",
      "metadata": {
        "id": "mGN11x0HZx_6"
      },
      "source": [
        "Given an initial 2D grid of cell states, simulate a cellular automaton on a higher-dimensional grid.  An inactive grid cell becomes active if exactly 3 of its neighbors is active, and an active grid cell becomes inactive unless 2 or 3 of its neighbors is active.  (Each cell has 26 neighbors in 3D and 80 neighbors in 4D.)\n",
        "\n",
        "- Part 1: Run the cellular automaton in 3D for 6 generations and report the number of active cells.\n",
        "\n",
        "- Part 2: Do the same in 4D."
      ]
    },
    {
      "cell_type": "code",
      "metadata": {
        "id": "pbYNL9pU-dGn",
        "colab": {
          "base_uri": "https://localhost:8080/"
        },
        "outputId": "7825b45f-0372-4a5d-b4a5-81ebc795bece"
      },
      "source": [
        "puzzle = advent.puzzle(17)"
      ],
      "execution_count": 85,
      "outputs": [
        {
          "output_type": "stream",
          "text": [
            "For day 17, puzzle.input has 8 lines:\n",
            ".......#\n",
            "....#...\n",
            "...###.#\n",
            "#...###.\n",
            "....##..\n",
            "##.#..#.\n",
            "###.#.#.\n",
            "....#...\n",
            "And the stored answers are: {1: 232, 2: 1620}\n"
          ],
          "name": "stdout"
        }
      ]
    },
    {
      "cell_type": "code",
      "metadata": {
        "id": "iyH3cz1t6d_9"
      },
      "source": [
        "s1 = \"\"\"\n",
        ".#.\n",
        "..#\n",
        "###\n",
        "\"\"\""
      ],
      "execution_count": 86,
      "outputs": []
    },
    {
      "cell_type": "code",
      "metadata": {
        "id": "N2rufCY8ukMM"
      },
      "source": [
        "# Both of the solutions below work in arbitrary dimension!"
      ],
      "execution_count": 87,
      "outputs": []
    },
    {
      "cell_type": "code",
      "metadata": {
        "id": "l0P-Z-ekupYj",
        "colab": {
          "base_uri": "https://localhost:8080/"
        },
        "outputId": "035257a8-9f6c-4972-8935-b2f1fbd6d05e"
      },
      "source": [
        "# Slower code:\n",
        "def process(s, num_cycles=6, dim=3):\n",
        "  lines = s.strip('\\n').splitlines()\n",
        "  indices = {\n",
        "      (0,) * (dim - 2) + (y, x)\n",
        "      for y, line in enumerate(lines) for x, ch in enumerate(line)\n",
        "      if ch == '#'\n",
        "  }\n",
        "  offsets = set(itertools.product((-1, 0, 1), repeat=dim)) - {(0,) * dim}\n",
        "\n",
        "  def neighbors(index):\n",
        "    for offset in offsets:\n",
        "      yield tuple(map(sum, zip(index, offset)))\n",
        "\n",
        "  def count_neighbors(index):\n",
        "    return sum(neighbor in indices for neighbor in neighbors(index))\n",
        "\n",
        "  for _ in range(num_cycles):\n",
        "    survivors = {index for index in indices if 2 <= count_neighbors(index) <= 3}\n",
        "    adjacents = {neighbor for index in indices for neighbor in neighbors(index)}\n",
        "    births = {index for index in adjacents if count_neighbors(index) == 3}\n",
        "    indices = survivors | births\n",
        "\n",
        "  return len(indices)\n",
        "\n",
        "\n",
        "check_eq(process(s1), 112)\n",
        "puzzle.verify(1, process)"
      ],
      "execution_count": 88,
      "outputs": [
        {
          "output_type": "stream",
          "text": [
            "(Time:  0.146)\n"
          ],
          "name": "stdout"
        }
      ]
    },
    {
      "cell_type": "code",
      "metadata": {
        "colab": {
          "base_uri": "https://localhost:8080/"
        },
        "id": "wfDzi7fCbT0Y",
        "outputId": "633e83f5-db66-4731-80ec-2cd10f494355"
      },
      "source": [
        "# Faster code:\n",
        "def process(s, num_cycles=6, dim=3):\n",
        "  lines = s.strip('\\n').splitlines()\n",
        "  indices = {\n",
        "      (0,) * (dim - 2) + (y, x)\n",
        "      for y, line in enumerate(lines) for x, ch in enumerate(line)\n",
        "      if ch == '#'\n",
        "  }\n",
        "  offsets = set(itertools.product((-1, 0, 1), repeat=dim)) - {(0,) * dim}\n",
        "\n",
        "  def neighbors(index):\n",
        "    for offset in offsets:\n",
        "      yield tuple(map(sum, zip(index, offset)))\n",
        "\n",
        "  for _ in range(num_cycles):\n",
        "    # Adapted from collections.Counter() algorithm in \n",
        "    # https://github.com/norvig/pytudes/blob/master/ipynb/Advent-2020.ipynb\n",
        "    neighbor_counts = collections.Counter(\n",
        "        itertools.chain.from_iterable(neighbors(index) for index in indices))\n",
        "    indices = {index for index, count in neighbor_counts.items()\n",
        "               if count == 3 or (count == 2 and index in indices)}\n",
        "\n",
        "  return len(indices)\n",
        "\n",
        "\n",
        "check_eq(process(s1), 112)\n",
        "puzzle.verify(1, process)"
      ],
      "execution_count": 89,
      "outputs": [
        {
          "output_type": "stream",
          "text": [
            "(Time:  0.018)\n"
          ],
          "name": "stdout"
        }
      ]
    },
    {
      "cell_type": "markdown",
      "metadata": {
        "id": "gW1OyKC36fXf"
      },
      "source": [
        "Part 2"
      ]
    },
    {
      "cell_type": "code",
      "metadata": {
        "colab": {
          "base_uri": "https://localhost:8080/"
        },
        "id": "0aHE0rdXOSHQ",
        "outputId": "570451f5-b385-49e3-a2b3-9f27680c9582"
      },
      "source": [
        "process2 = functools.partial(process, dim=4)\n",
        "check_eq(process2(s1), 848)\n",
        "puzzle.verify(2, process2)"
      ],
      "execution_count": 90,
      "outputs": [
        {
          "output_type": "stream",
          "text": [
            "(Time:  0.325)\n"
          ],
          "name": "stdout"
        }
      ]
    },
    {
      "cell_type": "code",
      "metadata": {
        "colab": {
          "base_uri": "https://localhost:8080/"
        },
        "id": "JaReGZZ7weLS",
        "outputId": "a871cf7e-acb8-4653-b8ef-32690e9a4909"
      },
      "source": [
        "def show_num_active_in_each_generation_for_2d_3d_4d():\n",
        "  for dim in range(2, 5):\n",
        "    print(dim, [process(puzzle.input, n, dim) for n in range(6)])\n",
        "\n",
        "show_num_active_in_each_generation_for_2d_3d_4d()"
      ],
      "execution_count": 91,
      "outputs": [
        {
          "output_type": "stream",
          "text": [
            "2 [22, 17, 23, 24, 28, 27]\n",
            "3 [22, 39, 50, 84, 140, 173]\n",
            "4 [22, 105, 144, 652, 372, 1796]\n"
          ],
          "name": "stdout"
        }
      ]
    },
    {
      "cell_type": "markdown",
      "metadata": {
        "id": "HNOZW8Ax-dQy"
      },
      "source": [
        "## Day 18: Parsing math expression"
      ]
    },
    {
      "cell_type": "markdown",
      "metadata": {
        "id": "6-QdRn_Rb7kR"
      },
      "source": [
        "Given a list of mathematical expressions with additions, multiplications, and parantheses, evaluate each expression and report the sum of resulting values.\n",
        "\n",
        "- Part 1: Operators `+` and `*` have equal precedence and are applied left-to-right.\n",
        "\n",
        "- Part 2: Operator `+` has higher precedence than `*` (which is unusual)."
      ]
    },
    {
      "cell_type": "code",
      "metadata": {
        "id": "YvZH2Qku-dQy",
        "colab": {
          "base_uri": "https://localhost:8080/"
        },
        "outputId": "70fce619-dba7-46dc-cea3-778d373c17b2"
      },
      "source": [
        "puzzle = advent.puzzle(18)"
      ],
      "execution_count": 92,
      "outputs": [
        {
          "output_type": "stream",
          "text": [
            "For day 18, puzzle.input has 380 lines:\n",
            "7 + (9 * 8 + 5 + 5 * (3 * 4 * 7 + 6 * 4)) * ((3 * 6 + 3 * 4 * 7 * 4) + 4 * 3 * 5 + 5 * (5 * 6 + 7)) * 2 + 6 * 4\n",
            "9 * 4 * ((9 * 8 + 9 + 2 + 9) + 2 * 9 + 2 + 2) * 5 * 6\n",
            "3 * ((9 * 3 * 8 * 6 * 6 * 7) + 8) * 2 * 9 + 4 * 8\n",
            "(3 + 4 + 4 * 4 + 9) + (7 + 6 + 2 * 8) * 9 + 7 * 8\n",
            "9 + 6 + 6 + 9 * 9 * 5\n",
            "(3 * 5 + (4 + 3 * 7 * 8) + 7 + 8 + 2) * 8 * (3 * 4 * 8) * ((4 + 5 * 2) * 7)\n",
            "6 + (5 + 8 * (6 * 8 * 9 + 9 + 8 * 9) * 4 + (5 * 9)) * 2 + 2\n",
            "(6 + 8 + (6 * 6 + 2) * 6 * (7 + 7 + 8 + 9)) * 3 + 8 + (6 * (8 + 8 + 9)) + 2\n",
            " ...\n",
            "5 * 8 + (7 + 2 + 6) * (8 + 2 + 8 + 4 + 9) + (5 * 6 * 6 * 3) + 8\n",
            "6 + (7 * 4 + 4 * 7 + 3 * 7) + 9 + 5 * 7 * 5\n",
            "3 + 2 + 8 + (4 + 9 * 4 * 2 + (9 * 9 + 9 + 5) * 5) + 6\n",
            "3 * 9 * 4 * (5 * 4 * (8 + 3))\n",
            "And the stored answers are: {1: 4940631886147, 2: 283582817678281}\n"
          ],
          "name": "stdout"
        }
      ]
    },
    {
      "cell_type": "code",
      "metadata": {
        "id": "EHeqe3fA-dQy",
        "colab": {
          "base_uri": "https://localhost:8080/"
        },
        "outputId": "35996cf2-440e-4781-cc6f-9998b9dcbe78"
      },
      "source": [
        "# Slower, more readable version with many assertions:\n",
        "def process(strings, part2=False):\n",
        "\n",
        "  def evaluate_line(s):\n",
        "\n",
        "    def parse_term(i):\n",
        "      if s[i] == '(':\n",
        "        value, i = parse_sequence(i + 1)\n",
        "        check_eq(s[i], ')')\n",
        "        return value, i + 1\n",
        "      if s[i].isdigit():\n",
        "        value = int(s[i])\n",
        "        return value, i + 1\n",
        "      raise AssertionError\n",
        "\n",
        "    def parse_sequence(i):\n",
        "      value, i = parse_term(i)\n",
        "      while i < len(s) and s[i] != ')':\n",
        "        check_eq(s[i], ' ')\n",
        "        check_eq(s[i + 2], ' ')\n",
        "        if s[i + 1] == '+':\n",
        "          value2, i = parse_term(i + 3)\n",
        "          value += value2\n",
        "        elif s[i + 1] == '*':\n",
        "          value2, i = (parse_sequence if part2 else parse_term)(i + 3)\n",
        "          value *= value2\n",
        "        else:\n",
        "          raise AssertionError\n",
        "      return value, i\n",
        "\n",
        "    value, i = parse_sequence(0)\n",
        "    check_eq(i, len(s))\n",
        "    return value\n",
        "\n",
        "  return sum(evaluate_line(s) for s in strings.splitlines())\n",
        "\n",
        "puzzle.verify(1, process)\n",
        "\n",
        "process2 = functools.partial(process, part2=True)\n",
        "puzzle.verify(2, process2)"
      ],
      "execution_count": 93,
      "outputs": [
        {
          "output_type": "stream",
          "text": [
            "(Time:  0.053)\n",
            "(Time:  0.051)\n"
          ],
          "name": "stdout"
        }
      ]
    },
    {
      "cell_type": "code",
      "metadata": {
        "id": "yWEVQRq560AZ",
        "colab": {
          "base_uri": "https://localhost:8080/"
        },
        "outputId": "4853d0d9-a738-4d6b-beb1-a8543053ef3b"
      },
      "source": [
        "# Compact faster version:\n",
        "def process(strings, part2=False):\n",
        "\n",
        "  def evaluate_line(s):\n",
        "\n",
        "    def eval_term(i):\n",
        "      return eval_seq(i + 1, eat=1) if s[i] == '(' else (int(s[i]), i + 1)\n",
        "\n",
        "    def eval_seq(i, eat=0):\n",
        "      value, i = eval_term(i)\n",
        "      while i < len(s) and s[i] != ')':\n",
        "        is_mul = s[i + 1] == '*'\n",
        "        value2, i = (eval_seq if part2 and is_mul else eval_term)(i + 3)\n",
        "        value = value * value2 if is_mul else value + value2\n",
        "      return value, i + eat\n",
        "\n",
        "    return eval_seq(0)[0]\n",
        "\n",
        "  return sum(evaluate_line(s) for s in strings.strip('\\n').splitlines())\n",
        "\n",
        "\n",
        "check_eq(process('1 + 2 * 3 + 4 * 5 + 6'), 71)\n",
        "check_eq(process('1 + (2 * 3) + (4 * (5 + 6))'), 51)\n",
        "check_eq(process('2 * 3 + (4 * 5)'), 26)\n",
        "check_eq(process('5 + (8 * 3 + 9 + 3 * 4 * 3)'), 437)\n",
        "check_eq(process('5 * 9 * (7 * 3 * 3 + 9 * 3 + (8 + 6 * 4))'), 12240)\n",
        "check_eq(process('((2 + 4 * 9) * (6 + 9 * 8 + 6) + 6) + 2 + 4 * 2'), 13632)\n",
        "\n",
        "puzzle.verify(1, process)"
      ],
      "execution_count": 94,
      "outputs": [
        {
          "output_type": "stream",
          "text": [
            "(Time:  0.004)\n"
          ],
          "name": "stdout"
        }
      ]
    },
    {
      "cell_type": "code",
      "metadata": {
        "id": "k_znXBfN-dQy",
        "colab": {
          "base_uri": "https://localhost:8080/"
        },
        "outputId": "3b17c87b-eded-45a8-a8a5-9a7ca96e9edf"
      },
      "source": [
        "process2 = functools.partial(process, part2=True)\n",
        "\n",
        "check_eq(process2('1 + 2 * 3 + 4 * 5 + 6'), 231)\n",
        "check_eq(process2('1 + (2 * 3) + (4 * (5 + 6))'), 51)\n",
        "check_eq(process2('2 * 3 + (4 * 5)'), 46)\n",
        "check_eq(process2('5 + (8 * 3 + 9 + 3 * 4 * 3)'), 1445)\n",
        "check_eq(process2('5 * 9 * (7 * 3 * 3 + 9 * 3 + (8 + 6 * 4))'), 669060)\n",
        "check_eq(process2('((2 + 4 * 9) * (6 + 9 * 8 + 6) + 6) + 2 + 4 * 2'), 23340)\n",
        "\n",
        "puzzle.verify(2, process2)"
      ],
      "execution_count": 95,
      "outputs": [
        {
          "output_type": "stream",
          "text": [
            "(Time:  0.006)\n"
          ],
          "name": "stdout"
        }
      ]
    },
    {
      "cell_type": "markdown",
      "metadata": {
        "id": "c56vcfk3-dcD"
      },
      "source": [
        "## Day 19: Message grammar"
      ]
    },
    {
      "cell_type": "markdown",
      "metadata": {
        "id": "RAvwjbvGdP65"
      },
      "source": [
        "Given a set of context-free grammar rules and a set of words, report the number of words that are expressible in the grammar.\n",
        "\n",
        "- Part 1: Use the initial grammar rules, which do not have cycles.\n",
        "\n",
        "- Part 2: Replace two of the grammar rules, thereby introducing cycles."
      ]
    },
    {
      "cell_type": "code",
      "metadata": {
        "id": "OS8_aWxv-dcD",
        "colab": {
          "base_uri": "https://localhost:8080/"
        },
        "outputId": "9fc43237-dc79-4b66-c463-9a91c1c33edb"
      },
      "source": [
        "puzzle = advent.puzzle(19)"
      ],
      "execution_count": 96,
      "outputs": [
        {
          "output_type": "stream",
          "text": [
            "For day 19, puzzle.input has 583 lines:\n",
            "26: 97 126 | 123 57\n",
            "122: 84 97 | 92 123\n",
            "82: 97 138 | 123 130\n",
            "80: 131 97\n",
            "3: 123 107 | 97 66\n",
            "101: 1 123 | 95 97\n",
            "10: 97 138 | 123 107\n",
            "83: 123 27 | 97 12\n",
            " ...\n",
            "abaabababbbbbabababbabbaaaabbbba\n",
            "baaaababbbabbbbaaababbab\n",
            "bbbabbabaabbaabbabbaaabb\n",
            "abaaaababaabbbbabbbbbbbbaaaaaaaababaaaabbbaaaaaabbbbaaabbbbababb\n",
            "And the stored answers are: {1: 198, 2: 372}\n"
          ],
          "name": "stdout"
        }
      ]
    },
    {
      "cell_type": "code",
      "metadata": {
        "id": "dDfUDTg6-dcD",
        "colab": {
          "base_uri": "https://localhost:8080/"
        },
        "cellView": "form",
        "outputId": "63dade93-e3c1-4d2d-d414-dd42f968eced"
      },
      "source": [
        "#@title\n",
        "print('Let s1, s2 be test inputs.')\n",
        "\n",
        "s1 = \"\"\"\n",
        "0: 4 1 5\n",
        "1: 2 3 | 3 2\n",
        "2: 4 4 | 5 5\n",
        "3: 4 5 | 5 4\n",
        "4: \"a\"\n",
        "5: \"b\"\n",
        "\n",
        "ababbb\n",
        "bababa\n",
        "abbbab\n",
        "aaabbb\n",
        "aaaabbb\n",
        "\"\"\"\n",
        "\n",
        "s2 = \"\"\"\n",
        "42: 9 14 | 10 1\n",
        "9: 14 27 | 1 26\n",
        "10: 23 14 | 28 1\n",
        "1: \"a\"\n",
        "11: 42 31\n",
        "5: 1 14 | 15 1\n",
        "19: 14 1 | 14 14\n",
        "12: 24 14 | 19 1\n",
        "16: 15 1 | 14 14\n",
        "31: 14 17 | 1 13\n",
        "6: 14 14 | 1 14\n",
        "2: 1 24 | 14 4\n",
        "0: 8 11\n",
        "13: 14 3 | 1 12\n",
        "15: 1 | 14\n",
        "17: 14 2 | 1 7\n",
        "23: 25 1 | 22 14\n",
        "28: 16 1\n",
        "4: 1 1\n",
        "20: 14 14 | 1 15\n",
        "3: 5 14 | 16 1\n",
        "27: 1 6 | 14 18\n",
        "14: \"b\"\n",
        "21: 14 1 | 1 14\n",
        "25: 1 1 | 1 14\n",
        "22: 14 14\n",
        "8: 42\n",
        "26: 14 22 | 1 20\n",
        "18: 15 15\n",
        "7: 14 5 | 1 21\n",
        "24: 14 1\n",
        "\n",
        "abbbbbabbbaaaababbaabbbbabababbbabbbbbbabaaaa\n",
        "bbabbbbaabaabba\n",
        "babbbbaabbbbbabbbbbbaabaaabaaa\n",
        "aaabbbbbbaaaabaababaabababbabaaabbababababaaa\n",
        "bbbbbbbaaaabbbbaaabbabaaa\n",
        "bbbababbbbaaaaaaaabbababaaababaabab\n",
        "ababaaaaaabaaab\n",
        "ababaaaaabbbaba\n",
        "baabbaaaabbaaaababbaababb\n",
        "abbbbabbbbaaaababbbbbbaaaababb\n",
        "aaaaabbaabaaaaababaa\n",
        "aaaabbaaaabbaaa\n",
        "aaaabbaabbaaaaaaabbbabbbaaabbaabaaa\n",
        "babaaabbbaaabaababbaabababaaab\n",
        "aabbbbbaabbbaaaaaabbbbbababaaaaabbaaabba\n",
        "\"\"\""
      ],
      "execution_count": 97,
      "outputs": [
        {
          "output_type": "stream",
          "text": [
            "Let s1, s2 be test inputs.\n"
          ],
          "name": "stdout"
        }
      ]
    },
    {
      "cell_type": "code",
      "metadata": {
        "id": "9goN2Yg2Ylew",
        "colab": {
          "base_uri": "https://localhost:8080/"
        },
        "outputId": "033a9f83-8e09-4c36-ac5d-84b07d81a6f8"
      },
      "source": [
        "# Compact code:\n",
        "def process(s, part2=False):\n",
        "  section1, section2 = s.strip('\\n').split('\\n\\n')\n",
        "  rules = dict(line.split(': ') for line in section1.splitlines())\n",
        "  if part2:\n",
        "    rules.update({'8': '42 | 42 8', '11': '42 31 | 42 11 31'})\n",
        "\n",
        "  def valid_expansion(symbols, text):\n",
        "    if not symbols or not text:\n",
        "      return not symbols and not text\n",
        "    expansions = rules[symbols[0]]\n",
        "    if expansions[0] == '\"':\n",
        "      return expansions[1] == text[0] and valid_expansion(symbols[1:], text[1:])\n",
        "    return any(valid_expansion(expansion.split() + symbols[1:], text)\n",
        "               for expansion in expansions.split(' | '))\n",
        "\n",
        "  return sum(valid_expansion(['0'], text) for text in section2.splitlines())\n",
        "\n",
        "\n",
        "check_eq(process(s1), 2)\n",
        "puzzle.verify(1, process)\n",
        "\n",
        "process2 = functools.partial(process, part2=True)\n",
        "check_eq(process2(s2), 12)\n",
        "puzzle.verify(2, process2)"
      ],
      "execution_count": 98,
      "outputs": [
        {
          "output_type": "stream",
          "text": [
            "(Time:  0.085)\n",
            "(Time:  0.410)\n"
          ],
          "name": "stdout"
        }
      ]
    },
    {
      "cell_type": "code",
      "metadata": {
        "colab": {
          "base_uri": "https://localhost:8080/"
        },
        "id": "MY1l556e0GY2",
        "outputId": "0cc83720-7cd8-4183-a3dd-974d8af5f556"
      },
      "source": [
        "# Faster code:\n",
        "def process(s, part2=False):\n",
        "  section1, section2 = s.strip('\\n').split('\\n\\n')\n",
        "  rules = {\n",
        "      int(symbol): (rhs[1] if rhs[0] == '\"' else\n",
        "                    tuple(tuple(map(int, s.split())) for s in rhs.split(' | ')))\n",
        "      for line in section1.splitlines()\n",
        "      for symbol, rhs in (line.split(': '),)\n",
        "  }\n",
        "  if part2:\n",
        "    # We are fortunate that in both modified rules, there is a symbol to the\n",
        "    # left of the recursion, which forces the consumption of a character.\n",
        "    rules.update({8: ((42,), (42, 8)), 11: ((42, 31), (42, 11, 31))})\n",
        "\n",
        "  def valid_expansion(symbols, text):\n",
        "    while True:\n",
        "      if not symbols:\n",
        "        return not text\n",
        "      if not text:\n",
        "        return False\n",
        "      expansions = rules[symbols[0]]\n",
        "      if isinstance(expansions, str):\n",
        "        if expansions != text[0]:\n",
        "          return False\n",
        "        symbols, text = symbols[1:], text[1:]\n",
        "        continue\n",
        "      return any(valid_expansion(expansion + symbols[1:], text)\n",
        "                for expansion in expansions)\n",
        "\n",
        "  return sum(valid_expansion((0,), text) for text in section2.splitlines())\n",
        "\n",
        "\n",
        "check_eq(process(s1), 2)\n",
        "puzzle.verify(1, process)\n",
        "\n",
        "process2 = functools.partial(process, part2=True)\n",
        "check_eq(process2(s2), 12)\n",
        "puzzle.verify(2, process2)"
      ],
      "execution_count": 99,
      "outputs": [
        {
          "output_type": "stream",
          "text": [
            "(Time:  0.066)\n",
            "(Time:  0.275)\n"
          ],
          "name": "stdout"
        }
      ]
    },
    {
      "cell_type": "markdown",
      "metadata": {
        "id": "59zy45w3-dmm"
      },
      "source": [
        "## Day 20: Assemble rotated tiles"
      ]
    },
    {
      "cell_type": "markdown",
      "metadata": {
        "id": "1cpjHakteKin"
      },
      "source": [
        "Given a set of numbered 2D image tiles with binary values, assemble these tiles using rotations and flips into a 2D grid such that adjacent tiles have matching boundary values.\n",
        "\n",
        "- Part 1: Return the product of the tile numbers for the 4 tiles that lie at the corners of the assembled 2D grid.\n",
        "\n",
        "- Part 2: Given a 2D mask (\"dragon\"), find all possible locations for this mask (including rotations and flips) such that all active values in the mask are also active in the assembled grid.  Report the number of active grid nodes which are not covered by any found mask instance."
      ]
    },
    {
      "cell_type": "code",
      "metadata": {
        "id": "5rf3fPOk-dmm",
        "colab": {
          "base_uri": "https://localhost:8080/"
        },
        "outputId": "a1a03dec-d522-4a64-eb91-467173f79e90"
      },
      "source": [
        "puzzle = advent.puzzle(20)"
      ],
      "execution_count": 100,
      "outputs": [
        {
          "output_type": "stream",
          "text": [
            "For day 20, puzzle.input has 1727 lines:\n",
            "Tile 2789:\n",
            ".#..#...##\n",
            "##...#....\n",
            "#.#.##..#.\n",
            ".#.##.##.#\n",
            "....#....#\n",
            "#.#......#\n",
            ".....#....\n",
            " ...\n",
            "..#......#\n",
            "#......#.#\n",
            "..#.....#.\n",
            ".#.#.##.##\n",
            "And the stored answers are: {1: 18449208814679, 2: 1559}\n"
          ],
          "name": "stdout"
        }
      ]
    },
    {
      "cell_type": "code",
      "metadata": {
        "id": "4BGOjHl3-dmm",
        "colab": {
          "base_uri": "https://localhost:8080/"
        },
        "cellView": "form",
        "outputId": "b4552609-97bb-4298-c671-d2527d7f08a1"
      },
      "source": [
        "#@title\n",
        "\n",
        "print('Let s1 be a test input.')\n",
        "\n",
        "s1 = \"\"\"\n",
        "Tile 2311:\n",
        "..##.#..#.\n",
        "##..#.....\n",
        "#...##..#.\n",
        "####.#...#\n",
        "##.##.###.\n",
        "##...#.###\n",
        ".#.#.#..##\n",
        "..#....#..\n",
        "###...#.#.\n",
        "..###..###\n",
        "\n",
        "Tile 1951:\n",
        "#.##...##.\n",
        "#.####...#\n",
        ".....#..##\n",
        "#...######\n",
        ".##.#....#\n",
        ".###.#####\n",
        "###.##.##.\n",
        ".###....#.\n",
        "..#.#..#.#\n",
        "#...##.#..\n",
        "\n",
        "Tile 1171:\n",
        "####...##.\n",
        "#..##.#..#\n",
        "##.#..#.#.\n",
        ".###.####.\n",
        "..###.####\n",
        ".##....##.\n",
        ".#...####.\n",
        "#.##.####.\n",
        "####..#...\n",
        ".....##...\n",
        "\n",
        "Tile 1427:\n",
        "###.##.#..\n",
        ".#..#.##..\n",
        ".#.##.#..#\n",
        "#.#.#.##.#\n",
        "....#...##\n",
        "...##..##.\n",
        "...#.#####\n",
        ".#.####.#.\n",
        "..#..###.#\n",
        "..##.#..#.\n",
        "\n",
        "Tile 1489:\n",
        "##.#.#....\n",
        "..##...#..\n",
        ".##..##...\n",
        "..#...#...\n",
        "#####...#.\n",
        "#..#.#.#.#\n",
        "...#.#.#..\n",
        "##.#...##.\n",
        "..##.##.##\n",
        "###.##.#..\n",
        "\n",
        "Tile 2473:\n",
        "#....####.\n",
        "#..#.##...\n",
        "#.##..#...\n",
        "######.#.#\n",
        ".#...#.#.#\n",
        ".#########\n",
        ".###.#..#.\n",
        "########.#\n",
        "##...##.#.\n",
        "..###.#.#.\n",
        "\n",
        "Tile 2971:\n",
        "..#.#....#\n",
        "#...###...\n",
        "#.#.###...\n",
        "##.##..#..\n",
        ".#####..##\n",
        ".#..####.#\n",
        "#..#.#..#.\n",
        "..####.###\n",
        "..#.#.###.\n",
        "...#.#.#.#\n",
        "\n",
        "Tile 2729:\n",
        "...#.#.#.#\n",
        "####.#....\n",
        "..#.#.....\n",
        "....#..#.#\n",
        ".##..##.#.\n",
        ".#.####...\n",
        "####.#.#..\n",
        "##.####...\n",
        "##..#.##..\n",
        "#.##...##.\n",
        "\n",
        "Tile 3079:\n",
        "#.#.#####.\n",
        ".#..######\n",
        "..#.......\n",
        "######....\n",
        "####.#..#.\n",
        ".#...#.##.\n",
        "#.#####.##\n",
        "..#.###...\n",
        "..#.......\n",
        "..#.###...\n",
        "\"\"\""
      ],
      "execution_count": 101,
      "outputs": [
        {
          "output_type": "stream",
          "text": [
            "Let s1 be a test input.\n"
          ],
          "name": "stdout"
        }
      ]
    },
    {
      "cell_type": "code",
      "metadata": {
        "id": "TE5os-0wp1Bv",
        "colab": {
          "base_uri": "https://localhost:8080/"
        },
        "outputId": "ace31b3f-d619-4390-f717-72a2471b208b"
      },
      "source": [
        "def process(s, part2=False):\n",
        "\n",
        "  def to_grid(s):\n",
        "    return np.array(list(map(list, s.strip('\\n').splitlines())))\n",
        "\n",
        "  tiles = {int(t[5:9]): to_grid(t[11:]) for t in s.strip('\\n').split('\\n\\n')}\n",
        "  n = int(len(tiles)**0.5)  # math.isqrt() in version 3.8\n",
        "  rotations = tuple(range(8))  # 4 proper rotations * 2 flips\n",
        "\n",
        "  def rotate(tile, rotation):\n",
        "    return np.rot90(tile if rotation < 4 else tile[::-1], rotation % 4)\n",
        "\n",
        "  # List of (index, rotation) for up to 2 tiles whose top row matches the key.\n",
        "  edge_list = collections.defaultdict(list)\n",
        "  for index, tile in tiles.items():\n",
        "    for rotation in rotations:\n",
        "      edge_list[tuple(rotate(tile, rotation)[0])].append((index, rotation))\n",
        "\n",
        "  def is_corner(tile):\n",
        "    # A corner tile has 2 unique edges.\n",
        "    return sum(len(edge_list[tuple(rotate(tile, rotation)[0])]) == 1\n",
        "               for rotation in rotations[:4]) == 2\n",
        "\n",
        "  corners = [index for index, tile in tiles.items() if is_corner(tile)]\n",
        "  assert len(corners) == 4  # Exactly four tiles must be at the corners.\n",
        "  if not part2:\n",
        "    return np.prod(corners)\n",
        "\n",
        "  # Place a first corner in the grid upper-left and determine its rotation.\n",
        "  index = corners[0]\n",
        "  tile = tiles[index]\n",
        "  rotation, _ = (rotation for rotation in rotations  # 2 solutions due to flip\n",
        "                 if (len(edge_list[tuple(rotate(tile, rotation)[0])]) == 1 and\n",
        "                     len(edge_list[tuple(rotate(tile, rotation)[:, 0])]) == 1))\n",
        "  layout = np.empty((n, n), dtype=object)\n",
        "  layout[0, 0] = (index, rotation)\n",
        "\n",
        "  def find(not_index, rot, desired):\n",
        "    \"Returns tile (index, rotation) with top row matching desired after rot.\"\n",
        "    l = edge_list[tuple(desired)]\n",
        "    index, rotation = next(((index, rotation) for index, rotation in l\n",
        "                            if index != not_index))\n",
        "    return index, (rotation + rot) % 4 + rotation // 4 * 4\n",
        "\n",
        "  for y, x in np.ndindex(n, n):\n",
        "    if x > 0:\n",
        "      left_index, left_rotation = layout[y, x - 1]\n",
        "      desired_left = rotate(tiles[left_index], left_rotation)[::-1, -1]\n",
        "      layout[y, x] = find(left_index, 1, desired_left)\n",
        "    elif y > 0:\n",
        "      top_index, top_rotation = layout[y - 1, x]\n",
        "      desired_top = rotate(tiles[top_index], top_rotation)[-1, :]\n",
        "      layout[y, x] = find(top_index, 0, desired_top)\n",
        "\n",
        "  def block(y, x):\n",
        "    index, rotation = layout[y, x]\n",
        "    return rotate(tiles[index], rotation)[1:-1, 1:-1]\n",
        "\n",
        "  grid = np.block([[block(y, x) for x in range(n)] for y in range(n)])\n",
        "\n",
        "  pattern = '                  # #    ##    ##    ### #  #  #  #  #  #   '\n",
        "  pattern = np.array(list(pattern)).reshape(3, 20) == '#'\n",
        "  not_pattern = ~pattern\n",
        "\n",
        "  for rotation in rotations:\n",
        "    gridview = rotate(grid, rotation)\n",
        "    for y, x in np.ndindex(*(np.array(gridview.shape) - pattern.shape)):\n",
        "      subgrid = gridview[y:y + pattern.shape[0], x:x + pattern.shape[1]]\n",
        "      # Computational bottleneck in part2.\n",
        "      if np.all(not_pattern | (subgrid != '.')):\n",
        "        subgrid[pattern] = 'O'\n",
        "\n",
        "  return np.count_nonzero(grid == '#')\n",
        "\n",
        "\n",
        "check_eq(process(s1), 20899048083289)\n",
        "puzzle.verify(1, process)\n",
        "\n",
        "process2 = functools.partial(process, part2=True)\n",
        "check_eq(process2(s1), 273)\n",
        "puzzle.verify(2, process2)"
      ],
      "execution_count": 102,
      "outputs": [
        {
          "output_type": "stream",
          "text": [
            "(Time:  0.027)\n",
            "(Time:  0.517)\n"
          ],
          "name": "stdout"
        }
      ]
    },
    {
      "cell_type": "markdown",
      "metadata": {
        "id": "Lvu-gXKH-dwO"
      },
      "source": [
        "## Day 21: Allergens in ingredients"
      ]
    },
    {
      "cell_type": "markdown",
      "metadata": {
        "id": "yWu1kcAggsXF"
      },
      "source": [
        "Given a set of foods, each containing a list of ingredients and a set of allergens contained in the ingredients, determine the ingredient corresponding to each allergen.  Each allergen is contained in at most one ingredient.  Some foods may fail to list all allergens.\n",
        "\n",
        "- Part 1: For each food, count the number of ingredients which cannot possibly contain allergens, and report the sum.\n",
        "\n",
        "- Part 2: Report the comma-separated list of ingredients which contain allergens, sorted in ascending order by the allergen name."
      ]
    },
    {
      "cell_type": "code",
      "metadata": {
        "id": "fs33AgEW-dwO",
        "colab": {
          "base_uri": "https://localhost:8080/"
        },
        "outputId": "36b88682-ff28-43be-b6f2-9f2f4f686814"
      },
      "source": [
        "puzzle = advent.puzzle(21)"
      ],
      "execution_count": 103,
      "outputs": [
        {
          "output_type": "stream",
          "text": [
            "For day 21, puzzle.input has 42 lines:\n",
            "xfvxzl nfcrh kscdhn khnqq jkvcbf jhlvrg chc fk zbh hgrptqb zrvtg tdhv jhqpdf jvj ... mxbbst (contains shellfish, sesame)\n",
            "vxzpfp shlg zrvtg ghq vzn ppqs mqlnbjq cltpv pvxpgp psbnqz nqcmm sqjcsxjq xftxgf ... cbhfpzp khnqq dhqbf (contains fish)\n",
            "fzhmtds zbclt pbln qtgv bnl xqcb vxzpfp jkvcbf nnst tplrt xknj hzmvzrr xfvxzl gk ...  (contains sesame, fish, shellfish)\n",
            "ghq vfqh vtdbl bkmgx bxlc sbhdb xfvxzl lvdcdg nsktq hrjrm dbr prrfm dbqbv jbcjk  ... gpgql dpkkzdgs cjds (contains nuts)\n",
            "xknj bbbzcmh tzrp xkqgc ktfvb tplrt dqz ntq jbcjk pcnmbt nqcmm tlgchbh bxfvt nfs ... hlvrg fhznhmx (contains dairy, soy)\n",
            "strd dpdgc cjdnjf flmssjn xfpc mmdfrfcp gpp tqjg znkr mxbbst bbbzcmh jbvrzn cdsl ... mx xknh schkf (contains soy, wheat)\n",
            "gkgzn bndz dpkkzdgs nv nhjbd mqlnbjq khnqq ljpzx cfbgb xknj ddmg mkpmkx tgcvz nn ... trd tdhv fk tdsvx (contains sesame)\n",
            "gnfjcpc ddmg tpbtpd cltpv xfvxzl txr rmxzzf tgcvz jsdgn pgnk jrpx vbvfr vzn gbpl ... c dvzqx hcms zrvtg (contains dairy)\n",
            " ...\n",
            "nsktq ftkfc mdqlbx bxfvt vtdbl djldkx cljvdxp cpp ghzx sbhdb ppqs dvzqx zhpv kgr ... vrtf nnst dqrvvk (contains peanuts)\n",
            "fhznhmx khnm skrrb ckpjgb glxxp rzlkxt jrj mxsklfx mdqlbx mkpmkx xhb bkhjxl ttkn ... txr zgpv (contains fish, shellfish)\n",
            "cbhfpzp tmp rjnx dpdgc frv xflfx dbr fzhmtds kcgtlb msrnhf khnm hgrptqb tfgf xss ...  qhhsj (contains sesame, nuts, soy)\n",
            "flnhl gkddl jhqpdf jkvcbf xqcb gcbbnqb ddmg ppqs bnl jrpx cdslv bxlc tfgf msrnhf ... dqrvvk cltpv (contains wheat, nuts)\n",
            "And the stored answers are: {1: 2410, 2: 'tmp,pdpgm,cdslv,zrvtg,ttkn,mkpmkx,vxzpfp,flnhl'}\n"
          ],
          "name": "stdout"
        }
      ]
    },
    {
      "cell_type": "code",
      "metadata": {
        "id": "_2PTWdhB-dwP"
      },
      "source": [
        "s1 = \"\"\"\n",
        "mxmxvkd kfcds sqjhc nhms (contains dairy, fish)\n",
        "trh fvjkl sbzzf mxmxvkd (contains dairy)\n",
        "sqjhc fvjkl (contains soy)\n",
        "sqjhc mxmxvkd sbzzf (contains fish)\n",
        "\"\"\""
      ],
      "execution_count": 104,
      "outputs": []
    },
    {
      "cell_type": "code",
      "metadata": {
        "id": "ZiLL-vnZg7Nf",
        "colab": {
          "base_uri": "https://localhost:8080/"
        },
        "outputId": "c788025e-cfc6-4843-fac1-cc080906b33c"
      },
      "source": [
        "def process(s, part2=False):\n",
        "\n",
        "  def foods():\n",
        "    for line in s.strip('\\n').splitlines():\n",
        "      ingredients, allergens = line[:-1].split(' (contains ')\n",
        "      yield set(ingredients.split()), allergens.split(', ')\n",
        "\n",
        "  possibles_for_allergen = {}\n",
        "  for ingredients, allergens in foods():\n",
        "    for allergen in allergens:\n",
        "      if allergen not in possibles_for_allergen:\n",
        "        possibles_for_allergen[allergen] = ingredients.copy()\n",
        "      else:\n",
        "        possibles_for_allergen[allergen] &= ingredients\n",
        "\n",
        "  allergen_ingredient = {}\n",
        "  while possibles_for_allergen:\n",
        "    has_single_ingredient = lambda item: len(item[1]) == 1\n",
        "    allergen, ingredients = next(\n",
        "        filter(has_single_ingredient, possibles_for_allergen.items()))\n",
        "    ingredient = ingredients.pop()\n",
        "    allergen_ingredient[allergen] = ingredient\n",
        "    for ingredients2 in possibles_for_allergen.values():\n",
        "      ingredients2.discard(ingredient)\n",
        "    del possibles_for_allergen[allergen]\n",
        "\n",
        "  if not part2:\n",
        "    allergen_ingredients = set(list(allergen_ingredient.values()))\n",
        "    return sum(\n",
        "        len(ingredients - allergen_ingredients) for ingredients, _ in foods())\n",
        "\n",
        "  return ','.join(ingredient\n",
        "                  for _, ingredient in sorted(allergen_ingredient.items()))\n",
        "\n",
        "\n",
        "check_eq(process(s1), 5)\n",
        "puzzle.verify(1, process)\n",
        "\n",
        "process2 = functools.partial(process, part2=True)\n",
        "check_eq(process2(s1), 'mxmxvkd,sqjhc,fvjkl')\n",
        "puzzle.verify(2, process2)"
      ],
      "execution_count": 105,
      "outputs": [
        {
          "output_type": "stream",
          "text": [
            "(Time:  0.001)\n",
            "(Time:  0.001)\n"
          ],
          "name": "stdout"
        }
      ]
    },
    {
      "cell_type": "markdown",
      "metadata": {
        "id": "s6XjBYzo-d4k"
      },
      "source": [
        "## Day 22: Card game"
      ]
    },
    {
      "cell_type": "markdown",
      "metadata": {
        "id": "655GJ3XGiu_D"
      },
      "source": [
        "Given two hands of integer cards, simulate a card game of combat.  At each turn, the player with the largest front card places the two cards (higher card first) at the back of their hand.  A player that owns all cards wins.\n",
        "\n",
        "- Part 1: In the winner's hand, multiply each card value by its position (1 being rearmost), and report the sum of the result.\n",
        "\n",
        "- Part 2: Add extra rules.  If both players have at least as many cards remaining in their deck as their top card, the winner of the round is determined by playing a new game of Recursive Combat.  See the [website](https://adventofcode.com/2020/day/22) for details."
      ]
    },
    {
      "cell_type": "code",
      "metadata": {
        "id": "Z-p_WhaT-d4k",
        "colab": {
          "base_uri": "https://localhost:8080/"
        },
        "outputId": "0193db82-91f8-411f-f9b3-74c03d0bfd7e"
      },
      "source": [
        "puzzle = advent.puzzle(22)"
      ],
      "execution_count": 106,
      "outputs": [
        {
          "output_type": "stream",
          "text": [
            "For day 22, puzzle.input has 53 lines:\n",
            "Player 1:\n",
            "15\n",
            "31\n",
            "26\n",
            "4\n",
            "36\n",
            "30\n",
            "43\n",
            " ...\n",
            "37\n",
            "5\n",
            "1\n",
            "27\n",
            "And the stored answers are: {1: 32199, 2: 33780}\n"
          ],
          "name": "stdout"
        }
      ]
    },
    {
      "cell_type": "code",
      "metadata": {
        "id": "YQE7j-bd-d4k"
      },
      "source": [
        "s1 = \"\"\"\n",
        "Player 1:\n",
        "9\n",
        "2\n",
        "6\n",
        "3\n",
        "1\n",
        "\n",
        "Player 2:\n",
        "5\n",
        "8\n",
        "4\n",
        "7\n",
        "10\n",
        "\"\"\""
      ],
      "execution_count": 107,
      "outputs": []
    },
    {
      "cell_type": "code",
      "metadata": {
        "colab": {
          "base_uri": "https://localhost:8080/"
        },
        "id": "kWKveQ-OBmqD",
        "outputId": "cc093405-d5c1-426a-e0c0-59885a663a53"
      },
      "source": [
        "def process1(s):\n",
        "  hands = [collections.deque(map(int, s2.splitlines()[1:]))\n",
        "           for s2 in s.strip('\\n').split('\\n\\n')]\n",
        "\n",
        "  while hands[0] and hands[1]:\n",
        "    cards = hands[0].popleft(), hands[1].popleft()\n",
        "    winner = 0 if cards[0] > cards[1] else 1\n",
        "    hands[winner].extend([cards[winner], cards[1 - winner]])\n",
        "\n",
        "  return sum((i + 1) * card for i, card in enumerate(reversed(hands[winner])))\n",
        "\n",
        "\n",
        "check_eq(process1(s1), 306)\n",
        "puzzle.verify(1, process1)"
      ],
      "execution_count": 108,
      "outputs": [
        {
          "output_type": "stream",
          "text": [
            "(Time:  0.000)\n"
          ],
          "name": "stdout"
        }
      ]
    },
    {
      "cell_type": "markdown",
      "metadata": {
        "id": "jiPsX_E7lF4p"
      },
      "source": [
        "Part 2"
      ]
    },
    {
      "cell_type": "code",
      "metadata": {
        "id": "C6AZhL6-gkOq"
      },
      "source": [
        "# Slower code using deque:\n",
        "def process2(s):\n",
        "  hands = [collections.deque(map(int, s2.splitlines()[1:]))\n",
        "           for s2 in s.strip('\\n').split('\\n\\n')]\n",
        "\n",
        "  def combat(hands):  # Returns (hands, winner)\n",
        "    visited = set()\n",
        "    while hands[0] and hands[1]:\n",
        "      state = (*hands[0], -1, *hands[1])\n",
        "      if state in visited:\n",
        "        return hands, 0  # player 1 is winner\n",
        "      visited.add(state)\n",
        "      cards = hands[0].popleft(), hands[1].popleft()\n",
        "      if len(hands[0]) >= cards[0] and len(hands[1]) >= cards[1]:\n",
        "        _, winner = combat([collections.deque(list(hands[0])[:cards[0]]),\n",
        "                            collections.deque(list(hands[1])[:cards[1]])])\n",
        "      else:\n",
        "        winner = 0 if cards[0] > cards[1] else 1\n",
        "      hands[winner].extend([cards[winner], cards[1 - winner]])\n",
        "\n",
        "    return hands, 0 if hands[0] else 1\n",
        "\n",
        "  hands, winner = combat(hands)\n",
        "  return sum((i + 1) * card for i, card in enumerate(reversed(hands[winner])))\n",
        "\n",
        "\n",
        "check_eq(process2(s1), 291)"
      ],
      "execution_count": 109,
      "outputs": []
    },
    {
      "cell_type": "code",
      "metadata": {
        "colab": {
          "base_uri": "https://localhost:8080/"
        },
        "id": "I15rkdkHxQQU",
        "outputId": "448a68d6-f24a-4d32-e384-bb753d3e08b7"
      },
      "source": [
        "# Faster code using tuples:\n",
        "def process2(s):\n",
        "  hand0, hand1 = (tuple(map(int, s2.splitlines()[1:]))\n",
        "                  for s2 in s.strip('\\n').split('\\n\\n'))\n",
        "\n",
        "  def combat(hand0, hand1):\n",
        "    visited = set()\n",
        "    while True:\n",
        "      state = (hand0, hand1)\n",
        "      if state in visited:\n",
        "        return (0,), ()  # player 1 is winner\n",
        "      visited.add(state)\n",
        "      card0 = hand0[0]\n",
        "      card1 = hand1[0]\n",
        "      recurse = len(hand0) > card0 and len(hand1) > card1\n",
        "      if (combat(hand0[1:card0 + 1], hand1[1:card1 + 1])[0] if recurse\n",
        "          else card0 > card1):\n",
        "        hand0, hand1 = hand0[1:] + (card0, card1), hand1[1:]\n",
        "        if not hand1:\n",
        "          break\n",
        "      else:\n",
        "        hand0, hand1 = hand0[1:], hand1[1:] + (card1, card0)\n",
        "        if not hand0:\n",
        "          break\n",
        "    return hand0, hand1\n",
        "\n",
        "  hand0, hand1 = combat(hand0, hand1)\n",
        "  return sum((i + 1) * card for i, card in enumerate(reversed(hand0 + hand1)))\n",
        "\n",
        "\n",
        "check_eq(process2(s1), 291)\n",
        "puzzle.verify(2, process2)"
      ],
      "execution_count": 110,
      "outputs": [
        {
          "output_type": "stream",
          "text": [
            "(Time:  1.000)\n"
          ],
          "name": "stdout"
        }
      ]
    },
    {
      "cell_type": "code",
      "metadata": {
        "id": "AmQbDLMIzhMP"
      },
      "source": [
        "# %timeit -r8 process2(puzzle.input)"
      ],
      "execution_count": 111,
      "outputs": []
    },
    {
      "cell_type": "code",
      "metadata": {
        "id": "qoOEguT9lM7z"
      },
      "source": [
        "# Also tried:\n",
        "# - Created version which caches outcomes of states.  It is 1.7x slower,\n",
        "#    likely because there are too many possible states.\n",
        "# - Used separate recurse() function returning winner and no hands; no change."
      ],
      "execution_count": 112,
      "outputs": []
    },
    {
      "cell_type": "code",
      "metadata": {
        "id": "RDMgtolMz1gV"
      },
      "source": [
        "# %prun process2(puzzle.input)  # No obvious opportunity for optimization."
      ],
      "execution_count": 113,
      "outputs": []
    },
    {
      "cell_type": "markdown",
      "metadata": {
        "id": "v1c-K7fo-d_W"
      },
      "source": [
        "## Day 23: Cups in a circle"
      ]
    },
    {
      "cell_type": "markdown",
      "metadata": {
        "id": "Km0mMKB9lZZp"
      },
      "source": [
        "Given a circular list of cups (labeled 1-9), apply a sequence of moves.\n",
        "For each move, extract the 3 cups to the right of the current cup (initially first in the input), and reinsert the 3 cups to the right of the cup whose label has value 1 less than the current cup.  Advance the current cup to the right.\n",
        "\n",
        "When finding the cup whose label has value 1 less than the current cup, skip over any that are in the 3 extracted cups, and when reaching value 0, wraparound back to the highest value.\n",
        "\n",
        "- Part 1: After 100 moves, what are the cup labels (as a string of 8 digits) to the right of cup 1?\n",
        "\n",
        "- Part 2: Extend the input circular list to contain a total of 1_000_000 cups, labeled 10 .. 1_000_000.  After 10_000_000 moves, determine the two cups to the right of cup 1, and report the product of their labels."
      ]
    },
    {
      "cell_type": "code",
      "metadata": {
        "id": "73qp7KN--d_W",
        "colab": {
          "base_uri": "https://localhost:8080/"
        },
        "outputId": "574bd712-88ce-473e-97b8-bff8370c98ef"
      },
      "source": [
        "puzzle = advent.puzzle(23)"
      ],
      "execution_count": 114,
      "outputs": [
        {
          "output_type": "stream",
          "text": [
            "For day 23, puzzle.input has 1 lines:\n",
            "872495136\n",
            "And the stored answers are: {1: '27865934', 2: 170836011000}\n"
          ],
          "name": "stdout"
        }
      ]
    },
    {
      "cell_type": "code",
      "metadata": {
        "id": "PrJVbU0yjTaD"
      },
      "source": [
        "s1 = '389125467'"
      ],
      "execution_count": 115,
      "outputs": []
    },
    {
      "cell_type": "code",
      "metadata": {
        "id": "jW00lGN77__3"
      },
      "source": [
        "# Code using list:\n",
        "def process(s, num_moves=100):\n",
        "  l = list(map(int, s.strip()))\n",
        "\n",
        "  for _ in range(num_moves):\n",
        "    (current, *extracted3) = l[:4]\n",
        "    destination = current - 1 if current > 1 else len(l)\n",
        "    while destination in extracted3:\n",
        "      destination = destination - 1 if destination > 1 else len(l)\n",
        "    dest = l.index(destination)  # bottleneck in part 2!\n",
        "    l = l[4:dest + 1] + extracted3 + l[dest + 1:] + [current]\n",
        "\n",
        "  i = l.index(1)\n",
        "  l = l[i + 1:] + l[:i]\n",
        "  return ''.join(map(str, l))\n",
        "\n",
        "\n",
        "check_eq(process(s1, num_moves=10), '92658374')\n",
        "check_eq(process(s1), '67384529')"
      ],
      "execution_count": 116,
      "outputs": []
    },
    {
      "cell_type": "code",
      "metadata": {
        "id": "k0evlBlPHe1H"
      },
      "source": [
        "# Code using deque:\n",
        "def process(s, num_moves=100):\n",
        "  d = collections.deque(map(int, s.strip()))\n",
        "  n = len(d)\n",
        "\n",
        "  for _ in range(num_moves):\n",
        "    current = next(iter(d))\n",
        "    d.rotate(-1)  # move current to the end\n",
        "    extracted3 = d.popleft(), d.popleft(), d.popleft()\n",
        "    destination = current - 1 if current > 1 else n\n",
        "    while destination in extracted3:\n",
        "      destination = destination - 1 if destination > 1 else n\n",
        "    dest = d.index(destination)  # bottleneck in part 2!\n",
        "    d.rotate(-dest - 1)  # move destination to end\n",
        "    d.extendleft(reversed(extracted3))\n",
        "    d.rotate(dest + 1)  # move new current back to front\n",
        "\n",
        "  d.rotate(-d.index(1))  # move '1' to front\n",
        "  d.popleft()  # remove '1'\n",
        "  return ''.join(map(str, d))\n",
        "\n",
        "\n",
        "check_eq(process(s1, num_moves=10), '92658374')\n",
        "check_eq(process(s1), '67384529')"
      ],
      "execution_count": 117,
      "outputs": []
    },
    {
      "cell_type": "code",
      "metadata": {
        "colab": {
          "base_uri": "https://localhost:8080/"
        },
        "id": "0dy73YTm8Gpl",
        "outputId": "2d32b535-22ef-41db-ca72-b6af3ab74e06"
      },
      "source": [
        "# Code keeping track of next cup label for each cup label:\n",
        "def process(s, max_num=0, num_moves=100):\n",
        "  dtype = np.int32 if using_numba else np.int64\n",
        "  l = np.array(list(map(int, s.strip())), dtype)\n",
        "  next_cup = np.empty(1 + max(len(l), max_num), dtype=l.dtype)\n",
        "\n",
        "  @numba_njit(cache=True)  # 0.25 s to jit on first invocation\n",
        "  def func(l, max_num, num_moves, next_cup):\n",
        "    n = len(next_cup) - 1\n",
        "    current = l[0]\n",
        "    for i in range(len(l) - 1):\n",
        "      next_cup[l[i]] = l[i + 1]\n",
        "    if max_num:\n",
        "      next_cup[l[-1]] = len(l) + 1\n",
        "      for i in range(len(l) + 1, max_num):\n",
        "        next_cup[i] = i + 1\n",
        "      next_cup[max_num] = l[0]\n",
        "    else:\n",
        "      next_cup[l[-1]] = l[0]\n",
        "\n",
        "    for _ in range(num_moves):\n",
        "      extracted1 = next_cup[current]\n",
        "      extracted2 = next_cup[extracted1]\n",
        "      extracted3 = next_cup[extracted2]\n",
        "      destination = current - 1 if current > 1 else n\n",
        "      while destination in (extracted1, extracted2, extracted3):\n",
        "        destination = destination - 1 if destination > 1 else n\n",
        "      next_cup[current] = next_cup[extracted3]\n",
        "      next_cup[extracted3] = next_cup[destination]\n",
        "      next_cup[destination] = extracted1\n",
        "      current = next_cup[current]\n",
        "\n",
        "    return current\n",
        "\n",
        "  current = func(l, max_num, num_moves, next_cup)\n",
        "  if max_num:\n",
        "    cup1 = next_cup[1]\n",
        "    cup2 = next_cup[cup1]\n",
        "    return int(cup1) * int(cup2)\n",
        "  else:\n",
        "    l = [next_cup[1]]\n",
        "    while next_cup[l[-1]] != 1:\n",
        "      l.append(next_cup[l[-1]])\n",
        "    return ''.join(map(str, l))\n",
        "\n",
        "\n",
        "check_eq(process(s1, num_moves=10), '92658374')\n",
        "check_eq(process(s1), '67384529')\n",
        "\n",
        "puzzle.verify(1, process)"
      ],
      "execution_count": 118,
      "outputs": [
        {
          "output_type": "stream",
          "text": [
            "(Time:  0.004)\n"
          ],
          "name": "stdout"
        }
      ]
    },
    {
      "cell_type": "markdown",
      "metadata": {
        "id": "1c4HNmytswlp"
      },
      "source": [
        "Part 2"
      ]
    },
    {
      "cell_type": "code",
      "metadata": {
        "id": "whhY4iE4jTaN",
        "colab": {
          "base_uri": "https://localhost:8080/"
        },
        "outputId": "1724736f-06a9-4571-ff87-1a351b2c22fe"
      },
      "source": [
        "# ~20 s without numba; ~0.5 s with numba\n",
        "process2 = functools.partial(process, num_moves=10_000_000, max_num=1_000_000)\n",
        "\n",
        "if using_numba:\n",
        "  check_eq(process2(s1), 149245887792)\n",
        "\n",
        "puzzle.verify(2, process2)"
      ],
      "execution_count": 119,
      "outputs": [
        {
          "output_type": "stream",
          "text": [
            "(Time:  0.392)\n"
          ],
          "name": "stdout"
        }
      ]
    },
    {
      "cell_type": "code",
      "metadata": {
        "id": "O5aNrZPQu32d"
      },
      "source": [
        "# %timeit -r8 process2(puzzle.input)"
      ],
      "execution_count": 120,
      "outputs": []
    },
    {
      "cell_type": "code",
      "metadata": {
        "id": "NhlhIih7MVN1"
      },
      "source": [
        "# %prun process2(puzzle.input)  # crashes runtime, likely due to numba function"
      ],
      "execution_count": 121,
      "outputs": []
    },
    {
      "cell_type": "markdown",
      "metadata": {
        "id": "NlVyEkIf-eGr"
      },
      "source": [
        "## Day 24: Hexagonal tiles"
      ]
    },
    {
      "cell_type": "markdown",
      "metadata": {
        "id": "w7qtnTLjnusg"
      },
      "source": [
        "For each input line, travel over a hexagonal grid using the substrings `e`, `w`, `ne`, `nw`, `se`, and `sw`, and flip the state of the reached grid cell.  (Initially all grid cells are inactive.)\n",
        "\n",
        "- Part 1: Report the number of active cells in the resulting hexagonal grid.\n",
        "\n",
        "- Part 2: Simulate a cellular automaton over the grid from part 1, where an inactive cell becomes active if it has exactly 2 active neighbors,\n",
        "and an active cell becomes inactive if it has 0 or more than 2 active neighbors.  Report the number of active cells after 100 steps."
      ]
    },
    {
      "cell_type": "code",
      "metadata": {
        "id": "HiLNcW3J-eGr",
        "colab": {
          "base_uri": "https://localhost:8080/"
        },
        "outputId": "c1f87fe9-2068-4f25-ff87-16d3029b9858"
      },
      "source": [
        "puzzle = advent.puzzle(24)"
      ],
      "execution_count": 122,
      "outputs": [
        {
          "output_type": "stream",
          "text": [
            "For day 24, puzzle.input has 347 lines:\n",
            "enwwsenweswweseseswnenewwswseswenw\n",
            "nwnwneswwnenwnwnwenenwwnesenenwsenenee\n",
            "eneswwenwneeswneenenw\n",
            "swwswswwwswswsweeswww\n",
            "swewnwneeewnewwwswwnwwswswnwww\n",
            "seswnwenesenwsenenwwenwsenwswnwseswnw\n",
            "nwswwenwwwswwnwnewswnwnwwwswnee\n",
            "seswseswseseseseeseseseswnwsesw\n",
            " ...\n",
            "nwnwnwnwnewnwwwnwnwnenenwsenwsesenwnww\n",
            "nwwswneseseswsenweswswswneswwswwswswsw\n",
            "neenwsenenenenenenwswswnenenwsenenene\n",
            "newnwnwnwnwwnweswwewsewenwwnwnwnwnw\n",
            "And the stored answers are: {1: 287, 2: 3636}\n"
          ],
          "name": "stdout"
        }
      ]
    },
    {
      "cell_type": "code",
      "metadata": {
        "id": "r4D9R2ZgjUJb",
        "colab": {
          "base_uri": "https://localhost:8080/"
        },
        "cellView": "form",
        "outputId": "290967ac-60d8-4fa6-9727-8dc3a9b1571f"
      },
      "source": [
        "#@title\n",
        "print('Let s1 be a test input.')\n",
        "\n",
        "s1 = \"\"\"\n",
        "sesenwnenenewseeswwswswwnenewsewsw\n",
        "neeenesenwnwwswnenewnwwsewnenwseswesw\n",
        "seswneswswsenwwnwse\n",
        "nwnwneseeswswnenewneswwnewseswneseene\n",
        "swweswneswnenwsewnwneneseenw\n",
        "eesenwseswswnenwswnwnwsewwnwsene\n",
        "sewnenenenesenwsewnenwwwse\n",
        "wenwwweseeeweswwwnwwe\n",
        "wsweesenenewnwwnwsenewsenwwsesesenwne\n",
        "neeswseenwwswnwswswnw\n",
        "nenwswwsewswnenenewsenwsenwnesesenew\n",
        "enewnwewneswsewnwswenweswnenwsenwsw\n",
        "sweneswneswneneenwnewenewwneswswnese\n",
        "swwesenesewenwneswnwwneseswwne\n",
        "enesenwswwswneneswsenwnewswseenwsese\n",
        "wnwnesenesenenwwnenwsewesewsesesew\n",
        "nenewswnwewswnenesenwnesewesw\n",
        "eneswnwswnwsenenwnwnwwseeswneewsenese\n",
        "neswnwewnwnwseenwseesewsenwsweewe\n",
        "wseweeenwnesenwwwswnew\n",
        "\"\"\""
      ],
      "execution_count": 123,
      "outputs": [
        {
          "output_type": "stream",
          "text": [
            "Let s1 be a test input.\n"
          ],
          "name": "stdout"
        }
      ]
    },
    {
      "cell_type": "code",
      "metadata": {
        "colab": {
          "base_uri": "https://localhost:8080/"
        },
        "id": "cBIxPWhmGaK7",
        "outputId": "05c3420c-1775-4ca3-bfd7-6c4b26930aef"
      },
      "source": [
        "def process(s, num_days=0):\n",
        "  offsets = dict(e=(0, 1), w=(0, -1), sw=(1, 0), se=(1, 1),\n",
        "                 nw=(-1, -1), ne=(-1, 0))\n",
        "  tuple_offsets = tuple(offsets.values())  # slightly faster\n",
        "  indices = set()\n",
        "  for line in s.strip('\\n').splitlines():\n",
        "    y, x = 0, 0\n",
        "    while line:\n",
        "      for prefix, (dy, dx) in offsets.items():\n",
        "        if line.startswith(prefix):\n",
        "          y, x = y + dy, x + dx\n",
        "          line = line[len(prefix):]\n",
        "    indices ^= {(y, x)}\n",
        "\n",
        "  for _ in range(num_days):\n",
        "    neighbor_counts = collections.Counter(\n",
        "        (y + dy, x + dx) for y, x in indices for dy, dx in tuple_offsets)\n",
        "    indices = {index for index, count in neighbor_counts.items()\n",
        "               if count == 2 or (count == 1 and index in indices)}\n",
        "\n",
        "  return len(indices)\n",
        "\n",
        "\n",
        "check_eq(process(s1), 10)\n",
        "puzzle.verify(1, process)"
      ],
      "execution_count": 124,
      "outputs": [
        {
          "output_type": "stream",
          "text": [
            "(Time:  0.006)\n"
          ],
          "name": "stdout"
        }
      ]
    },
    {
      "cell_type": "markdown",
      "metadata": {
        "id": "4FO9F0gsrQex"
      },
      "source": [
        "Part 2"
      ]
    },
    {
      "cell_type": "code",
      "metadata": {
        "colab": {
          "base_uri": "https://localhost:8080/"
        },
        "id": "Tww-_mPArOnf",
        "outputId": "b3878423-e5a7-4937-d79b-3e1a5e2d7de5"
      },
      "source": [
        "check_eq(process(s1, num_days=10), 37)\n",
        "\n",
        "process2 = functools.partial(process, num_days=100)\n",
        "check_eq(process2(s1), 2208)\n",
        "puzzle.verify(2, process2)"
      ],
      "execution_count": 125,
      "outputs": [
        {
          "output_type": "stream",
          "text": [
            "(Time:  0.407)\n"
          ],
          "name": "stdout"
        }
      ]
    },
    {
      "cell_type": "markdown",
      "metadata": {
        "id": "5DCFvNdh-eMi"
      },
      "source": [
        "## Day 25: Public-key encryption"
      ]
    },
    {
      "cell_type": "markdown",
      "metadata": {
        "id": "NkqUQfX8qAyI"
      },
      "source": [
        "Given a card public key and a door public key, find the (private) card loop size and door loop size that were used to generate these public keys.  Then, find the common encryption key that the card and door use to communicate.\n",
        "\n",
        "- Part 1: Report the encryption key.\n",
        "\n",
        "- Part 2: There is no part 2 for this last day of the Advent."
      ]
    },
    {
      "cell_type": "code",
      "metadata": {
        "id": "A7PjF-ox-eMi",
        "colab": {
          "base_uri": "https://localhost:8080/"
        },
        "outputId": "3745f591-1bc5-4cf9-ff04-240f17de3874"
      },
      "source": [
        "puzzle = advent.puzzle(25)"
      ],
      "execution_count": 126,
      "outputs": [
        {
          "output_type": "stream",
          "text": [
            "For day 25, puzzle.input has 2 lines:\n",
            "10212254\n",
            "12577395\n",
            "And the stored answers are: {1: 290487, 2: 'no_part2_on_last_day'}\n"
          ],
          "name": "stdout"
        }
      ]
    },
    {
      "cell_type": "code",
      "metadata": {
        "id": "bKWiR9xadArt"
      },
      "source": [
        "s1 = \"\"\"\n",
        "5764801\n",
        "17807724\n",
        "\"\"\""
      ],
      "execution_count": 127,
      "outputs": []
    },
    {
      "cell_type": "code",
      "metadata": {
        "id": "CrHqH34gC9wB"
      },
      "source": [
        "# Slow code\n",
        "def process(s, base=7, mod=20201227):\n",
        "  card_public_key, door_public_key = map(int, s.strip('\\n').splitlines())\n",
        "\n",
        "  # Slow trial-multiplication; https://en.wikipedia.org/wiki/Discrete_logarithm\n",
        "  def untransform(base, value):\n",
        "    x = 1\n",
        "    loop_size = 0\n",
        "    while x != value:\n",
        "      loop_size += 1\n",
        "      x = (x * base) % mod\n",
        "    return loop_size\n",
        "\n",
        "  # Slow O(n) version.\n",
        "  def transform(value, loop_size):\n",
        "    x = 1\n",
        "    for _ in range(loop_size):\n",
        "      x = (x * value) % mod\n",
        "    return x\n",
        "\n",
        "  card_loop_size = untransform(base, card_public_key)\n",
        "  door_loop_size = untransform(base, door_public_key)\n",
        "  assert transform(base, card_loop_size) == card_public_key\n",
        "  assert transform(base, door_loop_size) == door_public_key\n",
        "\n",
        "  encryption_key1 = transform(door_public_key, card_loop_size)\n",
        "  encryption_key2 = transform(card_public_key, door_loop_size)\n",
        "  assert encryption_key1 == encryption_key2\n",
        "  return encryption_key1\n",
        "\n",
        "\n",
        "check_eq(process(s1), 14897079)"
      ],
      "execution_count": 128,
      "outputs": []
    },
    {
      "cell_type": "code",
      "metadata": {
        "colab": {
          "base_uri": "https://localhost:8080/"
        },
        "id": "grEocEpxDCSO",
        "outputId": "17e45849-8877-454b-83ca-2081e0b5a674"
      },
      "source": [
        "# Fast code\n",
        "\n",
        "def pow_mod(base: int, exponent: int, mod: int) -> int:\n",
        "  \"\"\"Returns 'base**exponent % mod' using square-multiply algorithm.\"\"\"\n",
        "  x = 1\n",
        "  while exponent > 0:\n",
        "    if exponent % 2 == 1:\n",
        "      x = (x * base) % mod\n",
        "    base = (base * base) % mod\n",
        "    exponent //= 2\n",
        "  return x\n",
        "\n",
        "\n",
        "def log_mod(base: int, value: int, mod: int) -> Optional[int]:\n",
        "  \"\"\"Returns exponent for 'base**exponent % mod == value'.\"\"\"\n",
        "  # Using https://en.wikipedia.org/wiki/Baby-step_giant-step\n",
        "  m = int(math.ceil(math.sqrt(mod)))\n",
        "  table = {}\n",
        "  e = 1\n",
        "  for i in range(m):\n",
        "    table[e] = i\n",
        "    e = (e * base) % mod\n",
        "  factor = pow_mod(base, mod - m - 1, mod)\n",
        "  e = value\n",
        "  for i in range(m):\n",
        "    if e in table:\n",
        "      return i * m + table[e]\n",
        "    e = (e * factor) % mod\n",
        "  return None\n",
        "\n",
        "\n",
        "def process(s, base=7, mod=20201227):\n",
        "  card_public_key, door_public_key = map(int, s.strip('\\n').splitlines())\n",
        "  card_loop_size = log_mod(base, card_public_key, mod)\n",
        "  return pow_mod(door_public_key, card_loop_size, mod)\n",
        "\n",
        "\n",
        "check_eq(process(s1), 14897079)\n",
        "puzzle.verify(1, process)"
      ],
      "execution_count": 129,
      "outputs": [
        {
          "output_type": "stream",
          "text": [
            "(Time:  0.001)\n"
          ],
          "name": "stdout"
        }
      ]
    },
    {
      "cell_type": "markdown",
      "metadata": {
        "id": "9zdRajWRpyhN"
      },
      "source": [
        "Part 2"
      ]
    },
    {
      "cell_type": "code",
      "metadata": {
        "colab": {
          "base_uri": "https://localhost:8080/"
        },
        "id": "PuP7tmdj3-W6",
        "outputId": "3913b70c-4d7c-464f-f628-0c0f9ed0996a"
      },
      "source": [
        "puzzle.verify(2, lambda x: 'no_part2_on_last_day')"
      ],
      "execution_count": 130,
      "outputs": [
        {
          "output_type": "stream",
          "text": [
            "(Time:  0.000)\n"
          ],
          "name": "stdout"
        }
      ]
    },
    {
      "cell_type": "markdown",
      "metadata": {
        "id": "If8mZUwzx1Id"
      },
      "source": [
        "## Timings"
      ]
    },
    {
      "cell_type": "code",
      "metadata": {
        "colab": {
          "base_uri": "https://localhost:8080/"
        },
        "id": "aTzBo92e5pb3",
        "outputId": "c9e65a53-b1b8-4e68-d07b-5fef1f26cdf4"
      },
      "source": [
        "advent.show_times()"
      ],
      "execution_count": 131,
      "outputs": [
        {
          "output_type": "stream",
          "text": [
            "day_1    part_1: 0.000   part_2: 0.002\n",
            "day_2    part_1: 0.005   part_2: 0.003\n",
            "day_3    part_1: 0.002   part_2: 0.005\n",
            "day_4    part_1: 0.001   part_2: 0.005\n",
            "day_5    part_1: 0.001   part_2: 0.001\n",
            "day_6    part_1: 0.001   part_2: 0.002\n",
            "day_7    part_1: 0.003   part_2: 0.003\n",
            "day_8    part_1: 0.000   part_2: 0.010\n",
            "day_9    part_1: 0.002   part_2: 0.002\n",
            "day_10   part_1: 0.000   part_2: 0.000\n",
            "day_11   part_1: 0.042   part_2: 0.047\n",
            "day_12   part_1: 0.000   part_2: 0.000\n",
            "day_13   part_1: 0.000   part_2: 0.000\n",
            "day_14   part_1: 0.002   part_2: 0.022\n",
            "day_15   part_1: 0.001   part_2: 0.786\n",
            "day_16   part_1: 0.005   part_2: 0.044\n",
            "day_17   part_1: 0.018   part_2: 0.325\n",
            "day_18   part_1: 0.004   part_2: 0.006\n",
            "day_19   part_1: 0.066   part_2: 0.275\n",
            "day_20   part_1: 0.027   part_2: 0.517\n",
            "day_21   part_1: 0.001   part_2: 0.001\n",
            "day_22   part_1: 0.000   part_2: 1.000\n",
            "day_23   part_1: 0.004   part_2: 0.392\n",
            "day_24   part_1: 0.006   part_2: 0.407\n",
            "day_25   part_1: 0.001   part_2: 0.000\n",
            "Total time:  4.047\n"
          ],
          "name": "stdout"
        }
      ]
    },
    {
      "cell_type": "code",
      "metadata": {
        "id": "NZuIFHku84A6"
      },
      "source": [
        "if 0:  # Compute min execution times over several calls.\n",
        "  advent.show_times(recompute=True, repeat=3)"
      ],
      "execution_count": 132,
      "outputs": []
    },
    {
      "cell_type": "code",
      "metadata": {
        "id": "0nio3urkmwZF"
      },
      "source": [
        "if 0:  # Look for unwanted pollution of namespace.\n",
        "  print(textwrap.fill(' '.join(var for var, value in globals().items() if (\n",
        "      not var.startswith('_') and not repr(value).startswith(\n",
        "          ('<module', '<class', 'typing.', 'functools.partial('))))))"
      ],
      "execution_count": 133,
      "outputs": []
    },
    {
      "cell_type": "code",
      "metadata": {
        "id": "IL1QiMdOA8Fk"
      },
      "source": [
        "if 0:  # Print the answers to update an external file\r\n",
        "  print(json.dumps(advent.answers, sort_keys=True, indent=2))"
      ],
      "execution_count": 134,
      "outputs": []
    },
    {
      "cell_type": "markdown",
      "metadata": {
        "id": "GtTzv1y282IP"
      },
      "source": [
        "# End"
      ]
    }
  ]
}