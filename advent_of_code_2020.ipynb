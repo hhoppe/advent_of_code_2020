{
  "nbformat": 4,
  "nbformat_minor": 0,
  "metadata": {
    "colab": {
      "name": "advent_of_code_2020.ipynb",
      "provenance": [],
      "collapsed_sections": [],
      "toc_visible": true,
      "include_colab_link": true
    },
    "kernelspec": {
      "name": "python3",
      "display_name": "Python 3"
    }
  },
  "cells": [
    {
      "cell_type": "markdown",
      "metadata": {
        "id": "view-in-github",
        "colab_type": "text"
      },
      "source": [
        "<a href=\"https://colab.research.google.com/github/hhoppe/advent_of_code_2020/blob/main/advent_of_code_2020.ipynb\" target=\"_parent\"><img src=\"https://colab.research.google.com/assets/colab-badge.svg\" alt=\"Open In Colab\"/></a>"
      ]
    },
    {
      "cell_type": "markdown",
      "metadata": {
        "id": "WXIjO0fEzNYw"
      },
      "source": [
        "<a name=\"top\"></a>\n",
        "# Advent of code 2020\n",
        "\n",
        "IPython/Jupyter [notebook](https://github.com/hhoppe/advent_of_code_2020/blob/main/advent_of_code_2020.ipynb) by [Hugues Hoppe](http://hhoppe.com/); December 2020.\n",
        "\n",
        "I participated in the 25-day [Advent of Code](https://adventofcode.com/) for the first time this year, thanks to encouragement from colleagues, especially [Sascha Häberling](https://github.com/shaeberling).  It was great fun and provided a nice opportunity to learn more advanced Python.\n",
        "\n",
        "In the event, many people compete to solve the puzzles as quickly as possible --- see the impressive times on the [leaderboard](https://adventofcode.com/2020/leaderboard).\n",
        "My approach was much more casual, although I did aim to finish the puzzle each evening.\n",
        "\n",
        "Later, I went back to explore more **polished and efficient solutions**.\n",
        "Can the code be expressed more succinctly?\n",
        "What is the fastest algorithm given the constraints of interpreted Python?\n",
        "Along the way, I discovered the [`numba`](https://numba.pydata.org/) package which can JIT-compile bottleneck functions to native code;\n",
        "is it practical for these problems?  Yes, it can help greatly!\n",
        "\n",
        "This notebook is organized such that each day is self-contained and can be run on its own after the preamble.\n",
        "\n",
        "- The [**preamble**](#preamble) readies the inputs and answers for the puzzles.  No custom shortcut functions are introduced (other than `check_eq`) so the puzzle code solutions are easily recognizable.\n",
        "\n",
        "- For **each day**, the first notebook cell defines a `puzzle` object:\n",
        "\n",
        "  ```\n",
        "    puzzle = advent.puzzle(day=1)\n",
        "  ```\n",
        "  The puzzle input string is automatically read into the attribute `puzzle.input`.\n",
        "  This input string is unique to each Advent participant.\n",
        "  By default, the notebook uses [my input data](https://github.com/hhoppe/advent_of_code_2020/tree/main/data) stored on GitHub,\n",
        "  but the variable `INPUT_DATA_PATH_OR_URL_FORMAT` can refer to any directory or URL.\n",
        "  Similarly, the (per-user) puzzle answers are read from my JSON [file](https://github.com/hhoppe/advent_of_code_2020/blob/main/data/answers.json) specified in `ANSWERS_PATH_OR_URL`.\n",
        "\n",
        "  For each of the two puzzle parts, a function (e.g. `process1`) takes an input string and returns a string or integer answer.\n",
        "  Using calls like the following, we time the execution of each function and verify the answers:\n",
        "  ```\n",
        "    puzzle.verify(part=1, func=process1)\n",
        "    puzzle.verify(part=2, func=process2)\n",
        "  ```\n",
        "\n",
        "- At the end of the notebook, a table summarizes [**timing**](#timings) results.\n",
        "\n",
        "Some **conclusions**:\n",
        "\n",
        "- A Jupyter/IPython notebook is a great environment for exploration.\n",
        "- The notebook conveniently bundles descriptions, notes, code, small test inputs, and results.\n",
        "- Initially I stored puzzle inputs within the notebook itself, but this introduces clutter and runs inefficiently.\n",
        "- The cloud-based CPU kernel/runtime provided by Colab works nicely.\n",
        "- With the [`numba`](https://numba.pydata.org/) library (for days [11](#day11), [15](#day15), and [23](#day23)), all of this year's puzzles can be solved in 1 second or less.\n",
        "- Remarkably, the total execution time across all 25 puzzles is under 4 s."
      ]
    },
    {
      "cell_type": "markdown",
      "metadata": {
        "id": "BDeORtzZKKfw"
      },
      "source": [
        "<a name=\"preamble\"></a>\n",
        "## Preamble: Common code"
      ]
    },
    {
      "cell_type": "code",
      "metadata": {
        "id": "HjlN7zn53GNs"
      },
      "source": [
        "INPUT_DATA_PATH_OR_URL_FORMAT = 'https://github.com/hhoppe/advent_of_code_2020/raw/main/data/input{:02d}.txt'\n",
        "ANSWERS_PATH_OR_URL = 'https://github.com/hhoppe/advent_of_code_2020/raw/main/data/answers.json'\n",
        "also_run_slow_tests = False\n",
        "show_all_videos = True"
      ],
      "execution_count": 1,
      "outputs": []
    },
    {
      "cell_type": "code",
      "metadata": {
        "id": "FJf7iY-ZK9Tn"
      },
      "source": [
        "!pip install -q mediapy"
      ],
      "execution_count": 2,
      "outputs": []
    },
    {
      "cell_type": "code",
      "metadata": {
        "id": "U-m_rc8FSilP"
      },
      "source": [
        "import bisect\n",
        "import collections\n",
        "import contextlib\n",
        "import dataclasses\n",
        "import functools\n",
        "import heapq\n",
        "import itertools\n",
        "import json\n",
        "import math\n",
        "import operator\n",
        "import pprint\n",
        "import random\n",
        "import re\n",
        "import sys\n",
        "import textwrap\n",
        "import time\n",
        "from typing import Any, Callable, Dict, Mapping, Optional, Tuple, Union\n",
        "import unittest.mock\n",
        "import urllib.request\n",
        "\n",
        "import mediapy as media\n",
        "import numpy as np"
      ],
      "execution_count": 3,
      "outputs": []
    },
    {
      "cell_type": "code",
      "metadata": {
        "id": "SS2dbAs3TM7y"
      },
      "source": [
        "try:\n",
        "  import numba\n",
        "  using_numba = True\n",
        "  numba_njit = numba.njit\n",
        "except ModuleNotFoundError:\n",
        "  print('numba unavailable')\n",
        "  using_numba = False\n",
        "  def noop_decorator(*args: Any, **kwargs: Any) -> Any:\n",
        "    \"\"\"Function decorator that ignores any arguments and does nothing.\"\"\"\n",
        "    return (args[0] if len(args) == 1 and callable(args[0]) and not kwargs\n",
        "            else noop_decorator)\n",
        "  numba_njit = noop_decorator"
      ],
      "execution_count": 4,
      "outputs": []
    },
    {
      "cell_type": "code",
      "metadata": {
        "id": "6M3KdXtHK9Tn"
      },
      "source": [
        "def check_eq(a: Any, b: Any) -> None:\n",
        "  if np.any(a != b):\n",
        "    raise AssertionError(f'{a!r} == {b!r}')\n",
        "\n",
        "\n",
        "def np_int_from_ch(a, int_from_ch: Mapping[str, int],\n",
        "                   dtype=None) -> np.ndarray:\n",
        "  \"\"\"Returns array of integers by mapping from array of characters.\"\"\"\n",
        "  a = np.asarray(a).view(np.int32)\n",
        "  lookup = np.zeros(np.max(a) + 1, dtype=dtype or np.int64)\n",
        "  for ch, value in int_from_ch.items():\n",
        "    lookup[ord(ch)] = value\n",
        "  return lookup[a]\n",
        "\n",
        "\n",
        "def grid_from_string(s: str, int_from_ch: Optional[Mapping[str, int]] = None,\n",
        "    dtype=None) -> np.ndarray:\n",
        "  \"\"\"Returns 2D grid (of characters or integers) from a multiline string.\"\"\"\n",
        "  if 0:  # slow\n",
        "    grid = np.array(list(map(list, s.strip('\\n').splitlines())))\n",
        "\n",
        "  else:  # fast\n",
        "    lines = s.strip('\\n').splitlines()\n",
        "    height, width = len(lines), len(lines[0])\n",
        "    grid = np.empty((height, width), dtype='U1')\n",
        "    dtype_for_row = f'U{width}'\n",
        "    for i, line in enumerate(lines):\n",
        "      grid[i].view(dtype_for_row)[0] = line\n",
        "\n",
        "  if int_from_ch is not None:\n",
        "    grid = np_int_from_ch(grid, int_from_ch, dtype=dtype)\n",
        "  return grid\n",
        "\n",
        "\n",
        "def read_contents(path_or_url: str) -> bytes:\n",
        "  if path_or_url.startswith(('http://', 'https://')):\n",
        "    with urllib.request.urlopen(path_or_url) as response:\n",
        "      data: bytes = response.read()\n",
        "    return data\n",
        "  with open(path_or_url, 'rb') as f:\n",
        "    return f.read()\n",
        "\n",
        "\n",
        "@dataclasses.dataclass\n",
        "class PuzzlePart:\n",
        "  part: int\n",
        "  func: Callable[[str], Union[str, int]]\n",
        "  answer: Optional[Union[str, int]]\n",
        "  slow: bool\n",
        "  elapsed_time: float = -0.0\n",
        "\n",
        "  def compute(self, input: str, silent: bool = False, repeat: int = 1) -> None:\n",
        "    with contextlib.ExitStack() as stack:\n",
        "      if silent:\n",
        "        for f in ('sys.stdout', 'sys.stderr', 'IPython.display.display'):\n",
        "          stack.enter_context(unittest.mock.patch(f))\n",
        "      if self.slow and not advent.also_run_slow_tests:\n",
        "        print('Skipping slow computation because also_run_slow_tests is False')\n",
        "        return\n",
        "      elapsed_times = []\n",
        "      for _ in range(repeat):\n",
        "        start_time = time.time()\n",
        "        result = self.func(input)\n",
        "        elapsed_times.append(time.time() - start_time)\n",
        "        if result != self.answer:\n",
        "          raise AssertionError(f'Result {result} != expected {self.answer}')\n",
        "      self.elapsed_time = min(elapsed_times)\n",
        "      print(f'(Part {self.part}: {self.elapsed_time:#5.3f} s)', flush=True)\n",
        "\n",
        "\n",
        "@dataclasses.dataclass\n",
        "class Puzzle:\n",
        "  day: int\n",
        "  input: str = ''\n",
        "  parts: Dict[int, PuzzlePart] = dataclasses.field(default_factory=dict)  # 1..2\n",
        "  silent: bool = False\n",
        "\n",
        "  def __post_init__(self) -> None:\n",
        "    if self.input:\n",
        "      self.input = self.input.lstrip('\\n')\n",
        "    else:\n",
        "      path_or_url = INPUT_DATA_PATH_OR_URL_FORMAT.format(self.day)\n",
        "      self.input = read_contents(path_or_url).decode()\n",
        "    advent.puzzles[self.day] = self\n",
        "    if not self.silent:\n",
        "      self.print_summary()\n",
        "\n",
        "  def print_summary(self) -> None:\n",
        "    lines = [(line[:80] + ' ... ' + line[-35:] if len(line) > 120 else line)\n",
        "            for line in self.input.splitlines()]\n",
        "    lines2 = lines[:8] + [' ...'] + lines[-4:] if len(lines) > 13 else lines\n",
        "    s = '\\n'.join(lines2)\n",
        "    print(f'For day {self.day}, puzzle.input has {len(lines)} lines:\\n{s}')\n",
        "    print(f'And the stored answers are: {advent.answers[self.day]}')\n",
        "\n",
        "  def verify(self, part: int, func: Callable[[str], Union[str, int]],\n",
        "            answer: Optional[Union[str, int]] = None, \n",
        "            slow: bool = False, repeat: int = 1) -> None:\n",
        "    assert part in (1, 2)\n",
        "    if answer is None:\n",
        "      answer = advent.answers[self.day].get(part)\n",
        "    else:\n",
        "      advent.answers[self.day][part] = answer\n",
        "    self.parts[part] = puzzle_part = PuzzlePart(part, func, answer, slow)\n",
        "    puzzle_part.compute(self.input, repeat=repeat)\n",
        "\n",
        "\n",
        "@dataclasses.dataclass\n",
        "class Advent:\n",
        "  also_run_slow_tests: bool = False\n",
        "  puzzles: Dict[int, Puzzle] = dataclasses.field(default_factory=dict)  # 1..25\n",
        "  answers: Dict[int, Dict[int, Union[str, int]]] = dataclasses.field(\n",
        "      default_factory=lambda: collections.defaultdict(dict))\n",
        "\n",
        "  def __post_init__(self) -> None:\n",
        "    if ANSWERS_PATH_OR_URL:\n",
        "      def keys_to_int(d): return {int(k): v for k, v in d.items()}\n",
        "      self.answers = json.loads(read_contents(ANSWERS_PATH_OR_URL).decode(),\n",
        "                                object_hook=keys_to_int)\n",
        "\n",
        "  def puzzle(self, *args: Any, **kwargs: Any) -> Puzzle:\n",
        "    return Puzzle(*args, **kwargs)\n",
        "\n",
        "  def show_times(self, recompute: bool = False, repeat: int = 1) -> None:\n",
        "    if recompute and repeat > 1:\n",
        "      print(f'(Computing min times over {repeat} calls.)')\n",
        "    total = 0.0\n",
        "    for day, puzzle in sorted(self.puzzles.items()):\n",
        "      s = f'day_{day:<2}'\n",
        "      for part in (1, 2):\n",
        "        s += f'   part_{part}:'\n",
        "        puzzle_part = puzzle.parts.get(part)\n",
        "        if not puzzle_part:\n",
        "          s += '  n/a '\n",
        "          continue\n",
        "        if recompute:\n",
        "          puzzle_part.compute(puzzle.input, silent=True, repeat=repeat)\n",
        "        s += f'{puzzle_part.elapsed_time:#6.3f}'\n",
        "        total += puzzle_part.elapsed_time\n",
        "      print(s)\n",
        "    print(f'Total time:{total:#7.3f} s')\n",
        "\n",
        "\n",
        "advent = Advent(also_run_slow_tests=also_run_slow_tests)"
      ],
      "execution_count": 5,
      "outputs": []
    },
    {
      "cell_type": "markdown",
      "metadata": {
        "id": "BjAmIcq7zm2O"
      },
      "source": [
        "<a name=\"day1\"></a>\n",
        "## Day 1: Find summing numbers"
      ]
    },
    {
      "cell_type": "markdown",
      "metadata": {
        "id": "rqUsuqjsVE4g"
      },
      "source": [
        "- Part 1: Given a list of numbers, find two entries that sum to 2020 and multiply those entries together.\n",
        "\n",
        "- Part 2: Find three entries that sum to 2020 and multiply those entries together."
      ]
    },
    {
      "cell_type": "code",
      "metadata": {
        "id": "o-Ye0TCN-bUe",
        "colab": {
          "base_uri": "https://localhost:8080/"
        },
        "outputId": "7bd828a2-1896-4751-ca0b-82fa45931e48"
      },
      "source": [
        "puzzle = advent.puzzle(1)"
      ],
      "execution_count": 6,
      "outputs": [
        {
          "output_type": "stream",
          "text": [
            "For day 1, puzzle.input has 200 lines:\n",
            "1686\n",
            "1983\n",
            "1801\n",
            "1890\n",
            "1910\n",
            "1722\n",
            "1571\n",
            "1952\n",
            " ...\n",
            "1261\n",
            "1154\n",
            "1769\n",
            "1529\n",
            "And the stored answers are: {1: 651651, 2: 214486272}\n"
          ],
          "name": "stdout"
        }
      ]
    },
    {
      "cell_type": "code",
      "metadata": {
        "id": "S1D3RERUA72h"
      },
      "source": [
        "# A test input provided in the puzzle description:\n",
        "s1 = \"\"\"\n",
        "1721\n",
        "979\n",
        "366\n",
        "299\n",
        "675\n",
        "1456\n",
        "\"\"\""
      ],
      "execution_count": 7,
      "outputs": []
    },
    {
      "cell_type": "code",
      "metadata": {
        "colab": {
          "base_uri": "https://localhost:8080/"
        },
        "id": "eeU02C1oVPjW",
        "outputId": "7be221db-760e-432e-f5dd-a43773d3aa80"
      },
      "source": [
        "def process1(s, total=2020):\n",
        "  entries = set(map(int, s.split()))\n",
        "  for a in entries:\n",
        "    b = total - a\n",
        "    if b in entries:\n",
        "      return a * b\n",
        "  return None\n",
        " \n",
        " \n",
        "check_eq(process1(s1), 514579)  # reference answer provided in the description\n",
        "puzzle.verify(1, process1)"
      ],
      "execution_count": 8,
      "outputs": [
        {
          "output_type": "stream",
          "text": [
            "(Part 1: 0.001 s)\n"
          ],
          "name": "stdout"
        }
      ]
    },
    {
      "cell_type": "code",
      "metadata": {
        "id": "2CNF3uj6_P7c",
        "colab": {
          "base_uri": "https://localhost:8080/"
        },
        "outputId": "42ce8df8-6d08-40ce-96ca-f2a8f0c4c228"
      },
      "source": [
        "def process2(s, total=2020):\n",
        "  entries = set(map(int, s.split()))\n",
        "  for a in entries:\n",
        "    for b in entries:\n",
        "      c = total - a - b\n",
        "      if c in entries:\n",
        "        return a * b * c\n",
        "  return None\n",
        " \n",
        " \n",
        "check_eq(process2(s1), 241861950)\n",
        "puzzle.verify(2, process2)"
      ],
      "execution_count": 9,
      "outputs": [
        {
          "output_type": "stream",
          "text": [
            "(Part 2: 0.001 s)\n"
          ],
          "name": "stdout"
        }
      ]
    },
    {
      "cell_type": "markdown",
      "metadata": {
        "id": "RoUuAFCFAOXZ"
      },
      "source": [
        "<a name=\"day2\"></a>\n",
        "## Day 2: Valid passwords"
      ]
    },
    {
      "cell_type": "markdown",
      "metadata": {
        "id": "4g5RVk2fVn19"
      },
      "source": [
        "Given input lines each containing a password rule (`i-j c`) and a password, count the number of \"valid\" passwords such that:\n",
        "\n",
        "- Part 1: The number of instances of character `c` in the password is in the range `[i, j]`.\n",
        "\n",
        "- Part 2: The password characters at positions `i` and `j` contain exactly one instance of character `c`."
      ]
    },
    {
      "cell_type": "code",
      "metadata": {
        "id": "AXoT9cob5y51",
        "colab": {
          "base_uri": "https://localhost:8080/"
        },
        "outputId": "77aba5a4-b97c-4f07-af7b-66fc4ea27a48"
      },
      "source": [
        "puzzle = advent.puzzle(2)"
      ],
      "execution_count": 10,
      "outputs": [
        {
          "output_type": "stream",
          "text": [
            "For day 2, puzzle.input has 1000 lines:\n",
            "4-7 z: zzzfzlzzz\n",
            "3-4 l: blllk\n",
            "8-11 j: jjjjjjjgjjjj\n",
            "6-7 l: lllhlbl\n",
            "10-13 x: xmhfsbjxptxxv\n",
            "2-3 s: ssvxszrvj\n",
            "4-6 r: rtrrrqv\n",
            "5-6 c: cbccxc\n",
            " ...\n",
            "9-10 w: wwwwwwbwwhww\n",
            "5-6 g: kgggjg\n",
            "4-8 s: ssssssscs\n",
            "12-20 t: ttttttltttvttttttttt\n",
            "And the stored answers are: {1: 396, 2: 428}\n"
          ],
          "name": "stdout"
        }
      ]
    },
    {
      "cell_type": "code",
      "metadata": {
        "id": "PLqF8llY5ueK"
      },
      "source": [
        "s1 = \"\"\"\n",
        "1-3 a: abcde\n",
        "1-3 b: cdefg\n",
        "2-9 c: ccccccccc\n",
        "\"\"\""
      ],
      "execution_count": 11,
      "outputs": []
    },
    {
      "cell_type": "code",
      "metadata": {
        "colab": {
          "base_uri": "https://localhost:8080/"
        },
        "id": "WljooTaDXewx",
        "outputId": "2d2367a2-76be-440c-f346-ae116af39d10"
      },
      "source": [
        "def process1(s):\n",
        "  lines = s.strip('\\n').splitlines()\n",
        "  num_valid = 0\n",
        "  pattern = re.compile(r'(\\d+)-(\\d+) (\\w): (\\w+)')\n",
        "  for line in lines:\n",
        "    vmin, vmax, ch, password = pattern.fullmatch(line).groups()\n",
        "    vmin, vmax = int(vmin), int(vmax)\n",
        "    count = sum([c == ch for c in password])\n",
        "    num_valid += vmin <= count <= vmax\n",
        "  return num_valid\n",
        "\n",
        "\n",
        "check_eq(process1(s1), 2)\n",
        "puzzle.verify(1, process1)"
      ],
      "execution_count": 12,
      "outputs": [
        {
          "output_type": "stream",
          "text": [
            "(Part 1: 0.007 s)\n"
          ],
          "name": "stdout"
        }
      ]
    },
    {
      "cell_type": "code",
      "metadata": {
        "id": "wvDd-s4Y7tGr",
        "colab": {
          "base_uri": "https://localhost:8080/"
        },
        "outputId": "baba055c-7716-4683-c8b2-f6c329ddcf38"
      },
      "source": [
        "def process2(s):\n",
        "  lines = s.strip('\\n').splitlines()\n",
        "  num_valid = 0\n",
        "  pattern = re.compile(r'(\\d+)-(\\d+) (\\w): (\\w+)')\n",
        "  for line in lines:\n",
        "    vmin, vmax, ch, password = pattern.fullmatch(line).groups()\n",
        "    vmin, vmax = int(vmin), int(vmax)\n",
        "    valid = (password[vmin - 1] == ch) ^ (password[vmax - 1] == ch)\n",
        "    num_valid += valid\n",
        "  return num_valid\n",
        "\n",
        "\n",
        "check_eq(process2(s1), 1)\n",
        "puzzle.verify(2, process2)"
      ],
      "execution_count": 13,
      "outputs": [
        {
          "output_type": "stream",
          "text": [
            "(Part 2: 0.001 s)\n"
          ],
          "name": "stdout"
        }
      ]
    },
    {
      "cell_type": "markdown",
      "metadata": {
        "id": "vVXln2ontIH-"
      },
      "source": [
        "<a name=\"day3\"></a>\n",
        "## Day 3: Count intersections in grid"
      ]
    },
    {
      "cell_type": "markdown",
      "metadata": {
        "id": "-2-CRHJyXrMG"
      },
      "source": [
        "Given a 2D grid containing sparse \"trees\", determine the number of trees encountered when moving from the top-left to the bottom row with a slope `(dy, dx)` and using wraparound addressing on the horizontal axis.\n",
        "\n",
        "- Part 1: Count the trees for the slope `(dy, dx) = (1, 3)` \n",
        "\n",
        "- Part 2: Compute the product of the tree counts for slopes `(1, 1)`, `(1, 3)`, `(1, 5)`, `(1, 7)`, and `(2, 1)`."
      ]
    },
    {
      "cell_type": "code",
      "metadata": {
        "id": "fMDTiYgctJjI",
        "colab": {
          "base_uri": "https://localhost:8080/"
        },
        "outputId": "c98adb1f-8374-435a-ea03-6d4f72345ed6"
      },
      "source": [
        "puzzle = advent.puzzle(3)"
      ],
      "execution_count": 14,
      "outputs": [
        {
          "output_type": "stream",
          "text": [
            "For day 3, puzzle.input has 323 lines:\n",
            "........#.............#........\n",
            "...#....#...#....#.............\n",
            ".#..#...#............#.....#..#\n",
            "..#......#..##............###..\n",
            "..........#......#..#..#.......\n",
            ".#..#.......#.........#.#......\n",
            ".........#..#....##..#.##....#.\n",
            "..#....##...#..................\n",
            " ...\n",
            "..................#...#....#.##\n",
            "......#.#....#.................\n",
            "......#.#.....#.....#..##......\n",
            "#..##...........#..#.....#.##..\n",
            "And the stored answers are: {1: 148, 2: 727923200}\n"
          ],
          "name": "stdout"
        }
      ]
    },
    {
      "cell_type": "code",
      "metadata": {
        "id": "k8OD2FMiKrKI"
      },
      "source": [
        "s1 = \"\"\"\n",
        "..##.......\n",
        "#...#...#..\n",
        ".#....#..#.\n",
        "..#.#...#.#\n",
        ".#...##..#.\n",
        "..#.##.....\n",
        ".#.#.#....#\n",
        ".#........#\n",
        "#.##...#...\n",
        "#...##....#\n",
        ".#..#...#.#\n",
        "\"\"\""
      ],
      "execution_count": 15,
      "outputs": []
    },
    {
      "cell_type": "code",
      "metadata": {
        "colab": {
          "base_uri": "https://localhost:8080/"
        },
        "id": "MWBlwlbqlWde",
        "outputId": "0bdecfe4-639b-4e23-9c25-f65782ccacb3"
      },
      "source": [
        "# Slower code:\n",
        "def process(s, dyxs=((1, 3),)):\n",
        "  grid = np.array(list(map(list, s.strip('\\n').splitlines())))\n",
        "\n",
        "  def get_count(dy, dx):\n",
        "    y, x = (0, 0)\n",
        "    count = 0\n",
        "    while y < grid.shape[0]:\n",
        "      count += grid[y, x] == '#'\n",
        "      y, x = y + dy, (x + dx) % grid.shape[1]\n",
        "    return count\n",
        "  \n",
        "  return np.prod([get_count(dy, dx) for dy, dx in dyxs])\n",
        "\n",
        "\n",
        "check_eq(process(s1), 7)\n",
        "puzzle.verify(1, process)"
      ],
      "execution_count": 16,
      "outputs": [
        {
          "output_type": "stream",
          "text": [
            "(Part 1: 0.002 s)\n"
          ],
          "name": "stdout"
        }
      ]
    },
    {
      "cell_type": "code",
      "metadata": {
        "colab": {
          "base_uri": "https://localhost:8080/"
        },
        "id": "nWBVeWoklZ3a",
        "outputId": "e0edec97-9daa-4b77-ee49-39d6c715d28b"
      },
      "source": [
        "# Faster code:\n",
        "def process(s, dyxs=((1, 3),)):\n",
        "  grid = grid_from_string(s)\n",
        "\n",
        "  def get_count(dy, dx):\n",
        "    y = np.arange(0, grid.shape[0], dy)\n",
        "    x = (np.arange(len(y)) * dx) % grid.shape[1]\n",
        "    return np.count_nonzero(grid[y, x] == '#')\n",
        "  \n",
        "  return np.prod([get_count(dy, dx) for dy, dx in dyxs])\n",
        "\n",
        "\n",
        "check_eq(process(s1), 7)\n",
        "puzzle.verify(1, process)"
      ],
      "execution_count": 17,
      "outputs": [
        {
          "output_type": "stream",
          "text": [
            "(Part 1: 0.001 s)\n"
          ],
          "name": "stdout"
        }
      ]
    },
    {
      "cell_type": "code",
      "metadata": {
        "id": "-qme2hj5NJVE",
        "colab": {
          "base_uri": "https://localhost:8080/"
        },
        "outputId": "01e2c8ba-3d58-4268-b508-60231cb4750f"
      },
      "source": [
        "process2 = functools.partial(\n",
        "    process, dyxs=((1, 1), (1, 3), (1, 5), (1, 7), (2, 1)))\n",
        "\n",
        "check_eq(process2(s1), 336)\n",
        "puzzle.verify(2, process2)"
      ],
      "execution_count": 18,
      "outputs": [
        {
          "output_type": "stream",
          "text": [
            "(Part 2: 0.002 s)\n"
          ],
          "name": "stdout"
        }
      ]
    },
    {
      "cell_type": "markdown",
      "metadata": {
        "id": "QUstwnV9OQ73"
      },
      "source": [
        "<a name=\"day4\"></a>\n",
        "## Day 4: Valid text fields"
      ]
    },
    {
      "cell_type": "markdown",
      "metadata": {
        "id": "2rusVWFOZiyd"
      },
      "source": [
        "Given records containing various fields, count the number of valid records.\n",
        "\n",
        "- Part 1: Each record is valid if it contains at least some required fields.\n",
        "\n",
        "- Part 2: The fields also satisfy a set of requirements."
      ]
    },
    {
      "cell_type": "code",
      "metadata": {
        "id": "mNvquM2xYBxI",
        "colab": {
          "base_uri": "https://localhost:8080/"
        },
        "outputId": "1b67268b-a088-4980-af08-bbb3ad3efb9e"
      },
      "source": [
        "puzzle = advent.puzzle(4)"
      ],
      "execution_count": 19,
      "outputs": [
        {
          "output_type": "stream",
          "text": [
            "For day 4, puzzle.input has 1102 lines:\n",
            "hcl:5d90f0 cid:270 ecl:#66dc9c hgt:62cm byr:1945 pid:63201172 eyr:2026\n",
            "\n",
            "ecl:amb byr:1943 iyr:2014 eyr:2028\n",
            "pid:333051831\n",
            "\n",
            "byr:1971\n",
            "eyr:2021 iyr:2015 pid:158388040 hcl:#18171d ecl:brn hgt:179cm\n",
            "\n",
            " ...\n",
            "hcl:#7d3b0c pid:431742871\n",
            "ecl:hzl hgt:169cm cid:340\n",
            "eyr:2023\n",
            "iyr:2017 byr:1994\n",
            "And the stored answers are: {1: 216, 2: 150}\n"
          ],
          "name": "stdout"
        }
      ]
    },
    {
      "cell_type": "code",
      "metadata": {
        "id": "Zg5BJ9IbOSyY",
        "colab": {
          "base_uri": "https://localhost:8080/"
        },
        "cellView": "form",
        "outputId": "1163caa7-8436-4505-ddd0-34c351270500"
      },
      "source": [
        "#@title\n",
        "print('Let s1, s2, s3 be test inputs.')\n",
        "\n",
        "s1 = \"\"\"\n",
        "ecl:gry pid:860033327 eyr:2020 hcl:#fffffd\n",
        "byr:1937 iyr:2017 cid:147 hgt:183cm\n",
        "\n",
        "iyr:2013 ecl:amb cid:350 eyr:2023 pid:028048884\n",
        "hcl:#cfa07d byr:1929\n",
        "\n",
        "hcl:#ae17e1 iyr:2013\n",
        "eyr:2024\n",
        "ecl:brn pid:760753108 byr:1931\n",
        "hgt:179cm\n",
        "\n",
        "hcl:#cfa07d eyr:2025 pid:166559648\n",
        "iyr:2011 ecl:brn hgt:59in\n",
        "\"\"\"\n",
        "\n",
        "# all invalid\n",
        "s2 = \"\"\"\n",
        "eyr:1972 cid:100\n",
        "hcl:#18171d ecl:amb hgt:170 pid:186cm iyr:2018 byr:1926\n",
        "\n",
        "iyr:2019\n",
        "hcl:#602927 eyr:1967 hgt:170cm\n",
        "ecl:grn pid:012533040 byr:1946\n",
        "\n",
        "hcl:dab227 iyr:2012\n",
        "ecl:brn hgt:182cm pid:021572410 eyr:2020 byr:1992 cid:277\n",
        "\n",
        "hgt:59cm ecl:zzz\n",
        "eyr:2038 hcl:74454a iyr:2023\n",
        "pid:3556412378 byr:2007\n",
        "\"\"\"\n",
        "\n",
        "# all valid\n",
        "s3 = \"\"\"\n",
        "pid:087499704 hgt:74in ecl:grn iyr:2012 eyr:2030 byr:1980\n",
        "hcl:#623a2f\n",
        "\n",
        "eyr:2029 ecl:blu cid:129 byr:1989\n",
        "iyr:2014 pid:896056539 hcl:#a97842 hgt:165cm\n",
        "\n",
        "hcl:#888785\n",
        "hgt:164cm byr:2001 iyr:2015 cid:88\n",
        "pid:545766238 ecl:hzl\n",
        "eyr:2022\n",
        "\n",
        "iyr:2010 hgt:158cm hcl:#b6652a ecl:blu byr:1944 eyr:2021 pid:093154719\n",
        "\"\"\""
      ],
      "execution_count": 20,
      "outputs": [
        {
          "output_type": "stream",
          "text": [
            "Let s1, s2, s3 be test inputs.\n"
          ],
          "name": "stdout"
        }
      ]
    },
    {
      "cell_type": "code",
      "metadata": {
        "id": "nzSK3GjrYAMe",
        "colab": {
          "base_uri": "https://localhost:8080/"
        },
        "outputId": "49ecaee4-7598-4531-81b5-c2202a4c7ec4"
      },
      "source": [
        "def process1(s):\n",
        "  required_fields = set('byr iyr eyr hgt hcl ecl pid'.split())\n",
        "  passports = s.strip('\\n').split('\\n\\n')\n",
        "  num_valid = 0\n",
        "  for passport in passports:\n",
        "    passport = passport.replace('\\n', ' ')\n",
        "    is_valid = all(field + ':' in passport for field in required_fields)\n",
        "    num_valid += is_valid\n",
        "  return num_valid\n",
        "\n",
        "\n",
        "check_eq(process1(s1), 2)\n",
        "puzzle.verify(1, process1)"
      ],
      "execution_count": 21,
      "outputs": [
        {
          "output_type": "stream",
          "text": [
            "(Part 1: 0.001 s)\n"
          ],
          "name": "stdout"
        }
      ]
    },
    {
      "cell_type": "code",
      "metadata": {
        "id": "uZcmS_BxZa-Q"
      },
      "source": [
        "# Field requirements:\n",
        "# byr (Birth Year) - four digits; at least 1920 and at most 2002.\n",
        "# iyr (Issue Year) - four digits; at least 2010 and at most 2020.\n",
        "# eyr (Expiration Year) - four digits; at least 2020 and at most 2030.\n",
        "# hgt (Height) - a number followed by either cm or in:\n",
        "# If cm, the number must be at least 150 and at most 193.\n",
        "# If in, the number must be at least 59 and at most 76.\n",
        "# hcl (Hair Color) - a # followed by exactly six characters 0-9 or a-f.\n",
        "# ecl (Eye Color) - exactly one of: amb blu brn gry grn hzl oth.\n",
        "# pid (Passport ID) - a nine-digit number, including leading zeroes.\n",
        "# cid (Country ID) - ignored, missing or not."
      ],
      "execution_count": 22,
      "outputs": []
    },
    {
      "cell_type": "code",
      "metadata": {
        "id": "HtWW5K9kZdng",
        "colab": {
          "base_uri": "https://localhost:8080/"
        },
        "outputId": "37225375-e858-4043-be37-776c4d1cabc0"
      },
      "source": [
        "def process2(s):\n",
        "  passports = s.strip('\\n').split('\\n\\n')\n",
        "\n",
        "  def valid_fields(fields):\n",
        "    try:\n",
        "      value, unit = re.fullmatch(r'(\\d+)(cm|in)', fields['hgt']).groups()\n",
        "      year = lambda field: int(re.fullmatch(r'(\\d{4})', fields[field]).group())\n",
        "      return bool(\n",
        "          1920 <= year('byr') <= 2002 and\n",
        "          2010 <= year('iyr') <= 2020 and\n",
        "          2020 <= year('eyr') <= 2030 and\n",
        "          (unit != 'cm' or 150 <= int(value) <= 193) and\n",
        "          (unit != 'in' or 59 <= int(value) <= 76) and\n",
        "          re.fullmatch(r'#[0-9a-f]{6}', fields['hcl']) and\n",
        "          fields['ecl'] in 'amb blu brn gry grn hzl oth'.split() and\n",
        "          re.fullmatch(r'[0-9]{9}', fields['pid']))\n",
        "    except (AttributeError, KeyError):\n",
        "      return False\n",
        "\n",
        "  num_valid = 0\n",
        "  for passport in passports:\n",
        "    fields = dict(re.fullmatch(r'(\\w\\w\\w):(\\S+)', s_field).groups()\n",
        "                  for s_field in passport.split())\n",
        "    valid = valid_fields(fields)\n",
        "    num_valid += valid\n",
        "  return num_valid\n",
        "\n",
        "\n",
        "check_eq(process2(s2), 0)  # all records are invalid\n",
        "check_eq(process2(s3), 4)  # all records are valid\n",
        "puzzle.verify(2, process2)"
      ],
      "execution_count": 23,
      "outputs": [
        {
          "output_type": "stream",
          "text": [
            "(Part 2: 0.005 s)\n"
          ],
          "name": "stdout"
        }
      ]
    },
    {
      "cell_type": "markdown",
      "metadata": {
        "id": "hNJ1-j5mpY7H"
      },
      "source": [
        "<a name=\"day5\"></a>\n",
        "## Day 5: Free seat in grid"
      ]
    },
    {
      "cell_type": "markdown",
      "metadata": {
        "id": "vhGV1fP_cVGd"
      },
      "source": [
        "Given input lines, each specifiying a seat identified using a binary encoding with symbols **B**ack, **F**ront, **L**eft, **R**ight.\n",
        "\n",
        "- Part 1: Determine the maximum seat id.\n",
        "\n",
        "- Part 2: Determine the missing seat id in the middle of the bunch."
      ]
    },
    {
      "cell_type": "code",
      "metadata": {
        "id": "Biwl1Rvhpaxs",
        "colab": {
          "base_uri": "https://localhost:8080/"
        },
        "outputId": "a4efd819-b2d2-4a9b-d818-d53595d545c1"
      },
      "source": [
        "puzzle = advent.puzzle(5)"
      ],
      "execution_count": 24,
      "outputs": [
        {
          "output_type": "stream",
          "text": [
            "For day 5, puzzle.input has 897 lines:\n",
            "BFBBFFBRRL\n",
            "BFBFFFFRLL\n",
            "FBFBFFBRRR\n",
            "FFBBBFBRLL\n",
            "BBBFBFBRLR\n",
            "BFBBFBFLRR\n",
            "FBBBFFFRRL\n",
            "BBFFBFFLLL\n",
            " ...\n",
            "BBFBFBFRRL\n",
            "BFFBBBBLLL\n",
            "FBFFBFBRRR\n",
            "FBFFFFBRLR\n",
            "And the stored answers are: {1: 965, 2: 524}\n"
          ],
          "name": "stdout"
        }
      ]
    },
    {
      "cell_type": "code",
      "metadata": {
        "id": "gYaLc3PrhrO8",
        "colab": {
          "base_uri": "https://localhost:8080/"
        },
        "outputId": "02923c09-670b-45be-cd51-72676945c752"
      },
      "source": [
        "def get_seat_id(line):\n",
        "  return int(line.translate(str.maketrans('FBLR', '0101')), base=2)\n",
        "\n",
        "check_eq(get_seat_id('FBFBBFFRLR'), 357)\n",
        "check_eq(get_seat_id('BFFFBBFRRR'), 567)\n",
        "check_eq(get_seat_id('FFFBBBFRRR'), 119)\n",
        "check_eq(get_seat_id('BBFFBBFRLL'), 820)\n",
        "\n",
        "\n",
        "def process1(s):\n",
        "  return max(get_seat_id(line) for line in s.split())\n",
        "\n",
        "puzzle.verify(1, process1)"
      ],
      "execution_count": 25,
      "outputs": [
        {
          "output_type": "stream",
          "text": [
            "(Part 1: 0.002 s)\n"
          ],
          "name": "stdout"
        }
      ]
    },
    {
      "cell_type": "markdown",
      "metadata": {
        "id": "a-V6_zdZq7T6"
      },
      "source": [
        "Part 2"
      ]
    },
    {
      "cell_type": "code",
      "metadata": {
        "id": "GH12Oy6CphmX",
        "colab": {
          "base_uri": "https://localhost:8080/"
        },
        "outputId": "1e9767e8-c9bc-46fa-b04e-b73d94a9268e"
      },
      "source": [
        "# For helpful visualization:\n",
        "def visualize_transposed_seat_grid(s):\n",
        "  grid = np.full((128, 8), 0)\n",
        "  yx = np.array([divmod(get_seat_id(line), 8) for line in s.split()])\n",
        "  grid[tuple(yx.T)] = 1\n",
        "  print('\\n'.join(''.join('.#'[e] for e in row) for row in grid.T))\n",
        "\n",
        "visualize_transposed_seat_grid(puzzle.input)"
      ],
      "execution_count": 26,
      "outputs": [
        {
          "output_type": "stream",
          "text": [
            ".........################################################################################################################.......\n",
            ".........################################################################################################################.......\n",
            ".........################################################################################################################.......\n",
            ".........################################################################################################################.......\n",
            "........#########################################################.#######################################################.......\n",
            "........#################################################################################################################.......\n",
            "........################################################################################################################........\n",
            "........################################################################################################################........\n"
          ],
          "name": "stdout"
        }
      ]
    },
    {
      "cell_type": "code",
      "metadata": {
        "colab": {
          "base_uri": "https://localhost:8080/"
        },
        "id": "Zr8ROXu8dlUy",
        "outputId": "598e5a51-3759-483d-a566-7783a86d7d05"
      },
      "source": [
        "# Code using string indexing:\n",
        "\n",
        "def find_all(string, substring, overlapping=False):\n",
        "  i = string.find(substring)\n",
        "  while i != -1:\n",
        "    yield i\n",
        "    i = string.find(substring, i + (1 if overlapping else len(substring)))\n",
        "\n",
        "def process2(s):\n",
        "  seat_ids = [get_seat_id(line) for line in s.split()]\n",
        "  occupied = ''.join('01'[seat_id in seat_ids] for seat_id in range(128 * 8))\n",
        "  i, = list(find_all(occupied, '101'))\n",
        "  seat_id = i + 1\n",
        "  return seat_id\n",
        "\n",
        "puzzle.verify(2, process2)"
      ],
      "execution_count": 27,
      "outputs": [
        {
          "output_type": "stream",
          "text": [
            "(Part 2: 0.014 s)\n"
          ],
          "name": "stdout"
        }
      ]
    },
    {
      "cell_type": "code",
      "metadata": {
        "colab": {
          "base_uri": "https://localhost:8080/"
        },
        "id": "gfpJsSaAdmtZ",
        "outputId": "564810a9-77a8-48cf-8813-0afb9a9b3dd4"
      },
      "source": [
        "# Code using regular expression search:\n",
        "def process2(s):\n",
        "  seat_ids = [get_seat_id(line) for line in s.split()]\n",
        "  occupied = ''.join('01'[seat_id in seat_ids] for seat_id in range(128 * 8))\n",
        "  seat_id, = [match.start() for match in re.finditer('(?<=1)0(?=1)', occupied)]\n",
        "  return seat_id\n",
        "\n",
        "puzzle.verify(2, process2)"
      ],
      "execution_count": 28,
      "outputs": [
        {
          "output_type": "stream",
          "text": [
            "(Part 2: 0.011 s)\n"
          ],
          "name": "stdout"
        }
      ]
    },
    {
      "cell_type": "code",
      "metadata": {
        "colab": {
          "base_uri": "https://localhost:8080/"
        },
        "id": "DMoWj_yTdoB4",
        "outputId": "faf681eb-303d-4b92-afa0-45428b590f37"
      },
      "source": [
        "# Code using numpy successive differences of sorted indices (fast):\n",
        "def process2(s):\n",
        "  seat_ids = np.sort([get_seat_id(line) for line in s.split()])\n",
        "  diff = np.diff(seat_ids)\n",
        "  i, = np.nonzero(diff == 2)[0]\n",
        "  seat_id = seat_ids[i] + 1\n",
        "  return seat_id\n",
        "\n",
        "puzzle.verify(2, process2)"
      ],
      "execution_count": 29,
      "outputs": [
        {
          "output_type": "stream",
          "text": [
            "(Part 2: 0.002 s)\n"
          ],
          "name": "stdout"
        }
      ]
    },
    {
      "cell_type": "code",
      "metadata": {
        "colab": {
          "base_uri": "https://localhost:8080/"
        },
        "id": "r-MtYsaGdpTn",
        "outputId": "f7b94798-e9b1-4c42-b5b1-57aaf618cf66"
      },
      "source": [
        "# Code using numpy subsequence search (also fast):\n",
        "\n",
        "def matching_subsequences(array, sequence):\n",
        "  array, sequence = np.asarray(array), np.asarray(sequence)\n",
        "  return (array[np.arange(len(array) - len(sequence) + 1)[:, None] +\n",
        "          np.arange(len(sequence))] == sequence).all(axis=1)\n",
        "\n",
        "def process2(s):\n",
        "  seat_ids = [get_seat_id(line) for line in s.split()]\n",
        "  occupied = np.full(128 * 8, False)\n",
        "  occupied[seat_ids] = True\n",
        "  seat_id, = np.nonzero(matching_subsequences(occupied, (1, 0, 1)))[0] + 1\n",
        "  return seat_id\n",
        "\n",
        "puzzle.verify(2, process2)"
      ],
      "execution_count": 30,
      "outputs": [
        {
          "output_type": "stream",
          "text": [
            "(Part 2: 0.002 s)\n"
          ],
          "name": "stdout"
        }
      ]
    },
    {
      "cell_type": "markdown",
      "metadata": {
        "id": "RP8FssM4sDuZ"
      },
      "source": [
        "<a name=\"day6\"></a>\n",
        "## Day 6: Counts across groups"
      ]
    },
    {
      "cell_type": "markdown",
      "metadata": {
        "id": "74mhb17yem9h"
      },
      "source": [
        "Given a set of records of words:\n",
        "\n",
        "- Part 1: Compute the number of unique letters in each record, and sum these.\n",
        "\n",
        "- Part 2: Compute the number of letters appearing in all words of each record, and sum these."
      ]
    },
    {
      "cell_type": "code",
      "metadata": {
        "id": "YskNwkMDsGCB",
        "colab": {
          "base_uri": "https://localhost:8080/"
        },
        "outputId": "942c11c0-34e3-41b1-8d8b-c93844b1cd69"
      },
      "source": [
        "puzzle = advent.puzzle(6)"
      ],
      "execution_count": 31,
      "outputs": [
        {
          "output_type": "stream",
          "text": [
            "For day 6, puzzle.input has 2172 lines:\n",
            "su\n",
            "egu\n",
            "\n",
            "h\n",
            "h\n",
            "h\n",
            "h\n",
            "\n",
            " ...\n",
            "\n",
            "lfhtzrxcj\n",
            "fbtzlhrcj\n",
            "lzdaftrjphco\n",
            "And the stored answers are: {1: 6590, 2: 3288}\n"
          ],
          "name": "stdout"
        }
      ]
    },
    {
      "cell_type": "code",
      "metadata": {
        "id": "6mCkU9KpmGU1",
        "colab": {
          "base_uri": "https://localhost:8080/"
        },
        "cellView": "form",
        "outputId": "dd80b22f-d9c9-4bdb-9b0a-dc081fb1c8ee"
      },
      "source": [
        "#@title\n",
        "print('Let s1 be a test input.')\n",
        "\n",
        "s1 = \"\"\"\n",
        "abc\n",
        "\n",
        "a\n",
        "b\n",
        "c\n",
        "\n",
        "ab\n",
        "ac\n",
        "\n",
        "a\n",
        "a\n",
        "a\n",
        "a\n",
        "\n",
        "b\n",
        "\"\"\""
      ],
      "execution_count": 32,
      "outputs": [
        {
          "output_type": "stream",
          "text": [
            "Let s1 be a test input.\n"
          ],
          "name": "stdout"
        }
      ]
    },
    {
      "cell_type": "markdown",
      "metadata": {
        "id": "xgVfWlaahYQl"
      },
      "source": [
        "Part 1"
      ]
    },
    {
      "cell_type": "code",
      "metadata": {
        "colab": {
          "base_uri": "https://localhost:8080/"
        },
        "id": "shCaGdNVgCZ7",
        "outputId": "04a865ae-f722-4887-c2bb-0aaf7d88968b"
      },
      "source": [
        "# Long code:\n",
        "def process1(s):\n",
        "  total = 0\n",
        "  for group in s.strip('\\n').split('\\n\\n'):\n",
        "    union = set()\n",
        "    for line in group.splitlines():\n",
        "      union |= set(line)\n",
        "    total += len(union)\n",
        "  return total\n",
        "\n",
        "check_eq(process1(s1), 11)\n",
        "puzzle.verify(1, process1)"
      ],
      "execution_count": 33,
      "outputs": [
        {
          "output_type": "stream",
          "text": [
            "(Part 1: 0.003 s)\n"
          ],
          "name": "stdout"
        }
      ]
    },
    {
      "cell_type": "code",
      "metadata": {
        "colab": {
          "base_uri": "https://localhost:8080/"
        },
        "id": "wdmoLpGegHRo",
        "outputId": "8fc06afb-d9e1-44fe-c02e-41fad1c30d10"
      },
      "source": [
        "# Code using reduction:\n",
        "def process1(s):\n",
        "  return sum(\n",
        "      len(functools.reduce(operator.or_, map(set, group.splitlines())))\n",
        "      for group in s.strip('\\n').split('\\n\\n'))\n",
        "\n",
        "check_eq(process1(s1), 11)\n",
        "puzzle.verify(1, process1)"
      ],
      "execution_count": 34,
      "outputs": [
        {
          "output_type": "stream",
          "text": [
            "(Part 1: 0.005 s)\n"
          ],
          "name": "stdout"
        }
      ]
    },
    {
      "cell_type": "code",
      "metadata": {
        "colab": {
          "base_uri": "https://localhost:8080/"
        },
        "id": "hP_Q22YbgIcP",
        "outputId": "19e8a58e-7e22-4910-9bdc-937fff426f1c"
      },
      "source": [
        "# Compact code which is also fastest:\n",
        "def process1(s):\n",
        "  return sum(\n",
        "      len(set().union(group.replace('\\n', '')))\n",
        "      for group in s.strip('\\n').split('\\n\\n'))\n",
        "\n",
        "check_eq(process1(s1), 11)\n",
        "puzzle.verify(1, process1)"
      ],
      "execution_count": 35,
      "outputs": [
        {
          "output_type": "stream",
          "text": [
            "(Part 1: 0.001 s)\n"
          ],
          "name": "stdout"
        }
      ]
    },
    {
      "cell_type": "markdown",
      "metadata": {
        "id": "D-mMCiwqgrmk"
      },
      "source": [
        "Part 2"
      ]
    },
    {
      "cell_type": "code",
      "metadata": {
        "colab": {
          "base_uri": "https://localhost:8080/"
        },
        "id": "r9RGOmtdg9aM",
        "outputId": "1a9556e1-1990-42b6-8afb-ec0b71068fd0"
      },
      "source": [
        "# Code using reduction:\n",
        "def process2(s):\n",
        "  return sum(\n",
        "      len(functools.reduce(operator.and_, map(set, group.splitlines())))\n",
        "      for group in s.strip('\\n').split('\\n\\n'))\n",
        "\n",
        "check_eq(process2(s1), 6)\n",
        "puzzle.verify(2, process2)"
      ],
      "execution_count": 36,
      "outputs": [
        {
          "output_type": "stream",
          "text": [
            "(Part 2: 0.002 s)\n"
          ],
          "name": "stdout"
        }
      ]
    },
    {
      "cell_type": "code",
      "metadata": {
        "colab": {
          "base_uri": "https://localhost:8080/"
        },
        "id": "ezOQ4kGzg-YF",
        "outputId": "a76d9bbb-6768-4b0f-b256-d9ce3ae2e073"
      },
      "source": [
        "# Compact code which is faster:\n",
        "def process2(s):\n",
        "  return sum(\n",
        "      len(set.intersection(*map(set, group.splitlines())))\n",
        "      for group in s.strip('\\n').split('\\n\\n'))\n",
        "\n",
        "check_eq(process2(s1), 6)\n",
        "puzzle.verify(2, process2)"
      ],
      "execution_count": 37,
      "outputs": [
        {
          "output_type": "stream",
          "text": [
            "(Part 2: 0.002 s)\n"
          ],
          "name": "stdout"
        }
      ]
    },
    {
      "cell_type": "markdown",
      "metadata": {
        "id": "RWStaG-bqzmz"
      },
      "source": [
        "<a name=\"day7\"></a>\n",
        "## Day 7: Nested bags"
      ]
    },
    {
      "cell_type": "markdown",
      "metadata": {
        "id": "vz-zlIZjjkTs"
      },
      "source": [
        "Given a description of bag colors, where each colored bag contains a collection of other colored bags:\n",
        "\n",
        "- Part 1: Determine the number of bag colors that can eventually contain a specified bag color.\n",
        "\n",
        "- Part 2: Determine the total number of bags required inside a specified bag color."
      ]
    },
    {
      "cell_type": "code",
      "metadata": {
        "id": "-anp0Vouq24h",
        "colab": {
          "base_uri": "https://localhost:8080/"
        },
        "outputId": "97e38686-5e8f-466e-9ce6-b98e07511837"
      },
      "source": [
        "puzzle = advent.puzzle(7)"
      ],
      "execution_count": 38,
      "outputs": [
        {
          "output_type": "stream",
          "text": [
            "For day 7, puzzle.input has 594 lines:\n",
            "dim red bags contain 2 bright gold bags, 5 striped fuchsia bags.\n",
            "dotted purple bags contain 5 bright olive bags, 3 faded maroon bags.\n",
            "plaid chartreuse bags contain 1 vibrant olive bag, 5 bright black bags, 1 clear tomato bag.\n",
            "wavy orange bags contain 4 dark lavender bags, 4 posh white bags.\n",
            "light lavender bags contain 4 drab olive bags, 5 dark magenta bags.\n",
            "pale black bags contain 5 dotted beige bags, 5 clear chartreuse bags, 4 pale lime bags.\n",
            "wavy crimson bags contain 5 dull tomato bags.\n",
            "muted aqua bags contain 1 dotted aqua bag, 5 posh plum bags, 1 bright blue bag.\n",
            " ...\n",
            "vibrant lime bags contain 5 light green bags.\n",
            "dark maroon bags contain 5 drab bronze bags, 4 bright red bags, 1 posh cyan bag.\n",
            "wavy red bags contain 2 mirrored beige bags, 5 muted crimson bags, 5 vibrant orange bags, 3 posh turquoise bags.\n",
            "drab brown bags contain 1 faded tan bag, 3 vibrant maroon bags.\n",
            "And the stored answers are: {1: 115, 2: 1250}\n"
          ],
          "name": "stdout"
        }
      ]
    },
    {
      "cell_type": "code",
      "metadata": {
        "id": "UYevJT7hurXB",
        "colab": {
          "base_uri": "https://localhost:8080/"
        },
        "cellView": "form",
        "outputId": "6b3fe5a3-48f3-49e6-e1cf-6b0d066b56aa"
      },
      "source": [
        "#@title\n",
        "print('Let s1, s2 be test inputs.')\n",
        "\n",
        "s1 = \"\"\"\n",
        "light red bags contain 1 bright white bag, 2 muted yellow bags.\n",
        "dark orange bags contain 3 bright white bags, 4 muted yellow bags.\n",
        "bright white bags contain 1 shiny gold bag.\n",
        "muted yellow bags contain 2 shiny gold bags, 9 faded blue bags.\n",
        "shiny gold bags contain 1 dark olive bag, 2 vibrant plum bags.\n",
        "dark olive bags contain 3 faded blue bags, 4 dotted black bags.\n",
        "vibrant plum bags contain 5 faded blue bags, 6 dotted black bags.\n",
        "faded blue bags contain no other bags.\n",
        "dotted black bags contain no other bags.\n",
        "\"\"\"\n",
        "\n",
        "s2 = \"\"\"\n",
        "shiny gold bags contain 2 dark red bags.\n",
        "dark red bags contain 2 dark orange bags.\n",
        "dark orange bags contain 2 dark yellow bags.\n",
        "dark yellow bags contain 2 dark green bags.\n",
        "dark green bags contain 2 dark blue bags.\n",
        "dark blue bags contain 2 dark violet bags.\n",
        "dark violet bags contain no other bags.\n",
        "\"\"\""
      ],
      "execution_count": 39,
      "outputs": [
        {
          "output_type": "stream",
          "text": [
            "Let s1, s2 be test inputs.\n"
          ],
          "name": "stdout"
        }
      ]
    },
    {
      "cell_type": "code",
      "metadata": {
        "id": "DwuIhiIxjftU"
      },
      "source": [
        "def get_bag_contents(s):\n",
        "  contents = {}\n",
        "  pattern = re.compile(r'(\\d+) (.*?) bags?[,.]')\n",
        "  for line in s.strip('\\n').splitlines():\n",
        "    outer, inners = line.split(' bags contain ')\n",
        "    contents[outer] = {}\n",
        "    for match in pattern.finditer(inners):\n",
        "      n, inner = match.groups()\n",
        "      contents[outer][inner] = int(n)\n",
        "  return contents"
      ],
      "execution_count": 40,
      "outputs": []
    },
    {
      "cell_type": "code",
      "metadata": {
        "colab": {
          "base_uri": "https://localhost:8080/"
        },
        "id": "QzumeUvqknLs",
        "outputId": "1d8a2c08-d585-43f6-82db-c7c444fe9d09"
      },
      "source": [
        "# Compact code\n",
        "def process1(s, query='shiny gold'):\n",
        "  \"\"\"Returns number of bag colors that can eventually contain >=1 query bag.\"\"\"\n",
        "  contents = get_bag_contents(s)\n",
        "\n",
        "  def valid(bag):\n",
        "    return any(inner == query or valid(inner) for inner in contents[bag])\n",
        "\n",
        "  return sum(valid(bag) for bag in contents)\n",
        "\n",
        "check_eq(process1(s1), 4)\n",
        "puzzle.verify(1, process1)"
      ],
      "execution_count": 41,
      "outputs": [
        {
          "output_type": "stream",
          "text": [
            "(Part 1: 0.262 s)\n"
          ],
          "name": "stdout"
        }
      ]
    },
    {
      "cell_type": "code",
      "metadata": {
        "colab": {
          "base_uri": "https://localhost:8080/"
        },
        "id": "Fmz1hNcxkYCN",
        "outputId": "330c4523-0dce-4da5-a85e-f03e34127fb3"
      },
      "source": [
        "# Faster code\n",
        "def process1(s, query='shiny gold'):\n",
        "  contents = get_bag_contents(s)  # computational bottleneck\n",
        "  parents = collections.defaultdict(list)\n",
        "  for bag in contents:\n",
        "    for child in contents[bag]:\n",
        "      parents[child].append(bag)\n",
        "\n",
        "  valid = set()\n",
        "  to_visit = collections.deque([query])\n",
        "  while to_visit:\n",
        "    bag = to_visit.popleft()\n",
        "    for parent in parents[bag]:\n",
        "      if parent not in valid:\n",
        "        valid.add(parent)\n",
        "        to_visit.append(parent)\n",
        "\n",
        "  return len(valid)\n",
        "\n",
        "check_eq(process1(s1), 4)\n",
        "puzzle.verify(1, process1)"
      ],
      "execution_count": 42,
      "outputs": [
        {
          "output_type": "stream",
          "text": [
            "(Part 1: 0.003 s)\n"
          ],
          "name": "stdout"
        }
      ]
    },
    {
      "cell_type": "markdown",
      "metadata": {
        "id": "DGP7T8BZlKDj"
      },
      "source": [
        "Part 2"
      ]
    },
    {
      "cell_type": "code",
      "metadata": {
        "id": "4ArbIfdzq3Jg",
        "colab": {
          "base_uri": "https://localhost:8080/"
        },
        "outputId": "038332ad-a6d9-4b14-e54f-4e92318474dc"
      },
      "source": [
        "def process2(s, query='shiny gold'):\n",
        "  \"\"\"Returns total number of individual bags required inside a query bag.\"\"\"\n",
        "  contents = get_bag_contents(s)  # computational bottleneck\n",
        "\n",
        "  def count_inside(bag):\n",
        "    return sum(n * (count_inside(b) + 1) for b, n in contents[bag].items())\n",
        "\n",
        "  return count_inside(query)\n",
        "\n",
        "check_eq(process2(s1), 32)\n",
        "check_eq(process2(s2), 126)\n",
        "puzzle.verify(2, process2)"
      ],
      "execution_count": 43,
      "outputs": [
        {
          "output_type": "stream",
          "text": [
            "(Part 2: 0.005 s)\n"
          ],
          "name": "stdout"
        }
      ]
    },
    {
      "cell_type": "markdown",
      "metadata": {
        "id": "Q4Meyx1ABj8r"
      },
      "source": [
        "<a name=\"day8\"></a>\n",
        "## Day 8: Program with acc, nop, jmp"
      ]
    },
    {
      "cell_type": "markdown",
      "metadata": {
        "id": "57IX_n5ilo97"
      },
      "source": [
        "Given a program with instructions `nop`, `acc`, and `jmp`:\n",
        "\n",
        "- Part 1: Determine the sum of the `acc` operands when running the program until the program counter becomes invalid.\n",
        "\n",
        "- Part 2: Modify the program by swapping one of its opcodes between `nop` and `jmp` such that it terminates (with the program counter at the end), and report the sum of the `acc` operands."
      ]
    },
    {
      "cell_type": "code",
      "metadata": {
        "id": "PEIzMPu6BlZ-",
        "colab": {
          "base_uri": "https://localhost:8080/"
        },
        "outputId": "f87bd71d-80e1-455f-87b3-cd9fc916c9b5"
      },
      "source": [
        "puzzle = advent.puzzle(8)"
      ],
      "execution_count": 44,
      "outputs": [
        {
          "output_type": "stream",
          "text": [
            "For day 8, puzzle.input has 638 lines:\n",
            "acc +8\n",
            "acc +37\n",
            "jmp +328\n",
            "jmp +574\n",
            "nop +321\n",
            "acc +17\n",
            "jmp +450\n",
            "acc +46\n",
            " ...\n",
            "acc +6\n",
            "acc +21\n",
            "acc +16\n",
            "jmp +1\n",
            "And the stored answers are: {1: 1521, 2: 1016}\n"
          ],
          "name": "stdout"
        }
      ]
    },
    {
      "cell_type": "code",
      "metadata": {
        "id": "f8aZ49hRuC05"
      },
      "source": [
        "s1 = \"\"\"\n",
        "nop +0\n",
        "acc +1\n",
        "jmp +4\n",
        "acc +3\n",
        "jmp -3\n",
        "acc -99\n",
        "acc +1\n",
        "jmp -4\n",
        "acc +6\n",
        "\"\"\""
      ],
      "execution_count": 45,
      "outputs": []
    },
    {
      "cell_type": "code",
      "metadata": {
        "colab": {
          "base_uri": "https://localhost:8080/"
        },
        "id": "IydRSMt-Krrt",
        "outputId": "7fb94f25-92b4-4b70-a2fe-6c965ec7fe4c"
      },
      "source": [
        "def run_program(ops):\n",
        "  pc = 0\n",
        "  acc = 0\n",
        "  visited = set()\n",
        "  while 0 <= pc < len(ops) and pc not in visited:\n",
        "    visited.add(pc)\n",
        "    operation, operand = ops[pc]\n",
        "    if operation == 'nop':\n",
        "      pc += 1\n",
        "    elif operation == 'acc':\n",
        "      acc += operand\n",
        "      pc += 1\n",
        "    elif operation == 'jmp':\n",
        "      pc += operand\n",
        "    else:\n",
        "      raise AssertionError\n",
        "  return pc, acc\n",
        "\n",
        "\n",
        "def process1(s):\n",
        "  ops = [(line[:3], int(line[4:])) for line in s.strip('\\n').splitlines()]\n",
        "  pc, acc = run_program(ops)\n",
        "  assert 0 <= pc < len(ops)\n",
        "  return acc\n",
        "\n",
        "check_eq(process1(s1), 5)\n",
        "puzzle.verify(1, process1)"
      ],
      "execution_count": 46,
      "outputs": [
        {
          "output_type": "stream",
          "text": [
            "(Part 1: 0.000 s)\n"
          ],
          "name": "stdout"
        }
      ]
    },
    {
      "cell_type": "code",
      "metadata": {
        "colab": {
          "base_uri": "https://localhost:8080/"
        },
        "id": "q365Aq_iLMwx",
        "outputId": "1ad97188-ab73-4d19-c7b4-8651b356e928"
      },
      "source": [
        "def process2(s):\n",
        "  ops = [(line[:3], int(line[4:])) for line in s.strip('\\n').splitlines()]\n",
        "  for i in range(len(ops)):\n",
        "    if ops[i][0] in ('nop', 'jmp'):\n",
        "      original_op = ops[i]\n",
        "      ops[i] = (('jmp' if ops[i][0] == 'nop' else 'nop'), ops[i][1])\n",
        "      pc, acc = run_program(ops)\n",
        "      ops[i] = original_op\n",
        "      if pc == len(ops):\n",
        "        return acc\n",
        "  return None\n",
        "\n",
        "check_eq(process2(s1), 8)\n",
        "puzzle.verify(2, process2)"
      ],
      "execution_count": 47,
      "outputs": [
        {
          "output_type": "stream",
          "text": [
            "(Part 2: 0.014 s)\n"
          ],
          "name": "stdout"
        }
      ]
    },
    {
      "cell_type": "markdown",
      "metadata": {
        "id": "X1Sh_yQ27qLM"
      },
      "source": [
        "<a name=\"day9\"></a>\n",
        "## Day 9: Sums in subsequences"
      ]
    },
    {
      "cell_type": "markdown",
      "metadata": {
        "id": "XpUaSYj4nRab"
      },
      "source": [
        "Given a list of numbers:\n",
        "\n",
        "- Part 1: Find the first number that is not a sum of a pair of numbers in the prior `n` numbers.\n",
        "\n",
        "- Part 2: Find a subsequence of at least 2 numbers that sums to the value obtained in part 1, compute the min and max of the subsequence, and report their product."
      ]
    },
    {
      "cell_type": "code",
      "metadata": {
        "id": "PjOeqVhc7rpR",
        "colab": {
          "base_uri": "https://localhost:8080/"
        },
        "outputId": "e805f362-cf00-4a60-c3c6-83a840f50945"
      },
      "source": [
        "puzzle = advent.puzzle(9)"
      ],
      "execution_count": 48,
      "outputs": [
        {
          "output_type": "stream",
          "text": [
            "For day 9, puzzle.input has 1000 lines:\n",
            "19\n",
            "30\n",
            "13\n",
            "31\n",
            "42\n",
            "41\n",
            "44\n",
            "34\n",
            " ...\n",
            "30187342902183\n",
            "39869127705106\n",
            "31005328029673\n",
            "49124948203304\n",
            "And the stored answers are: {1: 393911906, 2: 59341885}\n"
          ],
          "name": "stdout"
        }
      ]
    },
    {
      "cell_type": "code",
      "metadata": {
        "id": "rLT07Jvq7twr",
        "colab": {
          "base_uri": "https://localhost:8080/"
        },
        "cellView": "form",
        "outputId": "03e9a405-3200-4631-ec6b-ee07ee3b1d90"
      },
      "source": [
        "#@title\n",
        "print('Let s1 be a test input.')\n",
        "\n",
        "s1 = \"\"\"\n",
        "35\n",
        "20\n",
        "15\n",
        "25\n",
        "47\n",
        "40\n",
        "62\n",
        "55\n",
        "65\n",
        "95\n",
        "102\n",
        "117\n",
        "150\n",
        "182\n",
        "127\n",
        "219\n",
        "299\n",
        "277\n",
        "309\n",
        "576\n",
        "\"\"\""
      ],
      "execution_count": 49,
      "outputs": [
        {
          "output_type": "stream",
          "text": [
            "Let s1 be a test input.\n"
          ],
          "name": "stdout"
        }
      ]
    },
    {
      "cell_type": "code",
      "metadata": {
        "id": "-jgheoftAPOd",
        "colab": {
          "base_uri": "https://localhost:8080/"
        },
        "outputId": "ba750c5a-609b-4071-a99b-0110c0439d5d"
      },
      "source": [
        "def process(s, last_n=25, part2=False):\n",
        "  l = list(map(int, s.split()))\n",
        "\n",
        "  def has_pair(l, total):\n",
        "    # return any(a + b == total for a, b in itertools.combinations(l, 2))\n",
        "    return any(total - l[i] in l[i + 1:] for i in range(len(l)))\n",
        "\n",
        "  def first_number_not_sum_of_pair_in_last_n(n):\n",
        "    return next(l[i] for i in range(n, len(l)) \n",
        "                if not has_pair(l[i - n:i], l[i]))\n",
        "\n",
        "  invalid_number = first_number_not_sum_of_pair_in_last_n(last_n)\n",
        "  if not part2:\n",
        "    return invalid_number\n",
        "\n",
        "  # Find a contiguous set of at least two numbers in your list which sum to the\n",
        "  # invalid number.  Approach: compute cumulative sum accum[i], then for each i\n",
        "  # do bisection search to try to locate l[i] + invalid_number.\n",
        "\n",
        "  def find_subsequence_summing_to(total):\n",
        "    accum = list(itertools.accumulate(l, operator.add))  # accum[i] = sum(l[:i])\n",
        "    for i in range(len(accum)):\n",
        "      end_value = accum[i] + total\n",
        "      j = bisect.bisect_left(accum, end_value)\n",
        "      if j != len(accum) and accum[j] == end_value:\n",
        "        return l[i + 1:j + 1]\n",
        "    return None\n",
        "\n",
        "  sequence = find_subsequence_summing_to(invalid_number)\n",
        "  assert sum(sequence) == invalid_number\n",
        "  return min(sequence) + max(sequence)\n",
        "\n",
        "\n",
        "check_eq(process(s1, last_n=5), 127)\n",
        "puzzle.verify(1, process)\n",
        "\n",
        "process2 = functools.partial(process, part2=True)\n",
        "check_eq(process2(s1, last_n=5), 62)\n",
        "puzzle.verify(2, process2)"
      ],
      "execution_count": 50,
      "outputs": [
        {
          "output_type": "stream",
          "text": [
            "(Part 1: 0.003 s)\n",
            "(Part 2: 0.004 s)\n"
          ],
          "name": "stdout"
        }
      ]
    },
    {
      "cell_type": "markdown",
      "metadata": {
        "id": "NPNtev-y-bVo"
      },
      "source": [
        "<a name=\"day10\"></a>\n",
        "## Day 10: Combinations of sequences"
      ]
    },
    {
      "cell_type": "markdown",
      "metadata": {
        "id": "yBGbSZH3o5GU"
      },
      "source": [
        "Given a set of numbers,\n",
        "\n",
        "- Part 1: Augment the numbers with the values `0` and `max + 3`, tally the successive differences of the sorted numbers, and report the product of the 1-differences and the 3-differences.\n",
        "\n",
        "- Part 2: Count the number of ways to monotonically traverse the numbers such that successive differences are at most 3."
      ]
    },
    {
      "cell_type": "code",
      "metadata": {
        "id": "YzM1ko8L-bVo",
        "colab": {
          "base_uri": "https://localhost:8080/"
        },
        "outputId": "74b7b2ba-14c5-46ce-a35c-d509a4ba869d"
      },
      "source": [
        "puzzle = advent.puzzle(10)"
      ],
      "execution_count": 51,
      "outputs": [
        {
          "output_type": "stream",
          "text": [
            "For day 10, puzzle.input has 97 lines:\n",
            "8\n",
            "131\n",
            "91\n",
            "35\n",
            "47\n",
            "116\n",
            "105\n",
            "121\n",
            " ...\n",
            "95\n",
            "3\n",
            "52\n",
            "49\n",
            "And the stored answers are: {1: 2112, 2: 3022415986688}\n"
          ],
          "name": "stdout"
        }
      ]
    },
    {
      "cell_type": "code",
      "metadata": {
        "id": "DFo_tRzl-bVo",
        "colab": {
          "base_uri": "https://localhost:8080/"
        },
        "cellView": "form",
        "outputId": "7483eae2-ccf3-40c9-8f31-04c0f1828044"
      },
      "source": [
        "#@title\n",
        "print('Let s1, s2 be test inputs.')\n",
        "\n",
        "s1 = \"\"\"\n",
        "16\n",
        "10\n",
        "15\n",
        "5\n",
        "1\n",
        "11\n",
        "7\n",
        "19\n",
        "6\n",
        "12\n",
        "4\n",
        "\"\"\"\n",
        "\n",
        "s2 = \"\"\"\n",
        "28\n",
        "33\n",
        "18\n",
        "42\n",
        "31\n",
        "14\n",
        "46\n",
        "20\n",
        "48\n",
        "47\n",
        "24\n",
        "23\n",
        "49\n",
        "45\n",
        "19\n",
        "38\n",
        "39\n",
        "11\n",
        "1\n",
        "32\n",
        "25\n",
        "35\n",
        "8\n",
        "17\n",
        "7\n",
        "9\n",
        "4\n",
        "2\n",
        "34\n",
        "10\n",
        "3\n",
        "\"\"\""
      ],
      "execution_count": 52,
      "outputs": [
        {
          "output_type": "stream",
          "text": [
            "Let s1, s2 be test inputs.\n"
          ],
          "name": "stdout"
        }
      ]
    },
    {
      "cell_type": "code",
      "metadata": {
        "colab": {
          "base_uri": "https://localhost:8080/"
        },
        "id": "MmP9fQv3pmY8",
        "outputId": "562c98ad-75d0-4204-acb2-f71f9292c123"
      },
      "source": [
        "def process1(s):\n",
        "  l = sorted(map(int, s.split()))\n",
        "  counter = collections.Counter(np.diff([0] + l + [l[-1] + 3]))\n",
        "  return counter[1] * counter[3]\n",
        "\n",
        "check_eq(process1(s1), 7 * 5)\n",
        "check_eq(process1(s2), 22 * 10)\n",
        "puzzle.verify(1, process1)  # 66 * 32"
      ],
      "execution_count": 53,
      "outputs": [
        {
          "output_type": "stream",
          "text": [
            "(Part 1: 0.000 s)\n"
          ],
          "name": "stdout"
        }
      ]
    },
    {
      "cell_type": "markdown",
      "metadata": {
        "id": "I1shyQIlp2Xt"
      },
      "source": [
        "Part 2"
      ]
    },
    {
      "cell_type": "code",
      "metadata": {
        "id": "sM7QhkBb-bVo",
        "colab": {
          "base_uri": "https://localhost:8080/"
        },
        "outputId": "3d1e9c76-4034-481a-ce51-a6aac315b827"
      },
      "source": [
        "# Observation: when there is a separation of 3 units, the problem decouples\n",
        "# into a product of the solutions of subproblems.\n",
        "\n",
        "# Because the voltages differences are just 1 or 3, we can simply count the\n",
        "# length of the sequences of value 1, and derive a closed-form number for each\n",
        "# sequence.\n",
        "\n",
        "def process2(s):\n",
        "  diff = np.diff([0] + sorted(map(int, s.split())))\n",
        "  lengths_of_ones = map(len, re.findall('1+', ''.join(map(str, diff))))\n",
        "\n",
        "  def f(n):\n",
        "    \"\"\"Number of combinations from a sequence of n consecutive one-diffs.\"\"\"\n",
        "    return 0 if n < 0 else 1 if n < 2 else f(n - 1) + f(n - 2) + f(n - 3)\n",
        "\n",
        "  return np.prod(list(map(f, lengths_of_ones)))\n",
        "\n",
        "check_eq(process2(s1), 8)\n",
        "check_eq(process2(s2), 19208)\n",
        "puzzle.verify(2, process2)"
      ],
      "execution_count": 54,
      "outputs": [
        {
          "output_type": "stream",
          "text": [
            "(Part 2: 0.000 s)\n"
          ],
          "name": "stdout"
        }
      ]
    },
    {
      "cell_type": "code",
      "metadata": {
        "id": "tJQIUkGFuig8",
        "colab": {
          "base_uri": "https://localhost:8080/"
        },
        "outputId": "140feb85-d653-4fa1-d5ae-388e2efb95fb"
      },
      "source": [
        "# More general solution based on dynamic programming with scatter.\n",
        "def process2(s):\n",
        "  l = [0] + sorted(map(int, s.split()))\n",
        "  npaths = [1] + [0] * (len(l) - 1)\n",
        "  for i in range(len(l)):\n",
        "    for j in range(i + 1, min(i + 4, len(l))):\n",
        "      if l[j] - l[i] <= 3:\n",
        "        npaths[j] += npaths[i]\n",
        "  return npaths[-1]\n",
        "\n",
        "check_eq(process2(s1), 8)\n",
        "check_eq(process2(s2), 19208)\n",
        "puzzle.verify(2, process2)"
      ],
      "execution_count": 55,
      "outputs": [
        {
          "output_type": "stream",
          "text": [
            "(Part 2: 0.000 s)\n"
          ],
          "name": "stdout"
        }
      ]
    },
    {
      "cell_type": "code",
      "metadata": {
        "id": "iurqdxeFukTM",
        "colab": {
          "base_uri": "https://localhost:8080/"
        },
        "outputId": "1d762d17-9838-42e2-f9b0-a9670df98869"
      },
      "source": [
        "# Simplest solution based on dynamic programming with gather.\n",
        "def process2(s):\n",
        "  l = [0] + sorted(map(int, s.split()))\n",
        "  npaths = [1]\n",
        "  for i in range(1, len(l)):\n",
        "    npaths.append(sum(npaths[j] for j in range(-4, 0)\n",
        "                      if i + j >= 0 and l[i] - l[i + j] < 4))\n",
        "  return npaths[-1]\n",
        "\n",
        "check_eq(process2(s1), 8)\n",
        "check_eq(process2(s2), 19208)\n",
        "puzzle.verify(2, process2)"
      ],
      "execution_count": 56,
      "outputs": [
        {
          "output_type": "stream",
          "text": [
            "(Part 2: 0.000 s)\n"
          ],
          "name": "stdout"
        }
      ]
    },
    {
      "cell_type": "markdown",
      "metadata": {
        "id": "RQzQ7A9H-bzv"
      },
      "source": [
        "<a name=\"day11\"></a>\n",
        "## Day 11: Seats cellular automaton"
      ]
    },
    {
      "cell_type": "markdown",
      "metadata": {
        "id": "COrOzLteqsLY"
      },
      "source": [
        "Given a *sparse* 2D grid of nodes, run successive generations of a cellular automaton until convergence.\n",
        "\n",
        "- Part 1: Each node's neighbors are the immediately adjacent nodes (up to 8, with Manhattan distance 1).\n",
        "  \n",
        "  For each generation:\n",
        "  - a free node becomes occupied if it has zero occupied neighbors, and\n",
        "  - an occupied node becomes free if it has 4 or more occupied neighbors.\n",
        "\n",
        "- Part 2: The evolution rule is modified in two ways:\n",
        "  - For each of the 8 neighbor directions, the neighbor is defined as the first node along that direction.\n",
        "  - An occupied node becomes free if it has 5 or more occupied neighbors."
      ]
    },
    {
      "cell_type": "code",
      "metadata": {
        "id": "Bg_kB1f1-bzv",
        "colab": {
          "base_uri": "https://localhost:8080/"
        },
        "outputId": "37240f77-7250-4107-cc58-24cc6b075e4f"
      },
      "source": [
        "puzzle = advent.puzzle(11)"
      ],
      "execution_count": 57,
      "outputs": [
        {
          "output_type": "stream",
          "text": [
            "For day 11, puzzle.input has 99 lines:\n",
            "LLLLLLLLLL.LLLLLL.LLLLLLLLLLLL.LL.LLLL.LLLLL.LLLLLLL.LLLLLL.LLLLLL.LLLLLL.LLLLLLLLLLLLLLLLLL\n",
            "LLLLLLLLLLLLLLLLLLLLLLLLLLLLLL.LLLLLLL.LLLLL.LLLLLLL.LLLLLLLLLLLLL.LLLL.L.LLLLLLLLLL.LLLLLLL\n",
            "LLLLLLLLLL.LLLLLL.LLLLLL.LLLLL.LLLLLLLLLLLLLLLLLLLLL.LLLLLL..LLLLL.LLLLLL.LLLLLL.LLLLLLLLLLL\n",
            "LLLLLLLLLL.LLLLLLLLLLLLL.LL.LL.LLLLL.L.LLLLL.LLLLLLL.LLLLLL.LLLLLLLLLLLLL.LLLLLLLLLLLLLLLLLL\n",
            "LLLLLLLLLLLLLLLLL.LLLLLL.LLLLLLLLLLLLLLLLLLL.LLLLLLL.LLL.LL.LLLLLL.LLLLLL.LLLLLLLLLLLLLLLLLL\n",
            "LLLLLLLLLLLLLLLLL.LLLLLL.LLLLL.LLLLLLL.LLL.L.LLLLLLLLLLLLLLLLLLLLLLLLLLLL.LLLLLL.LLLLLLLL.LL\n",
            "LLLLLLLLLLLLLLLLL.LLLLLLLLLL.LLLLLLLLL.LLLLL.LLLLLLL.LLLL.L.LLLLLLLLLLLLL.LLLLLLLLLLLLLLLLLL\n",
            ".L.LL...LLLL.......L....L.LLLLLL.......LL....LL...L..L.LLL...LLL..L.L.L.L..L...............L\n",
            " ...\n",
            "LLLLLLLLLL.LLLLLL.LLLLLL.LLLLL.LLLLL.L.LLLLLLLLLLLLL.LL.LLLLL.LLLL.LLLLLL.LLLLLLLLLL.LLLLLLL\n",
            "LLLLLLLLLLLLLLLLL.LLLLLL.LLLLL.LLLLLLL.LLLLL..LLLLLL.LLLLLL.LLLLLL.LLLLLL.LLLLLL.LLLLLLLLLLL\n",
            "LLLLLLLLLL.LLL.LLLLLLLLL.LLLLL.LLLLLLLLLLLL..LLLLLLL.LLLLL..LLLLLL.LLLLLL.LLLLLLLLLLLLLLLLLL\n",
            "LLLLLLLLLLLLLLLLL.LLLLLL.LLLLL.LLLLLLL.LLLLLLLLLLLLL.LLLLLL.LLLLLL.LL.LLLLLLLLLL.LLLLLLLLLLL\n",
            "And the stored answers are: {1: 2359, 2: 2131}\n"
          ],
          "name": "stdout"
        }
      ]
    },
    {
      "cell_type": "code",
      "metadata": {
        "id": "g45k4woQ-bzv"
      },
      "source": [
        "s1 = \"\"\"\n",
        "L.LL.LL.LL\n",
        "LLLLLLL.LL\n",
        "L.L.L..L..\n",
        "LLLL.LL.LL\n",
        "L.LL.LL.LL\n",
        "L.LLLLL.LL\n",
        "..L.L.....\n",
        "LLLLLLLLLL\n",
        "L.LLLLLL.L\n",
        "L.LLLLL.LL\n",
        "\"\"\""
      ],
      "execution_count": 58,
      "outputs": []
    },
    {
      "cell_type": "code",
      "metadata": {
        "id": "SGQVf-0Gzqsh",
        "colab": {
          "base_uri": "https://localhost:8080/",
          "height": 43
        },
        "outputId": "c5988c7c-f2b9-4419-9aac-d0e05ded7ea4"
      },
      "source": [
        "# Relatively fast non-numba solution, which maintains neighbor counts.\n",
        "# It becomes faster with numba enabled, but not as fast as the next solution.\n",
        "\n",
        "def process(s, part2=False, output_video=False):\n",
        "  # -1 is EMPTY, 0..8 is FREE+neighbor_count, 10..18 is OCCUPIED+neighbor_count\n",
        "  int_from_ch = {'.': -1, 'L': 0, '#': 10}\n",
        "  grid = grid_from_string(s, int_from_ch)\n",
        "  # Surprisingly, the default array dtype (here, np.int64) is the fastest.\n",
        "  shape = grid.shape\n",
        "  NEIGHBORS = tuple(set(itertools.product((-1, 0, 1), repeat=2)) - {(0, 0)})\n",
        "\n",
        "  def evolve(grid):\n",
        "\n",
        "    def impact_neighbor_counts(y0, x0, delta):\n",
        "      for dy, dx in NEIGHBORS:\n",
        "        y, x = y0 + dy, x0 + dx\n",
        "        while 0 <= y < shape[0] and 0 <= x < shape[1]:\n",
        "          if not part2 or grid[y, x] >= 0:\n",
        "            if grid[y, x] >= 0:\n",
        "              grid[y, x] += delta\n",
        "            break\n",
        "          y, x = y + dy, x + dx\n",
        "\n",
        "    # print('num_occupied', np.count_nonzero(grid >= 10))\n",
        "    prev = grid.copy()\n",
        "    for y in range(shape[0]):\n",
        "      for x in range(shape[1]):\n",
        "        if prev[y, x] == 0:  # FREE with zero occupied neighbors\n",
        "          grid[y, x] += 10\n",
        "          impact_neighbor_counts(y, x, +1)\n",
        "        elif prev[y, x] >= (15 if part2 else 14):  # OCCUPIED, >= 5 or 4 neighb\n",
        "          grid[y, x] -= 10\n",
        "          impact_neighbor_counts(y, x, -1)\n",
        "    return np.any(grid != prev)\n",
        "\n",
        "  images = []\n",
        "  while evolve(grid):\n",
        "    images.append(grid >= 10)\n",
        "\n",
        "  if media.video_is_available():\n",
        "    media.show_video(images, height=images[0].shape[0] * 2, codec='gif', fps=10)\n",
        "\n",
        "  return np.count_nonzero(grid >= 10)\n",
        "\n",
        "\n",
        "check_eq(process(s1), 37)"
      ],
      "execution_count": 59,
      "outputs": [
        {
          "output_type": "display_data",
          "data": {
            "text/html": [
              "<table style=\"border-spacing:0;\"><tr><td><img width=\"20\" height=\"20\" style=\"image-rendering:pixelated; object-fit:cover;\" src=\"data:image/gif;base64,R0lGODlhCgAKAPcfAAAAAAAAVQAAqgAA/wAkAAAkVQAkqgAk/wBIAABIVQBIqgBI/wBsAABsVQBsqgBs/wCQAACQVQCQqgCQ/wC0AAC0VQC0qgC0/wDYAADYVQDYqgDY/wD8AAD8VQD8qgD8/yQAACQAVSQAqiQA/yQkACQkVSQkqiQk/yRIACRIVSRIqiRI/yRsACRsVSRsqiRs/ySQACSQVSSQqiSQ/yS0ACS0VSS0qiS0/yTYACTYVSTYqiTY/yT8ACT8VST8qiT8/0gAAEgAVUgAqkgA/0gkAEgkVUgkqkgk/0hIAEhIVUhIqkhI/0hsAEhsVUhsqkhs/0iQAEiQVUiQqkiQ/0i0AEi0VUi0qki0/0jYAEjYVUjYqkjY/0j8AEj8VUj8qkj8/2wAAGwAVWwAqmwA/2wkAGwkVWwkqmwk/2xIAGxIVWxIqmxI/2xsAGxsVWxsqmxs/2yQAGyQVWyQqmyQ/2y0AGy0VWy0qmy0/2zYAGzYVWzYqmzY/2z8AGz8VWz8qmz8/5AAAJAAVZAAqpAA/5AkAJAkVZAkqpAk/5BIAJBIVZBIqpBI/5BsAJBsVZBsqpBs/5CQAJCQVZCQqpCQ/5C0AJC0VZC0qpC0/5DYAJDYVZDYqpDY/5D8AJD8VZD8qpD8/7QAALQAVbQAqrQA/7QkALQkVbQkqrQk/7RIALRIVbRIqrRI/7RsALRsVbRsqrRs/7SQALSQVbSQqrSQ/7S0ALS0VbS0qrS0/7TYALTYVbTYqrTY/7T8ALT8VbT8qrT8/9gAANgAVdgAqtgA/9gkANgkVdgkqtgk/9hIANhIVdhIqthI/9hsANhsVdhsqths/9iQANiQVdiQqtiQ/9i0ANi0Vdi0qti0/9jYANjYVdjYqtjY/9j8ANj8Vdj8qtj8//wAAPwAVfwAqvwA//wkAPwkVfwkqvwk//xIAPxIVfxIqvxI//xsAPxsVfxsqvxs//yQAPyQVfyQqvyQ//y0APy0Vfy0qvy0//zYAPzYVfzYqvzY//z8APz8Vfz8qvz8/yH/C05FVFNDQVBFMi4wAwEAAAAh+QQECgAfACwAAAAACgAKAAAIKAD/AfgnkOBAgggRHiw4EEDDhQUjRjy4EOLEhgIdOkzI0WBHihwPBgQAIfkEBQoAAQAsAAAAAAoACgAACCkAAwQAAGCgwIMEExZcaLCgQYEJBzKEuLAiRYIHET7MqFAhwo4bPQoMCAAh+QQFCgABACwCAAAABgAKAAAIHgD//QtAMIDAgQQHIjxoUCHChAILKpR4MGLDhwwDAgAh+QQFCgABACwCAAAABQAKAAAIGgADAAhAEMDAggILHhS40CDBhA0NHpT4cGBAACH5BAUKAAEALAIAAgAEAAYAAAgQAP8FGPhPYACDBwcqXFgwIAA7\"/></td></tr></table>"
            ],
            "text/plain": [
              "<IPython.core.display.HTML object>"
            ]
          },
          "metadata": {
            "tags": []
          }
        }
      ]
    },
    {
      "cell_type": "code",
      "metadata": {
        "id": "uVPCHfeRrxvS",
        "colab": {
          "base_uri": "https://localhost:8080/",
          "height": 459
        },
        "outputId": "805d26eb-0270-42eb-d7ca-2673eff25306"
      },
      "source": [
        "if show_all_videos and media.video_is_available():\n",
        "  process(puzzle.input, output_video=True)\n",
        "  process(puzzle.input, part2=True, output_video=True)"
      ],
      "execution_count": 60,
      "outputs": [
        {
          "output_type": "stream",
          "text": [
            "VideoWriter: padding odd frame dimensions from (99, 92) to (100, 92).\n"
          ],
          "name": "stderr"
        },
        {
          "output_type": "display_data",
          "data": {
            "text/html": [
              "<table style=\"border-spacing:0;\"><tr><td><img width=\"184\" height=\"198\" style=\"image-rendering:pixelated; object-fit:cover;\" src=\"data:image/gif;base64,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\"/></td></tr></table>"
            ],
            "text/plain": [
              "<IPython.core.display.HTML object>"
            ]
          },
          "metadata": {
            "tags": []
          }
        },
        {
          "output_type": "stream",
          "text": [
            "VideoWriter: padding odd frame dimensions from (99, 92) to (100, 92).\n"
          ],
          "name": "stderr"
        },
        {
          "output_type": "display_data",
          "data": {
            "text/html": [
              "<table style=\"border-spacing:0;\"><tr><td><img width=\"184\" height=\"198\" style=\"image-rendering:pixelated; object-fit:cover;\" src=\"data:image/gif;base64,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\"/></td></tr></table>"
            ],
            "text/plain": [
              "<IPython.core.display.HTML object>"
            ]
          },
          "metadata": {
            "tags": []
          }
        }
      ]
    },
    {
      "cell_type": "code",
      "metadata": {
        "id": "hYP1pVw6ymUy",
        "colab": {
          "base_uri": "https://localhost:8080/"
        },
        "outputId": "d5e23c86-1587-45fe-8715-e66e8b19dcdb"
      },
      "source": [
        "# More naive solution but which is faster when using numba.\n",
        "\n",
        "if using_numba:\n",
        "\n",
        "  def process(s, part2=False):\n",
        "    int_from_ch = {'.': 0, 'L': 1, '#': 2}\n",
        "    grid = grid_from_string(s, int_from_ch)\n",
        "    neighbors = tuple(set(itertools.product((-1, 0, 1), repeat=2)) - {(0, 0)})\n",
        "\n",
        "    @numba_njit(cache=True, parallel=True)\n",
        "    def evolve(grid, neighbors, part2):\n",
        "      EMPTY, FREE, OCCUPIED = 0, 1, 2\n",
        "      shape = grid.shape\n",
        "\n",
        "      def count_occupied_neighbors(grid, y0, x0, only_adjacent):\n",
        "        count = 0\n",
        "        for dy, dx in neighbors:\n",
        "          y, x = y0 + dy, x0 + dx\n",
        "          while 0 <= y < shape[0] and 0 <= x < shape[1]:\n",
        "            if grid[y, x] != EMPTY or only_adjacent:\n",
        "              count += grid[y, x] == OCCUPIED\n",
        "              break\n",
        "            y, x = y + dy, x + dx\n",
        "        return count\n",
        "\n",
        "      while True:\n",
        "        # print('num_occupied', np.count_nonzero(grid == 2))\n",
        "        prev = grid.copy()\n",
        "        for y in range(shape[0]):\n",
        "          for x in range(shape[1]):\n",
        "            num_occupied = count_occupied_neighbors(prev, y, x, not part2)\n",
        "            if prev[y, x] == FREE and num_occupied == 0:\n",
        "              grid[y, x] = OCCUPIED\n",
        "            elif prev[y, x] == OCCUPIED and num_occupied >= (5 if part2 else 4):\n",
        "              grid[y, x] = FREE\n",
        "        if np.all(grid == prev):\n",
        "          break\n",
        "\n",
        "      return np.count_nonzero(grid == OCCUPIED)\n",
        "\n",
        "    return evolve(grid, neighbors, part2)\n",
        "\n",
        "  check_eq(process(s1), 37)"
      ],
      "execution_count": 61,
      "outputs": [
        {
          "output_type": "stream",
          "text": [
            "/usr/local/lib/python3.7/dist-packages/numba/np/ufunc/parallel.py:363: NumbaWarning: The TBB threading layer requires TBB version 2019.5 or later i.e., TBB_INTERFACE_VERSION >= 11005. Found TBB_INTERFACE_VERSION = 9107. The TBB threading layer is disabled.\n",
            "  warnings.warn(problem)\n"
          ],
          "name": "stderr"
        }
      ]
    },
    {
      "cell_type": "code",
      "metadata": {
        "id": "AmEeTciQVDDQ",
        "colab": {
          "base_uri": "https://localhost:8080/"
        },
        "outputId": "9bbd40e5-d1ca-4d35-991b-6bab8ff718ff"
      },
      "source": [
        "# ~2 s for non-numba solution; ~0.05 s for numba solution\n",
        "puzzle.verify(1, process)"
      ],
      "execution_count": 62,
      "outputs": [
        {
          "output_type": "stream",
          "text": [
            "(Part 1: 0.061 s)\n"
          ],
          "name": "stdout"
        }
      ]
    },
    {
      "cell_type": "code",
      "metadata": {
        "id": "LXxQ33skZsX1",
        "colab": {
          "base_uri": "https://localhost:8080/"
        },
        "outputId": "a5148f17-e51f-4d20-b452-8d0f31fa95c5"
      },
      "source": [
        "process2 = functools.partial(process, part2=True)\n",
        "check_eq(process2(s1), 26)\n",
        "\n",
        "# ~5 s for non-numba solution; ~0.05 s for numba solution\n",
        "puzzle.verify(2, process2)"
      ],
      "execution_count": 63,
      "outputs": [
        {
          "output_type": "stream",
          "text": [
            "(Part 2: 0.053 s)\n"
          ],
          "name": "stdout"
        }
      ]
    },
    {
      "cell_type": "markdown",
      "metadata": {
        "id": "c8pMKkP_-cCX"
      },
      "source": [
        "<a name=\"day12\"></a>\n",
        "## Day 12: Ship and waypoint navigation"
      ]
    },
    {
      "cell_type": "markdown",
      "metadata": {
        "id": "dSWqYoVvv1yv"
      },
      "source": [
        "Given a list of instructions (a translation direction `N|S|E|W` and magnitude, a rotation `L|R` and angle (positive multiple of 90 degrees), or a forward directive `F` and value), update a ship's position and orientation in a 2D domain.\n",
        "\n",
        "- Part 1: The translation, rotation, and forward instructions directly modify the ship's state.  After applying all instructions, report the Manhattan distance of the ship's position from its start.\n",
        "\n",
        "- Part 2: The translation and rotation instructions modify a vector waypoint (initially 10 units east and 1 unit north of ship) relative to the ship position.  The forward instruction translates the ship position by the vector waypoint times the forward value.  Again report the final Manhattan distance of the ship from its start."
      ]
    },
    {
      "cell_type": "code",
      "metadata": {
        "id": "H_APDCbQ-cCX",
        "colab": {
          "base_uri": "https://localhost:8080/"
        },
        "outputId": "0bea051b-5c57-4d93-c054-777908fd352e"
      },
      "source": [
        "puzzle = advent.puzzle(12)"
      ],
      "execution_count": 64,
      "outputs": [
        {
          "output_type": "stream",
          "text": [
            "For day 12, puzzle.input has 773 lines:\n",
            "W5\n",
            "F63\n",
            "S1\n",
            "L90\n",
            "F89\n",
            "W4\n",
            "F45\n",
            "W4\n",
            " ...\n",
            "L90\n",
            "F94\n",
            "L90\n",
            "F13\n",
            "And the stored answers are: {1: 1221, 2: 59435}\n"
          ],
          "name": "stdout"
        }
      ]
    },
    {
      "cell_type": "code",
      "metadata": {
        "id": "O56VlIAv-cCX"
      },
      "source": [
        "s1 = \"\"\"\n",
        "F10\n",
        "N3\n",
        "F7\n",
        "R90\n",
        "F11\n",
        "\"\"\""
      ],
      "execution_count": 65,
      "outputs": []
    },
    {
      "cell_type": "code",
      "metadata": {
        "id": "IDRi_D9_dck3",
        "colab": {
          "base_uri": "https://localhost:8080/"
        },
        "outputId": "bc8a0aa1-e00d-410f-c6dc-12a34531a8ff"
      },
      "source": [
        "def process1(s):\n",
        "  y, x = 0, 0\n",
        "  dy, dx = 0, 1  # east\n",
        " \n",
        "  for instruction in s.split():\n",
        "    action, value = instruction[:1], int(instruction[1:])\n",
        "    if action == 'N':\n",
        "      y -= value\n",
        "    elif action == 'S':\n",
        "      y += value\n",
        "    elif action == 'E':\n",
        "      x += value\n",
        "    elif action == 'W':\n",
        "      x -= value\n",
        "    elif action == 'L':\n",
        "      while value:\n",
        "        dy, dx = -dx, +dy\n",
        "        value -= 90\n",
        "    elif action == 'R':\n",
        "      while value:\n",
        "        dy, dx = +dx, -dy\n",
        "        value -= 90\n",
        "    elif action == 'F':\n",
        "      y, x = y + dy * value, x + dx * value\n",
        "  return abs(y) + abs(x)\n",
        " \n",
        " \n",
        "check_eq(process1(s1), 25)\n",
        "puzzle.verify(1, process1)"
      ],
      "execution_count": 66,
      "outputs": [
        {
          "output_type": "stream",
          "text": [
            "(Part 1: 0.001 s)\n"
          ],
          "name": "stdout"
        }
      ]
    },
    {
      "cell_type": "code",
      "metadata": {
        "id": "Yb-NG3la-cCX",
        "colab": {
          "base_uri": "https://localhost:8080/"
        },
        "outputId": "d63659ef-d66d-4a8b-c3b6-45a62bc2f15d"
      },
      "source": [
        "def process2(s):\n",
        "  ship_y, ship_x = 0, 0\n",
        "  # waypoint is relative to the ship\n",
        "  waypoint_y, waypoint_x = -1, 10  # 10 units east and 1 unit north of ship\n",
        " \n",
        "  for instruction in s.split():\n",
        "    action, value = instruction[:1], int(instruction[1:])\n",
        "    if action == 'N':\n",
        "      waypoint_y -= value\n",
        "    elif action == 'S':\n",
        "      waypoint_y += value\n",
        "    elif action == 'E':\n",
        "      waypoint_x += value\n",
        "    elif action == 'W':\n",
        "      waypoint_x -= value\n",
        "    elif action == 'L':\n",
        "      while value:\n",
        "        waypoint_y, waypoint_x = -waypoint_x, +waypoint_y\n",
        "        value -= 90\n",
        "    elif action == 'R':\n",
        "      while value:\n",
        "        waypoint_y, waypoint_x = +waypoint_x, -waypoint_y\n",
        "        value -= 90\n",
        "    elif action == 'F':\n",
        "      ship_y += waypoint_y * value\n",
        "      ship_x += waypoint_x * value\n",
        "  return abs(ship_y) + abs(ship_x)\n",
        " \n",
        " \n",
        "check_eq(process2(s1), 286)\n",
        "puzzle.verify(2, process2)"
      ],
      "execution_count": 67,
      "outputs": [
        {
          "output_type": "stream",
          "text": [
            "(Part 2: 0.000 s)\n"
          ],
          "name": "stdout"
        }
      ]
    },
    {
      "cell_type": "markdown",
      "metadata": {
        "id": "-HvKXDFB-cQn"
      },
      "source": [
        "<a name=\"day13\"></a>\n",
        "## Day 13: Buses modulo schedule"
      ]
    },
    {
      "cell_type": "markdown",
      "metadata": {
        "id": "09sjifmfzSNN"
      },
      "source": [
        "Given a sequence of buses with different departure periods, all starting at time 0, with some buses out-of-service, find some earliest time satisfying a condition.\n",
        "\n",
        "- Part 1: Given also an earliest time, find the first bus that departs on or after that time.  Report the wait time multiplied by the bus period.\n",
        "\n",
        "- Part 2: Find the earliest time such that the first bus in the sequence departs at that time and each subsequent listed bus departs at the subsequent time if the bus is in service."
      ]
    },
    {
      "cell_type": "code",
      "metadata": {
        "id": "FBdUu1Hp-cQn",
        "colab": {
          "base_uri": "https://localhost:8080/"
        },
        "outputId": "d43c1a3e-bf38-44db-e2a4-f5d81f400978"
      },
      "source": [
        "puzzle = advent.puzzle(13)"
      ],
      "execution_count": 68,
      "outputs": [
        {
          "output_type": "stream",
          "text": [
            "For day 13, puzzle.input has 2 lines:\n",
            "1000299\n",
            "41,x,x,x,x,x,x,x,x,x,x,x,x,x,x,x,x,x,x,x,x,x,x,x,x,x,x,x,x,x,x,x,x,x,x,37,x,x,x, ... ,x,x,x,x,x,x,x,x,x,x,x,x,x,x,x,x,19\n",
            "And the stored answers are: {1: 156, 2: 404517869995362}\n"
          ],
          "name": "stdout"
        }
      ]
    },
    {
      "cell_type": "code",
      "metadata": {
        "id": "WRqYtN1B-cQn"
      },
      "source": [
        "s1 = \"\"\"\n",
        "939\n",
        "7,13,x,x,59,x,31,19\n",
        "\"\"\""
      ],
      "execution_count": 69,
      "outputs": []
    },
    {
      "cell_type": "code",
      "metadata": {
        "id": "c71ttBaQmrQa",
        "colab": {
          "base_uri": "https://localhost:8080/"
        },
        "outputId": "129d4a07-d8fe-46ef-f900-691d54fd78ff"
      },
      "source": [
        "def ceil_of_ratio(a: int, b: int) -> int:\n",
        "  \"\"\"Returns the ceiling of the ratio a / b, where b must be positive.\"\"\"\n",
        "  assert b > 0\n",
        "  return (a + b - 1) // b\n",
        "\n",
        "\n",
        "def process1(s):\n",
        "  lines = s.strip('\\n').splitlines()\n",
        "  earliest_time = int(lines[0])\n",
        "  buses = [int(e) for e in lines[1].split(',') if e != 'x']\n",
        "  next_times = [ceil_of_ratio(earliest_time, bus) * bus for bus in buses]\n",
        "  min_time, min_bus = min(zip(next_times, buses))\n",
        "  return (min_time - earliest_time) * min_bus\n",
        "\n",
        "\n",
        "check_eq(process1(s1), 295)\n",
        "puzzle.verify(1, process1)"
      ],
      "execution_count": 70,
      "outputs": [
        {
          "output_type": "stream",
          "text": [
            "(Part 1: 0.000 s)\n"
          ],
          "name": "stdout"
        }
      ]
    },
    {
      "cell_type": "markdown",
      "metadata": {
        "id": "jhovcZWiHzy1"
      },
      "source": [
        "Part 2"
      ]
    },
    {
      "cell_type": "code",
      "metadata": {
        "id": "TlX1RY4QH2fF"
      },
      "source": [
        "def extended_gcd(a: int, b: int) -> Tuple[int, int, int]:\n",
        "  \"\"\"Finds the greatest common divisor using the extended Euclidean algorithm.\n",
        "\n",
        "  Returns:\n",
        "    (gcd(a, b), x, y) with the property that a * x + b * y = gcd(a, b).\n",
        "\n",
        "  >>> extended_gcd(29, 71)\n",
        "  (1, -22, 9)\n",
        "  >>> (29 * -22) % 71\n",
        "  1\n",
        "  \"\"\"\n",
        "  prev_x, x = 1, 0\n",
        "  prev_y, y = 0, 1\n",
        "  while b:\n",
        "    q = a // b\n",
        "    x, prev_x = prev_x - q * x, x\n",
        "    y, prev_y = prev_y - q * y, y\n",
        "    a, b = b, a % b\n",
        "  x, y = prev_x, prev_y\n",
        "  return a, x, y"
      ],
      "execution_count": 71,
      "outputs": []
    },
    {
      "cell_type": "code",
      "metadata": {
        "id": "Pld6pnB36hUI"
      },
      "source": [
        "# Let each bus be represented by its period b_i and desired remainder r_i.\n",
        "\n",
        "# Given [(b_i, r_i)], where b_i are coprime, we seek x such that\n",
        "#  x % b_i = r_i  for all i,  where r_i = -i % b_i\n",
        "# We can work by reduction, merging pairs of buses.\n",
        "\n",
        "# Given a pair of buses (b1, r1) and (b2, r2),\n",
        "# we want to find a new equivalent bus (b1 * b2, r) such that\n",
        "#  0 <= r < b1 * b2\n",
        "#  r % b1 = r1\n",
        "#  r % b2 = r2\n",
        "# We can apply the Chinese remainder theorem using the extended GCD algorithm."
      ],
      "execution_count": 72,
      "outputs": []
    },
    {
      "cell_type": "code",
      "metadata": {
        "id": "DRfWcZ7--cQn",
        "colab": {
          "base_uri": "https://localhost:8080/"
        },
        "outputId": "0965739c-9c6e-4ab4-a25e-f41d13798c0c"
      },
      "source": [
        "def process2(s):\n",
        "  s = s.strip('\\n').splitlines()[-1]\n",
        "  buses = [int(e) for e in s.replace('x', '1').split(',')]\n",
        "  check_eq(np.lcm.reduce(buses), np.prod(buses))  # verify all coprime\n",
        "  bus_remainders = [(bus, -i % bus) for i, bus in enumerate(buses) if bus > 1]\n",
        "\n",
        "  def merge_buses(bus1, bus2):\n",
        "    (b1, r1), (b2, r2) = bus1, bus2\n",
        "    # https://en.wikipedia.org/wiki/Chinese_remainder_theorem\n",
        "    _, x, y = extended_gcd(b1, b2)\n",
        "    return b1 * b2, (r1 * y * b2 + r2 * x * b1) % (b1 * b2)\n",
        "\n",
        "  _, r = functools.reduce(merge_buses, bus_remainders)\n",
        "  return r\n",
        "\n",
        "\n",
        "check_eq(process2(s1.strip('\\n').splitlines()[1]), 1068781)\n",
        "check_eq(process2('17,x,13,19'), 3417)\n",
        "check_eq(process2('67,7,59,61'), 754018)\n",
        "check_eq(process2('67,x,7,59,61'), 779210)\n",
        "check_eq(process2('67,7,x,59,61'), 1261476)\n",
        "check_eq(process2('1789,37,47,1889'), 1202161486)\n",
        "puzzle.verify(2, process2)"
      ],
      "execution_count": 73,
      "outputs": [
        {
          "output_type": "stream",
          "text": [
            "(Part 2: 0.000 s)\n"
          ],
          "name": "stdout"
        }
      ]
    },
    {
      "cell_type": "markdown",
      "metadata": {
        "id": "lUkb6kzu-cfU"
      },
      "source": [
        "<a name=\"day14\"></a>\n",
        "## Day 14: Write masked values to mem"
      ]
    },
    {
      "cell_type": "markdown",
      "metadata": {
        "id": "0Tqy8_ThJoFM"
      },
      "source": [
        "Process a sequence of instructions, each specifying either a bitmask (where each location contains `0`, `1`, or `X`) or the writing of a value to a memory address, and report the sum of the resulting memory contents.\n",
        "\n",
        "- Part 1: The bitmask is applied to the value written to memory, such that `0` and `1` replace the corresponding bit in the value and `X` leaves it unchanged.\n",
        "\n",
        "- Part 2: The bitmask is applied to the address used to write the value to memory, such that `1` replaces the corresponding bit in the address and `X` indicates a wildcard.  The value is written to all memory addresses satisfying the wildcard."
      ]
    },
    {
      "cell_type": "code",
      "metadata": {
        "id": "iyX9MORD-cfU",
        "colab": {
          "base_uri": "https://localhost:8080/"
        },
        "outputId": "7cf4a58e-3f66-4e87-8c6f-9b06242994a9"
      },
      "source": [
        "puzzle = advent.puzzle(14)"
      ],
      "execution_count": 74,
      "outputs": [
        {
          "output_type": "stream",
          "text": [
            "For day 14, puzzle.input has 570 lines:\n",
            "mask = 0111X10100100X1111X10010X000X1000001\n",
            "mem[50907] = 468673978\n",
            "mem[22295] = 3337449\n",
            "mem[58474] = 56418393\n",
            "mem[15362] = 243184\n",
            "mem[65089] = 110688658\n",
            "mask = 010X010XX110X01X01X10X001001011X110X\n",
            "mem[21952] = 950257\n",
            " ...\n",
            "mem[13666] = 52961\n",
            "mem[7377] = 134144120\n",
            "mem[58224] = 211536\n",
            "mem[36878] = 173058887\n",
            "And the stored answers are: {1: 9628746976360, 2: 4574598714592}\n"
          ],
          "name": "stdout"
        }
      ]
    },
    {
      "cell_type": "code",
      "metadata": {
        "id": "AGItl2WT-cfU"
      },
      "source": [
        "s1 = \"\"\"\n",
        "mask = XXXXXXXXXXXXXXXXXXXXXXXXXXXXX1XXXX0X\n",
        "mem[8] = 11\n",
        "mem[7] = 101\n",
        "mem[8] = 0\n",
        "\"\"\""
      ],
      "execution_count": 75,
      "outputs": []
    },
    {
      "cell_type": "code",
      "metadata": {
        "colab": {
          "base_uri": "https://localhost:8080/"
        },
        "id": "6SLyBm6NMJnS",
        "outputId": "34ce1bec-e328-43fe-c374-bad21eca02d6"
      },
      "source": [
        "def process1(s):\n",
        "  mem = {}\n",
        "  extract_0 = str.maketrans('01X', '100')\n",
        "  extract_1 = str.maketrans('01X', '010')\n",
        "  for line in s.strip('\\n').splitlines():\n",
        "    if line.startswith('mask'):\n",
        "      mask = line.split(' = ')[1]\n",
        "      mask_force_0 = int(mask.translate(extract_0), base=2)\n",
        "      mask_force_1 = int(mask.translate(extract_1), base=2)\n",
        "    else:\n",
        "      address, value = map(\n",
        "          int, re.fullmatch(r'mem\\[(\\d+)\\] = (\\d+)', line).groups())\n",
        "      mem[address] = (value | mask_force_1) & ~mask_force_0\n",
        "  return sum(mem.values())\n",
        "\n",
        "\n",
        "check_eq(process1(s1), 165)\n",
        "puzzle.verify(1, process1)"
      ],
      "execution_count": 76,
      "outputs": [
        {
          "output_type": "stream",
          "text": [
            "(Part 1: 0.002 s)\n"
          ],
          "name": "stdout"
        }
      ]
    },
    {
      "cell_type": "markdown",
      "metadata": {
        "id": "gQDZ8LIzObqf"
      },
      "source": [
        "Part 2"
      ]
    },
    {
      "cell_type": "code",
      "metadata": {
        "id": "qX8Tq_mX9T0S"
      },
      "source": [
        "s2 = \"\"\"\n",
        "mask = 000000000000000000000000000000X1001X\n",
        "mem[42] = 100\n",
        "mask = 00000000000000000000000000000000X0XX\n",
        "mem[26] = 1\n",
        "\"\"\""
      ],
      "execution_count": 77,
      "outputs": []
    },
    {
      "cell_type": "code",
      "metadata": {
        "colab": {
          "base_uri": "https://localhost:8080/"
        },
        "id": "XdxCnr891yOj",
        "outputId": "fc8a6228-8b02-4c43-82a6-b82f085487e2"
      },
      "source": [
        "def process2(s):\n",
        "  mem = {}\n",
        "  extract_1 = str.maketrans('01X', '010')\n",
        "  extract_x = str.maketrans('01X', '001')\n",
        "  for line in s.strip('\\n').splitlines():\n",
        "    if line.startswith('mask'):\n",
        "      mask = line.split(' = ')[1]\n",
        "      mask_force_1 = int(mask.translate(extract_1), base=2)\n",
        "      mask_not_x = ~int(mask.translate(extract_x), base=2)\n",
        "      offsets = [0]\n",
        "      for wildcard in (1 << i for i in range(36) if mask[35 - i] == 'X'):\n",
        "        offsets += [offset + wildcard for offset in offsets]\n",
        "    else:\n",
        "      address, value = map(\n",
        "          int, re.fullmatch(r'mem\\[(\\d+)\\] = (\\d+)', line).groups())\n",
        "      address = (address & mask_not_x) | mask_force_1\n",
        "      for offset in offsets:\n",
        "        mem[address + offset] = value\n",
        "  return sum(mem.values())\n",
        "\n",
        "\n",
        "check_eq(process2(s2), 208)\n",
        "puzzle.verify(2, process2)"
      ],
      "execution_count": 78,
      "outputs": [
        {
          "output_type": "stream",
          "text": [
            "(Part 2: 0.039 s)\n"
          ],
          "name": "stdout"
        }
      ]
    },
    {
      "cell_type": "markdown",
      "metadata": {
        "id": "0gjk1fsn-cvQ"
      },
      "source": [
        "<a name=\"day15\"></a>\n",
        "## Day 15: Rounds of spoken numbers"
      ]
    },
    {
      "cell_type": "markdown",
      "metadata": {
        "id": "QIsZ5G3POltD"
      },
      "source": [
        "Given an initial sequence of numbers indexed starting at `1`, continue the sequence as follows.\n",
        "\n",
        "The number at index `i` is either\n",
        "  * `0` if the numer at index `i - 1` was not previously seen, or\n",
        "  * `i - 1 - j` if the number at index `i - 1` was previously seen at index `j`.\n",
        "\n",
        "- Part 1: Report the number at index `2020`.\n",
        "\n",
        "- Part 2: Report the number at index `30_000_000`."
      ]
    },
    {
      "cell_type": "code",
      "metadata": {
        "id": "anebyn3p-cvQ",
        "colab": {
          "base_uri": "https://localhost:8080/"
        },
        "outputId": "8216ae66-6c64-4458-957f-3a695a1e4cdf"
      },
      "source": [
        "puzzle = advent.puzzle(15)"
      ],
      "execution_count": 79,
      "outputs": [
        {
          "output_type": "stream",
          "text": [
            "For day 15, puzzle.input has 1 lines:\n",
            "9,12,1,4,17,0,18\n",
            "And the stored answers are: {1: 610, 2: 1407}\n"
          ],
          "name": "stdout"
        }
      ]
    },
    {
      "cell_type": "code",
      "metadata": {
        "id": "iDVIoKKZ-cvQ"
      },
      "source": [
        "s1 = '0,3,6'"
      ],
      "execution_count": 80,
      "outputs": []
    },
    {
      "cell_type": "code",
      "metadata": {
        "colab": {
          "base_uri": "https://localhost:8080/"
        },
        "id": "3N4q_xR-6_VC",
        "outputId": "db16ab56-0eed-4760-86ab-44e076f94bb8"
      },
      "source": [
        "# Code that does not use numba:\n",
        "\n",
        "def generate_sequence(initial_sequence):\n",
        "  last_turn = {}\n",
        "  for turn, number in enumerate(initial_sequence):\n",
        "    prev_turn = last_turn.get(number, -1)\n",
        "    last_turn[number] = turn\n",
        "    yield number\n",
        "\n",
        "  for turn in itertools.count(len(initial_sequence)):\n",
        "    number = 0 if prev_turn < 0 else turn - 1 - prev_turn\n",
        "    prev_turn = last_turn.get(number, -1)\n",
        "    last_turn[number] = turn\n",
        "    yield number\n",
        "\n",
        "\n",
        "def process(s, num_turns=2020):\n",
        "  initial_sequence = tuple(map(int, s.split(',')))\n",
        "  return next(itertools.islice(generate_sequence(\n",
        "      initial_sequence), num_turns - 1, None))\n",
        "\n",
        "\n",
        "check_eq(process(s1, num_turns=10), 0)\n",
        "check_eq(process(s1), 436)\n",
        "check_eq(process('1,3,2'), 1)\n",
        "check_eq(process('2,1,3'), 10)\n",
        "check_eq(process('1,2,3'), 27)\n",
        "check_eq(process('2,3,1'), 78)\n",
        "check_eq(process('3,2,1'), 438)\n",
        "check_eq(process('3,1,2'), 1836)\n",
        "puzzle.verify(1, process)"
      ],
      "execution_count": 81,
      "outputs": [
        {
          "output_type": "stream",
          "text": [
            "(Part 1: 0.000 s)\n"
          ],
          "name": "stdout"
        }
      ]
    },
    {
      "cell_type": "code",
      "metadata": {
        "id": "h7CITw5KAG-f"
      },
      "source": [
        "if 0:  # The output looks chaotic, without any obvious pattern.\n",
        "  pprint.pprint(list(itertools.islice(generate_sequence(s1.split(',')), 1000)),\n",
        "                width=150, compact=True)"
      ],
      "execution_count": 82,
      "outputs": []
    },
    {
      "cell_type": "markdown",
      "metadata": {
        "id": "sHM5k0wftD-F"
      },
      "source": [
        "Part 2"
      ]
    },
    {
      "cell_type": "code",
      "metadata": {
        "colab": {
          "base_uri": "https://localhost:8080/"
        },
        "id": "bMc2h-CKR5Ix",
        "outputId": "bea3dcad-5e28-4965-cd5d-ac01b546ba2f"
      },
      "source": [
        "# Code which is faster but only if numba is enabled:\n",
        "if using_numba:\n",
        "  def process(s, num_turns=2020):\n",
        "\n",
        "    @numba_njit(cache=True)\n",
        "    def func(initial_sequence, num_turns):\n",
        "      last_turn = np.full(num_turns, -1, dtype=np.int32)\n",
        "      for turn in range(min(num_turns, len(initial_sequence))):\n",
        "        number = initial_sequence[turn]\n",
        "        prev_turn = last_turn[number]\n",
        "        last_turn[number] = turn\n",
        "\n",
        "      for turn in range(len(initial_sequence), num_turns):\n",
        "        number = 0 if prev_turn < 0 else turn - 1 - prev_turn\n",
        "        prev_turn = last_turn[number]\n",
        "        last_turn[number] = turn\n",
        "\n",
        "      return number\n",
        "\n",
        "    initial_sequence = np.array(tuple(map(int, s.split(','))), dtype=np.int32)\n",
        "    return func(initial_sequence, num_turns)\n",
        "\n",
        "process2 = functools.partial(process, num_turns=30_000_000)\n",
        "\n",
        "if using_numba:\n",
        "  check_eq(process2(s1), 175594)\n",
        "  if 0:\n",
        "    check_eq(process2('1,3,2'), 2578)\n",
        "    check_eq(process2('2,1,3'), 3544142)\n",
        "    check_eq(process2('1,2,3'), 261214)\n",
        "    check_eq(process2('2,3,1'), 6895259)\n",
        "    check_eq(process2('3,2,1'), 18)\n",
        "    check_eq(process2('3,1,2'), 362)\n",
        "\n",
        "# ~1 s with numba, ~20 s for non-numba version\n",
        "puzzle.verify(2, process2)"
      ],
      "execution_count": 83,
      "outputs": [
        {
          "output_type": "stream",
          "text": [
            "(Part 2: 1.329 s)\n"
          ],
          "name": "stdout"
        }
      ]
    },
    {
      "cell_type": "markdown",
      "metadata": {
        "id": "_eebxbTj-c67"
      },
      "source": [
        "<a name=\"day16\"></a>\n",
        "## Day 16: Match ticket fields and rules"
      ]
    },
    {
      "cell_type": "markdown",
      "metadata": {
        "id": "wFnxm7dzXOie"
      },
      "source": [
        "Given (1) a set of fields with names and rules on possible value ranges, (2) my ticket with unlabled fields, and (3) a set of other tickets with unlabeled fields:\n",
        "\n",
        "- Part 1: Report the number of invalid other tickets, which are those containing a field value that does not satisfy any field rule.\n",
        "\n",
        "- Part 2: Considering the valid other tickets, determine a labeling of the ticket fields that is compatible with the rules.  Report the product of the 6 field values on my ticket whose names start with `departure`."
      ]
    },
    {
      "cell_type": "code",
      "metadata": {
        "id": "LkGzSL1N-c67",
        "colab": {
          "base_uri": "https://localhost:8080/"
        },
        "outputId": "fd3a3080-ca93-4762-f70b-92386b2b91a6"
      },
      "source": [
        "puzzle = advent.puzzle(16)"
      ],
      "execution_count": 84,
      "outputs": [
        {
          "output_type": "stream",
          "text": [
            "For day 16, puzzle.input has 268 lines:\n",
            "departure location: 33-679 or 691-971\n",
            "departure station: 48-646 or 671-966\n",
            "departure platform: 37-601 or 619-950\n",
            "departure track: 41-863 or 875-973\n",
            "departure date: 37-145 or 168-965\n",
            "departure time: 26-246 or 257-972\n",
            "arrival location: 30-542 or 556-960\n",
            "arrival station: 30-75 or 89-954\n",
            " ...\n",
            "845,453,939,349,884,940,0,621,933,188,73,204,440,918,207,671,629,735,487,627\n",
            "879,694,125,501,580,274,451,885,834,397,146,104,185,173,528,717,590,412,350,936\n",
            "944,91,450,631,262,501,196,401,199,946,105,236,634,765,66,385,582,437,262,581\n",
            "924,594,156,702,128,858,133,695,140,486,399,534,115,627,748,560,518,700,883,206\n",
            "And the stored answers are: {1: 29878, 2: 855438643439}\n"
          ],
          "name": "stdout"
        }
      ]
    },
    {
      "cell_type": "code",
      "metadata": {
        "id": "YNVRZNVO-c67",
        "colab": {
          "base_uri": "https://localhost:8080/"
        },
        "cellView": "form",
        "outputId": "873f186b-f7e9-45f3-d457-f95939cc85cf"
      },
      "source": [
        "#@title\n",
        "print('Let s1, s2 be test inputs.')\n",
        "\n",
        "s1 = \"\"\"\n",
        "class: 1-3 or 5-7\n",
        "row: 6-11 or 33-44\n",
        "seat: 13-40 or 45-50\n",
        "\n",
        "your ticket:\n",
        "7,1,14\n",
        "\n",
        "nearby tickets:\n",
        "7,3,47\n",
        "40,4,50\n",
        "55,2,20\n",
        "38,6,12\n",
        "\"\"\"\n",
        "\n",
        "s2 = \"\"\"\n",
        "class: 0-1 or 4-19\n",
        "row: 0-5 or 8-19\n",
        "seat: 0-13 or 16-19\n",
        "\n",
        "your ticket:\n",
        "11,12,13\n",
        "\n",
        "nearby tickets:\n",
        "3,9,18\n",
        "15,1,5\n",
        "5,14,9\n",
        "\"\"\""
      ],
      "execution_count": 85,
      "outputs": [
        {
          "output_type": "stream",
          "text": [
            "Let s1, s2 be test inputs.\n"
          ],
          "name": "stdout"
        }
      ]
    },
    {
      "cell_type": "code",
      "metadata": {
        "colab": {
          "base_uri": "https://localhost:8080/"
        },
        "id": "hXhE0vOCOKZN",
        "outputId": "2c8eafc4-7494-43bf-a75c-782813358942"
      },
      "source": [
        "def read_rules_and_tickets(s):\n",
        "  s_rules, s_my_ticket, s_nearby = s.strip('\\n').split('\\n\\n')\n",
        "\n",
        "  def read_rules():\n",
        "    for line in s_rules.splitlines():\n",
        "      name, ranges = line.split(': ')\n",
        "      ranges = ranges.split(' or ')\n",
        "      yield (name, [tuple(map(int, range.split('-'))) for range in ranges])\n",
        "\n",
        "  line, = s_my_ticket.splitlines()[1:]\n",
        "  my_ticket = list(map(int, line.split(',')))\n",
        "\n",
        "  def read_tickets():\n",
        "    for line in s_nearby.splitlines()[1:]:\n",
        "      fields = list(map(int, line.split(',')))\n",
        "      yield fields\n",
        "\n",
        "  return read_rules, my_ticket, read_tickets\n",
        "\n",
        "\n",
        "def value_ok_for_some_rule(value, rules):\n",
        "  return any(range[0] <= value <= range[1] \n",
        "             for ranges in rules.values() for range in ranges)\n",
        "\n",
        "\n",
        "def process1(s):\n",
        "  read_rules, unused_my_ticket, read_tickets = read_rules_and_tickets(s)\n",
        "  rules = dict(read_rules())\n",
        "  sum_invalid_values = 0\n",
        "  for fields in read_tickets():\n",
        "    for value in fields:\n",
        "      if not value_ok_for_some_rule(value, rules):\n",
        "        sum_invalid_values += value\n",
        "  return sum_invalid_values\n",
        "\n",
        "\n",
        "check_eq(process1(s1), 71)\n",
        "puzzle.verify(1, process1)"
      ],
      "execution_count": 86,
      "outputs": [
        {
          "output_type": "stream",
          "text": [
            "(Part 1: 0.007 s)\n"
          ],
          "name": "stdout"
        }
      ]
    },
    {
      "cell_type": "markdown",
      "metadata": {
        "id": "2Rw06E2hYJ2a"
      },
      "source": [
        "Part 2"
      ]
    },
    {
      "cell_type": "code",
      "metadata": {
        "id": "6KwUNK8O6WN-",
        "colab": {
          "base_uri": "https://localhost:8080/"
        },
        "outputId": "ad7533f6-be91-427f-8648-d4f7cb293788"
      },
      "source": [
        "def process2(s):\n",
        "  read_rules, my_ticket, read_tickets = read_rules_and_tickets(s)\n",
        "  rules = dict(read_rules())\n",
        "  valid_tickets = [\n",
        "      fields for fields in read_tickets()\n",
        "      if all(value_ok_for_some_rule(value, rules) for value in fields)\n",
        "  ]\n",
        "  num_rules, num_fields = len(rules), len(valid_tickets[0])\n",
        "  check_eq(num_rules, num_fields)\n",
        "\n",
        "  def is_compatible(rule, field_index):\n",
        "    ranges = rules[rule]\n",
        "    return all(\n",
        "        any(range[0] <= ticket[field_index] <= range[1] for range in ranges)\n",
        "        for ticket in valid_tickets\n",
        "    )\n",
        "\n",
        "  grid = np.empty((num_rules, num_fields), dtype=np.bool)\n",
        "  # Computational bottleneck; could let rules.values() be array and use numba.\n",
        "  for rule_index, rule in enumerate(rules):\n",
        "    for field_index in range(num_fields):\n",
        "      grid[rule_index, field_index] = is_compatible(rule, field_index)\n",
        "\n",
        "  column_of_rule = {}\n",
        "  row_sums = np.sum(grid, axis=1)\n",
        "  while np.any(row_sums):\n",
        "    row = np.nonzero(row_sums == 1)[0][0]\n",
        "    col = np.nonzero(grid[row] == 1)[0][0]\n",
        "    rule = list(rules)[row]\n",
        "    column_of_rule[rule] = col\n",
        "    row_sums -= grid[:, col]\n",
        "    grid[:, col] = 0\n",
        "  values = [my_ticket[column_of_rule[rule]] for rule in rules\n",
        "            if rule.startswith('departure')]\n",
        "  check_eq(len(values), 6)\n",
        "  return np.prod(values)\n",
        "\n",
        "\n",
        "puzzle.verify(2, process2)"
      ],
      "execution_count": 87,
      "outputs": [
        {
          "output_type": "stream",
          "text": [
            "(Part 2: 0.045 s)\n"
          ],
          "name": "stdout"
        }
      ]
    },
    {
      "cell_type": "markdown",
      "metadata": {
        "id": "gtbnA6Tu-dGn"
      },
      "source": [
        "<a name=\"day17\"></a>\n",
        "## Day 17: Game of life in 3D and 4D"
      ]
    },
    {
      "cell_type": "markdown",
      "metadata": {
        "id": "mGN11x0HZx_6"
      },
      "source": [
        "Given an initial 2D grid of cell states, simulate a cellular automaton on a higher-dimensional grid.  An inactive grid cell becomes active if exactly 3 of its neighbors is active, and an active grid cell becomes inactive unless 2 or 3 of its neighbors is active.  (Each cell has 26 neighbors in 3D and 80 neighbors in 4D.)\n",
        "\n",
        "- Part 1: Run the cellular automaton in 3D for 6 generations and report the number of active cells.\n",
        "\n",
        "- Part 2: Do the same in 4D."
      ]
    },
    {
      "cell_type": "code",
      "metadata": {
        "id": "pbYNL9pU-dGn",
        "colab": {
          "base_uri": "https://localhost:8080/"
        },
        "outputId": "54021870-a9fb-4a26-903f-0c90c912b40a"
      },
      "source": [
        "puzzle = advent.puzzle(17)"
      ],
      "execution_count": 88,
      "outputs": [
        {
          "output_type": "stream",
          "text": [
            "For day 17, puzzle.input has 8 lines:\n",
            ".......#\n",
            "....#...\n",
            "...###.#\n",
            "#...###.\n",
            "....##..\n",
            "##.#..#.\n",
            "###.#.#.\n",
            "....#...\n",
            "And the stored answers are: {1: 232, 2: 1620}\n"
          ],
          "name": "stdout"
        }
      ]
    },
    {
      "cell_type": "code",
      "metadata": {
        "id": "iyH3cz1t6d_9"
      },
      "source": [
        "s1 = \"\"\"\n",
        ".#.\n",
        "..#\n",
        "###\n",
        "\"\"\""
      ],
      "execution_count": 89,
      "outputs": []
    },
    {
      "cell_type": "code",
      "metadata": {
        "id": "N2rufCY8ukMM"
      },
      "source": [
        "# Both of the solutions below work in arbitrary dimension!"
      ],
      "execution_count": 90,
      "outputs": []
    },
    {
      "cell_type": "code",
      "metadata": {
        "id": "l0P-Z-ekupYj",
        "colab": {
          "base_uri": "https://localhost:8080/"
        },
        "outputId": "35bda163-c118-44fc-e2cd-4745b12f26bf"
      },
      "source": [
        "# Slower code:\n",
        "def process(s, num_cycles=6, dim=3):\n",
        "  lines = s.strip('\\n').splitlines()\n",
        "  indices = {\n",
        "      (0,) * (dim - 2) + (y, x)\n",
        "      for y, line in enumerate(lines) for x, ch in enumerate(line)\n",
        "      if ch == '#'\n",
        "  }\n",
        "  offsets = set(itertools.product((-1, 0, 1), repeat=dim)) - {(0,) * dim}\n",
        "\n",
        "  def neighbors(index):\n",
        "    for offset in offsets:\n",
        "      yield tuple(map(sum, zip(index, offset)))\n",
        "\n",
        "  def count_neighbors(index):\n",
        "    return sum(neighbor in indices for neighbor in neighbors(index))\n",
        "\n",
        "  for _ in range(num_cycles):\n",
        "    survivors = {index for index in indices if 2 <= count_neighbors(index) <= 3}\n",
        "    adjacents = {neighbor for index in indices for neighbor in neighbors(index)}\n",
        "    births = {index for index in adjacents if count_neighbors(index) == 3}\n",
        "    indices = survivors | births\n",
        "\n",
        "  return len(indices)\n",
        "\n",
        "\n",
        "check_eq(process(s1), 112)\n",
        "puzzle.verify(1, process)"
      ],
      "execution_count": 91,
      "outputs": [
        {
          "output_type": "stream",
          "text": [
            "(Part 1: 0.158 s)\n"
          ],
          "name": "stdout"
        }
      ]
    },
    {
      "cell_type": "code",
      "metadata": {
        "colab": {
          "base_uri": "https://localhost:8080/"
        },
        "id": "wfDzi7fCbT0Y",
        "outputId": "b29fe143-f922-4f4c-ce6a-8a21e4bc7933"
      },
      "source": [
        "# Faster code:\n",
        "def process(s, num_cycles=6, dim=3):\n",
        "  lines = s.strip('\\n').splitlines()\n",
        "  indices = {\n",
        "      (0,) * (dim - 2) + (y, x)\n",
        "      for y, line in enumerate(lines) for x, ch in enumerate(line)\n",
        "      if ch == '#'\n",
        "  }\n",
        "  offsets = set(itertools.product((-1, 0, 1), repeat=dim)) - {(0,) * dim}\n",
        "\n",
        "  def neighbors(index):\n",
        "    i = index\n",
        "    if dim == 3:  # faster\n",
        "      for o in offsets:\n",
        "        yield i[0] + o[0], i[1] + o[1], i[2] + o[2]\n",
        "    elif dim == 4:  # faster\n",
        "      for o in offsets:\n",
        "        yield i[0] + o[0], i[1] + o[1], i[2] + o[2], i[3] + o[3]\n",
        "    else:\n",
        "      for o in offsets:\n",
        "        yield tuple(map(sum, zip(i, o)))\n",
        "\n",
        "  for _ in range(num_cycles):\n",
        "    # Adapted from collections.Counter() algorithm in \n",
        "    # https://github.com/norvig/pytudes/blob/master/ipynb/Advent-2020.ipynb\n",
        "    neighbor_counts = collections.Counter(\n",
        "        itertools.chain.from_iterable(neighbors(index) for index in indices))\n",
        "    indices = {index for index, count in neighbor_counts.items()\n",
        "               if count == 3 or (count == 2 and index in indices)}\n",
        "\n",
        "  return len(indices)\n",
        "\n",
        "\n",
        "check_eq(process(s1), 112)\n",
        "puzzle.verify(1, process)"
      ],
      "execution_count": 92,
      "outputs": [
        {
          "output_type": "stream",
          "text": [
            "(Part 1: 0.007 s)\n"
          ],
          "name": "stdout"
        }
      ]
    },
    {
      "cell_type": "markdown",
      "metadata": {
        "id": "gW1OyKC36fXf"
      },
      "source": [
        "Part 2"
      ]
    },
    {
      "cell_type": "code",
      "metadata": {
        "colab": {
          "base_uri": "https://localhost:8080/"
        },
        "id": "0aHE0rdXOSHQ",
        "outputId": "e83bb52b-decd-45e4-befc-a5d6beb7d258"
      },
      "source": [
        "process2 = functools.partial(process, dim=4)\n",
        "check_eq(process2(s1), 848)\n",
        "puzzle.verify(2, process2)"
      ],
      "execution_count": 93,
      "outputs": [
        {
          "output_type": "stream",
          "text": [
            "(Part 2: 0.221 s)\n"
          ],
          "name": "stdout"
        }
      ]
    },
    {
      "cell_type": "code",
      "metadata": {
        "colab": {
          "base_uri": "https://localhost:8080/"
        },
        "id": "JaReGZZ7weLS",
        "outputId": "6c24b704-8cf8-4e2a-ad8c-a4ea5d942c6f"
      },
      "source": [
        "def show_num_active_in_each_generation_for_2d_3d_4d():\n",
        "  for dim in range(2, 5):\n",
        "    print(dim, [process(puzzle.input, n, dim) for n in range(6)])\n",
        "\n",
        "show_num_active_in_each_generation_for_2d_3d_4d()"
      ],
      "execution_count": 94,
      "outputs": [
        {
          "output_type": "stream",
          "text": [
            "2 [22, 17, 23, 24, 28, 27]\n",
            "3 [22, 39, 50, 84, 140, 173]\n",
            "4 [22, 105, 144, 652, 372, 1796]\n"
          ],
          "name": "stdout"
        }
      ]
    },
    {
      "cell_type": "markdown",
      "metadata": {
        "id": "HNOZW8Ax-dQy"
      },
      "source": [
        "<a name=\"day18\"></a>\n",
        "## Day 18: Parsing math expression"
      ]
    },
    {
      "cell_type": "markdown",
      "metadata": {
        "id": "6-QdRn_Rb7kR"
      },
      "source": [
        "Given a list of mathematical expressions with additions, multiplications, and parantheses, evaluate each expression and report the sum of resulting values.\n",
        "\n",
        "- Part 1: Operators `+` and `*` have equal precedence and are applied left-to-right.\n",
        "\n",
        "- Part 2: Operator `+` has higher precedence than `*` (which is unusual)."
      ]
    },
    {
      "cell_type": "code",
      "metadata": {
        "id": "YvZH2Qku-dQy",
        "colab": {
          "base_uri": "https://localhost:8080/"
        },
        "outputId": "877ab047-7307-4f0a-ac8a-53417091c292"
      },
      "source": [
        "puzzle = advent.puzzle(18)"
      ],
      "execution_count": 95,
      "outputs": [
        {
          "output_type": "stream",
          "text": [
            "For day 18, puzzle.input has 380 lines:\n",
            "7 + (9 * 8 + 5 + 5 * (3 * 4 * 7 + 6 * 4)) * ((3 * 6 + 3 * 4 * 7 * 4) + 4 * 3 * 5 + 5 * (5 * 6 + 7)) * 2 + 6 * 4\n",
            "9 * 4 * ((9 * 8 + 9 + 2 + 9) + 2 * 9 + 2 + 2) * 5 * 6\n",
            "3 * ((9 * 3 * 8 * 6 * 6 * 7) + 8) * 2 * 9 + 4 * 8\n",
            "(3 + 4 + 4 * 4 + 9) + (7 + 6 + 2 * 8) * 9 + 7 * 8\n",
            "9 + 6 + 6 + 9 * 9 * 5\n",
            "(3 * 5 + (4 + 3 * 7 * 8) + 7 + 8 + 2) * 8 * (3 * 4 * 8) * ((4 + 5 * 2) * 7)\n",
            "6 + (5 + 8 * (6 * 8 * 9 + 9 + 8 * 9) * 4 + (5 * 9)) * 2 + 2\n",
            "(6 + 8 + (6 * 6 + 2) * 6 * (7 + 7 + 8 + 9)) * 3 + 8 + (6 * (8 + 8 + 9)) + 2\n",
            " ...\n",
            "5 * 8 + (7 + 2 + 6) * (8 + 2 + 8 + 4 + 9) + (5 * 6 * 6 * 3) + 8\n",
            "6 + (7 * 4 + 4 * 7 + 3 * 7) + 9 + 5 * 7 * 5\n",
            "3 + 2 + 8 + (4 + 9 * 4 * 2 + (9 * 9 + 9 + 5) * 5) + 6\n",
            "3 * 9 * 4 * (5 * 4 * (8 + 3))\n",
            "And the stored answers are: {1: 4940631886147, 2: 283582817678281}\n"
          ],
          "name": "stdout"
        }
      ]
    },
    {
      "cell_type": "code",
      "metadata": {
        "id": "EHeqe3fA-dQy",
        "colab": {
          "base_uri": "https://localhost:8080/"
        },
        "outputId": "26e3114f-76c5-4e73-b8b1-337f9f02ae70"
      },
      "source": [
        "# Slower, more readable version with many assertions:\n",
        "def process(strings, part2=False):\n",
        "\n",
        "  def evaluate_line(s):\n",
        "\n",
        "    def parse_term(i):\n",
        "      if s[i] == '(':\n",
        "        value, i = parse_sequence(i + 1)\n",
        "        check_eq(s[i], ')')\n",
        "        return value, i + 1\n",
        "      if s[i].isdigit():\n",
        "        value = int(s[i])\n",
        "        return value, i + 1\n",
        "      raise AssertionError\n",
        "\n",
        "    def parse_sequence(i):\n",
        "      value, i = parse_term(i)\n",
        "      while i < len(s) and s[i] != ')':\n",
        "        check_eq(s[i], ' ')\n",
        "        check_eq(s[i + 2], ' ')\n",
        "        if s[i + 1] == '+':\n",
        "          value2, i = parse_term(i + 3)\n",
        "          value += value2\n",
        "        elif s[i + 1] == '*':\n",
        "          value2, i = (parse_sequence if part2 else parse_term)(i + 3)\n",
        "          value *= value2\n",
        "        else:\n",
        "          raise AssertionError\n",
        "      return value, i\n",
        "\n",
        "    value, i = parse_sequence(0)\n",
        "    check_eq(i, len(s))\n",
        "    return value\n",
        "\n",
        "  return sum(evaluate_line(s) for s in strings.splitlines())\n",
        "\n",
        "puzzle.verify(1, process)\n",
        "\n",
        "process2 = functools.partial(process, part2=True)\n",
        "puzzle.verify(2, process2)"
      ],
      "execution_count": 96,
      "outputs": [
        {
          "output_type": "stream",
          "text": [
            "(Part 1: 0.061 s)\n",
            "(Part 2: 0.058 s)\n"
          ],
          "name": "stdout"
        }
      ]
    },
    {
      "cell_type": "code",
      "metadata": {
        "id": "yWEVQRq560AZ",
        "colab": {
          "base_uri": "https://localhost:8080/"
        },
        "outputId": "31733e8d-611a-47c8-dc8d-4c41d55f691f"
      },
      "source": [
        "# Compact faster version:\n",
        "def process(strings, part2=False):\n",
        "\n",
        "  def evaluate_line(s):\n",
        "\n",
        "    def eval_term(i):\n",
        "      return eval_seq(i + 1, eat=1) if s[i] == '(' else (int(s[i]), i + 1)\n",
        "\n",
        "    def eval_seq(i, eat=0):\n",
        "      value, i = eval_term(i)\n",
        "      while i < len(s) and s[i] != ')':\n",
        "        is_mul = s[i + 1] == '*'\n",
        "        value2, i = (eval_seq if part2 and is_mul else eval_term)(i + 3)\n",
        "        value = value * value2 if is_mul else value + value2\n",
        "      return value, i + eat\n",
        "\n",
        "    return eval_seq(0)[0]\n",
        "\n",
        "  return sum(evaluate_line(s) for s in strings.strip('\\n').splitlines())\n",
        "\n",
        "\n",
        "check_eq(process('1 + 2 * 3 + 4 * 5 + 6'), 71)\n",
        "check_eq(process('1 + (2 * 3) + (4 * (5 + 6))'), 51)\n",
        "check_eq(process('2 * 3 + (4 * 5)'), 26)\n",
        "check_eq(process('5 + (8 * 3 + 9 + 3 * 4 * 3)'), 437)\n",
        "check_eq(process('5 * 9 * (7 * 3 * 3 + 9 * 3 + (8 + 6 * 4))'), 12240)\n",
        "check_eq(process('((2 + 4 * 9) * (6 + 9 * 8 + 6) + 6) + 2 + 4 * 2'), 13632)\n",
        "\n",
        "puzzle.verify(1, process)"
      ],
      "execution_count": 97,
      "outputs": [
        {
          "output_type": "stream",
          "text": [
            "(Part 1: 0.006 s)\n"
          ],
          "name": "stdout"
        }
      ]
    },
    {
      "cell_type": "code",
      "metadata": {
        "id": "k_znXBfN-dQy",
        "colab": {
          "base_uri": "https://localhost:8080/"
        },
        "outputId": "1d8446a5-99df-46ec-c254-9fa50abce450"
      },
      "source": [
        "process2 = functools.partial(process, part2=True)\n",
        "\n",
        "check_eq(process2('1 + 2 * 3 + 4 * 5 + 6'), 231)\n",
        "check_eq(process2('1 + (2 * 3) + (4 * (5 + 6))'), 51)\n",
        "check_eq(process2('2 * 3 + (4 * 5)'), 46)\n",
        "check_eq(process2('5 + (8 * 3 + 9 + 3 * 4 * 3)'), 1445)\n",
        "check_eq(process2('5 * 9 * (7 * 3 * 3 + 9 * 3 + (8 + 6 * 4))'), 669060)\n",
        "check_eq(process2('((2 + 4 * 9) * (6 + 9 * 8 + 6) + 6) + 2 + 4 * 2'), 23340)\n",
        "\n",
        "puzzle.verify(2, process2)"
      ],
      "execution_count": 98,
      "outputs": [
        {
          "output_type": "stream",
          "text": [
            "(Part 2: 0.009 s)\n"
          ],
          "name": "stdout"
        }
      ]
    },
    {
      "cell_type": "markdown",
      "metadata": {
        "id": "c56vcfk3-dcD"
      },
      "source": [
        "<a name=\"day19\"></a>\n",
        "## Day 19: Message grammar"
      ]
    },
    {
      "cell_type": "markdown",
      "metadata": {
        "id": "RAvwjbvGdP65"
      },
      "source": [
        "Given a set of context-free grammar rules and a set of words, report the number of words that are expressible in the grammar.\n",
        "\n",
        "- Part 1: Use the initial grammar rules, which do not have cycles.\n",
        "\n",
        "- Part 2: Replace two of the grammar rules, thereby introducing cycles."
      ]
    },
    {
      "cell_type": "code",
      "metadata": {
        "id": "OS8_aWxv-dcD",
        "colab": {
          "base_uri": "https://localhost:8080/"
        },
        "outputId": "1762c1fb-fc6c-475b-ba67-665042503a2b"
      },
      "source": [
        "puzzle = advent.puzzle(19)"
      ],
      "execution_count": 99,
      "outputs": [
        {
          "output_type": "stream",
          "text": [
            "For day 19, puzzle.input has 583 lines:\n",
            "26: 97 126 | 123 57\n",
            "122: 84 97 | 92 123\n",
            "82: 97 138 | 123 130\n",
            "80: 131 97\n",
            "3: 123 107 | 97 66\n",
            "101: 1 123 | 95 97\n",
            "10: 97 138 | 123 107\n",
            "83: 123 27 | 97 12\n",
            " ...\n",
            "abaabababbbbbabababbabbaaaabbbba\n",
            "baaaababbbabbbbaaababbab\n",
            "bbbabbabaabbaabbabbaaabb\n",
            "abaaaababaabbbbabbbbbbbbaaaaaaaababaaaabbbaaaaaabbbbaaabbbbababb\n",
            "And the stored answers are: {1: 198, 2: 372}\n"
          ],
          "name": "stdout"
        }
      ]
    },
    {
      "cell_type": "code",
      "metadata": {
        "id": "dDfUDTg6-dcD",
        "colab": {
          "base_uri": "https://localhost:8080/"
        },
        "cellView": "form",
        "outputId": "8d379118-0009-4c7d-e6dc-b289b3a4687a"
      },
      "source": [
        "#@title\n",
        "print('Let s1, s2 be test inputs.')\n",
        "\n",
        "s1 = \"\"\"\n",
        "0: 4 1 5\n",
        "1: 2 3 | 3 2\n",
        "2: 4 4 | 5 5\n",
        "3: 4 5 | 5 4\n",
        "4: \"a\"\n",
        "5: \"b\"\n",
        "\n",
        "ababbb\n",
        "bababa\n",
        "abbbab\n",
        "aaabbb\n",
        "aaaabbb\n",
        "\"\"\"\n",
        "\n",
        "s2 = \"\"\"\n",
        "42: 9 14 | 10 1\n",
        "9: 14 27 | 1 26\n",
        "10: 23 14 | 28 1\n",
        "1: \"a\"\n",
        "11: 42 31\n",
        "5: 1 14 | 15 1\n",
        "19: 14 1 | 14 14\n",
        "12: 24 14 | 19 1\n",
        "16: 15 1 | 14 14\n",
        "31: 14 17 | 1 13\n",
        "6: 14 14 | 1 14\n",
        "2: 1 24 | 14 4\n",
        "0: 8 11\n",
        "13: 14 3 | 1 12\n",
        "15: 1 | 14\n",
        "17: 14 2 | 1 7\n",
        "23: 25 1 | 22 14\n",
        "28: 16 1\n",
        "4: 1 1\n",
        "20: 14 14 | 1 15\n",
        "3: 5 14 | 16 1\n",
        "27: 1 6 | 14 18\n",
        "14: \"b\"\n",
        "21: 14 1 | 1 14\n",
        "25: 1 1 | 1 14\n",
        "22: 14 14\n",
        "8: 42\n",
        "26: 14 22 | 1 20\n",
        "18: 15 15\n",
        "7: 14 5 | 1 21\n",
        "24: 14 1\n",
        "\n",
        "abbbbbabbbaaaababbaabbbbabababbbabbbbbbabaaaa\n",
        "bbabbbbaabaabba\n",
        "babbbbaabbbbbabbbbbbaabaaabaaa\n",
        "aaabbbbbbaaaabaababaabababbabaaabbababababaaa\n",
        "bbbbbbbaaaabbbbaaabbabaaa\n",
        "bbbababbbbaaaaaaaabbababaaababaabab\n",
        "ababaaaaaabaaab\n",
        "ababaaaaabbbaba\n",
        "baabbaaaabbaaaababbaababb\n",
        "abbbbabbbbaaaababbbbbbaaaababb\n",
        "aaaaabbaabaaaaababaa\n",
        "aaaabbaaaabbaaa\n",
        "aaaabbaabbaaaaaaabbbabbbaaabbaabaaa\n",
        "babaaabbbaaabaababbaabababaaab\n",
        "aabbbbbaabbbaaaaaabbbbbababaaaaabbaaabba\n",
        "\"\"\""
      ],
      "execution_count": 100,
      "outputs": [
        {
          "output_type": "stream",
          "text": [
            "Let s1, s2 be test inputs.\n"
          ],
          "name": "stdout"
        }
      ]
    },
    {
      "cell_type": "code",
      "metadata": {
        "id": "9goN2Yg2Ylew",
        "colab": {
          "base_uri": "https://localhost:8080/"
        },
        "outputId": "a49ab2a6-25e4-468a-c653-84de3263c96b"
      },
      "source": [
        "# Compact code:\n",
        "def process(s, part2=False):\n",
        "  section1, section2 = s.strip('\\n').split('\\n\\n')\n",
        "  rules = dict(line.split(': ') for line in section1.splitlines())\n",
        "  if part2:\n",
        "    rules.update({'8': '42 | 42 8', '11': '42 31 | 42 11 31'})\n",
        "\n",
        "  def valid_expansion(symbols, text):\n",
        "    if not symbols or not text:\n",
        "      return not symbols and not text\n",
        "    expansions = rules[symbols[0]]\n",
        "    if expansions[0] == '\"':\n",
        "      return expansions[1] == text[0] and valid_expansion(symbols[1:], text[1:])\n",
        "    return any(valid_expansion(expansion.split() + symbols[1:], text)\n",
        "               for expansion in expansions.split(' | '))\n",
        "\n",
        "  return sum(valid_expansion(['0'], text) for text in section2.splitlines())\n",
        "\n",
        "\n",
        "check_eq(process(s1), 2)\n",
        "puzzle.verify(1, process)\n",
        "\n",
        "process2 = functools.partial(process, part2=True)\n",
        "check_eq(process2(s2), 12)\n",
        "puzzle.verify(2, process2)"
      ],
      "execution_count": 101,
      "outputs": [
        {
          "output_type": "stream",
          "text": [
            "(Part 1: 0.105 s)\n",
            "(Part 2: 0.475 s)\n"
          ],
          "name": "stdout"
        }
      ]
    },
    {
      "cell_type": "code",
      "metadata": {
        "colab": {
          "base_uri": "https://localhost:8080/"
        },
        "id": "MY1l556e0GY2",
        "outputId": "b0bf81ac-fce7-49de-c8c7-dbbc44747047"
      },
      "source": [
        "# Faster code:\n",
        "def process(s, part2=False):\n",
        "  section1, section2 = s.strip('\\n').split('\\n\\n')\n",
        "  rules = {\n",
        "      int(symbol): (rhs[1] if rhs[0] == '\"' else\n",
        "                    tuple(tuple(map(int, s.split())) for s in rhs.split(' | ')))\n",
        "      for line in section1.splitlines()\n",
        "      for symbol, rhs in (line.split(': '),)\n",
        "  }\n",
        "  if part2:\n",
        "    # We are fortunate that in both modified rules, there is a symbol to the\n",
        "    # left of the recursion, which forces the consumption of a character.\n",
        "    rules.update({8: ((42,), (42, 8)), 11: ((42, 31), (42, 11, 31))})\n",
        "\n",
        "  def valid_expansion(symbols, text):\n",
        "    while True:\n",
        "      if not symbols:\n",
        "        return not text\n",
        "      if not text:\n",
        "        return False\n",
        "      expansions = rules[symbols[0]]\n",
        "      if isinstance(expansions, str):\n",
        "        if expansions != text[0]:\n",
        "          return False\n",
        "        symbols, text = symbols[1:], text[1:]\n",
        "        continue\n",
        "      return any(valid_expansion(expansion + symbols[1:], text)\n",
        "                for expansion in expansions)\n",
        "\n",
        "  return sum(valid_expansion((0,), text) for text in section2.splitlines())\n",
        "\n",
        "\n",
        "check_eq(process(s1), 2)\n",
        "puzzle.verify(1, process)\n",
        "\n",
        "process2 = functools.partial(process, part2=True)\n",
        "check_eq(process2(s2), 12)\n",
        "puzzle.verify(2, process2)"
      ],
      "execution_count": 102,
      "outputs": [
        {
          "output_type": "stream",
          "text": [
            "(Part 1: 0.071 s)\n",
            "(Part 2: 0.336 s)\n"
          ],
          "name": "stdout"
        }
      ]
    },
    {
      "cell_type": "markdown",
      "metadata": {
        "id": "59zy45w3-dmm"
      },
      "source": [
        "<a name=\"day20\"></a>\n",
        "## Day 20: Dragons in grid of tiles"
      ]
    },
    {
      "cell_type": "markdown",
      "metadata": {
        "id": "1cpjHakteKin"
      },
      "source": [
        "Given a set of numbered 2D image tiles with binary values, assemble these tiles using rotations and flips into a 2D grid such that adjacent tiles have matching boundary values.\n",
        "\n",
        "- Part 1: Return the product of the tile numbers for the 4 tiles that lie at the corners of the assembled 2D grid.\n",
        "\n",
        "- Part 2: Given a 2D mask (\"dragon\"), find all possible locations for this mask (including rotations and flips) such that all active values in the mask are also active in the assembled grid.  Report the number of active grid nodes which are not covered by any found mask instance."
      ]
    },
    {
      "cell_type": "code",
      "metadata": {
        "id": "5rf3fPOk-dmm",
        "colab": {
          "base_uri": "https://localhost:8080/"
        },
        "outputId": "c4e02cb0-3ee9-4232-f6c1-9b8f990f6140"
      },
      "source": [
        "puzzle = advent.puzzle(20)"
      ],
      "execution_count": 103,
      "outputs": [
        {
          "output_type": "stream",
          "text": [
            "For day 20, puzzle.input has 1727 lines:\n",
            "Tile 2789:\n",
            ".#..#...##\n",
            "##...#....\n",
            "#.#.##..#.\n",
            ".#.##.##.#\n",
            "....#....#\n",
            "#.#......#\n",
            ".....#....\n",
            " ...\n",
            "..#......#\n",
            "#......#.#\n",
            "..#.....#.\n",
            ".#.#.##.##\n",
            "And the stored answers are: {1: 18449208814679, 2: 1559}\n"
          ],
          "name": "stdout"
        }
      ]
    },
    {
      "cell_type": "code",
      "metadata": {
        "id": "4BGOjHl3-dmm",
        "colab": {
          "base_uri": "https://localhost:8080/"
        },
        "cellView": "form",
        "outputId": "beca0801-be97-4bcc-e00d-9fc3ffc72787"
      },
      "source": [
        "#@title\n",
        "\n",
        "print('Let s1 be a test input.')\n",
        "\n",
        "s1 = \"\"\"\n",
        "Tile 2311:\n",
        "..##.#..#.\n",
        "##..#.....\n",
        "#...##..#.\n",
        "####.#...#\n",
        "##.##.###.\n",
        "##...#.###\n",
        ".#.#.#..##\n",
        "..#....#..\n",
        "###...#.#.\n",
        "..###..###\n",
        "\n",
        "Tile 1951:\n",
        "#.##...##.\n",
        "#.####...#\n",
        ".....#..##\n",
        "#...######\n",
        ".##.#....#\n",
        ".###.#####\n",
        "###.##.##.\n",
        ".###....#.\n",
        "..#.#..#.#\n",
        "#...##.#..\n",
        "\n",
        "Tile 1171:\n",
        "####...##.\n",
        "#..##.#..#\n",
        "##.#..#.#.\n",
        ".###.####.\n",
        "..###.####\n",
        ".##....##.\n",
        ".#...####.\n",
        "#.##.####.\n",
        "####..#...\n",
        ".....##...\n",
        "\n",
        "Tile 1427:\n",
        "###.##.#..\n",
        ".#..#.##..\n",
        ".#.##.#..#\n",
        "#.#.#.##.#\n",
        "....#...##\n",
        "...##..##.\n",
        "...#.#####\n",
        ".#.####.#.\n",
        "..#..###.#\n",
        "..##.#..#.\n",
        "\n",
        "Tile 1489:\n",
        "##.#.#....\n",
        "..##...#..\n",
        ".##..##...\n",
        "..#...#...\n",
        "#####...#.\n",
        "#..#.#.#.#\n",
        "...#.#.#..\n",
        "##.#...##.\n",
        "..##.##.##\n",
        "###.##.#..\n",
        "\n",
        "Tile 2473:\n",
        "#....####.\n",
        "#..#.##...\n",
        "#.##..#...\n",
        "######.#.#\n",
        ".#...#.#.#\n",
        ".#########\n",
        ".###.#..#.\n",
        "########.#\n",
        "##...##.#.\n",
        "..###.#.#.\n",
        "\n",
        "Tile 2971:\n",
        "..#.#....#\n",
        "#...###...\n",
        "#.#.###...\n",
        "##.##..#..\n",
        ".#####..##\n",
        ".#..####.#\n",
        "#..#.#..#.\n",
        "..####.###\n",
        "..#.#.###.\n",
        "...#.#.#.#\n",
        "\n",
        "Tile 2729:\n",
        "...#.#.#.#\n",
        "####.#....\n",
        "..#.#.....\n",
        "....#..#.#\n",
        ".##..##.#.\n",
        ".#.####...\n",
        "####.#.#..\n",
        "##.####...\n",
        "##..#.##..\n",
        "#.##...##.\n",
        "\n",
        "Tile 3079:\n",
        "#.#.#####.\n",
        ".#..######\n",
        "..#.......\n",
        "######....\n",
        "####.#..#.\n",
        ".#...#.##.\n",
        "#.#####.##\n",
        "..#.###...\n",
        "..#.......\n",
        "..#.###...\n",
        "\"\"\""
      ],
      "execution_count": 104,
      "outputs": [
        {
          "output_type": "stream",
          "text": [
            "Let s1 be a test input.\n"
          ],
          "name": "stdout"
        }
      ]
    },
    {
      "cell_type": "code",
      "metadata": {
        "id": "TE5os-0wp1Bv",
        "colab": {
          "base_uri": "https://localhost:8080/"
        },
        "outputId": "2e774331-f299-4760-b530-305e9c658ed4"
      },
      "source": [
        "def process(s, part2=False):\n",
        "  tiles = {int(t[5:9]): grid_from_string(t[11:]) \n",
        "           for t in s.strip('\\n').split('\\n\\n')}\n",
        "  n = int(len(tiles)**0.5)  # math.isqrt() in version 3.8\n",
        "  rotations = tuple(range(8))  # 4 proper rotations * 2 flips\n",
        "\n",
        "  def rotate(tile, rotation):\n",
        "    return np.rot90(tile if rotation < 4 else tile[::-1], rotation % 4)\n",
        "\n",
        "  def top_row(tile, rotation):\n",
        "    # return rotate(tile, rotation)[0]  # equivalent but slower\n",
        "    tile = tile if rotation < 4 else tile[::-1]\n",
        "    rotation = rotation % 4\n",
        "    return (tile[0] if rotation == 0 else tile[:, -1] if rotation == 1 else\n",
        "            tile[-1, ::-1] if rotation == 2 else tile[::-1, 0])\n",
        "\n",
        "  # List of (index, rotation) for up to 2 tiles whose top row matches the key.\n",
        "  edge_list = collections.defaultdict(list)\n",
        "  for index, tile in tiles.items():\n",
        "    for rotation in rotations:\n",
        "      edge_list[tuple(top_row(tile, rotation))].append((index, rotation))\n",
        "\n",
        "  def is_corner(tile):  # A corner tile has 2 unique edges.\n",
        "    return sum(len(edge_list[tuple(top_row(tile, rotation))]) == 1\n",
        "               for rotation in rotations[:4]) == 2\n",
        "\n",
        "  corners = [index for index, tile in tiles.items() if is_corner(tile)]\n",
        "  assert len(corners) == 4  # Exactly four tiles must be at the corners.\n",
        "  if not part2:\n",
        "    return np.prod(corners)\n",
        "\n",
        "  # Place a first corner in the grid upper-left and determine its rotation.\n",
        "  index = corners[0]\n",
        "  tile = tiles[index]\n",
        "  rotation, _ = (rotation for rotation in rotations  # 2 solutions due to flip\n",
        "                 if (len(edge_list[tuple(rotate(tile, rotation)[0])]) == 1 and\n",
        "                     len(edge_list[tuple(rotate(tile, rotation)[:, 0])]) == 1))\n",
        "  layout = np.empty((n, n), dtype=object)\n",
        "  layout[0, 0] = (index, rotation)\n",
        "\n",
        "  def find(not_index, rot, desired):\n",
        "    \"Returns (index, rotation) of tile with top row matching desired after rot.\"\n",
        "    l = edge_list[tuple(desired)]\n",
        "    index, rotation = next(((index, rotation) for index, rotation in l\n",
        "                            if index != not_index))\n",
        "    return index, (rotation + rot) % 4 + rotation // 4 * 4\n",
        "\n",
        "  for y, x in np.ndindex(n, n):\n",
        "    if x > 0:\n",
        "      left_index, left_rotation = layout[y, x - 1]\n",
        "      desired_left = rotate(tiles[left_index], left_rotation)[::-1, -1]\n",
        "      layout[y, x] = find(left_index, 1, desired_left)\n",
        "    elif y > 0:\n",
        "      top_index, top_rotation = layout[y - 1, x]\n",
        "      desired_top = rotate(tiles[top_index], top_rotation)[-1, :]\n",
        "      layout[y, x] = find(top_index, 0, desired_top)\n",
        "\n",
        "  def block(y, x):\n",
        "    index, rotation = layout[y, x]\n",
        "    return rotate(tiles[index], rotation)[1:-1, 1:-1]\n",
        "\n",
        "  grid = np.block([[block(y, x) for x in range(n)] for y in range(n)])\n",
        "\n",
        "  pattern = '                  # #    ##    ##    ### #  #  #  #  #  #   '\n",
        "  pattern = np.array(list(pattern)).reshape(3, 20) == '#'\n",
        "\n",
        "  if 0:  # slower\n",
        "    pattern_indices = np.nonzero(pattern)\n",
        "    for rotation in rotations:\n",
        "      grid_view = rotate(grid, rotation)\n",
        "      for y, x in np.ndindex(*(np.array(grid_view.shape) - pattern.shape)):\n",
        "        subgrid_view = grid_view[y:, x:]\n",
        "        if np.all(subgrid_view[pattern_indices] != '.'):\n",
        "          subgrid_view[pattern_indices] = 'O'\n",
        "\n",
        "  elif 0:  # faster, using 1-d matching\n",
        "    grid_view_1d = grid.reshape(-1)\n",
        "    for rotation in rotations:\n",
        "      pattern_view = rotate(pattern, rotation)\n",
        "      pattern_indices = np.nonzero(pattern_view)\n",
        "      pattern_indices_1d = np.ravel_multi_index(pattern_indices, grid.shape)\n",
        "      for y, x in np.ndindex(*(np.array(grid.shape) - pattern_view.shape)):\n",
        "        subgrid_view_1d = grid_view_1d[y * grid.shape[1] + x:]\n",
        "        if np.all(subgrid_view_1d[pattern_indices_1d] != '.'):\n",
        "          subgrid_view_1d[pattern_indices_1d] = 'O'\n",
        "  \n",
        "  else:  # fastest, using 2d correlation\n",
        "    import scipy.signal\n",
        "    pattern_uint8 = pattern.astype(np.uint8)\n",
        "    grid_uint8 = (grid == '#').astype(np.uint8)\n",
        "    for rotation in rotations:\n",
        "      pattern_view = rotate(pattern_uint8, rotation)\n",
        "      pattern_indices = np.nonzero(pattern_view)\n",
        "      corr = scipy.signal.correlate2d(grid_uint8, pattern_view, mode='valid')\n",
        "      locations = np.moveaxis(np.nonzero(corr == np.sum(pattern_view)), 0, -1)\n",
        "      for y, x in locations:\n",
        "        grid[y:, x:][pattern_indices] = 'O'\n",
        "\n",
        "  return np.count_nonzero(grid == '#')\n",
        "\n",
        "\n",
        "check_eq(process(s1), 20899048083289)\n",
        "puzzle.verify(1, process)\n",
        "\n",
        "process2 = functools.partial(process, part2=True)\n",
        "check_eq(process2(s1), 273)\n",
        "puzzle.verify(2, process2)"
      ],
      "execution_count": 105,
      "outputs": [
        {
          "output_type": "stream",
          "text": [
            "(Part 1: 0.011 s)\n",
            "(Part 2: 0.034 s)\n"
          ],
          "name": "stdout"
        }
      ]
    },
    {
      "cell_type": "code",
      "metadata": {
        "id": "HgSyaeOYcsjM"
      },
      "source": [
        "# %prun [process2(puzzle.input) for _ in range(10)]"
      ],
      "execution_count": 106,
      "outputs": []
    },
    {
      "cell_type": "markdown",
      "metadata": {
        "id": "Lvu-gXKH-dwO"
      },
      "source": [
        "<a name=\"day21\"></a>\n",
        "## Day 21: Allergens in ingredients"
      ]
    },
    {
      "cell_type": "markdown",
      "metadata": {
        "id": "yWu1kcAggsXF"
      },
      "source": [
        "Given a set of foods, each containing a list of ingredients and a set of allergens contained in the ingredients, determine the ingredient corresponding to each allergen.  Each allergen is contained in at most one ingredient.  Some foods may fail to list all allergens.\n",
        "\n",
        "- Part 1: For each food, count the number of ingredients which cannot possibly contain allergens, and report the sum.\n",
        "\n",
        "- Part 2: Report the comma-separated list of ingredients which contain allergens, sorted in ascending order by the allergen name."
      ]
    },
    {
      "cell_type": "code",
      "metadata": {
        "id": "fs33AgEW-dwO",
        "colab": {
          "base_uri": "https://localhost:8080/"
        },
        "outputId": "2944af0d-41d2-4904-fd29-ba95ad751e3e"
      },
      "source": [
        "puzzle = advent.puzzle(21)"
      ],
      "execution_count": 107,
      "outputs": [
        {
          "output_type": "stream",
          "text": [
            "For day 21, puzzle.input has 42 lines:\n",
            "xfvxzl nfcrh kscdhn khnqq jkvcbf jhlvrg chc fk zbh hgrptqb zrvtg tdhv jhqpdf jvj ... mxbbst (contains shellfish, sesame)\n",
            "vxzpfp shlg zrvtg ghq vzn ppqs mqlnbjq cltpv pvxpgp psbnqz nqcmm sqjcsxjq xftxgf ... cbhfpzp khnqq dhqbf (contains fish)\n",
            "fzhmtds zbclt pbln qtgv bnl xqcb vxzpfp jkvcbf nnst tplrt xknj hzmvzrr xfvxzl gk ...  (contains sesame, fish, shellfish)\n",
            "ghq vfqh vtdbl bkmgx bxlc sbhdb xfvxzl lvdcdg nsktq hrjrm dbr prrfm dbqbv jbcjk  ... gpgql dpkkzdgs cjds (contains nuts)\n",
            "xknj bbbzcmh tzrp xkqgc ktfvb tplrt dqz ntq jbcjk pcnmbt nqcmm tlgchbh bxfvt nfs ... hlvrg fhznhmx (contains dairy, soy)\n",
            "strd dpdgc cjdnjf flmssjn xfpc mmdfrfcp gpp tqjg znkr mxbbst bbbzcmh jbvrzn cdsl ... mx xknh schkf (contains soy, wheat)\n",
            "gkgzn bndz dpkkzdgs nv nhjbd mqlnbjq khnqq ljpzx cfbgb xknj ddmg mkpmkx tgcvz nn ... trd tdhv fk tdsvx (contains sesame)\n",
            "gnfjcpc ddmg tpbtpd cltpv xfvxzl txr rmxzzf tgcvz jsdgn pgnk jrpx vbvfr vzn gbpl ... c dvzqx hcms zrvtg (contains dairy)\n",
            " ...\n",
            "nsktq ftkfc mdqlbx bxfvt vtdbl djldkx cljvdxp cpp ghzx sbhdb ppqs dvzqx zhpv kgr ... vrtf nnst dqrvvk (contains peanuts)\n",
            "fhznhmx khnm skrrb ckpjgb glxxp rzlkxt jrj mxsklfx mdqlbx mkpmkx xhb bkhjxl ttkn ... txr zgpv (contains fish, shellfish)\n",
            "cbhfpzp tmp rjnx dpdgc frv xflfx dbr fzhmtds kcgtlb msrnhf khnm hgrptqb tfgf xss ...  qhhsj (contains sesame, nuts, soy)\n",
            "flnhl gkddl jhqpdf jkvcbf xqcb gcbbnqb ddmg ppqs bnl jrpx cdslv bxlc tfgf msrnhf ... dqrvvk cltpv (contains wheat, nuts)\n",
            "And the stored answers are: {1: 2410, 2: 'tmp,pdpgm,cdslv,zrvtg,ttkn,mkpmkx,vxzpfp,flnhl'}\n"
          ],
          "name": "stdout"
        }
      ]
    },
    {
      "cell_type": "code",
      "metadata": {
        "id": "_2PTWdhB-dwP"
      },
      "source": [
        "s1 = \"\"\"\n",
        "mxmxvkd kfcds sqjhc nhms (contains dairy, fish)\n",
        "trh fvjkl sbzzf mxmxvkd (contains dairy)\n",
        "sqjhc fvjkl (contains soy)\n",
        "sqjhc mxmxvkd sbzzf (contains fish)\n",
        "\"\"\""
      ],
      "execution_count": 108,
      "outputs": []
    },
    {
      "cell_type": "code",
      "metadata": {
        "id": "ZiLL-vnZg7Nf",
        "colab": {
          "base_uri": "https://localhost:8080/"
        },
        "outputId": "b3741613-f193-487f-87ab-33250ad2fb5b"
      },
      "source": [
        "def process(s, part2=False):\n",
        "\n",
        "  def foods():\n",
        "    for line in s.strip('\\n').splitlines():\n",
        "      ingredients, allergens = line[:-1].split(' (contains ')\n",
        "      yield set(ingredients.split()), allergens.split(', ')\n",
        "\n",
        "  possibles_for_allergen = {}\n",
        "  for ingredients, allergens in foods():\n",
        "    for allergen in allergens:\n",
        "      if allergen not in possibles_for_allergen:\n",
        "        possibles_for_allergen[allergen] = ingredients.copy()\n",
        "      else:\n",
        "        possibles_for_allergen[allergen] &= ingredients\n",
        "\n",
        "  allergen_ingredient = {}\n",
        "  while possibles_for_allergen:\n",
        "    has_single_ingredient = lambda item: len(item[1]) == 1\n",
        "    allergen, ingredients = next(\n",
        "        filter(has_single_ingredient, possibles_for_allergen.items()))\n",
        "    ingredient = ingredients.pop()\n",
        "    allergen_ingredient[allergen] = ingredient\n",
        "    for ingredients2 in possibles_for_allergen.values():\n",
        "      ingredients2.discard(ingredient)\n",
        "    del possibles_for_allergen[allergen]\n",
        "\n",
        "  if not part2:\n",
        "    allergen_ingredients = set(list(allergen_ingredient.values()))\n",
        "    return sum(\n",
        "        len(ingredients - allergen_ingredients) for ingredients, _ in foods())\n",
        "\n",
        "  return ','.join(ingredient\n",
        "                  for _, ingredient in sorted(allergen_ingredient.items()))\n",
        "\n",
        "\n",
        "check_eq(process(s1), 5)\n",
        "puzzle.verify(1, process)\n",
        "\n",
        "process2 = functools.partial(process, part2=True)\n",
        "check_eq(process2(s1), 'mxmxvkd,sqjhc,fvjkl')\n",
        "puzzle.verify(2, process2)"
      ],
      "execution_count": 109,
      "outputs": [
        {
          "output_type": "stream",
          "text": [
            "(Part 1: 0.002 s)\n",
            "(Part 2: 0.001 s)\n"
          ],
          "name": "stdout"
        }
      ]
    },
    {
      "cell_type": "markdown",
      "metadata": {
        "id": "s6XjBYzo-d4k"
      },
      "source": [
        "<a name=\"day22\"></a>\n",
        "## Day 22: Recursive card game"
      ]
    },
    {
      "cell_type": "markdown",
      "metadata": {
        "id": "655GJ3XGiu_D"
      },
      "source": [
        "Given two hands of integer cards, simulate a card game of combat.  At each turn, the player with the largest front card places the two cards (higher card first) at the back of their hand.  A player that owns all cards wins.\n",
        "\n",
        "- Part 1: In the winner's hand, multiply each card value by its position (1 being rearmost), and report the sum of the result.\n",
        "\n",
        "- Part 2: Add extra rules.  If both players have at least as many cards remaining in their deck as their top card, the winner of the round is determined by playing a new game of Recursive Combat.  See the [website](https://adventofcode.com/2020/day/22) for details."
      ]
    },
    {
      "cell_type": "code",
      "metadata": {
        "id": "Z-p_WhaT-d4k",
        "colab": {
          "base_uri": "https://localhost:8080/"
        },
        "outputId": "ca84c022-0070-458d-b5ea-218d0f80d3e1"
      },
      "source": [
        "puzzle = advent.puzzle(22)"
      ],
      "execution_count": 110,
      "outputs": [
        {
          "output_type": "stream",
          "text": [
            "For day 22, puzzle.input has 53 lines:\n",
            "Player 1:\n",
            "15\n",
            "31\n",
            "26\n",
            "4\n",
            "36\n",
            "30\n",
            "43\n",
            " ...\n",
            "37\n",
            "5\n",
            "1\n",
            "27\n",
            "And the stored answers are: {1: 32199, 2: 33780}\n"
          ],
          "name": "stdout"
        }
      ]
    },
    {
      "cell_type": "code",
      "metadata": {
        "id": "YQE7j-bd-d4k"
      },
      "source": [
        "s1 = \"\"\"\n",
        "Player 1:\n",
        "9\n",
        "2\n",
        "6\n",
        "3\n",
        "1\n",
        "\n",
        "Player 2:\n",
        "5\n",
        "8\n",
        "4\n",
        "7\n",
        "10\n",
        "\"\"\""
      ],
      "execution_count": 111,
      "outputs": []
    },
    {
      "cell_type": "code",
      "metadata": {
        "colab": {
          "base_uri": "https://localhost:8080/"
        },
        "id": "kWKveQ-OBmqD",
        "outputId": "9a2d268e-21f4-45d0-e02b-ba2dcf72a610"
      },
      "source": [
        "def process1(s):\n",
        "  hands = [collections.deque(map(int, s2.splitlines()[1:]))\n",
        "           for s2 in s.strip('\\n').split('\\n\\n')]\n",
        "\n",
        "  while hands[0] and hands[1]:\n",
        "    cards = hands[0].popleft(), hands[1].popleft()\n",
        "    winner = 0 if cards[0] > cards[1] else 1\n",
        "    hands[winner].extend([cards[winner], cards[1 - winner]])\n",
        "\n",
        "  return sum((i + 1) * card for i, card in enumerate(reversed(hands[winner])))\n",
        "\n",
        "\n",
        "check_eq(process1(s1), 306)\n",
        "puzzle.verify(1, process1)"
      ],
      "execution_count": 112,
      "outputs": [
        {
          "output_type": "stream",
          "text": [
            "(Part 1: 0.000 s)\n"
          ],
          "name": "stdout"
        }
      ]
    },
    {
      "cell_type": "markdown",
      "metadata": {
        "id": "jiPsX_E7lF4p"
      },
      "source": [
        "Part 2"
      ]
    },
    {
      "cell_type": "code",
      "metadata": {
        "id": "C6AZhL6-gkOq"
      },
      "source": [
        "# Slower code using deque:\n",
        "def process2(s):\n",
        "\n",
        "  def combat(hands):  # Returns (hands, winner)\n",
        "    visited = set()\n",
        "    while hands[0] and hands[1]:\n",
        "      state = (*hands[0], -1, *hands[1])\n",
        "      if state in visited:\n",
        "        return hands, 0  # player 1 is winner\n",
        "      visited.add(state)\n",
        "      cards = hands[0].popleft(), hands[1].popleft()\n",
        "      if len(hands[0]) >= cards[0] and len(hands[1]) >= cards[1]:\n",
        "        _, winner = combat([collections.deque(list(hands[0])[:cards[0]]),\n",
        "                            collections.deque(list(hands[1])[:cards[1]])])\n",
        "      else:\n",
        "        winner = 0 if cards[0] > cards[1] else 1\n",
        "      hands[winner].extend([cards[winner], cards[1 - winner]])\n",
        "\n",
        "    return hands, 0 if hands[0] else 1\n",
        "\n",
        "  hands = [collections.deque(map(int, s2.splitlines()[1:]))\n",
        "           for s2 in s.strip('\\n').split('\\n\\n')]\n",
        "  hands, winner = combat(hands)\n",
        "  return sum((i + 1) * card for i, card in enumerate(reversed(hands[winner])))\n",
        "\n",
        "\n",
        "check_eq(process2(s1), 291)"
      ],
      "execution_count": 113,
      "outputs": []
    },
    {
      "cell_type": "code",
      "metadata": {
        "colab": {
          "base_uri": "https://localhost:8080/"
        },
        "id": "I15rkdkHxQQU",
        "outputId": "a3b596de-2518-46ef-d206-fbb19afb4a59"
      },
      "source": [
        "# Faster code using tuples:\n",
        "def process2(s):\n",
        "\n",
        "  def combat(hand0, hand1):\n",
        "    visited = set()\n",
        "    while True:\n",
        "      state = (hand0, hand1)\n",
        "      if state in visited:\n",
        "        return (0,), ()  # player 1 is winner\n",
        "      visited.add(state)\n",
        "      card0 = hand0[0]\n",
        "      card1 = hand1[0]\n",
        "      recurse = len(hand0) > card0 and len(hand1) > card1\n",
        "      if (combat(hand0[1:card0 + 1], hand1[1:card1 + 1])[0] if recurse\n",
        "          else card0 > card1):\n",
        "        hand0, hand1 = hand0[1:] + (card0, card1), hand1[1:]\n",
        "        if not hand1:\n",
        "          break\n",
        "      else:\n",
        "        hand0, hand1 = hand0[1:], hand1[1:] + (card1, card0)\n",
        "        if not hand0:\n",
        "          break\n",
        "    return hand0, hand1\n",
        "\n",
        "  hand0, hand1 = (tuple(map(int, s2.splitlines()[1:]))\n",
        "                  for s2 in s.strip('\\n').split('\\n\\n'))\n",
        "  hand0, hand1 = combat(hand0, hand1)\n",
        "  return sum((i + 1) * card for i, card in enumerate(reversed(hand0 + hand1)))\n",
        "\n",
        "\n",
        "check_eq(process2(s1), 291)\n",
        "puzzle.verify(2, process2)"
      ],
      "execution_count": 114,
      "outputs": [
        {
          "output_type": "stream",
          "text": [
            "(Part 2: 1.254 s)\n"
          ],
          "name": "stdout"
        }
      ]
    },
    {
      "cell_type": "code",
      "metadata": {
        "id": "AmQbDLMIzhMP"
      },
      "source": [
        "# %timeit -r8 process2(puzzle.input)"
      ],
      "execution_count": 115,
      "outputs": []
    },
    {
      "cell_type": "code",
      "metadata": {
        "id": "qoOEguT9lM7z"
      },
      "source": [
        "# Also tried:\n",
        "# - Created version which caches outcomes of states.  It is 1.7x slower,\n",
        "#    likely because there are too many possible states.\n",
        "# - Used separate recurse() function returning winner and no hands; no change."
      ],
      "execution_count": 116,
      "outputs": []
    },
    {
      "cell_type": "code",
      "metadata": {
        "id": "RDMgtolMz1gV"
      },
      "source": [
        "# %prun process2(puzzle.input)  # No obvious opportunity for optimization."
      ],
      "execution_count": 117,
      "outputs": []
    },
    {
      "cell_type": "markdown",
      "metadata": {
        "id": "v1c-K7fo-d_W"
      },
      "source": [
        "<a name=\"day23\"></a>\n",
        "## Day 23: Cups in a circle"
      ]
    },
    {
      "cell_type": "markdown",
      "metadata": {
        "id": "Km0mMKB9lZZp"
      },
      "source": [
        "Given a circular list of cups (labeled 1-9), apply a sequence of moves.\n",
        "For each move, extract the 3 cups to the right of the current cup (initially first in the input), and reinsert the 3 cups to the right of the cup whose label has value 1 less than the current cup.  Advance the current cup to the right.\n",
        "\n",
        "When finding the cup whose label has value 1 less than the current cup, skip over any that are in the 3 extracted cups, and when reaching value 0, wraparound back to the highest value.\n",
        "\n",
        "- Part 1: Report the cup labels (as a string of 8 digits) to the right of cup 1 after 100 moves.\n",
        "\n",
        "- Part 2: Extend the input circular list to contain a total of 1_000_000 cups, labeled 10 .. 1_000_000.  After 10_000_000 moves, determine the two cups to the right of cup 1, and report the product of their labels."
      ]
    },
    {
      "cell_type": "code",
      "metadata": {
        "id": "73qp7KN--d_W",
        "colab": {
          "base_uri": "https://localhost:8080/"
        },
        "outputId": "86030f17-ee38-4314-ab07-9035c5096532"
      },
      "source": [
        "puzzle = advent.puzzle(23)"
      ],
      "execution_count": 118,
      "outputs": [
        {
          "output_type": "stream",
          "text": [
            "For day 23, puzzle.input has 1 lines:\n",
            "872495136\n",
            "And the stored answers are: {1: '27865934', 2: 170836011000}\n"
          ],
          "name": "stdout"
        }
      ]
    },
    {
      "cell_type": "code",
      "metadata": {
        "id": "PrJVbU0yjTaD"
      },
      "source": [
        "s1 = '389125467'"
      ],
      "execution_count": 119,
      "outputs": []
    },
    {
      "cell_type": "code",
      "metadata": {
        "id": "jW00lGN77__3"
      },
      "source": [
        "# Code using list:\n",
        "def process(s, num_moves=100):\n",
        "  l = list(map(int, s.strip()))\n",
        "\n",
        "  for _ in range(num_moves):\n",
        "    (current, *extracted3) = l[:4]\n",
        "    destination = current - 1 if current > 1 else len(l)\n",
        "    while destination in extracted3:\n",
        "      destination = destination - 1 if destination > 1 else len(l)\n",
        "    dest = l.index(destination)  # bottleneck in part 2!\n",
        "    l = l[4:dest + 1] + extracted3 + l[dest + 1:] + [current]\n",
        "\n",
        "  i = l.index(1)\n",
        "  l = l[i + 1:] + l[:i]\n",
        "  return ''.join(map(str, l))\n",
        "\n",
        "\n",
        "check_eq(process(s1, num_moves=10), '92658374')\n",
        "check_eq(process(s1), '67384529')"
      ],
      "execution_count": 120,
      "outputs": []
    },
    {
      "cell_type": "code",
      "metadata": {
        "id": "k0evlBlPHe1H"
      },
      "source": [
        "# Code using deque:\n",
        "def process(s, num_moves=100):\n",
        "  d = collections.deque(map(int, s.strip()))\n",
        "  n = len(d)\n",
        "\n",
        "  for _ in range(num_moves):\n",
        "    current = next(iter(d))\n",
        "    d.rotate(-1)  # move current to the end\n",
        "    extracted3 = d.popleft(), d.popleft(), d.popleft()\n",
        "    destination = current - 1 if current > 1 else n\n",
        "    while destination in extracted3:\n",
        "      destination = destination - 1 if destination > 1 else n\n",
        "    dest = d.index(destination)  # bottleneck in part 2!\n",
        "    d.rotate(-dest - 1)  # move destination to end\n",
        "    d.extendleft(reversed(extracted3))\n",
        "    d.rotate(dest + 1)  # move new current back to front\n",
        "\n",
        "  d.rotate(-d.index(1))  # move '1' to front\n",
        "  d.popleft()  # remove '1'\n",
        "  return ''.join(map(str, d))\n",
        "\n",
        "\n",
        "check_eq(process(s1, num_moves=10), '92658374')\n",
        "check_eq(process(s1), '67384529')"
      ],
      "execution_count": 121,
      "outputs": []
    },
    {
      "cell_type": "code",
      "metadata": {
        "colab": {
          "base_uri": "https://localhost:8080/"
        },
        "id": "0dy73YTm8Gpl",
        "outputId": "737b517e-09e3-400a-bcd7-165c7cff6aa8"
      },
      "source": [
        "# Code keeping track of next cup label for each cup label:\n",
        "def process(s, max_num=0, num_moves=100):\n",
        "  dtype = np.int32 if using_numba else np.int64\n",
        "  l = np.array(list(map(int, s.strip())), dtype)\n",
        "  next_cup = np.empty(1 + max(len(l), max_num), dtype=l.dtype)\n",
        "\n",
        "  @numba_njit(cache=True)  # 0.25 s to jit on first invocation\n",
        "  def func(l, max_num, num_moves, next_cup):\n",
        "    n = len(next_cup) - 1\n",
        "    current = l[0]\n",
        "    for i in range(len(l) - 1):\n",
        "      next_cup[l[i]] = l[i + 1]\n",
        "    if max_num:\n",
        "      next_cup[l[-1]] = len(l) + 1\n",
        "      for i in range(len(l) + 1, max_num):\n",
        "        next_cup[i] = i + 1\n",
        "      next_cup[max_num] = l[0]\n",
        "    else:\n",
        "      next_cup[l[-1]] = l[0]\n",
        "\n",
        "    for _ in range(num_moves):\n",
        "      extracted1 = next_cup[current]\n",
        "      extracted2 = next_cup[extracted1]\n",
        "      extracted3 = next_cup[extracted2]\n",
        "      destination = current - 1 if current > 1 else n\n",
        "      while destination in (extracted1, extracted2, extracted3):\n",
        "        destination = destination - 1 if destination > 1 else n\n",
        "      next_cup[current] = next_cup[extracted3]\n",
        "      next_cup[extracted3] = next_cup[destination]\n",
        "      next_cup[destination] = extracted1\n",
        "      current = next_cup[current]\n",
        "\n",
        "    return current\n",
        "\n",
        "  current = func(l, max_num, num_moves, next_cup)\n",
        "  if max_num:\n",
        "    cup1 = next_cup[1]\n",
        "    cup2 = next_cup[cup1]\n",
        "    return int(cup1) * int(cup2)\n",
        "  else:\n",
        "    l = [next_cup[1]]\n",
        "    while next_cup[l[-1]] != 1:\n",
        "      l.append(next_cup[l[-1]])\n",
        "    return ''.join(map(str, l))\n",
        "\n",
        "\n",
        "check_eq(process(s1, num_moves=10), '92658374')\n",
        "check_eq(process(s1), '67384529')\n",
        "\n",
        "puzzle.verify(1, process)"
      ],
      "execution_count": 122,
      "outputs": [
        {
          "output_type": "stream",
          "text": [
            "(Part 1: 0.006 s)\n"
          ],
          "name": "stdout"
        }
      ]
    },
    {
      "cell_type": "markdown",
      "metadata": {
        "id": "1c4HNmytswlp"
      },
      "source": [
        "Part 2"
      ]
    },
    {
      "cell_type": "code",
      "metadata": {
        "id": "whhY4iE4jTaN",
        "colab": {
          "base_uri": "https://localhost:8080/"
        },
        "outputId": "d625aa4a-2791-426a-9ba2-72ef2c36d76d"
      },
      "source": [
        "# ~20 s without numba; ~0.5 s with numba\n",
        "process2 = functools.partial(process, num_moves=10_000_000, max_num=1_000_000)\n",
        "\n",
        "if using_numba:\n",
        "  check_eq(process2(s1), 149245887792)\n",
        "\n",
        "puzzle.verify(2, process2)"
      ],
      "execution_count": 123,
      "outputs": [
        {
          "output_type": "stream",
          "text": [
            "(Part 2: 0.923 s)\n"
          ],
          "name": "stdout"
        }
      ]
    },
    {
      "cell_type": "code",
      "metadata": {
        "id": "O5aNrZPQu32d"
      },
      "source": [
        "# %timeit -r8 process2(puzzle.input)"
      ],
      "execution_count": 124,
      "outputs": []
    },
    {
      "cell_type": "code",
      "metadata": {
        "id": "NhlhIih7MVN1"
      },
      "source": [
        "# %prun process2(puzzle.input)  # crashes runtime, likely due to numba function"
      ],
      "execution_count": 125,
      "outputs": []
    },
    {
      "cell_type": "markdown",
      "metadata": {
        "id": "NlVyEkIf-eGr"
      },
      "source": [
        "<a name=\"day24\"></a>\n",
        "## Day 24: Hexagonal tiles"
      ]
    },
    {
      "cell_type": "markdown",
      "metadata": {
        "id": "w7qtnTLjnusg"
      },
      "source": [
        "For each input line, travel over a hexagonal grid using the substrings `e`, `w`, `ne`, `nw`, `se`, and `sw`, and flip the state of the reached grid cell.  (Initially all grid cells are inactive.)\n",
        "\n",
        "- Part 1: Report the number of active cells in the resulting hexagonal grid.\n",
        "\n",
        "- Part 2: Simulate a cellular automaton over the grid from part 1, where an inactive cell becomes active if it has exactly 2 active neighbors,\n",
        "and an active cell becomes inactive if it has 0 or more than 2 active neighbors.  Report the number of active cells after 100 steps."
      ]
    },
    {
      "cell_type": "code",
      "metadata": {
        "id": "HiLNcW3J-eGr",
        "colab": {
          "base_uri": "https://localhost:8080/"
        },
        "outputId": "1f0d6e54-21a4-4e7e-c8d8-2ddeb345504c"
      },
      "source": [
        "puzzle = advent.puzzle(24)"
      ],
      "execution_count": 126,
      "outputs": [
        {
          "output_type": "stream",
          "text": [
            "For day 24, puzzle.input has 347 lines:\n",
            "enwwsenweswweseseswnenewwswseswenw\n",
            "nwnwneswwnenwnwnwenenwwnesenenwsenenee\n",
            "eneswwenwneeswneenenw\n",
            "swwswswwwswswsweeswww\n",
            "swewnwneeewnewwwswwnwwswswnwww\n",
            "seswnwenesenwsenenwwenwsenwswnwseswnw\n",
            "nwswwenwwwswwnwnewswnwnwwwswnee\n",
            "seswseswseseseseeseseseswnwsesw\n",
            " ...\n",
            "nwnwnwnwnewnwwwnwnwnenenwsenwsesenwnww\n",
            "nwwswneseseswsenweswswswneswwswwswswsw\n",
            "neenwsenenenenenenwswswnenenwsenenene\n",
            "newnwnwnwnwwnweswwewsewenwwnwnwnwnw\n",
            "And the stored answers are: {1: 287, 2: 3636}\n"
          ],
          "name": "stdout"
        }
      ]
    },
    {
      "cell_type": "code",
      "metadata": {
        "id": "r4D9R2ZgjUJb",
        "colab": {
          "base_uri": "https://localhost:8080/"
        },
        "cellView": "form",
        "outputId": "0f5ce092-326d-4907-a242-98c9532ad3ac"
      },
      "source": [
        "#@title\n",
        "print('Let s1 be a test input.')\n",
        "\n",
        "s1 = \"\"\"\n",
        "sesenwnenenewseeswwswswwnenewsewsw\n",
        "neeenesenwnwwswnenewnwwsewnenwseswesw\n",
        "seswneswswsenwwnwse\n",
        "nwnwneseeswswnenewneswwnewseswneseene\n",
        "swweswneswnenwsewnwneneseenw\n",
        "eesenwseswswnenwswnwnwsewwnwsene\n",
        "sewnenenenesenwsewnenwwwse\n",
        "wenwwweseeeweswwwnwwe\n",
        "wsweesenenewnwwnwsenewsenwwsesesenwne\n",
        "neeswseenwwswnwswswnw\n",
        "nenwswwsewswnenenewsenwsenwnesesenew\n",
        "enewnwewneswsewnwswenweswnenwsenwsw\n",
        "sweneswneswneneenwnewenewwneswswnese\n",
        "swwesenesewenwneswnwwneseswwne\n",
        "enesenwswwswneneswsenwnewswseenwsese\n",
        "wnwnesenesenenwwnenwsewesewsesesew\n",
        "nenewswnwewswnenesenwnesewesw\n",
        "eneswnwswnwsenenwnwnwwseeswneewsenese\n",
        "neswnwewnwnwseenwseesewsenwsweewe\n",
        "wseweeenwnesenwwwswnew\n",
        "\"\"\""
      ],
      "execution_count": 127,
      "outputs": [
        {
          "output_type": "stream",
          "text": [
            "Let s1 be a test input.\n"
          ],
          "name": "stdout"
        }
      ]
    },
    {
      "cell_type": "code",
      "metadata": {
        "colab": {
          "base_uri": "https://localhost:8080/"
        },
        "id": "souWY59gMp_u",
        "outputId": "b94add70-d10c-446b-ba60-b667cc88ee13"
      },
      "source": [
        "def process(s, num_days=0, return_3d_grid=False):\n",
        "  offsets = dict(e=(0, 1), w=(0, -1), sw=(1, 0), se=(1, 1),\n",
        "                 nw=(-1, -1), ne=(-1, 0))\n",
        "  tuple_offsets = tuple(offsets.values())  # slightly faster\n",
        "  pattern = re.compile('|'.join(offsets))\n",
        "  indices = set()\n",
        "  for line in s.strip('\\n').splitlines():\n",
        "    y, x = 0, 0\n",
        "    for s2 in pattern.findall(line):\n",
        "      offset = offsets[s2]\n",
        "      y, x = y + offset[0], x + offset[1]\n",
        "    indices ^= {(y, x)}\n",
        "\n",
        "  indices_3d = []\n",
        "  def record(day, indices):\n",
        "    if return_3d_grid:\n",
        "      indices_3d.extend((day, y, x) for y, x in indices)\n",
        "\n",
        "  record(0, indices)\n",
        "  for day in range(num_days):\n",
        "    neighbor_counts = collections.Counter(\n",
        "        (y + dy, x + dx) for y, x in indices for dy, dx in tuple_offsets)\n",
        "    indices = {index for index, count in neighbor_counts.items()\n",
        "               if count == 2 or (count == 1 and index in indices)}\n",
        "    record(day + 1, indices)\n",
        "\n",
        "  if indices_3d:\n",
        "    return grid_from_indices(indices_3d, dtype=np.bool)\n",
        "  return len(indices)\n",
        "\n",
        "\n",
        "check_eq(process(s1), 10)\n",
        "puzzle.verify(1, process)"
      ],
      "execution_count": 128,
      "outputs": [
        {
          "output_type": "stream",
          "text": [
            "(Part 1: 0.003 s)\n"
          ],
          "name": "stdout"
        }
      ]
    },
    {
      "cell_type": "code",
      "metadata": {
        "id": "z9mhwR3aVJdf"
      },
      "source": [
        "def grid_from_indices(indices, background=0, foreground=1, indices_min=None,\n",
        "                      indices_max=None, pad=0, dtype=None) -> np.ndarray:\n",
        "  indices = np.asarray(indices)\n",
        "  assert indices.ndim == 2 and np.issubdtype(indices.dtype, np.integer)\n",
        "\n",
        "  def get_min_or_max_bound(f, x) -> np.ndarray:\n",
        "    return f(indices, axis=0) if x is None else np.full(indices.shape[1], x)\n",
        "\n",
        "  i_min = get_min_or_max_bound(np.min, indices_min)\n",
        "  i_max = get_min_or_max_bound(np.max, indices_max)\n",
        "  a_pad = np.asarray(pad)\n",
        "  shape = i_max - i_min + 2 * a_pad + 1\n",
        "  offset = -i_min + a_pad\n",
        "  grid = np.full(shape, background, dtype=dtype)\n",
        "  indices += offset\n",
        "  grid[tuple(indices.T)] = foreground\n",
        "  return grid"
      ],
      "execution_count": 129,
      "outputs": []
    },
    {
      "cell_type": "code",
      "metadata": {
        "id": "mXOunhSk8jkm",
        "colab": {
          "base_uri": "https://localhost:8080/",
          "height": 170
        },
        "outputId": "0a2199de-a44f-4690-adb8-14d02bb2ca7f"
      },
      "source": [
        "if show_all_videos and media.video_is_available():\n",
        "  media.show_video(\n",
        "      process(puzzle.input, num_days=100, return_3d_grid=True)[::2],\n",
        "      codec='gif', fps=10)"
      ],
      "execution_count": 130,
      "outputs": [
        {
          "output_type": "stream",
          "text": [
            "VideoWriter: padding odd frame dimensions from (130, 125) to (130, 126).\n"
          ],
          "name": "stderr"
        },
        {
          "output_type": "display_data",
          "data": {
            "text/html": [
              "<table style=\"border-spacing:0;\"><tr><td><img width=\"125\" height=\"130\" style=\"image-rendering:pixelated; object-fit:cover;\" src=\"data:image/gif;base64,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\"/></td></tr></table>"
            ],
            "text/plain": [
              "<IPython.core.display.HTML object>"
            ]
          },
          "metadata": {
            "tags": []
          }
        }
      ]
    },
    {
      "cell_type": "markdown",
      "metadata": {
        "id": "4FO9F0gsrQex"
      },
      "source": [
        "Part 2"
      ]
    },
    {
      "cell_type": "code",
      "metadata": {
        "colab": {
          "base_uri": "https://localhost:8080/"
        },
        "id": "Tww-_mPArOnf",
        "outputId": "f458d639-392d-4117-8ffb-0c5ac5584eed"
      },
      "source": [
        "check_eq(process(s1, num_days=10), 37)\n",
        "\n",
        "process2 = functools.partial(process, num_days=100)\n",
        "check_eq(process2(s1), 2208)\n",
        "puzzle.verify(2, process2)"
      ],
      "execution_count": 131,
      "outputs": [
        {
          "output_type": "stream",
          "text": [
            "(Part 2: 0.473 s)\n"
          ],
          "name": "stdout"
        }
      ]
    },
    {
      "cell_type": "markdown",
      "metadata": {
        "id": "5DCFvNdh-eMi"
      },
      "source": [
        "<a name=\"day25\"></a>\n",
        "## Day 25: Public-key encryption"
      ]
    },
    {
      "cell_type": "markdown",
      "metadata": {
        "id": "NkqUQfX8qAyI"
      },
      "source": [
        "Given a card public key and a door public key, find the (private) card loop size and door loop size that were used to generate these public keys.  Then, find the common encryption key that the card and door use to communicate.\n",
        "\n",
        "- Part 1: Report the encryption key.\n",
        "\n",
        "- Part 2: There is no part 2 for this last day of the Advent."
      ]
    },
    {
      "cell_type": "code",
      "metadata": {
        "id": "A7PjF-ox-eMi",
        "colab": {
          "base_uri": "https://localhost:8080/"
        },
        "outputId": "fac1d67b-bae3-4b1a-b9e9-036594ae1a95"
      },
      "source": [
        "puzzle = advent.puzzle(25)"
      ],
      "execution_count": 132,
      "outputs": [
        {
          "output_type": "stream",
          "text": [
            "For day 25, puzzle.input has 2 lines:\n",
            "10212254\n",
            "12577395\n",
            "And the stored answers are: {1: 290487, 2: 'no_part2_on_last_day'}\n"
          ],
          "name": "stdout"
        }
      ]
    },
    {
      "cell_type": "code",
      "metadata": {
        "id": "bKWiR9xadArt"
      },
      "source": [
        "s1 = \"\"\"\n",
        "5764801\n",
        "17807724\n",
        "\"\"\""
      ],
      "execution_count": 133,
      "outputs": []
    },
    {
      "cell_type": "code",
      "metadata": {
        "id": "CrHqH34gC9wB"
      },
      "source": [
        "# Slow code\n",
        "def process(s, base=7, mod=20201227):\n",
        "  card_public_key, door_public_key = map(int, s.strip('\\n').splitlines())\n",
        "\n",
        "  # Slow trial-multiplication; https://en.wikipedia.org/wiki/Discrete_logarithm\n",
        "  def untransform(base, value):\n",
        "    x = 1\n",
        "    loop_size = 0\n",
        "    while x != value:\n",
        "      loop_size += 1\n",
        "      x = (x * base) % mod\n",
        "    return loop_size\n",
        "\n",
        "  # Slow O(n) version.\n",
        "  def transform(value, loop_size):\n",
        "    x = 1\n",
        "    for _ in range(loop_size):\n",
        "      x = (x * value) % mod\n",
        "    return x\n",
        "\n",
        "  card_loop_size = untransform(base, card_public_key)\n",
        "  door_loop_size = untransform(base, door_public_key)\n",
        "  assert transform(base, card_loop_size) == card_public_key\n",
        "  assert transform(base, door_loop_size) == door_public_key\n",
        "\n",
        "  encryption_key1 = transform(door_public_key, card_loop_size)\n",
        "  encryption_key2 = transform(card_public_key, door_loop_size)\n",
        "  assert encryption_key1 == encryption_key2\n",
        "  return encryption_key1\n",
        "\n",
        "\n",
        "check_eq(process(s1), 14897079)"
      ],
      "execution_count": 134,
      "outputs": []
    },
    {
      "cell_type": "code",
      "metadata": {
        "colab": {
          "base_uri": "https://localhost:8080/"
        },
        "id": "grEocEpxDCSO",
        "outputId": "f8bffc57-5c76-4dec-f0a6-cf057d6da018"
      },
      "source": [
        "# Fast code\n",
        "\n",
        "def pow_mod(base: int, exponent: int, mod: int) -> int:\n",
        "  \"\"\"Returns 'base**exponent % mod' using square-multiply algorithm.\"\"\"\n",
        "  x = 1\n",
        "  while exponent > 0:\n",
        "    if exponent % 2 == 1:\n",
        "      x = (x * base) % mod\n",
        "    base = (base * base) % mod\n",
        "    exponent //= 2\n",
        "  return x\n",
        "\n",
        "\n",
        "def log_mod(base: int, value: int, mod: int) -> Optional[int]:\n",
        "  \"\"\"Returns exponent for 'base**exponent % mod == value'.\"\"\"\n",
        "  # Using https://en.wikipedia.org/wiki/Baby-step_giant-step\n",
        "  m = int(math.ceil(math.sqrt(mod)))\n",
        "  table = {}\n",
        "  e = 1\n",
        "  for i in range(m):\n",
        "    table[e] = i\n",
        "    e = (e * base) % mod\n",
        "  factor = pow_mod(base, mod - m - 1, mod)\n",
        "  e = value\n",
        "  for i in range(m):\n",
        "    if e in table:\n",
        "      return i * m + table[e]\n",
        "    e = (e * factor) % mod\n",
        "  return None\n",
        "\n",
        "\n",
        "def process(s, base=7, mod=20201227):\n",
        "  card_public_key, door_public_key = map(int, s.strip('\\n').splitlines())\n",
        "  card_loop_size = log_mod(base, card_public_key, mod)\n",
        "  return pow_mod(door_public_key, card_loop_size, mod)\n",
        "\n",
        "\n",
        "check_eq(process(s1), 14897079)\n",
        "puzzle.verify(1, process)"
      ],
      "execution_count": 135,
      "outputs": [
        {
          "output_type": "stream",
          "text": [
            "(Part 1: 0.001 s)\n"
          ],
          "name": "stdout"
        }
      ]
    },
    {
      "cell_type": "markdown",
      "metadata": {
        "id": "9zdRajWRpyhN"
      },
      "source": [
        "Part 2"
      ]
    },
    {
      "cell_type": "code",
      "metadata": {
        "colab": {
          "base_uri": "https://localhost:8080/"
        },
        "id": "PuP7tmdj3-W6",
        "outputId": "ae17e3ae-212a-4b12-fb91-8ef90dd0321b"
      },
      "source": [
        "puzzle.verify(2, lambda x: 'no_part2_on_last_day')"
      ],
      "execution_count": 136,
      "outputs": [
        {
          "output_type": "stream",
          "text": [
            "(Part 2: 0.000 s)\n"
          ],
          "name": "stdout"
        }
      ]
    },
    {
      "cell_type": "markdown",
      "metadata": {
        "id": "If8mZUwzx1Id"
      },
      "source": [
        "<a name=\"timings\"></a>\n",
        "## Timings"
      ]
    },
    {
      "cell_type": "code",
      "metadata": {
        "colab": {
          "base_uri": "https://localhost:8080/"
        },
        "id": "aTzBo92e5pb3",
        "outputId": "23f811a9-a3bc-4074-8462-07f1056d7861"
      },
      "source": [
        "advent.show_times()"
      ],
      "execution_count": 137,
      "outputs": [
        {
          "output_type": "stream",
          "text": [
            "day_1    part_1: 0.001   part_2: 0.001\n",
            "day_2    part_1: 0.007   part_2: 0.001\n",
            "day_3    part_1: 0.001   part_2: 0.002\n",
            "day_4    part_1: 0.001   part_2: 0.005\n",
            "day_5    part_1: 0.002   part_2: 0.002\n",
            "day_6    part_1: 0.001   part_2: 0.002\n",
            "day_7    part_1: 0.003   part_2: 0.005\n",
            "day_8    part_1: 0.000   part_2: 0.014\n",
            "day_9    part_1: 0.003   part_2: 0.004\n",
            "day_10   part_1: 0.000   part_2: 0.000\n",
            "day_11   part_1: 0.061   part_2: 0.053\n",
            "day_12   part_1: 0.001   part_2: 0.000\n",
            "day_13   part_1: 0.000   part_2: 0.000\n",
            "day_14   part_1: 0.002   part_2: 0.039\n",
            "day_15   part_1: 0.000   part_2: 1.329\n",
            "day_16   part_1: 0.007   part_2: 0.045\n",
            "day_17   part_1: 0.007   part_2: 0.221\n",
            "day_18   part_1: 0.006   part_2: 0.009\n",
            "day_19   part_1: 0.071   part_2: 0.336\n",
            "day_20   part_1: 0.011   part_2: 0.034\n",
            "day_21   part_1: 0.002   part_2: 0.001\n",
            "day_22   part_1: 0.000   part_2: 1.254\n",
            "day_23   part_1: 0.006   part_2: 0.923\n",
            "day_24   part_1: 0.003   part_2: 0.473\n",
            "day_25   part_1: 0.001   part_2: 0.000\n",
            "Total time:  4.953 s\n"
          ],
          "name": "stdout"
        }
      ]
    },
    {
      "cell_type": "code",
      "metadata": {
        "id": "NZuIFHku84A6",
        "colab": {
          "base_uri": "https://localhost:8080/"
        },
        "outputId": "94aa2ad9-f308-47ae-b2c2-3521d0881c19"
      },
      "source": [
        "if 0:  # Compute min execution times over several calls.\n",
        "  advent.show_times(recompute=True, repeat=3)"
      ],
      "execution_count": 138,
      "outputs": [
        {
          "output_type": "stream",
          "text": [
            "(Computing min times over 3 calls.)\n",
            "day_1    part_1: 0.000   part_2: 0.003\n",
            "day_2    part_1: 0.003   part_2: 0.001\n",
            "day_3    part_1: 0.000   part_2: 0.001\n",
            "day_4    part_1: 0.001   part_2: 0.005\n",
            "day_5    part_1: 0.001   part_2: 0.002\n",
            "day_6    part_1: 0.001   part_2: 0.002\n",
            "day_7    part_1: 0.003   part_2: 0.002\n",
            "day_8    part_1: 0.000   part_2: 0.011\n",
            "day_9    part_1: 0.002   part_2: 0.002\n",
            "day_10   part_1: 0.000   part_2: 0.000\n",
            "day_11   part_1: 0.050   part_2: 0.054\n",
            "day_12   part_1: 0.001   part_2: 0.000\n",
            "day_13   part_1: 0.000   part_2: 0.000\n",
            "day_14   part_1: 0.001   part_2: 0.022\n",
            "day_15   part_1: 0.000   part_2: 1.315\n",
            "day_16   part_1: 0.005   part_2: 0.043\n",
            "day_17   part_1: 0.007   part_2: 0.185\n",
            "day_18   part_1: 0.004   part_2: 0.005\n",
            "day_19   part_1: 0.068   part_2: 0.317\n",
            "day_20   part_1: 0.010   part_2: 0.030\n",
            "day_21   part_1: 0.001   part_2: 0.001\n",
            "day_22   part_1: 0.000   part_2: 1.136\n",
            "day_23   part_1: 0.006   part_2: 0.888\n",
            "day_24   part_1: 0.002   part_2: 0.431\n",
            "day_25   part_1: 0.001   part_2: 0.000\n",
            "Total time:  4.624 s\n"
          ],
          "name": "stdout"
        }
      ]
    },
    {
      "cell_type": "code",
      "metadata": {
        "id": "0nio3urkmwZF"
      },
      "source": [
        "if 0:  # Look for unwanted pollution of namespace.\n",
        "  print(textwrap.fill(' '.join(var for var, value in globals().items() if (\n",
        "      not var.startswith('_') and not repr(value).startswith(\n",
        "          ('<module', '<class', 'typing.', 'functools.partial('))))))"
      ],
      "execution_count": 139,
      "outputs": []
    },
    {
      "cell_type": "code",
      "metadata": {
        "id": "IL1QiMdOA8Fk"
      },
      "source": [
        "if 0:  # Print the answers to update an external file\n",
        "  print(json.dumps(advent.answers, sort_keys=True, indent=2))"
      ],
      "execution_count": 140,
      "outputs": []
    },
    {
      "cell_type": "markdown",
      "metadata": {
        "id": "GtTzv1y282IP"
      },
      "source": [
        "# End"
      ]
    }
  ]
}